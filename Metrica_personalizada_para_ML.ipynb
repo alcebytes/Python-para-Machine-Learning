{
  "nbformat": 4,
  "nbformat_minor": 0,
  "metadata": {
    "colab": {
      "name": "Metrica personalizada para ML",
      "provenance": [],
      "collapsed_sections": [],
      "authorship_tag": "ABX9TyPGuwu+Bmxr9V/8Qu7JFCyT",
      "include_colab_link": true
    },
    "kernelspec": {
      "name": "python3",
      "display_name": "Python 3"
    }
  },
  "cells": [
    {
      "cell_type": "markdown",
      "metadata": {
        "id": "view-in-github",
        "colab_type": "text"
      },
      "source": [
        "<a href=\"https://colab.research.google.com/github/ricardorocha86/Python-para-Machine-Learning/blob/master/Metrica_personalizada_para_ML.ipynb\" target=\"_parent\"><img src=\"https://colab.research.google.com/assets/colab-badge.svg\" alt=\"Open In Colab\"/></a>"
      ]
    },
    {
      "cell_type": "markdown",
      "metadata": {
        "id": "7utdAe5d2sLN"
      },
      "source": [
        "![texto alternativo](https://github.com/gitflai/imagens/blob/main/capa.jpg?raw=true)"
      ]
    },
    {
      "cell_type": "markdown",
      "metadata": {
        "id": "VCPmNK__4ryO"
      },
      "source": [
        "\n",
        "\n",
        "---\n",
        "\n"
      ]
    },
    {
      "cell_type": "markdown",
      "metadata": {
        "id": "0Z4Go_M720Y4"
      },
      "source": [
        "## **Métricas para Classificação Binária**"
      ]
    },
    {
      "cell_type": "code",
      "metadata": {
        "id": "wwhT9yFV4vuS"
      },
      "source": [
        "import pandas as pd\n",
        "import numpy as np"
      ],
      "execution_count": null,
      "outputs": []
    },
    {
      "cell_type": "code",
      "metadata": {
        "id": "xwzWV5roWp-R"
      },
      "source": [
        "url1 = 'https://raw.githubusercontent.com/ricardorocha86/Datasets/master/Titanic/train.csv' \n",
        "titanic = pd.read_csv(url1) "
      ],
      "execution_count": null,
      "outputs": []
    },
    {
      "cell_type": "code",
      "metadata": {
        "id": "eUeh-zd34wLk"
      },
      "source": [
        "teste1 = titanic['Sex'].map({'male': 0, 'female': 1})"
      ],
      "execution_count": null,
      "outputs": []
    },
    {
      "cell_type": "code",
      "metadata": {
        "id": "A6xlGADLpmKd"
      },
      "source": [
        "from sklearn.metrics import confusion_matrix "
      ],
      "execution_count": null,
      "outputs": []
    },
    {
      "cell_type": "code",
      "metadata": {
        "id": "lH-Zb7bYvgV8"
      },
      "source": [
        "mc = confusion_matrix(titanic['Survived'], teste1)"
      ],
      "execution_count": null,
      "outputs": []
    },
    {
      "cell_type": "code",
      "metadata": {
        "id": "khCtOQ6EyFKG",
        "colab": {
          "base_uri": "https://localhost:8080/"
        },
        "outputId": "398a7174-d45c-40da-c32d-0f26ce2b270e"
      },
      "source": [
        "mc"
      ],
      "execution_count": null,
      "outputs": [
        {
          "output_type": "execute_result",
          "data": {
            "text/plain": [
              "array([[468,  81],\n",
              "       [109, 233]])"
            ]
          },
          "metadata": {
            "tags": []
          },
          "execution_count": 104
        }
      ]
    },
    {
      "cell_type": "code",
      "metadata": {
        "id": "tC8k2TWXtaCu",
        "colab": {
          "base_uri": "https://localhost:8080/"
        },
        "outputId": "a831bf42-8f69-4522-a9d1-1220a861ad24"
      },
      "source": [
        "vn, fp, fn, vp = mc.flatten()\n",
        "\n",
        "print('VP: {}'.format(vp))\n",
        "print('VN: {}'.format(vn))\n",
        "print('FP: {}'.format(fp))\n",
        "print('FN: {}'.format(fn))\n",
        "print('\\nTOTAL: {}'.format(fn+fp+vn+vp))"
      ],
      "execution_count": null,
      "outputs": [
        {
          "output_type": "stream",
          "text": [
            "VP: 233\n",
            "VN: 468\n",
            "FP: 81\n",
            "FN: 109\n",
            "\n",
            "TOTAL: 891\n"
          ],
          "name": "stdout"
        }
      ]
    },
    {
      "cell_type": "code",
      "metadata": {
        "id": "j7qIlvRhxi54"
      },
      "source": [
        "def MetricasClassBinaria(observado, predito, custo = None):\n",
        "    mc = confusion_matrix(observado, predito)\n",
        "    vn, fp, fn, vp = mc.flatten()\n",
        "\n",
        "    pre = observado.mean()\n",
        "    acc = (vn + vp)/(vn + fp + fn + vp) \n",
        "    sen = vp/(vp + fn)\n",
        "    esp = vn/(vn + fp)\n",
        "    vpp = vp/(vp + fp)\n",
        "    vpn = vn/(vn + fn) \n",
        "    mcc = (vp*vn - fp*fn)/np.sqrt((vp + fp)*(vp + fn)*(vn + fp)*(vn + fn))\n",
        "    f1s = 2*vpp*sen/(vpp + sen) \n",
        "    efi = (sen + esp)/2\n",
        "\n",
        "    print('  Prevalência de Positivos: {:.4f}'.format(pre))\n",
        "    print('                  Acurácia: {:.4f}'.format(acc))\n",
        "    print('             Sensibilidade: {:.4f}'.format(sen))\n",
        "    print('            Especificidade: {:.4f}'.format(esp))\n",
        "    print('  Valor Preditivo Positivo: {:.4f}'.format(vpp))\n",
        "    print('  Valor Preditivo Negativo: {:.4f}'.format(vpn))\n",
        "    print('Coef. de Corr. de Matthews: {:.4f}'.format(mcc))\n",
        "    print('                  F1-Score: {:.4f}'.format(f1s))\n",
        "    print('                Eficiência: {:.4f}'.format(efi))\n",
        " \n",
        "\n",
        "    metricas = {'prevalência': pre, 'acurácia': acc, 'sensibilidade': sen, \n",
        "            'especificidade': esp, 'vpp': vpp, 'vpn': vpn, 'mcc': mcc,\n",
        "            'f1-score': f1s, 'eficiência': efi}\n",
        "\n",
        "    if custo is not None:\n",
        "        cost = (mc * np.array(custo).reshape(2,2)).sum()\n",
        "        print('\\n                     Custo: {}'.format(cost))\n",
        "        metricas['custo'] = cost\n",
        "\n",
        "    return metricas"
      ],
      "execution_count": null,
      "outputs": []
    },
    {
      "cell_type": "code",
      "metadata": {
        "id": "f1jm1adY1PLI",
        "colab": {
          "base_uri": "https://localhost:8080/"
        },
        "outputId": "49539ce9-9a53-4181-dafb-1bd0602f49f5"
      },
      "source": [
        "metricas = MetricasClassBinaria(titanic['Survived'], teste1, [1, -1, 20, 2])"
      ],
      "execution_count": null,
      "outputs": [
        {
          "output_type": "stream",
          "text": [
            "  Prevalência de Positivos: 0.3838\n",
            "                  Acurácia: 0.7868\n",
            "             Sensibilidade: 0.6813\n",
            "            Especificidade: 0.8525\n",
            "  Valor Preditivo Positivo: 0.7420\n",
            "  Valor Preditivo Negativo: 0.8111\n",
            "Coef. de Corr. de Matthews: 0.5434\n",
            "                  F1-Score: 0.7104\n",
            "                Eficiência: 0.7669\n",
            "\n",
            "                     Custo: 3033\n"
          ],
          "name": "stdout"
        }
      ]
    },
    {
      "cell_type": "code",
      "metadata": {
        "id": "Iw1pM8ho4CQw",
        "colab": {
          "base_uri": "https://localhost:8080/"
        },
        "outputId": "b28e9d87-cbad-4052-c221-312ea18a60b1"
      },
      "source": [
        "metricas"
      ],
      "execution_count": null,
      "outputs": [
        {
          "output_type": "execute_result",
          "data": {
            "text/plain": [
              "{'acurácia': 0.7867564534231201,\n",
              " 'custo': 3033,\n",
              " 'eficiência': 0.7668727830505224,\n",
              " 'especificidade': 0.8524590163934426,\n",
              " 'f1-score': 0.7103658536585367,\n",
              " 'mcc': 0.5433513806577551,\n",
              " 'prevalência': 0.3838383838383838,\n",
              " 'sensibilidade': 0.6812865497076024,\n",
              " 'vpn': 0.8110918544194108,\n",
              " 'vpp': 0.7420382165605095}"
            ]
          },
          "metadata": {
            "tags": []
          },
          "execution_count": 108
        }
      ]
    },
    {
      "cell_type": "code",
      "metadata": {
        "id": "WrFVEL8E6BCm"
      },
      "source": [
        ""
      ],
      "execution_count": null,
      "outputs": []
    },
    {
      "cell_type": "markdown",
      "metadata": {
        "id": "Kt3NH9w2QbrO"
      },
      "source": [
        "\n",
        "\n",
        "---\n",
        "\n"
      ]
    },
    {
      "cell_type": "markdown",
      "metadata": {
        "id": "zmJAvGN0QceR"
      },
      "source": [
        "## **Exemplo Final: Modelagem de Churn**"
      ]
    },
    {
      "cell_type": "code",
      "metadata": {
        "id": "Az78uyadQhjI",
        "colab": {
          "base_uri": "https://localhost:8080/",
          "height": 226
        },
        "outputId": "7b310365-7d9a-47c4-ea33-15add2bcc5b8"
      },
      "source": [
        "url = 'https://raw.githubusercontent.com/ricardorocha86/Datasets/master/Churn/churn.csv'\n",
        "churn = pd.read_csv(url)\n",
        "churn.head()"
      ],
      "execution_count": null,
      "outputs": [
        {
          "output_type": "execute_result",
          "data": {
            "text/html": [
              "<div>\n",
              "<style scoped>\n",
              "    .dataframe tbody tr th:only-of-type {\n",
              "        vertical-align: middle;\n",
              "    }\n",
              "\n",
              "    .dataframe tbody tr th {\n",
              "        vertical-align: top;\n",
              "    }\n",
              "\n",
              "    .dataframe thead th {\n",
              "        text-align: right;\n",
              "    }\n",
              "</style>\n",
              "<table border=\"1\" class=\"dataframe\">\n",
              "  <thead>\n",
              "    <tr style=\"text-align: right;\">\n",
              "      <th></th>\n",
              "      <th>RowNumber</th>\n",
              "      <th>CustomerId</th>\n",
              "      <th>Surname</th>\n",
              "      <th>CreditScore</th>\n",
              "      <th>Geography</th>\n",
              "      <th>Gender</th>\n",
              "      <th>Age</th>\n",
              "      <th>Tenure</th>\n",
              "      <th>Balance</th>\n",
              "      <th>NumOfProducts</th>\n",
              "      <th>HasCrCard</th>\n",
              "      <th>IsActiveMember</th>\n",
              "      <th>EstimatedSalary</th>\n",
              "      <th>Exited</th>\n",
              "    </tr>\n",
              "  </thead>\n",
              "  <tbody>\n",
              "    <tr>\n",
              "      <th>0</th>\n",
              "      <td>1</td>\n",
              "      <td>15634602</td>\n",
              "      <td>Hargrave</td>\n",
              "      <td>619</td>\n",
              "      <td>France</td>\n",
              "      <td>Female</td>\n",
              "      <td>42</td>\n",
              "      <td>2</td>\n",
              "      <td>0.00</td>\n",
              "      <td>1</td>\n",
              "      <td>1</td>\n",
              "      <td>1</td>\n",
              "      <td>101348.88</td>\n",
              "      <td>1</td>\n",
              "    </tr>\n",
              "    <tr>\n",
              "      <th>1</th>\n",
              "      <td>2</td>\n",
              "      <td>15647311</td>\n",
              "      <td>Hill</td>\n",
              "      <td>608</td>\n",
              "      <td>Spain</td>\n",
              "      <td>Female</td>\n",
              "      <td>41</td>\n",
              "      <td>1</td>\n",
              "      <td>83807.86</td>\n",
              "      <td>1</td>\n",
              "      <td>0</td>\n",
              "      <td>1</td>\n",
              "      <td>112542.58</td>\n",
              "      <td>0</td>\n",
              "    </tr>\n",
              "    <tr>\n",
              "      <th>2</th>\n",
              "      <td>3</td>\n",
              "      <td>15619304</td>\n",
              "      <td>Onio</td>\n",
              "      <td>502</td>\n",
              "      <td>France</td>\n",
              "      <td>Female</td>\n",
              "      <td>42</td>\n",
              "      <td>8</td>\n",
              "      <td>159660.80</td>\n",
              "      <td>3</td>\n",
              "      <td>1</td>\n",
              "      <td>0</td>\n",
              "      <td>113931.57</td>\n",
              "      <td>1</td>\n",
              "    </tr>\n",
              "    <tr>\n",
              "      <th>3</th>\n",
              "      <td>4</td>\n",
              "      <td>15701354</td>\n",
              "      <td>Boni</td>\n",
              "      <td>699</td>\n",
              "      <td>France</td>\n",
              "      <td>Female</td>\n",
              "      <td>39</td>\n",
              "      <td>1</td>\n",
              "      <td>0.00</td>\n",
              "      <td>2</td>\n",
              "      <td>0</td>\n",
              "      <td>0</td>\n",
              "      <td>93826.63</td>\n",
              "      <td>0</td>\n",
              "    </tr>\n",
              "    <tr>\n",
              "      <th>4</th>\n",
              "      <td>5</td>\n",
              "      <td>15737888</td>\n",
              "      <td>Mitchell</td>\n",
              "      <td>850</td>\n",
              "      <td>Spain</td>\n",
              "      <td>Female</td>\n",
              "      <td>43</td>\n",
              "      <td>2</td>\n",
              "      <td>125510.82</td>\n",
              "      <td>1</td>\n",
              "      <td>1</td>\n",
              "      <td>1</td>\n",
              "      <td>79084.10</td>\n",
              "      <td>0</td>\n",
              "    </tr>\n",
              "  </tbody>\n",
              "</table>\n",
              "</div>"
            ],
            "text/plain": [
              "   RowNumber  CustomerId   Surname  ...  IsActiveMember EstimatedSalary Exited\n",
              "0          1    15634602  Hargrave  ...               1       101348.88      1\n",
              "1          2    15647311      Hill  ...               1       112542.58      0\n",
              "2          3    15619304      Onio  ...               0       113931.57      1\n",
              "3          4    15701354      Boni  ...               0        93826.63      0\n",
              "4          5    15737888  Mitchell  ...               1        79084.10      0\n",
              "\n",
              "[5 rows x 14 columns]"
            ]
          },
          "metadata": {
            "tags": []
          },
          "execution_count": 110
        }
      ]
    },
    {
      "cell_type": "markdown",
      "metadata": {
        "id": "5SfHWbEzRZk6"
      },
      "source": [
        "### Análise Exploratória de Dados Básica"
      ]
    },
    {
      "cell_type": "code",
      "metadata": {
        "id": "w9x-i9ofRgoJ",
        "colab": {
          "base_uri": "https://localhost:8080/"
        },
        "outputId": "5a16db14-b5d7-427c-a69e-2c9168672f38"
      },
      "source": [
        "churn.info()"
      ],
      "execution_count": null,
      "outputs": [
        {
          "output_type": "stream",
          "text": [
            "<class 'pandas.core.frame.DataFrame'>\n",
            "RangeIndex: 10000 entries, 0 to 9999\n",
            "Data columns (total 14 columns):\n",
            " #   Column           Non-Null Count  Dtype  \n",
            "---  ------           --------------  -----  \n",
            " 0   RowNumber        10000 non-null  int64  \n",
            " 1   CustomerId       10000 non-null  int64  \n",
            " 2   Surname          10000 non-null  object \n",
            " 3   CreditScore      10000 non-null  int64  \n",
            " 4   Geography        10000 non-null  object \n",
            " 5   Gender           10000 non-null  object \n",
            " 6   Age              10000 non-null  int64  \n",
            " 7   Tenure           10000 non-null  int64  \n",
            " 8   Balance          10000 non-null  float64\n",
            " 9   NumOfProducts    10000 non-null  int64  \n",
            " 10  HasCrCard        10000 non-null  int64  \n",
            " 11  IsActiveMember   10000 non-null  int64  \n",
            " 12  EstimatedSalary  10000 non-null  float64\n",
            " 13  Exited           10000 non-null  int64  \n",
            "dtypes: float64(2), int64(9), object(3)\n",
            "memory usage: 1.1+ MB\n"
          ],
          "name": "stdout"
        }
      ]
    },
    {
      "cell_type": "code",
      "metadata": {
        "id": "z9CL4Tj7RlqB",
        "colab": {
          "base_uri": "https://localhost:8080/"
        },
        "outputId": "03f5aca8-1a77-4bae-b1fd-3a6ad1dcf7e8"
      },
      "source": [
        "churn.isnull().sum()"
      ],
      "execution_count": null,
      "outputs": [
        {
          "output_type": "execute_result",
          "data": {
            "text/plain": [
              "RowNumber          0\n",
              "CustomerId         0\n",
              "Surname            0\n",
              "CreditScore        0\n",
              "Geography          0\n",
              "Gender             0\n",
              "Age                0\n",
              "Tenure             0\n",
              "Balance            0\n",
              "NumOfProducts      0\n",
              "HasCrCard          0\n",
              "IsActiveMember     0\n",
              "EstimatedSalary    0\n",
              "Exited             0\n",
              "dtype: int64"
            ]
          },
          "metadata": {
            "tags": []
          },
          "execution_count": 112
        }
      ]
    },
    {
      "cell_type": "code",
      "metadata": {
        "id": "LyhZJNFBHPAf"
      },
      "source": [
        "!pip install sweetviz"
      ],
      "execution_count": null,
      "outputs": []
    },
    {
      "cell_type": "code",
      "metadata": {
        "id": "t_BLjf0eHOCm"
      },
      "source": [
        "import sweetviz "
      ],
      "execution_count": null,
      "outputs": []
    },
    {
      "cell_type": "code",
      "metadata": {
        "id": "XHzabtjKJzBg"
      },
      "source": [
        "eda = sweetviz.compare_intra(churn, churn['Exited'] == 0, ['Cliente', 'Ex-Cliente'])\n",
        "eda.show_html()"
      ],
      "execution_count": null,
      "outputs": []
    },
    {
      "cell_type": "markdown",
      "metadata": {
        "id": "yX9QZY5iRowi"
      },
      "source": [
        "### Pré-processamento dos Dados"
      ]
    },
    {
      "cell_type": "markdown",
      "metadata": {
        "id": "xPOK_S9mSfr6"
      },
      "source": [
        "#### 1. Novas Variáveis"
      ]
    },
    {
      "cell_type": "code",
      "metadata": {
        "id": "Cmyw0RxfUm4g"
      },
      "source": [
        "def aux1(x):\n",
        "    if x == 0:\n",
        "        return 'zero'\n",
        "    elif x < 100000:\n",
        "        return '0-100k'\n",
        "    else:\n",
        "        return '100k+'\n",
        "\n",
        "churn['Saldo'] = churn['Balance'].apply(aux1)"
      ],
      "execution_count": null,
      "outputs": []
    },
    {
      "cell_type": "code",
      "metadata": {
        "id": "7EHU-YyMVZP-"
      },
      "source": [
        "def aux2(x):\n",
        "    if x < 3:\n",
        "        return '0-2'\n",
        "    elif x < 8:\n",
        "        return '3-7'\n",
        "    else:\n",
        "        return '8+'\n",
        "\n",
        "churn['Tempo'] = churn['Tenure'].apply(aux2)"
      ],
      "execution_count": null,
      "outputs": []
    },
    {
      "cell_type": "code",
      "metadata": {
        "id": "O8dgtPQZXBiA"
      },
      "source": [
        "def aux3(x):\n",
        "    if x == 1:\n",
        "        return '1'\n",
        "    elif x == 2:\n",
        "        return '2'\n",
        "    else:\n",
        "        return '3+'\n",
        "\n",
        "churn['Produtos'] = churn['NumOfProducts'].apply(aux3)"
      ],
      "execution_count": null,
      "outputs": []
    },
    {
      "cell_type": "code",
      "metadata": {
        "id": "TK4cof6XWjpW",
        "colab": {
          "base_uri": "https://localhost:8080/",
          "height": 226
        },
        "outputId": "be06a8e0-4948-4fab-967d-d84a4836fe7d"
      },
      "source": [
        "churn.head()"
      ],
      "execution_count": null,
      "outputs": [
        {
          "output_type": "execute_result",
          "data": {
            "text/html": [
              "<div>\n",
              "<style scoped>\n",
              "    .dataframe tbody tr th:only-of-type {\n",
              "        vertical-align: middle;\n",
              "    }\n",
              "\n",
              "    .dataframe tbody tr th {\n",
              "        vertical-align: top;\n",
              "    }\n",
              "\n",
              "    .dataframe thead th {\n",
              "        text-align: right;\n",
              "    }\n",
              "</style>\n",
              "<table border=\"1\" class=\"dataframe\">\n",
              "  <thead>\n",
              "    <tr style=\"text-align: right;\">\n",
              "      <th></th>\n",
              "      <th>RowNumber</th>\n",
              "      <th>CustomerId</th>\n",
              "      <th>Surname</th>\n",
              "      <th>CreditScore</th>\n",
              "      <th>Geography</th>\n",
              "      <th>Gender</th>\n",
              "      <th>Age</th>\n",
              "      <th>Tenure</th>\n",
              "      <th>Balance</th>\n",
              "      <th>NumOfProducts</th>\n",
              "      <th>HasCrCard</th>\n",
              "      <th>IsActiveMember</th>\n",
              "      <th>EstimatedSalary</th>\n",
              "      <th>Exited</th>\n",
              "      <th>Saldo</th>\n",
              "      <th>Tempo</th>\n",
              "      <th>Produtos</th>\n",
              "    </tr>\n",
              "  </thead>\n",
              "  <tbody>\n",
              "    <tr>\n",
              "      <th>0</th>\n",
              "      <td>1</td>\n",
              "      <td>15634602</td>\n",
              "      <td>Hargrave</td>\n",
              "      <td>619</td>\n",
              "      <td>France</td>\n",
              "      <td>Female</td>\n",
              "      <td>42</td>\n",
              "      <td>2</td>\n",
              "      <td>0.00</td>\n",
              "      <td>1</td>\n",
              "      <td>1</td>\n",
              "      <td>1</td>\n",
              "      <td>101348.88</td>\n",
              "      <td>1</td>\n",
              "      <td>zero</td>\n",
              "      <td>0-2</td>\n",
              "      <td>1</td>\n",
              "    </tr>\n",
              "    <tr>\n",
              "      <th>1</th>\n",
              "      <td>2</td>\n",
              "      <td>15647311</td>\n",
              "      <td>Hill</td>\n",
              "      <td>608</td>\n",
              "      <td>Spain</td>\n",
              "      <td>Female</td>\n",
              "      <td>41</td>\n",
              "      <td>1</td>\n",
              "      <td>83807.86</td>\n",
              "      <td>1</td>\n",
              "      <td>0</td>\n",
              "      <td>1</td>\n",
              "      <td>112542.58</td>\n",
              "      <td>0</td>\n",
              "      <td>0-100k</td>\n",
              "      <td>0-2</td>\n",
              "      <td>1</td>\n",
              "    </tr>\n",
              "    <tr>\n",
              "      <th>2</th>\n",
              "      <td>3</td>\n",
              "      <td>15619304</td>\n",
              "      <td>Onio</td>\n",
              "      <td>502</td>\n",
              "      <td>France</td>\n",
              "      <td>Female</td>\n",
              "      <td>42</td>\n",
              "      <td>8</td>\n",
              "      <td>159660.80</td>\n",
              "      <td>3</td>\n",
              "      <td>1</td>\n",
              "      <td>0</td>\n",
              "      <td>113931.57</td>\n",
              "      <td>1</td>\n",
              "      <td>100k+</td>\n",
              "      <td>8+</td>\n",
              "      <td>3+</td>\n",
              "    </tr>\n",
              "    <tr>\n",
              "      <th>3</th>\n",
              "      <td>4</td>\n",
              "      <td>15701354</td>\n",
              "      <td>Boni</td>\n",
              "      <td>699</td>\n",
              "      <td>France</td>\n",
              "      <td>Female</td>\n",
              "      <td>39</td>\n",
              "      <td>1</td>\n",
              "      <td>0.00</td>\n",
              "      <td>2</td>\n",
              "      <td>0</td>\n",
              "      <td>0</td>\n",
              "      <td>93826.63</td>\n",
              "      <td>0</td>\n",
              "      <td>zero</td>\n",
              "      <td>0-2</td>\n",
              "      <td>2</td>\n",
              "    </tr>\n",
              "    <tr>\n",
              "      <th>4</th>\n",
              "      <td>5</td>\n",
              "      <td>15737888</td>\n",
              "      <td>Mitchell</td>\n",
              "      <td>850</td>\n",
              "      <td>Spain</td>\n",
              "      <td>Female</td>\n",
              "      <td>43</td>\n",
              "      <td>2</td>\n",
              "      <td>125510.82</td>\n",
              "      <td>1</td>\n",
              "      <td>1</td>\n",
              "      <td>1</td>\n",
              "      <td>79084.10</td>\n",
              "      <td>0</td>\n",
              "      <td>100k+</td>\n",
              "      <td>0-2</td>\n",
              "      <td>1</td>\n",
              "    </tr>\n",
              "  </tbody>\n",
              "</table>\n",
              "</div>"
            ],
            "text/plain": [
              "   RowNumber  CustomerId   Surname  CreditScore  ... Exited   Saldo  Tempo  Produtos\n",
              "0          1    15634602  Hargrave          619  ...      1    zero    0-2         1\n",
              "1          2    15647311      Hill          608  ...      0  0-100k    0-2         1\n",
              "2          3    15619304      Onio          502  ...      1   100k+     8+        3+\n",
              "3          4    15701354      Boni          699  ...      0    zero    0-2         2\n",
              "4          5    15737888  Mitchell          850  ...      0   100k+    0-2         1\n",
              "\n",
              "[5 rows x 17 columns]"
            ]
          },
          "metadata": {
            "tags": []
          },
          "execution_count": 119
        }
      ]
    },
    {
      "cell_type": "markdown",
      "metadata": {
        "id": "ZrkKYUgRSZ6g"
      },
      "source": [
        "#### 2. Dropando Variáveis"
      ]
    },
    {
      "cell_type": "code",
      "metadata": {
        "id": "-zU0VcXWSe1p"
      },
      "source": [
        "churn.drop(['RowNumber', 'CustomerId', 'Surname', 'Balance', 'Tenure', 'NumOfProducts'], axis = 1, inplace = True)"
      ],
      "execution_count": null,
      "outputs": []
    },
    {
      "cell_type": "code",
      "metadata": {
        "id": "gqw6pDvjSd8J"
      },
      "source": [
        "churn.head()"
      ],
      "execution_count": null,
      "outputs": []
    },
    {
      "cell_type": "markdown",
      "metadata": {
        "id": "Ph-cI3VQSfr5"
      },
      "source": [
        "#### 3. Dummificações"
      ]
    },
    {
      "cell_type": "code",
      "metadata": {
        "id": "EYJ830t8ShXE"
      },
      "source": [
        "churn = pd.get_dummies(churn, columns = ['Geography', 'Gender', 'Saldo', 'Tempo', 'Produtos'], drop_first = True)"
      ],
      "execution_count": null,
      "outputs": []
    },
    {
      "cell_type": "markdown",
      "metadata": {
        "id": "xt1ZloEJl9xW"
      },
      "source": [
        ""
      ]
    },
    {
      "cell_type": "code",
      "metadata": {
        "id": "EDUODYnyShZ4",
        "colab": {
          "base_uri": "https://localhost:8080/",
          "height": 226
        },
        "outputId": "6e634934-53e4-41c0-bb62-5ed9d29b4a42"
      },
      "source": [
        "churn.head()"
      ],
      "execution_count": null,
      "outputs": [
        {
          "output_type": "execute_result",
          "data": {
            "text/html": [
              "<div>\n",
              "<style scoped>\n",
              "    .dataframe tbody tr th:only-of-type {\n",
              "        vertical-align: middle;\n",
              "    }\n",
              "\n",
              "    .dataframe tbody tr th {\n",
              "        vertical-align: top;\n",
              "    }\n",
              "\n",
              "    .dataframe thead th {\n",
              "        text-align: right;\n",
              "    }\n",
              "</style>\n",
              "<table border=\"1\" class=\"dataframe\">\n",
              "  <thead>\n",
              "    <tr style=\"text-align: right;\">\n",
              "      <th></th>\n",
              "      <th>CreditScore</th>\n",
              "      <th>Age</th>\n",
              "      <th>HasCrCard</th>\n",
              "      <th>IsActiveMember</th>\n",
              "      <th>EstimatedSalary</th>\n",
              "      <th>Exited</th>\n",
              "      <th>Geography_Germany</th>\n",
              "      <th>Geography_Spain</th>\n",
              "      <th>Gender_Male</th>\n",
              "      <th>Saldo_100k+</th>\n",
              "      <th>Saldo_zero</th>\n",
              "      <th>Tempo_3-7</th>\n",
              "      <th>Tempo_8+</th>\n",
              "      <th>Produtos_2</th>\n",
              "      <th>Produtos_3+</th>\n",
              "    </tr>\n",
              "  </thead>\n",
              "  <tbody>\n",
              "    <tr>\n",
              "      <th>0</th>\n",
              "      <td>619</td>\n",
              "      <td>42</td>\n",
              "      <td>1</td>\n",
              "      <td>1</td>\n",
              "      <td>101348.88</td>\n",
              "      <td>1</td>\n",
              "      <td>0</td>\n",
              "      <td>0</td>\n",
              "      <td>0</td>\n",
              "      <td>0</td>\n",
              "      <td>1</td>\n",
              "      <td>0</td>\n",
              "      <td>0</td>\n",
              "      <td>0</td>\n",
              "      <td>0</td>\n",
              "    </tr>\n",
              "    <tr>\n",
              "      <th>1</th>\n",
              "      <td>608</td>\n",
              "      <td>41</td>\n",
              "      <td>0</td>\n",
              "      <td>1</td>\n",
              "      <td>112542.58</td>\n",
              "      <td>0</td>\n",
              "      <td>0</td>\n",
              "      <td>1</td>\n",
              "      <td>0</td>\n",
              "      <td>0</td>\n",
              "      <td>0</td>\n",
              "      <td>0</td>\n",
              "      <td>0</td>\n",
              "      <td>0</td>\n",
              "      <td>0</td>\n",
              "    </tr>\n",
              "    <tr>\n",
              "      <th>2</th>\n",
              "      <td>502</td>\n",
              "      <td>42</td>\n",
              "      <td>1</td>\n",
              "      <td>0</td>\n",
              "      <td>113931.57</td>\n",
              "      <td>1</td>\n",
              "      <td>0</td>\n",
              "      <td>0</td>\n",
              "      <td>0</td>\n",
              "      <td>1</td>\n",
              "      <td>0</td>\n",
              "      <td>0</td>\n",
              "      <td>1</td>\n",
              "      <td>0</td>\n",
              "      <td>1</td>\n",
              "    </tr>\n",
              "    <tr>\n",
              "      <th>3</th>\n",
              "      <td>699</td>\n",
              "      <td>39</td>\n",
              "      <td>0</td>\n",
              "      <td>0</td>\n",
              "      <td>93826.63</td>\n",
              "      <td>0</td>\n",
              "      <td>0</td>\n",
              "      <td>0</td>\n",
              "      <td>0</td>\n",
              "      <td>0</td>\n",
              "      <td>1</td>\n",
              "      <td>0</td>\n",
              "      <td>0</td>\n",
              "      <td>1</td>\n",
              "      <td>0</td>\n",
              "    </tr>\n",
              "    <tr>\n",
              "      <th>4</th>\n",
              "      <td>850</td>\n",
              "      <td>43</td>\n",
              "      <td>1</td>\n",
              "      <td>1</td>\n",
              "      <td>79084.10</td>\n",
              "      <td>0</td>\n",
              "      <td>0</td>\n",
              "      <td>1</td>\n",
              "      <td>0</td>\n",
              "      <td>1</td>\n",
              "      <td>0</td>\n",
              "      <td>0</td>\n",
              "      <td>0</td>\n",
              "      <td>0</td>\n",
              "      <td>0</td>\n",
              "    </tr>\n",
              "  </tbody>\n",
              "</table>\n",
              "</div>"
            ],
            "text/plain": [
              "   CreditScore  Age  HasCrCard  ...  Tempo_8+  Produtos_2  Produtos_3+\n",
              "0          619   42          1  ...         0           0            0\n",
              "1          608   41          0  ...         0           0            0\n",
              "2          502   42          1  ...         1           0            1\n",
              "3          699   39          0  ...         0           1            0\n",
              "4          850   43          1  ...         0           0            0\n",
              "\n",
              "[5 rows x 15 columns]"
            ]
          },
          "metadata": {
            "tags": []
          },
          "execution_count": 122
        }
      ]
    },
    {
      "cell_type": "markdown",
      "metadata": {
        "id": "vzM911q_Sf-Q"
      },
      "source": [
        "#### 4. Padronizações"
      ]
    },
    {
      "cell_type": "code",
      "metadata": {
        "id": "DYTMt8Pa5FVr"
      },
      "source": [
        "from sklearn.preprocessing import StandardScaler\n",
        "sc = StandardScaler()"
      ],
      "execution_count": null,
      "outputs": []
    },
    {
      "cell_type": "code",
      "metadata": {
        "id": "Nl9NAL9c77_k"
      },
      "source": [
        "aux0 = sc.fit_transform(churn[['CreditScore', 'Age', 'EstimatedSalary']])\n",
        "aux1 = pd.DataFrame(aux0, columns = ['Escore', 'Idade', 'Salario'])\n",
        "churn = pd.concat([churn, aux1], axis = 1)\n",
        "churn.drop(['CreditScore', 'Age', 'EstimatedSalary'], axis = 1, inplace = True) "
      ],
      "execution_count": null,
      "outputs": []
    },
    {
      "cell_type": "code",
      "metadata": {
        "id": "EHWIRZ6CX7tm",
        "colab": {
          "base_uri": "https://localhost:8080/",
          "height": 226
        },
        "outputId": "890a29d1-0878-4e60-bb4e-ad06c89ddff3"
      },
      "source": [
        "churn.head()"
      ],
      "execution_count": null,
      "outputs": [
        {
          "output_type": "execute_result",
          "data": {
            "text/html": [
              "<div>\n",
              "<style scoped>\n",
              "    .dataframe tbody tr th:only-of-type {\n",
              "        vertical-align: middle;\n",
              "    }\n",
              "\n",
              "    .dataframe tbody tr th {\n",
              "        vertical-align: top;\n",
              "    }\n",
              "\n",
              "    .dataframe thead th {\n",
              "        text-align: right;\n",
              "    }\n",
              "</style>\n",
              "<table border=\"1\" class=\"dataframe\">\n",
              "  <thead>\n",
              "    <tr style=\"text-align: right;\">\n",
              "      <th></th>\n",
              "      <th>HasCrCard</th>\n",
              "      <th>IsActiveMember</th>\n",
              "      <th>Exited</th>\n",
              "      <th>Geography_Germany</th>\n",
              "      <th>Geography_Spain</th>\n",
              "      <th>Gender_Male</th>\n",
              "      <th>Saldo_100k+</th>\n",
              "      <th>Saldo_zero</th>\n",
              "      <th>Tempo_3-7</th>\n",
              "      <th>Tempo_8+</th>\n",
              "      <th>Produtos_2</th>\n",
              "      <th>Produtos_3+</th>\n",
              "      <th>Escore</th>\n",
              "      <th>Idade</th>\n",
              "      <th>Salario</th>\n",
              "    </tr>\n",
              "  </thead>\n",
              "  <tbody>\n",
              "    <tr>\n",
              "      <th>0</th>\n",
              "      <td>1</td>\n",
              "      <td>1</td>\n",
              "      <td>1</td>\n",
              "      <td>0</td>\n",
              "      <td>0</td>\n",
              "      <td>0</td>\n",
              "      <td>0</td>\n",
              "      <td>1</td>\n",
              "      <td>0</td>\n",
              "      <td>0</td>\n",
              "      <td>0</td>\n",
              "      <td>0</td>\n",
              "      <td>-0.326221</td>\n",
              "      <td>0.293517</td>\n",
              "      <td>0.021886</td>\n",
              "    </tr>\n",
              "    <tr>\n",
              "      <th>1</th>\n",
              "      <td>0</td>\n",
              "      <td>1</td>\n",
              "      <td>0</td>\n",
              "      <td>0</td>\n",
              "      <td>1</td>\n",
              "      <td>0</td>\n",
              "      <td>0</td>\n",
              "      <td>0</td>\n",
              "      <td>0</td>\n",
              "      <td>0</td>\n",
              "      <td>0</td>\n",
              "      <td>0</td>\n",
              "      <td>-0.440036</td>\n",
              "      <td>0.198164</td>\n",
              "      <td>0.216534</td>\n",
              "    </tr>\n",
              "    <tr>\n",
              "      <th>2</th>\n",
              "      <td>1</td>\n",
              "      <td>0</td>\n",
              "      <td>1</td>\n",
              "      <td>0</td>\n",
              "      <td>0</td>\n",
              "      <td>0</td>\n",
              "      <td>1</td>\n",
              "      <td>0</td>\n",
              "      <td>0</td>\n",
              "      <td>1</td>\n",
              "      <td>0</td>\n",
              "      <td>1</td>\n",
              "      <td>-1.536794</td>\n",
              "      <td>0.293517</td>\n",
              "      <td>0.240687</td>\n",
              "    </tr>\n",
              "    <tr>\n",
              "      <th>3</th>\n",
              "      <td>0</td>\n",
              "      <td>0</td>\n",
              "      <td>0</td>\n",
              "      <td>0</td>\n",
              "      <td>0</td>\n",
              "      <td>0</td>\n",
              "      <td>0</td>\n",
              "      <td>1</td>\n",
              "      <td>0</td>\n",
              "      <td>0</td>\n",
              "      <td>1</td>\n",
              "      <td>0</td>\n",
              "      <td>0.501521</td>\n",
              "      <td>0.007457</td>\n",
              "      <td>-0.108918</td>\n",
              "    </tr>\n",
              "    <tr>\n",
              "      <th>4</th>\n",
              "      <td>1</td>\n",
              "      <td>1</td>\n",
              "      <td>0</td>\n",
              "      <td>0</td>\n",
              "      <td>1</td>\n",
              "      <td>0</td>\n",
              "      <td>1</td>\n",
              "      <td>0</td>\n",
              "      <td>0</td>\n",
              "      <td>0</td>\n",
              "      <td>0</td>\n",
              "      <td>0</td>\n",
              "      <td>2.063884</td>\n",
              "      <td>0.388871</td>\n",
              "      <td>-0.365276</td>\n",
              "    </tr>\n",
              "  </tbody>\n",
              "</table>\n",
              "</div>"
            ],
            "text/plain": [
              "   HasCrCard  IsActiveMember  Exited  ...    Escore     Idade   Salario\n",
              "0          1               1       1  ... -0.326221  0.293517  0.021886\n",
              "1          0               1       0  ... -0.440036  0.198164  0.216534\n",
              "2          1               0       1  ... -1.536794  0.293517  0.240687\n",
              "3          0               0       0  ...  0.501521  0.007457 -0.108918\n",
              "4          1               1       0  ...  2.063884  0.388871 -0.365276\n",
              "\n",
              "[5 rows x 15 columns]"
            ]
          },
          "metadata": {
            "tags": []
          },
          "execution_count": 125
        }
      ]
    },
    {
      "cell_type": "markdown",
      "metadata": {
        "id": "UoAeQ6-eYGL0"
      },
      "source": [
        "## **Modelagem**"
      ]
    },
    {
      "cell_type": "markdown",
      "metadata": {
        "id": "AkyFUMP1YMH2"
      },
      "source": [
        "Nesse caso, temos **dois objetivos**:\n",
        "\n",
        "- Selecionar um bom modelo que se ajuste a esses dados\n",
        "- Estimar o erro de generalização do modelo\n",
        "\n",
        "Para isso, vamos dividir os dados em **treinamento (90%)** e **validação (10%)**. Como temos 10000 observações no conjunto de dados, a divisão pode ser mais desbalanceada, de forma que dessa maneira ainda sobra 1000 elementos no conjunto de validação.\n",
        "\n",
        "Vamos utilizar **validação cruzada no conjunto de dados de treinamento** para encontrar os melhores parâmetros para os modelos propostos e, por fim, verificaremos o **erro de generalização dos modelos na amostra final de validação**."
      ]
    },
    {
      "cell_type": "code",
      "metadata": {
        "id": "J5zaNTFWZZ-D"
      },
      "source": [
        "#Fazendo a Divisão em Teste e Treinamento\n",
        "from sklearn.model_selection import train_test_split\n",
        "\n",
        "Xtreino, Xvalid, Ytreino, Yvalid = train_test_split(churn.drop('Exited', axis = 1), \n",
        "                                                    churn['Exited'], \n",
        "                                                    test_size = 1000)"
      ],
      "execution_count": null,
      "outputs": []
    },
    {
      "cell_type": "code",
      "metadata": {
        "id": "X3qBFvVIZyOB"
      },
      "source": [
        "# Configuração da Validação Cruzada\n",
        "from sklearn.model_selection import RepeatedStratifiedKFold\n",
        "from sklearn.model_selection import cross_val_score, cross_validate\n",
        "\n",
        "kf = RepeatedStratifiedKFold(n_splits = 10, n_repeats = 1)"
      ],
      "execution_count": null,
      "outputs": []
    },
    {
      "cell_type": "code",
      "metadata": {
        "id": "EqIIvcgFZznJ"
      },
      "source": [
        "# Importando os Modelos\n",
        "from sklearn.linear_model import LogisticRegression\n",
        "from sklearn.tree import DecisionTreeClassifier\n",
        "from sklearn.neighbors import KNeighborsClassifier\n",
        "from sklearn.ensemble import RandomForestClassifier"
      ],
      "execution_count": null,
      "outputs": []
    },
    {
      "cell_type": "code",
      "metadata": {
        "id": "E1LlrINDexHB"
      },
      "source": [
        "# Definindo a métrica de interesse \n",
        "metrica = 'f1'"
      ],
      "execution_count": null,
      "outputs": []
    },
    {
      "cell_type": "markdown",
      "metadata": {
        "id": "Zyz9DnNvJO38"
      },
      "source": [
        "### Regressão Logística "
      ]
    },
    {
      "cell_type": "code",
      "metadata": {
        "id": "iNG_hF-rJSmu",
        "colab": {
          "base_uri": "https://localhost:8080/"
        },
        "outputId": "95dcf95c-dc26-4cfd-f2a2-039e6e544d40"
      },
      "source": [
        "# Verificando a Performance da Regressão Logística\n",
        "\n",
        "reglog = cross_val_score(LogisticRegression(), Xtreino, Ytreino, cv = kf, scoring = metrica)\n",
        " \n",
        "print('F1-Score: {:.2f}%'.format(100*sens_reglog.mean()))"
      ],
      "execution_count": null,
      "outputs": [
        {
          "output_type": "stream",
          "text": [
            "F1-Score: 49.58%\n"
          ],
          "name": "stdout"
        }
      ]
    },
    {
      "cell_type": "code",
      "metadata": {
        "id": "Pq-NEx6_bwrr",
        "colab": {
          "base_uri": "https://localhost:8080/"
        },
        "outputId": "ba3a8c05-cd22-42f9-df55-f35c7856439b"
      },
      "source": [
        "reglog = LogisticRegression()\n",
        "reglog.fit(Xtreino, Ytreino)\n",
        "pred_reglog = reglog.predict(Xvalid)\n",
        "\n",
        "met_reglog = MetricasClassBinaria(Yvalid, pred_reglog)"
      ],
      "execution_count": null,
      "outputs": [
        {
          "output_type": "stream",
          "text": [
            "  Prevalência de Positivos: 0.2100\n",
            "                  Acurácia: 0.8270\n",
            "             Sensibilidade: 0.3476\n",
            "            Especificidade: 0.9544\n",
            "  Valor Preditivo Positivo: 0.6697\n",
            "  Valor Preditivo Negativo: 0.8462\n",
            "Coef. de Corr. de Matthews: 0.3948\n",
            "                  F1-Score: 0.4577\n",
            "                Eficiência: 0.6510\n"
          ],
          "name": "stdout"
        }
      ]
    },
    {
      "cell_type": "markdown",
      "metadata": {
        "id": "CHQoNHN1I-jM"
      },
      "source": [
        "### K Vizinhos Mais Próximos"
      ]
    },
    {
      "cell_type": "code",
      "metadata": {
        "id": "1dtlCS4AAt8p",
        "colab": {
          "base_uri": "https://localhost:8080/"
        },
        "outputId": "0b648e82-2645-44ae-df7f-60e3c3301484"
      },
      "source": [
        "# Encontrando o melhor valor de K através de Validação Cruzada K-FOLD \n",
        "\n",
        "from sklearn.model_selection import GridSearchCV\n",
        "\n",
        "valores = np.arange(1, 51, 3)\n",
        "parametros = {'n_neighbors': valores}\n",
        "\n",
        "clf = GridSearchCV(KNeighborsClassifier(), param_grid = parametros, cv = kf, scoring = metrica)\n",
        "clf.fit(Xtreino, Ytreino)"
      ],
      "execution_count": null,
      "outputs": [
        {
          "output_type": "execute_result",
          "data": {
            "text/plain": [
              "GridSearchCV(cv=RepeatedStratifiedKFold(n_repeats=1, n_splits=10, random_state=None),\n",
              "             error_score=nan,\n",
              "             estimator=KNeighborsClassifier(algorithm='auto', leaf_size=30,\n",
              "                                            metric='minkowski',\n",
              "                                            metric_params=None, n_jobs=None,\n",
              "                                            n_neighbors=5, p=2,\n",
              "                                            weights='uniform'),\n",
              "             iid='deprecated', n_jobs=None,\n",
              "             param_grid={'n_neighbors': array([ 1,  4,  7, 10, 13, 16, 19, 22, 25, 28, 31, 34, 37, 40, 43, 46, 49])},\n",
              "             pre_dispatch='2*n_jobs', refit=True, return_train_score=False,\n",
              "             scoring='f1', verbose=0)"
            ]
          },
          "metadata": {
            "tags": []
          },
          "execution_count": 131
        }
      ]
    },
    {
      "cell_type": "code",
      "metadata": {
        "id": "jpx_mspcBTFU",
        "colab": {
          "base_uri": "https://localhost:8080/"
        },
        "outputId": "20d00e01-2fcf-4bec-dfa0-423a8dd6c38b"
      },
      "source": [
        "# melhor escolha de K\n",
        "print(clf.cv_results_['mean_test_score'])\n",
        "print(clf.best_params_)"
      ],
      "execution_count": null,
      "outputs": [
        {
          "output_type": "stream",
          "text": [
            "[0.47581886 0.41771631 0.4783874  0.42991545 0.46580643 0.41750366\n",
            " 0.44888702 0.42070547 0.44379831 0.41752921 0.42884005 0.41247336\n",
            " 0.42863955 0.41068541 0.4199579  0.40106431 0.41025131]\n",
            "{'n_neighbors': 7}\n"
          ],
          "name": "stdout"
        }
      ]
    },
    {
      "cell_type": "code",
      "metadata": {
        "id": "o6NpAG4H8GDF",
        "colab": {
          "base_uri": "https://localhost:8080/"
        },
        "outputId": "ee1854eb-9153-41ee-90f4-907b0add8dd2"
      },
      "source": [
        "# verificando a performance do KNN para um dado valor de K\n",
        "\n",
        "knn5 = KNeighborsClassifier(n_neighbors = 7)\n",
        "knn5.fit(Xtreino, Ytreino)\n",
        "pred_knn5 = knn5.predict(Xvalid)\n",
        "\n",
        "met_knn5 = MetricasClassBinaria(Yvalid, pred_knn5)"
      ],
      "execution_count": null,
      "outputs": [
        {
          "output_type": "stream",
          "text": [
            "  Prevalência de Positivos: 0.2100\n",
            "                  Acurácia: 0.8290\n",
            "             Sensibilidade: 0.3524\n",
            "            Especificidade: 0.9557\n",
            "  Valor Preditivo Positivo: 0.6789\n",
            "  Valor Preditivo Negativo: 0.8474\n",
            "Coef. de Corr. de Matthews: 0.4027\n",
            "                  F1-Score: 0.4639\n",
            "                Eficiência: 0.6540\n"
          ],
          "name": "stdout"
        }
      ]
    },
    {
      "cell_type": "markdown",
      "metadata": {
        "id": "Ob3dA8W9fuj5"
      },
      "source": [
        "### Árvore de Decisão"
      ]
    },
    {
      "cell_type": "code",
      "metadata": {
        "id": "IpR_G6CGJ1Rp",
        "colab": {
          "base_uri": "https://localhost:8080/"
        },
        "outputId": "8049ce22-ccca-4dea-d08e-a2b4a1970dab"
      },
      "source": [
        "# Encontrando o melhor valor do 'max_depth' através de Validação Cruzada K-FOLD\n",
        "\n",
        "from sklearn.model_selection import GridSearchCV\n",
        "\n",
        "valores = np.arange(2, 15, 1)\n",
        "parametros = {'max_depth': valores}\n",
        "\n",
        "clf = GridSearchCV(DecisionTreeClassifier(), param_grid = parametros, cv = kf, scoring = metrica)\n",
        "clf.fit(Xtreino, Ytreino)"
      ],
      "execution_count": null,
      "outputs": [
        {
          "output_type": "execute_result",
          "data": {
            "text/plain": [
              "GridSearchCV(cv=RepeatedStratifiedKFold(n_repeats=1, n_splits=10, random_state=None),\n",
              "             error_score=nan,\n",
              "             estimator=DecisionTreeClassifier(ccp_alpha=0.0, class_weight=None,\n",
              "                                              criterion='gini', max_depth=None,\n",
              "                                              max_features=None,\n",
              "                                              max_leaf_nodes=None,\n",
              "                                              min_impurity_decrease=0.0,\n",
              "                                              min_impurity_split=None,\n",
              "                                              min_samples_leaf=1,\n",
              "                                              min_samples_split=2,\n",
              "                                              min_weight_fraction_leaf=0.0,\n",
              "                                              presort='deprecated',\n",
              "                                              random_state=None,\n",
              "                                              splitter='best'),\n",
              "             iid='deprecated', n_jobs=None,\n",
              "             param_grid={'max_depth': array([ 2,  3,  4,  5,  6,  7,  8,  9, 10, 11, 12, 13, 14])},\n",
              "             pre_dispatch='2*n_jobs', refit=True, return_train_score=False,\n",
              "             scoring='f1', verbose=0)"
            ]
          },
          "metadata": {
            "tags": []
          },
          "execution_count": 135
        }
      ]
    },
    {
      "cell_type": "code",
      "metadata": {
        "id": "r_6x0H0hf_XZ",
        "colab": {
          "base_uri": "https://localhost:8080/"
        },
        "outputId": "94cbd422-2b9c-4f72-fa17-49ed2837a28f"
      },
      "source": [
        "# melhor escolha de profundidade\n",
        "print(clf.cv_results_['mean_test_score'])\n",
        "print(clf.best_params_)"
      ],
      "execution_count": null,
      "outputs": [
        {
          "output_type": "stream",
          "text": [
            "[0.53241974 0.50570716 0.527137   0.56297677 0.53825227 0.55323726\n",
            " 0.54822276 0.54691536 0.53916868 0.52482955 0.5254693  0.5169665\n",
            " 0.5074141 ]\n",
            "{'max_depth': 5}\n"
          ],
          "name": "stdout"
        }
      ]
    },
    {
      "cell_type": "code",
      "metadata": {
        "id": "G3TFF5iyf_Xo",
        "colab": {
          "base_uri": "https://localhost:8080/"
        },
        "outputId": "1023d918-74ca-4586-9d17-cfb8587f177b"
      },
      "source": [
        "# verificando a performance do KNN para um dado valor de K\n",
        "\n",
        "arvore = DecisionTreeClassifier(max_depth = 5)\n",
        "arvore.fit(Xtreino, Ytreino)\n",
        "pred_arvore = arvore.predict(Xvalid)\n",
        "\n",
        "met_arvore = MetricasClassBinaria(Yvalid, pred_arvore)"
      ],
      "execution_count": null,
      "outputs": [
        {
          "output_type": "stream",
          "text": [
            "  Prevalência de Positivos: 0.2100\n",
            "                  Acurácia: 0.8400\n",
            "             Sensibilidade: 0.3286\n",
            "            Especificidade: 0.9759\n",
            "  Valor Preditivo Positivo: 0.7841\n",
            "  Valor Preditivo Negativo: 0.8454\n",
            "Coef. de Corr. de Matthews: 0.4378\n",
            "                  F1-Score: 0.4631\n",
            "                Eficiência: 0.6523\n"
          ],
          "name": "stdout"
        }
      ]
    },
    {
      "cell_type": "markdown",
      "metadata": {
        "id": "XXBFlpeMMsSv"
      },
      "source": [
        "### Random Forests"
      ]
    },
    {
      "cell_type": "code",
      "metadata": {
        "id": "QiV4ex62MsTA",
        "colab": {
          "base_uri": "https://localhost:8080/"
        },
        "outputId": "93aef898-b8e9-4329-d271-18d2447c6dea"
      },
      "source": [
        "# Encontrando o melhor valor do 'max_depth' através de Validação Cruzada K-FOLD\n",
        "\n",
        "from sklearn.model_selection import GridSearchCV\n",
        "\n",
        "valores = np.arange(2, 30, 3)\n",
        "parametros = {'max_depth': valores}\n",
        "\n",
        "clf = GridSearchCV(RandomForestClassifier(), param_grid = parametros, cv = kf, scoring = metrica)\n",
        "clf.fit(Xtreino, Ytreino)"
      ],
      "execution_count": null,
      "outputs": [
        {
          "output_type": "execute_result",
          "data": {
            "text/plain": [
              "GridSearchCV(cv=RepeatedStratifiedKFold(n_repeats=1, n_splits=10, random_state=None),\n",
              "             error_score=nan,\n",
              "             estimator=RandomForestClassifier(bootstrap=True, ccp_alpha=0.0,\n",
              "                                              class_weight=None,\n",
              "                                              criterion='gini', max_depth=None,\n",
              "                                              max_features='auto',\n",
              "                                              max_leaf_nodes=None,\n",
              "                                              max_samples=None,\n",
              "                                              min_impurity_decrease=0.0,\n",
              "                                              min_impurity_split=None,\n",
              "                                              min_samples_leaf=1,\n",
              "                                              min_samples_split=2,\n",
              "                                              min_weight_fraction_leaf=0.0,\n",
              "                                              n_estimators=100, n_jobs=None,\n",
              "                                              oob_score=False,\n",
              "                                              random_state=None, verbose=0,\n",
              "                                              warm_start=False),\n",
              "             iid='deprecated', n_jobs=None,\n",
              "             param_grid={'max_depth': array([ 2,  5,  8, 11, 14, 17, 20, 23, 26, 29])},\n",
              "             pre_dispatch='2*n_jobs', refit=True, return_train_score=False,\n",
              "             scoring='f1', verbose=0)"
            ]
          },
          "metadata": {
            "tags": []
          },
          "execution_count": 138
        }
      ]
    },
    {
      "cell_type": "code",
      "metadata": {
        "id": "ix5-Nlxng0WP",
        "colab": {
          "base_uri": "https://localhost:8080/"
        },
        "outputId": "d55a7c28-099d-4058-ee01-71872b1dfcf2"
      },
      "source": [
        "# melhor escolha de profundidade\n",
        "print(clf.cv_results_['mean_test_score'])\n",
        "print(clf.best_params_)"
      ],
      "execution_count": null,
      "outputs": [
        {
          "output_type": "stream",
          "text": [
            "[0.10463274 0.43799048 0.5493966  0.56673273 0.57205899 0.57459513\n",
            " 0.56333482 0.56983306 0.57627725 0.5707966 ]\n",
            "{'max_depth': 26}\n"
          ],
          "name": "stdout"
        }
      ]
    },
    {
      "cell_type": "code",
      "metadata": {
        "id": "hzoK-jF9g3uT",
        "colab": {
          "base_uri": "https://localhost:8080/"
        },
        "outputId": "8856dae0-ef4c-4972-8491-cc83b4cd466f"
      },
      "source": [
        "# verificando a performance\n",
        "\n",
        "rf = RandomForestClassifier(max_depth = 26)\n",
        "rf.fit(Xtreino, Ytreino)\n",
        "pred_rf = rf.predict(Xvalid)\n",
        "\n",
        "met_rf = MetricasClassBinaria(Yvalid, pred_rf)"
      ],
      "execution_count": null,
      "outputs": [
        {
          "output_type": "stream",
          "text": [
            "  Prevalência de Positivos: 0.2100\n",
            "                  Acurácia: 0.8460\n",
            "             Sensibilidade: 0.4238\n",
            "            Especificidade: 0.9582\n",
            "  Valor Preditivo Positivo: 0.7295\n",
            "  Valor Preditivo Negativo: 0.8622\n",
            "Coef. de Corr. de Matthews: 0.4754\n",
            "                  F1-Score: 0.5361\n",
            "                Eficiência: 0.6910\n"
          ],
          "name": "stdout"
        }
      ]
    },
    {
      "cell_type": "markdown",
      "metadata": {
        "id": "1Np82CcjiOru"
      },
      "source": [
        "### Síntese dos Resultados"
      ]
    },
    {
      "cell_type": "code",
      "metadata": {
        "id": "3nG16DfQiQy4",
        "colab": {
          "base_uri": "https://localhost:8080/"
        },
        "outputId": "83dbdad5-8cf5-4b90-a450-a7354eaf81b1"
      },
      "source": [
        "# Regressão Logística\n",
        "reglog = LogisticRegression()\n",
        "reglog.fit(Xtreino, Ytreino)\n",
        "pred_reglog = reglog.predict(Xvalid)\n",
        "met_reglog = MetricasClassBinaria(Yvalid, pred_reglog, custo = [0, 1, 10, 1])\n",
        "\n",
        "#KNNs\n",
        "knn3 = KNeighborsClassifier(n_neighbors = 3)\n",
        "knn3.fit(Xtreino, Ytreino)\n",
        "pred_knn3 = knn3.predict(Xvalid)\n",
        "met_knn3 = MetricasClassBinaria(Yvalid, pred_knn3, custo = [0, 1, 10, 1])\n",
        "\n",
        "knn5 = KNeighborsClassifier(n_neighbors = 5)\n",
        "knn5.fit(Xtreino, Ytreino)\n",
        "pred_knn5 = knn5.predict(Xvalid)\n",
        "met_knn5 = MetricasClassBinaria(Yvalid, pred_knn5, custo = [0, 1, 10, 1])\n",
        "\n",
        "knn7 = KNeighborsClassifier(n_neighbors = 7)\n",
        "knn7.fit(Xtreino, Ytreino)\n",
        "pred_knn7 = knn7.predict(Xvalid)\n",
        "met_knn7 = MetricasClassBinaria(Yvalid, pred_knn7, custo = [0, 1, 10, 1])\n",
        "\n",
        "knn9 = KNeighborsClassifier(n_neighbors = 9)\n",
        "knn9.fit(Xtreino, Ytreino)\n",
        "pred_knn9 = knn9.predict(Xvalid)\n",
        "met_knn9 = MetricasClassBinaria(Yvalid, pred_knn9, custo = [0, 1, 10, 1])\n",
        "\n",
        "#Arvores\n",
        "arvore4 = DecisionTreeClassifier(max_depth = 4)\n",
        "arvore4.fit(Xtreino, Ytreino)\n",
        "pred_arvore4 = arvore4.predict(Xvalid)\n",
        "met_arvore4 = MetricasClassBinaria(Yvalid, pred_arvore4, custo = [0, 1, 10, 1])\n",
        "\n",
        "arvore8 = DecisionTreeClassifier(max_depth = 8)\n",
        "arvore8.fit(Xtreino, Ytreino)\n",
        "pred_arvore8 = arvore8.predict(Xvalid)\n",
        "met_arvore8 = MetricasClassBinaria(Yvalid, pred_arvore8, custo = [0, 1, 10, 1])\n",
        "\n",
        "arvore12 = DecisionTreeClassifier(max_depth = 12)\n",
        "arvore12.fit(Xtreino, Ytreino)\n",
        "pred_arvore12 = arvore12.predict(Xvalid)\n",
        "met_arvore12 = MetricasClassBinaria(Yvalid, pred_arvore12, custo = [0, 1, 10, 1])\n",
        "\n",
        "#Florestas\n",
        "rf8 = RandomForestClassifier(max_depth = 8)\n",
        "rf8.fit(Xtreino, Ytreino)\n",
        "pred_rf8 = rf8.predict(Xvalid)\n",
        "met_rf8 = MetricasClassBinaria(Yvalid, pred_rf8, custo = [0, 1, 10, 1])\n",
        "\n",
        "rf16 = RandomForestClassifier(max_depth = 16)\n",
        "rf16.fit(Xtreino, Ytreino)\n",
        "pred_rf16 = rf16.predict(Xvalid)\n",
        "met_rf16 = MetricasClassBinaria(Yvalid, pred_rf16, custo = [0, 1, 10, 1])\n",
        "\n",
        "rf24 = RandomForestClassifier(max_depth = 24)\n",
        "rf24.fit(Xtreino, Ytreino)\n",
        "pred_rf24 = rf24.predict(Xvalid)\n",
        "met_rf24 = MetricasClassBinaria(Yvalid, pred_rf24, custo = [0, 1, 10, 1])"
      ],
      "execution_count": null,
      "outputs": [
        {
          "output_type": "stream",
          "text": [
            "  Prevalência de Positivos: 0.2100\n",
            "                  Acurácia: 0.8270\n",
            "             Sensibilidade: 0.3476\n",
            "            Especificidade: 0.9544\n",
            "  Valor Preditivo Positivo: 0.6697\n",
            "  Valor Preditivo Negativo: 0.8462\n",
            "Coef. de Corr. de Matthews: 0.3948\n",
            "                  F1-Score: 0.4577\n",
            "                Eficiência: 0.6510\n",
            "\n",
            "                     Custo: 1479\n",
            "  Prevalência de Positivos: 0.2100\n",
            "                  Acurácia: 0.8090\n",
            "             Sensibilidade: 0.3381\n",
            "            Especificidade: 0.9342\n",
            "  Valor Preditivo Positivo: 0.5772\n",
            "  Valor Preditivo Negativo: 0.8415\n",
            "Coef. de Corr. de Matthews: 0.3377\n",
            "                  F1-Score: 0.4264\n",
            "                Eficiência: 0.6361\n",
            "\n",
            "                     Custo: 1513\n",
            "  Prevalência de Positivos: 0.2100\n",
            "                  Acurácia: 0.8280\n",
            "             Sensibilidade: 0.3429\n",
            "            Especificidade: 0.9570\n",
            "  Valor Preditivo Positivo: 0.6792\n",
            "  Valor Preditivo Negativo: 0.8456\n",
            "Coef. de Corr. de Matthews: 0.3967\n",
            "                  F1-Score: 0.4557\n",
            "                Eficiência: 0.6499\n",
            "\n",
            "                     Custo: 1486\n",
            "  Prevalência de Positivos: 0.2100\n",
            "                  Acurácia: 0.8290\n",
            "             Sensibilidade: 0.3524\n",
            "            Especificidade: 0.9557\n",
            "  Valor Preditivo Positivo: 0.6789\n",
            "  Valor Preditivo Negativo: 0.8474\n",
            "Coef. de Corr. de Matthews: 0.4027\n",
            "                  F1-Score: 0.4639\n",
            "                Eficiência: 0.6540\n",
            "\n",
            "                     Custo: 1469\n",
            "  Prevalência de Positivos: 0.2100\n",
            "                  Acurácia: 0.8360\n",
            "             Sensibilidade: 0.3524\n",
            "            Especificidade: 0.9646\n",
            "  Valor Preditivo Positivo: 0.7255\n",
            "  Valor Preditivo Negativo: 0.8486\n",
            "Coef. de Corr. de Matthews: 0.4265\n",
            "                  F1-Score: 0.4744\n",
            "                Eficiência: 0.6585\n",
            "\n",
            "                     Custo: 1462\n",
            "  Prevalência de Positivos: 0.2100\n",
            "                  Acurácia: 0.8410\n",
            "             Sensibilidade: 0.3333\n",
            "            Especificidade: 0.9759\n",
            "  Valor Preditivo Positivo: 0.7865\n",
            "  Valor Preditivo Negativo: 0.8463\n",
            "Coef. de Corr. de Matthews: 0.4424\n",
            "                  F1-Score: 0.4682\n",
            "                Eficiência: 0.6546\n",
            "\n",
            "                     Custo: 1489\n",
            "  Prevalência de Positivos: 0.2100\n",
            "                  Acurácia: 0.8390\n",
            "             Sensibilidade: 0.4190\n",
            "            Especificidade: 0.9506\n",
            "  Valor Preditivo Positivo: 0.6929\n",
            "  Valor Preditivo Negativo: 0.8603\n",
            "Coef. de Corr. de Matthews: 0.4522\n",
            "                  F1-Score: 0.5223\n",
            "                Eficiência: 0.6848\n",
            "\n",
            "                     Custo: 1347\n",
            "  Prevalência de Positivos: 0.2100\n",
            "                  Acurácia: 0.8110\n",
            "             Sensibilidade: 0.4095\n",
            "            Especificidade: 0.9177\n",
            "  Valor Preditivo Positivo: 0.5695\n",
            "  Valor Preditivo Negativo: 0.8539\n",
            "Coef. de Corr. de Matthews: 0.3723\n",
            "                  F1-Score: 0.4765\n",
            "                Eficiência: 0.6636\n",
            "\n",
            "                     Custo: 1391\n",
            "  Prevalência de Positivos: 0.2100\n",
            "                  Acurácia: 0.8560\n",
            "             Sensibilidade: 0.3857\n",
            "            Especificidade: 0.9810\n",
            "  Valor Preditivo Positivo: 0.8438\n",
            "  Valor Preditivo Negativo: 0.8573\n",
            "Coef. de Corr. de Matthews: 0.5070\n",
            "                  F1-Score: 0.5294\n",
            "                Eficiência: 0.6834\n",
            "\n",
            "                     Custo: 1386\n",
            "  Prevalência de Positivos: 0.2100\n",
            "                  Acurácia: 0.8510\n",
            "             Sensibilidade: 0.4238\n",
            "            Especificidade: 0.9646\n",
            "  Valor Preditivo Positivo: 0.7607\n",
            "  Valor Preditivo Negativo: 0.8630\n",
            "Coef. de Corr. de Matthews: 0.4921\n",
            "                  F1-Score: 0.5443\n",
            "                Eficiência: 0.6942\n",
            "\n",
            "                     Custo: 1327\n",
            "  Prevalência de Positivos: 0.2100\n",
            "                  Acurácia: 0.8480\n",
            "             Sensibilidade: 0.4333\n",
            "            Especificidade: 0.9582\n",
            "  Valor Preditivo Positivo: 0.7339\n",
            "  Valor Preditivo Negativo: 0.8642\n",
            "Coef. de Corr. de Matthews: 0.4839\n",
            "                  F1-Score: 0.5449\n",
            "                Eficiência: 0.6958\n",
            "\n",
            "                     Custo: 1314\n"
          ],
          "name": "stdout"
        }
      ]
    },
    {
      "cell_type": "code",
      "metadata": {
        "id": "yLh1cExMj9xB"
      },
      "source": [
        "modelos = ['Reg. Log.', '3-NN', '5-NN', '7-NN', '9-NN', \n",
        "           'Árvore (4)', 'Árvore (8)', 'Árvore (12)',\n",
        "           'Random Forest (8)', 'Random Forest (16)', 'Random Forest (24)']\n",
        "\n",
        "preditos = [met_reglog, met_knn3, met_knn5, met_knn7, met_knn9, met_arvore4,\n",
        "            met_arvore8, met_arvore12, met_rf8, met_rf16, met_rf24]"
      ],
      "execution_count": null,
      "outputs": []
    },
    {
      "cell_type": "code",
      "metadata": {
        "id": "MpU24LAYjFnI"
      },
      "source": [
        "resultados = pd.DataFrame()\n",
        "\n",
        "for i in range(len(modelos)):\n",
        "    aux = pd.DataFrame.from_dict(preditos[i], orient = 'index', columns = [modelos[i]])\n",
        "    resultados = pd.concat([resultados, aux], axis = 1)"
      ],
      "execution_count": null,
      "outputs": []
    },
    {
      "cell_type": "code",
      "metadata": {
        "id": "HcxaJm8dkw8w",
        "colab": {
          "base_uri": "https://localhost:8080/",
          "height": 394
        },
        "outputId": "fd1a2858-c5bd-4a29-a688-7874bbd69ab3"
      },
      "source": [
        "resultados.T.round(4)"
      ],
      "execution_count": null,
      "outputs": [
        {
          "output_type": "execute_result",
          "data": {
            "text/html": [
              "<div>\n",
              "<style scoped>\n",
              "    .dataframe tbody tr th:only-of-type {\n",
              "        vertical-align: middle;\n",
              "    }\n",
              "\n",
              "    .dataframe tbody tr th {\n",
              "        vertical-align: top;\n",
              "    }\n",
              "\n",
              "    .dataframe thead th {\n",
              "        text-align: right;\n",
              "    }\n",
              "</style>\n",
              "<table border=\"1\" class=\"dataframe\">\n",
              "  <thead>\n",
              "    <tr style=\"text-align: right;\">\n",
              "      <th></th>\n",
              "      <th>prevalência</th>\n",
              "      <th>acurácia</th>\n",
              "      <th>sensibilidade</th>\n",
              "      <th>especificidade</th>\n",
              "      <th>vpp</th>\n",
              "      <th>vpn</th>\n",
              "      <th>mcc</th>\n",
              "      <th>f1-score</th>\n",
              "      <th>eficiência</th>\n",
              "      <th>custo</th>\n",
              "    </tr>\n",
              "  </thead>\n",
              "  <tbody>\n",
              "    <tr>\n",
              "      <th>Reg. Log.</th>\n",
              "      <td>0.21</td>\n",
              "      <td>0.827</td>\n",
              "      <td>0.3476</td>\n",
              "      <td>0.9544</td>\n",
              "      <td>0.6697</td>\n",
              "      <td>0.8462</td>\n",
              "      <td>0.3948</td>\n",
              "      <td>0.4577</td>\n",
              "      <td>0.6510</td>\n",
              "      <td>1479.0</td>\n",
              "    </tr>\n",
              "    <tr>\n",
              "      <th>3-NN</th>\n",
              "      <td>0.21</td>\n",
              "      <td>0.809</td>\n",
              "      <td>0.3381</td>\n",
              "      <td>0.9342</td>\n",
              "      <td>0.5772</td>\n",
              "      <td>0.8415</td>\n",
              "      <td>0.3377</td>\n",
              "      <td>0.4264</td>\n",
              "      <td>0.6361</td>\n",
              "      <td>1513.0</td>\n",
              "    </tr>\n",
              "    <tr>\n",
              "      <th>5-NN</th>\n",
              "      <td>0.21</td>\n",
              "      <td>0.828</td>\n",
              "      <td>0.3429</td>\n",
              "      <td>0.9570</td>\n",
              "      <td>0.6792</td>\n",
              "      <td>0.8456</td>\n",
              "      <td>0.3967</td>\n",
              "      <td>0.4557</td>\n",
              "      <td>0.6499</td>\n",
              "      <td>1486.0</td>\n",
              "    </tr>\n",
              "    <tr>\n",
              "      <th>7-NN</th>\n",
              "      <td>0.21</td>\n",
              "      <td>0.829</td>\n",
              "      <td>0.3524</td>\n",
              "      <td>0.9557</td>\n",
              "      <td>0.6789</td>\n",
              "      <td>0.8474</td>\n",
              "      <td>0.4027</td>\n",
              "      <td>0.4639</td>\n",
              "      <td>0.6540</td>\n",
              "      <td>1469.0</td>\n",
              "    </tr>\n",
              "    <tr>\n",
              "      <th>9-NN</th>\n",
              "      <td>0.21</td>\n",
              "      <td>0.836</td>\n",
              "      <td>0.3524</td>\n",
              "      <td>0.9646</td>\n",
              "      <td>0.7255</td>\n",
              "      <td>0.8486</td>\n",
              "      <td>0.4265</td>\n",
              "      <td>0.4744</td>\n",
              "      <td>0.6585</td>\n",
              "      <td>1462.0</td>\n",
              "    </tr>\n",
              "    <tr>\n",
              "      <th>Árvore (4)</th>\n",
              "      <td>0.21</td>\n",
              "      <td>0.841</td>\n",
              "      <td>0.3333</td>\n",
              "      <td>0.9759</td>\n",
              "      <td>0.7865</td>\n",
              "      <td>0.8463</td>\n",
              "      <td>0.4424</td>\n",
              "      <td>0.4682</td>\n",
              "      <td>0.6546</td>\n",
              "      <td>1489.0</td>\n",
              "    </tr>\n",
              "    <tr>\n",
              "      <th>Árvore (8)</th>\n",
              "      <td>0.21</td>\n",
              "      <td>0.839</td>\n",
              "      <td>0.4190</td>\n",
              "      <td>0.9506</td>\n",
              "      <td>0.6929</td>\n",
              "      <td>0.8603</td>\n",
              "      <td>0.4522</td>\n",
              "      <td>0.5223</td>\n",
              "      <td>0.6848</td>\n",
              "      <td>1347.0</td>\n",
              "    </tr>\n",
              "    <tr>\n",
              "      <th>Árvore (12)</th>\n",
              "      <td>0.21</td>\n",
              "      <td>0.811</td>\n",
              "      <td>0.4095</td>\n",
              "      <td>0.9177</td>\n",
              "      <td>0.5695</td>\n",
              "      <td>0.8539</td>\n",
              "      <td>0.3723</td>\n",
              "      <td>0.4765</td>\n",
              "      <td>0.6636</td>\n",
              "      <td>1391.0</td>\n",
              "    </tr>\n",
              "    <tr>\n",
              "      <th>Random Forest (8)</th>\n",
              "      <td>0.21</td>\n",
              "      <td>0.856</td>\n",
              "      <td>0.3857</td>\n",
              "      <td>0.9810</td>\n",
              "      <td>0.8438</td>\n",
              "      <td>0.8573</td>\n",
              "      <td>0.5070</td>\n",
              "      <td>0.5294</td>\n",
              "      <td>0.6834</td>\n",
              "      <td>1386.0</td>\n",
              "    </tr>\n",
              "    <tr>\n",
              "      <th>Random Forest (16)</th>\n",
              "      <td>0.21</td>\n",
              "      <td>0.851</td>\n",
              "      <td>0.4238</td>\n",
              "      <td>0.9646</td>\n",
              "      <td>0.7607</td>\n",
              "      <td>0.8630</td>\n",
              "      <td>0.4921</td>\n",
              "      <td>0.5443</td>\n",
              "      <td>0.6942</td>\n",
              "      <td>1327.0</td>\n",
              "    </tr>\n",
              "    <tr>\n",
              "      <th>Random Forest (24)</th>\n",
              "      <td>0.21</td>\n",
              "      <td>0.848</td>\n",
              "      <td>0.4333</td>\n",
              "      <td>0.9582</td>\n",
              "      <td>0.7339</td>\n",
              "      <td>0.8642</td>\n",
              "      <td>0.4839</td>\n",
              "      <td>0.5449</td>\n",
              "      <td>0.6958</td>\n",
              "      <td>1314.0</td>\n",
              "    </tr>\n",
              "  </tbody>\n",
              "</table>\n",
              "</div>"
            ],
            "text/plain": [
              "                    prevalência  acurácia  ...  eficiência   custo\n",
              "Reg. Log.                  0.21     0.827  ...      0.6510  1479.0\n",
              "3-NN                       0.21     0.809  ...      0.6361  1513.0\n",
              "5-NN                       0.21     0.828  ...      0.6499  1486.0\n",
              "7-NN                       0.21     0.829  ...      0.6540  1469.0\n",
              "9-NN                       0.21     0.836  ...      0.6585  1462.0\n",
              "Árvore (4)                 0.21     0.841  ...      0.6546  1489.0\n",
              "Árvore (8)                 0.21     0.839  ...      0.6848  1347.0\n",
              "Árvore (12)                0.21     0.811  ...      0.6636  1391.0\n",
              "Random Forest (8)          0.21     0.856  ...      0.6834  1386.0\n",
              "Random Forest (16)         0.21     0.851  ...      0.6942  1327.0\n",
              "Random Forest (24)         0.21     0.848  ...      0.6958  1314.0\n",
              "\n",
              "[11 rows x 10 columns]"
            ]
          },
          "metadata": {
            "tags": []
          },
          "execution_count": 145
        }
      ]
    },
    {
      "cell_type": "code",
      "metadata": {
        "id": "bCEOh8vJk5vC"
      },
      "source": [
        "from google.colab.data_table import DataTable"
      ],
      "execution_count": null,
      "outputs": []
    },
    {
      "cell_type": "code",
      "metadata": {
        "id": "r9mwNUWfm7Hz",
        "colab": {
          "base_uri": "https://localhost:8080/",
          "height": 319
        },
        "outputId": "ce3f815a-1d14-4622-8cca-3f11879d6239"
      },
      "source": [
        "DataTable(resultados.T.round(4))"
      ],
      "execution_count": null,
      "outputs": [
        {
          "output_type": "execute_result",
          "data": {
            "application/vnd.google.colaboratory.module+javascript": "\n      import \"https://ssl.gstatic.com/colaboratory/data_table/a6224c040fa35dcf/data_table.js\";\n\n      window.createDataTable({\n        data: [[\"Reg. Log.\",\n{\n            'v': 0.21,\n            'f': \"0.21\",\n        },\n{\n            'v': 0.827,\n            'f': \"0.827\",\n        },\n{\n            'v': 0.3476,\n            'f': \"0.3476\",\n        },\n{\n            'v': 0.9544,\n            'f': \"0.9544\",\n        },\n{\n            'v': 0.6697,\n            'f': \"0.6697\",\n        },\n{\n            'v': 0.8462,\n            'f': \"0.8462\",\n        },\n{\n            'v': 0.3948,\n            'f': \"0.3948\",\n        },\n{\n            'v': 0.4577,\n            'f': \"0.4577\",\n        },\n{\n            'v': 0.651,\n            'f': \"0.651\",\n        },\n{\n            'v': 1479.0,\n            'f': \"1479.0\",\n        }],\n [\"3-NN\",\n{\n            'v': 0.21,\n            'f': \"0.21\",\n        },\n{\n            'v': 0.809,\n            'f': \"0.809\",\n        },\n{\n            'v': 0.3381,\n            'f': \"0.3381\",\n        },\n{\n            'v': 0.9342,\n            'f': \"0.9342\",\n        },\n{\n            'v': 0.5772,\n            'f': \"0.5772\",\n        },\n{\n            'v': 0.8415,\n            'f': \"0.8415\",\n        },\n{\n            'v': 0.3377,\n            'f': \"0.3377\",\n        },\n{\n            'v': 0.4264,\n            'f': \"0.4264\",\n        },\n{\n            'v': 0.6361,\n            'f': \"0.6361\",\n        },\n{\n            'v': 1513.0,\n            'f': \"1513.0\",\n        }],\n [\"5-NN\",\n{\n            'v': 0.21,\n            'f': \"0.21\",\n        },\n{\n            'v': 0.828,\n            'f': \"0.828\",\n        },\n{\n            'v': 0.3429,\n            'f': \"0.3429\",\n        },\n{\n            'v': 0.957,\n            'f': \"0.957\",\n        },\n{\n            'v': 0.6792,\n            'f': \"0.6792\",\n        },\n{\n            'v': 0.8456,\n            'f': \"0.8456\",\n        },\n{\n            'v': 0.3967,\n            'f': \"0.3967\",\n        },\n{\n            'v': 0.4557,\n            'f': \"0.4557\",\n        },\n{\n            'v': 0.6499,\n            'f': \"0.6499\",\n        },\n{\n            'v': 1486.0,\n            'f': \"1486.0\",\n        }],\n [\"7-NN\",\n{\n            'v': 0.21,\n            'f': \"0.21\",\n        },\n{\n            'v': 0.829,\n            'f': \"0.829\",\n        },\n{\n            'v': 0.3524,\n            'f': \"0.3524\",\n        },\n{\n            'v': 0.9557,\n            'f': \"0.9557\",\n        },\n{\n            'v': 0.6789,\n            'f': \"0.6789\",\n        },\n{\n            'v': 0.8474,\n            'f': \"0.8474\",\n        },\n{\n            'v': 0.4027,\n            'f': \"0.4027\",\n        },\n{\n            'v': 0.4639,\n            'f': \"0.4639\",\n        },\n{\n            'v': 0.654,\n            'f': \"0.654\",\n        },\n{\n            'v': 1469.0,\n            'f': \"1469.0\",\n        }],\n [\"9-NN\",\n{\n            'v': 0.21,\n            'f': \"0.21\",\n        },\n{\n            'v': 0.836,\n            'f': \"0.836\",\n        },\n{\n            'v': 0.3524,\n            'f': \"0.3524\",\n        },\n{\n            'v': 0.9646,\n            'f': \"0.9646\",\n        },\n{\n            'v': 0.7255,\n            'f': \"0.7255\",\n        },\n{\n            'v': 0.8486,\n            'f': \"0.8486\",\n        },\n{\n            'v': 0.4265,\n            'f': \"0.4265\",\n        },\n{\n            'v': 0.4744,\n            'f': \"0.4744\",\n        },\n{\n            'v': 0.6585,\n            'f': \"0.6585\",\n        },\n{\n            'v': 1462.0,\n            'f': \"1462.0\",\n        }],\n [\"\\u00c1rvore (4)\",\n{\n            'v': 0.21,\n            'f': \"0.21\",\n        },\n{\n            'v': 0.841,\n            'f': \"0.841\",\n        },\n{\n            'v': 0.3333,\n            'f': \"0.3333\",\n        },\n{\n            'v': 0.9759,\n            'f': \"0.9759\",\n        },\n{\n            'v': 0.7865,\n            'f': \"0.7865\",\n        },\n{\n            'v': 0.8463,\n            'f': \"0.8463\",\n        },\n{\n            'v': 0.4424,\n            'f': \"0.4424\",\n        },\n{\n            'v': 0.4682,\n            'f': \"0.4682\",\n        },\n{\n            'v': 0.6546,\n            'f': \"0.6546\",\n        },\n{\n            'v': 1489.0,\n            'f': \"1489.0\",\n        }],\n [\"\\u00c1rvore (8)\",\n{\n            'v': 0.21,\n            'f': \"0.21\",\n        },\n{\n            'v': 0.839,\n            'f': \"0.839\",\n        },\n{\n            'v': 0.419,\n            'f': \"0.419\",\n        },\n{\n            'v': 0.9506,\n            'f': \"0.9506\",\n        },\n{\n            'v': 0.6929,\n            'f': \"0.6929\",\n        },\n{\n            'v': 0.8603,\n            'f': \"0.8603\",\n        },\n{\n            'v': 0.4522,\n            'f': \"0.4522\",\n        },\n{\n            'v': 0.5223,\n            'f': \"0.5223\",\n        },\n{\n            'v': 0.6848,\n            'f': \"0.6848\",\n        },\n{\n            'v': 1347.0,\n            'f': \"1347.0\",\n        }],\n [\"\\u00c1rvore (12)\",\n{\n            'v': 0.21,\n            'f': \"0.21\",\n        },\n{\n            'v': 0.811,\n            'f': \"0.811\",\n        },\n{\n            'v': 0.4095,\n            'f': \"0.4095\",\n        },\n{\n            'v': 0.9177,\n            'f': \"0.9177\",\n        },\n{\n            'v': 0.5695,\n            'f': \"0.5695\",\n        },\n{\n            'v': 0.8539,\n            'f': \"0.8539\",\n        },\n{\n            'v': 0.3723,\n            'f': \"0.3723\",\n        },\n{\n            'v': 0.4765,\n            'f': \"0.4765\",\n        },\n{\n            'v': 0.6636,\n            'f': \"0.6636\",\n        },\n{\n            'v': 1391.0,\n            'f': \"1391.0\",\n        }],\n [\"Random Forest (8)\",\n{\n            'v': 0.21,\n            'f': \"0.21\",\n        },\n{\n            'v': 0.856,\n            'f': \"0.856\",\n        },\n{\n            'v': 0.3857,\n            'f': \"0.3857\",\n        },\n{\n            'v': 0.981,\n            'f': \"0.981\",\n        },\n{\n            'v': 0.8438,\n            'f': \"0.8438\",\n        },\n{\n            'v': 0.8573,\n            'f': \"0.8573\",\n        },\n{\n            'v': 0.507,\n            'f': \"0.507\",\n        },\n{\n            'v': 0.5294,\n            'f': \"0.5294\",\n        },\n{\n            'v': 0.6834,\n            'f': \"0.6834\",\n        },\n{\n            'v': 1386.0,\n            'f': \"1386.0\",\n        }],\n [\"Random Forest (16)\",\n{\n            'v': 0.21,\n            'f': \"0.21\",\n        },\n{\n            'v': 0.851,\n            'f': \"0.851\",\n        },\n{\n            'v': 0.4238,\n            'f': \"0.4238\",\n        },\n{\n            'v': 0.9646,\n            'f': \"0.9646\",\n        },\n{\n            'v': 0.7607,\n            'f': \"0.7607\",\n        },\n{\n            'v': 0.863,\n            'f': \"0.863\",\n        },\n{\n            'v': 0.4921,\n            'f': \"0.4921\",\n        },\n{\n            'v': 0.5443,\n            'f': \"0.5443\",\n        },\n{\n            'v': 0.6942,\n            'f': \"0.6942\",\n        },\n{\n            'v': 1327.0,\n            'f': \"1327.0\",\n        }],\n [\"Random Forest (24)\",\n{\n            'v': 0.21,\n            'f': \"0.21\",\n        },\n{\n            'v': 0.848,\n            'f': \"0.848\",\n        },\n{\n            'v': 0.4333,\n            'f': \"0.4333\",\n        },\n{\n            'v': 0.9582,\n            'f': \"0.9582\",\n        },\n{\n            'v': 0.7339,\n            'f': \"0.7339\",\n        },\n{\n            'v': 0.8642,\n            'f': \"0.8642\",\n        },\n{\n            'v': 0.4839,\n            'f': \"0.4839\",\n        },\n{\n            'v': 0.5449,\n            'f': \"0.5449\",\n        },\n{\n            'v': 0.6958,\n            'f': \"0.6958\",\n        },\n{\n            'v': 1314.0,\n            'f': \"1314.0\",\n        }]],\n        columns: [[\"string\", \"index\"], [\"number\", \"preval\\u00eancia\"], [\"number\", \"acur\\u00e1cia\"], [\"number\", \"sensibilidade\"], [\"number\", \"especificidade\"], [\"number\", \"vpp\"], [\"number\", \"vpn\"], [\"number\", \"mcc\"], [\"number\", \"f1-score\"], [\"number\", \"efici\\u00eancia\"], [\"number\", \"custo\"]],\n        columnOptions: [{\"width\": \"1px\", \"className\": \"index_column\"}],\n        rowsPerPage: 25,\n        helpUrl: \"https://colab.research.google.com/notebooks/data_table.ipynb\",\n        suppressOutputScrolling: true,\n        minimumWidth: undefined,\n      });\n    ",
            "text/plain": [
              "<google.colab.data_table.DataTable object>"
            ],
            "text/html": [
              "<div>\n",
              "<style scoped>\n",
              "    .dataframe tbody tr th:only-of-type {\n",
              "        vertical-align: middle;\n",
              "    }\n",
              "\n",
              "    .dataframe tbody tr th {\n",
              "        vertical-align: top;\n",
              "    }\n",
              "\n",
              "    .dataframe thead th {\n",
              "        text-align: right;\n",
              "    }\n",
              "</style>\n",
              "<table border=\"1\" class=\"dataframe\">\n",
              "  <thead>\n",
              "    <tr style=\"text-align: right;\">\n",
              "      <th></th>\n",
              "      <th>prevalência</th>\n",
              "      <th>acurácia</th>\n",
              "      <th>sensibilidade</th>\n",
              "      <th>especificidade</th>\n",
              "      <th>vpp</th>\n",
              "      <th>vpn</th>\n",
              "      <th>mcc</th>\n",
              "      <th>f1-score</th>\n",
              "      <th>eficiência</th>\n",
              "      <th>custo</th>\n",
              "    </tr>\n",
              "  </thead>\n",
              "  <tbody>\n",
              "    <tr>\n",
              "      <th>Reg. Log.</th>\n",
              "      <td>0.21</td>\n",
              "      <td>0.827</td>\n",
              "      <td>0.3476</td>\n",
              "      <td>0.9544</td>\n",
              "      <td>0.6697</td>\n",
              "      <td>0.8462</td>\n",
              "      <td>0.3948</td>\n",
              "      <td>0.4577</td>\n",
              "      <td>0.6510</td>\n",
              "      <td>1479.0</td>\n",
              "    </tr>\n",
              "    <tr>\n",
              "      <th>3-NN</th>\n",
              "      <td>0.21</td>\n",
              "      <td>0.809</td>\n",
              "      <td>0.3381</td>\n",
              "      <td>0.9342</td>\n",
              "      <td>0.5772</td>\n",
              "      <td>0.8415</td>\n",
              "      <td>0.3377</td>\n",
              "      <td>0.4264</td>\n",
              "      <td>0.6361</td>\n",
              "      <td>1513.0</td>\n",
              "    </tr>\n",
              "    <tr>\n",
              "      <th>5-NN</th>\n",
              "      <td>0.21</td>\n",
              "      <td>0.828</td>\n",
              "      <td>0.3429</td>\n",
              "      <td>0.9570</td>\n",
              "      <td>0.6792</td>\n",
              "      <td>0.8456</td>\n",
              "      <td>0.3967</td>\n",
              "      <td>0.4557</td>\n",
              "      <td>0.6499</td>\n",
              "      <td>1486.0</td>\n",
              "    </tr>\n",
              "    <tr>\n",
              "      <th>7-NN</th>\n",
              "      <td>0.21</td>\n",
              "      <td>0.829</td>\n",
              "      <td>0.3524</td>\n",
              "      <td>0.9557</td>\n",
              "      <td>0.6789</td>\n",
              "      <td>0.8474</td>\n",
              "      <td>0.4027</td>\n",
              "      <td>0.4639</td>\n",
              "      <td>0.6540</td>\n",
              "      <td>1469.0</td>\n",
              "    </tr>\n",
              "    <tr>\n",
              "      <th>9-NN</th>\n",
              "      <td>0.21</td>\n",
              "      <td>0.836</td>\n",
              "      <td>0.3524</td>\n",
              "      <td>0.9646</td>\n",
              "      <td>0.7255</td>\n",
              "      <td>0.8486</td>\n",
              "      <td>0.4265</td>\n",
              "      <td>0.4744</td>\n",
              "      <td>0.6585</td>\n",
              "      <td>1462.0</td>\n",
              "    </tr>\n",
              "    <tr>\n",
              "      <th>Árvore (4)</th>\n",
              "      <td>0.21</td>\n",
              "      <td>0.841</td>\n",
              "      <td>0.3333</td>\n",
              "      <td>0.9759</td>\n",
              "      <td>0.7865</td>\n",
              "      <td>0.8463</td>\n",
              "      <td>0.4424</td>\n",
              "      <td>0.4682</td>\n",
              "      <td>0.6546</td>\n",
              "      <td>1489.0</td>\n",
              "    </tr>\n",
              "    <tr>\n",
              "      <th>Árvore (8)</th>\n",
              "      <td>0.21</td>\n",
              "      <td>0.839</td>\n",
              "      <td>0.4190</td>\n",
              "      <td>0.9506</td>\n",
              "      <td>0.6929</td>\n",
              "      <td>0.8603</td>\n",
              "      <td>0.4522</td>\n",
              "      <td>0.5223</td>\n",
              "      <td>0.6848</td>\n",
              "      <td>1347.0</td>\n",
              "    </tr>\n",
              "    <tr>\n",
              "      <th>Árvore (12)</th>\n",
              "      <td>0.21</td>\n",
              "      <td>0.811</td>\n",
              "      <td>0.4095</td>\n",
              "      <td>0.9177</td>\n",
              "      <td>0.5695</td>\n",
              "      <td>0.8539</td>\n",
              "      <td>0.3723</td>\n",
              "      <td>0.4765</td>\n",
              "      <td>0.6636</td>\n",
              "      <td>1391.0</td>\n",
              "    </tr>\n",
              "    <tr>\n",
              "      <th>Random Forest (8)</th>\n",
              "      <td>0.21</td>\n",
              "      <td>0.856</td>\n",
              "      <td>0.3857</td>\n",
              "      <td>0.9810</td>\n",
              "      <td>0.8438</td>\n",
              "      <td>0.8573</td>\n",
              "      <td>0.5070</td>\n",
              "      <td>0.5294</td>\n",
              "      <td>0.6834</td>\n",
              "      <td>1386.0</td>\n",
              "    </tr>\n",
              "    <tr>\n",
              "      <th>Random Forest (16)</th>\n",
              "      <td>0.21</td>\n",
              "      <td>0.851</td>\n",
              "      <td>0.4238</td>\n",
              "      <td>0.9646</td>\n",
              "      <td>0.7607</td>\n",
              "      <td>0.8630</td>\n",
              "      <td>0.4921</td>\n",
              "      <td>0.5443</td>\n",
              "      <td>0.6942</td>\n",
              "      <td>1327.0</td>\n",
              "    </tr>\n",
              "    <tr>\n",
              "      <th>Random Forest (24)</th>\n",
              "      <td>0.21</td>\n",
              "      <td>0.848</td>\n",
              "      <td>0.4333</td>\n",
              "      <td>0.9582</td>\n",
              "      <td>0.7339</td>\n",
              "      <td>0.8642</td>\n",
              "      <td>0.4839</td>\n",
              "      <td>0.5449</td>\n",
              "      <td>0.6958</td>\n",
              "      <td>1314.0</td>\n",
              "    </tr>\n",
              "  </tbody>\n",
              "</table>\n",
              "</div>"
            ]
          },
          "metadata": {
            "tags": []
          },
          "execution_count": 147
        }
      ]
    },
    {
      "cell_type": "markdown",
      "metadata": {
        "id": "6aATBoI5khr0"
      },
      "source": [
        "\n",
        "\n",
        "---\n",
        "\n"
      ]
    },
    {
      "cell_type": "markdown",
      "metadata": {
        "id": "gJTzEY5bq9HX"
      },
      "source": [
        "### Quais as variáveis que são mais relevantes nesse problema?"
      ]
    },
    {
      "cell_type": "code",
      "metadata": {
        "id": "ouOK3nAmDn09",
        "colab": {
          "base_uri": "https://localhost:8080/",
          "height": 283
        },
        "outputId": "0c07dc9e-1865-4829-c7e7-d0b8a439fd86"
      },
      "source": [
        "import matplotlib.pyplot as plt\n",
        "\n",
        "nomes = list(Xtreino.columns)\n",
        "x = np.arange(len(nomes))\n",
        "y = rf24.feature_importances_\n",
        " \n",
        "plt.style.use('ggplot')\n",
        "data = pd.DataFrame({'Importância': y}, index = nomes) \n",
        "data.sort_values(by = 'Importância').plot(kind = 'barh', colormap = 'Dark2')\n",
        "plt.title('Gráfico de importância das variáveis')\n",
        "plt.show()"
      ],
      "execution_count": null,
      "outputs": [
        {
          "output_type": "display_data",
          "data": {
            "image/png": "[encoded data removed]",
            "text/plain": [
              "<Figure size 432x288 with 1 Axes>"
            ]
          },
          "metadata": {
            "tags": []
          }
        }
      ]
    },
    {
      "cell_type": "markdown",
      "metadata": {
        "id": "ZLsPBMXkkgfJ"
      },
      "source": [
        "\n",
        "\n",
        "---\n",
        "\n"
      ]
    },
    {
      "cell_type": "markdown",
      "metadata": {
        "id": "Qx104lLyrBrf"
      },
      "source": [
        "### Enfim, qual estratégia tomar agora?"
      ]
    },
    {
      "cell_type": "markdown",
      "metadata": {
        "id": "kltqJ3AjPAN8"
      },
      "source": [
        "De acordo com nossos resultados preliminares, temos que o modelo baseado em Árvore de Decisão, com profundidade igual 12, retorna o menor custo na amostra de validação. \n",
        "\n",
        "Vamos utilizar o método predict_proba para prever as probabilidades de cada indivíduo na amostra de validação entrar em churn e classificá-los em faixas.\n",
        "\n",
        "Podemos compor as faixas da seguinte maneira:\n",
        "\n",
        "- 0% - 25% de probabilidade de Churn: Ações de Marketing Leves\n",
        "- 25% - 50% de probabilidade de Churn: Ações de Marketing Intermediárias\n",
        "- 50% - 75% de probabilidade de Churn: Ações de Marketing Fortes\n",
        "- 75% - 100% de probabilidade de Churn: Ações de Marketing Agressivas"
      ]
    },
    {
      "cell_type": "code",
      "metadata": {
        "id": "NtIMkhurQCnM"
      },
      "source": [
        "probs = pd.DataFrame(rf24.predict_proba(Xvalid))\n",
        "\n",
        "def aux(x):\n",
        "    if x < 0.25:\n",
        "        return 'Leve'\n",
        "    elif x < 0.5:\n",
        "        return 'Intermediário'\n",
        "    elif x < 0.75:\n",
        "        return 'Forte'\n",
        "    else:\n",
        "        return 'Agressivo'\n",
        "\n",
        "probs['Campanha'] = probs[1].apply(aux)"
      ],
      "execution_count": null,
      "outputs": []
    },
    {
      "cell_type": "code",
      "metadata": {
        "id": "uWvFX4uV9MZg",
        "colab": {
          "base_uri": "https://localhost:8080/",
          "height": 676
        },
        "outputId": "5f811513-b634-45c0-bb61-d5923a5e4e3e"
      },
      "source": [
        "probs.sample(20)"
      ],
      "execution_count": null,
      "outputs": [
        {
          "output_type": "execute_result",
          "data": {
            "text/html": [
              "<div>\n",
              "<style scoped>\n",
              "    .dataframe tbody tr th:only-of-type {\n",
              "        vertical-align: middle;\n",
              "    }\n",
              "\n",
              "    .dataframe tbody tr th {\n",
              "        vertical-align: top;\n",
              "    }\n",
              "\n",
              "    .dataframe thead th {\n",
              "        text-align: right;\n",
              "    }\n",
              "</style>\n",
              "<table border=\"1\" class=\"dataframe\">\n",
              "  <thead>\n",
              "    <tr style=\"text-align: right;\">\n",
              "      <th></th>\n",
              "      <th>0</th>\n",
              "      <th>1</th>\n",
              "      <th>Campanha</th>\n",
              "    </tr>\n",
              "  </thead>\n",
              "  <tbody>\n",
              "    <tr>\n",
              "      <th>714</th>\n",
              "      <td>0.950000</td>\n",
              "      <td>0.050000</td>\n",
              "      <td>Leve</td>\n",
              "    </tr>\n",
              "    <tr>\n",
              "      <th>87</th>\n",
              "      <td>0.630000</td>\n",
              "      <td>0.370000</td>\n",
              "      <td>Intermediário</td>\n",
              "    </tr>\n",
              "    <tr>\n",
              "      <th>603</th>\n",
              "      <td>0.910000</td>\n",
              "      <td>0.090000</td>\n",
              "      <td>Leve</td>\n",
              "    </tr>\n",
              "    <tr>\n",
              "      <th>894</th>\n",
              "      <td>0.917500</td>\n",
              "      <td>0.082500</td>\n",
              "      <td>Leve</td>\n",
              "    </tr>\n",
              "    <tr>\n",
              "      <th>185</th>\n",
              "      <td>0.830000</td>\n",
              "      <td>0.170000</td>\n",
              "      <td>Leve</td>\n",
              "    </tr>\n",
              "    <tr>\n",
              "      <th>718</th>\n",
              "      <td>1.000000</td>\n",
              "      <td>0.000000</td>\n",
              "      <td>Leve</td>\n",
              "    </tr>\n",
              "    <tr>\n",
              "      <th>270</th>\n",
              "      <td>0.210000</td>\n",
              "      <td>0.790000</td>\n",
              "      <td>Agressivo</td>\n",
              "    </tr>\n",
              "    <tr>\n",
              "      <th>261</th>\n",
              "      <td>0.827500</td>\n",
              "      <td>0.172500</td>\n",
              "      <td>Leve</td>\n",
              "    </tr>\n",
              "    <tr>\n",
              "      <th>414</th>\n",
              "      <td>0.990000</td>\n",
              "      <td>0.010000</td>\n",
              "      <td>Leve</td>\n",
              "    </tr>\n",
              "    <tr>\n",
              "      <th>549</th>\n",
              "      <td>0.930000</td>\n",
              "      <td>0.070000</td>\n",
              "      <td>Leve</td>\n",
              "    </tr>\n",
              "    <tr>\n",
              "      <th>867</th>\n",
              "      <td>0.930000</td>\n",
              "      <td>0.070000</td>\n",
              "      <td>Leve</td>\n",
              "    </tr>\n",
              "    <tr>\n",
              "      <th>97</th>\n",
              "      <td>0.960000</td>\n",
              "      <td>0.040000</td>\n",
              "      <td>Leve</td>\n",
              "    </tr>\n",
              "    <tr>\n",
              "      <th>498</th>\n",
              "      <td>0.936667</td>\n",
              "      <td>0.063333</td>\n",
              "      <td>Leve</td>\n",
              "    </tr>\n",
              "    <tr>\n",
              "      <th>331</th>\n",
              "      <td>1.000000</td>\n",
              "      <td>0.000000</td>\n",
              "      <td>Leve</td>\n",
              "    </tr>\n",
              "    <tr>\n",
              "      <th>541</th>\n",
              "      <td>0.830000</td>\n",
              "      <td>0.170000</td>\n",
              "      <td>Leve</td>\n",
              "    </tr>\n",
              "    <tr>\n",
              "      <th>37</th>\n",
              "      <td>0.990000</td>\n",
              "      <td>0.010000</td>\n",
              "      <td>Leve</td>\n",
              "    </tr>\n",
              "    <tr>\n",
              "      <th>622</th>\n",
              "      <td>0.960000</td>\n",
              "      <td>0.040000</td>\n",
              "      <td>Leve</td>\n",
              "    </tr>\n",
              "    <tr>\n",
              "      <th>204</th>\n",
              "      <td>1.000000</td>\n",
              "      <td>0.000000</td>\n",
              "      <td>Leve</td>\n",
              "    </tr>\n",
              "    <tr>\n",
              "      <th>909</th>\n",
              "      <td>0.280000</td>\n",
              "      <td>0.720000</td>\n",
              "      <td>Forte</td>\n",
              "    </tr>\n",
              "    <tr>\n",
              "      <th>916</th>\n",
              "      <td>1.000000</td>\n",
              "      <td>0.000000</td>\n",
              "      <td>Leve</td>\n",
              "    </tr>\n",
              "  </tbody>\n",
              "</table>\n",
              "</div>"
            ],
            "text/plain": [
              "            0         1       Campanha\n",
              "714  0.950000  0.050000           Leve\n",
              "87   0.630000  0.370000  Intermediário\n",
              "603  0.910000  0.090000           Leve\n",
              "894  0.917500  0.082500           Leve\n",
              "185  0.830000  0.170000           Leve\n",
              "718  1.000000  0.000000           Leve\n",
              "270  0.210000  0.790000      Agressivo\n",
              "261  0.827500  0.172500           Leve\n",
              "414  0.990000  0.010000           Leve\n",
              "549  0.930000  0.070000           Leve\n",
              "867  0.930000  0.070000           Leve\n",
              "97   0.960000  0.040000           Leve\n",
              "498  0.936667  0.063333           Leve\n",
              "331  1.000000  0.000000           Leve\n",
              "541  0.830000  0.170000           Leve\n",
              "37   0.990000  0.010000           Leve\n",
              "622  0.960000  0.040000           Leve\n",
              "204  1.000000  0.000000           Leve\n",
              "909  0.280000  0.720000          Forte\n",
              "916  1.000000  0.000000           Leve"
            ]
          },
          "metadata": {
            "tags": []
          },
          "execution_count": 152
        }
      ]
    },
    {
      "cell_type": "code",
      "metadata": {
        "id": "GpPqh2GqRptC",
        "colab": {
          "base_uri": "https://localhost:8080/"
        },
        "outputId": "44dec8ad-5325-4148-e754-0cba61d0d4db"
      },
      "source": [
        "probs['Campanha'].value_counts()"
      ],
      "execution_count": null,
      "outputs": [
        {
          "output_type": "execute_result",
          "data": {
            "text/plain": [
              "Leve             717\n",
              "Intermediário    157\n",
              "Forte             69\n",
              "Agressivo         57\n",
              "Name: Campanha, dtype: int64"
            ]
          },
          "metadata": {
            "tags": []
          },
          "execution_count": 153
        }
      ]
    },
    {
      "cell_type": "code",
      "metadata": {
        "id": "sqX1oLPkQpzd",
        "colab": {
          "base_uri": "https://localhost:8080/",
          "height": 282
        },
        "outputId": "b50c09d5-7cf4-4abe-adb7-b04834b17695"
      },
      "source": [
        "probs['Campanha'].value_counts().sort_values(ascending = True).plot(kind = 'barh')\n",
        "plt.title('Quantidade de clientes em cada ação a ser tomada')\n",
        "plt.show()"
      ],
      "execution_count": null,
      "outputs": [
        {
          "output_type": "display_data",
          "data": {
            "image/png": "[encoded data removed]",
            "text/plain": [
              "<Figure size 432x288 with 1 Axes>"
            ]
          },
          "metadata": {
            "tags": []
          }
        }
      ]
    },
    {
      "cell_type": "markdown",
      "metadata": {
        "id": "zPrsaN6Lkejk"
      },
      "source": [
        "\n",
        "\n",
        "---\n",
        "\n"
      ]
    },
    {
      "cell_type": "markdown",
      "metadata": {
        "id": "rqG-vQ-mWIsz"
      },
      "source": [
        "# Criando uma Métrica Personalizada no Scikit-learn"
      ]
    },
    {
      "cell_type": "code",
      "metadata": {
        "id": "YPajsZVqMIPN"
      },
      "source": [
        "#testando minha metrica\n",
        "def custo(observado, predito):\n",
        "    mc = confusion_matrix(observado, predito)\n",
        "    mcusto = [0, 1, 10, 1]\n",
        "    return (mc * np.array(mcusto).reshape(2,2)).sum()"
      ],
      "execution_count": null,
      "outputs": []
    },
    {
      "cell_type": "code",
      "metadata": {
        "colab": {
          "base_uri": "https://localhost:8080/"
        },
        "id": "H4jZ5TftM7Vs",
        "outputId": "5526e0bc-f626-4e6e-cde3-bd29dd3d9f9d"
      },
      "source": [
        "from sklearn.metrics import make_scorer\n",
        "minhametrica = make_scorer(custo, greater_is_better = False)\n",
        "rl = cross_validate(LogisticRegression(), Xtreino, Ytreino, cv = kf, scoring = minhametrica)\n",
        "rl['test_score'].mean()"
      ],
      "execution_count": null,
      "outputs": [
        {
          "output_type": "execute_result",
          "data": {
            "text/plain": [
              "-1227.7"
            ]
          },
          "metadata": {
            "tags": []
          },
          "execution_count": 157
        }
      ]
    },
    {
      "cell_type": "markdown",
      "metadata": {
        "id": "Ynre_vmzWUmb"
      },
      "source": [
        "---"
      ]
    },
    {
      "cell_type": "markdown",
      "metadata": {
        "id": "gHnoQ9N7R8Dd"
      },
      "source": [
        "## **Exercício Final**\n",
        "\n",
        "Faça um projeto com suas ideias e adicione ao seu portfólio!"
      ]
    },
    {
      "cell_type": "markdown",
      "metadata": {
        "id": "-nBEEw-Ojy2E"
      },
      "source": [
        "## **Links Úteis**\n",
        "\n",
        "- [Conjunto de dados de Churn no kaggle](https://www.kaggle.com/shubh0799/churn-modelling)"
      ]
    }
  ]
}