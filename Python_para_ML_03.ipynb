{
  "nbformat": 4,
  "nbformat_minor": 0,
  "metadata": {
    "colab": {
      "name": "Python para ML - 03.ipynb",
      "provenance": [],
      "authorship_tag": "ABX9TyOw7aMSGiMDMeCyHBkzWGqJ",
      "include_colab_link": true
    },
    "kernelspec": {
      "name": "python3",
      "display_name": "Python 3"
    }
  },
  "cells": [
    {
      "cell_type": "markdown",
      "metadata": {
        "id": "view-in-github",
        "colab_type": "text"
      },
      "source": [
        "<a href=\"https://colab.research.google.com/github/ricardorocha86/Python-para-Machine-Learning/blob/master/Python_para_ML_03.ipynb\" target=\"_parent\"><img src=\"https://colab.research.google.com/assets/colab-badge.svg\" alt=\"Open In Colab\"/></a>"
      ]
    },
    {
      "cell_type": "markdown",
      "metadata": {
        "id": "y-tWWWUKwsQ8",
        "colab_type": "text"
      },
      "source": [
        "![alt text](https://raw.githubusercontent.com/ricardorocha86/Python-para-Machine-Learning/master/Imagens/capa%20-%20python%20para%20ml%2003.jpg)"
      ]
    },
    {
      "cell_type": "markdown",
      "metadata": {
        "id": "06dgfAJmv4fu",
        "colab_type": "text"
      },
      "source": [
        "# **Python para Machine Learning** - Parte 03"
      ]
    },
    {
      "cell_type": "markdown",
      "metadata": {
        "id": "_7pc3VLbxNNV",
        "colab_type": "text"
      },
      "source": [
        "Nesse notebook veremos:\n",
        "- Tuplas\n",
        "- Conjuntos\n",
        "- A Biblioteca Numpy\n",
        "- Projeto: simulação de um álbum de figurinhas\n",
        "- Exercícios\n",
        "- Links Úteis"
      ]
    },
    {
      "cell_type": "markdown",
      "metadata": {
        "id": "1l2tpVyWWB84",
        "colab_type": "text"
      },
      "source": [
        "## **Tuplas**"
      ]
    },
    {
      "cell_type": "markdown",
      "metadata": {
        "id": "Hq1QGJGsYAPi",
        "colab_type": "text"
      },
      "source": [
        "Tuplas são muito similares a listas. São definidas utilizando parênteses **( )**. A diferença entre listas e tuplas é que tuplas não são mutáveis, isto é, você não consegue alterar o valor de uma entrada de uma tupla. Veja no exemplo."
      ]
    },
    {
      "cell_type": "code",
      "metadata": {
        "id": "zeEQcg15R-z-",
        "colab_type": "code",
        "colab": {
          "base_uri": "https://localhost:8080/",
          "height": 36
        },
        "outputId": "6e5323d9-4ed0-46b3-fe7c-a39341f1d1df"
      },
      "source": [
        "lista = ['Ricardo', 33, True, len]\n",
        "tupla = ('Ricardo', 33, True, len)\n",
        "print(tupla[0])"
      ],
      "execution_count": null,
      "outputs": [
        {
          "output_type": "stream",
          "text": [
            "Ricardo\n"
          ],
          "name": "stdout"
        }
      ]
    },
    {
      "cell_type": "code",
      "metadata": {
        "id": "WwD6lwEfSJut",
        "colab_type": "code",
        "colab": {
          "base_uri": "https://localhost:8080/",
          "height": 173
        },
        "outputId": "d6b6d03a-949b-42d7-8043-0bddb0fcc8c1"
      },
      "source": [
        "tupla[0] = 'Python'"
      ],
      "execution_count": null,
      "outputs": [
        {
          "output_type": "error",
          "ename": "TypeError",
          "evalue": "ignored",
          "traceback": [
            "\u001b[0;31m---------------------------------------------------------------------------\u001b[0m",
            "\u001b[0;31mTypeError\u001b[0m                                 Traceback (most recent call last)",
            "\u001b[0;32m<ipython-input-3-f89789468150>\u001b[0m in \u001b[0;36m<module>\u001b[0;34m()\u001b[0m\n\u001b[0;32m----> 1\u001b[0;31m \u001b[0mtupla\u001b[0m\u001b[0;34m[\u001b[0m\u001b[0;36m0\u001b[0m\u001b[0;34m]\u001b[0m \u001b[0;34m=\u001b[0m \u001b[0;34m'Python'\u001b[0m\u001b[0;34m\u001b[0m\u001b[0;34m\u001b[0m\u001b[0m\n\u001b[0m",
            "\u001b[0;31mTypeError\u001b[0m: 'tuple' object does not support item assignment"
          ]
        }
      ]
    },
    {
      "cell_type": "code",
      "metadata": {
        "id": "R1BffMF2SFS_",
        "colab_type": "code",
        "colab": {
          "base_uri": "https://localhost:8080/",
          "height": 36
        },
        "outputId": "67906975-d6a1-457c-d4c9-4d7e3448d2e4"
      },
      "source": [
        "lista[0] = 'Python'\n",
        "print(lista)"
      ],
      "execution_count": null,
      "outputs": [
        {
          "output_type": "stream",
          "text": [
            "['Python', 33, True, <built-in function len>]\n"
          ],
          "name": "stdout"
        }
      ]
    },
    {
      "cell_type": "markdown",
      "metadata": {
        "id": "nJlZkE7MYBEL",
        "colab_type": "text"
      },
      "source": [
        "Tuplas, em geral, são mais rápidas de se processar do que listas. Elas previnem que uma informação seja alterada ou modificada sem intenção. Elas não possuem o método **append** ou **extend**. No entanto, ela não são tão frequentemente utilizadas como são as listas. "
      ]
    },
    {
      "cell_type": "markdown",
      "metadata": {
        "id": "9XQ9g5cPTK3Q",
        "colab_type": "text"
      },
      "source": [
        "## **Conjuntos**"
      ]
    },
    {
      "cell_type": "markdown",
      "metadata": {
        "id": "vOwQDFd3TLBu",
        "colab_type": "text"
      },
      "source": [
        "Conjuntos é também um objeto básico do Python que simula um conjunto matemático. Neles, podemos armazenar elementos que não serão indexados e não permite repetições. Conjuntos são criados através da função **set** em uma lista ou utilizando **chaves { }**. Veja o exemplo."
      ]
    },
    {
      "cell_type": "code",
      "metadata": {
        "id": "ort4fxkmTrmE",
        "colab_type": "code",
        "colab": {}
      },
      "source": [
        "conjunto1 = set(['carne', 'linguiça', 'frango', 'cerveja', 'refrigerante', 'carne', 'frango'])\n",
        "conjunto2 = {'carne', 'linguiça', 'frango', 'cerveja', 'refrigerante', 'carne', 'linguiça'}"
      ],
      "execution_count": null,
      "outputs": []
    },
    {
      "cell_type": "code",
      "metadata": {
        "id": "9gEVTn9CUDR-",
        "colab_type": "code",
        "colab": {
          "base_uri": "https://localhost:8080/",
          "height": 73
        },
        "outputId": "78be44c3-cb95-45bb-d80a-52b64ff8b2fb"
      },
      "source": [
        "print(conjunto1)\n",
        "print(conjunto2)\n",
        "print(conjunto1 == conjunto2)"
      ],
      "execution_count": null,
      "outputs": [
        {
          "output_type": "stream",
          "text": [
            "{'carne', 'linguiça', 'refrigerante', 'frango', 'cerveja'}\n",
            "{'carne', 'linguiça', 'refrigerante', 'frango', 'cerveja'}\n",
            "True\n"
          ],
          "name": "stdout"
        }
      ]
    },
    {
      "cell_type": "markdown",
      "metadata": {
        "id": "1nEIxFSYUzWx",
        "colab_type": "text"
      },
      "source": [
        "Alguns métodos importantes em conjuntos são as possíveis operações "
      ]
    },
    {
      "cell_type": "code",
      "metadata": {
        "id": "F1GndKzvUAbf",
        "colab_type": "code",
        "colab": {
          "base_uri": "https://localhost:8080/",
          "height": 202
        },
        "outputId": "4cc61b13-7733-48a0-f719-0d388b6d784c"
      },
      "source": [
        "conj1 = {'A', 'B', 'C', 1, 2, 3}\n",
        "conj2 = {'C', 'D', 'E', 3, 4, 5}\n",
        "print(conj1)\n",
        "print(conj2)\n",
        "\n",
        "print('\\nInterseção: ', conj1.intersection(conj2))\n",
        "print('\\nUnião: ', conj1.union(conj2))\n",
        "print('\\nSão disjuntos?: ', conj1.isdisjoint(conj2))\n",
        "print('\\nDiferença Simétrica: ', conj1.symmetric_difference(conj2))"
      ],
      "execution_count": null,
      "outputs": [
        {
          "output_type": "stream",
          "text": [
            "{'B', 1, 2, 3, 'A', 'C'}\n",
            "{3, 'E', 4, 5, 'D', 'C'}\n",
            "\n",
            "Interseção:  {3, 'C'}\n",
            "\n",
            "União:  {'B', 1, 2, 3, 'E', 'A', 4, 5, 'D', 'C'}\n",
            "\n",
            "São disjuntos?:  False\n",
            "\n",
            "Diferença Simétrica:  {'B', 1, 2, 4, 5, 'E', 'A', 'D'}\n"
          ],
          "name": "stdout"
        }
      ]
    },
    {
      "cell_type": "markdown",
      "metadata": {
        "colab_type": "text",
        "id": "d4qDl7aWXlnN"
      },
      "source": [
        "## **A Biblioteca Numpy**"
      ]
    },
    {
      "cell_type": "markdown",
      "metadata": {
        "id": "wBb8VajVYDEb",
        "colab_type": "text"
      },
      "source": [
        "Numpy é a biblioteca mais popular do python para se trabalhar com arrays. \n",
        "\n",
        "Arrays são conjuntos de valores, que podem ser n-dimensionais. \n",
        "\n",
        "Geralmente, um número apenas, um ponto, é um array de dimensão 0\n",
        "\n",
        "Uma lista de valores é um array de dimensão 1. \n",
        "\n",
        "Uma matriz de valores é uma array de dimensão 2. \n",
        "\n",
        "Um tensor de valores é um array de dimensão 3. \n"
      ]
    },
    {
      "cell_type": "code",
      "metadata": {
        "id": "nvdq1LlPZXKH",
        "colab_type": "code",
        "colab": {}
      },
      "source": [
        "import numpy as np"
      ],
      "execution_count": null,
      "outputs": []
    },
    {
      "cell_type": "code",
      "metadata": {
        "id": "64NE6_M6ZYxh",
        "colab_type": "code",
        "colab": {}
      },
      "source": [
        "a0 = np.array(1)\n",
        "a1 = np.array([1, 2])\n",
        "a2 = np.array([[1, 2], [3, 4]])\n",
        "a3 = np.array([[[1, 2], [3, 4]], [[5, 6], [7, 8]]])"
      ],
      "execution_count": null,
      "outputs": []
    },
    {
      "cell_type": "code",
      "metadata": {
        "id": "0YWoD5e6aVwu",
        "colab_type": "code",
        "colab": {
          "base_uri": "https://localhost:8080/",
          "height": 258
        },
        "outputId": "93511906-d017-4028-8d90-196e784b2fbd"
      },
      "source": [
        "print('Array a0:\\n', a0)\n",
        "print('Array a1:\\n', a1)\n",
        "print('Array a2:\\n', a2)\n",
        "print('Array a3:\\n', a3)"
      ],
      "execution_count": null,
      "outputs": [
        {
          "output_type": "stream",
          "text": [
            "Array a0:\n",
            " 1\n",
            "Array a1:\n",
            " [1 2]\n",
            "Array a2:\n",
            " [[1 2]\n",
            " [3 4]]\n",
            "Array a3:\n",
            " [[[1 2]\n",
            "  [3 4]]\n",
            "\n",
            " [[5 6]\n",
            "  [7 8]]]\n"
          ],
          "name": "stdout"
        }
      ]
    },
    {
      "cell_type": "markdown",
      "metadata": {
        "id": "zYn8Dx86Zcpw",
        "colab_type": "text"
      },
      "source": [
        "Use o atributo ndim para verificar a dimensão dos arrays numpy"
      ]
    },
    {
      "cell_type": "code",
      "metadata": {
        "id": "gGQQ1uQBZaLe",
        "colab_type": "code",
        "colab": {
          "base_uri": "https://localhost:8080/",
          "height": 91
        },
        "outputId": "0231212e-1bed-4d56-be04-bb8a8a89ff44"
      },
      "source": [
        "print('Dimensão de a0:', a0.ndim)\n",
        "print('Dimensão de a1:', a1.ndim)\n",
        "print('Dimensão de a2:', a2.ndim)\n",
        "print('Dimensão de a3:', a3.ndim)"
      ],
      "execution_count": null,
      "outputs": [
        {
          "output_type": "stream",
          "text": [
            "Dimensão de a0: 0\n",
            "Dimensão de a1: 1\n",
            "Dimensão de a2: 2\n",
            "Dimensão de a3: 3\n"
          ],
          "name": "stdout"
        }
      ]
    },
    {
      "cell_type": "markdown",
      "metadata": {
        "id": "kXGd2r3ra0X9",
        "colab_type": "text"
      },
      "source": [
        "Transforme uma lista em um array"
      ]
    },
    {
      "cell_type": "code",
      "metadata": {
        "id": "497CDTd9awol",
        "colab_type": "code",
        "colab": {}
      },
      "source": [
        "lista = [1, 2, 3, 4]\n",
        "array = np.array(lista)"
      ],
      "execution_count": null,
      "outputs": []
    },
    {
      "cell_type": "markdown",
      "metadata": {
        "id": "u6PBFagAa7VP",
        "colab_type": "text"
      },
      "source": [
        "Arrays são feitos para se trabalhar com álgebra linear. Veja a diferença quando multiplicamos cada elemento por um escalar"
      ]
    },
    {
      "cell_type": "code",
      "metadata": {
        "id": "KbhXL49ibF50",
        "colab_type": "code",
        "colab": {
          "base_uri": "https://localhost:8080/",
          "height": 54
        },
        "outputId": "d50caf94-d885-4d84-a47a-766c9a4d9d35"
      },
      "source": [
        "print(2*lista)\n",
        "print(2*array)"
      ],
      "execution_count": null,
      "outputs": [
        {
          "output_type": "stream",
          "text": [
            "[1, 2, 3, 4, 1, 2, 3, 4]\n",
            "[2 4 6 8]\n"
          ],
          "name": "stdout"
        }
      ]
    },
    {
      "cell_type": "markdown",
      "metadata": {
        "id": "g7VxSD9DbJYl",
        "colab_type": "text"
      },
      "source": [
        "Similarmente, podemos realizar as demais operações com arrays"
      ]
    },
    {
      "cell_type": "code",
      "metadata": {
        "id": "DRPNPtIibP3s",
        "colab_type": "code",
        "colab": {
          "base_uri": "https://localhost:8080/",
          "height": 128
        },
        "outputId": "2fc14ccd-e3f2-4438-d001-b5a86bc77fcd"
      },
      "source": [
        "print(array + array)\n",
        "print(array * 2)\n",
        "print(array / 3)\n",
        "print(array ** 2)\n",
        "print(array // 2)\n",
        "print(array % 2)"
      ],
      "execution_count": null,
      "outputs": [
        {
          "output_type": "stream",
          "text": [
            "[2 4 6 8]\n",
            "[2 4 6 8]\n",
            "[0.33333333 0.66666667 1.         1.33333333]\n",
            "[ 1  4  9 16]\n",
            "[0 1 1 2]\n",
            "[1 0 1 0]\n"
          ],
          "name": "stdout"
        }
      ]
    },
    {
      "cell_type": "markdown",
      "metadata": {
        "id": "HA-R9IXDeaj4",
        "colab_type": "text"
      },
      "source": [
        "Algumas funções úteis do numpy"
      ]
    },
    {
      "cell_type": "code",
      "metadata": {
        "id": "IHtGwtxoeQO3",
        "colab_type": "code",
        "colab": {
          "base_uri": "https://localhost:8080/",
          "height": 54
        },
        "outputId": "e5f1c489-96ca-4850-bdcc-0623ad0bd62e"
      },
      "source": [
        "matriz = np.array([[1, 3], [4, 6]])\n",
        "print(matriz)"
      ],
      "execution_count": null,
      "outputs": [
        {
          "output_type": "stream",
          "text": [
            "[[1 3]\n",
            " [4 6]]\n"
          ],
          "name": "stdout"
        }
      ]
    },
    {
      "cell_type": "markdown",
      "metadata": {
        "id": "zz6fottjfOWD",
        "colab_type": "text"
      },
      "source": [
        "Determinante de uma matriz"
      ]
    },
    {
      "cell_type": "code",
      "metadata": {
        "id": "bdyEcQHjfOeC",
        "colab_type": "code",
        "colab": {}
      },
      "source": [
        "from numpy.linalg import det"
      ],
      "execution_count": null,
      "outputs": []
    },
    {
      "cell_type": "code",
      "metadata": {
        "id": "607fb4JcfUQe",
        "colab_type": "code",
        "colab": {
          "base_uri": "https://localhost:8080/",
          "height": 36
        },
        "outputId": "f6a6ccab-1ae4-4a00-e212-b17d86f2f3a3"
      },
      "source": [
        "det(matriz)"
      ],
      "execution_count": null,
      "outputs": [
        {
          "output_type": "execute_result",
          "data": {
            "text/plain": [
              "-6.0"
            ]
          },
          "metadata": {
            "tags": []
          },
          "execution_count": 72
        }
      ]
    },
    {
      "cell_type": "markdown",
      "metadata": {
        "id": "zT0U-14jfBA5",
        "colab_type": "text"
      },
      "source": [
        "Inversa de matriz"
      ]
    },
    {
      "cell_type": "code",
      "metadata": {
        "id": "IeC6D5z_bSqu",
        "colab_type": "code",
        "colab": {}
      },
      "source": [
        "from numpy.linalg import inv"
      ],
      "execution_count": null,
      "outputs": []
    },
    {
      "cell_type": "code",
      "metadata": {
        "id": "3sYA1uiofgqW",
        "colab_type": "code",
        "colab": {
          "base_uri": "https://localhost:8080/",
          "height": 54
        },
        "outputId": "c0207ea7-6b31-4c32-d1b5-dcbbc6d03ab6"
      },
      "source": [
        "inv(matriz)"
      ],
      "execution_count": null,
      "outputs": [
        {
          "output_type": "execute_result",
          "data": {
            "text/plain": [
              "array([[-1.        ,  0.5       ],\n",
              "       [ 0.66666667, -0.16666667]])"
            ]
          },
          "metadata": {
            "tags": []
          },
          "execution_count": 74
        }
      ]
    },
    {
      "cell_type": "markdown",
      "metadata": {
        "id": "xbR8QbKVfgyZ",
        "colab_type": "text"
      },
      "source": [
        "Produto de matrizes"
      ]
    },
    {
      "cell_type": "code",
      "metadata": {
        "id": "q4fQoAapekFF",
        "colab_type": "code",
        "colab": {
          "base_uri": "https://localhost:8080/",
          "height": 54
        },
        "outputId": "b965d631-ec82-41f1-b8c8-cb0439552dc8"
      },
      "source": [
        "np.dot(inv(matriz), matriz)"
      ],
      "execution_count": null,
      "outputs": [
        {
          "output_type": "execute_result",
          "data": {
            "text/plain": [
              "array([[1., 0.],\n",
              "       [0., 1.]])"
            ]
          },
          "metadata": {
            "tags": []
          },
          "execution_count": 73
        }
      ]
    },
    {
      "cell_type": "markdown",
      "metadata": {
        "id": "HDbdEyppgNn-",
        "colab_type": "text"
      },
      "source": [
        "Gerar sequência de valores"
      ]
    },
    {
      "cell_type": "code",
      "metadata": {
        "id": "of72OMEKgRql",
        "colab_type": "code",
        "colab": {
          "base_uri": "https://localhost:8080/",
          "height": 36
        },
        "outputId": "779555c0-a4ae-47ba-89b2-8aeb766a87ce"
      },
      "source": [
        "seq = np.arange(1, 4.1, .2)\n",
        "print(seq)"
      ],
      "execution_count": null,
      "outputs": [
        {
          "output_type": "stream",
          "text": [
            "[1.  1.2 1.4 1.6 1.8 2.  2.2 2.4 2.6 2.8 3.  3.2 3.4 3.6 3.8 4. ]\n"
          ],
          "name": "stdout"
        }
      ]
    },
    {
      "cell_type": "markdown",
      "metadata": {
        "id": "MJQ3r308g3Cx",
        "colab_type": "text"
      },
      "source": [
        "O atributo **shape** retorna a quantidade de valores no array"
      ]
    },
    {
      "cell_type": "code",
      "metadata": {
        "id": "nsOo-5VoglLk",
        "colab_type": "code",
        "colab": {
          "base_uri": "https://localhost:8080/",
          "height": 36
        },
        "outputId": "2218fbcc-848f-4fbc-accf-d8fe6b8a04b1"
      },
      "source": [
        "seq.shape"
      ],
      "execution_count": null,
      "outputs": [
        {
          "output_type": "execute_result",
          "data": {
            "text/plain": [
              "(16,)"
            ]
          },
          "metadata": {
            "tags": []
          },
          "execution_count": 89
        }
      ]
    },
    {
      "cell_type": "markdown",
      "metadata": {
        "id": "mcg4xQrig9kt",
        "colab_type": "text"
      },
      "source": [
        "O método **reshape** permite alterar a distribuição de um array, mudando sua dimensão"
      ]
    },
    {
      "cell_type": "code",
      "metadata": {
        "id": "fFmaPVxlgN3i",
        "colab_type": "code",
        "colab": {
          "base_uri": "https://localhost:8080/",
          "height": 91
        },
        "outputId": "ae3df79e-a3e8-4343-b2e4-490f1e147dfc"
      },
      "source": [
        "seq.reshape(4,4)"
      ],
      "execution_count": null,
      "outputs": [
        {
          "output_type": "execute_result",
          "data": {
            "text/plain": [
              "array([[1. , 1.2, 1.4, 1.6],\n",
              "       [1.8, 2. , 2.2, 2.4],\n",
              "       [2.6, 2.8, 3. , 3.2],\n",
              "       [3.4, 3.6, 3.8, 4. ]])"
            ]
          },
          "metadata": {
            "tags": []
          },
          "execution_count": 90
        }
      ]
    },
    {
      "cell_type": "markdown",
      "metadata": {
        "id": "bTgFCTLvhGQ4",
        "colab_type": "text"
      },
      "source": [
        "O numpy possui uma sub-biblioteca para geração de números aleatórios"
      ]
    },
    {
      "cell_type": "code",
      "metadata": {
        "id": "GbN300J_hM5G",
        "colab_type": "code",
        "colab": {
          "base_uri": "https://localhost:8080/",
          "height": 128
        },
        "outputId": "7245007e-dc53-4216-ae47-bcbf185cbf86"
      },
      "source": [
        "rnorms = np.random.normal(loc = 4, scale = 2, size = 12) #para gerar 12 valores de uma N(0,4)\n",
        "print(rnorms)\n",
        "\n",
        "mnorms = rnorms.reshape(3,4) #para gerar uma matriz de valores normais 3 linhas 4 colunas\n",
        "print(mnorms)\n",
        "print(mnorms.shape)"
      ],
      "execution_count": null,
      "outputs": [
        {
          "output_type": "stream",
          "text": [
            "[ 6.14348357  5.45778013  2.14119727  3.69347171  4.96969273 -0.36854449\n",
            "  1.99447767  7.31343035  5.5009071   4.3051148   2.32623533  0.46481024]\n",
            "[[ 6.14348357  5.45778013  2.14119727  3.69347171]\n",
            " [ 4.96969273 -0.36854449  1.99447767  7.31343035]\n",
            " [ 5.5009071   4.3051148   2.32623533  0.46481024]]\n",
            "(3, 4)\n"
          ],
          "name": "stdout"
        }
      ]
    },
    {
      "cell_type": "markdown",
      "metadata": {
        "id": "aIoiDYRvfs4V",
        "colab_type": "text"
      },
      "source": [
        "Ajuste de um polinômio de grau ``n``"
      ]
    },
    {
      "cell_type": "code",
      "metadata": {
        "id": "nwUphutqYDOI",
        "colab_type": "code",
        "colab": {
          "base_uri": "https://localhost:8080/",
          "height": 36
        },
        "outputId": "f6b789e1-77e3-4397-f00c-6ddfa3e76b21"
      },
      "source": [
        "x = [1, 2, 3, 4, 5]\n",
        "y = [3, 5, 7, 9, 11] # exatamente 2x + 1\n",
        "\n",
        "np.polyfit(x, y, deg = 1) #retorna b1 e b0, como na equacao b1*x + b0"
      ],
      "execution_count": null,
      "outputs": [
        {
          "output_type": "execute_result",
          "data": {
            "text/plain": [
              "array([2., 1.])"
            ]
          },
          "metadata": {
            "tags": []
          },
          "execution_count": 75
        }
      ]
    },
    {
      "cell_type": "code",
      "metadata": {
        "id": "igTLyL1r0IqK",
        "colab_type": "code",
        "colab": {
          "base_uri": "https://localhost:8080/",
          "height": 300
        },
        "outputId": "ff3b5616-10f9-453c-be83-8d507d89467c"
      },
      "source": [
        "import matplotlib.pyplot as plt\n",
        "\n",
        "x = np.random.uniform(low = 1, high = 10, size = 100)\n",
        "y = 2*x + 1 + np.random.normal(0, 1, len(x))\n",
        "\n",
        "b1, b0 = np.polyfit(x, y, deg = 1)\n",
        "\n",
        "plt.figure(figsize=(8,4))\n",
        "plt.plot(x, y, '.', marker = '^', alpha = 0.4) #scatter plot dos pontos\n",
        "plt.plot(x, b0 + b1*x, color = 'green', alpha = 0.5) #plot da reta de regressão\n",
        "plt.title('Regressão Linear')\n",
        "plt.show() #comando para o output ficar um pouco melhor\n",
        "\n",
        "print(b1, b0)"
      ],
      "execution_count": null,
      "outputs": [
        {
          "output_type": "display_data",
          "data": {
            "image/png": "[encoded data removed]",
            "text/plain": [
              "<Figure size 576x288 with 1 Axes>"
            ]
          },
          "metadata": {
            "tags": [],
            "needs_background": "light"
          }
        },
        {
          "output_type": "stream",
          "text": [
            "1.9971159210684446 0.992220996321161\n"
          ],
          "name": "stdout"
        }
      ]
    },
    {
      "cell_type": "code",
      "metadata": {
        "id": "sdcEbegM1p7V",
        "colab_type": "code",
        "colab": {
          "base_uri": "https://localhost:8080/",
          "height": 300
        },
        "outputId": "469f286b-9a2a-4086-ab9b-593f9cb8ca10"
      },
      "source": [
        "x = np.random.uniform(low = 1, high = 10, size = 500)\n",
        "y = x**2 - 8*x + +50 + np.random.normal(0, 3, len(x))\n",
        "\n",
        "b1, b0 = np.polyfit(x, y, deg = 1)\n",
        "\n",
        "c2, c1, c0 = np.polyfit(x, y, deg = 2)\n",
        "\n",
        "ex = np.arange(1, 10, 0.05)\n",
        "\n",
        "plt.title('Comparações')\n",
        "plt.plot(x, y, '.', marker = '^', alpha = 0.5)\n",
        "plt.plot(ex, b0 + b1*ex, color = 'green')\n",
        "plt.plot(ex, c0 + c1*ex + c2*ex**2, color = 'purple')\n",
        "plt.show()\n",
        "print(c2, c1, c0)\n"
      ],
      "execution_count": null,
      "outputs": [
        {
          "output_type": "display_data",
          "data": {
            "image/png": "[encoded data removed]",
            "text/plain": [
              "<Figure size 432x288 with 1 Axes>"
            ]
          },
          "metadata": {
            "tags": [],
            "needs_background": "light"
          }
        },
        {
          "output_type": "stream",
          "text": [
            "1.0012910147063707 -8.086824065070873 50.27052602037121\n"
          ],
          "name": "stdout"
        }
      ]
    },
    {
      "cell_type": "markdown",
      "metadata": {
        "colab_type": "text",
        "id": "PufIjCGaXmAU"
      },
      "source": [
        "## **Projeto: simulação de um álbum de figurinhas**"
      ]
    },
    {
      "cell_type": "markdown",
      "metadata": {
        "id": "iTybxsEjYEko",
        "colab_type": "text"
      },
      "source": [
        "### EXEMPLO: **Álbum Premier League 2019-2020**\n",
        "1. Total de cromos: **636**\n",
        "2. Preço do livro ilustrado capa brochura: **R\\$ 8,90**\n",
        "3. Envelope com 5 cromos: **R\\$ 2,50**\n",
        "\n",
        "### SUPOSIÇÕES\n",
        "1. Todas as figurinhas tem igual probabilidade de serem sorteradas\n",
        "2. Um pacotinho é comprado por vez  \n",
        "\n",
        "### ALGORITMO\n",
        "1. Comprar um pacotinho de figurinhas (5 figurinhas cada, que podem ser repetidas);\n",
        "2. Colar no álbum e verificar se o álbum está completo;\n",
        "3. Caso esteja incompleto, comprar mais um pacotinho, caso contrário, terminar.\n",
        "\n",
        "### PERGUNTAS\n",
        "1. Qual o valor médio investido para completar o álbum nessas condições?\n",
        "2. Quantos pacotes são necessários comprar, em média, para completar o álbum?\n",
        "3. Qual é a distribuição empírica do valor investido para completar o álbum?"
      ]
    },
    {
      "cell_type": "code",
      "metadata": {
        "id": "h2l9BcKaV_eX",
        "colab_type": "code",
        "colab": {}
      },
      "source": [
        "n_album = 636\n",
        "preco_pacote = 2.50\n",
        "preco_album = 8.90\n",
        "simulacoes = 1000"
      ],
      "execution_count": null,
      "outputs": []
    },
    {
      "cell_type": "code",
      "metadata": {
        "id": "xB0munEeV_n_",
        "colab_type": "code",
        "colab": {}
      },
      "source": [
        "import numpy as np\n",
        "\n",
        "# representação do álbum\n",
        "album = np.zeros(n_album) \n",
        "\n",
        "# representação do pacote de figurinhas\n",
        "pacotinho = np.random.choice(range(n_album), 5)\n",
        "pacotinho\n",
        "\n",
        "# 'colando' as figurinhas obtidas no álbum\n",
        "for i in pacotinho:\n",
        "    album[i] += 1"
      ],
      "execution_count": null,
      "outputs": []
    },
    {
      "cell_type": "code",
      "metadata": {
        "id": "saOzUxjyoB6z",
        "colab_type": "code",
        "colab": {}
      },
      "source": [
        "print(album)"
      ],
      "execution_count": null,
      "outputs": []
    },
    {
      "cell_type": "code",
      "metadata": {
        "id": "Jvyn7lBTYEtO",
        "colab_type": "code",
        "colab": {
          "base_uri": "https://localhost:8080/",
          "height": 36
        },
        "outputId": "5e2c5878-fda0-4437-dd7d-c05db7762be6"
      },
      "source": [
        "# comprando figurinhas até completar o álbum\n",
        "def SimulaAlbum():\n",
        "    album = np.zeros(n_album) \n",
        "    pacotes = 0\n",
        "    while not np.all(album > 0):\n",
        "        pacotinho = np.random.choice(range(n_album), 5)\n",
        "        pacotes += 1\n",
        "\n",
        "        for i in pacotinho:\n",
        "            album[i] += 1\n",
        " \n",
        "\n",
        "    valor_gasto = preco_album + preco_pacote * pacotes \n",
        "\n",
        "    return valor_gasto, pacotes\n",
        "\n",
        "SimulaAlbum()"
      ],
      "execution_count": null,
      "outputs": [
        {
          "output_type": "execute_result",
          "data": {
            "text/plain": [
              "(2178.9, 868)"
            ]
          },
          "metadata": {
            "tags": []
          },
          "execution_count": 177
        }
      ]
    },
    {
      "cell_type": "code",
      "metadata": {
        "id": "q1khZHjQoJhg",
        "colab_type": "code",
        "colab": {
          "base_uri": "https://localhost:8080/",
          "height": 387
        },
        "outputId": "68d2b0ae-e1a9-4a4f-f067-11e20aecd599"
      },
      "source": [
        "valores = []\n",
        "for i in range(simulacoes):\n",
        "    valores.append(SimulaAlbum()[0])\n",
        "    if (i+1) % 50 == 0:\n",
        "        print('Simulação: ', i+1, '/', simulacoes)"
      ],
      "execution_count": null,
      "outputs": [
        {
          "output_type": "stream",
          "text": [
            "Simulação:  50 / 1000\n",
            "Simulação:  100 / 1000\n",
            "Simulação:  150 / 1000\n",
            "Simulação:  200 / 1000\n",
            "Simulação:  250 / 1000\n",
            "Simulação:  300 / 1000\n",
            "Simulação:  350 / 1000\n",
            "Simulação:  400 / 1000\n",
            "Simulação:  450 / 1000\n",
            "Simulação:  500 / 1000\n",
            "Simulação:  550 / 1000\n",
            "Simulação:  600 / 1000\n",
            "Simulação:  650 / 1000\n",
            "Simulação:  700 / 1000\n",
            "Simulação:  750 / 1000\n",
            "Simulação:  800 / 1000\n",
            "Simulação:  850 / 1000\n",
            "Simulação:  900 / 1000\n",
            "Simulação:  950 / 1000\n",
            "Simulação:  1000 / 1000\n"
          ],
          "name": "stdout"
        }
      ]
    },
    {
      "cell_type": "markdown",
      "metadata": {
        "id": "PM_3RPS5q_Z9",
        "colab_type": "text"
      },
      "source": [
        "As respostas das perguntas 1 e 2, respectivamente, são:"
      ]
    },
    {
      "cell_type": "code",
      "metadata": {
        "id": "aWgOBRkHqoKk",
        "colab_type": "code",
        "colab": {
          "base_uri": "https://localhost:8080/",
          "height": 54
        },
        "outputId": "5c29a34c-6b92-41af-c5bd-30b88f7bee5e"
      },
      "source": [
        "print('O valor médio gasto foi:', round(np.mean(valores), 2))\n",
        "print('O numero de pacotes médio foi:', round((np.mean(valores) - preco_album)/preco_pacote, 2))"
      ],
      "execution_count": null,
      "outputs": [
        {
          "output_type": "stream",
          "text": [
            "O valor médio gasto foi: 2261.45\n",
            "O numero de pacotes médio foi: 901.02\n"
          ],
          "name": "stdout"
        }
      ]
    },
    {
      "cell_type": "markdown",
      "metadata": {
        "id": "eFFhtwKkrF__",
        "colab_type": "text"
      },
      "source": [
        "Podemos visualizar a distribuição empírica do valor gasto através do **histograma** dos valores simulados"
      ]
    },
    {
      "cell_type": "code",
      "metadata": {
        "id": "-jMyRhC-rNim",
        "colab_type": "code",
        "colab": {
          "base_uri": "https://localhost:8080/",
          "height": 283
        },
        "outputId": "968df6f3-40fd-4da3-9e01-a7fdcb668c1d"
      },
      "source": [
        "plt.hist(valores, bins = 20, density = True, edgecolor = 'black')\n",
        "plt.title('Distribuição Empírica do Valor Gasto para Completar o Álbum')\n",
        "plt.show()"
      ],
      "execution_count": null,
      "outputs": [
        {
          "output_type": "display_data",
          "data": {
            "image/png": "[encoded data removed]",
            "text/plain": [
              "<Figure size 432x288 with 1 Axes>"
            ]
          },
          "metadata": {
            "tags": [],
            "needs_background": "light"
          }
        }
      ]
    },
    {
      "cell_type": "markdown",
      "metadata": {
        "colab_type": "text",
        "id": "gOyFuZBwXmP9"
      },
      "source": [
        "## **Exercício 4**"
      ]
    },
    {
      "cell_type": "markdown",
      "metadata": {
        "id": "T1_xolefYFtX",
        "colab_type": "text"
      },
      "source": [
        "### Faça as modificações e implementações necessárias para responder as seguintes perguntas adicionais:\n",
        "\n",
        "4. Quantas vezes saiu a figurinha mais repetida, em média?\n",
        "5. Em média, quantas figurinhas não se repetem ao completar o álbum?\n",
        "6. Qual a probabilidade de se gastar mais que R\\$3000,00 para completar o álbum?\n",
        "7. Qual a probabilidade de se gastar menos que R\\$1500,00 para completar o álbum?\n",
        "8. Qual a probabilidade de se gastar mais do que a média para completar o álbum?\n",
        "9. Qual é o intervalo de confiança de 95% para o gasto ao se completar o álbum?\n",
        "10. Qual o valor médio gasto caso se esteja completando o álbum com mais um amigo?\n",
        "11. Quanto se economiza ao utilizar o cenário da questão 10?\n",
        "12. \n",
        "Qual o valor médio gasto caso se esteja completando o álbum com mais dois amigos?\n",
        "\n",
        "13. Quanto se economiza ao utilizar o cenário da questão 12?"
      ]
    },
    {
      "cell_type": "markdown",
      "metadata": {
        "id": "1doFeZFoSCSM",
        "colab_type": "text"
      },
      "source": [
        "## **Exercício 5**\n",
        "\n",
        "Até hoje, na história da mega-sena, houve 2272 jogos. Faça um programa que simule o resultado de 2272 jogos da mega-sena. Se você tivesse feito um jogo simples em todos, qual o retorno esperado? Faça as suposições necessárias. "
      ]
    },
    {
      "cell_type": "markdown",
      "metadata": {
        "id": "4KLNLxzOy5kq",
        "colab_type": "text"
      },
      "source": [
        "## **Links Úteis**\n",
        "- [Documentação do numpy](https://numpy.org/) "
      ]
    }
  ]
}