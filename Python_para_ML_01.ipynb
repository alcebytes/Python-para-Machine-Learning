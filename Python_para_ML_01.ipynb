{
  "nbformat": 4,
  "nbformat_minor": 0,
  "metadata": {
    "colab": {
      "name": "Python para ML - 01",
      "provenance": [],
      "collapsed_sections": [],
      "toc_visible": true,
      "authorship_tag": "ABX9TyN65PhLYmBi+Ti/UGg8YSzF",
      "include_colab_link": true
    },
    "kernelspec": {
      "name": "python3",
      "display_name": "Python 3"
    }
  },
  "cells": [
    {
      "cell_type": "markdown",
      "metadata": {
        "id": "view-in-github",
        "colab_type": "text"
      },
      "source": [
        "<a href=\"https://colab.research.google.com/github/ricardorocha86/Python-para-Machine-Learning/blob/master/Python_para_ML_01.ipynb\" target=\"_parent\"><img src=\"https://colab.research.google.com/assets/colab-badge.svg\" alt=\"Open In Colab\"/></a>"
      ]
    },
    {
      "cell_type": "markdown",
      "metadata": {
        "id": "3tJEOcVuvO9Z",
        "colab_type": "text"
      },
      "source": [
        "![Capa](https://raw.githubusercontent.com/ricardorocha86/Python-para-Machine-Learning/master/Imagens/capa%20-%20python%20para%20ml%2001.jpg) \n"
      ]
    },
    {
      "cell_type": "markdown",
      "metadata": {
        "id": "oM35UJ-5pDci",
        "colab_type": "text"
      },
      "source": [
        "# **Python para Machine Learning** - Parte 1"
      ]
    },
    {
      "cell_type": "markdown",
      "metadata": {
        "id": "4NfTY9LJpvkT",
        "colab_type": "text"
      },
      "source": [
        "Nesse curso, abordaremos os conceitos iniciais da linguagem Python com o foco de utilizá-la para modelagem preditiva e Machine Learning. \n",
        "\n",
        "O Python é uma linguagem de programação interpretada, criada com o propósito de ser o mais simples e legível possível. Foi em 1991 que o holandes Guido Van Rossum presenteou o mundo com essa linguagem e de lá pra cá ela teve uma longa história. Hoje em dia é uma das linguagens mais utilizadas no mundo e possui um papel fundamental no desenvolvimento em Inteligência Artificial/Data Science."
      ]
    },
    {
      "cell_type": "markdown",
      "metadata": {
        "id": "nDlsQrNPpqtf",
        "colab_type": "text"
      },
      "source": [
        "**Nesse notebook veremos:**\n",
        "1. [Atribuição de Variáveis](#atri)\n",
        "2. [Primeiras Funções](#prim)\n",
        "3. [Operadores Aritméticos](#oper)\n",
        "4. [Comparações e Booleanos](#comp)\n",
        "5. [Condicional IF-ELSE](#cond)\n",
        "6. [Definição de Funções](#defi)\n",
        "7. [Importação de Bibliotecas](#impo)\n",
        "8. [Exercícios](#exer)\n",
        "9. [Assuntos da Próxima Aula](#assu) \n",
        "10. [Links Úteis](#links)\n",
        "11. [Anexo: Zen of Python](#anex)\n"
      ]
    },
    {
      "cell_type": "markdown",
      "metadata": {
        "id": "8kMiWTL0pvFF",
        "colab_type": "text"
      },
      "source": [
        "## **Atribuição de Variáveis** <a name=\"atri\"></a>"
      ]
    },
    {
      "cell_type": "code",
      "metadata": {
        "id": "dwHX8egGBuTc",
        "colab_type": "code",
        "colab": {
          "base_uri": "https://localhost:8080/",
          "height": 90
        },
        "outputId": "ed01ed77-adb5-4142-88ac-dcb29a53e006"
      },
      "source": [
        "meu_nome = 'Ricardo'\n",
        "meu_sobrenome = 'Rocha'\n",
        "meu_produto = \"Caixa d'agua\"\n",
        "minha_frase = '\"Vamos que vamos!\"'\n",
        "\n",
        "print(meu_nome)\n",
        "print(meu_sobrenome)\n",
        "print(meu_produto)\n",
        "print(minha_frase)"
      ],
      "execution_count": 143,
      "outputs": [
        {
          "output_type": "stream",
          "text": [
            "Ricardo\n",
            "Rocha\n",
            "Caixa d'agua\n",
            "\"Vamos que vamos!\"\n"
          ],
          "name": "stdout"
        }
      ]
    },
    {
      "cell_type": "markdown",
      "metadata": {
        "id": "zXKWnv0wrllN",
        "colab_type": "text"
      },
      "source": [
        "Soma de duas varíaveis do tipo string\n"
      ]
    },
    {
      "cell_type": "code",
      "metadata": {
        "id": "Bqnflhqfrk4h",
        "colab_type": "code",
        "colab": {
          "base_uri": "https://localhost:8080/",
          "height": 35
        },
        "outputId": "68f0a3f1-9003-4b07-ec78-6698f45fe623"
      },
      "source": [
        "meu_nome + meu_sobrenome"
      ],
      "execution_count": 144,
      "outputs": [
        {
          "output_type": "execute_result",
          "data": {
            "text/plain": [
              "'RicardoRocha'"
            ]
          },
          "metadata": {
            "tags": []
          },
          "execution_count": 144
        }
      ]
    },
    {
      "cell_type": "code",
      "metadata": {
        "id": "xBT9RtP3ryFq",
        "colab_type": "code",
        "colab": {
          "base_uri": "https://localhost:8080/",
          "height": 35
        },
        "outputId": "68a499aa-19cc-4b30-aefa-587fbe52a4cd"
      },
      "source": [
        "meu_nome + ' ' + meu_sobrenome"
      ],
      "execution_count": 145,
      "outputs": [
        {
          "output_type": "execute_result",
          "data": {
            "text/plain": [
              "'Ricardo Rocha'"
            ]
          },
          "metadata": {
            "tags": []
          },
          "execution_count": 145
        }
      ]
    },
    {
      "cell_type": "markdown",
      "metadata": {
        "id": "a_tw5S1Hq0Ep",
        "colab_type": "text"
      },
      "source": [
        "Não é possível atribuir variáveis com nomes começando com números, nem com espaços no nome ou com aspas. "
      ]
    },
    {
      "cell_type": "code",
      "metadata": {
        "id": "u3HvQ2e_YxID",
        "colab_type": "code",
        "colab": {}
      },
      "source": [
        "# 1_a = 2\n",
        "# var com espaco = 2\n",
        "# a'd = 12 "
      ],
      "execution_count": null,
      "outputs": []
    },
    {
      "cell_type": "markdown",
      "metadata": {
        "id": "nWqVaqeBrAb_",
        "colab_type": "text"
      },
      "source": [
        "OBS.: O **hashtag #** na frente de uma linha torna ela um **comentário**, pois o interpretador ignora tudo que vem depois dela "
      ]
    },
    {
      "cell_type": "markdown",
      "metadata": {
        "id": "38emYI_xJqeO",
        "colab_type": "text"
      },
      "source": [
        "## **Primeiras Funções** <a name=\"prim\"></a>"
      ]
    },
    {
      "cell_type": "markdown",
      "metadata": {
        "id": "7JyT6165pi6l",
        "colab_type": "text"
      },
      "source": [
        "Conheça a função **len**, que retorna o tamanho de uma string (e de outros tipos de objetos também).\n",
        "\n",
        "A função **type**, que retorna o tipo do objeto na variável de entrada\n",
        "\n",
        "A função **round**, que arredonda um número de acordo com as casas decimas desejadas\n",
        "\n",
        "E a função **help**, que retorna a documentação da função inserida como entrada."
      ]
    },
    {
      "cell_type": "code",
      "metadata": {
        "id": "CNTROt8rb4Lg",
        "colab_type": "code",
        "colab": {
          "base_uri": "https://localhost:8080/",
          "height": 35
        },
        "outputId": "7aedb501-b5ac-4956-ea3d-eb7879efe1d2"
      },
      "source": [
        "nome = 'Ricardo'\n",
        "len(nome)"
      ],
      "execution_count": 162,
      "outputs": [
        {
          "output_type": "execute_result",
          "data": {
            "text/plain": [
              "7"
            ]
          },
          "metadata": {
            "tags": []
          },
          "execution_count": 162
        }
      ]
    },
    {
      "cell_type": "code",
      "metadata": {
        "id": "MAO1YA7ywWfa",
        "colab_type": "code",
        "colab": {
          "base_uri": "https://localhost:8080/",
          "height": 35
        },
        "outputId": "aba4974c-48f9-4e2b-9d3c-8f6633214e42"
      },
      "source": [
        "type(nome) "
      ],
      "execution_count": 161,
      "outputs": [
        {
          "output_type": "execute_result",
          "data": {
            "text/plain": [
              "str"
            ]
          },
          "metadata": {
            "tags": []
          },
          "execution_count": 161
        }
      ]
    },
    {
      "cell_type": "code",
      "metadata": {
        "id": "hVwnbtKYJ8YU",
        "colab_type": "code",
        "colab": {
          "base_uri": "https://localhost:8080/",
          "height": 35
        },
        "outputId": "a9143226-f0f0-4671-8a2e-bdd8acd0d099"
      },
      "source": [
        "idade = 33.54234523\n",
        "round(idade, 2)"
      ],
      "execution_count": 164,
      "outputs": [
        {
          "output_type": "execute_result",
          "data": {
            "text/plain": [
              "33.54"
            ]
          },
          "metadata": {
            "tags": []
          },
          "execution_count": 164
        }
      ]
    },
    {
      "cell_type": "code",
      "metadata": {
        "id": "9o2s8MOIKTCT",
        "colab_type": "code",
        "colab": {
          "base_uri": "https://localhost:8080/",
          "height": 181
        },
        "outputId": "b275a358-4727-4fb3-8b24-d93b9168aa9a"
      },
      "source": [
        "help(round)"
      ],
      "execution_count": 165,
      "outputs": [
        {
          "output_type": "stream",
          "text": [
            "Help on built-in function round in module builtins:\n",
            "\n",
            "round(...)\n",
            "    round(number[, ndigits]) -> number\n",
            "    \n",
            "    Round a number to a given precision in decimal digits (default 0 digits).\n",
            "    This returns an int when called with one argument, otherwise the\n",
            "    same type as the number. ndigits may be negative.\n",
            "\n"
          ],
          "name": "stdout"
        }
      ]
    },
    {
      "cell_type": "markdown",
      "metadata": {
        "id": "ZH4vZ7NtI5Jx",
        "colab_type": "text"
      },
      "source": [
        "Não só no Python, mas em programação em geral, sempre precisamos controlar o tipo das variáveis que utilizamos. Veja o exemplo abaixo:"
      ]
    },
    {
      "cell_type": "code",
      "metadata": {
        "id": "DvKNUkrPIlDt",
        "colab_type": "code",
        "colab": {
          "base_uri": "https://localhost:8080/",
          "height": 35
        },
        "outputId": "793aaf4a-23d5-43af-f82a-c37ea1050044"
      },
      "source": [
        "minha_idade = '33'\n",
        "type(minha_idade)\n"
      ],
      "execution_count": 160,
      "outputs": [
        {
          "output_type": "execute_result",
          "data": {
            "text/plain": [
              "str"
            ]
          },
          "metadata": {
            "tags": []
          },
          "execution_count": 160
        }
      ]
    },
    {
      "cell_type": "markdown",
      "metadata": {
        "id": "fyCVd6Tov_ao",
        "colab_type": "text"
      },
      "source": [
        "Usando a função **int** para converter a variável em formato string para o formato inteiro"
      ]
    },
    {
      "cell_type": "code",
      "metadata": {
        "id": "svsiydRLv8vT",
        "colab_type": "code",
        "colab": {
          "base_uri": "https://localhost:8080/",
          "height": 35
        },
        "outputId": "8acee7fd-17cd-49d3-df49-23ef86642b69"
      },
      "source": [
        "\n",
        "minha_idade = int(minha_idade)\n",
        "type(minha_idade)"
      ],
      "execution_count": 159,
      "outputs": [
        {
          "output_type": "execute_result",
          "data": {
            "text/plain": [
              "int"
            ]
          },
          "metadata": {
            "tags": []
          },
          "execution_count": 159
        }
      ]
    },
    {
      "cell_type": "markdown",
      "metadata": {
        "id": "RbEdJeDVysFT",
        "colab_type": "text"
      },
      "source": [
        "E a função **str** para converter um objeto para string"
      ]
    },
    {
      "cell_type": "code",
      "metadata": {
        "id": "w7PobqiNyv9u",
        "colab_type": "code",
        "colab": {
          "base_uri": "https://localhost:8080/",
          "height": 35
        },
        "outputId": "7b643af9-22b7-4293-a72d-dfe014a1421e"
      },
      "source": [
        "minha_idade = str(minha_idade)\n",
        "type(minha_idade)"
      ],
      "execution_count": 166,
      "outputs": [
        {
          "output_type": "execute_result",
          "data": {
            "text/plain": [
              "str"
            ]
          },
          "metadata": {
            "tags": []
          },
          "execution_count": 166
        }
      ]
    },
    {
      "cell_type": "markdown",
      "metadata": {
        "id": "PUH_pzLDJa4Q",
        "colab_type": "text"
      },
      "source": [
        "## **Operadores Aritméticos** <a name=\"oper\"></a>"
      ]
    },
    {
      "cell_type": "markdown",
      "metadata": {
        "id": "bS7hxv-Codpz",
        "colab_type": "text"
      },
      "source": [
        "Confira na tabela abaixo como funcionam os operadores aritméticos em Python. \n",
        "\n",
        "Em especial, veja que a sintaxe da exponenciação não é feita através do sinal '^'."
      ]
    },
    {
      "cell_type": "markdown",
      "metadata": {
        "id": "mHsbgk0UGIaL",
        "colab_type": "text"
      },
      "source": [
        "| Operator     | Name           | Description                                            |\n",
        "|--------------|----------------|--------------------------------------------------------|\n",
        "| ``a + b``    | Adiçao       | Soma entre ``a`` e ``b``                                 |\n",
        "| ``a - b``    | Subtração    | Diferença entre ``a`` e ``b``                          |\n",
        "| ``a * b``    | Multiplicação | Produto entre ``a`` e ``b``                             |\n",
        "| ``a / b``    | Divisão  | Divisão usual entre ``a`` e ``b``                            |\n",
        "| ``a // b``   | Divisão inteira | A divisão entre ``a`` e ``b``, removendo as partes decimais |\n",
        "| ``a % b``    | Resto da divisão        | O resto da divisão inteira de ``a`` por ``b``     |\n",
        "| ``a ** b``   | Exponenciação | ``a`` elevado a ``b``                     |\n",
        "| ``-a``       | Negação       | O negativo de ``a``                                  |"
      ]
    },
    {
      "cell_type": "code",
      "metadata": {
        "id": "xZVTqDzUGWlj",
        "colab_type": "code",
        "colab": {}
      },
      "source": [
        "a = 7\n",
        "b = 2"
      ],
      "execution_count": 85,
      "outputs": []
    },
    {
      "cell_type": "code",
      "metadata": {
        "id": "T9gTYGKo31B4",
        "colab_type": "code",
        "colab": {}
      },
      "source": [
        "print(a + b)\n",
        "print(a - b)\n",
        "print(a * b)\n",
        "print(a / b)\n",
        "print(a // b)\n",
        "print(a % b)\n",
        "print(a ** b)\n",
        "print(-a)"
      ],
      "execution_count": null,
      "outputs": []
    },
    {
      "cell_type": "markdown",
      "metadata": {
        "id": "BgFHWhOOsbv0",
        "colab_type": "text"
      },
      "source": [
        "Temos também as funções **min**, **max** e **abs**, para calcular, respectivamente, o mínimo, o máximo e o valor absoluto de um número"
      ]
    },
    {
      "cell_type": "code",
      "metadata": {
        "id": "FLOeFbsZGcx2",
        "colab_type": "code",
        "colab": {
          "base_uri": "https://localhost:8080/",
          "height": 90
        },
        "outputId": "35dabf11-ce8f-4f7a-c352-aedbddcaa52b"
      },
      "source": [
        "print(max(a, b))\n",
        "print(min(a, b))\n",
        "print(abs(-a))"
      ],
      "execution_count": 141,
      "outputs": [
        {
          "output_type": "stream",
          "text": [
            "1.0\n",
            "1\n",
            "-2\n",
            "1\n"
          ],
          "name": "stdout"
        }
      ]
    },
    {
      "cell_type": "markdown",
      "metadata": {
        "id": "Lh6dGL01YdHZ",
        "colab_type": "text"
      },
      "source": [
        "## **Comparações e Booleanos** <a name=\"comp\"></a>"
      ]
    },
    {
      "cell_type": "markdown",
      "metadata": {
        "id": "zJGYOSKzn62F",
        "colab_type": "text"
      },
      "source": [
        "Quando comparamos objetos em Python é como se estivéssemos fazendo uma pergunta a ele. Duas variáveis são iguais? Uma é maior que a outra? \n",
        "\n",
        "E a resposta é um objeto do tipo **booleano**, que é indicado por **True** ou **False**, indicando, respectivamente, se a resposta é verdadeira ou falsa."
      ]
    },
    {
      "cell_type": "code",
      "metadata": {
        "id": "h13Wb-T0YoL8",
        "colab_type": "code",
        "colab": {
          "base_uri": "https://localhost:8080/",
          "height": 35
        },
        "outputId": "8d504728-9ffe-44bc-9943-63d7c18df4fa"
      },
      "source": [
        "var1 = 35\n",
        "var2 = 36\n",
        "\n",
        "var1 == var2"
      ],
      "execution_count": 136,
      "outputs": [
        {
          "output_type": "execute_result",
          "data": {
            "text/plain": [
              "False"
            ]
          },
          "metadata": {
            "tags": []
          },
          "execution_count": 136
        }
      ]
    },
    {
      "cell_type": "code",
      "metadata": {
        "id": "J_u74wBhZDJ6",
        "colab_type": "code",
        "colab": {
          "base_uri": "https://localhost:8080/",
          "height": 35
        },
        "outputId": "4a99b09e-db03-4485-d5c8-19c6cc69502f"
      },
      "source": [
        "var1 > var2"
      ],
      "execution_count": 137,
      "outputs": [
        {
          "output_type": "execute_result",
          "data": {
            "text/plain": [
              "False"
            ]
          },
          "metadata": {
            "tags": []
          },
          "execution_count": 137
        }
      ]
    },
    {
      "cell_type": "code",
      "metadata": {
        "id": "sVC_1dfjZFu5",
        "colab_type": "code",
        "colab": {
          "base_uri": "https://localhost:8080/",
          "height": 35
        },
        "outputId": "7fab7576-b813-420c-b8bc-c4fda0deff17"
      },
      "source": [
        "var1 <= var2"
      ],
      "execution_count": 138,
      "outputs": [
        {
          "output_type": "execute_result",
          "data": {
            "text/plain": [
              "True"
            ]
          },
          "metadata": {
            "tags": []
          },
          "execution_count": 138
        }
      ]
    },
    {
      "cell_type": "code",
      "metadata": {
        "id": "W_tNf7CldSvp",
        "colab_type": "code",
        "colab": {
          "base_uri": "https://localhost:8080/",
          "height": 72
        },
        "outputId": "2a71a5f2-a775-4a0e-ce81-dbc2000b86a7"
      },
      "source": [
        "print(type(33.2) == str)\n",
        "print(type(33.2) == int)\n",
        "print(type(33.2) == float)"
      ],
      "execution_count": 139,
      "outputs": [
        {
          "output_type": "stream",
          "text": [
            "False\n",
            "False\n",
            "True\n"
          ],
          "name": "stdout"
        }
      ]
    },
    {
      "cell_type": "markdown",
      "metadata": {
        "id": "SF6EtbmrZQO3",
        "colab_type": "text"
      },
      "source": [
        "## **Condicional IF-ELSE** <a name=\"cond\"></a>"
      ]
    },
    {
      "cell_type": "markdown",
      "metadata": {
        "id": "t9WtbCPDAWkW",
        "colab_type": "text"
      },
      "source": [
        "Veja abaixo como funciona a estrutura geral de condicionais no Python. \n",
        "\n",
        "Temos a versão IF ELSE, e a versão IF ELIF ELSE.\n",
        "\n",
        "Note que é possível utilizar o ELIF várias vezes se necessário.\n",
        "\n",
        "No espaço de condição, o Python espera um objeto booleano. Se for True, ele executa, se for False, segue adiante. \n",
        "\n",
        "Note também a estrutura de identação do Python. Aqui não usamos (), [] ou {} para estipular o que deve ser executado nas condicionais. Simplesmente colocamos o código que deve ser executado na linha seguinte, mas identado. Em geral, se utiliza o espaço de **1 tab**."
      ]
    },
    {
      "cell_type": "code",
      "metadata": {
        "id": "kuqS_I9GdobX",
        "colab_type": "code",
        "colab": {}
      },
      "source": [
        "# sintaxe IF-ELSE geral\n",
        "if condição:\n",
        "    executa aqui\n",
        "else:\n",
        "    executa aqui\n",
        "\n",
        "# sintaxe IF-ELIF-ELSE geral\n",
        "if condição:\n",
        "    executa aqui\n",
        "elif outra_condição:\n",
        "    executa aqui\n",
        "else:\n",
        "    executa aqui\n",
        "\n",
        "#não executar essa célula!"
      ],
      "execution_count": null,
      "outputs": []
    },
    {
      "cell_type": "code",
      "metadata": {
        "id": "X7Fw4opvdznZ",
        "colab_type": "code",
        "colab": {
          "base_uri": "https://localhost:8080/",
          "height": 35
        },
        "outputId": "83a5d3fb-5898-4627-de2c-56f8f85f723d"
      },
      "source": [
        "a, b, c = 1, -2 , 0\n",
        "\n",
        "delta = b**2 - 4*a*c\n",
        "\n",
        "if delta > 0:\n",
        "    x1 = -b + delta**0.5/(2*a)\n",
        "    x2 = -b - delta**0.5/(2*a)\n",
        "    print('As raízes são {} e {}'.format(x1, x2))\n",
        "elif delta == 0:\n",
        "    x = -b/(2*a)\n",
        "    print('A única raíz é {}'.format(x))\n",
        "else:\n",
        "    print('Não há soluções reais para essa equação')"
      ],
      "execution_count": 156,
      "outputs": [
        {
          "output_type": "stream",
          "text": [
            "As raízes são 3.0 e 1.0\n"
          ],
          "name": "stdout"
        }
      ]
    },
    {
      "cell_type": "markdown",
      "metadata": {
        "id": "3K7wNqEIembT",
        "colab_type": "text"
      },
      "source": [
        "## **Definição de Funções** <a name=\"defi\"></a>"
      ]
    },
    {
      "cell_type": "markdown",
      "metadata": {
        "id": "jEMYVdTLlf5t",
        "colab_type": "text"
      },
      "source": [
        "Uma função é um recurso para não precisarmos repetir o mesmo código desnecessariamente. Assim como as funções da matemática, sua tarefa é transformar um input, uma entrada, uma coleção de variáveis, em uma saída, um output. \n",
        "\n",
        "No exemplo abaixo, utilizamos como variáveis o tipo de símbolo e o tamanho da linha que queremos fazer. Você entenderá melhor vendo o exemplo:\n",
        "\n",
        "Da mesma maneira que na estrutura de condicionais, o conteúdo de uma função fica nas linhas seguintes sendo indicados pela **indentação** do código"
      ]
    },
    {
      "cell_type": "code",
      "metadata": {
        "id": "VQ-INeRi6tTG",
        "colab_type": "code",
        "colab": {}
      },
      "source": [
        "def Mensagem(simbolo = '*', tamanho = 51):\n",
        "    print(simbolo*tamanho)\n",
        "    print('Estamos só começando, o melhor ainda estar por vir!')\n",
        "    print(simbolo*tamanho)"
      ],
      "execution_count": 146,
      "outputs": []
    },
    {
      "cell_type": "code",
      "metadata": {
        "id": "YLiKW1mVu3B2",
        "colab_type": "code",
        "colab": {
          "base_uri": "https://localhost:8080/",
          "height": 72
        },
        "outputId": "a5f2236f-48c0-4e88-d196-c2d8df28772d"
      },
      "source": [
        "Mensagem('-', 51)  "
      ],
      "execution_count": 148,
      "outputs": [
        {
          "output_type": "stream",
          "text": [
            "---------------------------------------------------\n",
            "Estamos só começando, o melhor ainda estar por vir!\n",
            "---------------------------------------------------\n"
          ],
          "name": "stdout"
        }
      ]
    },
    {
      "cell_type": "code",
      "metadata": {
        "id": "Bh8kgefAu7E7",
        "colab_type": "code",
        "colab": {
          "base_uri": "https://localhost:8080/",
          "height": 72
        },
        "outputId": "a36ae15d-35b0-4caa-c24b-d2f4e97f8998"
      },
      "source": [
        "Mensagem('*-*', 17)"
      ],
      "execution_count": 149,
      "outputs": [
        {
          "output_type": "stream",
          "text": [
            "*-**-**-**-**-**-**-**-**-**-**-**-**-**-**-**-**-*\n",
            "Estamos só começando, o melhor ainda estar por vir!\n",
            "*-**-**-**-**-**-**-**-**-**-**-**-**-**-**-**-**-*\n"
          ],
          "name": "stdout"
        }
      ]
    },
    {
      "cell_type": "markdown",
      "metadata": {
        "id": "s8XyjoLsmZB3",
        "colab_type": "text"
      },
      "source": [
        "Voltando no exemplo da fórmula de Bhaskara, fica bem conveniente quando colocamos no formato de função, para analisar as saídas de maneira mais prática. "
      ]
    },
    {
      "cell_type": "code",
      "metadata": {
        "id": "9s_3C-ZrgKPb",
        "colab_type": "code",
        "colab": {}
      },
      "source": [
        "def Bhaskara(a, b, c):\n",
        "    # dando uma resposta adequada para quando o valor de a for igual a zero\n",
        "    if a == 0:\n",
        "        print('Quando a = 0 não se aplica Bhaskara')\n",
        "    else:\n",
        "        delta = b**2 - 4*a*c\n",
        "\n",
        "        if delta > 0:\n",
        "            x1 = (-b + delta**0.5)/(2*a)\n",
        "            x2 = (-b - delta**0.5)/(2*a)\n",
        "            print('As raízes são {} e {}'.format(round(x1, 2), round(x2, 2)))\n",
        "        elif delta == 0:\n",
        "            x = -b/(2*a)\n",
        "            print('A única raíz é {}'.format(x))\n",
        "        else:\n",
        "            print('Não há soluções reais para essa equação')"
      ],
      "execution_count": 151,
      "outputs": []
    },
    {
      "cell_type": "code",
      "metadata": {
        "id": "zs9zyfICgddJ",
        "colab_type": "code",
        "colab": {
          "base_uri": "https://localhost:8080/",
          "height": 35
        },
        "outputId": "17e12e19-8632-4ca0-a6ea-e18897d1f8ef"
      },
      "source": [
        "Bhaskara(3, 2, 0.9)"
      ],
      "execution_count": 152,
      "outputs": [
        {
          "output_type": "stream",
          "text": [
            "Não há soluções reais para essa equação\n"
          ],
          "name": "stdout"
        }
      ]
    },
    {
      "cell_type": "code",
      "metadata": {
        "id": "Q9DIe2akvNjC",
        "colab_type": "code",
        "colab": {
          "base_uri": "https://localhost:8080/",
          "height": 35
        },
        "outputId": "4dacda38-6993-4d65-a950-edc774ca194b"
      },
      "source": [
        "Bhaskara(-3, 2, 0.9)"
      ],
      "execution_count": 153,
      "outputs": [
        {
          "output_type": "stream",
          "text": [
            "As raízes são -0.31 e 0.97\n"
          ],
          "name": "stdout"
        }
      ]
    },
    {
      "cell_type": "code",
      "metadata": {
        "id": "ngQ_4XV8vOKj",
        "colab_type": "code",
        "colab": {
          "base_uri": "https://localhost:8080/",
          "height": 35
        },
        "outputId": "4d75aa90-d95a-4052-c927-b4d5cd020922"
      },
      "source": [
        "Bhaskara(1, -2, 1)"
      ],
      "execution_count": 155,
      "outputs": [
        {
          "output_type": "stream",
          "text": [
            "A única raíz é 1.0\n"
          ],
          "name": "stdout"
        }
      ]
    },
    {
      "cell_type": "markdown",
      "metadata": {
        "id": "9vmnCWv9mNwX",
        "colab_type": "text"
      },
      "source": [
        "## **Importação de Bibliotecas** <a name=\"impo\"></a>"
      ]
    },
    {
      "cell_type": "code",
      "metadata": {
        "id": "JuvRAAl0mTD8",
        "colab_type": "code",
        "colab": {
          "base_uri": "https://localhost:8080/",
          "height": 35
        },
        "outputId": "c737cdf9-c6c8-4ece-c97b-37564642cd32"
      },
      "source": [
        "from math import pi\n",
        "print(pi)"
      ],
      "execution_count": null,
      "outputs": [
        {
          "output_type": "stream",
          "text": [
            "3.141592653589793\n"
          ],
          "name": "stdout"
        }
      ]
    },
    {
      "cell_type": "code",
      "metadata": {
        "id": "HoE-Zyp5ma7S",
        "colab_type": "code",
        "colab": {
          "base_uri": "https://localhost:8080/",
          "height": 35
        },
        "outputId": "d274206f-9a38-4e95-96ed-7361ad8ba436"
      },
      "source": [
        "import math\n",
        "print(math.pi)"
      ],
      "execution_count": null,
      "outputs": [
        {
          "output_type": "stream",
          "text": [
            "3.141592653589793\n"
          ],
          "name": "stdout"
        }
      ]
    },
    {
      "cell_type": "code",
      "metadata": {
        "id": "tCtUvjfY6Nbw",
        "colab_type": "code",
        "colab": {
          "base_uri": "https://localhost:8080/",
          "height": 35
        },
        "outputId": "0522ab9f-37f4-4902-85fd-b6a17bc4976f"
      },
      "source": [
        "import math as m\n",
        "print(m.pi)"
      ],
      "execution_count": 89,
      "outputs": [
        {
          "output_type": "stream",
          "text": [
            "3.141592653589793\n"
          ],
          "name": "stdout"
        }
      ]
    },
    {
      "cell_type": "markdown",
      "metadata": {
        "id": "r1X1E_zEge7K",
        "colab_type": "text"
      },
      "source": [
        "## **Exercícios** <a name=\"exer\"></a>\n",
        "\n",
        "1. Considere um balde cuja base possui raio  $r_1$ e altura igual ao diâmetro da base. Considere também uma esfera de raio $r_2$ cheia de água. Faça um programa que verifique se o volume da esfera cabe no balde, dados os valores de $r_1$ e $r_2$. \n",
        "\n",
        "2. Crie uma função que simule o jogo do *jokempô*, isto é, dada a entrada de dois jogadores, retorne a indicação de qual deles venceu. "
      ]
    },
    {
      "cell_type": "markdown",
      "metadata": {
        "id": "ClqLxTV3Euys",
        "colab_type": "text"
      },
      "source": [
        "## **Assuntos da Próxima Aula** <a name=\"assu\"></a>\n",
        "\n",
        "- Listas e Tuplas\n",
        "- Dicionários\n",
        "- Loops FOR e WHILE\n",
        "- Funções e métodos"
      ]
    },
    {
      "cell_type": "markdown",
      "metadata": {
        "id": "nSJC-C50lrdi",
        "colab_type": "text"
      },
      "source": [
        " ## **Links Úteis** <a name=\"links\"></a>"
      ]
    },
    {
      "cell_type": "markdown",
      "metadata": {
        "id": "qvCE4Gnglshy",
        "colab_type": "text"
      },
      "source": [
        "1. [Documentação do Python](https://docs.python.org/3/)\n",
        "2. [Download do Anaconda](https://anaconda.org/)\n",
        "3. [Curso do Gustavo Guanabara no YouTube (Canal Curso em Vídeo)](https://www.youtube.com/watch?v=S9uPNppGsGo&list=PLvE-ZAFRgX8hnECDn1v9HNTI71veL3oW0)\n",
        "4. [Curso de Python gratuito do Kaggle (inglês)](https://www.kaggle.com/learn/python)\n",
        "5. [Conceitos de Python em 40min por Derek Banas (inglês)](https://www.youtube.com/watch?v=N4mEzFDjqtA) \n"
      ]
    },
    {
      "cell_type": "markdown",
      "metadata": {
        "id": "UE-KpVQlpZYZ",
        "colab_type": "text"
      },
      "source": [
        "## **Anexo** <a name=\"anex\"></a>\n",
        "\n",
        "### **The Zen of Python, por Tim Peters**\n",
        "\n",
        "É um conjunto de regras pela qual o Python é idealizado.\n",
        "\n",
        "1. Bonito é melhor que feio.\n",
        "2. Explícito é melhor que implícito.\n",
        "3.  Simples é melhor que complexo.\n",
        "4. Complexo é melhor que complicado.\n",
        "5. Plano é melhor que aglomerado.\n",
        "6. Esparso é melhor que denso.\n",
        "7. Legibilidade faz diferença.\n",
        "8. Casos especiais não são especiais o bastante para quebrar as regras.\n",
        "9. Embora a praticidade vença a pureza.\n",
        "10. Erros nunca devem passar silenciosamente.\n",
        "11. A menos que sejam explicitamente silenciados.\n",
        "12. Diante da ambigüidade, recuse a tentação de adivinhar.\n",
        "13. Deve haver um -- e preferencialmente só um -- modo óbvio para fazer algo.\n",
        "14. Embora esse modo possa não ser óbvio à primeira vista a menos que você seja holandês.\n",
        "15. Agora é melhor que nunca.\n",
        "16. Embora nunca freqüentemente seja melhor que *exatamente* agora.\n",
        "17. Se a implementação é difícil de explicar, é uma má idéia.\n",
        "18. Se a implementação é fácil de explicar, pode ser uma boa idéia.\n",
        "19. Namespaces são uma grande idéia -- vamos fazer mais dessas! "
      ]
    }
  ]
}