{
  "nbformat": 4,
  "nbformat_minor": 0,
  "metadata": {
    "colab": {
      "name": "Python para ML - 09.ipynb",
      "provenance": [],
      "authorship_tag": "ABX9TyOK3vdhYaDhm2A7eLVyEBfI",
      "include_colab_link": true
    },
    "kernelspec": {
      "name": "python3",
      "display_name": "Python 3"
    }
  },
  "cells": [
    {
      "cell_type": "markdown",
      "metadata": {
        "id": "view-in-github",
        "colab_type": "text"
      },
      "source": [
        "<a href=\"https://colab.research.google.com/github/ricardorocha86/Python-para-Machine-Learning/blob/master/Python_para_ML_09.ipynb\" target=\"_parent\"><img src=\"https://colab.research.google.com/assets/colab-badge.svg\" alt=\"Open In Colab\"/></a>"
      ]
    },
    {
      "cell_type": "markdown",
      "metadata": {
        "id": "QvWwixKvVqYe",
        "colab_type": "text"
      },
      "source": [
        "![texto alternativo](https://raw.githubusercontent.com/ricardorocha86/Python-para-Machine-Learning/master/Imagens/capa%20-%20python%20para%20ml%2009.jpg)\n"
      ]
    },
    {
      "cell_type": "markdown",
      "metadata": {
        "colab_type": "text",
        "id": "-b5mjxUoSzou"
      },
      "source": [
        "# **Python para Machine Learning** - Parte 9"
      ]
    },
    {
      "cell_type": "markdown",
      "metadata": {
        "id": "e5ci8BYxxrLn",
        "colab_type": "text"
      },
      "source": [
        "Nesse notebook vamos ver:\n",
        "- A Validação Holdout\n",
        "- A Validação Cruzada K-Fold\n",
        "- Exercícios\n",
        "- Links Úteis"
      ]
    },
    {
      "cell_type": "markdown",
      "metadata": {
        "id": "wuN1mXjMTLuZ",
        "colab_type": "text"
      },
      "source": [
        "## **A Validação Holdout**"
      ]
    },
    {
      "cell_type": "code",
      "metadata": {
        "id": "aCgrsXXFAhMm",
        "colab_type": "code",
        "colab": {}
      },
      "source": [
        "import pandas as pd\n",
        "url = 'https://raw.githubusercontent.com/ricardorocha86/Dados-Redes-Sociais/master/Social_Network_Ads.csv'\n",
        "ads = pd.read_csv(url)"
      ],
      "execution_count": null,
      "outputs": []
    },
    {
      "cell_type": "code",
      "metadata": {
        "id": "Jtu4nnceuBhr",
        "colab_type": "code",
        "colab": {}
      },
      "source": [
        "#Fazendo a Divisão em Teste e Treinamento\n",
        "from sklearn.model_selection import train_test_split\n",
        "Xtreino, Xteste, Ytreino, Yteste = train_test_split(ads.loc[:, ['Age', 'EstimatedSalary']], \n",
        "                                                    ads['Purchased'], \n",
        "                                                    test_size = 0.25)\n",
        "\n",
        "#Padronizando os Dados\n",
        "from sklearn.preprocessing import StandardScaler\n",
        "sc = StandardScaler()\n",
        "Xtreino = sc.fit_transform(Xtreino)\n",
        "Xteste = sc.transform(Xteste)"
      ],
      "execution_count": null,
      "outputs": []
    },
    {
      "cell_type": "code",
      "metadata": {
        "id": "j5UL71JLEUHD",
        "colab_type": "code",
        "colab": {}
      },
      "source": [
        "def Modelagem(k):\n",
        "\n",
        "    #Treinando o Modelo\n",
        "    from sklearn.neighbors import KNeighborsClassifier\n",
        "    knn = KNeighborsClassifier(n_neighbors = k)\n",
        "    knn.fit(Xtreino, Ytreino)\n",
        "\n",
        "    #Verificando o ACC\n",
        "    from sklearn.metrics import accuracy_score \n",
        "    preditos_teste = knn.predict(Xteste)\n",
        "    acc_teste = accuracy_score(preditos_teste, Yteste)\n",
        "    \n",
        "    return acc_teste\n",
        "\n"
      ],
      "execution_count": null,
      "outputs": []
    },
    {
      "cell_type": "code",
      "metadata": {
        "id": "sB-J-VlDEw-i",
        "colab_type": "code",
        "colab": {
          "base_uri": "https://localhost:8080/",
          "height": 34
        },
        "outputId": "ce42f363-751c-4ce7-effc-d14bc24799dc"
      },
      "source": [
        "Modelagem(15)"
      ],
      "execution_count": null,
      "outputs": [
        {
          "output_type": "execute_result",
          "data": {
            "text/plain": [
              "0.89"
            ]
          },
          "metadata": {
            "tags": []
          },
          "execution_count": 479
        }
      ]
    },
    {
      "cell_type": "code",
      "metadata": {
        "id": "vEkuhGJRzKms",
        "colab_type": "code",
        "colab": {
          "base_uri": "https://localhost:8080/",
          "height": 68
        },
        "outputId": "f45be25b-62ad-4773-b1fe-c97c8fc8fd0a"
      },
      "source": [
        "import numpy as np\n",
        "kas = np.arange(1, 100, 2)\n",
        "kas"
      ],
      "execution_count": null,
      "outputs": [
        {
          "output_type": "execute_result",
          "data": {
            "text/plain": [
              "array([ 1,  3,  5,  7,  9, 11, 13, 15, 17, 19, 21, 23, 25, 27, 29, 31, 33,\n",
              "       35, 37, 39, 41, 43, 45, 47, 49, 51, 53, 55, 57, 59, 61, 63, 65, 67,\n",
              "       69, 71, 73, 75, 77, 79, 81, 83, 85, 87, 89, 91, 93, 95, 97, 99])"
            ]
          },
          "metadata": {
            "tags": []
          },
          "execution_count": 480
        }
      ]
    },
    {
      "cell_type": "code",
      "metadata": {
        "id": "7nQZToRWC5e-",
        "colab_type": "code",
        "colab": {}
      },
      "source": [
        "accs = []\n",
        "\n",
        "for i in kas:\n",
        "    accs.append(Modelagem(i))\n",
        "\n",
        "accs\n"
      ],
      "execution_count": null,
      "outputs": []
    },
    {
      "cell_type": "code",
      "metadata": {
        "id": "KSsUhHzgDkG_",
        "colab_type": "code",
        "colab": {
          "base_uri": "https://localhost:8080/",
          "height": 34
        },
        "outputId": "24895a0d-a911-4315-fd1f-160714d30710"
      },
      "source": [
        "kas[accs.index(max(accs))]"
      ],
      "execution_count": null,
      "outputs": [
        {
          "output_type": "execute_result",
          "data": {
            "text/plain": [
              "11"
            ]
          },
          "metadata": {
            "tags": []
          },
          "execution_count": 486
        }
      ]
    },
    {
      "cell_type": "code",
      "metadata": {
        "id": "kOPcxOnKDMNK",
        "colab_type": "code",
        "colab": {
          "base_uri": "https://localhost:8080/",
          "height": 281
        },
        "outputId": "a2cb2647-53bb-4e04-8a3c-f5bdf274179b"
      },
      "source": [
        "\n",
        "import matplotlib.pyplot as plt\n",
        "\n",
        "#Qual é o valor de K que atinge o máximo da acurácia?\n",
        "kmax = kas[accs.index(max(accs))]\n",
        "\n",
        "\n",
        "plt.axvline(kmax, color = 'gray', linestyle = 'dashed')\n",
        "plt.axhline(max(accs), color = 'gray', linestyle = 'dashed')\n",
        "\n",
        "plt.plot(kas, accs, linewidth = 2)\n",
        "plt.ylim(min(accs), 1)\n",
        "frase = 'Acurácia máxima igual a {} usando K = {}.'.format(max(accs), kmax)\n",
        "plt.title(frase)\n",
        "plt.show()"
      ],
      "execution_count": null,
      "outputs": [
        {
          "output_type": "display_data",
          "data": {
            "image/png": "[encoded data removed]",
            "text/plain": [
              "<Figure size 432x288 with 1 Axes>"
            ]
          },
          "metadata": {
            "tags": [],
            "needs_background": "light"
          }
        }
      ]
    },
    {
      "cell_type": "code",
      "metadata": {
        "colab_type": "code",
        "id": "nCanz0P5oy6I",
        "colab": {}
      },
      "source": [
        "from sklearn.model_selection import train_test_split\n",
        "from sklearn.preprocessing import StandardScaler\n",
        "from sklearn.neighbors import KNeighborsClassifier\n",
        "from sklearn.metrics import accuracy_score     \n",
        "import numpy as np\n",
        "import matplotlib.pyplot as plt\n",
        "\n",
        "def VariaTesteTreino():\n",
        "    #Fazendo a Divisão em Teste e Treinamento\n",
        "    Xtreino, Xteste, Ytreino, Yteste = train_test_split(ads.loc[:, ['Age', 'EstimatedSalary']], \n",
        "                                                        ads['Purchased'], \n",
        "                                                        test_size = 0.25)\n",
        "\n",
        "    #Padronizando os Dados\n",
        "    sc = StandardScaler()\n",
        "    Xtreino = sc.fit_transform(Xtreino)\n",
        "    Xteste = sc.transform(Xteste)\n",
        "\n",
        "    def Modelagem(k):\n",
        "        #Treinando o Modelo\n",
        "        knn = KNeighborsClassifier(n_neighbors = k)\n",
        "        knn.fit(Xtreino, Ytreino)\n",
        "\n",
        "        #Verificando o ACC\n",
        "        preditos_teste = knn.predict(Xteste)\n",
        "        acc_teste = accuracy_score(preditos_teste, Yteste)\n",
        "        return acc_teste\n",
        "\n",
        "    #Fazendo a variação dentre as possibilidades de K (de 1 a 99, de 2 em 2)\n",
        "\n",
        "    kas = np.arange(1,100,2)\n",
        "\n",
        "    accs = []\n",
        "    for i in kas:\n",
        "        accs.append(Modelagem(i))\n",
        " \n",
        "\n",
        "    #Qual é o valor de K que atinge o máximo da acurácia?\n",
        "    kmax = kas[accs.index(max(accs))]\n",
        "    return kmax"
      ],
      "execution_count": null,
      "outputs": []
    },
    {
      "cell_type": "code",
      "metadata": {
        "id": "Hy9TrW7UH06X",
        "colab_type": "code",
        "colab": {
          "base_uri": "https://localhost:8080/",
          "height": 34
        },
        "outputId": "6e3ed071-99df-4940-f10e-259ae2790369"
      },
      "source": [
        "VariaTesteTreino()"
      ],
      "execution_count": null,
      "outputs": [
        {
          "output_type": "execute_result",
          "data": {
            "text/plain": [
              "37"
            ]
          },
          "metadata": {
            "tags": []
          },
          "execution_count": 500
        }
      ]
    },
    {
      "cell_type": "markdown",
      "metadata": {
        "id": "R9G0APqmKAgv",
        "colab_type": "text"
      },
      "source": [
        "## **K-Fold**"
      ]
    },
    {
      "cell_type": "code",
      "metadata": {
        "colab_type": "code",
        "id": "QR0M2zTbiHON",
        "colab": {}
      },
      "source": [
        "import pandas as pd\n",
        "url = 'https://raw.githubusercontent.com/ricardorocha86/Dados-Redes-Sociais/master/Social_Network_Ads.csv'\n",
        "ads = pd.read_csv(url)"
      ],
      "execution_count": null,
      "outputs": []
    },
    {
      "cell_type": "code",
      "metadata": {
        "id": "tQ452RQSiUWX",
        "colab_type": "code",
        "colab": {
          "base_uri": "https://localhost:8080/",
          "height": 204
        },
        "outputId": "c3ae136b-9701-427c-a1dd-420b5e71355b"
      },
      "source": [
        "ads.head()"
      ],
      "execution_count": null,
      "outputs": [
        {
          "output_type": "execute_result",
          "data": {
            "text/html": [
              "<div>\n",
              "<style scoped>\n",
              "    .dataframe tbody tr th:only-of-type {\n",
              "        vertical-align: middle;\n",
              "    }\n",
              "\n",
              "    .dataframe tbody tr th {\n",
              "        vertical-align: top;\n",
              "    }\n",
              "\n",
              "    .dataframe thead th {\n",
              "        text-align: right;\n",
              "    }\n",
              "</style>\n",
              "<table border=\"1\" class=\"dataframe\">\n",
              "  <thead>\n",
              "    <tr style=\"text-align: right;\">\n",
              "      <th></th>\n",
              "      <th>User ID</th>\n",
              "      <th>Gender</th>\n",
              "      <th>Age</th>\n",
              "      <th>EstimatedSalary</th>\n",
              "      <th>Purchased</th>\n",
              "    </tr>\n",
              "  </thead>\n",
              "  <tbody>\n",
              "    <tr>\n",
              "      <th>0</th>\n",
              "      <td>15624510</td>\n",
              "      <td>Male</td>\n",
              "      <td>19.0</td>\n",
              "      <td>19000.0</td>\n",
              "      <td>0</td>\n",
              "    </tr>\n",
              "    <tr>\n",
              "      <th>1</th>\n",
              "      <td>15810944</td>\n",
              "      <td>Male</td>\n",
              "      <td>35.0</td>\n",
              "      <td>20000.0</td>\n",
              "      <td>0</td>\n",
              "    </tr>\n",
              "    <tr>\n",
              "      <th>2</th>\n",
              "      <td>15668575</td>\n",
              "      <td>Female</td>\n",
              "      <td>26.0</td>\n",
              "      <td>43000.0</td>\n",
              "      <td>0</td>\n",
              "    </tr>\n",
              "    <tr>\n",
              "      <th>3</th>\n",
              "      <td>15603246</td>\n",
              "      <td>Female</td>\n",
              "      <td>27.0</td>\n",
              "      <td>57000.0</td>\n",
              "      <td>0</td>\n",
              "    </tr>\n",
              "    <tr>\n",
              "      <th>4</th>\n",
              "      <td>15804002</td>\n",
              "      <td>Male</td>\n",
              "      <td>19.0</td>\n",
              "      <td>76000.0</td>\n",
              "      <td>0</td>\n",
              "    </tr>\n",
              "  </tbody>\n",
              "</table>\n",
              "</div>"
            ],
            "text/plain": [
              "    User ID  Gender   Age  EstimatedSalary  Purchased\n",
              "0  15624510    Male  19.0          19000.0          0\n",
              "1  15810944    Male  35.0          20000.0          0\n",
              "2  15668575  Female  26.0          43000.0          0\n",
              "3  15603246  Female  27.0          57000.0          0\n",
              "4  15804002    Male  19.0          76000.0          0"
            ]
          },
          "metadata": {
            "tags": []
          },
          "execution_count": 502
        }
      ]
    },
    {
      "cell_type": "code",
      "metadata": {
        "colab_type": "code",
        "id": "HeI0f5L1iHOv",
        "colab": {
          "base_uri": "https://localhost:8080/",
          "height": 204
        },
        "outputId": "ca62c8ad-ddeb-46aa-84ac-230450a5c82c"
      },
      "source": [
        "ads.drop(['User ID', 'Gender'], axis = 1, inplace = True)\n",
        "ads.head()"
      ],
      "execution_count": null,
      "outputs": [
        {
          "output_type": "execute_result",
          "data": {
            "text/html": [
              "<div>\n",
              "<style scoped>\n",
              "    .dataframe tbody tr th:only-of-type {\n",
              "        vertical-align: middle;\n",
              "    }\n",
              "\n",
              "    .dataframe tbody tr th {\n",
              "        vertical-align: top;\n",
              "    }\n",
              "\n",
              "    .dataframe thead th {\n",
              "        text-align: right;\n",
              "    }\n",
              "</style>\n",
              "<table border=\"1\" class=\"dataframe\">\n",
              "  <thead>\n",
              "    <tr style=\"text-align: right;\">\n",
              "      <th></th>\n",
              "      <th>Age</th>\n",
              "      <th>EstimatedSalary</th>\n",
              "      <th>Purchased</th>\n",
              "    </tr>\n",
              "  </thead>\n",
              "  <tbody>\n",
              "    <tr>\n",
              "      <th>0</th>\n",
              "      <td>19.0</td>\n",
              "      <td>19000.0</td>\n",
              "      <td>0</td>\n",
              "    </tr>\n",
              "    <tr>\n",
              "      <th>1</th>\n",
              "      <td>35.0</td>\n",
              "      <td>20000.0</td>\n",
              "      <td>0</td>\n",
              "    </tr>\n",
              "    <tr>\n",
              "      <th>2</th>\n",
              "      <td>26.0</td>\n",
              "      <td>43000.0</td>\n",
              "      <td>0</td>\n",
              "    </tr>\n",
              "    <tr>\n",
              "      <th>3</th>\n",
              "      <td>27.0</td>\n",
              "      <td>57000.0</td>\n",
              "      <td>0</td>\n",
              "    </tr>\n",
              "    <tr>\n",
              "      <th>4</th>\n",
              "      <td>19.0</td>\n",
              "      <td>76000.0</td>\n",
              "      <td>0</td>\n",
              "    </tr>\n",
              "  </tbody>\n",
              "</table>\n",
              "</div>"
            ],
            "text/plain": [
              "    Age  EstimatedSalary  Purchased\n",
              "0  19.0          19000.0          0\n",
              "1  35.0          20000.0          0\n",
              "2  26.0          43000.0          0\n",
              "3  27.0          57000.0          0\n",
              "4  19.0          76000.0          0"
            ]
          },
          "metadata": {
            "tags": []
          },
          "execution_count": 503
        }
      ]
    },
    {
      "cell_type": "code",
      "metadata": {
        "id": "Vxq5BN3kimGA",
        "colab_type": "code",
        "colab": {}
      },
      "source": [
        "ads_vars = ads[['Age', 'EstimatedSalary']]\n",
        "ads_resp = ads['Purchased']"
      ],
      "execution_count": null,
      "outputs": []
    },
    {
      "cell_type": "code",
      "metadata": {
        "id": "5Xr7AUwiiw-t",
        "colab_type": "code",
        "colab": {
          "base_uri": "https://localhost:8080/",
          "height": 1000
        },
        "outputId": "f5adbaf6-774c-458a-c2c7-121fed0b7695"
      },
      "source": [
        "ads_vars"
      ],
      "execution_count": null,
      "outputs": [
        {
          "output_type": "execute_result",
          "data": {
            "text/plain": [
              "array([[-1.78179743, -1.49004624],\n",
              "       [-0.25358736, -1.46068138],\n",
              "       [-1.11320552, -0.78528968],\n",
              "       [-1.01769239, -0.37418169],\n",
              "       [-1.78179743,  0.18375059],\n",
              "       [-1.01769239, -0.34481683],\n",
              "       [-1.01769239,  0.41866944],\n",
              "       [-0.54012675,  2.35674998],\n",
              "       [-1.20871865, -1.07893824],\n",
              "       [-0.25358736, -0.13926283],\n",
              "       [-1.11320552,  0.30121002],\n",
              "       [-1.11320552, -0.52100597],\n",
              "       [-1.6862843 ,  0.47739916],\n",
              "       [-0.54012675, -1.51941109],\n",
              "       [-1.87731056,  0.35993973],\n",
              "       [-0.82666613,  0.30121002],\n",
              "       [ 0.89257019, -1.3138571 ],\n",
              "       [ 0.70154394, -1.28449224],\n",
              "       [ 0.79705706, -1.22576253],\n",
              "       [ 0.98808332, -1.19639767],\n",
              "       [ 0.70154394, -1.40195167],\n",
              "       [ 0.89257019, -0.60910054],\n",
              "       [ 0.98808332, -0.84401939],\n",
              "       [ 0.70154394, -1.40195167],\n",
              "       [ 0.79705706, -1.37258681],\n",
              "       [ 0.89257019, -1.46068138],\n",
              "       [ 1.08359645, -1.22576253],\n",
              "       [ 0.89257019, -1.16703281],\n",
              "       [-0.82666613, -0.78528968],\n",
              "       [-0.63563988, -1.51941109],\n",
              "       [-0.63563988,  0.12502088],\n",
              "       [-1.01769239,  1.97500684],\n",
              "       [-1.59077117, -1.5781408 ],\n",
              "       [-0.92217926, -0.75592482],\n",
              "       [-1.01769239,  0.59485858],\n",
              "       [-0.25358736, -1.25512738],\n",
              "       [-0.44461362, -1.22576253],\n",
              "       [-0.73115301, -0.60910054],\n",
              "       [-1.11320552,  0.06629116],\n",
              "       [-1.01769239, -1.13766796],\n",
              "       [-1.01769239, -1.54877595],\n",
              "       [-0.44461362, -0.55037082],\n",
              "       [-0.25358736,  1.123426  ],\n",
              "       [-0.73115301, -1.60750566],\n",
              "       [-0.92217926,  0.41866944],\n",
              "       [-1.39974491, -1.46068138],\n",
              "       [-1.20871865,  0.27184516],\n",
              "       [-1.01769239, -0.46227625],\n",
              "       [-0.73115301,  1.91627713],\n",
              "       [-0.63563988,  0.56549373],\n",
              "       [-1.30423178, -1.1083031 ],\n",
              "       [-1.87731056, -0.75592482],\n",
              "       [-0.82666613,  0.38930459],\n",
              "       [-0.25358736, -1.37258681],\n",
              "       [-1.01769239, -0.34481683],\n",
              "       [-1.30423178, -0.4329114 ],\n",
              "       [-1.39974491, -0.63846539],\n",
              "       [-0.92217926,  0.27184516],\n",
              "       [-1.49525804, -1.51941109],\n",
              "       [-0.54012675,  1.38770971],\n",
              "       [-1.01769239, -1.46068138],\n",
              "       [-1.20871865,  0.50676401],\n",
              "       [-1.39974491, -0.10989798],\n",
              "       [-0.54012675,  1.47580428],\n",
              "       [ 2.03872775,  0.38930459],\n",
              "       [-1.30423178, -0.34481683],\n",
              "       [-1.30423178, -1.49004624],\n",
              "       [-1.39974491,  0.35993973],\n",
              "       [-1.49525804, -0.19799255],\n",
              "       [-0.63563988, -0.05116826],\n",
              "       [-1.20871865,  0.30121002],\n",
              "       [-1.30423178, -1.25512738],\n",
              "       [-1.6862843 , -1.37258681],\n",
              "       [-0.44461362,  1.27025028],\n",
              "       [-0.54012675, -1.51941109],\n",
              "       [-0.34910049,  1.24088543],\n",
              "       [-1.87731056, -0.52100597],\n",
              "       [-1.49525804, -1.25512738],\n",
              "       [-0.92217926,  0.50676401],\n",
              "       [-1.11320552, -1.54877595],\n",
              "       [-0.73115301,  0.30121002],\n",
              "       [ 0.12846516, -0.81465453],\n",
              "       [-1.6862843 , -0.60910054],\n",
              "       [-0.25358736,  0.53612887],\n",
              "       [-0.73115301, -0.2273574 ],\n",
              "       [-0.63563988,  1.41707457],\n",
              "       [-1.30423178, -0.4329114 ],\n",
              "       [-0.92217926,  0.4480343 ],\n",
              "       [-1.11320552,  0.33057487],\n",
              "       [-0.25358736, -0.57973568],\n",
              "       [-1.49525804,  0.33057487],\n",
              "       [-0.73115301,  1.35834485],\n",
              "       [-1.11320552, -1.60750566],\n",
              "       [-0.82666613, -1.22576253],\n",
              "       [-0.82666613,  0.38930459],\n",
              "       [-0.25358736, -0.75592482],\n",
              "       [-0.25358736, -1.3138571 ],\n",
              "       [-0.92217926,  1.56389885],\n",
              "       [-0.25358736,  0.09565602],\n",
              "       [-0.92217926, -0.96147882],\n",
              "       [-1.01769239,  0.53612887],\n",
              "       [-0.92217926, -0.31545197],\n",
              "       [-0.54012675,  0.47739916],\n",
              "       [-0.44461362,  2.32738512],\n",
              "       [-1.78179743, -1.43131652],\n",
              "       [-1.59077117,  0.06629116],\n",
              "       [-1.11320552, -1.02020853],\n",
              "       [-1.01769239,  0.56549373],\n",
              "       [-1.11320552,  0.47739916],\n",
              "       [ 0.03295203,  0.30121002],\n",
              "       [ 0.12846516,  0.03692631],\n",
              "       [-0.0625611 ,  0.03692631],\n",
              "       [ 0.03295203, -0.25672226],\n",
              "       [-0.0625611 , -0.4329114 ],\n",
              "       [ 0.41500455,  0.30121002],\n",
              "       [ 0.22397829, -0.37418169],\n",
              "       [-0.25358736,  0.15438573],\n",
              "       [-0.15807423, -0.52100597],\n",
              "       [ 0.22397829, -0.31545197],\n",
              "       [ 0.31949142, -0.31545197],\n",
              "       [-0.15807423,  0.15438573],\n",
              "       [-0.0625611 ,  0.06629116],\n",
              "       [ 0.22397829,  0.15438573],\n",
              "       [-0.25358736, -0.49164111],\n",
              "       [ 0.31949142, -0.55037082],\n",
              "       [ 0.12846516, -0.25672226],\n",
              "       [ 0.41500455, -0.13926283],\n",
              "       [-1.11320552, -1.1083031 ],\n",
              "       [-0.73115301, -1.54877595],\n",
              "       [-1.11320552,  0.41866944],\n",
              "       [-0.63563988, -0.34481683],\n",
              "       [-0.44461362, -1.13766796],\n",
              "       [-0.73115301,  0.50676401],\n",
              "       [-1.59077117, -0.05116826],\n",
              "       [-0.92217926, -0.4329114 ],\n",
              "       [-1.39974491, -0.19799255],\n",
              "       [-1.6862843 ,  0.35993973],\n",
              "       [-0.73115301,  1.09406114],\n",
              "       [-0.92217926, -0.31545197],\n",
              "       [-1.78179743, -1.3138571 ],\n",
              "       [-1.78179743,  0.4480343 ],\n",
              "       [-1.87731056, -0.05116826],\n",
              "       [-0.25358736, -0.31545197],\n",
              "       [-0.73115301,  0.56549373],\n",
              "       [-0.34910049, -1.3138571 ],\n",
              "       [-1.30423178,  0.56549373],\n",
              "       [-1.01769239,  0.77104772],\n",
              "       [ 0.31949142, -1.16703281],\n",
              "       [-0.82666613, -0.25672226],\n",
              "       [-1.6862843 ,  0.12502088],\n",
              "       [-1.11320552, -1.60750566],\n",
              "       [ 0.31949142, -0.72655996],\n",
              "       [-0.63563988,  0.18375059],\n",
              "       [-0.15807423, -0.57973568],\n",
              "       [ 0.22397829, -0.66783025],\n",
              "       [-0.63563988, -1.60750566],\n",
              "       [ 0.79705706, -0.31545197],\n",
              "       [-0.82666613,  0.15438573],\n",
              "       [-1.11320552, -1.16703281],\n",
              "       [-0.54012675,  1.91627713],\n",
              "       [-0.54012675,  0.88850715],\n",
              "       [-1.20871865,  0.59485858],\n",
              "       [-0.0625611 , -1.07893824],\n",
              "       [-0.25358736, -0.93211396],\n",
              "       [-0.44461362, -0.02180341],\n",
              "       [-1.87731056,  0.47739916],\n",
              "       [-1.49525804, -0.4329114 ],\n",
              "       [-0.25358736,  0.03692631],\n",
              "       [-0.82666613,  2.29802026],\n",
              "       [-0.82666613, -0.66783025],\n",
              "       [-1.59077117,  0.53612887],\n",
              "       [-0.34910049,  1.32898   ],\n",
              "       [-1.11320552,  1.41707457],\n",
              "       [-0.34910049, -0.78528968],\n",
              "       [-0.34910049,  0.06629116],\n",
              "       [-1.39974491, -1.22576253],\n",
              "       [-0.25358736, -0.66783025],\n",
              "       [-1.20871865, -1.40195167],\n",
              "       [-1.30423178, -1.37258681],\n",
              "       [-0.63563988, -1.04957339],\n",
              "       [-1.11320552, -1.5781408 ],\n",
              "       [-0.63563988,  0.03692631],\n",
              "       [-0.54012675,  1.38770971],\n",
              "       [-0.44461362, -0.78528968],\n",
              "       [-0.44461362, -0.28608712],\n",
              "       [-0.63563988, -0.10989798],\n",
              "       [-1.6862843 ,  0.35993973],\n",
              "       [-0.44461362, -0.84401939],\n",
              "       [-0.25358736,  0.06629116],\n",
              "       [-0.92217926, -1.1083031 ],\n",
              "       [-1.30423178,  0.41866944],\n",
              "       [-1.78179743, -1.28449224],\n",
              "       [-0.82666613, -0.78528968],\n",
              "       [-1.78179743,  0.00756145],\n",
              "       [-0.92217926,  0.56549373],\n",
              "       [-0.34910049, -0.78528968],\n",
              "       [-0.73115301,  0.27184516],\n",
              "       [-1.6862843 , -0.99084367],\n",
              "       [-1.11320552,  0.30121002],\n",
              "       [-0.25358736, -1.40195167],\n",
              "       [-0.25358736, -0.9027491 ],\n",
              "       [ 1.08359645,  0.12502088],\n",
              "       [ 0.12846516,  1.88691227],\n",
              "       [ 0.31949142,  0.03692631],\n",
              "       [ 1.94321462,  0.917872  ],\n",
              "       [ 0.89257019, -0.66783025],\n",
              "       [ 1.65667523,  1.76945285],\n",
              "       [ 1.37013584,  1.29961514],\n",
              "       [ 0.22397829,  2.12183112],\n",
              "       [ 0.79705706, -1.40195167],\n",
              "       [ 0.98808332,  0.77104772],\n",
              "       [ 1.37013584,  2.35674998],\n",
              "       [ 2.03872775, -0.81465453],\n",
              "       [-0.25358736, -0.34481683],\n",
              "       [ 0.89257019, -0.78528968],\n",
              "       [ 2.13424088,  1.123426  ],\n",
              "       [ 1.08359645, -0.13926283],\n",
              "       [ 0.22397829,  0.2424803 ],\n",
              "       [ 0.79705706,  0.77104772],\n",
              "       [ 2.03872775,  2.15119598],\n",
              "       [ 0.31949142,  0.30121002],\n",
              "       [-0.25358736,  0.62422344],\n",
              "       [-0.0625611 ,  2.18056084],\n",
              "       [ 2.13424088,  0.94723686],\n",
              "       [-0.25358736, -0.28608712],\n",
              "       [-0.0625611 , -0.49164111],\n",
              "       [-0.15807423,  1.65199342],\n",
              "       [ 1.75218836,  1.85754742],\n",
              "       [ 0.22397829,  0.06629116],\n",
              "       [ 0.41500455,  0.30121002],\n",
              "       [-0.25358736,  2.26865541],\n",
              "       [ 0.12846516, -0.81465453],\n",
              "       [ 0.22397829,  1.09406114],\n",
              "       [ 1.08359645,  0.47739916],\n",
              "       [ 0.03295203,  1.24088543],\n",
              "       [ 0.79705706,  0.27184516],\n",
              "       [ 0.22397829, -0.37418169],\n",
              "       [-0.0625611 ,  0.30121002],\n",
              "       [ 0.79705706,  0.35993973],\n",
              "       [ 1.46564897,  2.15119598],\n",
              "       [ 0.41500455,  2.32738512],\n",
              "       [ 0.03295203, -0.31545197],\n",
              "       [ 1.17910958,  0.53612887],\n",
              "       [ 1.75218836,  1.00596657],\n",
              "       [ 0.31949142,  0.06629116],\n",
              "       [ 1.27462271,  2.23929055],\n",
              "       [-0.25358736, -0.57973568],\n",
              "       [ 1.84770149,  1.53453399],\n",
              "       [ 0.31949142, -0.52100597],\n",
              "       [-0.25358736,  0.80041258],\n",
              "       [ 0.60603081, -0.9027491 ],\n",
              "       [-0.0625611 , -0.52100597],\n",
              "       [ 0.98808332,  1.88691227],\n",
              "       [-0.0625611 ,  2.23929055],\n",
              "       [ 1.17910958, -0.75592482],\n",
              "       [ 1.37013584,  0.59485858],\n",
              "       [ 0.31949142,  0.06629116],\n",
              "       [ 0.22397829, -0.37418169],\n",
              "       [ 1.94321462,  0.74168287],\n",
              "       [ 0.70154394,  1.7988177 ],\n",
              "       [-0.25358736,  0.21311545],\n",
              "       [-0.15807423,  2.18056084],\n",
              "       [ 1.65667523,  1.62262856],\n",
              "       [-0.25358736,  0.06629116],\n",
              "       [ 0.98808332,  0.59485858],\n",
              "       [ 0.41500455,  1.123426  ],\n",
              "       [ 0.22397829,  0.15438573],\n",
              "       [-0.0625611 ,  0.12502088],\n",
              "       [ 0.89257019,  2.18056084],\n",
              "       [ 0.22397829, -0.25672226],\n",
              "       [ 0.51051768,  1.85754742],\n",
              "       [ 2.03872775,  0.18375059],\n",
              "       [ 2.13424088, -0.81465453],\n",
              "       [ 0.12846516,  1.06469629],\n",
              "       [ 1.84770149, -1.28449224],\n",
              "       [ 1.84770149,  0.12502088],\n",
              "       [ 0.03295203,  0.03692631],\n",
              "       [ 1.08359645,  0.53612887],\n",
              "       [ 1.37013584, -0.93211396],\n",
              "       [ 1.17910958, -0.99084367],\n",
              "       [ 2.03872775,  0.53612887],\n",
              "       [-0.25358736, -0.25672226],\n",
              "       [-0.0625611 ,  0.00756145],\n",
              "       [ 1.37013584, -1.43131652],\n",
              "       [ 0.98808332,  2.09246627],\n",
              "       [-0.0625611 ,  0.68295315],\n",
              "       [-0.0625611 , -0.2273574 ],\n",
              "       [ 0.98808332,  2.0043717 ],\n",
              "       [ 0.31949142,  0.27184516],\n",
              "       [-0.0625611 ,  0.2424803 ],\n",
              "       [ 0.12846516,  1.88691227],\n",
              "       [ 1.08359645,  0.56549373],\n",
              "       [ 1.65667523, -0.9027491 ],\n",
              "       [-0.0625611 ,  0.21311545],\n",
              "       [-0.25358736, -0.37418169],\n",
              "       [-0.15807423, -0.19799255],\n",
              "       [ 0.41500455,  0.09565602],\n",
              "       [ 0.51051768,  1.24088543],\n",
              "       [ 0.70154394,  0.27184516],\n",
              "       [ 0.79705706,  1.38770971],\n",
              "       [ 1.94321462, -0.93211396],\n",
              "       [ 0.98808332,  0.12502088],\n",
              "       [-0.0625611 ,  1.97500684],\n",
              "       [-0.0625611 ,  0.27184516],\n",
              "       [ 0.22397829, -0.28608712],\n",
              "       [ 0.41500455, -0.46227625],\n",
              "       [ 1.27462271,  1.88691227],\n",
              "       [ 0.89257019,  1.27025028],\n",
              "       [-0.15807423,  1.62262856],\n",
              "       [ 0.03295203, -0.57973568],\n",
              "       [ 0.41500455,  0.00756145],\n",
              "       [ 0.12846516,  0.77104772],\n",
              "       [ 0.03295203, -0.57973568],\n",
              "       [ 1.08359645,  2.09246627],\n",
              "       [ 0.12846516,  0.27184516],\n",
              "       [ 0.12846516,  0.15438573],\n",
              "       [ 1.5611621 ,  1.00596657],\n",
              "       [-0.25358736, -0.4329114 ],\n",
              "       [ 0.70154394, -1.1083031 ],\n",
              "       [-0.15807423, -0.28608712],\n",
              "       [ 1.37013584,  2.0043717 ],\n",
              "       [ 1.46564897,  0.35993973],\n",
              "       [ 0.31949142, -0.52100597],\n",
              "       [ 0.98808332, -1.16703281],\n",
              "       [ 0.98808332,  1.7988177 ],\n",
              "       [ 0.31949142, -0.28608712],\n",
              "       [ 0.31949142,  0.06629116],\n",
              "       [ 0.41500455,  0.15438573],\n",
              "       [-0.15807423,  1.41707457],\n",
              "       [ 0.89257019,  1.09406114],\n",
              "       [ 0.03295203, -0.55037082],\n",
              "       [ 0.98808332,  1.44643942],\n",
              "       [ 0.41500455, -0.13926283],\n",
              "       [ 0.22397829, -0.13926283],\n",
              "       [ 1.84770149, -0.28608712],\n",
              "       [-0.15807423, -0.46227625],\n",
              "       [ 1.94321462,  2.18056084],\n",
              "       [-0.25358736,  0.27184516],\n",
              "       [ 0.03295203, -0.4329114 ],\n",
              "       [ 0.12846516,  1.53453399],\n",
              "       [ 1.46564897,  1.00596657],\n",
              "       [-0.25358736,  0.15438573],\n",
              "       [ 0.03295203, -0.13926283],\n",
              "       [ 0.89257019, -0.55037082],\n",
              "       [ 0.89257019,  1.03533143],\n",
              "       [ 0.31949142, -0.19799255],\n",
              "       [ 1.46564897,  0.06629116],\n",
              "       [ 1.5611621 ,  1.123426  ],\n",
              "       [ 0.12846516,  0.21311545],\n",
              "       [ 0.03295203, -0.25672226],\n",
              "       [ 0.03295203,  1.27025028],\n",
              "       [-0.0625611 ,  0.15438573],\n",
              "       [ 0.41500455,  0.59485858],\n",
              "       [-0.0625611 , -0.37418169],\n",
              "       [-0.15807423,  0.85914229],\n",
              "       [ 2.13424088, -1.04957339],\n",
              "       [ 1.5611621 ,  0.00756145],\n",
              "       [ 0.31949142,  0.06629116],\n",
              "       [ 0.22397829,  0.03692631],\n",
              "       [ 0.41500455, -0.46227625],\n",
              "       [ 0.51051768,  1.74008799],\n",
              "       [ 1.46564897, -1.04957339],\n",
              "       [ 0.89257019, -0.57973568],\n",
              "       [ 0.41500455,  0.27184516],\n",
              "       [ 0.41500455,  1.00596657],\n",
              "       [ 2.03872775, -1.19639767],\n",
              "       [ 1.94321462, -0.66783025],\n",
              "       [ 0.79705706,  0.53612887],\n",
              "       [ 0.03295203,  0.03692631],\n",
              "       [ 1.5611621 , -1.28449224],\n",
              "       [ 2.13424088, -0.69719511],\n",
              "       [ 2.13424088,  0.38930459],\n",
              "       [ 0.12846516,  0.09565602],\n",
              "       [ 2.03872775,  1.76945285],\n",
              "       [-0.0625611 ,  0.30121002],\n",
              "       [ 0.79705706, -1.1083031 ],\n",
              "       [ 0.79705706,  0.12502088],\n",
              "       [ 0.41500455, -0.49164111],\n",
              "       [ 0.31949142,  0.50676401],\n",
              "       [ 1.94321462, -1.37258681],\n",
              "       [ 0.41500455, -0.16862769],\n",
              "       [ 0.98808332, -1.07893824],\n",
              "       [ 0.60603081,  2.03373655],\n",
              "       [ 1.08359645, -1.22576253],\n",
              "       [ 1.84770149, -1.07893824],\n",
              "       [ 1.75218836, -0.28608712],\n",
              "       [ 1.08359645, -0.9027491 ],\n",
              "       [ 0.12846516,  0.03692631],\n",
              "       [ 0.89257019, -1.04957339],\n",
              "       [ 0.98808332, -1.02020853],\n",
              "       [ 0.98808332, -1.07893824],\n",
              "       [ 0.89257019, -1.37258681],\n",
              "       [ 0.70154394, -0.72655996],\n",
              "       [ 2.13424088, -0.81465453],\n",
              "       [ 0.12846516, -0.31545197],\n",
              "       [ 0.79705706, -0.84401939],\n",
              "       [ 1.27462271, -1.37258681],\n",
              "       [ 1.17910958, -1.46068138],\n",
              "       [-0.15807423, -1.07893824],\n",
              "       [ 1.08359645, -0.99084367]])"
            ]
          },
          "metadata": {
            "tags": []
          },
          "execution_count": 508
        }
      ]
    },
    {
      "cell_type": "code",
      "metadata": {
        "id": "n9Hui665idHJ",
        "colab_type": "code",
        "colab": {}
      },
      "source": [
        "#Padronizando os Dados\n",
        "from sklearn.preprocessing import StandardScaler\n",
        "sc = StandardScaler()\n",
        "ads_vars = sc.fit_transform(ads_vars)"
      ],
      "execution_count": null,
      "outputs": []
    },
    {
      "cell_type": "code",
      "metadata": {
        "id": "mXIm-mGvh-oH",
        "colab_type": "code",
        "colab": {}
      },
      "source": [
        "from sklearn.neighbors import KNeighborsClassifier\n",
        "from sklearn.model_selection import cross_val_score\n",
        "from sklearn.model_selection import KFold"
      ],
      "execution_count": null,
      "outputs": []
    },
    {
      "cell_type": "code",
      "metadata": {
        "id": "6OsgdZujh29F",
        "colab_type": "code",
        "colab": {
          "base_uri": "https://localhost:8080/",
          "height": 323
        },
        "outputId": "02da2d10-15b3-4033-ad20-340600a6f05e"
      },
      "source": [
        "modelo = KNeighborsClassifier(n_neighbors = 13)\n",
        "\n",
        "kf = KFold(n_splits = 400, shuffle = True)\n",
        "accs_vc = cross_val_score(modelo, ads_vars, ads_resp, cv = kf, scoring = 'accuracy')\n",
        "\n",
        "print(accs_vc)\n",
        "print('Acurácia: {:.2f}%'.format(100*accs_vc.mean()))"
      ],
      "execution_count": null,
      "outputs": [
        {
          "output_type": "stream",
          "text": [
            "[1. 0. 1. 1. 1. 1. 1. 1. 1. 1. 1. 1. 1. 1. 1. 1. 1. 1. 1. 1. 0. 0. 1. 1.\n",
            " 1. 1. 1. 1. 1. 1. 1. 1. 1. 1. 1. 1. 1. 1. 1. 1. 1. 1. 1. 1. 1. 1. 1. 1.\n",
            " 1. 1. 1. 1. 1. 1. 1. 1. 0. 1. 1. 1. 1. 1. 1. 1. 1. 1. 1. 1. 1. 1. 1. 1.\n",
            " 1. 1. 1. 0. 1. 0. 1. 1. 1. 1. 1. 1. 1. 0. 1. 1. 0. 1. 1. 1. 1. 1. 1. 1.\n",
            " 0. 1. 0. 1. 1. 1. 1. 0. 1. 1. 1. 1. 1. 1. 1. 1. 1. 1. 1. 1. 1. 0. 1. 1.\n",
            " 1. 1. 1. 1. 1. 1. 1. 1. 1. 0. 1. 1. 1. 0. 1. 0. 1. 1. 1. 1. 1. 1. 1. 1.\n",
            " 1. 1. 1. 1. 1. 1. 1. 1. 1. 1. 1. 1. 1. 0. 1. 1. 1. 1. 1. 1. 1. 1. 1. 1.\n",
            " 1. 1. 1. 1. 1. 1. 1. 1. 1. 1. 1. 1. 1. 1. 0. 0. 1. 1. 1. 1. 1. 1. 1. 1.\n",
            " 1. 1. 1. 1. 1. 1. 1. 1. 1. 1. 1. 1. 0. 1. 1. 1. 1. 1. 1. 1. 1. 1. 1. 1.\n",
            " 1. 1. 1. 1. 1. 1. 1. 1. 1. 1. 1. 1. 1. 1. 1. 1. 1. 1. 1. 1. 1. 1. 1. 1.\n",
            " 1. 1. 1. 1. 1. 1. 1. 1. 1. 1. 1. 1. 1. 1. 1. 1. 1. 1. 1. 0. 1. 1. 1. 1.\n",
            " 1. 1. 1. 0. 1. 1. 1. 1. 1. 1. 0. 1. 1. 1. 1. 1. 1. 1. 1. 1. 1. 1. 1. 1.\n",
            " 1. 1. 1. 1. 1. 1. 1. 0. 1. 1. 1. 1. 1. 1. 1. 1. 1. 0. 0. 1. 0. 1. 1. 1.\n",
            " 1. 1. 1. 1. 0. 1. 1. 1. 1. 0. 1. 1. 1. 1. 1. 1. 1. 1. 1. 1. 1. 0. 1. 1.\n",
            " 0. 1. 1. 1. 1. 1. 1. 1. 1. 1. 1. 1. 1. 1. 1. 1. 1. 1. 0. 1. 1. 0. 1. 1.\n",
            " 1. 1. 1. 1. 1. 0. 1. 0. 1. 1. 0. 1. 1. 1. 1. 1. 1. 1. 1. 1. 1. 1. 1. 1.\n",
            " 1. 1. 1. 1. 1. 1. 1. 1. 1. 1. 1. 1. 1. 1. 1. 1.]\n",
            "Acurácia: 91.25%\n"
          ],
          "name": "stdout"
        }
      ]
    },
    {
      "cell_type": "code",
      "metadata": {
        "id": "C8pXjWdrjY39",
        "colab_type": "code",
        "colab": {}
      },
      "source": [
        "def MeuKFold(k):\n",
        "    modelo = KNeighborsClassifier(n_neighbors = k)\n",
        "\n",
        "    kf = KFold(n_splits = 50, shuffle = True)\n",
        "    accs_vc = cross_val_score(modelo, ads_vars, ads_resp, cv = kf, scoring = 'accuracy')\n",
        "\n",
        "    return accs_vc.mean()"
      ],
      "execution_count": null,
      "outputs": []
    },
    {
      "cell_type": "code",
      "metadata": {
        "id": "o2hFnevIjWzJ",
        "colab_type": "code",
        "colab": {}
      },
      "source": [
        "kas = np.arange(1,100,2)\n",
        "\n",
        "accs = []\n",
        "for i in kas:\n",
        "    accs.append(MeuKFold(i))"
      ],
      "execution_count": null,
      "outputs": []
    },
    {
      "cell_type": "code",
      "metadata": {
        "id": "IPtPMwgnn_Ad",
        "colab_type": "code",
        "colab": {}
      },
      "source": [
        "accs"
      ],
      "execution_count": null,
      "outputs": []
    },
    {
      "cell_type": "code",
      "metadata": {
        "id": "i0sGr2OhoSj9",
        "colab_type": "code",
        "colab": {
          "base_uri": "https://localhost:8080/",
          "height": 281
        },
        "outputId": "490aaee1-7204-4741-d6b6-f6db09497754"
      },
      "source": [
        "kmax = kas[accs.index(max(accs))]\n",
        "\n",
        "plt.axvline(kmax, color = 'gray', linestyle = 'dashed')\n",
        "plt.axhline(max(accs), color = 'gray', linestyle = 'dashed')\n",
        "plt.plot(kas, accs, linewidth = 2)\n",
        "plt.ylim(min(accs), 1)\n",
        "frase = 'Acurácia máxima igual a {} usando K = {}.'.format(max(accs), kmax)\n",
        "plt.title(frase)\n",
        "plt.show()"
      ],
      "execution_count": null,
      "outputs": [
        {
          "output_type": "display_data",
          "data": {
            "image/png": "[encoded data removed]",
            "text/plain": [
              "<Figure size 432x288 with 1 Axes>"
            ]
          },
          "metadata": {
            "tags": [],
            "needs_background": "light"
          }
        }
      ]
    },
    {
      "cell_type": "code",
      "metadata": {
        "id": "tW_XnhDlpwsO",
        "colab_type": "code",
        "colab": {
          "base_uri": "https://localhost:8080/",
          "height": 281
        },
        "outputId": "6e4ad56e-cebf-45bb-e8da-53d6ad266cd9"
      },
      "source": [
        "def MeuKFold(k):\n",
        "    modelo = KNeighborsClassifier(n_neighbors = k)\n",
        "\n",
        "    kf = KFold(n_splits = 10, shuffle = True)\n",
        "    accs_vc = cross_val_score(modelo, ads_vars, ads_resp, cv = kf, scoring = 'accuracy')\n",
        "\n",
        "    return accs_vc.mean()\n",
        "\n",
        "kas = np.arange(1,80,2)\n",
        "\n",
        "accs = []\n",
        "for i in kas:\n",
        "    accs.append(MeuKFold(i))\n",
        "\n",
        "kmax = kas[accs.index(max(accs))]\n",
        "\n",
        "plt.axvline(kmax, color = 'gray', linestyle = 'dashed')\n",
        "plt.axhline(max(accs), color = 'gray', linestyle = 'dashed')\n",
        "plt.plot(kas, accs, linewidth = 2)\n",
        "plt.ylim(min(accs), 1)\n",
        "frase = 'Acurácia máxima igual a {:.4f} usando K = {}.'.format(max(accs), kmax)\n",
        "plt.title(frase)\n",
        "plt.show()"
      ],
      "execution_count": null,
      "outputs": [
        {
          "output_type": "display_data",
          "data": {
            "image/png": "[encoded data removed]",
            "text/plain": [
              "<Figure size 432x288 with 1 Axes>"
            ]
          },
          "metadata": {
            "tags": [],
            "needs_background": "light"
          }
        }
      ]
    },
    {
      "cell_type": "markdown",
      "metadata": {
        "id": "6e3qEfhp-cld",
        "colab_type": "text"
      },
      "source": [
        "## **Exercício**\n",
        "\n",
        "Verifique o EQM no exemplo da aula anterior utilizando o método da Validação Cruzada K-Fold"
      ]
    }
  ]
}