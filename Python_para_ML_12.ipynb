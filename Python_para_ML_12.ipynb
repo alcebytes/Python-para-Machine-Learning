{
  "nbformat": 4,
  "nbformat_minor": 0,
  "metadata": {
    "colab": {
      "name": "Python para ML - 12.ipynb",
      "provenance": [],
      "collapsed_sections": [],
      "toc_visible": true,
      "authorship_tag": "ABX9TyM0c94F98ngYhmY0QtKUT/z",
      "include_colab_link": true
    },
    "kernelspec": {
      "name": "python3",
      "display_name": "Python 3"
    }
  },
  "cells": [
    {
      "cell_type": "markdown",
      "metadata": {
        "id": "view-in-github",
        "colab_type": "text"
      },
      "source": [
        "<a href=\"https://colab.research.google.com/github/ricardorocha86/Python-para-Machine-Learning/blob/master/Python_para_ML_12.ipynb\" target=\"_parent\"><img src=\"https://colab.research.google.com/assets/colab-badge.svg\" alt=\"Open In Colab\"/></a>"
      ]
    },
    {
      "cell_type": "markdown",
      "metadata": {
        "id": "7utdAe5d2sLN",
        "colab_type": "text"
      },
      "source": [
        "![texto alternativo](https://raw.githubusercontent.com/ricardorocha86/Python-para-Machine-Learning/master/Imagens/capa%20-%20python%20para%20ml%2012.jpg)"
      ]
    },
    {
      "cell_type": "markdown",
      "metadata": {
        "colab_type": "text",
        "id": "-b5mjxUoSzou"
      },
      "source": [
        "# **Python para Machine Learning** - Parte 12"
      ]
    },
    {
      "cell_type": "markdown",
      "metadata": {
        "id": "e5ci8BYxxrLn",
        "colab_type": "text"
      },
      "source": [
        "Nesse notebook vamos ver:\n",
        "- Métricas para Classificação Binária\n",
        "- Exemplo Final: Modelagem de Churn\n",
        "- Exercícios\n",
        "- Links Úteis"
      ]
    },
    {
      "cell_type": "markdown",
      "metadata": {
        "id": "VCPmNK__4ryO",
        "colab_type": "text"
      },
      "source": [
        "\n",
        "\n",
        "---\n",
        "\n"
      ]
    },
    {
      "cell_type": "markdown",
      "metadata": {
        "id": "0Z4Go_M720Y4",
        "colab_type": "text"
      },
      "source": [
        "## **Métricas para Classificação Binária**"
      ]
    },
    {
      "cell_type": "code",
      "metadata": {
        "id": "wwhT9yFV4vuS",
        "colab_type": "code",
        "colab": {}
      },
      "source": [
        "import pandas as pd\n",
        "import numpy as np"
      ],
      "execution_count": null,
      "outputs": []
    },
    {
      "cell_type": "code",
      "metadata": {
        "id": "xwzWV5roWp-R",
        "colab_type": "code",
        "colab": {}
      },
      "source": [
        "url1 = 'https://raw.githubusercontent.com/ricardorocha86/Datasets/master/Titanic/train.csv' \n",
        "titanic = pd.read_csv(url1) "
      ],
      "execution_count": null,
      "outputs": []
    },
    {
      "cell_type": "code",
      "metadata": {
        "id": "eUeh-zd34wLk",
        "colab_type": "code",
        "colab": {}
      },
      "source": [
        "teste1 = titanic['Sex'].map({'male': 0, 'female': 1})"
      ],
      "execution_count": null,
      "outputs": []
    },
    {
      "cell_type": "code",
      "metadata": {
        "id": "A6xlGADLpmKd",
        "colab_type": "code",
        "colab": {}
      },
      "source": [
        "from sklearn.metrics import confusion_matrix "
      ],
      "execution_count": null,
      "outputs": []
    },
    {
      "cell_type": "code",
      "metadata": {
        "id": "lH-Zb7bYvgV8",
        "colab_type": "code",
        "colab": {}
      },
      "source": [
        "mc = confusion_matrix(titanic['Survived'], teste1)"
      ],
      "execution_count": null,
      "outputs": []
    },
    {
      "cell_type": "code",
      "metadata": {
        "id": "khCtOQ6EyFKG",
        "colab_type": "code",
        "colab": {
          "base_uri": "https://localhost:8080/",
          "height": 52
        },
        "outputId": "f2303307-c550-46fa-9864-53af4065decd"
      },
      "source": [
        "mc"
      ],
      "execution_count": null,
      "outputs": [
        {
          "output_type": "execute_result",
          "data": {
            "text/plain": [
              "array([[468,  81],\n",
              "       [109, 233]])"
            ]
          },
          "metadata": {
            "tags": []
          },
          "execution_count": 248
        }
      ]
    },
    {
      "cell_type": "code",
      "metadata": {
        "id": "tC8k2TWXtaCu",
        "colab_type": "code",
        "colab": {
          "base_uri": "https://localhost:8080/",
          "height": 121
        },
        "outputId": "64745897-3c4b-4209-b03a-5961f08a38b0"
      },
      "source": [
        "vn, fp, fn, vp = mc.flatten()\n",
        "\n",
        "print('VP: {}'.format(vp))\n",
        "print('VN: {}'.format(vn))\n",
        "print('FP: {}'.format(fp))\n",
        "print('FN: {}'.format(fn))\n",
        "print('\\nTOTAL: {}'.format(fn+fp+vn+vp))"
      ],
      "execution_count": null,
      "outputs": [
        {
          "output_type": "stream",
          "text": [
            "VP: 233\n",
            "VN: 468\n",
            "FP: 81\n",
            "FN: 109\n",
            "\n",
            "TOTAL: 891\n"
          ],
          "name": "stdout"
        }
      ]
    },
    {
      "cell_type": "code",
      "metadata": {
        "id": "j7qIlvRhxi54",
        "colab_type": "code",
        "colab": {}
      },
      "source": [
        "def MetricasClassBinaria(observado, predito, custo = None):\n",
        "    mc = confusion_matrix(observado, predito)\n",
        "    vn, fp, fn, vp = mc.flatten()\n",
        "\n",
        "    pre = observado.mean()\n",
        "    acc = (vn + vp)/(vn + fp + fn + vp) \n",
        "    sen = vp/(vp + fn)\n",
        "    esp = vn/(vn + fp)\n",
        "    vpp = vp/(vp + fp)\n",
        "    vpn = vn/(vn + fn) \n",
        "    mcc = (vp*vn - fp*fn)/np.sqrt((vp + fp)*(vp + fn)*(vn + fp)*(vn + fn))\n",
        "    f1s = 2*vpp*sen/(vpp + sen) \n",
        "    efi = (sen + esp)/2\n",
        "\n",
        "    print('  Prevalência de Positivos: {:.4f}'.format(pre))\n",
        "    print('                  Acurácia: {:.4f}'.format(acc))\n",
        "    print('             Sensibilidade: {:.4f}'.format(sen))\n",
        "    print('            Especificidade: {:.4f}'.format(esp))\n",
        "    print('  Valor Preditivo Positivo: {:.4f}'.format(vpp))\n",
        "    print('  Valor Preditivo Negativo: {:.4f}'.format(vpn))\n",
        "    print('Coef. de Corr. de Matthews: {:.4f}'.format(mcc))\n",
        "    print('                  F1-Score: {:.4f}'.format(f1s))\n",
        "    print('                Eficiência: {:.4f}'.format(efi))\n",
        " \n",
        "\n",
        "    metricas = {'prevalência': pre, 'acurácia': acc, 'sensibilidade': sen, \n",
        "            'especificidade': esp, 'vpp': vpp, 'vpn': vpn, 'mcc': mcc,\n",
        "            'f1-score': f1s, 'eficiência': efi}\n",
        "\n",
        "    if custo is not None:\n",
        "        cost = (mc * np.array(custo).reshape(2,2)).sum()\n",
        "        print('\\n                     Custo: {}'.format(cost))\n",
        "        metricas['custo'] = cost\n",
        "\n",
        "    return metricas"
      ],
      "execution_count": null,
      "outputs": []
    },
    {
      "cell_type": "code",
      "metadata": {
        "id": "f1jm1adY1PLI",
        "colab_type": "code",
        "colab": {
          "base_uri": "https://localhost:8080/",
          "height": 208
        },
        "outputId": "22a7da29-8851-4fbf-d408-8d545ca9d4d4"
      },
      "source": [
        "metricas = MetricasClassBinaria(titanic['Survived'], teste1, [1, -1, 20, 2])"
      ],
      "execution_count": null,
      "outputs": [
        {
          "output_type": "stream",
          "text": [
            "  Prevalência de Positivos: 0.3838\n",
            "                  Acurácia: 0.7868\n",
            "             Sensibilidade: 0.6813\n",
            "            Especificidade: 0.8525\n",
            "  Valor Preditivo Positivo: 0.7420\n",
            "  Valor Preditivo Negativo: 0.8111\n",
            "Coef. de Corr. de Matthews: 0.5434\n",
            "                  F1-Score: 0.7104\n",
            "                Eficiência: 0.7669\n",
            "\n",
            "                     Custo: 3033\n"
          ],
          "name": "stdout"
        }
      ]
    },
    {
      "cell_type": "code",
      "metadata": {
        "id": "Iw1pM8ho4CQw",
        "colab_type": "code",
        "colab": {}
      },
      "source": [
        "metricas"
      ],
      "execution_count": null,
      "outputs": []
    },
    {
      "cell_type": "code",
      "metadata": {
        "id": "WrFVEL8E6BCm",
        "colab_type": "code",
        "colab": {}
      },
      "source": [
        ""
      ],
      "execution_count": null,
      "outputs": []
    },
    {
      "cell_type": "markdown",
      "metadata": {
        "id": "Kt3NH9w2QbrO",
        "colab_type": "text"
      },
      "source": [
        "\n",
        "\n",
        "---\n",
        "\n"
      ]
    },
    {
      "cell_type": "markdown",
      "metadata": {
        "id": "zmJAvGN0QceR",
        "colab_type": "text"
      },
      "source": [
        "## **Exemplo Final: Modelagem de Churn**"
      ]
    },
    {
      "cell_type": "code",
      "metadata": {
        "id": "Az78uyadQhjI",
        "colab_type": "code",
        "colab": {
          "base_uri": "https://localhost:8080/",
          "height": 222
        },
        "outputId": "c0d27b59-a62e-4256-d14a-f24be7e37e49"
      },
      "source": [
        "url = 'https://raw.githubusercontent.com/ricardorocha86/Datasets/master/Churn/churn.csv'\n",
        "churn = pd.read_csv(url)\n",
        "churn.head()"
      ],
      "execution_count": null,
      "outputs": [
        {
          "output_type": "execute_result",
          "data": {
            "text/html": [
              "<div>\n",
              "<style scoped>\n",
              "    .dataframe tbody tr th:only-of-type {\n",
              "        vertical-align: middle;\n",
              "    }\n",
              "\n",
              "    .dataframe tbody tr th {\n",
              "        vertical-align: top;\n",
              "    }\n",
              "\n",
              "    .dataframe thead th {\n",
              "        text-align: right;\n",
              "    }\n",
              "</style>\n",
              "<table border=\"1\" class=\"dataframe\">\n",
              "  <thead>\n",
              "    <tr style=\"text-align: right;\">\n",
              "      <th></th>\n",
              "      <th>RowNumber</th>\n",
              "      <th>CustomerId</th>\n",
              "      <th>Surname</th>\n",
              "      <th>CreditScore</th>\n",
              "      <th>Geography</th>\n",
              "      <th>Gender</th>\n",
              "      <th>Age</th>\n",
              "      <th>Tenure</th>\n",
              "      <th>Balance</th>\n",
              "      <th>NumOfProducts</th>\n",
              "      <th>HasCrCard</th>\n",
              "      <th>IsActiveMember</th>\n",
              "      <th>EstimatedSalary</th>\n",
              "      <th>Exited</th>\n",
              "    </tr>\n",
              "  </thead>\n",
              "  <tbody>\n",
              "    <tr>\n",
              "      <th>0</th>\n",
              "      <td>1</td>\n",
              "      <td>15634602</td>\n",
              "      <td>Hargrave</td>\n",
              "      <td>619</td>\n",
              "      <td>France</td>\n",
              "      <td>Female</td>\n",
              "      <td>42</td>\n",
              "      <td>2</td>\n",
              "      <td>0.00</td>\n",
              "      <td>1</td>\n",
              "      <td>1</td>\n",
              "      <td>1</td>\n",
              "      <td>101348.88</td>\n",
              "      <td>1</td>\n",
              "    </tr>\n",
              "    <tr>\n",
              "      <th>1</th>\n",
              "      <td>2</td>\n",
              "      <td>15647311</td>\n",
              "      <td>Hill</td>\n",
              "      <td>608</td>\n",
              "      <td>Spain</td>\n",
              "      <td>Female</td>\n",
              "      <td>41</td>\n",
              "      <td>1</td>\n",
              "      <td>83807.86</td>\n",
              "      <td>1</td>\n",
              "      <td>0</td>\n",
              "      <td>1</td>\n",
              "      <td>112542.58</td>\n",
              "      <td>0</td>\n",
              "    </tr>\n",
              "    <tr>\n",
              "      <th>2</th>\n",
              "      <td>3</td>\n",
              "      <td>15619304</td>\n",
              "      <td>Onio</td>\n",
              "      <td>502</td>\n",
              "      <td>France</td>\n",
              "      <td>Female</td>\n",
              "      <td>42</td>\n",
              "      <td>8</td>\n",
              "      <td>159660.80</td>\n",
              "      <td>3</td>\n",
              "      <td>1</td>\n",
              "      <td>0</td>\n",
              "      <td>113931.57</td>\n",
              "      <td>1</td>\n",
              "    </tr>\n",
              "    <tr>\n",
              "      <th>3</th>\n",
              "      <td>4</td>\n",
              "      <td>15701354</td>\n",
              "      <td>Boni</td>\n",
              "      <td>699</td>\n",
              "      <td>France</td>\n",
              "      <td>Female</td>\n",
              "      <td>39</td>\n",
              "      <td>1</td>\n",
              "      <td>0.00</td>\n",
              "      <td>2</td>\n",
              "      <td>0</td>\n",
              "      <td>0</td>\n",
              "      <td>93826.63</td>\n",
              "      <td>0</td>\n",
              "    </tr>\n",
              "    <tr>\n",
              "      <th>4</th>\n",
              "      <td>5</td>\n",
              "      <td>15737888</td>\n",
              "      <td>Mitchell</td>\n",
              "      <td>850</td>\n",
              "      <td>Spain</td>\n",
              "      <td>Female</td>\n",
              "      <td>43</td>\n",
              "      <td>2</td>\n",
              "      <td>125510.82</td>\n",
              "      <td>1</td>\n",
              "      <td>1</td>\n",
              "      <td>1</td>\n",
              "      <td>79084.10</td>\n",
              "      <td>0</td>\n",
              "    </tr>\n",
              "  </tbody>\n",
              "</table>\n",
              "</div>"
            ],
            "text/plain": [
              "   RowNumber  CustomerId   Surname  ...  IsActiveMember EstimatedSalary Exited\n",
              "0          1    15634602  Hargrave  ...               1       101348.88      1\n",
              "1          2    15647311      Hill  ...               1       112542.58      0\n",
              "2          3    15619304      Onio  ...               0       113931.57      1\n",
              "3          4    15701354      Boni  ...               0        93826.63      0\n",
              "4          5    15737888  Mitchell  ...               1        79084.10      0\n",
              "\n",
              "[5 rows x 14 columns]"
            ]
          },
          "metadata": {
            "tags": []
          },
          "execution_count": 252
        }
      ]
    },
    {
      "cell_type": "markdown",
      "metadata": {
        "id": "5SfHWbEzRZk6",
        "colab_type": "text"
      },
      "source": [
        "### Análise Exploratória de Dados Básica"
      ]
    },
    {
      "cell_type": "code",
      "metadata": {
        "id": "w9x-i9ofRgoJ",
        "colab_type": "code",
        "colab": {
          "base_uri": "https://localhost:8080/",
          "height": 381
        },
        "outputId": "70302a6b-f0fb-48ee-ff5d-69913991a889"
      },
      "source": [
        "churn.info()"
      ],
      "execution_count": null,
      "outputs": [
        {
          "output_type": "stream",
          "text": [
            "<class 'pandas.core.frame.DataFrame'>\n",
            "RangeIndex: 10000 entries, 0 to 9999\n",
            "Data columns (total 14 columns):\n",
            " #   Column           Non-Null Count  Dtype  \n",
            "---  ------           --------------  -----  \n",
            " 0   RowNumber        10000 non-null  int64  \n",
            " 1   CustomerId       10000 non-null  int64  \n",
            " 2   Surname          10000 non-null  object \n",
            " 3   CreditScore      10000 non-null  int64  \n",
            " 4   Geography        10000 non-null  object \n",
            " 5   Gender           10000 non-null  object \n",
            " 6   Age              10000 non-null  int64  \n",
            " 7   Tenure           10000 non-null  int64  \n",
            " 8   Balance          10000 non-null  float64\n",
            " 9   NumOfProducts    10000 non-null  int64  \n",
            " 10  HasCrCard        10000 non-null  int64  \n",
            " 11  IsActiveMember   10000 non-null  int64  \n",
            " 12  EstimatedSalary  10000 non-null  float64\n",
            " 13  Exited           10000 non-null  int64  \n",
            "dtypes: float64(2), int64(9), object(3)\n",
            "memory usage: 1.1+ MB\n"
          ],
          "name": "stdout"
        }
      ]
    },
    {
      "cell_type": "code",
      "metadata": {
        "id": "z9CL4Tj7RlqB",
        "colab_type": "code",
        "colab": {
          "base_uri": "https://localhost:8080/",
          "height": 277
        },
        "outputId": "02686d1e-d344-4c28-af3b-597c617685aa"
      },
      "source": [
        "churn.isnull().sum()"
      ],
      "execution_count": null,
      "outputs": [
        {
          "output_type": "execute_result",
          "data": {
            "text/plain": [
              "RowNumber          0\n",
              "CustomerId         0\n",
              "Surname            0\n",
              "CreditScore        0\n",
              "Geography          0\n",
              "Gender             0\n",
              "Age                0\n",
              "Tenure             0\n",
              "Balance            0\n",
              "NumOfProducts      0\n",
              "HasCrCard          0\n",
              "IsActiveMember     0\n",
              "EstimatedSalary    0\n",
              "Exited             0\n",
              "dtype: int64"
            ]
          },
          "metadata": {
            "tags": []
          },
          "execution_count": 254
        }
      ]
    },
    {
      "cell_type": "code",
      "metadata": {
        "id": "LyhZJNFBHPAf",
        "colab_type": "code",
        "colab": {
          "base_uri": "https://localhost:8080/",
          "height": 315
        },
        "outputId": "2c1f22b3-3235-4249-bc01-c06889df8294"
      },
      "source": [
        "!pip install sweetviz"
      ],
      "execution_count": null,
      "outputs": [
        {
          "output_type": "stream",
          "text": [
            "Requirement already satisfied: sweetviz in /usr/local/lib/python3.6/dist-packages (1.0b5)\n",
            "Requirement already satisfied: tqdm>=4.43.0 in /usr/local/lib/python3.6/dist-packages (from sweetviz) (4.48.2)\n",
            "Requirement already satisfied: importlib-resources>=1.2.0 in /usr/local/lib/python3.6/dist-packages (from sweetviz) (3.0.0)\n",
            "Requirement already satisfied: numpy>=1.16.0 in /usr/local/lib/python3.6/dist-packages (from sweetviz) (1.18.5)\n",
            "Requirement already satisfied: scipy>=1.3.2 in /usr/local/lib/python3.6/dist-packages (from sweetviz) (1.4.1)\n",
            "Requirement already satisfied: matplotlib>=3.1.3 in /usr/local/lib/python3.6/dist-packages (from sweetviz) (3.2.2)\n",
            "Requirement already satisfied: pandas!=1.0.0,!=1.0.1,!=1.0.2,>=0.25.3 in /usr/local/lib/python3.6/dist-packages (from sweetviz) (1.0.5)\n",
            "Requirement already satisfied: jinja2>=2.11.1 in /usr/local/lib/python3.6/dist-packages (from sweetviz) (2.11.2)\n",
            "Requirement already satisfied: zipp>=0.4; python_version < \"3.8\" in /usr/local/lib/python3.6/dist-packages (from importlib-resources>=1.2.0->sweetviz) (3.1.0)\n",
            "Requirement already satisfied: kiwisolver>=1.0.1 in /usr/local/lib/python3.6/dist-packages (from matplotlib>=3.1.3->sweetviz) (1.2.0)\n",
            "Requirement already satisfied: pyparsing!=2.0.4,!=2.1.2,!=2.1.6,>=2.0.1 in /usr/local/lib/python3.6/dist-packages (from matplotlib>=3.1.3->sweetviz) (2.4.7)\n",
            "Requirement already satisfied: cycler>=0.10 in /usr/local/lib/python3.6/dist-packages (from matplotlib>=3.1.3->sweetviz) (0.10.0)\n",
            "Requirement already satisfied: python-dateutil>=2.1 in /usr/local/lib/python3.6/dist-packages (from matplotlib>=3.1.3->sweetviz) (2.8.1)\n",
            "Requirement already satisfied: pytz>=2017.2 in /usr/local/lib/python3.6/dist-packages (from pandas!=1.0.0,!=1.0.1,!=1.0.2,>=0.25.3->sweetviz) (2018.9)\n",
            "Requirement already satisfied: MarkupSafe>=0.23 in /usr/local/lib/python3.6/dist-packages (from jinja2>=2.11.1->sweetviz) (1.1.1)\n",
            "Requirement already satisfied: six in /usr/local/lib/python3.6/dist-packages (from cycler>=0.10->matplotlib>=3.1.3->sweetviz) (1.15.0)\n"
          ],
          "name": "stdout"
        }
      ]
    },
    {
      "cell_type": "code",
      "metadata": {
        "id": "t_BLjf0eHOCm",
        "colab_type": "code",
        "colab": {}
      },
      "source": [
        "import sweetviz "
      ],
      "execution_count": null,
      "outputs": []
    },
    {
      "cell_type": "code",
      "metadata": {
        "id": "XHzabtjKJzBg",
        "colab_type": "code",
        "colab": {
          "base_uri": "https://localhost:8080/",
          "height": 107
        },
        "outputId": "b84b002d-9324-4b8f-b6bc-2293fc030942"
      },
      "source": [
        "eda = sweetviz.compare_intra(churn, churn['Exited'] == 0, ['Cliente', 'Ex-Cliente'])\n",
        "eda.show_html()"
      ],
      "execution_count": null,
      "outputs": [
        {
          "output_type": "stream",
          "text": [
            ":FEATURES DONE:                    |█████████████████████| [100%]   00:06  -> (00:00 left)\n",
            ":PAIRWISE DONE:                    |█████████████████████| [100%]   00:00  -> (00:00 left)\n"
          ],
          "name": "stderr"
        },
        {
          "output_type": "stream",
          "text": [
            "Creating Associations graph... DONE!\n",
            "Report SWEETVIZ_REPORT.html was generated! NOTEBOOK/COLAB USERS: no browser will pop up, the report is saved in your notebook/colab files.\n"
          ],
          "name": "stdout"
        }
      ]
    },
    {
      "cell_type": "markdown",
      "metadata": {
        "id": "yX9QZY5iRowi",
        "colab_type": "text"
      },
      "source": [
        "### Pré-processamento dos Dados"
      ]
    },
    {
      "cell_type": "markdown",
      "metadata": {
        "id": "xPOK_S9mSfr6",
        "colab_type": "text"
      },
      "source": [
        "#### 1. Novas Variáveis"
      ]
    },
    {
      "cell_type": "code",
      "metadata": {
        "id": "Cmyw0RxfUm4g",
        "colab_type": "code",
        "colab": {}
      },
      "source": [
        "def aux1(x):\n",
        "    if x == 0:\n",
        "        return 'zero'\n",
        "    elif x < 100000:\n",
        "        return '0-100k'\n",
        "    else:\n",
        "        return '100k+'\n",
        "\n",
        "churn['Saldo'] = churn['Balance'].apply(aux1)"
      ],
      "execution_count": null,
      "outputs": []
    },
    {
      "cell_type": "code",
      "metadata": {
        "id": "7EHU-YyMVZP-",
        "colab_type": "code",
        "colab": {}
      },
      "source": [
        "def aux2(x):\n",
        "    if x < 3:\n",
        "        return '0-2'\n",
        "    elif x < 8:\n",
        "        return '3-7'\n",
        "    else:\n",
        "        return '8+'\n",
        "\n",
        "churn['Tempo'] = churn['Tenure'].apply(aux2)"
      ],
      "execution_count": null,
      "outputs": []
    },
    {
      "cell_type": "code",
      "metadata": {
        "colab_type": "code",
        "id": "O8dgtPQZXBiA",
        "colab": {}
      },
      "source": [
        "def aux3(x):\n",
        "    if x == 1:\n",
        "        return '1'\n",
        "    elif x == 2:\n",
        "        return '2'\n",
        "    else:\n",
        "        return '3+'\n",
        "\n",
        "churn['Produtos'] = churn['NumOfProducts'].apply(aux3)"
      ],
      "execution_count": null,
      "outputs": []
    },
    {
      "cell_type": "code",
      "metadata": {
        "id": "TK4cof6XWjpW",
        "colab_type": "code",
        "colab": {
          "base_uri": "https://localhost:8080/",
          "height": 239
        },
        "outputId": "d4840254-7beb-4fcd-e959-1bc1ace904bb"
      },
      "source": [
        "churn.head()"
      ],
      "execution_count": null,
      "outputs": [
        {
          "output_type": "execute_result",
          "data": {
            "text/html": [
              "<div>\n",
              "<style scoped>\n",
              "    .dataframe tbody tr th:only-of-type {\n",
              "        vertical-align: middle;\n",
              "    }\n",
              "\n",
              "    .dataframe tbody tr th {\n",
              "        vertical-align: top;\n",
              "    }\n",
              "\n",
              "    .dataframe thead th {\n",
              "        text-align: right;\n",
              "    }\n",
              "</style>\n",
              "<table border=\"1\" class=\"dataframe\">\n",
              "  <thead>\n",
              "    <tr style=\"text-align: right;\">\n",
              "      <th></th>\n",
              "      <th>RowNumber</th>\n",
              "      <th>CustomerId</th>\n",
              "      <th>Surname</th>\n",
              "      <th>CreditScore</th>\n",
              "      <th>Geography</th>\n",
              "      <th>Gender</th>\n",
              "      <th>Age</th>\n",
              "      <th>Tenure</th>\n",
              "      <th>Balance</th>\n",
              "      <th>NumOfProducts</th>\n",
              "      <th>HasCrCard</th>\n",
              "      <th>IsActiveMember</th>\n",
              "      <th>EstimatedSalary</th>\n",
              "      <th>Exited</th>\n",
              "      <th>Saldo</th>\n",
              "      <th>Tempo</th>\n",
              "      <th>Produtos</th>\n",
              "    </tr>\n",
              "  </thead>\n",
              "  <tbody>\n",
              "    <tr>\n",
              "      <th>0</th>\n",
              "      <td>1</td>\n",
              "      <td>15634602</td>\n",
              "      <td>Hargrave</td>\n",
              "      <td>619</td>\n",
              "      <td>France</td>\n",
              "      <td>Female</td>\n",
              "      <td>42</td>\n",
              "      <td>2</td>\n",
              "      <td>0.00</td>\n",
              "      <td>1</td>\n",
              "      <td>1</td>\n",
              "      <td>1</td>\n",
              "      <td>101348.88</td>\n",
              "      <td>1</td>\n",
              "      <td>zero</td>\n",
              "      <td>0-2</td>\n",
              "      <td>1</td>\n",
              "    </tr>\n",
              "    <tr>\n",
              "      <th>1</th>\n",
              "      <td>2</td>\n",
              "      <td>15647311</td>\n",
              "      <td>Hill</td>\n",
              "      <td>608</td>\n",
              "      <td>Spain</td>\n",
              "      <td>Female</td>\n",
              "      <td>41</td>\n",
              "      <td>1</td>\n",
              "      <td>83807.86</td>\n",
              "      <td>1</td>\n",
              "      <td>0</td>\n",
              "      <td>1</td>\n",
              "      <td>112542.58</td>\n",
              "      <td>0</td>\n",
              "      <td>0-100k</td>\n",
              "      <td>0-2</td>\n",
              "      <td>1</td>\n",
              "    </tr>\n",
              "    <tr>\n",
              "      <th>2</th>\n",
              "      <td>3</td>\n",
              "      <td>15619304</td>\n",
              "      <td>Onio</td>\n",
              "      <td>502</td>\n",
              "      <td>France</td>\n",
              "      <td>Female</td>\n",
              "      <td>42</td>\n",
              "      <td>8</td>\n",
              "      <td>159660.80</td>\n",
              "      <td>3</td>\n",
              "      <td>1</td>\n",
              "      <td>0</td>\n",
              "      <td>113931.57</td>\n",
              "      <td>1</td>\n",
              "      <td>100k+</td>\n",
              "      <td>8+</td>\n",
              "      <td>3+</td>\n",
              "    </tr>\n",
              "    <tr>\n",
              "      <th>3</th>\n",
              "      <td>4</td>\n",
              "      <td>15701354</td>\n",
              "      <td>Boni</td>\n",
              "      <td>699</td>\n",
              "      <td>France</td>\n",
              "      <td>Female</td>\n",
              "      <td>39</td>\n",
              "      <td>1</td>\n",
              "      <td>0.00</td>\n",
              "      <td>2</td>\n",
              "      <td>0</td>\n",
              "      <td>0</td>\n",
              "      <td>93826.63</td>\n",
              "      <td>0</td>\n",
              "      <td>zero</td>\n",
              "      <td>0-2</td>\n",
              "      <td>2</td>\n",
              "    </tr>\n",
              "    <tr>\n",
              "      <th>4</th>\n",
              "      <td>5</td>\n",
              "      <td>15737888</td>\n",
              "      <td>Mitchell</td>\n",
              "      <td>850</td>\n",
              "      <td>Spain</td>\n",
              "      <td>Female</td>\n",
              "      <td>43</td>\n",
              "      <td>2</td>\n",
              "      <td>125510.82</td>\n",
              "      <td>1</td>\n",
              "      <td>1</td>\n",
              "      <td>1</td>\n",
              "      <td>79084.10</td>\n",
              "      <td>0</td>\n",
              "      <td>100k+</td>\n",
              "      <td>0-2</td>\n",
              "      <td>1</td>\n",
              "    </tr>\n",
              "  </tbody>\n",
              "</table>\n",
              "</div>"
            ],
            "text/plain": [
              "   RowNumber  CustomerId   Surname  CreditScore  ... Exited   Saldo  Tempo  Produtos\n",
              "0          1    15634602  Hargrave          619  ...      1    zero    0-2         1\n",
              "1          2    15647311      Hill          608  ...      0  0-100k    0-2         1\n",
              "2          3    15619304      Onio          502  ...      1   100k+     8+        3+\n",
              "3          4    15701354      Boni          699  ...      0    zero    0-2         2\n",
              "4          5    15737888  Mitchell          850  ...      0   100k+    0-2         1\n",
              "\n",
              "[5 rows x 17 columns]"
            ]
          },
          "metadata": {
            "tags": []
          },
          "execution_count": 261
        }
      ]
    },
    {
      "cell_type": "markdown",
      "metadata": {
        "id": "ZrkKYUgRSZ6g",
        "colab_type": "text"
      },
      "source": [
        "#### 2. Dropando Variáveis"
      ]
    },
    {
      "cell_type": "code",
      "metadata": {
        "id": "-zU0VcXWSe1p",
        "colab_type": "code",
        "colab": {}
      },
      "source": [
        "churn.drop(['RowNumber', 'CustomerId', 'Surname', 'Balance', 'Tenure', 'NumOfProducts'], axis = 1, inplace = True)"
      ],
      "execution_count": null,
      "outputs": []
    },
    {
      "cell_type": "code",
      "metadata": {
        "id": "gqw6pDvjSd8J",
        "colab_type": "code",
        "colab": {
          "base_uri": "https://localhost:8080/",
          "height": 202
        },
        "outputId": "8ed51ada-fe10-49ba-abcd-40f1f62f192a"
      },
      "source": [
        "churn.head()"
      ],
      "execution_count": null,
      "outputs": [
        {
          "output_type": "execute_result",
          "data": {
            "text/html": [
              "<div>\n",
              "<style scoped>\n",
              "    .dataframe tbody tr th:only-of-type {\n",
              "        vertical-align: middle;\n",
              "    }\n",
              "\n",
              "    .dataframe tbody tr th {\n",
              "        vertical-align: top;\n",
              "    }\n",
              "\n",
              "    .dataframe thead th {\n",
              "        text-align: right;\n",
              "    }\n",
              "</style>\n",
              "<table border=\"1\" class=\"dataframe\">\n",
              "  <thead>\n",
              "    <tr style=\"text-align: right;\">\n",
              "      <th></th>\n",
              "      <th>CreditScore</th>\n",
              "      <th>Geography</th>\n",
              "      <th>Gender</th>\n",
              "      <th>Age</th>\n",
              "      <th>HasCrCard</th>\n",
              "      <th>IsActiveMember</th>\n",
              "      <th>EstimatedSalary</th>\n",
              "      <th>Exited</th>\n",
              "      <th>Saldo</th>\n",
              "      <th>Tempo</th>\n",
              "      <th>Produtos</th>\n",
              "    </tr>\n",
              "  </thead>\n",
              "  <tbody>\n",
              "    <tr>\n",
              "      <th>0</th>\n",
              "      <td>619</td>\n",
              "      <td>France</td>\n",
              "      <td>Female</td>\n",
              "      <td>42</td>\n",
              "      <td>1</td>\n",
              "      <td>1</td>\n",
              "      <td>101348.88</td>\n",
              "      <td>1</td>\n",
              "      <td>zero</td>\n",
              "      <td>0-2</td>\n",
              "      <td>1</td>\n",
              "    </tr>\n",
              "    <tr>\n",
              "      <th>1</th>\n",
              "      <td>608</td>\n",
              "      <td>Spain</td>\n",
              "      <td>Female</td>\n",
              "      <td>41</td>\n",
              "      <td>0</td>\n",
              "      <td>1</td>\n",
              "      <td>112542.58</td>\n",
              "      <td>0</td>\n",
              "      <td>0-100k</td>\n",
              "      <td>0-2</td>\n",
              "      <td>1</td>\n",
              "    </tr>\n",
              "    <tr>\n",
              "      <th>2</th>\n",
              "      <td>502</td>\n",
              "      <td>France</td>\n",
              "      <td>Female</td>\n",
              "      <td>42</td>\n",
              "      <td>1</td>\n",
              "      <td>0</td>\n",
              "      <td>113931.57</td>\n",
              "      <td>1</td>\n",
              "      <td>100k+</td>\n",
              "      <td>8+</td>\n",
              "      <td>3+</td>\n",
              "    </tr>\n",
              "    <tr>\n",
              "      <th>3</th>\n",
              "      <td>699</td>\n",
              "      <td>France</td>\n",
              "      <td>Female</td>\n",
              "      <td>39</td>\n",
              "      <td>0</td>\n",
              "      <td>0</td>\n",
              "      <td>93826.63</td>\n",
              "      <td>0</td>\n",
              "      <td>zero</td>\n",
              "      <td>0-2</td>\n",
              "      <td>2</td>\n",
              "    </tr>\n",
              "    <tr>\n",
              "      <th>4</th>\n",
              "      <td>850</td>\n",
              "      <td>Spain</td>\n",
              "      <td>Female</td>\n",
              "      <td>43</td>\n",
              "      <td>1</td>\n",
              "      <td>1</td>\n",
              "      <td>79084.10</td>\n",
              "      <td>0</td>\n",
              "      <td>100k+</td>\n",
              "      <td>0-2</td>\n",
              "      <td>1</td>\n",
              "    </tr>\n",
              "  </tbody>\n",
              "</table>\n",
              "</div>"
            ],
            "text/plain": [
              "   CreditScore Geography  Gender  Age  ...  Exited   Saldo  Tempo  Produtos\n",
              "0          619    France  Female   42  ...       1    zero    0-2         1\n",
              "1          608     Spain  Female   41  ...       0  0-100k    0-2         1\n",
              "2          502    France  Female   42  ...       1   100k+     8+        3+\n",
              "3          699    France  Female   39  ...       0    zero    0-2         2\n",
              "4          850     Spain  Female   43  ...       0   100k+    0-2         1\n",
              "\n",
              "[5 rows x 11 columns]"
            ]
          },
          "metadata": {
            "tags": []
          },
          "execution_count": 263
        }
      ]
    },
    {
      "cell_type": "markdown",
      "metadata": {
        "colab_type": "text",
        "id": "Ph-cI3VQSfr5"
      },
      "source": [
        "#### 3. Dummificações"
      ]
    },
    {
      "cell_type": "code",
      "metadata": {
        "id": "EYJ830t8ShXE",
        "colab_type": "code",
        "colab": {}
      },
      "source": [
        "churn = pd.get_dummies(churn, columns = ['Geography', 'Gender', 'Saldo', 'Tempo', 'Produtos'], drop_first = True)"
      ],
      "execution_count": null,
      "outputs": []
    },
    {
      "cell_type": "code",
      "metadata": {
        "id": "EDUODYnyShZ4",
        "colab_type": "code",
        "colab": {
          "base_uri": "https://localhost:8080/",
          "height": 239
        },
        "outputId": "6bfcd353-7165-4eeb-a9d1-874926c75079"
      },
      "source": [
        "churn.head()"
      ],
      "execution_count": null,
      "outputs": [
        {
          "output_type": "execute_result",
          "data": {
            "text/html": [
              "<div>\n",
              "<style scoped>\n",
              "    .dataframe tbody tr th:only-of-type {\n",
              "        vertical-align: middle;\n",
              "    }\n",
              "\n",
              "    .dataframe tbody tr th {\n",
              "        vertical-align: top;\n",
              "    }\n",
              "\n",
              "    .dataframe thead th {\n",
              "        text-align: right;\n",
              "    }\n",
              "</style>\n",
              "<table border=\"1\" class=\"dataframe\">\n",
              "  <thead>\n",
              "    <tr style=\"text-align: right;\">\n",
              "      <th></th>\n",
              "      <th>CreditScore</th>\n",
              "      <th>Age</th>\n",
              "      <th>HasCrCard</th>\n",
              "      <th>IsActiveMember</th>\n",
              "      <th>EstimatedSalary</th>\n",
              "      <th>Exited</th>\n",
              "      <th>Geography_Germany</th>\n",
              "      <th>Geography_Spain</th>\n",
              "      <th>Gender_Male</th>\n",
              "      <th>Saldo_100k+</th>\n",
              "      <th>Saldo_zero</th>\n",
              "      <th>Tempo_3-7</th>\n",
              "      <th>Tempo_8+</th>\n",
              "      <th>Produtos_2</th>\n",
              "      <th>Produtos_3+</th>\n",
              "    </tr>\n",
              "  </thead>\n",
              "  <tbody>\n",
              "    <tr>\n",
              "      <th>0</th>\n",
              "      <td>619</td>\n",
              "      <td>42</td>\n",
              "      <td>1</td>\n",
              "      <td>1</td>\n",
              "      <td>101348.88</td>\n",
              "      <td>1</td>\n",
              "      <td>0</td>\n",
              "      <td>0</td>\n",
              "      <td>0</td>\n",
              "      <td>0</td>\n",
              "      <td>1</td>\n",
              "      <td>0</td>\n",
              "      <td>0</td>\n",
              "      <td>0</td>\n",
              "      <td>0</td>\n",
              "    </tr>\n",
              "    <tr>\n",
              "      <th>1</th>\n",
              "      <td>608</td>\n",
              "      <td>41</td>\n",
              "      <td>0</td>\n",
              "      <td>1</td>\n",
              "      <td>112542.58</td>\n",
              "      <td>0</td>\n",
              "      <td>0</td>\n",
              "      <td>1</td>\n",
              "      <td>0</td>\n",
              "      <td>0</td>\n",
              "      <td>0</td>\n",
              "      <td>0</td>\n",
              "      <td>0</td>\n",
              "      <td>0</td>\n",
              "      <td>0</td>\n",
              "    </tr>\n",
              "    <tr>\n",
              "      <th>2</th>\n",
              "      <td>502</td>\n",
              "      <td>42</td>\n",
              "      <td>1</td>\n",
              "      <td>0</td>\n",
              "      <td>113931.57</td>\n",
              "      <td>1</td>\n",
              "      <td>0</td>\n",
              "      <td>0</td>\n",
              "      <td>0</td>\n",
              "      <td>1</td>\n",
              "      <td>0</td>\n",
              "      <td>0</td>\n",
              "      <td>1</td>\n",
              "      <td>0</td>\n",
              "      <td>1</td>\n",
              "    </tr>\n",
              "    <tr>\n",
              "      <th>3</th>\n",
              "      <td>699</td>\n",
              "      <td>39</td>\n",
              "      <td>0</td>\n",
              "      <td>0</td>\n",
              "      <td>93826.63</td>\n",
              "      <td>0</td>\n",
              "      <td>0</td>\n",
              "      <td>0</td>\n",
              "      <td>0</td>\n",
              "      <td>0</td>\n",
              "      <td>1</td>\n",
              "      <td>0</td>\n",
              "      <td>0</td>\n",
              "      <td>1</td>\n",
              "      <td>0</td>\n",
              "    </tr>\n",
              "    <tr>\n",
              "      <th>4</th>\n",
              "      <td>850</td>\n",
              "      <td>43</td>\n",
              "      <td>1</td>\n",
              "      <td>1</td>\n",
              "      <td>79084.10</td>\n",
              "      <td>0</td>\n",
              "      <td>0</td>\n",
              "      <td>1</td>\n",
              "      <td>0</td>\n",
              "      <td>1</td>\n",
              "      <td>0</td>\n",
              "      <td>0</td>\n",
              "      <td>0</td>\n",
              "      <td>0</td>\n",
              "      <td>0</td>\n",
              "    </tr>\n",
              "  </tbody>\n",
              "</table>\n",
              "</div>"
            ],
            "text/plain": [
              "   CreditScore  Age  HasCrCard  ...  Tempo_8+  Produtos_2  Produtos_3+\n",
              "0          619   42          1  ...         0           0            0\n",
              "1          608   41          0  ...         0           0            0\n",
              "2          502   42          1  ...         1           0            1\n",
              "3          699   39          0  ...         0           1            0\n",
              "4          850   43          1  ...         0           0            0\n",
              "\n",
              "[5 rows x 15 columns]"
            ]
          },
          "metadata": {
            "tags": []
          },
          "execution_count": 265
        }
      ]
    },
    {
      "cell_type": "markdown",
      "metadata": {
        "colab_type": "text",
        "id": "vzM911q_Sf-Q"
      },
      "source": [
        "#### 4. Padronizações"
      ]
    },
    {
      "cell_type": "code",
      "metadata": {
        "id": "DYTMt8Pa5FVr",
        "colab_type": "code",
        "colab": {}
      },
      "source": [
        "from sklearn.preprocessing import StandardScaler\n",
        "sc = StandardScaler()"
      ],
      "execution_count": null,
      "outputs": []
    },
    {
      "cell_type": "code",
      "metadata": {
        "id": "Nl9NAL9c77_k",
        "colab_type": "code",
        "colab": {}
      },
      "source": [
        "aux0 = sc.fit_transform(churn[['CreditScore', 'Age', 'EstimatedSalary']])\n",
        "aux1 = pd.DataFrame(aux0, columns = ['Escore', 'Idade', 'Salario'])\n",
        "churn = pd.concat([churn, aux1], axis = 1)\n",
        "churn.drop(['CreditScore', 'Age', 'EstimatedSalary'], axis = 1, inplace = True) "
      ],
      "execution_count": null,
      "outputs": []
    },
    {
      "cell_type": "code",
      "metadata": {
        "id": "EHWIRZ6CX7tm",
        "colab_type": "code",
        "colab": {
          "base_uri": "https://localhost:8080/",
          "height": 239
        },
        "outputId": "cfb74332-a674-4584-f644-094e5bab0101"
      },
      "source": [
        "churn.head()"
      ],
      "execution_count": null,
      "outputs": [
        {
          "output_type": "execute_result",
          "data": {
            "text/html": [
              "<div>\n",
              "<style scoped>\n",
              "    .dataframe tbody tr th:only-of-type {\n",
              "        vertical-align: middle;\n",
              "    }\n",
              "\n",
              "    .dataframe tbody tr th {\n",
              "        vertical-align: top;\n",
              "    }\n",
              "\n",
              "    .dataframe thead th {\n",
              "        text-align: right;\n",
              "    }\n",
              "</style>\n",
              "<table border=\"1\" class=\"dataframe\">\n",
              "  <thead>\n",
              "    <tr style=\"text-align: right;\">\n",
              "      <th></th>\n",
              "      <th>HasCrCard</th>\n",
              "      <th>IsActiveMember</th>\n",
              "      <th>Exited</th>\n",
              "      <th>Geography_Germany</th>\n",
              "      <th>Geography_Spain</th>\n",
              "      <th>Gender_Male</th>\n",
              "      <th>Saldo_100k+</th>\n",
              "      <th>Saldo_zero</th>\n",
              "      <th>Tempo_3-7</th>\n",
              "      <th>Tempo_8+</th>\n",
              "      <th>Produtos_2</th>\n",
              "      <th>Produtos_3+</th>\n",
              "      <th>Escore</th>\n",
              "      <th>Idade</th>\n",
              "      <th>Salario</th>\n",
              "    </tr>\n",
              "  </thead>\n",
              "  <tbody>\n",
              "    <tr>\n",
              "      <th>0</th>\n",
              "      <td>1</td>\n",
              "      <td>1</td>\n",
              "      <td>1</td>\n",
              "      <td>0</td>\n",
              "      <td>0</td>\n",
              "      <td>0</td>\n",
              "      <td>0</td>\n",
              "      <td>1</td>\n",
              "      <td>0</td>\n",
              "      <td>0</td>\n",
              "      <td>0</td>\n",
              "      <td>0</td>\n",
              "      <td>-0.326221</td>\n",
              "      <td>0.293517</td>\n",
              "      <td>0.021886</td>\n",
              "    </tr>\n",
              "    <tr>\n",
              "      <th>1</th>\n",
              "      <td>0</td>\n",
              "      <td>1</td>\n",
              "      <td>0</td>\n",
              "      <td>0</td>\n",
              "      <td>1</td>\n",
              "      <td>0</td>\n",
              "      <td>0</td>\n",
              "      <td>0</td>\n",
              "      <td>0</td>\n",
              "      <td>0</td>\n",
              "      <td>0</td>\n",
              "      <td>0</td>\n",
              "      <td>-0.440036</td>\n",
              "      <td>0.198164</td>\n",
              "      <td>0.216534</td>\n",
              "    </tr>\n",
              "    <tr>\n",
              "      <th>2</th>\n",
              "      <td>1</td>\n",
              "      <td>0</td>\n",
              "      <td>1</td>\n",
              "      <td>0</td>\n",
              "      <td>0</td>\n",
              "      <td>0</td>\n",
              "      <td>1</td>\n",
              "      <td>0</td>\n",
              "      <td>0</td>\n",
              "      <td>1</td>\n",
              "      <td>0</td>\n",
              "      <td>1</td>\n",
              "      <td>-1.536794</td>\n",
              "      <td>0.293517</td>\n",
              "      <td>0.240687</td>\n",
              "    </tr>\n",
              "    <tr>\n",
              "      <th>3</th>\n",
              "      <td>0</td>\n",
              "      <td>0</td>\n",
              "      <td>0</td>\n",
              "      <td>0</td>\n",
              "      <td>0</td>\n",
              "      <td>0</td>\n",
              "      <td>0</td>\n",
              "      <td>1</td>\n",
              "      <td>0</td>\n",
              "      <td>0</td>\n",
              "      <td>1</td>\n",
              "      <td>0</td>\n",
              "      <td>0.501521</td>\n",
              "      <td>0.007457</td>\n",
              "      <td>-0.108918</td>\n",
              "    </tr>\n",
              "    <tr>\n",
              "      <th>4</th>\n",
              "      <td>1</td>\n",
              "      <td>1</td>\n",
              "      <td>0</td>\n",
              "      <td>0</td>\n",
              "      <td>1</td>\n",
              "      <td>0</td>\n",
              "      <td>1</td>\n",
              "      <td>0</td>\n",
              "      <td>0</td>\n",
              "      <td>0</td>\n",
              "      <td>0</td>\n",
              "      <td>0</td>\n",
              "      <td>2.063884</td>\n",
              "      <td>0.388871</td>\n",
              "      <td>-0.365276</td>\n",
              "    </tr>\n",
              "  </tbody>\n",
              "</table>\n",
              "</div>"
            ],
            "text/plain": [
              "   HasCrCard  IsActiveMember  Exited  ...    Escore     Idade   Salario\n",
              "0          1               1       1  ... -0.326221  0.293517  0.021886\n",
              "1          0               1       0  ... -0.440036  0.198164  0.216534\n",
              "2          1               0       1  ... -1.536794  0.293517  0.240687\n",
              "3          0               0       0  ...  0.501521  0.007457 -0.108918\n",
              "4          1               1       0  ...  2.063884  0.388871 -0.365276\n",
              "\n",
              "[5 rows x 15 columns]"
            ]
          },
          "metadata": {
            "tags": []
          },
          "execution_count": 268
        }
      ]
    },
    {
      "cell_type": "markdown",
      "metadata": {
        "id": "UoAeQ6-eYGL0",
        "colab_type": "text"
      },
      "source": [
        "## **Modelagem**"
      ]
    },
    {
      "cell_type": "markdown",
      "metadata": {
        "id": "AkyFUMP1YMH2",
        "colab_type": "text"
      },
      "source": [
        "Nesse caso, temos **dois objetivos**:\n",
        "\n",
        "- Selecionar um bom modelo que se ajuste a esses dados\n",
        "- Estimar o erro de generalização do modelo\n",
        "\n",
        "Para isso, vamos dividir os dados em **treinamento (90%)** e **validação (10%)**. Como temos 10000 observações no conjunto de dados, a divisão pode ser mais desbalanceada, de forma que dessa maneira ainda sobra 1000 elementos no conjunto de validação.\n",
        "\n",
        "Vamos utilizar **validação cruzada no conjunto de dados de treinamento** para encontrar os melhores parâmetros para os modelos propostos e, por fim, verificaremos o **erro de generalização dos modelos na amostra final de validação**."
      ]
    },
    {
      "cell_type": "code",
      "metadata": {
        "id": "J5zaNTFWZZ-D",
        "colab_type": "code",
        "colab": {}
      },
      "source": [
        "#Fazendo a Divisão em Teste e Treinamento\n",
        "from sklearn.model_selection import train_test_split\n",
        "\n",
        "Xtreino, Xvalid, Ytreino, Yvalid = train_test_split(churn.drop('Exited', axis = 1), \n",
        "                                                    churn['Exited'], \n",
        "                                                    test_size = 1000)"
      ],
      "execution_count": null,
      "outputs": []
    },
    {
      "cell_type": "code",
      "metadata": {
        "id": "X3qBFvVIZyOB",
        "colab_type": "code",
        "colab": {}
      },
      "source": [
        "# Configuração da Validação Cruzada\n",
        "from sklearn.model_selection import KFold\n",
        "from sklearn.model_selection import cross_val_score\n",
        "\n",
        "kf = KFold(n_splits = 20)"
      ],
      "execution_count": null,
      "outputs": []
    },
    {
      "cell_type": "code",
      "metadata": {
        "id": "EqIIvcgFZznJ",
        "colab_type": "code",
        "colab": {}
      },
      "source": [
        "# Importando os Modelos\n",
        "from sklearn.linear_model import LogisticRegression\n",
        "from sklearn.tree import DecisionTreeClassifier\n",
        "from sklearn.neighbors import KNeighborsClassifier\n",
        "from sklearn.ensemble import RandomForestClassifier"
      ],
      "execution_count": null,
      "outputs": []
    },
    {
      "cell_type": "code",
      "metadata": {
        "id": "E1LlrINDexHB",
        "colab_type": "code",
        "colab": {}
      },
      "source": [
        "# Definindo a métrica de interesse \n",
        "metrica = 'f1'"
      ],
      "execution_count": null,
      "outputs": []
    },
    {
      "cell_type": "markdown",
      "metadata": {
        "id": "Zyz9DnNvJO38",
        "colab_type": "text"
      },
      "source": [
        "### Regressão Logística "
      ]
    },
    {
      "cell_type": "code",
      "metadata": {
        "id": "iNG_hF-rJSmu",
        "colab_type": "code",
        "colab": {
          "base_uri": "https://localhost:8080/",
          "height": 35
        },
        "outputId": "938d6d43-71ef-4e67-cadb-75b9d196e62a"
      },
      "source": [
        "# Verificando a Performance da Regressão Logística\n",
        "\n",
        "sens_reglog = cross_val_score(LogisticRegression(), Xtreino, Ytreino, cv = kf, scoring = metrica)\n",
        " \n",
        "print('F1-Score: {:.2f}%'.format(100*sens_reglog.mean()))"
      ],
      "execution_count": null,
      "outputs": [
        {
          "output_type": "stream",
          "text": [
            "F1-Score: 49.45%\n"
          ],
          "name": "stdout"
        }
      ]
    },
    {
      "cell_type": "code",
      "metadata": {
        "id": "Pq-NEx6_bwrr",
        "colab_type": "code",
        "colab": {
          "base_uri": "https://localhost:8080/",
          "height": 173
        },
        "outputId": "c4e10577-b412-45c6-a0ec-399deb7035e0"
      },
      "source": [
        "reglog.fit(Xtreino, Ytreino)\n",
        "pred_reglog = reglog.predict(Xvalid)\n",
        "\n",
        "met_reglog = MetricasClassBinaria(Yvalid, pred_reglog)"
      ],
      "execution_count": null,
      "outputs": [
        {
          "output_type": "stream",
          "text": [
            "  Prevalência de Positivos: 0.2010\n",
            "                  Acurácia: 0.8370\n",
            "             Sensibilidade: 0.3731\n",
            "            Especificidade: 0.9537\n",
            "  Valor Preditivo Positivo: 0.6696\n",
            "  Valor Preditivo Negativo: 0.8581\n",
            "Coef. de Corr. de Matthews: 0.4153\n",
            "                  F1-Score: 0.4792\n",
            "                Eficiência: 0.6634\n"
          ],
          "name": "stdout"
        }
      ]
    },
    {
      "cell_type": "markdown",
      "metadata": {
        "id": "CHQoNHN1I-jM",
        "colab_type": "text"
      },
      "source": [
        "### K Vizinhos Mais Próximos"
      ]
    },
    {
      "cell_type": "code",
      "metadata": {
        "id": "1dtlCS4AAt8p",
        "colab_type": "code",
        "colab": {
          "base_uri": "https://localhost:8080/",
          "height": 239
        },
        "outputId": "c533ab8e-3643-46db-f0a1-f2aa36869535"
      },
      "source": [
        "# Encontrando o melhor valor de K através de Validação Cruzada K-FOLD \n",
        "\n",
        "from sklearn.model_selection import GridSearchCV\n",
        "\n",
        "valores = np.arange(1, 51, 2)\n",
        "parametros = {'n_neighbors': valores}\n",
        "\n",
        "clf = GridSearchCV(KNeighborsClassifier(), param_grid = parametros, cv = kf, scoring = metrica)\n",
        "clf.fit(Xtreino, Ytreino)"
      ],
      "execution_count": null,
      "outputs": [
        {
          "output_type": "execute_result",
          "data": {
            "text/plain": [
              "GridSearchCV(cv=KFold(n_splits=20, random_state=None, shuffle=False),\n",
              "             error_score=nan,\n",
              "             estimator=KNeighborsClassifier(algorithm='auto', leaf_size=30,\n",
              "                                            metric='minkowski',\n",
              "                                            metric_params=None, n_jobs=None,\n",
              "                                            n_neighbors=5, p=2,\n",
              "                                            weights='uniform'),\n",
              "             iid='deprecated', n_jobs=None,\n",
              "             param_grid={'n_neighbors': array([ 1,  3,  5,  7,  9, 11, 13, 15, 17, 19, 21, 23, 25, 27, 29, 31, 33,\n",
              "       35, 37, 39, 41, 43, 45, 47, 49])},\n",
              "             pre_dispatch='2*n_jobs', refit=True, return_train_score=False,\n",
              "             scoring='f1', verbose=0)"
            ]
          },
          "metadata": {
            "tags": []
          },
          "execution_count": 86
        }
      ]
    },
    {
      "cell_type": "code",
      "metadata": {
        "id": "jpx_mspcBTFU",
        "colab_type": "code",
        "colab": {
          "base_uri": "https://localhost:8080/",
          "height": 128
        },
        "outputId": "dffdf143-2924-4c2d-98e8-0a55a7708a74"
      },
      "source": [
        "# melhor escolha de K\n",
        "print(clf.cv_results_['mean_test_score'])\n",
        "print(clf.best_params_)"
      ],
      "execution_count": null,
      "outputs": [
        {
          "output_type": "stream",
          "text": [
            "[0.47383495 0.48164783 0.4992857  0.48532457 0.49308602 0.48417992\n",
            " 0.4663896  0.46587732 0.46049176 0.46399325 0.46248402 0.45161951\n",
            " 0.44983225 0.44730907 0.44811583 0.44952059 0.4459441  0.44226384\n",
            " 0.4421292  0.43908712 0.43649845 0.43593595 0.43013927 0.42377427\n",
            " 0.42617382]\n",
            "{'n_neighbors': 5}\n"
          ],
          "name": "stdout"
        }
      ]
    },
    {
      "cell_type": "code",
      "metadata": {
        "id": "o6NpAG4H8GDF",
        "colab_type": "code",
        "colab": {
          "base_uri": "https://localhost:8080/",
          "height": 173
        },
        "outputId": "02b97979-5f4e-4bcb-ccd3-33b865a849a2"
      },
      "source": [
        "# verificando a performance do KNN para um dado valor de K\n",
        "\n",
        "knn5 = KNeighborsClassifier(n_neighbors = 5)\n",
        "knn5.fit(Xtreino, Ytreino)\n",
        "pred_knn5 = knn5.predict(Xvalid)\n",
        "\n",
        "met_knn5 = MetricasClassBinaria(Yvalid, pred_knn5)"
      ],
      "execution_count": null,
      "outputs": [
        {
          "output_type": "stream",
          "text": [
            "  Prevalência de Positivos: 0.2010\n",
            "                  Acurácia: 0.8380\n",
            "             Sensibilidade: 0.3831\n",
            "            Especificidade: 0.9524\n",
            "  Valor Preditivo Positivo: 0.6696\n",
            "  Valor Preditivo Negativo: 0.8599\n",
            "Coef. de Corr. de Matthews: 0.4215\n",
            "                  F1-Score: 0.4873\n",
            "                Eficiência: 0.6678\n"
          ],
          "name": "stdout"
        }
      ]
    },
    {
      "cell_type": "markdown",
      "metadata": {
        "colab_type": "text",
        "id": "Ob3dA8W9fuj5"
      },
      "source": [
        "### Árvore de Decisão"
      ]
    },
    {
      "cell_type": "code",
      "metadata": {
        "colab_type": "code",
        "id": "IpR_G6CGJ1Rp",
        "colab": {
          "base_uri": "https://localhost:8080/",
          "height": 350
        },
        "outputId": "e7d9f208-bd9b-4025-f4ea-36f3e74f7a88"
      },
      "source": [
        "# Encontrando o melhor valor do 'max_depth' através de Validação Cruzada K-FOLD\n",
        "\n",
        "from sklearn.model_selection import GridSearchCV\n",
        "\n",
        "valores = np.arange(2, 15, 1)\n",
        "parametros = {'max_depth': valores}\n",
        "\n",
        "clf = GridSearchCV(DecisionTreeClassifier(), param_grid = parametros, cv = kf, scoring = metrica)\n",
        "clf.fit(Xtreino, Ytreino)"
      ],
      "execution_count": null,
      "outputs": [
        {
          "output_type": "execute_result",
          "data": {
            "text/plain": [
              "GridSearchCV(cv=KFold(n_splits=20, random_state=None, shuffle=False),\n",
              "             error_score=nan,\n",
              "             estimator=DecisionTreeClassifier(ccp_alpha=0.0, class_weight=None,\n",
              "                                              criterion='gini', max_depth=None,\n",
              "                                              max_features=None,\n",
              "                                              max_leaf_nodes=None,\n",
              "                                              min_impurity_decrease=0.0,\n",
              "                                              min_impurity_split=None,\n",
              "                                              min_samples_leaf=1,\n",
              "                                              min_samples_split=2,\n",
              "                                              min_weight_fraction_leaf=0.0,\n",
              "                                              presort='deprecated',\n",
              "                                              random_state=None,\n",
              "                                              splitter='best'),\n",
              "             iid='deprecated', n_jobs=None,\n",
              "             param_grid={'max_depth': array([ 2,  3,  4,  5,  6,  7,  8,  9, 10, 11, 12, 13, 14])},\n",
              "             pre_dispatch='2*n_jobs', refit=True, return_train_score=False,\n",
              "             scoring='f1', verbose=0)"
            ]
          },
          "metadata": {
            "tags": []
          },
          "execution_count": 97
        }
      ]
    },
    {
      "cell_type": "code",
      "metadata": {
        "colab_type": "code",
        "id": "r_6x0H0hf_XZ",
        "colab": {
          "base_uri": "https://localhost:8080/",
          "height": 91
        },
        "outputId": "ebd58aeb-0e8d-4395-9e16-650c9a993b25"
      },
      "source": [
        "# melhor escolha de profundidade\n",
        "print(clf.cv_results_['mean_test_score'])\n",
        "print(clf.best_params_)"
      ],
      "execution_count": null,
      "outputs": [
        {
          "output_type": "stream",
          "text": [
            "[0.53124138 0.49368762 0.51994294 0.54468641 0.53986816 0.55455309\n",
            " 0.55842828 0.5555886  0.54140483 0.54075041 0.53904522 0.52662225\n",
            " 0.51967165]\n",
            "{'max_depth': 8}\n"
          ],
          "name": "stdout"
        }
      ]
    },
    {
      "cell_type": "code",
      "metadata": {
        "colab_type": "code",
        "id": "G3TFF5iyf_Xo",
        "colab": {
          "base_uri": "https://localhost:8080/",
          "height": 173
        },
        "outputId": "ac7b80b0-8b1e-433f-9e45-6c5dde140677"
      },
      "source": [
        "# verificando a performance do KNN para um dado valor de K\n",
        "\n",
        "arvore = DecisionTreeClassifier(max_depth = 8)\n",
        "arvore.fit(Xtreino, Ytreino)\n",
        "pred_arvore = arvore.predict(Xvalid)\n",
        "\n",
        "met_arvore = MetricasClassBinaria(Yvalid, pred_arvore)"
      ],
      "execution_count": null,
      "outputs": [
        {
          "output_type": "stream",
          "text": [
            "  Prevalência de Positivos: 0.2010\n",
            "                  Acurácia: 0.8520\n",
            "             Sensibilidade: 0.4627\n",
            "            Especificidade: 0.9499\n",
            "  Valor Preditivo Positivo: 0.6992\n",
            "  Valor Preditivo Negativo: 0.8754\n",
            "Coef. de Corr. de Matthews: 0.4870\n",
            "                  F1-Score: 0.5569\n",
            "                Eficiência: 0.7063\n"
          ],
          "name": "stdout"
        }
      ]
    },
    {
      "cell_type": "markdown",
      "metadata": {
        "colab_type": "text",
        "id": "XXBFlpeMMsSv"
      },
      "source": [
        "### Random Forests"
      ]
    },
    {
      "cell_type": "code",
      "metadata": {
        "colab_type": "code",
        "id": "QiV4ex62MsTA",
        "colab": {
          "base_uri": "https://localhost:8080/",
          "height": 406
        },
        "outputId": "bb0e66a2-3b9b-4c21-968b-237d99677bf6"
      },
      "source": [
        "# Encontrando o melhor valor do 'max_depth' através de Validação Cruzada K-FOLD\n",
        "\n",
        "from sklearn.model_selection import GridSearchCV\n",
        "\n",
        "valores = np.arange(12, 23, 1)\n",
        "parametros = {'max_depth': valores}\n",
        "\n",
        "clf = GridSearchCV(RandomForestClassifier(), param_grid = parametros, cv = kf, scoring = metrica)\n",
        "clf.fit(Xtreino, Ytreino)"
      ],
      "execution_count": null,
      "outputs": [
        {
          "output_type": "execute_result",
          "data": {
            "text/plain": [
              "GridSearchCV(cv=KFold(n_splits=20, random_state=None, shuffle=False),\n",
              "             error_score=nan,\n",
              "             estimator=RandomForestClassifier(bootstrap=True, ccp_alpha=0.0,\n",
              "                                              class_weight=None,\n",
              "                                              criterion='gini', max_depth=None,\n",
              "                                              max_features='auto',\n",
              "                                              max_leaf_nodes=None,\n",
              "                                              max_samples=None,\n",
              "                                              min_impurity_decrease=0.0,\n",
              "                                              min_impurity_split=None,\n",
              "                                              min_samples_leaf=1,\n",
              "                                              min_samples_split=2,\n",
              "                                              min_weight_fraction_leaf=0.0,\n",
              "                                              n_estimators=100, n_jobs=None,\n",
              "                                              oob_score=False,\n",
              "                                              random_state=None, verbose=0,\n",
              "                                              warm_start=False),\n",
              "             iid='deprecated', n_jobs=None,\n",
              "             param_grid={'max_depth': array([ 2,  4,  6,  8, 10, 12, 14, 16, 18, 20])},\n",
              "             pre_dispatch='2*n_jobs', refit=True, return_train_score=False,\n",
              "             scoring='f1', verbose=0)"
            ]
          },
          "metadata": {
            "tags": []
          },
          "execution_count": 100
        }
      ]
    },
    {
      "cell_type": "code",
      "metadata": {
        "colab_type": "code",
        "id": "ix5-Nlxng0WP",
        "colab": {
          "base_uri": "https://localhost:8080/",
          "height": 73
        },
        "outputId": "98f0775f-7183-4b62-b108-911c42d73ec3"
      },
      "source": [
        "# melhor escolha de profundidade\n",
        "print(clf.cv_results_['mean_test_score'])\n",
        "print(clf.best_params_)"
      ],
      "execution_count": null,
      "outputs": [
        {
          "output_type": "stream",
          "text": [
            "[0.09971342 0.36534886 0.49602502 0.5489173  0.56415922 0.5817941\n",
            " 0.5811164  0.58550045 0.57766715 0.58064815]\n",
            "{'max_depth': 16}\n"
          ],
          "name": "stdout"
        }
      ]
    },
    {
      "cell_type": "code",
      "metadata": {
        "colab_type": "code",
        "id": "hzoK-jF9g3uT",
        "colab": {
          "base_uri": "https://localhost:8080/",
          "height": 173
        },
        "outputId": "cc3479eb-5411-48f9-c969-2385ddb47890"
      },
      "source": [
        "# verificando a performance do KNN para um dado valor de K\n",
        "\n",
        "rf = RandomForestClassifier(max_depth = 16)\n",
        "rf.fit(Xtreino, Ytreino)\n",
        "pred_rf = rf.predict(Xvalid)\n",
        "\n",
        "met_rf = MetricasClassBinaria(Yvalid, pred_rf)"
      ],
      "execution_count": null,
      "outputs": [
        {
          "output_type": "stream",
          "text": [
            "  Prevalência de Positivos: 0.2010\n",
            "                  Acurácia: 0.8630\n",
            "             Sensibilidade: 0.4527\n",
            "            Especificidade: 0.9662\n",
            "  Valor Preditivo Positivo: 0.7712\n",
            "  Valor Preditivo Negativo: 0.8753\n",
            "Coef. de Corr. de Matthews: 0.5204\n",
            "                  F1-Score: 0.5705\n",
            "                Eficiência: 0.7095\n"
          ],
          "name": "stdout"
        }
      ]
    },
    {
      "cell_type": "markdown",
      "metadata": {
        "id": "1Np82CcjiOru",
        "colab_type": "text"
      },
      "source": [
        "### Síntese dos Resultados"
      ]
    },
    {
      "cell_type": "code",
      "metadata": {
        "id": "3nG16DfQiQy4",
        "colab_type": "code",
        "colab": {}
      },
      "source": [
        "# Regressão Logística\n",
        "reglog = LogisticRegression()\n",
        "reglog.fit(Xtreino, Ytreino)\n",
        "pred_reglog = reglog.predict(Xvalid)\n",
        "met_reglog = MetricasClassBinaria(Yvalid, pred_reglog, custo = [0, 1, 10, 1])\n",
        "\n",
        "#KNNs\n",
        "knn3 = KNeighborsClassifier(n_neighbors = 3)\n",
        "knn3.fit(Xtreino, Ytreino)\n",
        "pred_knn3 = knn3.predict(Xvalid)\n",
        "met_knn3 = MetricasClassBinaria(Yvalid, pred_knn3, custo = [0, 1, 10, 1])\n",
        "\n",
        "knn5 = KNeighborsClassifier(n_neighbors = 5)\n",
        "knn5.fit(Xtreino, Ytreino)\n",
        "pred_knn5 = knn5.predict(Xvalid)\n",
        "met_knn5 = MetricasClassBinaria(Yvalid, pred_knn5, custo = [0, 1, 10, 1])\n",
        "\n",
        "knn7 = KNeighborsClassifier(n_neighbors = 7)\n",
        "knn7.fit(Xtreino, Ytreino)\n",
        "pred_knn7 = knn7.predict(Xvalid)\n",
        "met_knn7 = MetricasClassBinaria(Yvalid, pred_knn7, custo = [0, 1, 10, 1])\n",
        "\n",
        "knn9 = KNeighborsClassifier(n_neighbors = 9)\n",
        "knn9.fit(Xtreino, Ytreino)\n",
        "pred_knn9 = knn9.predict(Xvalid)\n",
        "met_knn9 = MetricasClassBinaria(Yvalid, pred_knn9, custo = [0, 1, 10, 1])\n",
        "\n",
        "#Arvores\n",
        "arvore4 = DecisionTreeClassifier(max_depth = 4)\n",
        "arvore4.fit(Xtreino, Ytreino)\n",
        "pred_arvore4 = arvore4.predict(Xvalid)\n",
        "met_arvore4 = MetricasClassBinaria(Yvalid, pred_arvore4, custo = [0, 1, 10, 1])\n",
        "\n",
        "arvore8 = DecisionTreeClassifier(max_depth = 8)\n",
        "arvore8.fit(Xtreino, Ytreino)\n",
        "pred_arvore8 = arvore8.predict(Xvalid)\n",
        "met_arvore8 = MetricasClassBinaria(Yvalid, pred_arvore8, custo = [0, 1, 10, 1])\n",
        "\n",
        "arvore12 = DecisionTreeClassifier(max_depth = 12)\n",
        "arvore12.fit(Xtreino, Ytreino)\n",
        "pred_arvore12 = arvore12.predict(Xvalid)\n",
        "met_arvore12 = MetricasClassBinaria(Yvalid, pred_arvore12, custo = [0, 1, 10, 1])\n",
        "\n",
        "#Florestas\n",
        "rf8 = RandomForestClassifier(max_depth = 8)\n",
        "rf8.fit(Xtreino, Ytreino)\n",
        "pred_rf8 = rf8.predict(Xvalid)\n",
        "met_rf8 = MetricasClassBinaria(Yvalid, pred_rf8, custo = [0, 1, 10, 1])\n",
        "\n",
        "rf16 = RandomForestClassifier(max_depth = 16)\n",
        "rf16.fit(Xtreino, Ytreino)\n",
        "pred_rf16 = rf16.predict(Xvalid)\n",
        "met_rf16 = MetricasClassBinaria(Yvalid, pred_rf16, custo = [0, 1, 10, 1])\n",
        "\n",
        "rf24 = RandomForestClassifier(max_depth = 24)\n",
        "rf24.fit(Xtreino, Ytreino)\n",
        "pred_rf24 = rf24.predict(Xvalid)\n",
        "met_rf24 = MetricasClassBinaria(Yvalid, pred_rf24, custo = [0, 1, 10, 1])"
      ],
      "execution_count": null,
      "outputs": []
    },
    {
      "cell_type": "code",
      "metadata": {
        "id": "yLh1cExMj9xB",
        "colab_type": "code",
        "colab": {}
      },
      "source": [
        "modelos = ['Reg. Log.', '3-NN', '5-NN', '7-NN', '9-NN', \n",
        "           'Árvore (4)', 'Árvore (8)', 'Árvore (12)',\n",
        "           'Random Forest (8)', 'Random Forest (16)', 'Random Forest (24)']\n",
        "\n",
        "preditos = [met_reglog, met_knn3, met_knn5, met_knn7, met_knn9, met_arvore4,\n",
        "            met_arvore8, met_arvore12, met_rf8, met_rf16, met_rf24]"
      ],
      "execution_count": null,
      "outputs": []
    },
    {
      "cell_type": "code",
      "metadata": {
        "id": "MpU24LAYjFnI",
        "colab_type": "code",
        "colab": {}
      },
      "source": [
        "resultados = pd.DataFrame()\n",
        "\n",
        "for i in range(len(modelos)):\n",
        "    aux = pd.DataFrame.from_dict(preditos[i], orient = 'index', columns = [modelos[i]])\n",
        "    resultados = pd.concat([resultados, aux], axis = 1)"
      ],
      "execution_count": null,
      "outputs": []
    },
    {
      "cell_type": "code",
      "metadata": {
        "id": "HcxaJm8dkw8w",
        "colab_type": "code",
        "colab": {
          "base_uri": "https://localhost:8080/",
          "height": 455
        },
        "outputId": "67dea8c9-c6db-4598-b83d-454a31c8dd72"
      },
      "source": [
        "resultados.T.round(4)"
      ],
      "execution_count": null,
      "outputs": [
        {
          "output_type": "execute_result",
          "data": {
            "text/html": [
              "<div>\n",
              "<style scoped>\n",
              "    .dataframe tbody tr th:only-of-type {\n",
              "        vertical-align: middle;\n",
              "    }\n",
              "\n",
              "    .dataframe tbody tr th {\n",
              "        vertical-align: top;\n",
              "    }\n",
              "\n",
              "    .dataframe thead th {\n",
              "        text-align: right;\n",
              "    }\n",
              "</style>\n",
              "<table border=\"1\" class=\"dataframe\">\n",
              "  <thead>\n",
              "    <tr style=\"text-align: right;\">\n",
              "      <th></th>\n",
              "      <th>prevalência</th>\n",
              "      <th>acurácia</th>\n",
              "      <th>sensibilidade</th>\n",
              "      <th>especificidade</th>\n",
              "      <th>vpp</th>\n",
              "      <th>vpn</th>\n",
              "      <th>mcc</th>\n",
              "      <th>f1-score</th>\n",
              "      <th>eficiência</th>\n",
              "      <th>custo</th>\n",
              "    </tr>\n",
              "  </thead>\n",
              "  <tbody>\n",
              "    <tr>\n",
              "      <th>Reg. Log.</th>\n",
              "      <td>0.194</td>\n",
              "      <td>0.849</td>\n",
              "      <td>0.4021</td>\n",
              "      <td>0.9566</td>\n",
              "      <td>0.6903</td>\n",
              "      <td>0.8692</td>\n",
              "      <td>0.4479</td>\n",
              "      <td>0.5081</td>\n",
              "      <td>0.6793</td>\n",
              "      <td>1273.0</td>\n",
              "    </tr>\n",
              "    <tr>\n",
              "      <th>3-NN</th>\n",
              "      <td>0.194</td>\n",
              "      <td>0.833</td>\n",
              "      <td>0.4381</td>\n",
              "      <td>0.9280</td>\n",
              "      <td>0.5944</td>\n",
              "      <td>0.8728</td>\n",
              "      <td>0.4136</td>\n",
              "      <td>0.5045</td>\n",
              "      <td>0.6831</td>\n",
              "      <td>1233.0</td>\n",
              "    </tr>\n",
              "    <tr>\n",
              "      <th>5-NN</th>\n",
              "      <td>0.194</td>\n",
              "      <td>0.831</td>\n",
              "      <td>0.4021</td>\n",
              "      <td>0.9342</td>\n",
              "      <td>0.5954</td>\n",
              "      <td>0.8665</td>\n",
              "      <td>0.3941</td>\n",
              "      <td>0.4800</td>\n",
              "      <td>0.6682</td>\n",
              "      <td>1291.0</td>\n",
              "    </tr>\n",
              "    <tr>\n",
              "      <th>7-NN</th>\n",
              "      <td>0.194</td>\n",
              "      <td>0.847</td>\n",
              "      <td>0.4124</td>\n",
              "      <td>0.9516</td>\n",
              "      <td>0.6723</td>\n",
              "      <td>0.8706</td>\n",
              "      <td>0.4445</td>\n",
              "      <td>0.5112</td>\n",
              "      <td>0.6820</td>\n",
              "      <td>1259.0</td>\n",
              "    </tr>\n",
              "    <tr>\n",
              "      <th>9-NN</th>\n",
              "      <td>0.194</td>\n",
              "      <td>0.856</td>\n",
              "      <td>0.3918</td>\n",
              "      <td>0.9677</td>\n",
              "      <td>0.7451</td>\n",
              "      <td>0.8686</td>\n",
              "      <td>0.4697</td>\n",
              "      <td>0.5135</td>\n",
              "      <td>0.6797</td>\n",
              "      <td>1282.0</td>\n",
              "    </tr>\n",
              "    <tr>\n",
              "      <th>Árvore (4)</th>\n",
              "      <td>0.194</td>\n",
              "      <td>0.863</td>\n",
              "      <td>0.4124</td>\n",
              "      <td>0.9715</td>\n",
              "      <td>0.7767</td>\n",
              "      <td>0.8729</td>\n",
              "      <td>0.4993</td>\n",
              "      <td>0.5387</td>\n",
              "      <td>0.6919</td>\n",
              "      <td>1243.0</td>\n",
              "    </tr>\n",
              "    <tr>\n",
              "      <th>Árvore (8)</th>\n",
              "      <td>0.194</td>\n",
              "      <td>0.853</td>\n",
              "      <td>0.4742</td>\n",
              "      <td>0.9442</td>\n",
              "      <td>0.6715</td>\n",
              "      <td>0.8818</td>\n",
              "      <td>0.4812</td>\n",
              "      <td>0.5559</td>\n",
              "      <td>0.7092</td>\n",
              "      <td>1157.0</td>\n",
              "    </tr>\n",
              "    <tr>\n",
              "      <th>Árvore (12)</th>\n",
              "      <td>0.194</td>\n",
              "      <td>0.829</td>\n",
              "      <td>0.5155</td>\n",
              "      <td>0.9045</td>\n",
              "      <td>0.5650</td>\n",
              "      <td>0.8858</td>\n",
              "      <td>0.4351</td>\n",
              "      <td>0.5391</td>\n",
              "      <td>0.7100</td>\n",
              "      <td>1117.0</td>\n",
              "    </tr>\n",
              "    <tr>\n",
              "      <th>Random Forest (8)</th>\n",
              "      <td>0.194</td>\n",
              "      <td>0.852</td>\n",
              "      <td>0.4794</td>\n",
              "      <td>0.9417</td>\n",
              "      <td>0.6643</td>\n",
              "      <td>0.8826</td>\n",
              "      <td>0.4799</td>\n",
              "      <td>0.5569</td>\n",
              "      <td>0.7105</td>\n",
              "      <td>1150.0</td>\n",
              "    </tr>\n",
              "    <tr>\n",
              "      <th>Random Forest (16)</th>\n",
              "      <td>0.194</td>\n",
              "      <td>0.804</td>\n",
              "      <td>0.5155</td>\n",
              "      <td>0.8734</td>\n",
              "      <td>0.4950</td>\n",
              "      <td>0.8822</td>\n",
              "      <td>0.3830</td>\n",
              "      <td>0.5051</td>\n",
              "      <td>0.6945</td>\n",
              "      <td>1142.0</td>\n",
              "    </tr>\n",
              "    <tr>\n",
              "      <th>Random Forest (24)</th>\n",
              "      <td>0.194</td>\n",
              "      <td>0.804</td>\n",
              "      <td>0.5052</td>\n",
              "      <td>0.8759</td>\n",
              "      <td>0.4949</td>\n",
              "      <td>0.8803</td>\n",
              "      <td>0.3782</td>\n",
              "      <td>0.5000</td>\n",
              "      <td>0.6905</td>\n",
              "      <td>1158.0</td>\n",
              "    </tr>\n",
              "  </tbody>\n",
              "</table>\n",
              "</div>"
            ],
            "text/plain": [
              "                    prevalência  acurácia  ...  eficiência   custo\n",
              "Reg. Log.                 0.194     0.849  ...      0.6793  1273.0\n",
              "3-NN                      0.194     0.833  ...      0.6831  1233.0\n",
              "5-NN                      0.194     0.831  ...      0.6682  1291.0\n",
              "7-NN                      0.194     0.847  ...      0.6820  1259.0\n",
              "9-NN                      0.194     0.856  ...      0.6797  1282.0\n",
              "Árvore (4)                0.194     0.863  ...      0.6919  1243.0\n",
              "Árvore (8)                0.194     0.853  ...      0.7092  1157.0\n",
              "Árvore (12)               0.194     0.829  ...      0.7100  1117.0\n",
              "Random Forest (8)         0.194     0.852  ...      0.7105  1150.0\n",
              "Random Forest (16)        0.194     0.804  ...      0.6945  1142.0\n",
              "Random Forest (24)        0.194     0.804  ...      0.6905  1158.0\n",
              "\n",
              "[11 rows x 10 columns]"
            ]
          },
          "metadata": {
            "tags": []
          },
          "execution_count": 284
        }
      ]
    },
    {
      "cell_type": "code",
      "metadata": {
        "id": "bCEOh8vJk5vC",
        "colab_type": "code",
        "colab": {}
      },
      "source": [
        "from google.colab.data_table import DataTable"
      ],
      "execution_count": null,
      "outputs": []
    },
    {
      "cell_type": "code",
      "metadata": {
        "id": "r9mwNUWfm7Hz",
        "colab_type": "code",
        "colab": {
          "base_uri": "https://localhost:8080/",
          "height": 323
        },
        "outputId": "3454d79a-f7f4-4a0a-9188-984a246d592b"
      },
      "source": [
        "DataTable(resultados.T.round(4))"
      ],
      "execution_count": null,
      "outputs": [
        {
          "output_type": "execute_result",
          "data": {
            "application/vnd.google.colaboratory.module+javascript": "\n      import \"https://ssl.gstatic.com/colaboratory/data_table/a6224c040fa35dcf/data_table.js\";\n\n      window.createDataTable({\n        data: [[\"Reg. Log.\",\n{\n            'v': 0.194,\n            'f': \"0.194\",\n        },\n{\n            'v': 0.849,\n            'f': \"0.849\",\n        },\n{\n            'v': 0.4021,\n            'f': \"0.4021\",\n        },\n{\n            'v': 0.9566,\n            'f': \"0.9566\",\n        },\n{\n            'v': 0.6903,\n            'f': \"0.6903\",\n        },\n{\n            'v': 0.8692,\n            'f': \"0.8692\",\n        },\n{\n            'v': 0.4479,\n            'f': \"0.4479\",\n        },\n{\n            'v': 0.5081,\n            'f': \"0.5081\",\n        },\n{\n            'v': 0.6793,\n            'f': \"0.6793\",\n        },\n{\n            'v': 1273.0,\n            'f': \"1273.0\",\n        }],\n [\"3-NN\",\n{\n            'v': 0.194,\n            'f': \"0.194\",\n        },\n{\n            'v': 0.833,\n            'f': \"0.833\",\n        },\n{\n            'v': 0.4381,\n            'f': \"0.4381\",\n        },\n{\n            'v': 0.928,\n            'f': \"0.928\",\n        },\n{\n            'v': 0.5944,\n            'f': \"0.5944\",\n        },\n{\n            'v': 0.8728,\n            'f': \"0.8728\",\n        },\n{\n            'v': 0.4136,\n            'f': \"0.4136\",\n        },\n{\n            'v': 0.5045,\n            'f': \"0.5045\",\n        },\n{\n            'v': 0.6831,\n            'f': \"0.6831\",\n        },\n{\n            'v': 1233.0,\n            'f': \"1233.0\",\n        }],\n [\"5-NN\",\n{\n            'v': 0.194,\n            'f': \"0.194\",\n        },\n{\n            'v': 0.831,\n            'f': \"0.831\",\n        },\n{\n            'v': 0.4021,\n            'f': \"0.4021\",\n        },\n{\n            'v': 0.9342,\n            'f': \"0.9342\",\n        },\n{\n            'v': 0.5954,\n            'f': \"0.5954\",\n        },\n{\n            'v': 0.8665,\n            'f': \"0.8665\",\n        },\n{\n            'v': 0.3941,\n            'f': \"0.3941\",\n        },\n{\n            'v': 0.48,\n            'f': \"0.48\",\n        },\n{\n            'v': 0.6682,\n            'f': \"0.6682\",\n        },\n{\n            'v': 1291.0,\n            'f': \"1291.0\",\n        }],\n [\"7-NN\",\n{\n            'v': 0.194,\n            'f': \"0.194\",\n        },\n{\n            'v': 0.847,\n            'f': \"0.847\",\n        },\n{\n            'v': 0.4124,\n            'f': \"0.4124\",\n        },\n{\n            'v': 0.9516,\n            'f': \"0.9516\",\n        },\n{\n            'v': 0.6723,\n            'f': \"0.6723\",\n        },\n{\n            'v': 0.8706,\n            'f': \"0.8706\",\n        },\n{\n            'v': 0.4445,\n            'f': \"0.4445\",\n        },\n{\n            'v': 0.5112,\n            'f': \"0.5112\",\n        },\n{\n            'v': 0.682,\n            'f': \"0.682\",\n        },\n{\n            'v': 1259.0,\n            'f': \"1259.0\",\n        }],\n [\"9-NN\",\n{\n            'v': 0.194,\n            'f': \"0.194\",\n        },\n{\n            'v': 0.856,\n            'f': \"0.856\",\n        },\n{\n            'v': 0.3918,\n            'f': \"0.3918\",\n        },\n{\n            'v': 0.9677,\n            'f': \"0.9677\",\n        },\n{\n            'v': 0.7451,\n            'f': \"0.7451\",\n        },\n{\n            'v': 0.8686,\n            'f': \"0.8686\",\n        },\n{\n            'v': 0.4697,\n            'f': \"0.4697\",\n        },\n{\n            'v': 0.5135,\n            'f': \"0.5135\",\n        },\n{\n            'v': 0.6797,\n            'f': \"0.6797\",\n        },\n{\n            'v': 1282.0,\n            'f': \"1282.0\",\n        }],\n [\"\\u00c1rvore (4)\",\n{\n            'v': 0.194,\n            'f': \"0.194\",\n        },\n{\n            'v': 0.863,\n            'f': \"0.863\",\n        },\n{\n            'v': 0.4124,\n            'f': \"0.4124\",\n        },\n{\n            'v': 0.9715,\n            'f': \"0.9715\",\n        },\n{\n            'v': 0.7767,\n            'f': \"0.7767\",\n        },\n{\n            'v': 0.8729,\n            'f': \"0.8729\",\n        },\n{\n            'v': 0.4993,\n            'f': \"0.4993\",\n        },\n{\n            'v': 0.5387,\n            'f': \"0.5387\",\n        },\n{\n            'v': 0.6919,\n            'f': \"0.6919\",\n        },\n{\n            'v': 1243.0,\n            'f': \"1243.0\",\n        }],\n [\"\\u00c1rvore (8)\",\n{\n            'v': 0.194,\n            'f': \"0.194\",\n        },\n{\n            'v': 0.853,\n            'f': \"0.853\",\n        },\n{\n            'v': 0.4742,\n            'f': \"0.4742\",\n        },\n{\n            'v': 0.9442,\n            'f': \"0.9442\",\n        },\n{\n            'v': 0.6715,\n            'f': \"0.6715\",\n        },\n{\n            'v': 0.8818,\n            'f': \"0.8818\",\n        },\n{\n            'v': 0.4812,\n            'f': \"0.4812\",\n        },\n{\n            'v': 0.5559,\n            'f': \"0.5559\",\n        },\n{\n            'v': 0.7092,\n            'f': \"0.7092\",\n        },\n{\n            'v': 1157.0,\n            'f': \"1157.0\",\n        }],\n [\"\\u00c1rvore (12)\",\n{\n            'v': 0.194,\n            'f': \"0.194\",\n        },\n{\n            'v': 0.829,\n            'f': \"0.829\",\n        },\n{\n            'v': 0.5155,\n            'f': \"0.5155\",\n        },\n{\n            'v': 0.9045,\n            'f': \"0.9045\",\n        },\n{\n            'v': 0.565,\n            'f': \"0.565\",\n        },\n{\n            'v': 0.8858,\n            'f': \"0.8858\",\n        },\n{\n            'v': 0.4351,\n            'f': \"0.4351\",\n        },\n{\n            'v': 0.5391,\n            'f': \"0.5391\",\n        },\n{\n            'v': 0.71,\n            'f': \"0.71\",\n        },\n{\n            'v': 1117.0,\n            'f': \"1117.0\",\n        }],\n [\"Random Forest (8)\",\n{\n            'v': 0.194,\n            'f': \"0.194\",\n        },\n{\n            'v': 0.852,\n            'f': \"0.852\",\n        },\n{\n            'v': 0.4794,\n            'f': \"0.4794\",\n        },\n{\n            'v': 0.9417,\n            'f': \"0.9417\",\n        },\n{\n            'v': 0.6643,\n            'f': \"0.6643\",\n        },\n{\n            'v': 0.8826,\n            'f': \"0.8826\",\n        },\n{\n            'v': 0.4799,\n            'f': \"0.4799\",\n        },\n{\n            'v': 0.5569,\n            'f': \"0.5569\",\n        },\n{\n            'v': 0.7105,\n            'f': \"0.7105\",\n        },\n{\n            'v': 1150.0,\n            'f': \"1150.0\",\n        }],\n [\"Random Forest (16)\",\n{\n            'v': 0.194,\n            'f': \"0.194\",\n        },\n{\n            'v': 0.804,\n            'f': \"0.804\",\n        },\n{\n            'v': 0.5155,\n            'f': \"0.5155\",\n        },\n{\n            'v': 0.8734,\n            'f': \"0.8734\",\n        },\n{\n            'v': 0.495,\n            'f': \"0.495\",\n        },\n{\n            'v': 0.8822,\n            'f': \"0.8822\",\n        },\n{\n            'v': 0.383,\n            'f': \"0.383\",\n        },\n{\n            'v': 0.5051,\n            'f': \"0.5051\",\n        },\n{\n            'v': 0.6945,\n            'f': \"0.6945\",\n        },\n{\n            'v': 1142.0,\n            'f': \"1142.0\",\n        }],\n [\"Random Forest (24)\",\n{\n            'v': 0.194,\n            'f': \"0.194\",\n        },\n{\n            'v': 0.804,\n            'f': \"0.804\",\n        },\n{\n            'v': 0.5052,\n            'f': \"0.5052\",\n        },\n{\n            'v': 0.8759,\n            'f': \"0.8759\",\n        },\n{\n            'v': 0.4949,\n            'f': \"0.4949\",\n        },\n{\n            'v': 0.8803,\n            'f': \"0.8803\",\n        },\n{\n            'v': 0.3782,\n            'f': \"0.3782\",\n        },\n{\n            'v': 0.5,\n            'f': \"0.5\",\n        },\n{\n            'v': 0.6905,\n            'f': \"0.6905\",\n        },\n{\n            'v': 1158.0,\n            'f': \"1158.0\",\n        }]],\n        columns: [[\"string\", \"index\"], [\"number\", \"preval\\u00eancia\"], [\"number\", \"acur\\u00e1cia\"], [\"number\", \"sensibilidade\"], [\"number\", \"especificidade\"], [\"number\", \"vpp\"], [\"number\", \"vpn\"], [\"number\", \"mcc\"], [\"number\", \"f1-score\"], [\"number\", \"efici\\u00eancia\"], [\"number\", \"custo\"]],\n        columnOptions: [{\"width\": \"1px\", \"className\": \"index_column\"}],\n        rowsPerPage: 25,\n        helpUrl: \"https://colab.research.google.com/notebooks/data_table.ipynb\",\n        suppressOutputScrolling: true,\n        minimumWidth: undefined,\n      });\n    ",
            "text/plain": [
              "<google.colab.data_table.DataTable object>"
            ],
            "text/html": [
              "<div>\n",
              "<style scoped>\n",
              "    .dataframe tbody tr th:only-of-type {\n",
              "        vertical-align: middle;\n",
              "    }\n",
              "\n",
              "    .dataframe tbody tr th {\n",
              "        vertical-align: top;\n",
              "    }\n",
              "\n",
              "    .dataframe thead th {\n",
              "        text-align: right;\n",
              "    }\n",
              "</style>\n",
              "<table border=\"1\" class=\"dataframe\">\n",
              "  <thead>\n",
              "    <tr style=\"text-align: right;\">\n",
              "      <th></th>\n",
              "      <th>prevalência</th>\n",
              "      <th>acurácia</th>\n",
              "      <th>sensibilidade</th>\n",
              "      <th>especificidade</th>\n",
              "      <th>vpp</th>\n",
              "      <th>vpn</th>\n",
              "      <th>mcc</th>\n",
              "      <th>f1-score</th>\n",
              "      <th>eficiência</th>\n",
              "      <th>custo</th>\n",
              "    </tr>\n",
              "  </thead>\n",
              "  <tbody>\n",
              "    <tr>\n",
              "      <th>Reg. Log.</th>\n",
              "      <td>0.194</td>\n",
              "      <td>0.849</td>\n",
              "      <td>0.4021</td>\n",
              "      <td>0.9566</td>\n",
              "      <td>0.6903</td>\n",
              "      <td>0.8692</td>\n",
              "      <td>0.4479</td>\n",
              "      <td>0.5081</td>\n",
              "      <td>0.6793</td>\n",
              "      <td>1273.0</td>\n",
              "    </tr>\n",
              "    <tr>\n",
              "      <th>3-NN</th>\n",
              "      <td>0.194</td>\n",
              "      <td>0.833</td>\n",
              "      <td>0.4381</td>\n",
              "      <td>0.9280</td>\n",
              "      <td>0.5944</td>\n",
              "      <td>0.8728</td>\n",
              "      <td>0.4136</td>\n",
              "      <td>0.5045</td>\n",
              "      <td>0.6831</td>\n",
              "      <td>1233.0</td>\n",
              "    </tr>\n",
              "    <tr>\n",
              "      <th>5-NN</th>\n",
              "      <td>0.194</td>\n",
              "      <td>0.831</td>\n",
              "      <td>0.4021</td>\n",
              "      <td>0.9342</td>\n",
              "      <td>0.5954</td>\n",
              "      <td>0.8665</td>\n",
              "      <td>0.3941</td>\n",
              "      <td>0.4800</td>\n",
              "      <td>0.6682</td>\n",
              "      <td>1291.0</td>\n",
              "    </tr>\n",
              "    <tr>\n",
              "      <th>7-NN</th>\n",
              "      <td>0.194</td>\n",
              "      <td>0.847</td>\n",
              "      <td>0.4124</td>\n",
              "      <td>0.9516</td>\n",
              "      <td>0.6723</td>\n",
              "      <td>0.8706</td>\n",
              "      <td>0.4445</td>\n",
              "      <td>0.5112</td>\n",
              "      <td>0.6820</td>\n",
              "      <td>1259.0</td>\n",
              "    </tr>\n",
              "    <tr>\n",
              "      <th>9-NN</th>\n",
              "      <td>0.194</td>\n",
              "      <td>0.856</td>\n",
              "      <td>0.3918</td>\n",
              "      <td>0.9677</td>\n",
              "      <td>0.7451</td>\n",
              "      <td>0.8686</td>\n",
              "      <td>0.4697</td>\n",
              "      <td>0.5135</td>\n",
              "      <td>0.6797</td>\n",
              "      <td>1282.0</td>\n",
              "    </tr>\n",
              "    <tr>\n",
              "      <th>Árvore (4)</th>\n",
              "      <td>0.194</td>\n",
              "      <td>0.863</td>\n",
              "      <td>0.4124</td>\n",
              "      <td>0.9715</td>\n",
              "      <td>0.7767</td>\n",
              "      <td>0.8729</td>\n",
              "      <td>0.4993</td>\n",
              "      <td>0.5387</td>\n",
              "      <td>0.6919</td>\n",
              "      <td>1243.0</td>\n",
              "    </tr>\n",
              "    <tr>\n",
              "      <th>Árvore (8)</th>\n",
              "      <td>0.194</td>\n",
              "      <td>0.853</td>\n",
              "      <td>0.4742</td>\n",
              "      <td>0.9442</td>\n",
              "      <td>0.6715</td>\n",
              "      <td>0.8818</td>\n",
              "      <td>0.4812</td>\n",
              "      <td>0.5559</td>\n",
              "      <td>0.7092</td>\n",
              "      <td>1157.0</td>\n",
              "    </tr>\n",
              "    <tr>\n",
              "      <th>Árvore (12)</th>\n",
              "      <td>0.194</td>\n",
              "      <td>0.829</td>\n",
              "      <td>0.5155</td>\n",
              "      <td>0.9045</td>\n",
              "      <td>0.5650</td>\n",
              "      <td>0.8858</td>\n",
              "      <td>0.4351</td>\n",
              "      <td>0.5391</td>\n",
              "      <td>0.7100</td>\n",
              "      <td>1117.0</td>\n",
              "    </tr>\n",
              "    <tr>\n",
              "      <th>Random Forest (8)</th>\n",
              "      <td>0.194</td>\n",
              "      <td>0.852</td>\n",
              "      <td>0.4794</td>\n",
              "      <td>0.9417</td>\n",
              "      <td>0.6643</td>\n",
              "      <td>0.8826</td>\n",
              "      <td>0.4799</td>\n",
              "      <td>0.5569</td>\n",
              "      <td>0.7105</td>\n",
              "      <td>1150.0</td>\n",
              "    </tr>\n",
              "    <tr>\n",
              "      <th>Random Forest (16)</th>\n",
              "      <td>0.194</td>\n",
              "      <td>0.804</td>\n",
              "      <td>0.5155</td>\n",
              "      <td>0.8734</td>\n",
              "      <td>0.4950</td>\n",
              "      <td>0.8822</td>\n",
              "      <td>0.3830</td>\n",
              "      <td>0.5051</td>\n",
              "      <td>0.6945</td>\n",
              "      <td>1142.0</td>\n",
              "    </tr>\n",
              "    <tr>\n",
              "      <th>Random Forest (24)</th>\n",
              "      <td>0.194</td>\n",
              "      <td>0.804</td>\n",
              "      <td>0.5052</td>\n",
              "      <td>0.8759</td>\n",
              "      <td>0.4949</td>\n",
              "      <td>0.8803</td>\n",
              "      <td>0.3782</td>\n",
              "      <td>0.5000</td>\n",
              "      <td>0.6905</td>\n",
              "      <td>1158.0</td>\n",
              "    </tr>\n",
              "  </tbody>\n",
              "</table>\n",
              "</div>"
            ]
          },
          "metadata": {
            "tags": []
          },
          "execution_count": 286
        }
      ]
    },
    {
      "cell_type": "markdown",
      "metadata": {
        "id": "6aATBoI5khr0",
        "colab_type": "text"
      },
      "source": [
        "\n",
        "\n",
        "---\n",
        "\n"
      ]
    },
    {
      "cell_type": "markdown",
      "metadata": {
        "id": "gJTzEY5bq9HX",
        "colab_type": "text"
      },
      "source": [
        "### Quais as variáveis que são mais relevantes nesse problema?"
      ]
    },
    {
      "cell_type": "code",
      "metadata": {
        "id": "ouOK3nAmDn09",
        "colab_type": "code",
        "colab": {
          "base_uri": "https://localhost:8080/",
          "height": 382
        },
        "outputId": "62c2eab2-5284-4c2f-d11a-add06e773d57"
      },
      "source": [
        "nomes = list(Xtreino.columns)\n",
        "x = np.arange(len(nomes))\n",
        "y = arvore12.feature_importances_\n",
        " \n",
        "plt.style.use('ggplot')\n",
        "data = pd.DataFrame({'Importância': y}, index = nomes) \n",
        "data.sort_values(by = 'Importância').plot(kind = 'barh', colormap = 'Dark2')\n",
        "plt.title('Gráfico de importância das variáveis')\n",
        "plt.show()"
      ],
      "execution_count": null,
      "outputs": [
        {
          "output_type": "display_data",
          "data": {
            "image/png": "[encoded data removed]",
            "text/plain": [
              "<Figure size 600x400 with 1 Axes>"
            ]
          },
          "metadata": {
            "tags": []
          }
        }
      ]
    },
    {
      "cell_type": "markdown",
      "metadata": {
        "id": "ZLsPBMXkkgfJ",
        "colab_type": "text"
      },
      "source": [
        "\n",
        "\n",
        "---\n",
        "\n"
      ]
    },
    {
      "cell_type": "markdown",
      "metadata": {
        "id": "Qx104lLyrBrf",
        "colab_type": "text"
      },
      "source": [
        "### Enfim, qual estratégia tomar agora?"
      ]
    },
    {
      "cell_type": "markdown",
      "metadata": {
        "id": "kltqJ3AjPAN8",
        "colab_type": "text"
      },
      "source": [
        "De acordo com nossos resultados preliminares, temos que o modelo baseado em Árvore de Decisão, com profundidade igual 12, retorna o menor custo na amostra de validação. \n",
        "\n",
        "Vamos utilizar o método predict_proba para prever as probabilidades de cada indivíduo na amostra de validação entrar em churn e classificá-los em faixas.\n",
        "\n",
        "Podemos compor as faixas da seguinte maneira:\n",
        "\n",
        "- 0% - 25% de probabilidade de Churn: Ações de Marketing Leves\n",
        "- 25% - 50% de probabilidade de Churn: Ações de Marketing Intermediárias\n",
        "- 50% - 75% de probabilidade de Churn: Ações de Marketing Fortes\n",
        "- 75% - 100% de probabilidade de Churn: Ações de Marketing Agressivas"
      ]
    },
    {
      "cell_type": "code",
      "metadata": {
        "id": "NtIMkhurQCnM",
        "colab_type": "code",
        "colab": {}
      },
      "source": [
        "probs = pd.DataFrame(arvore12.predict_proba(Xvalid))\n",
        "\n",
        "def aux(x):\n",
        "    if x < 0.25:\n",
        "        return 'Leve'\n",
        "    elif x < 0.5:\n",
        "        return 'Intermediário'\n",
        "    elif x < 0.75:\n",
        "        return 'Forte'\n",
        "    else:\n",
        "        return 'Agressivo'\n",
        "\n",
        "probs['Campanha'] = probs[1].apply(aux)"
      ],
      "execution_count": null,
      "outputs": []
    },
    {
      "cell_type": "code",
      "metadata": {
        "id": "uWvFX4uV9MZg",
        "colab_type": "code",
        "colab": {}
      },
      "source": [
        "probs.head()"
      ],
      "execution_count": null,
      "outputs": []
    },
    {
      "cell_type": "code",
      "metadata": {
        "id": "GpPqh2GqRptC",
        "colab_type": "code",
        "colab": {
          "base_uri": "https://localhost:8080/",
          "height": 104
        },
        "outputId": "cde7aa67-ad1c-40c1-d3e8-b9f9cb752acc"
      },
      "source": [
        "probs['Campanha'].value_counts()"
      ],
      "execution_count": null,
      "outputs": [
        {
          "output_type": "execute_result",
          "data": {
            "text/plain": [
              "Leve             761\n",
              "Agressivo        127\n",
              "Intermediário     90\n",
              "Forte             22\n",
              "Name: Campanha, dtype: int64"
            ]
          },
          "metadata": {
            "tags": []
          },
          "execution_count": 290
        }
      ]
    },
    {
      "cell_type": "code",
      "metadata": {
        "id": "sqX1oLPkQpzd",
        "colab_type": "code",
        "colab": {
          "base_uri": "https://localhost:8080/",
          "height": 382
        },
        "outputId": "784f5bfc-0796-460d-bc17-13d3118262e8"
      },
      "source": [
        "probs['Campanha'].value_counts().sort_values(ascending = True).plot(kind = 'barh')\n",
        "plt.title('Quantidade de clientes em cada ação a ser tomada')\n",
        "plt.show()"
      ],
      "execution_count": null,
      "outputs": [
        {
          "output_type": "display_data",
          "data": {
            "image/png": "[encoded data removed]",
            "text/plain": [
              "<Figure size 600x400 with 1 Axes>"
            ]
          },
          "metadata": {
            "tags": []
          }
        }
      ]
    },
    {
      "cell_type": "markdown",
      "metadata": {
        "id": "zPrsaN6Lkejk",
        "colab_type": "text"
      },
      "source": [
        "\n",
        "\n",
        "---\n",
        "\n"
      ]
    },
    {
      "cell_type": "markdown",
      "metadata": {
        "id": "gHnoQ9N7R8Dd",
        "colab_type": "text"
      },
      "source": [
        "## **Exercício Final**\n",
        "\n",
        "Faça um projeto com suas ideias e adicione ao seu portfólio!"
      ]
    },
    {
      "cell_type": "markdown",
      "metadata": {
        "colab_type": "text",
        "id": "-nBEEw-Ojy2E"
      },
      "source": [
        "## **Links Úteis**\n",
        "\n",
        "- [Conjunto de dados de Churn no kaggle](https://www.kaggle.com/shubh0799/churn-modelling)"
      ]
    }
  ]
}