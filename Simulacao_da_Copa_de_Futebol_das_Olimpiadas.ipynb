{
  "nbformat": 4,
  "nbformat_minor": 0,
  "metadata": {
    "colab": {
      "name": "Simulacao da Copa de Futebol das Olimpiadas.ipynb",
      "provenance": [],
      "authorship_tag": "ABX9TyPaWbNWEwEBkYMB4AcaOL5O",
      "include_colab_link": true
    },
    "kernelspec": {
      "name": "python3",
      "display_name": "Python 3"
    },
    "language_info": {
      "name": "python"
    }
  },
  "cells": [
    {
      "cell_type": "markdown",
      "metadata": {
        "id": "view-in-github",
        "colab_type": "text"
      },
      "source": [
        "<a href=\"https://colab.research.google.com/github/ricardorocha86/Python-para-Machine-Learning/blob/master/Simulacao_da_Copa_de_Futebol_das_Olimpiadas.ipynb\" target=\"_parent\"><img src=\"https://colab.research.google.com/assets/colab-badge.svg\" alt=\"Open In Colab\"/></a>"
      ]
    },
    {
      "cell_type": "markdown",
      "metadata": {
        "id": "GL0KK35drDQl"
      },
      "source": [
        "# **Simulação da Copa de Futebol das Olimpíadas!**"
      ]
    },
    {
      "cell_type": "markdown",
      "metadata": {
        "id": "_nXOba9xrKYU"
      },
      "source": [
        "## **Objetivo**\n",
        "\n",
        "Investigar as probabilidades dos jogos de futebol na Copa das Olimpíadas de Tóquio 2021."
      ]
    },
    {
      "cell_type": "markdown",
      "metadata": {
        "id": "qm36EtrQO362"
      },
      "source": [
        "## **Perguntas** \n",
        "\n",
        "1. Qual seleção é mais provável ser campeã?\n",
        "2. Quais as probabilidades das seleções avançarem para segunda fase?\n",
        "3. Quais as probabilidades das seleções ficarem em 1º, 2º, 3º e 4º em seus grupos na primeira fase?\n",
        "4. A força de uma equipe é proporcional a sua probabilidade de vencer a competição? Se não, porquê?\n",
        "5. Qual a probabilidade de todos cabeça de chave passarem simultâneamente para a segunda fase? (Probabilidade da 'zebra')\n",
        "\n",
        "6. Qual a probabilidade de pelo menos uma das quatro seleções mais fracas ganhar a competição?\n",
        "7. Qual a probabilidade de vencer a competição por confederação?\n",
        "8. Qual a probabilidade de uma seleção sem medalhas em sua história vencer a competição?\n",
        "\n",
        "9. Se o Brasil jogar com a Alemanha, qual a probabilidade de acontecer um 7x1 para a Alemanha? E um 7x1 para o Brasil? Quais os placares mais prováveis?\n",
        "10. Qual a probabilidade de cada grupo apresentar um campeão?\n",
        "\n",
        "\n"
      ]
    },
    {
      "cell_type": "markdown",
      "metadata": {
        "id": "OKY5q9vjjvAn"
      },
      "source": [
        "![](https://pbs.twimg.com/media/EzfBqoFXMAAdvOR?format=jpg&name=large)"
      ]
    },
    {
      "cell_type": "markdown",
      "metadata": {
        "id": "LhDKOhiA8WpN"
      },
      "source": [
        "## Importação dos Dados"
      ]
    },
    {
      "cell_type": "code",
      "metadata": {
        "id": "IUhDB4fBIb9r"
      },
      "source": [
        "import pandas as pd\n",
        "import random\n",
        "import matplotlib.pyplot as plt\n",
        "import numpy as np\n",
        "from scipy.stats import poisson\n",
        "from collections import Counter"
      ],
      "execution_count": 109,
      "outputs": []
    },
    {
      "cell_type": "code",
      "metadata": {
        "id": "ibBGCgoiRu3r"
      },
      "source": [
        "from google.colab import auth\n",
        "auth.authenticate_user()\n",
        "\n",
        "from oauth2client.client import GoogleCredentials\n",
        "import gspread\n",
        "gc = gspread.authorize(GoogleCredentials.get_application_default())\n",
        "wb = gc.open_by_url('https://docs.google.com/spreadsheets/d/1dJrLGRMZvk-NU1O2AyNKFoIgTtrvosBKpof-fzBOWVE/edit#gid=0')"
      ],
      "execution_count": 2,
      "outputs": []
    },
    {
      "cell_type": "code",
      "metadata": {
        "id": "xxiRbXHFikqD",
        "colab": {
          "base_uri": "https://localhost:8080/",
          "height": 330
        },
        "outputId": "7459b1ec-69d1-4614-f4d0-76a6117d5936"
      },
      "source": [
        "planilha = wb.worksheet('seleções')\n",
        "dados_cru = planilha.get_all_values()\n",
        "dados = pd.DataFrame(dados_cru)\n",
        "dados.head()"
      ],
      "execution_count": 3,
      "outputs": [
        {
          "output_type": "execute_result",
          "data": {
            "text/html": [
              "<div>\n",
              "<style scoped>\n",
              "    .dataframe tbody tr th:only-of-type {\n",
              "        vertical-align: middle;\n",
              "    }\n",
              "\n",
              "    .dataframe tbody tr th {\n",
              "        vertical-align: top;\n",
              "    }\n",
              "\n",
              "    .dataframe thead th {\n",
              "        text-align: right;\n",
              "    }\n",
              "</style>\n",
              "<table border=\"1\" class=\"dataframe\">\n",
              "  <thead>\n",
              "    <tr style=\"text-align: right;\">\n",
              "      <th></th>\n",
              "      <th>0</th>\n",
              "      <th>1</th>\n",
              "      <th>2</th>\n",
              "      <th>3</th>\n",
              "      <th>4</th>\n",
              "      <th>5</th>\n",
              "      <th>6</th>\n",
              "      <th>7</th>\n",
              "      <th>8</th>\n",
              "      <th>9</th>\n",
              "      <th>10</th>\n",
              "    </tr>\n",
              "  </thead>\n",
              "  <tbody>\n",
              "    <tr>\n",
              "      <th>0</th>\n",
              "      <td>País</td>\n",
              "      <td>Nome FIFA</td>\n",
              "      <td>Grupo</td>\n",
              "      <td>Confederação</td>\n",
              "      <td>Bandeira</td>\n",
              "      <td>Cabeça-de-chave</td>\n",
              "      <td>Ranking FIFA (07/04)</td>\n",
              "      <td>Pontuação FIFA (07/04)</td>\n",
              "      <td>Ouros</td>\n",
              "      <td>Pratas</td>\n",
              "      <td>Bronzes</td>\n",
              "    </tr>\n",
              "    <tr>\n",
              "      <th>1</th>\n",
              "      <td>França</td>\n",
              "      <td>France</td>\n",
              "      <td>A</td>\n",
              "      <td>UEFA</td>\n",
              "      <td>https://upload.wikimedia.org/wikipedia/commons...</td>\n",
              "      <td>Sim</td>\n",
              "      <td>2</td>\n",
              "      <td>1757</td>\n",
              "      <td>1</td>\n",
              "      <td>1</td>\n",
              "      <td>0</td>\n",
              "    </tr>\n",
              "    <tr>\n",
              "      <th>2</th>\n",
              "      <td>Brasil</td>\n",
              "      <td>Brazil</td>\n",
              "      <td>D</td>\n",
              "      <td>CONMEBOL</td>\n",
              "      <td>https://upload.wikimedia.org/wikipedia/commons...</td>\n",
              "      <td>Sim</td>\n",
              "      <td>3</td>\n",
              "      <td>1742</td>\n",
              "      <td>1</td>\n",
              "      <td>3</td>\n",
              "      <td>2</td>\n",
              "    </tr>\n",
              "    <tr>\n",
              "      <th>3</th>\n",
              "      <td>Espanha</td>\n",
              "      <td>Spain</td>\n",
              "      <td>C</td>\n",
              "      <td>UEFA</td>\n",
              "      <td>https://upload.wikimedia.org/wikipedia/commons...</td>\n",
              "      <td>Sim</td>\n",
              "      <td>6</td>\n",
              "      <td>1648</td>\n",
              "      <td>1</td>\n",
              "      <td>2</td>\n",
              "      <td>0</td>\n",
              "    </tr>\n",
              "    <tr>\n",
              "      <th>4</th>\n",
              "      <td>Argentina</td>\n",
              "      <td>Argentina</td>\n",
              "      <td>C</td>\n",
              "      <td>CONMEBOL</td>\n",
              "      <td>https://upload.wikimedia.org/wikipedia/commons...</td>\n",
              "      <td>Não</td>\n",
              "      <td>8</td>\n",
              "      <td>1641</td>\n",
              "      <td>2</td>\n",
              "      <td>2</td>\n",
              "      <td>0</td>\n",
              "    </tr>\n",
              "  </tbody>\n",
              "</table>\n",
              "</div>"
            ],
            "text/plain": [
              "          0          1      2   ...     8       9        10\n",
              "0       País  Nome FIFA  Grupo  ...  Ouros  Pratas  Bronzes\n",
              "1     França     France      A  ...      1       1        0\n",
              "2     Brasil     Brazil      D  ...      1       3        2\n",
              "3    Espanha      Spain      C  ...      1       2        0\n",
              "4  Argentina  Argentina      C  ...      2       2        0\n",
              "\n",
              "[5 rows x 11 columns]"
            ]
          },
          "metadata": {
            "tags": []
          },
          "execution_count": 3
        }
      ]
    },
    {
      "cell_type": "code",
      "metadata": {
        "colab": {
          "base_uri": "https://localhost:8080/",
          "height": 884
        },
        "id": "H_lbxiQQD1sg",
        "outputId": "aff0e2d0-1a4b-42cd-be00-4b22807eafcf"
      },
      "source": [
        "dados.columns = dados.iloc[0]\n",
        "dados = dados.iloc[1:]\n",
        "dados"
      ],
      "execution_count": 4,
      "outputs": [
        {
          "output_type": "execute_result",
          "data": {
            "text/html": [
              "<div>\n",
              "<style scoped>\n",
              "    .dataframe tbody tr th:only-of-type {\n",
              "        vertical-align: middle;\n",
              "    }\n",
              "\n",
              "    .dataframe tbody tr th {\n",
              "        vertical-align: top;\n",
              "    }\n",
              "\n",
              "    .dataframe thead th {\n",
              "        text-align: right;\n",
              "    }\n",
              "</style>\n",
              "<table border=\"1\" class=\"dataframe\">\n",
              "  <thead>\n",
              "    <tr style=\"text-align: right;\">\n",
              "      <th></th>\n",
              "      <th>País</th>\n",
              "      <th>Nome FIFA</th>\n",
              "      <th>Grupo</th>\n",
              "      <th>Confederação</th>\n",
              "      <th>Bandeira</th>\n",
              "      <th>Cabeça-de-chave</th>\n",
              "      <th>Ranking FIFA (07/04)</th>\n",
              "      <th>Pontuação FIFA (07/04)</th>\n",
              "      <th>Ouros</th>\n",
              "      <th>Pratas</th>\n",
              "      <th>Bronzes</th>\n",
              "    </tr>\n",
              "  </thead>\n",
              "  <tbody>\n",
              "    <tr>\n",
              "      <th>1</th>\n",
              "      <td>França</td>\n",
              "      <td>France</td>\n",
              "      <td>A</td>\n",
              "      <td>UEFA</td>\n",
              "      <td>https://upload.wikimedia.org/wikipedia/commons...</td>\n",
              "      <td>Sim</td>\n",
              "      <td>2</td>\n",
              "      <td>1757</td>\n",
              "      <td>1</td>\n",
              "      <td>1</td>\n",
              "      <td>0</td>\n",
              "    </tr>\n",
              "    <tr>\n",
              "      <th>2</th>\n",
              "      <td>Brasil</td>\n",
              "      <td>Brazil</td>\n",
              "      <td>D</td>\n",
              "      <td>CONMEBOL</td>\n",
              "      <td>https://upload.wikimedia.org/wikipedia/commons...</td>\n",
              "      <td>Sim</td>\n",
              "      <td>3</td>\n",
              "      <td>1742</td>\n",
              "      <td>1</td>\n",
              "      <td>3</td>\n",
              "      <td>2</td>\n",
              "    </tr>\n",
              "    <tr>\n",
              "      <th>3</th>\n",
              "      <td>Espanha</td>\n",
              "      <td>Spain</td>\n",
              "      <td>C</td>\n",
              "      <td>UEFA</td>\n",
              "      <td>https://upload.wikimedia.org/wikipedia/commons...</td>\n",
              "      <td>Sim</td>\n",
              "      <td>6</td>\n",
              "      <td>1648</td>\n",
              "      <td>1</td>\n",
              "      <td>2</td>\n",
              "      <td>0</td>\n",
              "    </tr>\n",
              "    <tr>\n",
              "      <th>4</th>\n",
              "      <td>Argentina</td>\n",
              "      <td>Argentina</td>\n",
              "      <td>C</td>\n",
              "      <td>CONMEBOL</td>\n",
              "      <td>https://upload.wikimedia.org/wikipedia/commons...</td>\n",
              "      <td>Não</td>\n",
              "      <td>8</td>\n",
              "      <td>1641</td>\n",
              "      <td>2</td>\n",
              "      <td>2</td>\n",
              "      <td>0</td>\n",
              "    </tr>\n",
              "    <tr>\n",
              "      <th>5</th>\n",
              "      <td>México</td>\n",
              "      <td>Mexico</td>\n",
              "      <td>A</td>\n",
              "      <td>CONCACAF</td>\n",
              "      <td>https://upload.wikimedia.org/wikipedia/commons...</td>\n",
              "      <td>Não</td>\n",
              "      <td>11</td>\n",
              "      <td>1629</td>\n",
              "      <td>1</td>\n",
              "      <td>0</td>\n",
              "      <td>0</td>\n",
              "    </tr>\n",
              "    <tr>\n",
              "      <th>6</th>\n",
              "      <td>Alemanha</td>\n",
              "      <td>Germany</td>\n",
              "      <td>D</td>\n",
              "      <td>UEFA</td>\n",
              "      <td>https://upload.wikimedia.org/wikipedia/commons...</td>\n",
              "      <td>Não</td>\n",
              "      <td>12</td>\n",
              "      <td>1609</td>\n",
              "      <td>1</td>\n",
              "      <td>1</td>\n",
              "      <td>1</td>\n",
              "    </tr>\n",
              "    <tr>\n",
              "      <th>7</th>\n",
              "      <td>Honduras</td>\n",
              "      <td>Honduras</td>\n",
              "      <td>B</td>\n",
              "      <td>CONCACAF</td>\n",
              "      <td>https://upload.wikimedia.org/wikipedia/commons...</td>\n",
              "      <td>Não</td>\n",
              "      <td>67</td>\n",
              "      <td>1361</td>\n",
              "      <td>0</td>\n",
              "      <td>0</td>\n",
              "      <td>0</td>\n",
              "    </tr>\n",
              "    <tr>\n",
              "      <th>8</th>\n",
              "      <td>Japão</td>\n",
              "      <td>Japan</td>\n",
              "      <td>A</td>\n",
              "      <td>AFC</td>\n",
              "      <td>https://upload.wikimedia.org/wikipedia/commons...</td>\n",
              "      <td>Não</td>\n",
              "      <td>28</td>\n",
              "      <td>1509</td>\n",
              "      <td>0</td>\n",
              "      <td>0</td>\n",
              "      <td>0</td>\n",
              "    </tr>\n",
              "    <tr>\n",
              "      <th>9</th>\n",
              "      <td>Romênia</td>\n",
              "      <td>Romania</td>\n",
              "      <td>B</td>\n",
              "      <td>UEFA</td>\n",
              "      <td>https://upload.wikimedia.org/wikipedia/commons...</td>\n",
              "      <td>Não</td>\n",
              "      <td>43</td>\n",
              "      <td>1449</td>\n",
              "      <td>0</td>\n",
              "      <td>0</td>\n",
              "      <td>0</td>\n",
              "    </tr>\n",
              "    <tr>\n",
              "      <th>10</th>\n",
              "      <td>Coréia do Sul</td>\n",
              "      <td>Korea Republic</td>\n",
              "      <td>B</td>\n",
              "      <td>AFC</td>\n",
              "      <td>https://upload.wikimedia.org/wikipedia/commons...</td>\n",
              "      <td>Sim</td>\n",
              "      <td>39</td>\n",
              "      <td>1460</td>\n",
              "      <td>0</td>\n",
              "      <td>0</td>\n",
              "      <td>0</td>\n",
              "    </tr>\n",
              "    <tr>\n",
              "      <th>11</th>\n",
              "      <td>Austrália</td>\n",
              "      <td>Australia</td>\n",
              "      <td>C</td>\n",
              "      <td>AFC</td>\n",
              "      <td>https://upload.wikimedia.org/wikipedia/commons...</td>\n",
              "      <td>Não</td>\n",
              "      <td>41</td>\n",
              "      <td>1457</td>\n",
              "      <td>0</td>\n",
              "      <td>0</td>\n",
              "      <td>0</td>\n",
              "    </tr>\n",
              "    <tr>\n",
              "      <th>12</th>\n",
              "      <td>Egito</td>\n",
              "      <td>Egypt</td>\n",
              "      <td>C</td>\n",
              "      <td>CAF</td>\n",
              "      <td>https://upload.wikimedia.org/wikipedia/commons...</td>\n",
              "      <td>Não</td>\n",
              "      <td>46</td>\n",
              "      <td>1432</td>\n",
              "      <td>0</td>\n",
              "      <td>0</td>\n",
              "      <td>0</td>\n",
              "    </tr>\n",
              "    <tr>\n",
              "      <th>13</th>\n",
              "      <td>Costa do Marfim</td>\n",
              "      <td>Côte d'Ivoire</td>\n",
              "      <td>D</td>\n",
              "      <td>CAF</td>\n",
              "      <td>https://upload.wikimedia.org/wikipedia/commons...</td>\n",
              "      <td>Não</td>\n",
              "      <td>59</td>\n",
              "      <td>1384</td>\n",
              "      <td>0</td>\n",
              "      <td>0</td>\n",
              "      <td>0</td>\n",
              "    </tr>\n",
              "    <tr>\n",
              "      <th>14</th>\n",
              "      <td>Arábia Saudita</td>\n",
              "      <td>Saudi Arabia</td>\n",
              "      <td>D</td>\n",
              "      <td>AFC</td>\n",
              "      <td>https://upload.wikimedia.org/wikipedia/commons...</td>\n",
              "      <td>Não</td>\n",
              "      <td>65</td>\n",
              "      <td>1364</td>\n",
              "      <td>0</td>\n",
              "      <td>0</td>\n",
              "      <td>0</td>\n",
              "    </tr>\n",
              "    <tr>\n",
              "      <th>15</th>\n",
              "      <td>África do Sul</td>\n",
              "      <td>South Africa</td>\n",
              "      <td>A</td>\n",
              "      <td>CAF</td>\n",
              "      <td>https://upload.wikimedia.org/wikipedia/commons...</td>\n",
              "      <td>Não</td>\n",
              "      <td>75</td>\n",
              "      <td>1325</td>\n",
              "      <td>0</td>\n",
              "      <td>0</td>\n",
              "      <td>0</td>\n",
              "    </tr>\n",
              "    <tr>\n",
              "      <th>16</th>\n",
              "      <td>Nova Zelândia</td>\n",
              "      <td>New Zealand</td>\n",
              "      <td>B</td>\n",
              "      <td>OFC</td>\n",
              "      <td>https://upload.wikimedia.org/wikipedia/commons...</td>\n",
              "      <td>Não</td>\n",
              "      <td>122</td>\n",
              "      <td>1149</td>\n",
              "      <td>0</td>\n",
              "      <td>0</td>\n",
              "      <td>0</td>\n",
              "    </tr>\n",
              "  </tbody>\n",
              "</table>\n",
              "</div>"
            ],
            "text/plain": [
              "0              País       Nome FIFA Grupo  ... Ouros Pratas Bronzes\n",
              "1            França          France     A  ...     1      1       0\n",
              "2            Brasil          Brazil     D  ...     1      3       2\n",
              "3           Espanha           Spain     C  ...     1      2       0\n",
              "4         Argentina       Argentina     C  ...     2      2       0\n",
              "5            México          Mexico     A  ...     1      0       0\n",
              "6          Alemanha         Germany     D  ...     1      1       1\n",
              "7          Honduras        Honduras     B  ...     0      0       0\n",
              "8             Japão           Japan     A  ...     0      0       0\n",
              "9           Romênia         Romania     B  ...     0      0       0\n",
              "10    Coréia do Sul  Korea Republic     B  ...     0      0       0\n",
              "11        Austrália       Australia     C  ...     0      0       0\n",
              "12            Egito           Egypt     C  ...     0      0       0\n",
              "13  Costa do Marfim   Côte d'Ivoire     D  ...     0      0       0\n",
              "14   Arábia Saudita    Saudi Arabia     D  ...     0      0       0\n",
              "15    África do Sul    South Africa     A  ...     0      0       0\n",
              "16    Nova Zelândia     New Zealand     B  ...     0      0       0\n",
              "\n",
              "[16 rows x 11 columns]"
            ]
          },
          "metadata": {
            "tags": []
          },
          "execution_count": 4
        }
      ]
    },
    {
      "cell_type": "markdown",
      "metadata": {
        "id": "tb3WqoRTkp6z"
      },
      "source": [
        "## Gráficos dos Grupos\n",
        "\n"
      ]
    },
    {
      "cell_type": "code",
      "metadata": {
        "id": "56t_MdOarPsP",
        "colab": {
          "base_uri": "https://localhost:8080/",
          "height": 946
        },
        "outputId": "1bd8ddda-f0ec-447d-86b2-ac82d3abb474"
      },
      "source": [
        "def plotgrupo(grupo = 'A', salvar = False):\n",
        "    d = dados.loc[dados['Grupo'] == grupo]\n",
        "    fig = plt.figure(figsize = (4, 3))\n",
        "    for i in range(4):\n",
        "        ax = plt.subplot(2, 2, i + 1) \n",
        "        a = plt.imread(d['Bandeira'].iloc[i])\n",
        "        ax.get_xaxis().set_visible(False)\n",
        "        ax.get_yaxis().set_visible(False)\n",
        "        plt.title(d['País'].iloc[i], size = 10)\n",
        "        plt.imshow(a)\n",
        "    plt.tight_layout(w_pad = 2) \n",
        "    plt.suptitle('Grupo ' + grupo, size = 14, y = 1.05)\n",
        "    if salvar:\n",
        "        plt.savefig('grupo' + grupo + '.png', transparent = True)\n",
        "\n",
        "plotgrupo('A', True)\n",
        "plotgrupo('B')\n",
        "plotgrupo('C')\n",
        "plotgrupo('D')"
      ],
      "execution_count": 6,
      "outputs": [
        {
          "output_type": "display_data",
          "data": {
            "image/png": "[encoded data removed]",
            "text/plain": [
              "<Figure size 288x216 with 4 Axes>"
            ]
          },
          "metadata": {
            "tags": [],
            "needs_background": "light"
          }
        },
        {
          "output_type": "display_data",
          "data": {
            "image/png": "[encoded data removed]",
            "text/plain": [
              "<Figure size 288x216 with 4 Axes>"
            ]
          },
          "metadata": {
            "tags": [],
            "needs_background": "light"
          }
        },
        {
          "output_type": "display_data",
          "data": {
            "image/png": "[encoded data removed]",
            "text/plain": [
              "<Figure size 288x216 with 4 Axes>"
            ]
          },
          "metadata": {
            "tags": [],
            "needs_background": "light"
          }
        },
        {
          "output_type": "display_data",
          "data": {
            "image/png": "[encoded data removed]",
            "text/plain": [
              "<Figure size 288x216 with 4 Axes>"
            ]
          },
          "metadata": {
            "tags": [],
            "needs_background": "light"
          }
        }
      ]
    },
    {
      "cell_type": "markdown",
      "metadata": {
        "id": "b-oOpVX02Csl"
      },
      "source": [
        "## Criando a variável **Força** de cada seleção"
      ]
    },
    {
      "cell_type": "code",
      "metadata": {
        "colab": {
          "base_uri": "https://localhost:8080/"
        },
        "id": "USXZ3ztYnI1P",
        "outputId": "d12eee88-d9ed-4f82-bbf5-ddb08e46ac6a"
      },
      "source": [
        "dados.info()"
      ],
      "execution_count": 7,
      "outputs": [
        {
          "output_type": "stream",
          "text": [
            "<class 'pandas.core.frame.DataFrame'>\n",
            "RangeIndex: 16 entries, 1 to 16\n",
            "Data columns (total 11 columns):\n",
            " #   Column                  Non-Null Count  Dtype \n",
            "---  ------                  --------------  ----- \n",
            " 0   País                    16 non-null     object\n",
            " 1   Nome FIFA               16 non-null     object\n",
            " 2   Grupo                   16 non-null     object\n",
            " 3   Confederação            16 non-null     object\n",
            " 4   Bandeira                16 non-null     object\n",
            " 5   Cabeça-de-chave         16 non-null     object\n",
            " 6   Ranking FIFA (07/04)    16 non-null     object\n",
            " 7   Pontuação FIFA (07/04)  16 non-null     object\n",
            " 8   Ouros                   16 non-null     object\n",
            " 9   Pratas                  16 non-null     object\n",
            " 10  Bronzes                 16 non-null     object\n",
            "dtypes: object(11)\n",
            "memory usage: 1.5+ KB\n"
          ],
          "name": "stdout"
        }
      ]
    },
    {
      "cell_type": "code",
      "metadata": {
        "id": "SFEgeUDomqvK"
      },
      "source": [
        "for i in ['Ranking FIFA (07/04)', 'Pontuação FIFA (07/04)', 'Ouros', 'Pratas', 'Bronzes']:\n",
        "    dados[i] = dados[i].astype(int)"
      ],
      "execution_count": 9,
      "outputs": []
    },
    {
      "cell_type": "code",
      "metadata": {
        "id": "oYROsJ2TtBwv"
      },
      "source": [
        "M = max(dados['Pontuação FIFA (07/04)'])\n",
        "dados['Força'] = (1.2 * dados['Pontuação FIFA (07/04)']/M)**2"
      ],
      "execution_count": 106,
      "outputs": []
    },
    {
      "cell_type": "code",
      "metadata": {
        "colab": {
          "base_uri": "https://localhost:8080/",
          "height": 884
        },
        "id": "T9u2g3YLl5pg",
        "outputId": "81fb1694-a355-46e8-e8c8-6aaf1d9758f1"
      },
      "source": [
        "dados"
      ],
      "execution_count": 107,
      "outputs": [
        {
          "output_type": "execute_result",
          "data": {
            "text/html": [
              "<div>\n",
              "<style scoped>\n",
              "    .dataframe tbody tr th:only-of-type {\n",
              "        vertical-align: middle;\n",
              "    }\n",
              "\n",
              "    .dataframe tbody tr th {\n",
              "        vertical-align: top;\n",
              "    }\n",
              "\n",
              "    .dataframe thead th {\n",
              "        text-align: right;\n",
              "    }\n",
              "</style>\n",
              "<table border=\"1\" class=\"dataframe\">\n",
              "  <thead>\n",
              "    <tr style=\"text-align: right;\">\n",
              "      <th></th>\n",
              "      <th>País</th>\n",
              "      <th>Nome FIFA</th>\n",
              "      <th>Grupo</th>\n",
              "      <th>Confederação</th>\n",
              "      <th>Bandeira</th>\n",
              "      <th>Cabeça-de-chave</th>\n",
              "      <th>Ranking FIFA (07/04)</th>\n",
              "      <th>Pontuação FIFA (07/04)</th>\n",
              "      <th>Ouros</th>\n",
              "      <th>Pratas</th>\n",
              "      <th>Bronzes</th>\n",
              "      <th>Força</th>\n",
              "    </tr>\n",
              "  </thead>\n",
              "  <tbody>\n",
              "    <tr>\n",
              "      <th>1</th>\n",
              "      <td>França</td>\n",
              "      <td>France</td>\n",
              "      <td>A</td>\n",
              "      <td>UEFA</td>\n",
              "      <td>https://upload.wikimedia.org/wikipedia/commons...</td>\n",
              "      <td>Sim</td>\n",
              "      <td>2</td>\n",
              "      <td>1757</td>\n",
              "      <td>1</td>\n",
              "      <td>1</td>\n",
              "      <td>0</td>\n",
              "      <td>1.440000</td>\n",
              "    </tr>\n",
              "    <tr>\n",
              "      <th>2</th>\n",
              "      <td>Brasil</td>\n",
              "      <td>Brazil</td>\n",
              "      <td>D</td>\n",
              "      <td>CONMEBOL</td>\n",
              "      <td>https://upload.wikimedia.org/wikipedia/commons...</td>\n",
              "      <td>Sim</td>\n",
              "      <td>3</td>\n",
              "      <td>1742</td>\n",
              "      <td>1</td>\n",
              "      <td>3</td>\n",
              "      <td>2</td>\n",
              "      <td>1.415518</td>\n",
              "    </tr>\n",
              "    <tr>\n",
              "      <th>3</th>\n",
              "      <td>Espanha</td>\n",
              "      <td>Spain</td>\n",
              "      <td>C</td>\n",
              "      <td>UEFA</td>\n",
              "      <td>https://upload.wikimedia.org/wikipedia/commons...</td>\n",
              "      <td>Sim</td>\n",
              "      <td>6</td>\n",
              "      <td>1648</td>\n",
              "      <td>1</td>\n",
              "      <td>2</td>\n",
              "      <td>0</td>\n",
              "      <td>1.266874</td>\n",
              "    </tr>\n",
              "    <tr>\n",
              "      <th>4</th>\n",
              "      <td>Argentina</td>\n",
              "      <td>Argentina</td>\n",
              "      <td>C</td>\n",
              "      <td>CONMEBOL</td>\n",
              "      <td>https://upload.wikimedia.org/wikipedia/commons...</td>\n",
              "      <td>Não</td>\n",
              "      <td>8</td>\n",
              "      <td>1641</td>\n",
              "      <td>2</td>\n",
              "      <td>2</td>\n",
              "      <td>0</td>\n",
              "      <td>1.256134</td>\n",
              "    </tr>\n",
              "    <tr>\n",
              "      <th>5</th>\n",
              "      <td>México</td>\n",
              "      <td>Mexico</td>\n",
              "      <td>A</td>\n",
              "      <td>CONCACAF</td>\n",
              "      <td>https://upload.wikimedia.org/wikipedia/commons...</td>\n",
              "      <td>Não</td>\n",
              "      <td>11</td>\n",
              "      <td>1629</td>\n",
              "      <td>1</td>\n",
              "      <td>0</td>\n",
              "      <td>0</td>\n",
              "      <td>1.237830</td>\n",
              "    </tr>\n",
              "    <tr>\n",
              "      <th>6</th>\n",
              "      <td>Alemanha</td>\n",
              "      <td>Germany</td>\n",
              "      <td>D</td>\n",
              "      <td>UEFA</td>\n",
              "      <td>https://upload.wikimedia.org/wikipedia/commons...</td>\n",
              "      <td>Não</td>\n",
              "      <td>12</td>\n",
              "      <td>1609</td>\n",
              "      <td>1</td>\n",
              "      <td>1</td>\n",
              "      <td>1</td>\n",
              "      <td>1.207622</td>\n",
              "    </tr>\n",
              "    <tr>\n",
              "      <th>7</th>\n",
              "      <td>Honduras</td>\n",
              "      <td>Honduras</td>\n",
              "      <td>B</td>\n",
              "      <td>CONCACAF</td>\n",
              "      <td>https://upload.wikimedia.org/wikipedia/commons...</td>\n",
              "      <td>Não</td>\n",
              "      <td>67</td>\n",
              "      <td>1361</td>\n",
              "      <td>0</td>\n",
              "      <td>0</td>\n",
              "      <td>0</td>\n",
              "      <td>0.864043</td>\n",
              "    </tr>\n",
              "    <tr>\n",
              "      <th>8</th>\n",
              "      <td>Japão</td>\n",
              "      <td>Japan</td>\n",
              "      <td>A</td>\n",
              "      <td>AFC</td>\n",
              "      <td>https://upload.wikimedia.org/wikipedia/commons...</td>\n",
              "      <td>Não</td>\n",
              "      <td>28</td>\n",
              "      <td>1509</td>\n",
              "      <td>0</td>\n",
              "      <td>0</td>\n",
              "      <td>0</td>\n",
              "      <td>1.062178</td>\n",
              "    </tr>\n",
              "    <tr>\n",
              "      <th>9</th>\n",
              "      <td>Romênia</td>\n",
              "      <td>Romania</td>\n",
              "      <td>B</td>\n",
              "      <td>UEFA</td>\n",
              "      <td>https://upload.wikimedia.org/wikipedia/commons...</td>\n",
              "      <td>Não</td>\n",
              "      <td>43</td>\n",
              "      <td>1449</td>\n",
              "      <td>0</td>\n",
              "      <td>0</td>\n",
              "      <td>0</td>\n",
              "      <td>0.979390</td>\n",
              "    </tr>\n",
              "    <tr>\n",
              "      <th>10</th>\n",
              "      <td>Coréia do Sul</td>\n",
              "      <td>Korea Republic</td>\n",
              "      <td>B</td>\n",
              "      <td>AFC</td>\n",
              "      <td>https://upload.wikimedia.org/wikipedia/commons...</td>\n",
              "      <td>Sim</td>\n",
              "      <td>39</td>\n",
              "      <td>1460</td>\n",
              "      <td>0</td>\n",
              "      <td>0</td>\n",
              "      <td>0</td>\n",
              "      <td>0.994317</td>\n",
              "    </tr>\n",
              "    <tr>\n",
              "      <th>11</th>\n",
              "      <td>Austrália</td>\n",
              "      <td>Australia</td>\n",
              "      <td>C</td>\n",
              "      <td>AFC</td>\n",
              "      <td>https://upload.wikimedia.org/wikipedia/commons...</td>\n",
              "      <td>Não</td>\n",
              "      <td>41</td>\n",
              "      <td>1457</td>\n",
              "      <td>0</td>\n",
              "      <td>0</td>\n",
              "      <td>0</td>\n",
              "      <td>0.990235</td>\n",
              "    </tr>\n",
              "    <tr>\n",
              "      <th>12</th>\n",
              "      <td>Egito</td>\n",
              "      <td>Egypt</td>\n",
              "      <td>C</td>\n",
              "      <td>CAF</td>\n",
              "      <td>https://upload.wikimedia.org/wikipedia/commons...</td>\n",
              "      <td>Não</td>\n",
              "      <td>46</td>\n",
              "      <td>1432</td>\n",
              "      <td>0</td>\n",
              "      <td>0</td>\n",
              "      <td>0</td>\n",
              "      <td>0.956544</td>\n",
              "    </tr>\n",
              "    <tr>\n",
              "      <th>13</th>\n",
              "      <td>Costa do Marfim</td>\n",
              "      <td>Côte d'Ivoire</td>\n",
              "      <td>D</td>\n",
              "      <td>CAF</td>\n",
              "      <td>https://upload.wikimedia.org/wikipedia/commons...</td>\n",
              "      <td>Não</td>\n",
              "      <td>59</td>\n",
              "      <td>1384</td>\n",
              "      <td>0</td>\n",
              "      <td>0</td>\n",
              "      <td>0</td>\n",
              "      <td>0.893493</td>\n",
              "    </tr>\n",
              "    <tr>\n",
              "      <th>14</th>\n",
              "      <td>Arábia Saudita</td>\n",
              "      <td>Saudi Arabia</td>\n",
              "      <td>D</td>\n",
              "      <td>AFC</td>\n",
              "      <td>https://upload.wikimedia.org/wikipedia/commons...</td>\n",
              "      <td>Não</td>\n",
              "      <td>65</td>\n",
              "      <td>1364</td>\n",
              "      <td>0</td>\n",
              "      <td>0</td>\n",
              "      <td>0</td>\n",
              "      <td>0.867856</td>\n",
              "    </tr>\n",
              "    <tr>\n",
              "      <th>15</th>\n",
              "      <td>África do Sul</td>\n",
              "      <td>South Africa</td>\n",
              "      <td>A</td>\n",
              "      <td>CAF</td>\n",
              "      <td>https://upload.wikimedia.org/wikipedia/commons...</td>\n",
              "      <td>Não</td>\n",
              "      <td>75</td>\n",
              "      <td>1325</td>\n",
              "      <td>0</td>\n",
              "      <td>0</td>\n",
              "      <td>0</td>\n",
              "      <td>0.818937</td>\n",
              "    </tr>\n",
              "    <tr>\n",
              "      <th>16</th>\n",
              "      <td>Nova Zelândia</td>\n",
              "      <td>New Zealand</td>\n",
              "      <td>B</td>\n",
              "      <td>OFC</td>\n",
              "      <td>https://upload.wikimedia.org/wikipedia/commons...</td>\n",
              "      <td>Não</td>\n",
              "      <td>122</td>\n",
              "      <td>1149</td>\n",
              "      <td>0</td>\n",
              "      <td>0</td>\n",
              "      <td>0</td>\n",
              "      <td>0.615827</td>\n",
              "    </tr>\n",
              "  </tbody>\n",
              "</table>\n",
              "</div>"
            ],
            "text/plain": [
              "0              País       Nome FIFA Grupo  ... Pratas Bronzes     Força\n",
              "1            França          France     A  ...      1       0  1.440000\n",
              "2            Brasil          Brazil     D  ...      3       2  1.415518\n",
              "3           Espanha           Spain     C  ...      2       0  1.266874\n",
              "4         Argentina       Argentina     C  ...      2       0  1.256134\n",
              "5            México          Mexico     A  ...      0       0  1.237830\n",
              "6          Alemanha         Germany     D  ...      1       1  1.207622\n",
              "7          Honduras        Honduras     B  ...      0       0  0.864043\n",
              "8             Japão           Japan     A  ...      0       0  1.062178\n",
              "9           Romênia         Romania     B  ...      0       0  0.979390\n",
              "10    Coréia do Sul  Korea Republic     B  ...      0       0  0.994317\n",
              "11        Austrália       Australia     C  ...      0       0  0.990235\n",
              "12            Egito           Egypt     C  ...      0       0  0.956544\n",
              "13  Costa do Marfim   Côte d'Ivoire     D  ...      0       0  0.893493\n",
              "14   Arábia Saudita    Saudi Arabia     D  ...      0       0  0.867856\n",
              "15    África do Sul    South Africa     A  ...      0       0  0.818937\n",
              "16    Nova Zelândia     New Zealand     B  ...      0       0  0.615827\n",
              "\n",
              "[16 rows x 12 columns]"
            ]
          },
          "metadata": {
            "tags": []
          },
          "execution_count": 107
        }
      ]
    },
    {
      "cell_type": "markdown",
      "metadata": {
        "id": "mmf--NEC795M"
      },
      "source": [
        "---"
      ]
    },
    {
      "cell_type": "markdown",
      "metadata": {
        "id": "eeQBDnWcmOCv"
      },
      "source": [
        "## Início das funções da simulação\n",
        "\n"
      ]
    },
    {
      "cell_type": "code",
      "metadata": {
        "id": "4KD9lAWE85gc",
        "colab": {
          "base_uri": "https://localhost:8080/",
          "height": 36
        },
        "outputId": "397cc5b3-3467-400d-be85-d767dcbf1f8d"
      },
      "source": [
        "# Função que retorna o resultado V, D ou E para as entradas dos gols de cada equipe eu uma partida simulada\n",
        "\n",
        "def Resultado(gols1, gols2):\n",
        "    if gols1 > gols2:\n",
        "        res = 'V'\n",
        "    if gols1 < gols2:\n",
        "        res = 'D' \n",
        "    if gols1 == gols2:\n",
        "        res = 'E'       \n",
        "    return res\n",
        "\n",
        "Resultado(2,2)"
      ],
      "execution_count": 19,
      "outputs": [
        {
          "output_type": "execute_result",
          "data": {
            "application/vnd.google.colaboratory.intrinsic+json": {
              "type": "string"
            },
            "text/plain": [
              "'E'"
            ]
          },
          "metadata": {
            "tags": []
          },
          "execution_count": 19
        }
      ]
    },
    {
      "cell_type": "code",
      "metadata": {
        "colab": {
          "base_uri": "https://localhost:8080/"
        },
        "id": "BMDTOhofnv4w",
        "outputId": "c3bfbdb4-2f7f-44c1-de40-8c245bbfab02"
      },
      "source": [
        "# Retorna os pontos de cada equipe ao fim da partida (primeira fase da copa)\n",
        "\n",
        "def Pontos(gols1, gols2):\n",
        "    rst = Resultado(gols1, gols2)\n",
        "    if rst == 'V':\n",
        "        pontos1, pontos2 = 3, 0\n",
        "    if rst == 'E':\n",
        "        pontos1, pontos2 = 1, 1\n",
        "    if rst == 'D':\n",
        "        pontos1, pontos2 = 0, 3\n",
        "    return pontos1, pontos2, rst\n",
        "\n",
        "Pontos(1, 2)"
      ],
      "execution_count": 21,
      "outputs": [
        {
          "output_type": "execute_result",
          "data": {
            "text/plain": [
              "(0, 3, 'D')"
            ]
          },
          "metadata": {
            "tags": []
          },
          "execution_count": 21
        }
      ]
    },
    {
      "cell_type": "code",
      "metadata": {
        "colab": {
          "base_uri": "https://localhost:8080/"
        },
        "id": "XKo1SCQsnwMf",
        "outputId": "bf73b11c-f232-40ec-ef80-ca1838d258dd"
      },
      "source": [
        "# Função para apresentar os resultados de cada jogo. \n",
        "# Entre a força das duas equipes e retorna os detalhes da partida simulada pela VA Poisson\n",
        "\n",
        "def Jogo(time1, time2):\n",
        "    gols1 = int(poisson.rvs(mu = time1, size = 1))\n",
        "    gols2 = int(poisson.rvs(mu = time2, size = 1)) \n",
        "    saldo1 = gols1 - gols2\n",
        "    saldo2 = -saldo1\n",
        "    pontos1, pontos2, result = Pontos(gols1, gols2)\n",
        "    placar = '{}x{}'.format(gols1, gols2)\n",
        "    return [gols1, gols2, saldo1, saldo2, pontos1, pontos2, result, placar]\n",
        "\n",
        "Jogo(1.2, 0.8)"
      ],
      "execution_count": 56,
      "outputs": [
        {
          "output_type": "execute_result",
          "data": {
            "text/plain": [
              "[2, 1, 1, -1, 3, 0, 'V', '2x1']"
            ]
          },
          "metadata": {
            "tags": []
          },
          "execution_count": 56
        }
      ]
    },
    {
      "cell_type": "code",
      "metadata": {
        "colab": {
          "base_uri": "https://localhost:8080/",
          "height": 175
        },
        "id": "1vKf1oudI6AX",
        "outputId": "6452ad23-5a38-43b5-bdea-90d93b579752"
      },
      "source": [
        "dados.loc[dados['Grupo'] == 'A'][['País', 'Força']].reset_index(drop = True)"
      ],
      "execution_count": 57,
      "outputs": [
        {
          "output_type": "execute_result",
          "data": {
            "text/html": [
              "<div>\n",
              "<style scoped>\n",
              "    .dataframe tbody tr th:only-of-type {\n",
              "        vertical-align: middle;\n",
              "    }\n",
              "\n",
              "    .dataframe tbody tr th {\n",
              "        vertical-align: top;\n",
              "    }\n",
              "\n",
              "    .dataframe thead th {\n",
              "        text-align: right;\n",
              "    }\n",
              "</style>\n",
              "<table border=\"1\" class=\"dataframe\">\n",
              "  <thead>\n",
              "    <tr style=\"text-align: right;\">\n",
              "      <th></th>\n",
              "      <th>País</th>\n",
              "      <th>Força</th>\n",
              "    </tr>\n",
              "  </thead>\n",
              "  <tbody>\n",
              "    <tr>\n",
              "      <th>0</th>\n",
              "      <td>França</td>\n",
              "      <td>1.314534</td>\n",
              "    </tr>\n",
              "    <tr>\n",
              "      <th>1</th>\n",
              "      <td>México</td>\n",
              "      <td>1.173534</td>\n",
              "    </tr>\n",
              "    <tr>\n",
              "      <th>2</th>\n",
              "      <td>Japão</td>\n",
              "      <td>1.046280</td>\n",
              "    </tr>\n",
              "    <tr>\n",
              "      <th>3</th>\n",
              "      <td>África do Sul</td>\n",
              "      <td>0.860871</td>\n",
              "    </tr>\n",
              "  </tbody>\n",
              "</table>\n",
              "</div>"
            ],
            "text/plain": [
              "0           País     Força\n",
              "0         França  1.314534\n",
              "1         México  1.173534\n",
              "2          Japão  1.046280\n",
              "3  África do Sul  0.860871"
            ]
          },
          "metadata": {
            "tags": []
          },
          "execution_count": 57
        }
      ]
    },
    {
      "cell_type": "code",
      "metadata": {
        "id": "_868PM6U9UA_",
        "colab": {
          "base_uri": "https://localhost:8080/"
        },
        "outputId": "9b47260f-0ccd-4538-bb71-8d96fc924536"
      },
      "source": [
        "def JogosGrupo(dados, grupo): \n",
        "    aux = dados.loc[dados['Grupo'] == grupo][['País', 'Força']].reset_index(drop = True)\n",
        "\n",
        "    time1, time2, time3, time4 = aux['Força']\n",
        "    nome1, nome2, nome3, nome4 = aux['País']\n",
        "\n",
        "    pt1, pt2, pt3, pt4 = 0, 0, 0, 0\n",
        "    gp1, gp2, gp3, gp4 = 0, 0, 0, 0\n",
        "    sg1, sg2, sg3, sg4 = 0, 0, 0, 0\n",
        "\n",
        "    jogo1 = Jogo(time1, time2)\n",
        "    jogo2 = Jogo(time3, time4)\n",
        "\n",
        "    jogo3 = Jogo(time1, time3)\n",
        "    jogo4 = Jogo(time2, time4)\n",
        "\n",
        "    jogo5 = Jogo(time1, time4)\n",
        "    jogo6 = Jogo(time2, time3)\n",
        "\n",
        "    gp1, gp2, sg1, sg2, pt1, pt2 = gp1 + jogo1[0], gp2 + jogo1[1], sg1 + jogo1[2], sg2 + jogo1[3], pt1 + jogo1[4], pt2 + jogo1[5]\n",
        "    gp3, gp4, sg3, sg4, pt3, pt4 = gp3 + jogo2[0], gp4 + jogo2[1], sg3 + jogo2[2], sg4 + jogo2[3], pt3 + jogo2[4], pt4 + jogo2[5]\n",
        "    gp1, gp3, sg1, sg3, pt1, pt3 = gp1 + jogo3[0], gp3 + jogo3[1], sg1 + jogo3[2], sg3 + jogo3[3], pt1 + jogo3[4], pt3 + jogo3[5]\n",
        "    gp2, gp4, sg2, sg4, pt2, pt4 = gp2 + jogo4[0], gp4 + jogo4[1], sg2 + jogo4[2], sg4 + jogo4[3], pt2 + jogo4[4], pt4 + jogo4[5]\n",
        "    gp1, gp4, sg1, sg4, pt1, pt4 = gp1 + jogo5[0], gp4 + jogo5[1], sg1 + jogo5[2], sg4 + jogo5[3], pt1 + jogo5[4], pt4 + jogo5[5]\n",
        "    gp2, gp3, sg2, sg3, pt2, pt3 = gp2 + jogo6[0], gp3 + jogo6[1], sg2 + jogo6[2], sg3 + jogo6[3], pt2 + jogo6[4], pt3 + jogo6[5]\n",
        "\n",
        "    partidas = [ nome1 + ' x ' + nome2, nome3 + ' x ' + nome4, nome1 + ' x ' + nome3, \n",
        "                 nome2 + ' x ' + nome4, nome1 + ' x ' + nome4, nome2 + ' x ' + nome3 ]\n",
        "    resultados = [ jogo1[6], jogo2[6], jogo3[6], jogo4[6], jogo5[6], jogo6[6] ]\n",
        "    placares = [ jogo1[-1], jogo2[-1], jogo3[-1], jogo4[-1], jogo5[-1], jogo6[-1] ]\n",
        "    linhas = aux['País']\n",
        "    cols = ['Pontos', 'Saldo de Gols', 'Gols Pró']\n",
        "    tab = pd.DataFrame([[pt1, pt2, pt3, pt4], [sg1, sg2, sg3, sg4], [gp1, gp2, gp3, gp4]], index = cols, columns = linhas).transpose()\n",
        "    \n",
        "    tab = tab.sort_values(['Pontos', 'Saldo de Gols', 'Gols Pró'], ascending = False)\n",
        "    tab['Posição'] = [1, 2, 3, 4]\n",
        "\n",
        "    jogos = pd.DataFrame([partidas, placares, resultados]).transpose()\n",
        "    jogos.columns = ['Partida', 'Placar', 'Resultado']\n",
        "\n",
        "    return [tab, jogos]\n",
        "\n",
        "JogosGrupo(dados, 'D')    "
      ],
      "execution_count": 71,
      "outputs": [
        {
          "output_type": "execute_result",
          "data": {
            "text/plain": [
              "[                 Pontos  Saldo de Gols  Gols Pró  Posição\n",
              " País                                                     \n",
              " Brasil                7              8        11        1\n",
              " Alemanha              4              0         5        2\n",
              " Costa do Marfim       3             -2         4        3\n",
              " Arábia Saudita        3             -6         4        4,\n",
              "                             Partida Placar Resultado\n",
              " 0                 Brasil x Alemanha    1x1         E\n",
              " 1  Costa do Marfim x Arábia Saudita    0x2         D\n",
              " 2          Brasil x Costa do Marfim    3x2         V\n",
              " 3         Alemanha x Arábia Saudita    3x2         V\n",
              " 4           Brasil x Arábia Saudita    7x0         V\n",
              " 5        Alemanha x Costa do Marfim    1x2         D]"
            ]
          },
          "metadata": {
            "tags": []
          },
          "execution_count": 71
        }
      ]
    },
    {
      "cell_type": "code",
      "metadata": {
        "id": "LE48fU1Yh5xD",
        "colab": {
          "base_uri": "https://localhost:8080/",
          "height": 36
        },
        "outputId": "ac1b6f03-83a9-4c2a-ab00-89b927539e49"
      },
      "source": [
        "def JogoMataMata(sel1, sel2):\n",
        "    time1 = dados.loc[dados['País'] == sel1]['Força']\n",
        "    time2 = dados.loc[dados['País'] == sel2]['Força']\n",
        "    gols1 = int(poisson.rvs(mu = time1, size = 1))\n",
        "    gols2 = int(poisson.rvs(mu = time2, size = 1))  \n",
        "    resultado = Resultado(gols1, gols2)\n",
        "    if resultado == 'E':\n",
        "        resultado = random.sample(['V', 'D'], 1)\n",
        "    placar = '{}x{}'.format(gols1, gols2)\n",
        "    vencedor = sel1 if resultado == 'V' else sel2\n",
        "    return vencedor\n",
        " \n",
        "JogoMataMata('Brasil', 'Argentina')"
      ],
      "execution_count": 95,
      "outputs": [
        {
          "output_type": "execute_result",
          "data": {
            "application/vnd.google.colaboratory.intrinsic+json": {
              "type": "string"
            },
            "text/plain": [
              "'Brasil'"
            ]
          },
          "metadata": {
            "tags": []
          },
          "execution_count": 95
        }
      ]
    },
    {
      "cell_type": "markdown",
      "metadata": {
        "id": "vxPoq-Zoh5uS"
      },
      "source": [
        "**Quartas de final**\n",
        "\n",
        "1: 1A vs 2B\\\n",
        "2: 1B vs 2A\\\n",
        "3: 1C vs 2D\\\n",
        "4: 1D vs *2C*"
      ]
    },
    {
      "cell_type": "code",
      "metadata": {
        "colab": {
          "base_uri": "https://localhost:8080/",
          "height": 551
        },
        "id": "EwZd1yevL_Mk",
        "outputId": "7eb0f251-c1e7-48ca-e611-b5463f43d1bd"
      },
      "source": [
        "    cols = ['1st', '2nd', '3th', '4th', 'Quartas', 'Semis', 'Final', 'Campeão']\n",
        "    lins = dados['País'].to_list()\n",
        "    n = len(lins)\n",
        "    m = len(cols)\n",
        "    aux = np.array(np.zeros(n*m).reshape(n, m))\n",
        "    info = pd.DataFrame(aux, columns = cols, index = lins) \n",
        "    info = info.astype(int)\n",
        "    info"
      ],
      "execution_count": 97,
      "outputs": [
        {
          "output_type": "execute_result",
          "data": {
            "text/html": [
              "<div>\n",
              "<style scoped>\n",
              "    .dataframe tbody tr th:only-of-type {\n",
              "        vertical-align: middle;\n",
              "    }\n",
              "\n",
              "    .dataframe tbody tr th {\n",
              "        vertical-align: top;\n",
              "    }\n",
              "\n",
              "    .dataframe thead th {\n",
              "        text-align: right;\n",
              "    }\n",
              "</style>\n",
              "<table border=\"1\" class=\"dataframe\">\n",
              "  <thead>\n",
              "    <tr style=\"text-align: right;\">\n",
              "      <th></th>\n",
              "      <th>1st</th>\n",
              "      <th>2nd</th>\n",
              "      <th>3th</th>\n",
              "      <th>4th</th>\n",
              "      <th>Quartas</th>\n",
              "      <th>Semis</th>\n",
              "      <th>Final</th>\n",
              "      <th>Campeão</th>\n",
              "    </tr>\n",
              "  </thead>\n",
              "  <tbody>\n",
              "    <tr>\n",
              "      <th>França</th>\n",
              "      <td>0</td>\n",
              "      <td>0</td>\n",
              "      <td>0</td>\n",
              "      <td>0</td>\n",
              "      <td>0</td>\n",
              "      <td>0</td>\n",
              "      <td>0</td>\n",
              "      <td>0</td>\n",
              "    </tr>\n",
              "    <tr>\n",
              "      <th>Brasil</th>\n",
              "      <td>0</td>\n",
              "      <td>0</td>\n",
              "      <td>0</td>\n",
              "      <td>0</td>\n",
              "      <td>0</td>\n",
              "      <td>0</td>\n",
              "      <td>0</td>\n",
              "      <td>0</td>\n",
              "    </tr>\n",
              "    <tr>\n",
              "      <th>Espanha</th>\n",
              "      <td>0</td>\n",
              "      <td>0</td>\n",
              "      <td>0</td>\n",
              "      <td>0</td>\n",
              "      <td>0</td>\n",
              "      <td>0</td>\n",
              "      <td>0</td>\n",
              "      <td>0</td>\n",
              "    </tr>\n",
              "    <tr>\n",
              "      <th>Argentina</th>\n",
              "      <td>0</td>\n",
              "      <td>0</td>\n",
              "      <td>0</td>\n",
              "      <td>0</td>\n",
              "      <td>0</td>\n",
              "      <td>0</td>\n",
              "      <td>0</td>\n",
              "      <td>0</td>\n",
              "    </tr>\n",
              "    <tr>\n",
              "      <th>México</th>\n",
              "      <td>0</td>\n",
              "      <td>0</td>\n",
              "      <td>0</td>\n",
              "      <td>0</td>\n",
              "      <td>0</td>\n",
              "      <td>0</td>\n",
              "      <td>0</td>\n",
              "      <td>0</td>\n",
              "    </tr>\n",
              "    <tr>\n",
              "      <th>Alemanha</th>\n",
              "      <td>0</td>\n",
              "      <td>0</td>\n",
              "      <td>0</td>\n",
              "      <td>0</td>\n",
              "      <td>0</td>\n",
              "      <td>0</td>\n",
              "      <td>0</td>\n",
              "      <td>0</td>\n",
              "    </tr>\n",
              "    <tr>\n",
              "      <th>Honduras</th>\n",
              "      <td>0</td>\n",
              "      <td>0</td>\n",
              "      <td>0</td>\n",
              "      <td>0</td>\n",
              "      <td>0</td>\n",
              "      <td>0</td>\n",
              "      <td>0</td>\n",
              "      <td>0</td>\n",
              "    </tr>\n",
              "    <tr>\n",
              "      <th>Japão</th>\n",
              "      <td>0</td>\n",
              "      <td>0</td>\n",
              "      <td>0</td>\n",
              "      <td>0</td>\n",
              "      <td>0</td>\n",
              "      <td>0</td>\n",
              "      <td>0</td>\n",
              "      <td>0</td>\n",
              "    </tr>\n",
              "    <tr>\n",
              "      <th>Romênia</th>\n",
              "      <td>0</td>\n",
              "      <td>0</td>\n",
              "      <td>0</td>\n",
              "      <td>0</td>\n",
              "      <td>0</td>\n",
              "      <td>0</td>\n",
              "      <td>0</td>\n",
              "      <td>0</td>\n",
              "    </tr>\n",
              "    <tr>\n",
              "      <th>Coréia do Sul</th>\n",
              "      <td>0</td>\n",
              "      <td>0</td>\n",
              "      <td>0</td>\n",
              "      <td>0</td>\n",
              "      <td>0</td>\n",
              "      <td>0</td>\n",
              "      <td>0</td>\n",
              "      <td>0</td>\n",
              "    </tr>\n",
              "    <tr>\n",
              "      <th>Austrália</th>\n",
              "      <td>0</td>\n",
              "      <td>0</td>\n",
              "      <td>0</td>\n",
              "      <td>0</td>\n",
              "      <td>0</td>\n",
              "      <td>0</td>\n",
              "      <td>0</td>\n",
              "      <td>0</td>\n",
              "    </tr>\n",
              "    <tr>\n",
              "      <th>Egito</th>\n",
              "      <td>0</td>\n",
              "      <td>0</td>\n",
              "      <td>0</td>\n",
              "      <td>0</td>\n",
              "      <td>0</td>\n",
              "      <td>0</td>\n",
              "      <td>0</td>\n",
              "      <td>0</td>\n",
              "    </tr>\n",
              "    <tr>\n",
              "      <th>Costa do Marfim</th>\n",
              "      <td>0</td>\n",
              "      <td>0</td>\n",
              "      <td>0</td>\n",
              "      <td>0</td>\n",
              "      <td>0</td>\n",
              "      <td>0</td>\n",
              "      <td>0</td>\n",
              "      <td>0</td>\n",
              "    </tr>\n",
              "    <tr>\n",
              "      <th>Arábia Saudita</th>\n",
              "      <td>0</td>\n",
              "      <td>0</td>\n",
              "      <td>0</td>\n",
              "      <td>0</td>\n",
              "      <td>0</td>\n",
              "      <td>0</td>\n",
              "      <td>0</td>\n",
              "      <td>0</td>\n",
              "    </tr>\n",
              "    <tr>\n",
              "      <th>África do Sul</th>\n",
              "      <td>0</td>\n",
              "      <td>0</td>\n",
              "      <td>0</td>\n",
              "      <td>0</td>\n",
              "      <td>0</td>\n",
              "      <td>0</td>\n",
              "      <td>0</td>\n",
              "      <td>0</td>\n",
              "    </tr>\n",
              "    <tr>\n",
              "      <th>Nova Zelândia</th>\n",
              "      <td>0</td>\n",
              "      <td>0</td>\n",
              "      <td>0</td>\n",
              "      <td>0</td>\n",
              "      <td>0</td>\n",
              "      <td>0</td>\n",
              "      <td>0</td>\n",
              "      <td>0</td>\n",
              "    </tr>\n",
              "  </tbody>\n",
              "</table>\n",
              "</div>"
            ],
            "text/plain": [
              "                 1st  2nd  3th  4th  Quartas  Semis  Final  Campeão\n",
              "França             0    0    0    0        0      0      0        0\n",
              "Brasil             0    0    0    0        0      0      0        0\n",
              "Espanha            0    0    0    0        0      0      0        0\n",
              "Argentina          0    0    0    0        0      0      0        0\n",
              "México             0    0    0    0        0      0      0        0\n",
              "Alemanha           0    0    0    0        0      0      0        0\n",
              "Honduras           0    0    0    0        0      0      0        0\n",
              "Japão              0    0    0    0        0      0      0        0\n",
              "Romênia            0    0    0    0        0      0      0        0\n",
              "Coréia do Sul      0    0    0    0        0      0      0        0\n",
              "Austrália          0    0    0    0        0      0      0        0\n",
              "Egito              0    0    0    0        0      0      0        0\n",
              "Costa do Marfim    0    0    0    0        0      0      0        0\n",
              "Arábia Saudita     0    0    0    0        0      0      0        0\n",
              "África do Sul      0    0    0    0        0      0      0        0\n",
              "Nova Zelândia      0    0    0    0        0      0      0        0"
            ]
          },
          "metadata": {
            "tags": []
          },
          "execution_count": 97
        }
      ]
    },
    {
      "cell_type": "code",
      "metadata": {
        "id": "cIWGuqgA9b7u",
        "colab": {
          "base_uri": "https://localhost:8080/",
          "height": 551
        },
        "outputId": "160c7ce9-9781-4a10-973d-d89006cc36cb"
      },
      "source": [
        "def SimulaCopa(dados):\n",
        "    cols = ['1st', '2nd', '3th', '4th', 'Quartas', 'Semis', 'Final', 'Campeão']\n",
        "    lins = dados['País'].to_list()\n",
        "    n = len(lins)\n",
        "    m = len(cols)\n",
        "    aux = np.array(np.zeros(n*m).reshape(n, m))\n",
        "    info = pd.DataFrame(aux, columns = cols, index = lins) \n",
        "    info = info.astype(int)\n",
        "\n",
        "    top8 = []\n",
        "    for i in list('ABCD'):\n",
        "        a = JogosGrupo(dados, i)[0] \n",
        "        top8 += a.index[:2].tolist()\n",
        "        anomes = a.index.to_list() \n",
        "        info.at[anomes[0], '1st'] = 1\n",
        "        info.at[anomes[1], '2nd'] = 1\n",
        "        info.at[anomes[2], '3th'] = 1\n",
        "        info.at[anomes[3], '4th'] = 1\n",
        "\n",
        "    sf1 = JogoMataMata(top8[0], top8[3])\n",
        "    sf2 = JogoMataMata(top8[2], top8[1])\n",
        "    sf3 = JogoMataMata(top8[4], top8[7])\n",
        "    sf4 = JogoMataMata(top8[6], top8[5])\n",
        "\n",
        "    top4 = [sf1, sf2, sf3, sf4]\n",
        "\n",
        "    f1 = JogoMataMata(sf1, sf2)\n",
        "    f2 = JogoMataMata(sf3, sf4)\n",
        "\n",
        "    top2 = [f1, f2]\n",
        "\n",
        "    top1 = [JogoMataMata(f1, f2)]\n",
        "\n",
        "    info.at[top8, 'Quartas'] = 1\n",
        "    info.at[top4, 'Semis'] = 1\n",
        "    info.at[top2, 'Final'] = 1\n",
        "    info.at[top1, 'Campeão'] = 1\n",
        "    return info\n",
        "\n",
        "SimulaCopa(dados)"
      ],
      "execution_count": 104,
      "outputs": [
        {
          "output_type": "execute_result",
          "data": {
            "text/html": [
              "<div>\n",
              "<style scoped>\n",
              "    .dataframe tbody tr th:only-of-type {\n",
              "        vertical-align: middle;\n",
              "    }\n",
              "\n",
              "    .dataframe tbody tr th {\n",
              "        vertical-align: top;\n",
              "    }\n",
              "\n",
              "    .dataframe thead th {\n",
              "        text-align: right;\n",
              "    }\n",
              "</style>\n",
              "<table border=\"1\" class=\"dataframe\">\n",
              "  <thead>\n",
              "    <tr style=\"text-align: right;\">\n",
              "      <th></th>\n",
              "      <th>1st</th>\n",
              "      <th>2nd</th>\n",
              "      <th>3th</th>\n",
              "      <th>4th</th>\n",
              "      <th>Quartas</th>\n",
              "      <th>Semis</th>\n",
              "      <th>Final</th>\n",
              "      <th>Campeão</th>\n",
              "    </tr>\n",
              "  </thead>\n",
              "  <tbody>\n",
              "    <tr>\n",
              "      <th>França</th>\n",
              "      <td>0</td>\n",
              "      <td>0</td>\n",
              "      <td>1</td>\n",
              "      <td>0</td>\n",
              "      <td>0</td>\n",
              "      <td>0</td>\n",
              "      <td>0</td>\n",
              "      <td>0</td>\n",
              "    </tr>\n",
              "    <tr>\n",
              "      <th>Brasil</th>\n",
              "      <td>1</td>\n",
              "      <td>0</td>\n",
              "      <td>0</td>\n",
              "      <td>0</td>\n",
              "      <td>1</td>\n",
              "      <td>0</td>\n",
              "      <td>0</td>\n",
              "      <td>0</td>\n",
              "    </tr>\n",
              "    <tr>\n",
              "      <th>Espanha</th>\n",
              "      <td>1</td>\n",
              "      <td>0</td>\n",
              "      <td>0</td>\n",
              "      <td>0</td>\n",
              "      <td>1</td>\n",
              "      <td>0</td>\n",
              "      <td>0</td>\n",
              "      <td>0</td>\n",
              "    </tr>\n",
              "    <tr>\n",
              "      <th>Argentina</th>\n",
              "      <td>0</td>\n",
              "      <td>1</td>\n",
              "      <td>0</td>\n",
              "      <td>0</td>\n",
              "      <td>1</td>\n",
              "      <td>1</td>\n",
              "      <td>1</td>\n",
              "      <td>0</td>\n",
              "    </tr>\n",
              "    <tr>\n",
              "      <th>México</th>\n",
              "      <td>1</td>\n",
              "      <td>0</td>\n",
              "      <td>0</td>\n",
              "      <td>0</td>\n",
              "      <td>1</td>\n",
              "      <td>1</td>\n",
              "      <td>1</td>\n",
              "      <td>1</td>\n",
              "    </tr>\n",
              "    <tr>\n",
              "      <th>Alemanha</th>\n",
              "      <td>0</td>\n",
              "      <td>0</td>\n",
              "      <td>1</td>\n",
              "      <td>0</td>\n",
              "      <td>0</td>\n",
              "      <td>0</td>\n",
              "      <td>0</td>\n",
              "      <td>0</td>\n",
              "    </tr>\n",
              "    <tr>\n",
              "      <th>Honduras</th>\n",
              "      <td>0</td>\n",
              "      <td>0</td>\n",
              "      <td>0</td>\n",
              "      <td>1</td>\n",
              "      <td>0</td>\n",
              "      <td>0</td>\n",
              "      <td>0</td>\n",
              "      <td>0</td>\n",
              "    </tr>\n",
              "    <tr>\n",
              "      <th>Japão</th>\n",
              "      <td>0</td>\n",
              "      <td>1</td>\n",
              "      <td>0</td>\n",
              "      <td>0</td>\n",
              "      <td>1</td>\n",
              "      <td>1</td>\n",
              "      <td>0</td>\n",
              "      <td>0</td>\n",
              "    </tr>\n",
              "    <tr>\n",
              "      <th>Romênia</th>\n",
              "      <td>1</td>\n",
              "      <td>0</td>\n",
              "      <td>0</td>\n",
              "      <td>0</td>\n",
              "      <td>1</td>\n",
              "      <td>0</td>\n",
              "      <td>0</td>\n",
              "      <td>0</td>\n",
              "    </tr>\n",
              "    <tr>\n",
              "      <th>Coréia do Sul</th>\n",
              "      <td>0</td>\n",
              "      <td>1</td>\n",
              "      <td>0</td>\n",
              "      <td>0</td>\n",
              "      <td>1</td>\n",
              "      <td>0</td>\n",
              "      <td>0</td>\n",
              "      <td>0</td>\n",
              "    </tr>\n",
              "    <tr>\n",
              "      <th>Austrália</th>\n",
              "      <td>0</td>\n",
              "      <td>0</td>\n",
              "      <td>0</td>\n",
              "      <td>1</td>\n",
              "      <td>0</td>\n",
              "      <td>0</td>\n",
              "      <td>0</td>\n",
              "      <td>0</td>\n",
              "    </tr>\n",
              "    <tr>\n",
              "      <th>Egito</th>\n",
              "      <td>0</td>\n",
              "      <td>0</td>\n",
              "      <td>1</td>\n",
              "      <td>0</td>\n",
              "      <td>0</td>\n",
              "      <td>0</td>\n",
              "      <td>0</td>\n",
              "      <td>0</td>\n",
              "    </tr>\n",
              "    <tr>\n",
              "      <th>Costa do Marfim</th>\n",
              "      <td>0</td>\n",
              "      <td>0</td>\n",
              "      <td>0</td>\n",
              "      <td>1</td>\n",
              "      <td>0</td>\n",
              "      <td>0</td>\n",
              "      <td>0</td>\n",
              "      <td>0</td>\n",
              "    </tr>\n",
              "    <tr>\n",
              "      <th>Arábia Saudita</th>\n",
              "      <td>0</td>\n",
              "      <td>1</td>\n",
              "      <td>0</td>\n",
              "      <td>0</td>\n",
              "      <td>1</td>\n",
              "      <td>1</td>\n",
              "      <td>0</td>\n",
              "      <td>0</td>\n",
              "    </tr>\n",
              "    <tr>\n",
              "      <th>África do Sul</th>\n",
              "      <td>0</td>\n",
              "      <td>0</td>\n",
              "      <td>0</td>\n",
              "      <td>1</td>\n",
              "      <td>0</td>\n",
              "      <td>0</td>\n",
              "      <td>0</td>\n",
              "      <td>0</td>\n",
              "    </tr>\n",
              "    <tr>\n",
              "      <th>Nova Zelândia</th>\n",
              "      <td>0</td>\n",
              "      <td>0</td>\n",
              "      <td>1</td>\n",
              "      <td>0</td>\n",
              "      <td>0</td>\n",
              "      <td>0</td>\n",
              "      <td>0</td>\n",
              "      <td>0</td>\n",
              "    </tr>\n",
              "  </tbody>\n",
              "</table>\n",
              "</div>"
            ],
            "text/plain": [
              "                 1st  2nd  3th  4th  Quartas  Semis  Final  Campeão\n",
              "França             0    0    1    0        0      0      0        0\n",
              "Brasil             1    0    0    0        1      0      0        0\n",
              "Espanha            1    0    0    0        1      0      0        0\n",
              "Argentina          0    1    0    0        1      1      1        0\n",
              "México             1    0    0    0        1      1      1        1\n",
              "Alemanha           0    0    1    0        0      0      0        0\n",
              "Honduras           0    0    0    1        0      0      0        0\n",
              "Japão              0    1    0    0        1      1      0        0\n",
              "Romênia            1    0    0    0        1      0      0        0\n",
              "Coréia do Sul      0    1    0    0        1      0      0        0\n",
              "Austrália          0    0    0    1        0      0      0        0\n",
              "Egito              0    0    1    0        0      0      0        0\n",
              "Costa do Marfim    0    0    0    1        0      0      0        0\n",
              "Arábia Saudita     0    1    0    0        1      1      0        0\n",
              "África do Sul      0    0    0    1        0      0      0        0\n",
              "Nova Zelândia      0    0    1    0        0      0      0        0"
            ]
          },
          "metadata": {
            "tags": []
          },
          "execution_count": 104
        }
      ]
    },
    {
      "cell_type": "code",
      "metadata": {
        "id": "19Cs3L2F9UG4",
        "colab": {
          "base_uri": "https://localhost:8080/",
          "height": 753
        },
        "outputId": "a15fa21c-2ae2-49e0-d661-11bee9c67054"
      },
      "source": [
        "def SimulacaoTotal(dados, S = 1000): \n",
        "    print('Iniciando simulação...')\n",
        "    info = SimulaCopa(dados)\n",
        "    for i in range(S-1):\n",
        "        info += SimulaCopa(dados)\n",
        "        if (i+2)%(S/10) == 0:\n",
        "            print('Simulando Copa: {:.0f}% pronto'.format(100*((i+2)/S)))\n",
        "    return info.sort_values(by = 'Campeão', ascending = False)/S\n",
        "\n",
        "sim = SimulacaoTotal(dados, 1000)\n",
        "sim"
      ],
      "execution_count": 108,
      "outputs": [
        {
          "output_type": "stream",
          "text": [
            "Iniciando simulação...\n",
            "Simulando Copa: 10% pronto\n",
            "Simulando Copa: 20% pronto\n",
            "Simulando Copa: 30% pronto\n",
            "Simulando Copa: 40% pronto\n",
            "Simulando Copa: 50% pronto\n",
            "Simulando Copa: 60% pronto\n",
            "Simulando Copa: 70% pronto\n",
            "Simulando Copa: 80% pronto\n",
            "Simulando Copa: 90% pronto\n",
            "Simulando Copa: 100% pronto\n"
          ],
          "name": "stdout"
        },
        {
          "output_type": "execute_result",
          "data": {
            "text/html": [
              "<div>\n",
              "<style scoped>\n",
              "    .dataframe tbody tr th:only-of-type {\n",
              "        vertical-align: middle;\n",
              "    }\n",
              "\n",
              "    .dataframe tbody tr th {\n",
              "        vertical-align: top;\n",
              "    }\n",
              "\n",
              "    .dataframe thead th {\n",
              "        text-align: right;\n",
              "    }\n",
              "</style>\n",
              "<table border=\"1\" class=\"dataframe\">\n",
              "  <thead>\n",
              "    <tr style=\"text-align: right;\">\n",
              "      <th></th>\n",
              "      <th>1st</th>\n",
              "      <th>2nd</th>\n",
              "      <th>3th</th>\n",
              "      <th>4th</th>\n",
              "      <th>Quartas</th>\n",
              "      <th>Semis</th>\n",
              "      <th>Final</th>\n",
              "      <th>Campeão</th>\n",
              "    </tr>\n",
              "  </thead>\n",
              "  <tbody>\n",
              "    <tr>\n",
              "      <th>Brasil</th>\n",
              "      <td>0.446</td>\n",
              "      <td>0.247</td>\n",
              "      <td>0.186</td>\n",
              "      <td>0.121</td>\n",
              "      <td>0.693</td>\n",
              "      <td>0.376</td>\n",
              "      <td>0.210</td>\n",
              "      <td>0.139</td>\n",
              "    </tr>\n",
              "    <tr>\n",
              "      <th>Espanha</th>\n",
              "      <td>0.319</td>\n",
              "      <td>0.265</td>\n",
              "      <td>0.220</td>\n",
              "      <td>0.196</td>\n",
              "      <td>0.584</td>\n",
              "      <td>0.296</td>\n",
              "      <td>0.161</td>\n",
              "      <td>0.118</td>\n",
              "    </tr>\n",
              "    <tr>\n",
              "      <th>França</th>\n",
              "      <td>0.379</td>\n",
              "      <td>0.292</td>\n",
              "      <td>0.209</td>\n",
              "      <td>0.120</td>\n",
              "      <td>0.671</td>\n",
              "      <td>0.423</td>\n",
              "      <td>0.256</td>\n",
              "      <td>0.112</td>\n",
              "    </tr>\n",
              "    <tr>\n",
              "      <th>Alemanha</th>\n",
              "      <td>0.273</td>\n",
              "      <td>0.285</td>\n",
              "      <td>0.242</td>\n",
              "      <td>0.200</td>\n",
              "      <td>0.558</td>\n",
              "      <td>0.294</td>\n",
              "      <td>0.151</td>\n",
              "      <td>0.100</td>\n",
              "    </tr>\n",
              "    <tr>\n",
              "      <th>Argentina</th>\n",
              "      <td>0.329</td>\n",
              "      <td>0.279</td>\n",
              "      <td>0.234</td>\n",
              "      <td>0.158</td>\n",
              "      <td>0.608</td>\n",
              "      <td>0.295</td>\n",
              "      <td>0.154</td>\n",
              "      <td>0.099</td>\n",
              "    </tr>\n",
              "    <tr>\n",
              "      <th>Austrália</th>\n",
              "      <td>0.181</td>\n",
              "      <td>0.237</td>\n",
              "      <td>0.270</td>\n",
              "      <td>0.312</td>\n",
              "      <td>0.418</td>\n",
              "      <td>0.204</td>\n",
              "      <td>0.113</td>\n",
              "      <td>0.074</td>\n",
              "    </tr>\n",
              "    <tr>\n",
              "      <th>México</th>\n",
              "      <td>0.292</td>\n",
              "      <td>0.274</td>\n",
              "      <td>0.240</td>\n",
              "      <td>0.194</td>\n",
              "      <td>0.566</td>\n",
              "      <td>0.323</td>\n",
              "      <td>0.187</td>\n",
              "      <td>0.065</td>\n",
              "    </tr>\n",
              "    <tr>\n",
              "      <th>Egito</th>\n",
              "      <td>0.171</td>\n",
              "      <td>0.219</td>\n",
              "      <td>0.276</td>\n",
              "      <td>0.334</td>\n",
              "      <td>0.390</td>\n",
              "      <td>0.176</td>\n",
              "      <td>0.092</td>\n",
              "      <td>0.055</td>\n",
              "    </tr>\n",
              "    <tr>\n",
              "      <th>Japão</th>\n",
              "      <td>0.220</td>\n",
              "      <td>0.262</td>\n",
              "      <td>0.270</td>\n",
              "      <td>0.248</td>\n",
              "      <td>0.482</td>\n",
              "      <td>0.276</td>\n",
              "      <td>0.145</td>\n",
              "      <td>0.046</td>\n",
              "    </tr>\n",
              "    <tr>\n",
              "      <th>Costa do Marfim</th>\n",
              "      <td>0.134</td>\n",
              "      <td>0.252</td>\n",
              "      <td>0.309</td>\n",
              "      <td>0.305</td>\n",
              "      <td>0.386</td>\n",
              "      <td>0.183</td>\n",
              "      <td>0.060</td>\n",
              "      <td>0.037</td>\n",
              "    </tr>\n",
              "    <tr>\n",
              "      <th>Coréia do Sul</th>\n",
              "      <td>0.319</td>\n",
              "      <td>0.261</td>\n",
              "      <td>0.230</td>\n",
              "      <td>0.190</td>\n",
              "      <td>0.580</td>\n",
              "      <td>0.258</td>\n",
              "      <td>0.126</td>\n",
              "      <td>0.034</td>\n",
              "    </tr>\n",
              "    <tr>\n",
              "      <th>Arábia Saudita</th>\n",
              "      <td>0.147</td>\n",
              "      <td>0.216</td>\n",
              "      <td>0.263</td>\n",
              "      <td>0.374</td>\n",
              "      <td>0.363</td>\n",
              "      <td>0.176</td>\n",
              "      <td>0.059</td>\n",
              "      <td>0.032</td>\n",
              "    </tr>\n",
              "    <tr>\n",
              "      <th>Romênia</th>\n",
              "      <td>0.315</td>\n",
              "      <td>0.272</td>\n",
              "      <td>0.232</td>\n",
              "      <td>0.181</td>\n",
              "      <td>0.587</td>\n",
              "      <td>0.232</td>\n",
              "      <td>0.094</td>\n",
              "      <td>0.029</td>\n",
              "    </tr>\n",
              "    <tr>\n",
              "      <th>África do Sul</th>\n",
              "      <td>0.109</td>\n",
              "      <td>0.172</td>\n",
              "      <td>0.281</td>\n",
              "      <td>0.438</td>\n",
              "      <td>0.281</td>\n",
              "      <td>0.142</td>\n",
              "      <td>0.073</td>\n",
              "      <td>0.029</td>\n",
              "    </tr>\n",
              "    <tr>\n",
              "      <th>Honduras</th>\n",
              "      <td>0.247</td>\n",
              "      <td>0.271</td>\n",
              "      <td>0.247</td>\n",
              "      <td>0.235</td>\n",
              "      <td>0.518</td>\n",
              "      <td>0.222</td>\n",
              "      <td>0.081</td>\n",
              "      <td>0.022</td>\n",
              "    </tr>\n",
              "    <tr>\n",
              "      <th>Nova Zelândia</th>\n",
              "      <td>0.119</td>\n",
              "      <td>0.196</td>\n",
              "      <td>0.291</td>\n",
              "      <td>0.394</td>\n",
              "      <td>0.315</td>\n",
              "      <td>0.124</td>\n",
              "      <td>0.038</td>\n",
              "      <td>0.009</td>\n",
              "    </tr>\n",
              "  </tbody>\n",
              "</table>\n",
              "</div>"
            ],
            "text/plain": [
              "                   1st    2nd    3th    4th  Quartas  Semis  Final  Campeão\n",
              "Brasil           0.446  0.247  0.186  0.121    0.693  0.376  0.210    0.139\n",
              "Espanha          0.319  0.265  0.220  0.196    0.584  0.296  0.161    0.118\n",
              "França           0.379  0.292  0.209  0.120    0.671  0.423  0.256    0.112\n",
              "Alemanha         0.273  0.285  0.242  0.200    0.558  0.294  0.151    0.100\n",
              "Argentina        0.329  0.279  0.234  0.158    0.608  0.295  0.154    0.099\n",
              "Austrália        0.181  0.237  0.270  0.312    0.418  0.204  0.113    0.074\n",
              "México           0.292  0.274  0.240  0.194    0.566  0.323  0.187    0.065\n",
              "Egito            0.171  0.219  0.276  0.334    0.390  0.176  0.092    0.055\n",
              "Japão            0.220  0.262  0.270  0.248    0.482  0.276  0.145    0.046\n",
              "Costa do Marfim  0.134  0.252  0.309  0.305    0.386  0.183  0.060    0.037\n",
              "Coréia do Sul    0.319  0.261  0.230  0.190    0.580  0.258  0.126    0.034\n",
              "Arábia Saudita   0.147  0.216  0.263  0.374    0.363  0.176  0.059    0.032\n",
              "Romênia          0.315  0.272  0.232  0.181    0.587  0.232  0.094    0.029\n",
              "África do Sul    0.109  0.172  0.281  0.438    0.281  0.142  0.073    0.029\n",
              "Honduras         0.247  0.271  0.247  0.235    0.518  0.222  0.081    0.022\n",
              "Nova Zelândia    0.119  0.196  0.291  0.394    0.315  0.124  0.038    0.009"
            ]
          },
          "metadata": {
            "tags": []
          },
          "execution_count": 108
        }
      ]
    },
    {
      "cell_type": "code",
      "metadata": {
        "id": "CbnMJI4S9VBO",
        "colab": {
          "base_uri": "https://localhost:8080/"
        },
        "outputId": "e8e898a4-d606-46b5-b7b0-a397421fc703"
      },
      "source": [
        "def SimulaJogo(eq1, eq2, dados = dados, S = 1000):\n",
        "    forca1 = dados.loc[dados['País'] == eq1]['Força']\n",
        "    forca2 = dados.loc[dados['País'] == eq2]['Força']\n",
        "      \n",
        "    resultados = [] \n",
        "    placares = []\n",
        "    for i in range(S):\n",
        "        jogo = Jogo(forca1, forca2)\n",
        "        resultados.append(jogo[-2])\n",
        "        placares.append(jogo[-1])\n",
        "\n",
        "    probs = (pd.Series(Counter(resultados))/S).sort_index(ascending = False).to_frame()\n",
        "    probs.columns = ['Probabilidade']\n",
        "\n",
        "    placs = (pd.Series(Counter(placares))/S).sort_values(ascending = False).to_frame()\n",
        "    placs.columns = ['Probabilidade']\n",
        "\n",
        "    a = list(range(0,8))\n",
        "    poss_plac = ['{}x{}'.format(x,y) for x in a for y in a]\n",
        "\n",
        "    import numpy as np\n",
        "    aux1 = pd.Series(np.zeros(len(poss_plac)), index = poss_plac).to_frame()\n",
        "\n",
        "    prob_placares = pd.concat([aux1, placs], axis = 1).fillna(0).drop(0, axis = 1)\n",
        "    prob_placares\n",
        "\n",
        "    return [probs, prob_placares]\n",
        "\n",
        "jogo = SimulaJogo('Brasil', 'Alemanha')\n",
        "jogo"
      ],
      "execution_count": 110,
      "outputs": [
        {
          "output_type": "execute_result",
          "data": {
            "text/plain": [
              "[   Probabilidade\n",
              " V          0.406\n",
              " E          0.267\n",
              " D          0.327,      Probabilidade\n",
              " 0x0          0.078\n",
              " 0x1          0.084\n",
              " 0x2          0.069\n",
              " 0x3          0.021\n",
              " 0x4          0.005\n",
              " ..             ...\n",
              " 7x3          0.000\n",
              " 7x4          0.000\n",
              " 7x5          0.000\n",
              " 7x6          0.000\n",
              " 7x7          0.000\n",
              " \n",
              " [64 rows x 1 columns]]"
            ]
          },
          "metadata": {
            "tags": []
          },
          "execution_count": 110
        }
      ]
    },
    {
      "cell_type": "markdown",
      "metadata": {
        "id": "1NWhcd9T7xxP"
      },
      "source": [
        "---"
      ]
    },
    {
      "cell_type": "code",
      "metadata": {
        "colab": {
          "base_uri": "https://localhost:8080/"
        },
        "id": "I77jf-ZB0y9g",
        "outputId": "0ee7a2d9-0c64-4706-8477-c754af4fbb7b"
      },
      "source": [
        "# Questão 1: Qual seleção é mais provável ser campeã?\n",
        "resposta = sim.index[0]\n",
        "print('Resposta 1:', resposta)"
      ],
      "execution_count": 111,
      "outputs": [
        {
          "output_type": "stream",
          "text": [
            "Resposta 1: Brasil\n"
          ],
          "name": "stdout"
        }
      ]
    },
    {
      "cell_type": "code",
      "metadata": {
        "colab": {
          "base_uri": "https://localhost:8080/"
        },
        "id": "tQZUHMiY1CbP",
        "outputId": "b38cbae9-7399-44ed-fab4-bdb2c4af2c95"
      },
      "source": [
        "# Questão 2: Quais as probabilidades das seleções avançarem para segunda fase?\n",
        "resposta = sim['Quartas']\n",
        "print('Resposta 2:')\n",
        "resposta"
      ],
      "execution_count": 112,
      "outputs": [
        {
          "output_type": "stream",
          "text": [
            "Resposta 2:\n"
          ],
          "name": "stdout"
        },
        {
          "output_type": "execute_result",
          "data": {
            "text/plain": [
              "Brasil             0.693\n",
              "Espanha            0.584\n",
              "França             0.671\n",
              "Alemanha           0.558\n",
              "Argentina          0.608\n",
              "Austrália          0.418\n",
              "México             0.566\n",
              "Egito              0.390\n",
              "Japão              0.482\n",
              "Costa do Marfim    0.386\n",
              "Coréia do Sul      0.580\n",
              "Arábia Saudita     0.363\n",
              "Romênia            0.587\n",
              "África do Sul      0.281\n",
              "Honduras           0.518\n",
              "Nova Zelândia      0.315\n",
              "Name: Quartas, dtype: float64"
            ]
          },
          "metadata": {
            "tags": []
          },
          "execution_count": 112
        }
      ]
    },
    {
      "cell_type": "code",
      "metadata": {
        "colab": {
          "base_uri": "https://localhost:8080/",
          "height": 570
        },
        "id": "56kcewbO1VJr",
        "outputId": "d8fbbc33-cff7-4022-9c39-2efdb468e5a5"
      },
      "source": [
        "# Questão 3: Quais as probabilidades das seleções ficarem em 1º, 2º, 3º e 4º em seus grupos na primeira fase?\n",
        "resposta = sim[['1st', '2nd', '3th', '4th']]\n",
        "print('Resposta 3:')\n",
        "resposta"
      ],
      "execution_count": 113,
      "outputs": [
        {
          "output_type": "stream",
          "text": [
            "Resposta 3:\n"
          ],
          "name": "stdout"
        },
        {
          "output_type": "execute_result",
          "data": {
            "text/html": [
              "<div>\n",
              "<style scoped>\n",
              "    .dataframe tbody tr th:only-of-type {\n",
              "        vertical-align: middle;\n",
              "    }\n",
              "\n",
              "    .dataframe tbody tr th {\n",
              "        vertical-align: top;\n",
              "    }\n",
              "\n",
              "    .dataframe thead th {\n",
              "        text-align: right;\n",
              "    }\n",
              "</style>\n",
              "<table border=\"1\" class=\"dataframe\">\n",
              "  <thead>\n",
              "    <tr style=\"text-align: right;\">\n",
              "      <th></th>\n",
              "      <th>1st</th>\n",
              "      <th>2nd</th>\n",
              "      <th>3th</th>\n",
              "      <th>4th</th>\n",
              "    </tr>\n",
              "  </thead>\n",
              "  <tbody>\n",
              "    <tr>\n",
              "      <th>Brasil</th>\n",
              "      <td>0.446</td>\n",
              "      <td>0.247</td>\n",
              "      <td>0.186</td>\n",
              "      <td>0.121</td>\n",
              "    </tr>\n",
              "    <tr>\n",
              "      <th>Espanha</th>\n",
              "      <td>0.319</td>\n",
              "      <td>0.265</td>\n",
              "      <td>0.220</td>\n",
              "      <td>0.196</td>\n",
              "    </tr>\n",
              "    <tr>\n",
              "      <th>França</th>\n",
              "      <td>0.379</td>\n",
              "      <td>0.292</td>\n",
              "      <td>0.209</td>\n",
              "      <td>0.120</td>\n",
              "    </tr>\n",
              "    <tr>\n",
              "      <th>Alemanha</th>\n",
              "      <td>0.273</td>\n",
              "      <td>0.285</td>\n",
              "      <td>0.242</td>\n",
              "      <td>0.200</td>\n",
              "    </tr>\n",
              "    <tr>\n",
              "      <th>Argentina</th>\n",
              "      <td>0.329</td>\n",
              "      <td>0.279</td>\n",
              "      <td>0.234</td>\n",
              "      <td>0.158</td>\n",
              "    </tr>\n",
              "    <tr>\n",
              "      <th>Austrália</th>\n",
              "      <td>0.181</td>\n",
              "      <td>0.237</td>\n",
              "      <td>0.270</td>\n",
              "      <td>0.312</td>\n",
              "    </tr>\n",
              "    <tr>\n",
              "      <th>México</th>\n",
              "      <td>0.292</td>\n",
              "      <td>0.274</td>\n",
              "      <td>0.240</td>\n",
              "      <td>0.194</td>\n",
              "    </tr>\n",
              "    <tr>\n",
              "      <th>Egito</th>\n",
              "      <td>0.171</td>\n",
              "      <td>0.219</td>\n",
              "      <td>0.276</td>\n",
              "      <td>0.334</td>\n",
              "    </tr>\n",
              "    <tr>\n",
              "      <th>Japão</th>\n",
              "      <td>0.220</td>\n",
              "      <td>0.262</td>\n",
              "      <td>0.270</td>\n",
              "      <td>0.248</td>\n",
              "    </tr>\n",
              "    <tr>\n",
              "      <th>Costa do Marfim</th>\n",
              "      <td>0.134</td>\n",
              "      <td>0.252</td>\n",
              "      <td>0.309</td>\n",
              "      <td>0.305</td>\n",
              "    </tr>\n",
              "    <tr>\n",
              "      <th>Coréia do Sul</th>\n",
              "      <td>0.319</td>\n",
              "      <td>0.261</td>\n",
              "      <td>0.230</td>\n",
              "      <td>0.190</td>\n",
              "    </tr>\n",
              "    <tr>\n",
              "      <th>Arábia Saudita</th>\n",
              "      <td>0.147</td>\n",
              "      <td>0.216</td>\n",
              "      <td>0.263</td>\n",
              "      <td>0.374</td>\n",
              "    </tr>\n",
              "    <tr>\n",
              "      <th>Romênia</th>\n",
              "      <td>0.315</td>\n",
              "      <td>0.272</td>\n",
              "      <td>0.232</td>\n",
              "      <td>0.181</td>\n",
              "    </tr>\n",
              "    <tr>\n",
              "      <th>África do Sul</th>\n",
              "      <td>0.109</td>\n",
              "      <td>0.172</td>\n",
              "      <td>0.281</td>\n",
              "      <td>0.438</td>\n",
              "    </tr>\n",
              "    <tr>\n",
              "      <th>Honduras</th>\n",
              "      <td>0.247</td>\n",
              "      <td>0.271</td>\n",
              "      <td>0.247</td>\n",
              "      <td>0.235</td>\n",
              "    </tr>\n",
              "    <tr>\n",
              "      <th>Nova Zelândia</th>\n",
              "      <td>0.119</td>\n",
              "      <td>0.196</td>\n",
              "      <td>0.291</td>\n",
              "      <td>0.394</td>\n",
              "    </tr>\n",
              "  </tbody>\n",
              "</table>\n",
              "</div>"
            ],
            "text/plain": [
              "                   1st    2nd    3th    4th\n",
              "Brasil           0.446  0.247  0.186  0.121\n",
              "Espanha          0.319  0.265  0.220  0.196\n",
              "França           0.379  0.292  0.209  0.120\n",
              "Alemanha         0.273  0.285  0.242  0.200\n",
              "Argentina        0.329  0.279  0.234  0.158\n",
              "Austrália        0.181  0.237  0.270  0.312\n",
              "México           0.292  0.274  0.240  0.194\n",
              "Egito            0.171  0.219  0.276  0.334\n",
              "Japão            0.220  0.262  0.270  0.248\n",
              "Costa do Marfim  0.134  0.252  0.309  0.305\n",
              "Coréia do Sul    0.319  0.261  0.230  0.190\n",
              "Arábia Saudita   0.147  0.216  0.263  0.374\n",
              "Romênia          0.315  0.272  0.232  0.181\n",
              "África do Sul    0.109  0.172  0.281  0.438\n",
              "Honduras         0.247  0.271  0.247  0.235\n",
              "Nova Zelândia    0.119  0.196  0.291  0.394"
            ]
          },
          "metadata": {
            "tags": []
          },
          "execution_count": 113
        }
      ]
    },
    {
      "cell_type": "code",
      "metadata": {
        "colab": {
          "base_uri": "https://localhost:8080/",
          "height": 283
        },
        "id": "tCpVVGSp1u8v",
        "outputId": "b7fe81e1-9083-4b83-99a1-facbba03c7d5"
      },
      "source": [
        "# Questão 4: A força de uma equipe é proporcional a sua probabilidade de vencer a competição? Se não, porquê?\n",
        "print('Resposta 4:') \n",
        "plt.scatter(dados['Força'], sim['Campeão']);"
      ],
      "execution_count": 115,
      "outputs": [
        {
          "output_type": "stream",
          "text": [
            "Resposta 4:\n"
          ],
          "name": "stdout"
        },
        {
          "output_type": "display_data",
          "data": {
            "image/png": "[encoded data removed]",
            "text/plain": [
              "<Figure size 432x288 with 1 Axes>"
            ]
          },
          "metadata": {
            "tags": [],
            "needs_background": "light"
          }
        }
      ]
    },
    {
      "cell_type": "code",
      "metadata": {
        "colab": {
          "base_uri": "https://localhost:8080/"
        },
        "id": "Id0P0s4L2Pfq",
        "outputId": "c8917e81-6a60-4960-d276-4bf28259cd64"
      },
      "source": [
        "# Questão 5: Qual a probabilidade de todos cabeça de chave passarem simultâneamente para a segunda fase? (Probabilidade da 'zebra')\n",
        "print('Resposta 5:') \n",
        "dados['2fase'] = (sim['1st'] + sim['2nd']).values\n",
        "dados[dados['Cabeça-de-chave'] == 'Sim']['2fase'].prod()"
      ],
      "execution_count": 120,
      "outputs": [
        {
          "output_type": "stream",
          "text": [
            "Resposta 5:\n"
          ],
          "name": "stdout"
        },
        {
          "output_type": "execute_result",
          "data": {
            "text/plain": [
              "0.10482283627200002"
            ]
          },
          "metadata": {
            "tags": []
          },
          "execution_count": 120
        }
      ]
    },
    {
      "cell_type": "code",
      "metadata": {
        "colab": {
          "base_uri": "https://localhost:8080/"
        },
        "id": "f-EGUa-q38pA",
        "outputId": "86c05f66-debc-439c-88cb-2253e8671f4a"
      },
      "source": [
        "# Questão 6: Qual a probabilidade de pelo menos uma das quatro seleções mais fracas ganhar a competição?\n",
        "print('Resposta 6:')  \n",
        "dados['Campeão'] = sim['Campeão'].values\n",
        "dados.sort_values(by = 'Ranking FIFA (07/04)', ascending = False).iloc[:4, :]['Campeão'].sum()"
      ],
      "execution_count": 124,
      "outputs": [
        {
          "output_type": "stream",
          "text": [
            "Resposta 6:\n"
          ],
          "name": "stdout"
        },
        {
          "output_type": "execute_result",
          "data": {
            "text/plain": [
              "0.125"
            ]
          },
          "metadata": {
            "tags": []
          },
          "execution_count": 124
        }
      ]
    },
    {
      "cell_type": "code",
      "metadata": {
        "colab": {
          "base_uri": "https://localhost:8080/",
          "height": 283
        },
        "id": "Bo68CDis4Jd9",
        "outputId": "bc840f10-8003-4924-9207-92ee9b04e2b5"
      },
      "source": [
        "# Questão 7: Qual a probabilidade de vencer a competição por confederação?\n",
        "print('Resposta 7:')  \n",
        "dados['Campeão'].groupby(dados['Confederação']).sum().plot(kind = 'barh');"
      ],
      "execution_count": 126,
      "outputs": [
        {
          "output_type": "stream",
          "text": [
            "Resposta 7:\n"
          ],
          "name": "stdout"
        },
        {
          "output_type": "display_data",
          "data": {
            "image/png": "[encoded data removed]",
            "text/plain": [
              "<Figure size 432x288 with 1 Axes>"
            ]
          },
          "metadata": {
            "tags": [],
            "needs_background": "light"
          }
        }
      ]
    },
    {
      "cell_type": "code",
      "metadata": {
        "colab": {
          "base_uri": "https://localhost:8080/"
        },
        "id": "oDxgbNDg4LcK",
        "outputId": "ad045272-edde-4b4f-b6b4-1a209f1fe07e"
      },
      "source": [
        "# Questão 8: Qual a probabilidade de uma seleção sem medalhas em sua história vencer a competição?\n",
        "print('Resposta 8:')  \n",
        "dados[dados['Ouros'] + dados['Pratas'] + dados['Bronzes'] == 0]['Campeão'].sum()"
      ],
      "execution_count": 127,
      "outputs": [
        {
          "output_type": "stream",
          "text": [
            "Resposta 8:\n"
          ],
          "name": "stdout"
        },
        {
          "output_type": "execute_result",
          "data": {
            "text/plain": [
              "0.358"
            ]
          },
          "metadata": {
            "tags": []
          },
          "execution_count": 127
        }
      ]
    },
    {
      "cell_type": "code",
      "metadata": {
        "colab": {
          "base_uri": "https://localhost:8080/",
          "height": 381
        },
        "id": "mX3OwqhU4Vxb",
        "outputId": "b9471668-fc93-435d-ab4a-9bcaeb0680b6"
      },
      "source": [
        "# Questão 9: Se o Brasil jogar com a Alemanha, qual a probabilidade de acontecer um 7x1 para a Alemanha? E um 7x1 para o Brasil? Quais os placares mais prováveis?\n",
        "print('Resposta 9:')  \n",
        "jogo = SimulaJogo('Brasil', 'Alemanha', S = 10000)\n",
        "jogo[1].tail(10)"
      ],
      "execution_count": 128,
      "outputs": [
        {
          "output_type": "stream",
          "text": [
            "Resposta 9:\n"
          ],
          "name": "stdout"
        },
        {
          "output_type": "execute_result",
          "data": {
            "text/html": [
              "<div>\n",
              "<style scoped>\n",
              "    .dataframe tbody tr th:only-of-type {\n",
              "        vertical-align: middle;\n",
              "    }\n",
              "\n",
              "    .dataframe tbody tr th {\n",
              "        vertical-align: top;\n",
              "    }\n",
              "\n",
              "    .dataframe thead th {\n",
              "        text-align: right;\n",
              "    }\n",
              "</style>\n",
              "<table border=\"1\" class=\"dataframe\">\n",
              "  <thead>\n",
              "    <tr style=\"text-align: right;\">\n",
              "      <th></th>\n",
              "      <th>Probabilidade</th>\n",
              "    </tr>\n",
              "  </thead>\n",
              "  <tbody>\n",
              "    <tr>\n",
              "      <th>6x6</th>\n",
              "      <td>0.0000</td>\n",
              "    </tr>\n",
              "    <tr>\n",
              "      <th>6x7</th>\n",
              "      <td>0.0000</td>\n",
              "    </tr>\n",
              "    <tr>\n",
              "      <th>7x0</th>\n",
              "      <td>0.0002</td>\n",
              "    </tr>\n",
              "    <tr>\n",
              "      <th>7x1</th>\n",
              "      <td>0.0002</td>\n",
              "    </tr>\n",
              "    <tr>\n",
              "      <th>7x2</th>\n",
              "      <td>0.0002</td>\n",
              "    </tr>\n",
              "    <tr>\n",
              "      <th>7x3</th>\n",
              "      <td>0.0000</td>\n",
              "    </tr>\n",
              "    <tr>\n",
              "      <th>7x4</th>\n",
              "      <td>0.0000</td>\n",
              "    </tr>\n",
              "    <tr>\n",
              "      <th>7x5</th>\n",
              "      <td>0.0001</td>\n",
              "    </tr>\n",
              "    <tr>\n",
              "      <th>7x6</th>\n",
              "      <td>0.0000</td>\n",
              "    </tr>\n",
              "    <tr>\n",
              "      <th>7x7</th>\n",
              "      <td>0.0000</td>\n",
              "    </tr>\n",
              "  </tbody>\n",
              "</table>\n",
              "</div>"
            ],
            "text/plain": [
              "     Probabilidade\n",
              "6x6         0.0000\n",
              "6x7         0.0000\n",
              "7x0         0.0002\n",
              "7x1         0.0002\n",
              "7x2         0.0002\n",
              "7x3         0.0000\n",
              "7x4         0.0000\n",
              "7x5         0.0001\n",
              "7x6         0.0000\n",
              "7x7         0.0000"
            ]
          },
          "metadata": {
            "tags": []
          },
          "execution_count": 128
        }
      ]
    },
    {
      "cell_type": "code",
      "metadata": {
        "colab": {
          "base_uri": "https://localhost:8080/",
          "height": 551
        },
        "id": "JNnZNUJg6GHu",
        "outputId": "658288b9-1ecd-48ba-f04e-0ff04268875a"
      },
      "source": [
        "jogo[1].head(16)"
      ],
      "execution_count": 129,
      "outputs": [
        {
          "output_type": "execute_result",
          "data": {
            "text/html": [
              "<div>\n",
              "<style scoped>\n",
              "    .dataframe tbody tr th:only-of-type {\n",
              "        vertical-align: middle;\n",
              "    }\n",
              "\n",
              "    .dataframe tbody tr th {\n",
              "        vertical-align: top;\n",
              "    }\n",
              "\n",
              "    .dataframe thead th {\n",
              "        text-align: right;\n",
              "    }\n",
              "</style>\n",
              "<table border=\"1\" class=\"dataframe\">\n",
              "  <thead>\n",
              "    <tr style=\"text-align: right;\">\n",
              "      <th></th>\n",
              "      <th>Probabilidade</th>\n",
              "    </tr>\n",
              "  </thead>\n",
              "  <tbody>\n",
              "    <tr>\n",
              "      <th>0x0</th>\n",
              "      <td>0.0759</td>\n",
              "    </tr>\n",
              "    <tr>\n",
              "      <th>0x1</th>\n",
              "      <td>0.0847</td>\n",
              "    </tr>\n",
              "    <tr>\n",
              "      <th>0x2</th>\n",
              "      <td>0.0501</td>\n",
              "    </tr>\n",
              "    <tr>\n",
              "      <th>0x3</th>\n",
              "      <td>0.0248</td>\n",
              "    </tr>\n",
              "    <tr>\n",
              "      <th>0x4</th>\n",
              "      <td>0.0055</td>\n",
              "    </tr>\n",
              "    <tr>\n",
              "      <th>0x5</th>\n",
              "      <td>0.0011</td>\n",
              "    </tr>\n",
              "    <tr>\n",
              "      <th>0x6</th>\n",
              "      <td>0.0005</td>\n",
              "    </tr>\n",
              "    <tr>\n",
              "      <th>0x7</th>\n",
              "      <td>0.0001</td>\n",
              "    </tr>\n",
              "    <tr>\n",
              "      <th>1x0</th>\n",
              "      <td>0.1119</td>\n",
              "    </tr>\n",
              "    <tr>\n",
              "      <th>1x1</th>\n",
              "      <td>0.1220</td>\n",
              "    </tr>\n",
              "    <tr>\n",
              "      <th>1x2</th>\n",
              "      <td>0.0757</td>\n",
              "    </tr>\n",
              "    <tr>\n",
              "      <th>1x3</th>\n",
              "      <td>0.0269</td>\n",
              "    </tr>\n",
              "    <tr>\n",
              "      <th>1x4</th>\n",
              "      <td>0.0091</td>\n",
              "    </tr>\n",
              "    <tr>\n",
              "      <th>1x5</th>\n",
              "      <td>0.0025</td>\n",
              "    </tr>\n",
              "    <tr>\n",
              "      <th>1x6</th>\n",
              "      <td>0.0004</td>\n",
              "    </tr>\n",
              "    <tr>\n",
              "      <th>1x7</th>\n",
              "      <td>0.0002</td>\n",
              "    </tr>\n",
              "  </tbody>\n",
              "</table>\n",
              "</div>"
            ],
            "text/plain": [
              "     Probabilidade\n",
              "0x0         0.0759\n",
              "0x1         0.0847\n",
              "0x2         0.0501\n",
              "0x3         0.0248\n",
              "0x4         0.0055\n",
              "0x5         0.0011\n",
              "0x6         0.0005\n",
              "0x7         0.0001\n",
              "1x0         0.1119\n",
              "1x1         0.1220\n",
              "1x2         0.0757\n",
              "1x3         0.0269\n",
              "1x4         0.0091\n",
              "1x5         0.0025\n",
              "1x6         0.0004\n",
              "1x7         0.0002"
            ]
          },
          "metadata": {
            "tags": []
          },
          "execution_count": 129
        }
      ]
    },
    {
      "cell_type": "code",
      "metadata": {
        "colab": {
          "base_uri": "https://localhost:8080/",
          "height": 363
        },
        "id": "PawCQWHV6SYM",
        "outputId": "69c550db-275a-434f-aead-530a245b29b6"
      },
      "source": [
        "#Os 10 placares mais prováveis\n",
        "jogo[1].sort_values(by = 'Probabilidade', ascending = False).head(10)"
      ],
      "execution_count": 130,
      "outputs": [
        {
          "output_type": "execute_result",
          "data": {
            "text/html": [
              "<div>\n",
              "<style scoped>\n",
              "    .dataframe tbody tr th:only-of-type {\n",
              "        vertical-align: middle;\n",
              "    }\n",
              "\n",
              "    .dataframe tbody tr th {\n",
              "        vertical-align: top;\n",
              "    }\n",
              "\n",
              "    .dataframe thead th {\n",
              "        text-align: right;\n",
              "    }\n",
              "</style>\n",
              "<table border=\"1\" class=\"dataframe\">\n",
              "  <thead>\n",
              "    <tr style=\"text-align: right;\">\n",
              "      <th></th>\n",
              "      <th>Probabilidade</th>\n",
              "    </tr>\n",
              "  </thead>\n",
              "  <tbody>\n",
              "    <tr>\n",
              "      <th>1x1</th>\n",
              "      <td>0.1220</td>\n",
              "    </tr>\n",
              "    <tr>\n",
              "      <th>1x0</th>\n",
              "      <td>0.1119</td>\n",
              "    </tr>\n",
              "    <tr>\n",
              "      <th>2x1</th>\n",
              "      <td>0.0850</td>\n",
              "    </tr>\n",
              "    <tr>\n",
              "      <th>0x1</th>\n",
              "      <td>0.0847</td>\n",
              "    </tr>\n",
              "    <tr>\n",
              "      <th>0x0</th>\n",
              "      <td>0.0759</td>\n",
              "    </tr>\n",
              "    <tr>\n",
              "      <th>1x2</th>\n",
              "      <td>0.0757</td>\n",
              "    </tr>\n",
              "    <tr>\n",
              "      <th>2x0</th>\n",
              "      <td>0.0756</td>\n",
              "    </tr>\n",
              "    <tr>\n",
              "      <th>2x2</th>\n",
              "      <td>0.0516</td>\n",
              "    </tr>\n",
              "    <tr>\n",
              "      <th>0x2</th>\n",
              "      <td>0.0501</td>\n",
              "    </tr>\n",
              "    <tr>\n",
              "      <th>3x1</th>\n",
              "      <td>0.0426</td>\n",
              "    </tr>\n",
              "  </tbody>\n",
              "</table>\n",
              "</div>"
            ],
            "text/plain": [
              "     Probabilidade\n",
              "1x1         0.1220\n",
              "1x0         0.1119\n",
              "2x1         0.0850\n",
              "0x1         0.0847\n",
              "0x0         0.0759\n",
              "1x2         0.0757\n",
              "2x0         0.0756\n",
              "2x2         0.0516\n",
              "0x2         0.0501\n",
              "3x1         0.0426"
            ]
          },
          "metadata": {
            "tags": []
          },
          "execution_count": 130
        }
      ]
    },
    {
      "cell_type": "code",
      "metadata": {
        "colab": {
          "base_uri": "https://localhost:8080/",
          "height": 143
        },
        "id": "RMYE0x_8S9bx",
        "outputId": "7fa320ce-69cc-45fb-b0b8-b60a64efabc3"
      },
      "source": [
        "jogo[0]"
      ],
      "execution_count": 131,
      "outputs": [
        {
          "output_type": "execute_result",
          "data": {
            "text/html": [
              "<div>\n",
              "<style scoped>\n",
              "    .dataframe tbody tr th:only-of-type {\n",
              "        vertical-align: middle;\n",
              "    }\n",
              "\n",
              "    .dataframe tbody tr th {\n",
              "        vertical-align: top;\n",
              "    }\n",
              "\n",
              "    .dataframe thead th {\n",
              "        text-align: right;\n",
              "    }\n",
              "</style>\n",
              "<table border=\"1\" class=\"dataframe\">\n",
              "  <thead>\n",
              "    <tr style=\"text-align: right;\">\n",
              "      <th></th>\n",
              "      <th>Probabilidade</th>\n",
              "    </tr>\n",
              "  </thead>\n",
              "  <tbody>\n",
              "    <tr>\n",
              "      <th>V</th>\n",
              "      <td>0.4232</td>\n",
              "    </tr>\n",
              "    <tr>\n",
              "      <th>E</th>\n",
              "      <td>0.2615</td>\n",
              "    </tr>\n",
              "    <tr>\n",
              "      <th>D</th>\n",
              "      <td>0.3153</td>\n",
              "    </tr>\n",
              "  </tbody>\n",
              "</table>\n",
              "</div>"
            ],
            "text/plain": [
              "   Probabilidade\n",
              "V         0.4232\n",
              "E         0.2615\n",
              "D         0.3153"
            ]
          },
          "metadata": {
            "tags": []
          },
          "execution_count": 131
        }
      ]
    },
    {
      "cell_type": "code",
      "metadata": {
        "colab": {
          "base_uri": "https://localhost:8080/",
          "height": 283
        },
        "id": "QJJs8FUKTA7-",
        "outputId": "03d4fcf1-6a45-47f2-e8ff-61529373c73c"
      },
      "source": [
        "# Questão 10: Qual a probabilidade de cada grupo apresentar um campeão?\n",
        "print('Resposta 10:')  \n",
        "dados['Campeão'].groupby(dados['Grupo']).sum().plot(kind = 'barh');"
      ],
      "execution_count": 132,
      "outputs": [
        {
          "output_type": "stream",
          "text": [
            "Resposta 10:\n"
          ],
          "name": "stdout"
        },
        {
          "output_type": "display_data",
          "data": {
            "image/png": "[encoded data removed]",
            "text/plain": [
              "<Figure size 432x288 with 1 Axes>"
            ]
          },
          "metadata": {
            "tags": [],
            "needs_background": "light"
          }
        }
      ]
    },
    {
      "cell_type": "markdown",
      "metadata": {
        "id": "NKcdP2JS7vrW"
      },
      "source": [
        "---"
      ]
    },
    {
      "cell_type": "markdown",
      "metadata": {
        "id": "nFa6dWlW5Njb"
      },
      "source": [
        "## **Planos de continuação!**\n",
        "2. Propor um modelo para a força dos times (regressão Poisson, por exemplo).\n",
        "3. Fazer webscrapping de fontes de dados para utilizar na modelagem da força do time.\n",
        "4. Montar um Dashboard dos resultados da simulação.\n",
        "5. Fazer gráficos automaticos com formato para redes sociais.\n"
      ]
    }
  ]
}