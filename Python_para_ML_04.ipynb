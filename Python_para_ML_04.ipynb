{
  "nbformat": 4,
  "nbformat_minor": 0,
  "metadata": {
    "colab": {
      "name": "Python para ML - 04.ipynb",
      "provenance": [],
      "collapsed_sections": [],
      "mount_file_id": "14qg52pC1fXYL9XD-gaRmihwNh6G2-Xv_",
      "authorship_tag": "ABX9TyNO+FRf4jkYaD1gh2SGdWkO",
      "include_colab_link": true
    },
    "kernelspec": {
      "name": "python3",
      "display_name": "Python 3"
    }
  },
  "cells": [
    {
      "cell_type": "markdown",
      "metadata": {
        "id": "view-in-github",
        "colab_type": "text"
      },
      "source": [
        "<a href=\"https://colab.research.google.com/github/ricardorocha86/Python-para-Machine-Learning/blob/master/Python_para_ML_04.ipynb\" target=\"_parent\"><img src=\"https://colab.research.google.com/assets/colab-badge.svg\" alt=\"Open In Colab\"/></a>"
      ]
    },
    {
      "cell_type": "markdown",
      "metadata": {
        "id": "Y6l4GKt4xjst",
        "colab_type": "text"
      },
      "source": [
        "![texto alternativo](https://raw.githubusercontent.com/ricardorocha86/Python-para-Machine-Learning/master/Imagens/capa%20-%20python%20para%20ml%2004.jpg)"
      ]
    },
    {
      "cell_type": "markdown",
      "metadata": {
        "id": "BNsCsDcRxq5K",
        "colab_type": "text"
      },
      "source": [
        "# **Python para Machine Learning** - Parte 4"
      ]
    },
    {
      "cell_type": "markdown",
      "metadata": {
        "id": "e5ci8BYxxrLn",
        "colab_type": "text"
      },
      "source": [
        "Nesse notebook vamos ver:\n",
        "- Dicionários\n",
        "- A Biblioteca Pandas\n",
        "- Projeto: Pegando dados da WEB (*webscrapping*)\n",
        "- Exercício\n",
        "- Links Úteis"
      ]
    },
    {
      "cell_type": "markdown",
      "metadata": {
        "id": "5GjMyuwrxrQh",
        "colab_type": "text"
      },
      "source": [
        "## **Dicionários**"
      ]
    },
    {
      "cell_type": "markdown",
      "metadata": {
        "id": "GXH65lvlx0gl",
        "colab_type": "text"
      },
      "source": [
        "Dicionários são objetos no python similares a conjuntos, mas permitem que sejam colocados chaves de referência para cada item. São definidos utilizando chaves **{ }** "
      ]
    },
    {
      "cell_type": "code",
      "metadata": {
        "id": "IqYC1RV9yMt1",
        "colab_type": "code",
        "colab": {}
      },
      "source": [
        "dicionario = {'nome': 'Ricardo', 'idade': 33, 'magro': False, 'função_favorita': len}"
      ],
      "execution_count": 1,
      "outputs": []
    },
    {
      "cell_type": "code",
      "metadata": {
        "id": "Kk9ZP8usygY5",
        "colab_type": "code",
        "colab": {
          "base_uri": "https://localhost:8080/",
          "height": 36
        },
        "outputId": "a28f16f5-aa2e-4f89-e50b-2050624a5abb"
      },
      "source": [
        "dicionario.items()"
      ],
      "execution_count": 2,
      "outputs": [
        {
          "output_type": "execute_result",
          "data": {
            "text/plain": [
              "dict_items([('nome', 'Ricardo'), ('idade', 33), ('magro', False), ('função_favorita', <built-in function len>)])"
            ]
          },
          "metadata": {
            "tags": []
          },
          "execution_count": 2
        }
      ]
    },
    {
      "cell_type": "code",
      "metadata": {
        "id": "NyelWW_8ylgu",
        "colab_type": "code",
        "colab": {
          "base_uri": "https://localhost:8080/",
          "height": 36
        },
        "outputId": "ae14ff6b-205f-4409-e22b-facb419a322f"
      },
      "source": [
        "dicionario.keys()"
      ],
      "execution_count": 3,
      "outputs": [
        {
          "output_type": "execute_result",
          "data": {
            "text/plain": [
              "dict_keys(['nome', 'idade', 'magro', 'função_favorita'])"
            ]
          },
          "metadata": {
            "tags": []
          },
          "execution_count": 3
        }
      ]
    },
    {
      "cell_type": "code",
      "metadata": {
        "id": "AlCZXYpEDt5j",
        "colab_type": "code",
        "colab": {
          "base_uri": "https://localhost:8080/",
          "height": 36
        },
        "outputId": "e569e2b0-33f5-441c-8dad-2e718388e3f3"
      },
      "source": [
        "dicionario.values()"
      ],
      "execution_count": 4,
      "outputs": [
        {
          "output_type": "execute_result",
          "data": {
            "text/plain": [
              "dict_values(['Ricardo', 33, False, <built-in function len>])"
            ]
          },
          "metadata": {
            "tags": []
          },
          "execution_count": 4
        }
      ]
    },
    {
      "cell_type": "code",
      "metadata": {
        "id": "0Kc8Ixhfyv4L",
        "colab_type": "code",
        "colab": {
          "base_uri": "https://localhost:8080/",
          "height": 36
        },
        "outputId": "c9260047-63f3-406d-c7c0-d72cc927dc47"
      },
      "source": [
        "dicionario.get('nome')"
      ],
      "execution_count": 5,
      "outputs": [
        {
          "output_type": "execute_result",
          "data": {
            "application/vnd.google.colaboratory.intrinsic": {
              "type": "string"
            },
            "text/plain": [
              "'Ricardo'"
            ]
          },
          "metadata": {
            "tags": []
          },
          "execution_count": 5
        }
      ]
    },
    {
      "cell_type": "markdown",
      "metadata": {
        "id": "sd4byHojyynH",
        "colab_type": "text"
      },
      "source": [
        "Adicionando novos itens a um dicionário:"
      ]
    },
    {
      "cell_type": "code",
      "metadata": {
        "id": "e7epUiPRzrfE",
        "colab_type": "code",
        "colab": {}
      },
      "source": [
        "dicionario['musica_favorita'] = 'Fairy Tale - Shaman'"
      ],
      "execution_count": 7,
      "outputs": []
    },
    {
      "cell_type": "code",
      "metadata": {
        "id": "UYmiS-A5z07c",
        "colab_type": "code",
        "colab": {
          "base_uri": "https://localhost:8080/",
          "height": 56
        },
        "outputId": "7c945bb7-e5bd-4212-a965-b740dbbaec99"
      },
      "source": [
        "print(dicionario)"
      ],
      "execution_count": 8,
      "outputs": [
        {
          "output_type": "stream",
          "text": [
            "{'nome': 'Ricardo', 'idade': 33, 'magro': False, 'função_favorita': <built-in function len>, 'musica_favorita': 'Fairy Tale - Shaman'}\n"
          ],
          "name": "stdout"
        }
      ]
    },
    {
      "cell_type": "markdown",
      "metadata": {
        "id": "9kocKWQbzxLf",
        "colab_type": "text"
      },
      "source": [
        "Visualizando todas as keys (chaves):"
      ]
    },
    {
      "cell_type": "code",
      "metadata": {
        "id": "WrI23nkC0DTb",
        "colab_type": "code",
        "colab": {
          "base_uri": "https://localhost:8080/",
          "height": 110
        },
        "outputId": "088d436f-7e89-40de-9e74-e77672017310"
      },
      "source": [
        "for i in dicionario:\n",
        "    print(i)"
      ],
      "execution_count": 9,
      "outputs": [
        {
          "output_type": "stream",
          "text": [
            "nome\n",
            "idade\n",
            "magro\n",
            "função_favorita\n",
            "musica_favorita\n"
          ],
          "name": "stdout"
        }
      ]
    },
    {
      "cell_type": "markdown",
      "metadata": {
        "id": "LvDKhOUt0GGE",
        "colab_type": "text"
      },
      "source": [
        "Visualizando todas os values (valores):"
      ]
    },
    {
      "cell_type": "code",
      "metadata": {
        "id": "Qg4gMLgf0L2E",
        "colab_type": "code",
        "colab": {
          "base_uri": "https://localhost:8080/",
          "height": 110
        },
        "outputId": "96abad56-ead8-4f9d-940f-123dd480e925"
      },
      "source": [
        "for i in dicionario:\n",
        "    print(dicionario[i])"
      ],
      "execution_count": 10,
      "outputs": [
        {
          "output_type": "stream",
          "text": [
            "Ricardo\n",
            "33\n",
            "False\n",
            "<built-in function len>\n",
            "Fairy Tale - Shaman\n"
          ],
          "name": "stdout"
        }
      ]
    },
    {
      "cell_type": "markdown",
      "metadata": {
        "id": "NMG3o7de0Qi8",
        "colab_type": "text"
      },
      "source": [
        "Dicionários são úteis em diversas ocasiões em Python, como por exemplo, para passar uma lista de argumentos para uma função:"
      ]
    },
    {
      "cell_type": "code",
      "metadata": {
        "id": "XuuB_nms0b4W",
        "colab_type": "code",
        "colab": {
          "base_uri": "https://localhost:8080/",
          "height": 36
        },
        "outputId": "a1e6370d-27e1-441c-bf64-392eec2ab45c"
      },
      "source": [
        "parametros = {'loc': 2, 'scale': 1, 'size': 12}\n",
        "print(parametros)"
      ],
      "execution_count": 11,
      "outputs": [
        {
          "output_type": "stream",
          "text": [
            "{'loc': 2, 'scale': 1, 'size': 12}\n"
          ],
          "name": "stdout"
        }
      ]
    },
    {
      "cell_type": "code",
      "metadata": {
        "id": "gVpAmawNytuc",
        "colab_type": "code",
        "colab": {
          "base_uri": "https://localhost:8080/",
          "height": 54
        },
        "outputId": "6102604a-13ff-475c-b249-cee56f5cb4a7"
      },
      "source": [
        "import numpy as np\n",
        "\n",
        "x = np.random.normal(**parametros)\n",
        "print(x)\n"
      ],
      "execution_count": 12,
      "outputs": [
        {
          "output_type": "stream",
          "text": [
            "[0.74889965 0.21859105 1.38775864 3.97551208 2.36528028 2.34072986\n",
            " 3.16100015 1.13124302 2.98907357 3.21460391 1.52536989 3.01640311]\n"
          ],
          "name": "stdout"
        }
      ]
    },
    {
      "cell_type": "markdown",
      "metadata": {
        "id": "rHR-KVDv26rz",
        "colab_type": "text"
      },
      "source": [
        "Existe uma solução similar para quando se quer passar listas como argumentos de função:"
      ]
    },
    {
      "cell_type": "code",
      "metadata": {
        "id": "eu8WolK22EbW",
        "colab_type": "code",
        "colab": {
          "base_uri": "https://localhost:8080/",
          "height": 54
        },
        "outputId": "41feb312-d904-468b-cb7c-0688dbd114db"
      },
      "source": [
        "x = np.random.normal(*[2, 1, 12])\n",
        "print(x)"
      ],
      "execution_count": 14,
      "outputs": [
        {
          "output_type": "stream",
          "text": [
            "[2.87783395 1.901883   0.98516956 2.33666672 2.06751484 3.89585858\n",
            " 2.25744675 3.30778925 3.25457413 1.97127765 5.08657147 2.80088823]\n"
          ],
          "name": "stdout"
        }
      ]
    },
    {
      "cell_type": "markdown",
      "metadata": {
        "id": "sp5a6xSKysGA",
        "colab_type": "text"
      },
      "source": [
        "## **A Biblioteca Pandas**"
      ]
    },
    {
      "cell_type": "markdown",
      "metadata": {
        "id": "twMKZpCZyqe2",
        "colab_type": "text"
      },
      "source": [
        "Pandas é a principal biblioteca em Python para se trabalhar com conjunto de dados. Ela oferece diversos objetos e muitas funções que facilitam a importação, seleção, alteração e filtragem de conjuntos de dados. Vejamos alguns a seguir."
      ]
    },
    {
      "cell_type": "markdown",
      "metadata": {
        "id": "Zr0v5FAbfgCg",
        "colab_type": "text"
      },
      "source": [
        "Os dois principais objetos da biblioteca pandas são o **Series** e o **DataFrame**. O segundo é a representação usual que temos de um conjunto de dados, o primeiro é um objeto similar a um array. Para todos os fins, um objeto Series é como se fosse um DataFrame de apenas uma coluna.\n",
        "\n",
        "Vejamos como criar alguns DataFrames:"
      ]
    },
    {
      "cell_type": "code",
      "metadata": {
        "id": "nzQknJ8Nf7Ho",
        "colab_type": "code",
        "colab": {}
      },
      "source": [
        "import pandas as pd"
      ],
      "execution_count": 19,
      "outputs": []
    },
    {
      "cell_type": "code",
      "metadata": {
        "id": "Givie7Abf9pJ",
        "colab_type": "code",
        "colab": {
          "base_uri": "https://localhost:8080/",
          "height": 110
        },
        "outputId": "7b1bb592-6d78-4963-f3d2-275705afa844"
      },
      "source": [
        "valores = np.random.uniform(0, 10, 20).reshape(5, 4).round(1)\n",
        "valores"
      ],
      "execution_count": 20,
      "outputs": [
        {
          "output_type": "execute_result",
          "data": {
            "text/plain": [
              "array([[5.8, 2.5, 7.7, 4.7],\n",
              "       [0.6, 2.7, 2.3, 2.3],\n",
              "       [7.2, 7.9, 1.1, 7.6],\n",
              "       [2.8, 7.9, 4.3, 6.1],\n",
              "       [3.6, 6.7, 5.1, 8.6]])"
            ]
          },
          "metadata": {
            "tags": []
          },
          "execution_count": 20
        }
      ]
    },
    {
      "cell_type": "code",
      "metadata": {
        "id": "m-ECB_E7gF2j",
        "colab_type": "code",
        "colab": {}
      },
      "source": [
        "nomes = ['Alice', 'Bruno', 'Carol', 'David', 'Emily']\n",
        "testes = ['P1', 'P2', 'P3', 'P4']"
      ],
      "execution_count": 21,
      "outputs": []
    },
    {
      "cell_type": "code",
      "metadata": {
        "id": "tQN4m--XfeCK",
        "colab_type": "code",
        "colab": {
          "base_uri": "https://localhost:8080/",
          "height": 206
        },
        "outputId": "263d2e9c-1c41-4ca6-f4a7-ab037e6e98c3"
      },
      "source": [
        "provas = pd.DataFrame(valores, columns = testes, index = nomes)\n",
        "provas"
      ],
      "execution_count": 24,
      "outputs": [
        {
          "output_type": "execute_result",
          "data": {
            "text/html": [
              "<div>\n",
              "<style scoped>\n",
              "    .dataframe tbody tr th:only-of-type {\n",
              "        vertical-align: middle;\n",
              "    }\n",
              "\n",
              "    .dataframe tbody tr th {\n",
              "        vertical-align: top;\n",
              "    }\n",
              "\n",
              "    .dataframe thead th {\n",
              "        text-align: right;\n",
              "    }\n",
              "</style>\n",
              "<table border=\"1\" class=\"dataframe\">\n",
              "  <thead>\n",
              "    <tr style=\"text-align: right;\">\n",
              "      <th></th>\n",
              "      <th>P1</th>\n",
              "      <th>P2</th>\n",
              "      <th>P3</th>\n",
              "      <th>P4</th>\n",
              "    </tr>\n",
              "  </thead>\n",
              "  <tbody>\n",
              "    <tr>\n",
              "      <th>Alice</th>\n",
              "      <td>5.8</td>\n",
              "      <td>2.5</td>\n",
              "      <td>7.7</td>\n",
              "      <td>4.7</td>\n",
              "    </tr>\n",
              "    <tr>\n",
              "      <th>Bruno</th>\n",
              "      <td>0.6</td>\n",
              "      <td>2.7</td>\n",
              "      <td>2.3</td>\n",
              "      <td>2.3</td>\n",
              "    </tr>\n",
              "    <tr>\n",
              "      <th>Carol</th>\n",
              "      <td>7.2</td>\n",
              "      <td>7.9</td>\n",
              "      <td>1.1</td>\n",
              "      <td>7.6</td>\n",
              "    </tr>\n",
              "    <tr>\n",
              "      <th>David</th>\n",
              "      <td>2.8</td>\n",
              "      <td>7.9</td>\n",
              "      <td>4.3</td>\n",
              "      <td>6.1</td>\n",
              "    </tr>\n",
              "    <tr>\n",
              "      <th>Emily</th>\n",
              "      <td>3.6</td>\n",
              "      <td>6.7</td>\n",
              "      <td>5.1</td>\n",
              "      <td>8.6</td>\n",
              "    </tr>\n",
              "  </tbody>\n",
              "</table>\n",
              "</div>"
            ],
            "text/plain": [
              "        P1   P2   P3   P4\n",
              "Alice  5.8  2.5  7.7  4.7\n",
              "Bruno  0.6  2.7  2.3  2.3\n",
              "Carol  7.2  7.9  1.1  7.6\n",
              "David  2.8  7.9  4.3  6.1\n",
              "Emily  3.6  6.7  5.1  8.6"
            ]
          },
          "metadata": {
            "tags": []
          },
          "execution_count": 24
        }
      ]
    },
    {
      "cell_type": "code",
      "metadata": {
        "id": "PykG8Me-feVr",
        "colab_type": "code",
        "colab": {
          "base_uri": "https://localhost:8080/",
          "height": 175
        },
        "outputId": "cfe35950-1947-4ab6-c483-35d7ee6b20e0"
      },
      "source": [
        "provas.transpose()"
      ],
      "execution_count": 25,
      "outputs": [
        {
          "output_type": "execute_result",
          "data": {
            "text/html": [
              "<div>\n",
              "<style scoped>\n",
              "    .dataframe tbody tr th:only-of-type {\n",
              "        vertical-align: middle;\n",
              "    }\n",
              "\n",
              "    .dataframe tbody tr th {\n",
              "        vertical-align: top;\n",
              "    }\n",
              "\n",
              "    .dataframe thead th {\n",
              "        text-align: right;\n",
              "    }\n",
              "</style>\n",
              "<table border=\"1\" class=\"dataframe\">\n",
              "  <thead>\n",
              "    <tr style=\"text-align: right;\">\n",
              "      <th></th>\n",
              "      <th>Alice</th>\n",
              "      <th>Bruno</th>\n",
              "      <th>Carol</th>\n",
              "      <th>David</th>\n",
              "      <th>Emily</th>\n",
              "    </tr>\n",
              "  </thead>\n",
              "  <tbody>\n",
              "    <tr>\n",
              "      <th>P1</th>\n",
              "      <td>5.8</td>\n",
              "      <td>0.6</td>\n",
              "      <td>7.2</td>\n",
              "      <td>2.8</td>\n",
              "      <td>3.6</td>\n",
              "    </tr>\n",
              "    <tr>\n",
              "      <th>P2</th>\n",
              "      <td>2.5</td>\n",
              "      <td>2.7</td>\n",
              "      <td>7.9</td>\n",
              "      <td>7.9</td>\n",
              "      <td>6.7</td>\n",
              "    </tr>\n",
              "    <tr>\n",
              "      <th>P3</th>\n",
              "      <td>7.7</td>\n",
              "      <td>2.3</td>\n",
              "      <td>1.1</td>\n",
              "      <td>4.3</td>\n",
              "      <td>5.1</td>\n",
              "    </tr>\n",
              "    <tr>\n",
              "      <th>P4</th>\n",
              "      <td>4.7</td>\n",
              "      <td>2.3</td>\n",
              "      <td>7.6</td>\n",
              "      <td>6.1</td>\n",
              "      <td>8.6</td>\n",
              "    </tr>\n",
              "  </tbody>\n",
              "</table>\n",
              "</div>"
            ],
            "text/plain": [
              "    Alice  Bruno  Carol  David  Emily\n",
              "P1    5.8    0.6    7.2    2.8    3.6\n",
              "P2    2.5    2.7    7.9    7.9    6.7\n",
              "P3    7.7    2.3    1.1    4.3    5.1\n",
              "P4    4.7    2.3    7.6    6.1    8.6"
            ]
          },
          "metadata": {
            "tags": []
          },
          "execution_count": 25
        }
      ]
    },
    {
      "cell_type": "markdown",
      "metadata": {
        "id": "LPyXCnLafeeW",
        "colab_type": "text"
      },
      "source": [
        "Gerando DataFrames através de Dicionários:"
      ]
    },
    {
      "cell_type": "code",
      "metadata": {
        "id": "_-Rhr0l7iFeJ",
        "colab_type": "code",
        "colab": {}
      },
      "source": [
        "dicionario = {'Alice': np.random.uniform(5, 10, 4).round(1),\n",
        "              'Bruno': np.random.uniform(0, 7, 4).round(1),\n",
        "              'Carol': np.random.uniform(3, 7, 4).round(1),\n",
        "              'David': np.random.uniform(0, 10, 4).round(1),\n",
        "              'Emily': np.random.uniform(8, 10, 4).round(1)}"
      ],
      "execution_count": 57,
      "outputs": []
    },
    {
      "cell_type": "code",
      "metadata": {
        "id": "woHJJLeGil0K",
        "colab_type": "code",
        "colab": {}
      },
      "source": [
        "provas = pd.DataFrame(dicionario)"
      ],
      "execution_count": 58,
      "outputs": []
    },
    {
      "cell_type": "code",
      "metadata": {
        "id": "VPVV70HdiPbK",
        "colab_type": "code",
        "colab": {}
      },
      "source": [
        "provas.index = ['P1', 'P2', 'P3', 'P4']"
      ],
      "execution_count": 59,
      "outputs": []
    },
    {
      "cell_type": "code",
      "metadata": {
        "id": "uUwBWh1Ziw8z",
        "colab_type": "code",
        "colab": {}
      },
      "source": [
        "provas = provas.transpose()"
      ],
      "execution_count": 60,
      "outputs": []
    },
    {
      "cell_type": "code",
      "metadata": {
        "id": "kFLZHExYEnT4",
        "colab_type": "code",
        "colab": {
          "base_uri": "https://localhost:8080/",
          "height": 206
        },
        "outputId": "5448b96a-645a-4d65-d9c8-a9bcf4a49d73"
      },
      "source": [
        "provas"
      ],
      "execution_count": 61,
      "outputs": [
        {
          "output_type": "execute_result",
          "data": {
            "text/html": [
              "<div>\n",
              "<style scoped>\n",
              "    .dataframe tbody tr th:only-of-type {\n",
              "        vertical-align: middle;\n",
              "    }\n",
              "\n",
              "    .dataframe tbody tr th {\n",
              "        vertical-align: top;\n",
              "    }\n",
              "\n",
              "    .dataframe thead th {\n",
              "        text-align: right;\n",
              "    }\n",
              "</style>\n",
              "<table border=\"1\" class=\"dataframe\">\n",
              "  <thead>\n",
              "    <tr style=\"text-align: right;\">\n",
              "      <th></th>\n",
              "      <th>P1</th>\n",
              "      <th>P2</th>\n",
              "      <th>P3</th>\n",
              "      <th>P4</th>\n",
              "    </tr>\n",
              "  </thead>\n",
              "  <tbody>\n",
              "    <tr>\n",
              "      <th>Alice</th>\n",
              "      <td>8.9</td>\n",
              "      <td>8.3</td>\n",
              "      <td>8.3</td>\n",
              "      <td>6.2</td>\n",
              "    </tr>\n",
              "    <tr>\n",
              "      <th>Bruno</th>\n",
              "      <td>5.6</td>\n",
              "      <td>4.1</td>\n",
              "      <td>3.6</td>\n",
              "      <td>6.2</td>\n",
              "    </tr>\n",
              "    <tr>\n",
              "      <th>Carol</th>\n",
              "      <td>5.2</td>\n",
              "      <td>5.5</td>\n",
              "      <td>3.5</td>\n",
              "      <td>5.2</td>\n",
              "    </tr>\n",
              "    <tr>\n",
              "      <th>David</th>\n",
              "      <td>8.5</td>\n",
              "      <td>9.2</td>\n",
              "      <td>2.0</td>\n",
              "      <td>4.2</td>\n",
              "    </tr>\n",
              "    <tr>\n",
              "      <th>Emily</th>\n",
              "      <td>9.1</td>\n",
              "      <td>9.7</td>\n",
              "      <td>9.3</td>\n",
              "      <td>8.3</td>\n",
              "    </tr>\n",
              "  </tbody>\n",
              "</table>\n",
              "</div>"
            ],
            "text/plain": [
              "        P1   P2   P3   P4\n",
              "Alice  8.9  8.3  8.3  6.2\n",
              "Bruno  5.6  4.1  3.6  6.2\n",
              "Carol  5.2  5.5  3.5  5.2\n",
              "David  8.5  9.2  2.0  4.2\n",
              "Emily  9.1  9.7  9.3  8.3"
            ]
          },
          "metadata": {
            "tags": []
          },
          "execution_count": 61
        }
      ]
    },
    {
      "cell_type": "markdown",
      "metadata": {
        "id": "VQO-ODtJE8_t",
        "colab_type": "text"
      },
      "source": [
        "Alguns métodos básicos importantes:"
      ]
    },
    {
      "cell_type": "code",
      "metadata": {
        "id": "h6a5CbNsixqa",
        "colab_type": "code",
        "colab": {
          "base_uri": "https://localhost:8080/",
          "height": 112
        },
        "outputId": "0e5a6f46-25e8-45f7-b6fe-6197abd23c8f"
      },
      "source": [
        "provas.head(2)"
      ],
      "execution_count": 62,
      "outputs": [
        {
          "output_type": "execute_result",
          "data": {
            "text/html": [
              "<div>\n",
              "<style scoped>\n",
              "    .dataframe tbody tr th:only-of-type {\n",
              "        vertical-align: middle;\n",
              "    }\n",
              "\n",
              "    .dataframe tbody tr th {\n",
              "        vertical-align: top;\n",
              "    }\n",
              "\n",
              "    .dataframe thead th {\n",
              "        text-align: right;\n",
              "    }\n",
              "</style>\n",
              "<table border=\"1\" class=\"dataframe\">\n",
              "  <thead>\n",
              "    <tr style=\"text-align: right;\">\n",
              "      <th></th>\n",
              "      <th>P1</th>\n",
              "      <th>P2</th>\n",
              "      <th>P3</th>\n",
              "      <th>P4</th>\n",
              "    </tr>\n",
              "  </thead>\n",
              "  <tbody>\n",
              "    <tr>\n",
              "      <th>Alice</th>\n",
              "      <td>8.9</td>\n",
              "      <td>8.3</td>\n",
              "      <td>8.3</td>\n",
              "      <td>6.2</td>\n",
              "    </tr>\n",
              "    <tr>\n",
              "      <th>Bruno</th>\n",
              "      <td>5.6</td>\n",
              "      <td>4.1</td>\n",
              "      <td>3.6</td>\n",
              "      <td>6.2</td>\n",
              "    </tr>\n",
              "  </tbody>\n",
              "</table>\n",
              "</div>"
            ],
            "text/plain": [
              "        P1   P2   P3   P4\n",
              "Alice  8.9  8.3  8.3  6.2\n",
              "Bruno  5.6  4.1  3.6  6.2"
            ]
          },
          "metadata": {
            "tags": []
          },
          "execution_count": 62
        }
      ]
    },
    {
      "cell_type": "code",
      "metadata": {
        "id": "PFu4k955jXpE",
        "colab_type": "code",
        "colab": {
          "base_uri": "https://localhost:8080/",
          "height": 112
        },
        "outputId": "ce2092bc-6ad4-4ef3-b6ca-37d584d43bc3"
      },
      "source": [
        "provas.tail(2)"
      ],
      "execution_count": 63,
      "outputs": [
        {
          "output_type": "execute_result",
          "data": {
            "text/html": [
              "<div>\n",
              "<style scoped>\n",
              "    .dataframe tbody tr th:only-of-type {\n",
              "        vertical-align: middle;\n",
              "    }\n",
              "\n",
              "    .dataframe tbody tr th {\n",
              "        vertical-align: top;\n",
              "    }\n",
              "\n",
              "    .dataframe thead th {\n",
              "        text-align: right;\n",
              "    }\n",
              "</style>\n",
              "<table border=\"1\" class=\"dataframe\">\n",
              "  <thead>\n",
              "    <tr style=\"text-align: right;\">\n",
              "      <th></th>\n",
              "      <th>P1</th>\n",
              "      <th>P2</th>\n",
              "      <th>P3</th>\n",
              "      <th>P4</th>\n",
              "    </tr>\n",
              "  </thead>\n",
              "  <tbody>\n",
              "    <tr>\n",
              "      <th>David</th>\n",
              "      <td>8.5</td>\n",
              "      <td>9.2</td>\n",
              "      <td>2.0</td>\n",
              "      <td>4.2</td>\n",
              "    </tr>\n",
              "    <tr>\n",
              "      <th>Emily</th>\n",
              "      <td>9.1</td>\n",
              "      <td>9.7</td>\n",
              "      <td>9.3</td>\n",
              "      <td>8.3</td>\n",
              "    </tr>\n",
              "  </tbody>\n",
              "</table>\n",
              "</div>"
            ],
            "text/plain": [
              "        P1   P2   P3   P4\n",
              "David  8.5  9.2  2.0  4.2\n",
              "Emily  9.1  9.7  9.3  8.3"
            ]
          },
          "metadata": {
            "tags": []
          },
          "execution_count": 63
        }
      ]
    },
    {
      "cell_type": "code",
      "metadata": {
        "id": "r2cKr7zfiCbr",
        "colab_type": "code",
        "colab": {
          "base_uri": "https://localhost:8080/",
          "height": 221
        },
        "outputId": "6aba7ffe-58d6-4351-9f0b-d18a40556b07"
      },
      "source": [
        "provas.info()"
      ],
      "execution_count": 64,
      "outputs": [
        {
          "output_type": "stream",
          "text": [
            "<class 'pandas.core.frame.DataFrame'>\n",
            "Index: 5 entries, Alice to Emily\n",
            "Data columns (total 4 columns):\n",
            " #   Column  Non-Null Count  Dtype  \n",
            "---  ------  --------------  -----  \n",
            " 0   P1      5 non-null      float64\n",
            " 1   P2      5 non-null      float64\n",
            " 2   P3      5 non-null      float64\n",
            " 3   P4      5 non-null      float64\n",
            "dtypes: float64(4)\n",
            "memory usage: 200.0+ bytes\n"
          ],
          "name": "stdout"
        }
      ]
    },
    {
      "cell_type": "code",
      "metadata": {
        "id": "aPBjktoMjbXS",
        "colab_type": "code",
        "colab": {
          "base_uri": "https://localhost:8080/",
          "height": 300
        },
        "outputId": "a3f65ab8-0567-491f-8eae-829ad5e36b62"
      },
      "source": [
        "provas.describe()"
      ],
      "execution_count": 65,
      "outputs": [
        {
          "output_type": "execute_result",
          "data": {
            "text/html": [
              "<div>\n",
              "<style scoped>\n",
              "    .dataframe tbody tr th:only-of-type {\n",
              "        vertical-align: middle;\n",
              "    }\n",
              "\n",
              "    .dataframe tbody tr th {\n",
              "        vertical-align: top;\n",
              "    }\n",
              "\n",
              "    .dataframe thead th {\n",
              "        text-align: right;\n",
              "    }\n",
              "</style>\n",
              "<table border=\"1\" class=\"dataframe\">\n",
              "  <thead>\n",
              "    <tr style=\"text-align: right;\">\n",
              "      <th></th>\n",
              "      <th>P1</th>\n",
              "      <th>P2</th>\n",
              "      <th>P3</th>\n",
              "      <th>P4</th>\n",
              "    </tr>\n",
              "  </thead>\n",
              "  <tbody>\n",
              "    <tr>\n",
              "      <th>count</th>\n",
              "      <td>5.000000</td>\n",
              "      <td>5.000000</td>\n",
              "      <td>5.000000</td>\n",
              "      <td>5.000000</td>\n",
              "    </tr>\n",
              "    <tr>\n",
              "      <th>mean</th>\n",
              "      <td>7.460000</td>\n",
              "      <td>7.360000</td>\n",
              "      <td>5.340000</td>\n",
              "      <td>6.020000</td>\n",
              "    </tr>\n",
              "    <tr>\n",
              "      <th>std</th>\n",
              "      <td>1.898157</td>\n",
              "      <td>2.440901</td>\n",
              "      <td>3.240833</td>\n",
              "      <td>1.520526</td>\n",
              "    </tr>\n",
              "    <tr>\n",
              "      <th>min</th>\n",
              "      <td>5.200000</td>\n",
              "      <td>4.100000</td>\n",
              "      <td>2.000000</td>\n",
              "      <td>4.200000</td>\n",
              "    </tr>\n",
              "    <tr>\n",
              "      <th>25%</th>\n",
              "      <td>5.600000</td>\n",
              "      <td>5.500000</td>\n",
              "      <td>3.500000</td>\n",
              "      <td>5.200000</td>\n",
              "    </tr>\n",
              "    <tr>\n",
              "      <th>50%</th>\n",
              "      <td>8.500000</td>\n",
              "      <td>8.300000</td>\n",
              "      <td>3.600000</td>\n",
              "      <td>6.200000</td>\n",
              "    </tr>\n",
              "    <tr>\n",
              "      <th>75%</th>\n",
              "      <td>8.900000</td>\n",
              "      <td>9.200000</td>\n",
              "      <td>8.300000</td>\n",
              "      <td>6.200000</td>\n",
              "    </tr>\n",
              "    <tr>\n",
              "      <th>max</th>\n",
              "      <td>9.100000</td>\n",
              "      <td>9.700000</td>\n",
              "      <td>9.300000</td>\n",
              "      <td>8.300000</td>\n",
              "    </tr>\n",
              "  </tbody>\n",
              "</table>\n",
              "</div>"
            ],
            "text/plain": [
              "             P1        P2        P3        P4\n",
              "count  5.000000  5.000000  5.000000  5.000000\n",
              "mean   7.460000  7.360000  5.340000  6.020000\n",
              "std    1.898157  2.440901  3.240833  1.520526\n",
              "min    5.200000  4.100000  2.000000  4.200000\n",
              "25%    5.600000  5.500000  3.500000  5.200000\n",
              "50%    8.500000  8.300000  3.600000  6.200000\n",
              "75%    8.900000  9.200000  8.300000  6.200000\n",
              "max    9.100000  9.700000  9.300000  8.300000"
            ]
          },
          "metadata": {
            "tags": []
          },
          "execution_count": 65
        }
      ]
    },
    {
      "cell_type": "code",
      "metadata": {
        "id": "BGmZPXz6jkOB",
        "colab_type": "code",
        "colab": {
          "base_uri": "https://localhost:8080/",
          "height": 300
        },
        "outputId": "fad5ef64-e76e-41b2-8b4c-b38cd5eeb4ce"
      },
      "source": [
        "provas.transpose().describe()"
      ],
      "execution_count": 66,
      "outputs": [
        {
          "output_type": "execute_result",
          "data": {
            "text/html": [
              "<div>\n",
              "<style scoped>\n",
              "    .dataframe tbody tr th:only-of-type {\n",
              "        vertical-align: middle;\n",
              "    }\n",
              "\n",
              "    .dataframe tbody tr th {\n",
              "        vertical-align: top;\n",
              "    }\n",
              "\n",
              "    .dataframe thead th {\n",
              "        text-align: right;\n",
              "    }\n",
              "</style>\n",
              "<table border=\"1\" class=\"dataframe\">\n",
              "  <thead>\n",
              "    <tr style=\"text-align: right;\">\n",
              "      <th></th>\n",
              "      <th>Alice</th>\n",
              "      <th>Bruno</th>\n",
              "      <th>Carol</th>\n",
              "      <th>David</th>\n",
              "      <th>Emily</th>\n",
              "    </tr>\n",
              "  </thead>\n",
              "  <tbody>\n",
              "    <tr>\n",
              "      <th>count</th>\n",
              "      <td>4.000000</td>\n",
              "      <td>4.000000</td>\n",
              "      <td>4.000000</td>\n",
              "      <td>4.000000</td>\n",
              "      <td>4.000000</td>\n",
              "    </tr>\n",
              "    <tr>\n",
              "      <th>mean</th>\n",
              "      <td>7.925000</td>\n",
              "      <td>4.875000</td>\n",
              "      <td>4.850000</td>\n",
              "      <td>5.975000</td>\n",
              "      <td>9.100000</td>\n",
              "    </tr>\n",
              "    <tr>\n",
              "      <th>std</th>\n",
              "      <td>1.184272</td>\n",
              "      <td>1.225765</td>\n",
              "      <td>0.911043</td>\n",
              "      <td>3.450966</td>\n",
              "      <td>0.588784</td>\n",
              "    </tr>\n",
              "    <tr>\n",
              "      <th>min</th>\n",
              "      <td>6.200000</td>\n",
              "      <td>3.600000</td>\n",
              "      <td>3.500000</td>\n",
              "      <td>2.000000</td>\n",
              "      <td>8.300000</td>\n",
              "    </tr>\n",
              "    <tr>\n",
              "      <th>25%</th>\n",
              "      <td>7.775000</td>\n",
              "      <td>3.975000</td>\n",
              "      <td>4.775000</td>\n",
              "      <td>3.650000</td>\n",
              "      <td>8.900000</td>\n",
              "    </tr>\n",
              "    <tr>\n",
              "      <th>50%</th>\n",
              "      <td>8.300000</td>\n",
              "      <td>4.850000</td>\n",
              "      <td>5.200000</td>\n",
              "      <td>6.350000</td>\n",
              "      <td>9.200000</td>\n",
              "    </tr>\n",
              "    <tr>\n",
              "      <th>75%</th>\n",
              "      <td>8.450000</td>\n",
              "      <td>5.750000</td>\n",
              "      <td>5.275000</td>\n",
              "      <td>8.675000</td>\n",
              "      <td>9.400000</td>\n",
              "    </tr>\n",
              "    <tr>\n",
              "      <th>max</th>\n",
              "      <td>8.900000</td>\n",
              "      <td>6.200000</td>\n",
              "      <td>5.500000</td>\n",
              "      <td>9.200000</td>\n",
              "      <td>9.700000</td>\n",
              "    </tr>\n",
              "  </tbody>\n",
              "</table>\n",
              "</div>"
            ],
            "text/plain": [
              "          Alice     Bruno     Carol     David     Emily\n",
              "count  4.000000  4.000000  4.000000  4.000000  4.000000\n",
              "mean   7.925000  4.875000  4.850000  5.975000  9.100000\n",
              "std    1.184272  1.225765  0.911043  3.450966  0.588784\n",
              "min    6.200000  3.600000  3.500000  2.000000  8.300000\n",
              "25%    7.775000  3.975000  4.775000  3.650000  8.900000\n",
              "50%    8.300000  4.850000  5.200000  6.350000  9.200000\n",
              "75%    8.450000  5.750000  5.275000  8.675000  9.400000\n",
              "max    8.900000  6.200000  5.500000  9.200000  9.700000"
            ]
          },
          "metadata": {
            "tags": []
          },
          "execution_count": 66
        }
      ]
    },
    {
      "cell_type": "code",
      "metadata": {
        "id": "7rNq0EnWk9Pd",
        "colab_type": "code",
        "colab": {
          "base_uri": "https://localhost:8080/",
          "height": 36
        },
        "outputId": "d0ac9f94-5d5d-4abf-cc14-593e251c30bd"
      },
      "source": [
        "provas.shape"
      ],
      "execution_count": 67,
      "outputs": [
        {
          "output_type": "execute_result",
          "data": {
            "text/plain": [
              "(5, 4)"
            ]
          },
          "metadata": {
            "tags": []
          },
          "execution_count": 67
        }
      ]
    },
    {
      "cell_type": "markdown",
      "metadata": {
        "id": "cp2UBs-4EziL",
        "colab_type": "text"
      },
      "source": [
        "Criando uma nova variável chamada **Média**, sendo a média aritmética das 4 provas:"
      ]
    },
    {
      "cell_type": "code",
      "metadata": {
        "id": "OMkJLgJIjkTG",
        "colab_type": "code",
        "colab": {}
      },
      "source": [
        "provas['MF'] = provas.mean(axis = 1).round(1)"
      ],
      "execution_count": 68,
      "outputs": []
    },
    {
      "cell_type": "code",
      "metadata": {
        "id": "eKhj-2tdExeS",
        "colab_type": "code",
        "colab": {
          "base_uri": "https://localhost:8080/",
          "height": 206
        },
        "outputId": "0cc7056d-6111-4e74-8dbf-eb1f1b00da01"
      },
      "source": [
        "provas"
      ],
      "execution_count": 69,
      "outputs": [
        {
          "output_type": "execute_result",
          "data": {
            "text/html": [
              "<div>\n",
              "<style scoped>\n",
              "    .dataframe tbody tr th:only-of-type {\n",
              "        vertical-align: middle;\n",
              "    }\n",
              "\n",
              "    .dataframe tbody tr th {\n",
              "        vertical-align: top;\n",
              "    }\n",
              "\n",
              "    .dataframe thead th {\n",
              "        text-align: right;\n",
              "    }\n",
              "</style>\n",
              "<table border=\"1\" class=\"dataframe\">\n",
              "  <thead>\n",
              "    <tr style=\"text-align: right;\">\n",
              "      <th></th>\n",
              "      <th>P1</th>\n",
              "      <th>P2</th>\n",
              "      <th>P3</th>\n",
              "      <th>P4</th>\n",
              "      <th>MF</th>\n",
              "    </tr>\n",
              "  </thead>\n",
              "  <tbody>\n",
              "    <tr>\n",
              "      <th>Alice</th>\n",
              "      <td>8.9</td>\n",
              "      <td>8.3</td>\n",
              "      <td>8.3</td>\n",
              "      <td>6.2</td>\n",
              "      <td>7.9</td>\n",
              "    </tr>\n",
              "    <tr>\n",
              "      <th>Bruno</th>\n",
              "      <td>5.6</td>\n",
              "      <td>4.1</td>\n",
              "      <td>3.6</td>\n",
              "      <td>6.2</td>\n",
              "      <td>4.9</td>\n",
              "    </tr>\n",
              "    <tr>\n",
              "      <th>Carol</th>\n",
              "      <td>5.2</td>\n",
              "      <td>5.5</td>\n",
              "      <td>3.5</td>\n",
              "      <td>5.2</td>\n",
              "      <td>4.8</td>\n",
              "    </tr>\n",
              "    <tr>\n",
              "      <th>David</th>\n",
              "      <td>8.5</td>\n",
              "      <td>9.2</td>\n",
              "      <td>2.0</td>\n",
              "      <td>4.2</td>\n",
              "      <td>6.0</td>\n",
              "    </tr>\n",
              "    <tr>\n",
              "      <th>Emily</th>\n",
              "      <td>9.1</td>\n",
              "      <td>9.7</td>\n",
              "      <td>9.3</td>\n",
              "      <td>8.3</td>\n",
              "      <td>9.1</td>\n",
              "    </tr>\n",
              "  </tbody>\n",
              "</table>\n",
              "</div>"
            ],
            "text/plain": [
              "        P1   P2   P3   P4   MF\n",
              "Alice  8.9  8.3  8.3  6.2  7.9\n",
              "Bruno  5.6  4.1  3.6  6.2  4.9\n",
              "Carol  5.2  5.5  3.5  5.2  4.8\n",
              "David  8.5  9.2  2.0  4.2  6.0\n",
              "Emily  9.1  9.7  9.3  8.3  9.1"
            ]
          },
          "metadata": {
            "tags": []
          },
          "execution_count": 69
        }
      ]
    },
    {
      "cell_type": "markdown",
      "metadata": {
        "id": "cSaqnZd0FDqj",
        "colab_type": "text"
      },
      "source": [
        "Criando uma nova variável personalizada, em que é definida como 'Aprovado' se a variável Média for maior ou igual a 5, e 'Reprovado' no caso contrário:"
      ]
    },
    {
      "cell_type": "code",
      "metadata": {
        "id": "zZYSpl3wkNax",
        "colab_type": "code",
        "colab": {}
      },
      "source": [
        "def aux(x):\n",
        "    if x >= 5:\n",
        "        return 'Aprovado'\n",
        "    else:\n",
        "        return 'Reprovado'\n",
        "\n",
        "provas['Situação'] = provas['MF'].apply(aux)"
      ],
      "execution_count": 70,
      "outputs": []
    },
    {
      "cell_type": "code",
      "metadata": {
        "id": "wknqa9sGFWib",
        "colab_type": "code",
        "colab": {
          "base_uri": "https://localhost:8080/",
          "height": 206
        },
        "outputId": "4a5351d0-e550-4bcb-d813-071a98f23312"
      },
      "source": [
        "provas"
      ],
      "execution_count": 71,
      "outputs": [
        {
          "output_type": "execute_result",
          "data": {
            "text/html": [
              "<div>\n",
              "<style scoped>\n",
              "    .dataframe tbody tr th:only-of-type {\n",
              "        vertical-align: middle;\n",
              "    }\n",
              "\n",
              "    .dataframe tbody tr th {\n",
              "        vertical-align: top;\n",
              "    }\n",
              "\n",
              "    .dataframe thead th {\n",
              "        text-align: right;\n",
              "    }\n",
              "</style>\n",
              "<table border=\"1\" class=\"dataframe\">\n",
              "  <thead>\n",
              "    <tr style=\"text-align: right;\">\n",
              "      <th></th>\n",
              "      <th>P1</th>\n",
              "      <th>P2</th>\n",
              "      <th>P3</th>\n",
              "      <th>P4</th>\n",
              "      <th>MF</th>\n",
              "      <th>Situação</th>\n",
              "    </tr>\n",
              "  </thead>\n",
              "  <tbody>\n",
              "    <tr>\n",
              "      <th>Alice</th>\n",
              "      <td>8.9</td>\n",
              "      <td>8.3</td>\n",
              "      <td>8.3</td>\n",
              "      <td>6.2</td>\n",
              "      <td>7.9</td>\n",
              "      <td>Aprovado</td>\n",
              "    </tr>\n",
              "    <tr>\n",
              "      <th>Bruno</th>\n",
              "      <td>5.6</td>\n",
              "      <td>4.1</td>\n",
              "      <td>3.6</td>\n",
              "      <td>6.2</td>\n",
              "      <td>4.9</td>\n",
              "      <td>Reprovado</td>\n",
              "    </tr>\n",
              "    <tr>\n",
              "      <th>Carol</th>\n",
              "      <td>5.2</td>\n",
              "      <td>5.5</td>\n",
              "      <td>3.5</td>\n",
              "      <td>5.2</td>\n",
              "      <td>4.8</td>\n",
              "      <td>Reprovado</td>\n",
              "    </tr>\n",
              "    <tr>\n",
              "      <th>David</th>\n",
              "      <td>8.5</td>\n",
              "      <td>9.2</td>\n",
              "      <td>2.0</td>\n",
              "      <td>4.2</td>\n",
              "      <td>6.0</td>\n",
              "      <td>Aprovado</td>\n",
              "    </tr>\n",
              "    <tr>\n",
              "      <th>Emily</th>\n",
              "      <td>9.1</td>\n",
              "      <td>9.7</td>\n",
              "      <td>9.3</td>\n",
              "      <td>8.3</td>\n",
              "      <td>9.1</td>\n",
              "      <td>Aprovado</td>\n",
              "    </tr>\n",
              "  </tbody>\n",
              "</table>\n",
              "</div>"
            ],
            "text/plain": [
              "        P1   P2   P3   P4   MF   Situação\n",
              "Alice  8.9  8.3  8.3  6.2  7.9   Aprovado\n",
              "Bruno  5.6  4.1  3.6  6.2  4.9  Reprovado\n",
              "Carol  5.2  5.5  3.5  5.2  4.8  Reprovado\n",
              "David  8.5  9.2  2.0  4.2  6.0   Aprovado\n",
              "Emily  9.1  9.7  9.3  8.3  9.1   Aprovado"
            ]
          },
          "metadata": {
            "tags": []
          },
          "execution_count": 71
        }
      ]
    },
    {
      "cell_type": "markdown",
      "metadata": {
        "id": "WHU-J7KbFU8u",
        "colab_type": "text"
      },
      "source": [
        "Veja a versatilidade do método apply. É possível criar inúmeros tipos de variáveis, basta definir a transformação desejada em uma função."
      ]
    },
    {
      "cell_type": "markdown",
      "metadata": {
        "id": "_vkT4lRZFl_Y",
        "colab_type": "text"
      },
      "source": [
        "Ordenando um conjunto de dados"
      ]
    },
    {
      "cell_type": "code",
      "metadata": {
        "id": "7hNepPRtkjGn",
        "colab_type": "code",
        "colab": {
          "base_uri": "https://localhost:8080/",
          "height": 206
        },
        "outputId": "a721cb2d-7924-4b54-f9aa-1bc1d08586bf"
      },
      "source": [
        "provas.sort_values('MF')"
      ],
      "execution_count": 72,
      "outputs": [
        {
          "output_type": "execute_result",
          "data": {
            "text/html": [
              "<div>\n",
              "<style scoped>\n",
              "    .dataframe tbody tr th:only-of-type {\n",
              "        vertical-align: middle;\n",
              "    }\n",
              "\n",
              "    .dataframe tbody tr th {\n",
              "        vertical-align: top;\n",
              "    }\n",
              "\n",
              "    .dataframe thead th {\n",
              "        text-align: right;\n",
              "    }\n",
              "</style>\n",
              "<table border=\"1\" class=\"dataframe\">\n",
              "  <thead>\n",
              "    <tr style=\"text-align: right;\">\n",
              "      <th></th>\n",
              "      <th>P1</th>\n",
              "      <th>P2</th>\n",
              "      <th>P3</th>\n",
              "      <th>P4</th>\n",
              "      <th>MF</th>\n",
              "      <th>Situação</th>\n",
              "    </tr>\n",
              "  </thead>\n",
              "  <tbody>\n",
              "    <tr>\n",
              "      <th>Carol</th>\n",
              "      <td>5.2</td>\n",
              "      <td>5.5</td>\n",
              "      <td>3.5</td>\n",
              "      <td>5.2</td>\n",
              "      <td>4.8</td>\n",
              "      <td>Reprovado</td>\n",
              "    </tr>\n",
              "    <tr>\n",
              "      <th>Bruno</th>\n",
              "      <td>5.6</td>\n",
              "      <td>4.1</td>\n",
              "      <td>3.6</td>\n",
              "      <td>6.2</td>\n",
              "      <td>4.9</td>\n",
              "      <td>Reprovado</td>\n",
              "    </tr>\n",
              "    <tr>\n",
              "      <th>David</th>\n",
              "      <td>8.5</td>\n",
              "      <td>9.2</td>\n",
              "      <td>2.0</td>\n",
              "      <td>4.2</td>\n",
              "      <td>6.0</td>\n",
              "      <td>Aprovado</td>\n",
              "    </tr>\n",
              "    <tr>\n",
              "      <th>Alice</th>\n",
              "      <td>8.9</td>\n",
              "      <td>8.3</td>\n",
              "      <td>8.3</td>\n",
              "      <td>6.2</td>\n",
              "      <td>7.9</td>\n",
              "      <td>Aprovado</td>\n",
              "    </tr>\n",
              "    <tr>\n",
              "      <th>Emily</th>\n",
              "      <td>9.1</td>\n",
              "      <td>9.7</td>\n",
              "      <td>9.3</td>\n",
              "      <td>8.3</td>\n",
              "      <td>9.1</td>\n",
              "      <td>Aprovado</td>\n",
              "    </tr>\n",
              "  </tbody>\n",
              "</table>\n",
              "</div>"
            ],
            "text/plain": [
              "        P1   P2   P3   P4   MF   Situação\n",
              "Carol  5.2  5.5  3.5  5.2  4.8  Reprovado\n",
              "Bruno  5.6  4.1  3.6  6.2  4.9  Reprovado\n",
              "David  8.5  9.2  2.0  4.2  6.0   Aprovado\n",
              "Alice  8.9  8.3  8.3  6.2  7.9   Aprovado\n",
              "Emily  9.1  9.7  9.3  8.3  9.1   Aprovado"
            ]
          },
          "metadata": {
            "tags": []
          },
          "execution_count": 72
        }
      ]
    },
    {
      "cell_type": "code",
      "metadata": {
        "id": "iB-PjR3rlycx",
        "colab_type": "code",
        "colab": {
          "base_uri": "https://localhost:8080/",
          "height": 206
        },
        "outputId": "bbf5d868-976a-4cd7-ad32-ed9be180865f"
      },
      "source": [
        "provas.sort_values('MF', ascending = False)"
      ],
      "execution_count": 73,
      "outputs": [
        {
          "output_type": "execute_result",
          "data": {
            "text/html": [
              "<div>\n",
              "<style scoped>\n",
              "    .dataframe tbody tr th:only-of-type {\n",
              "        vertical-align: middle;\n",
              "    }\n",
              "\n",
              "    .dataframe tbody tr th {\n",
              "        vertical-align: top;\n",
              "    }\n",
              "\n",
              "    .dataframe thead th {\n",
              "        text-align: right;\n",
              "    }\n",
              "</style>\n",
              "<table border=\"1\" class=\"dataframe\">\n",
              "  <thead>\n",
              "    <tr style=\"text-align: right;\">\n",
              "      <th></th>\n",
              "      <th>P1</th>\n",
              "      <th>P2</th>\n",
              "      <th>P3</th>\n",
              "      <th>P4</th>\n",
              "      <th>MF</th>\n",
              "      <th>Situação</th>\n",
              "    </tr>\n",
              "  </thead>\n",
              "  <tbody>\n",
              "    <tr>\n",
              "      <th>Emily</th>\n",
              "      <td>9.1</td>\n",
              "      <td>9.7</td>\n",
              "      <td>9.3</td>\n",
              "      <td>8.3</td>\n",
              "      <td>9.1</td>\n",
              "      <td>Aprovado</td>\n",
              "    </tr>\n",
              "    <tr>\n",
              "      <th>Alice</th>\n",
              "      <td>8.9</td>\n",
              "      <td>8.3</td>\n",
              "      <td>8.3</td>\n",
              "      <td>6.2</td>\n",
              "      <td>7.9</td>\n",
              "      <td>Aprovado</td>\n",
              "    </tr>\n",
              "    <tr>\n",
              "      <th>David</th>\n",
              "      <td>8.5</td>\n",
              "      <td>9.2</td>\n",
              "      <td>2.0</td>\n",
              "      <td>4.2</td>\n",
              "      <td>6.0</td>\n",
              "      <td>Aprovado</td>\n",
              "    </tr>\n",
              "    <tr>\n",
              "      <th>Bruno</th>\n",
              "      <td>5.6</td>\n",
              "      <td>4.1</td>\n",
              "      <td>3.6</td>\n",
              "      <td>6.2</td>\n",
              "      <td>4.9</td>\n",
              "      <td>Reprovado</td>\n",
              "    </tr>\n",
              "    <tr>\n",
              "      <th>Carol</th>\n",
              "      <td>5.2</td>\n",
              "      <td>5.5</td>\n",
              "      <td>3.5</td>\n",
              "      <td>5.2</td>\n",
              "      <td>4.8</td>\n",
              "      <td>Reprovado</td>\n",
              "    </tr>\n",
              "  </tbody>\n",
              "</table>\n",
              "</div>"
            ],
            "text/plain": [
              "        P1   P2   P3   P4   MF   Situação\n",
              "Emily  9.1  9.7  9.3  8.3  9.1   Aprovado\n",
              "Alice  8.9  8.3  8.3  6.2  7.9   Aprovado\n",
              "David  8.5  9.2  2.0  4.2  6.0   Aprovado\n",
              "Bruno  5.6  4.1  3.6  6.2  4.9  Reprovado\n",
              "Carol  5.2  5.5  3.5  5.2  4.8  Reprovado"
            ]
          },
          "metadata": {
            "tags": []
          },
          "execution_count": 73
        }
      ]
    },
    {
      "cell_type": "markdown",
      "metadata": {
        "id": "HJ3VV_g-FwvH",
        "colab_type": "text"
      },
      "source": [
        "Tornando o índice do conjunto de dados em uma variável, e tornando o índice um valor númerico:"
      ]
    },
    {
      "cell_type": "code",
      "metadata": {
        "id": "TRItQWFCmKkl",
        "colab_type": "code",
        "colab": {}
      },
      "source": [
        "provas['Nome'] = provas.index"
      ],
      "execution_count": 74,
      "outputs": []
    },
    {
      "cell_type": "code",
      "metadata": {
        "id": "JWh661E9F6hN",
        "colab_type": "code",
        "colab": {
          "base_uri": "https://localhost:8080/",
          "height": 206
        },
        "outputId": "351f2ecf-60d1-4cfe-c6ca-1f4eba667a53"
      },
      "source": [
        "provas"
      ],
      "execution_count": 75,
      "outputs": [
        {
          "output_type": "execute_result",
          "data": {
            "text/html": [
              "<div>\n",
              "<style scoped>\n",
              "    .dataframe tbody tr th:only-of-type {\n",
              "        vertical-align: middle;\n",
              "    }\n",
              "\n",
              "    .dataframe tbody tr th {\n",
              "        vertical-align: top;\n",
              "    }\n",
              "\n",
              "    .dataframe thead th {\n",
              "        text-align: right;\n",
              "    }\n",
              "</style>\n",
              "<table border=\"1\" class=\"dataframe\">\n",
              "  <thead>\n",
              "    <tr style=\"text-align: right;\">\n",
              "      <th></th>\n",
              "      <th>P1</th>\n",
              "      <th>P2</th>\n",
              "      <th>P3</th>\n",
              "      <th>P4</th>\n",
              "      <th>MF</th>\n",
              "      <th>Situação</th>\n",
              "      <th>Nome</th>\n",
              "    </tr>\n",
              "  </thead>\n",
              "  <tbody>\n",
              "    <tr>\n",
              "      <th>Alice</th>\n",
              "      <td>8.9</td>\n",
              "      <td>8.3</td>\n",
              "      <td>8.3</td>\n",
              "      <td>6.2</td>\n",
              "      <td>7.9</td>\n",
              "      <td>Aprovado</td>\n",
              "      <td>Alice</td>\n",
              "    </tr>\n",
              "    <tr>\n",
              "      <th>Bruno</th>\n",
              "      <td>5.6</td>\n",
              "      <td>4.1</td>\n",
              "      <td>3.6</td>\n",
              "      <td>6.2</td>\n",
              "      <td>4.9</td>\n",
              "      <td>Reprovado</td>\n",
              "      <td>Bruno</td>\n",
              "    </tr>\n",
              "    <tr>\n",
              "      <th>Carol</th>\n",
              "      <td>5.2</td>\n",
              "      <td>5.5</td>\n",
              "      <td>3.5</td>\n",
              "      <td>5.2</td>\n",
              "      <td>4.8</td>\n",
              "      <td>Reprovado</td>\n",
              "      <td>Carol</td>\n",
              "    </tr>\n",
              "    <tr>\n",
              "      <th>David</th>\n",
              "      <td>8.5</td>\n",
              "      <td>9.2</td>\n",
              "      <td>2.0</td>\n",
              "      <td>4.2</td>\n",
              "      <td>6.0</td>\n",
              "      <td>Aprovado</td>\n",
              "      <td>David</td>\n",
              "    </tr>\n",
              "    <tr>\n",
              "      <th>Emily</th>\n",
              "      <td>9.1</td>\n",
              "      <td>9.7</td>\n",
              "      <td>9.3</td>\n",
              "      <td>8.3</td>\n",
              "      <td>9.1</td>\n",
              "      <td>Aprovado</td>\n",
              "      <td>Emily</td>\n",
              "    </tr>\n",
              "  </tbody>\n",
              "</table>\n",
              "</div>"
            ],
            "text/plain": [
              "        P1   P2   P3   P4   MF   Situação   Nome\n",
              "Alice  8.9  8.3  8.3  6.2  7.9   Aprovado  Alice\n",
              "Bruno  5.6  4.1  3.6  6.2  4.9  Reprovado  Bruno\n",
              "Carol  5.2  5.5  3.5  5.2  4.8  Reprovado  Carol\n",
              "David  8.5  9.2  2.0  4.2  6.0   Aprovado  David\n",
              "Emily  9.1  9.7  9.3  8.3  9.1   Aprovado  Emily"
            ]
          },
          "metadata": {
            "tags": []
          },
          "execution_count": 75
        }
      ]
    },
    {
      "cell_type": "code",
      "metadata": {
        "id": "_RtzVrb6ktDZ",
        "colab_type": "code",
        "colab": {}
      },
      "source": [
        "provas.reset_index(inplace = True, drop = True) #o argumento inplace pergunta se a alteração deve ser feita no conjunto de dados "
      ],
      "execution_count": 76,
      "outputs": []
    },
    {
      "cell_type": "code",
      "metadata": {
        "id": "FVhtIyX6F98b",
        "colab_type": "code",
        "colab": {
          "base_uri": "https://localhost:8080/",
          "height": 206
        },
        "outputId": "0e1da869-36be-40bc-c263-31ffd5cf7f32"
      },
      "source": [
        "provas"
      ],
      "execution_count": 77,
      "outputs": [
        {
          "output_type": "execute_result",
          "data": {
            "text/html": [
              "<div>\n",
              "<style scoped>\n",
              "    .dataframe tbody tr th:only-of-type {\n",
              "        vertical-align: middle;\n",
              "    }\n",
              "\n",
              "    .dataframe tbody tr th {\n",
              "        vertical-align: top;\n",
              "    }\n",
              "\n",
              "    .dataframe thead th {\n",
              "        text-align: right;\n",
              "    }\n",
              "</style>\n",
              "<table border=\"1\" class=\"dataframe\">\n",
              "  <thead>\n",
              "    <tr style=\"text-align: right;\">\n",
              "      <th></th>\n",
              "      <th>P1</th>\n",
              "      <th>P2</th>\n",
              "      <th>P3</th>\n",
              "      <th>P4</th>\n",
              "      <th>MF</th>\n",
              "      <th>Situação</th>\n",
              "      <th>Nome</th>\n",
              "    </tr>\n",
              "  </thead>\n",
              "  <tbody>\n",
              "    <tr>\n",
              "      <th>0</th>\n",
              "      <td>8.9</td>\n",
              "      <td>8.3</td>\n",
              "      <td>8.3</td>\n",
              "      <td>6.2</td>\n",
              "      <td>7.9</td>\n",
              "      <td>Aprovado</td>\n",
              "      <td>Alice</td>\n",
              "    </tr>\n",
              "    <tr>\n",
              "      <th>1</th>\n",
              "      <td>5.6</td>\n",
              "      <td>4.1</td>\n",
              "      <td>3.6</td>\n",
              "      <td>6.2</td>\n",
              "      <td>4.9</td>\n",
              "      <td>Reprovado</td>\n",
              "      <td>Bruno</td>\n",
              "    </tr>\n",
              "    <tr>\n",
              "      <th>2</th>\n",
              "      <td>5.2</td>\n",
              "      <td>5.5</td>\n",
              "      <td>3.5</td>\n",
              "      <td>5.2</td>\n",
              "      <td>4.8</td>\n",
              "      <td>Reprovado</td>\n",
              "      <td>Carol</td>\n",
              "    </tr>\n",
              "    <tr>\n",
              "      <th>3</th>\n",
              "      <td>8.5</td>\n",
              "      <td>9.2</td>\n",
              "      <td>2.0</td>\n",
              "      <td>4.2</td>\n",
              "      <td>6.0</td>\n",
              "      <td>Aprovado</td>\n",
              "      <td>David</td>\n",
              "    </tr>\n",
              "    <tr>\n",
              "      <th>4</th>\n",
              "      <td>9.1</td>\n",
              "      <td>9.7</td>\n",
              "      <td>9.3</td>\n",
              "      <td>8.3</td>\n",
              "      <td>9.1</td>\n",
              "      <td>Aprovado</td>\n",
              "      <td>Emily</td>\n",
              "    </tr>\n",
              "  </tbody>\n",
              "</table>\n",
              "</div>"
            ],
            "text/plain": [
              "    P1   P2   P3   P4   MF   Situação   Nome\n",
              "0  8.9  8.3  8.3  6.2  7.9   Aprovado  Alice\n",
              "1  5.6  4.1  3.6  6.2  4.9  Reprovado  Bruno\n",
              "2  5.2  5.5  3.5  5.2  4.8  Reprovado  Carol\n",
              "3  8.5  9.2  2.0  4.2  6.0   Aprovado  David\n",
              "4  9.1  9.7  9.3  8.3  9.1   Aprovado  Emily"
            ]
          },
          "metadata": {
            "tags": []
          },
          "execution_count": 77
        }
      ]
    },
    {
      "cell_type": "markdown",
      "metadata": {
        "id": "rlIuOcZHGI08",
        "colab_type": "text"
      },
      "source": [
        "Modificando a ordem das variáveis:"
      ]
    },
    {
      "cell_type": "code",
      "metadata": {
        "id": "UiJV4LIymZdK",
        "colab_type": "code",
        "colab": {}
      },
      "source": [
        "provas = provas[['Nome', 'P1', 'P2', 'P3', 'P4', 'MF', 'Situação']]"
      ],
      "execution_count": 78,
      "outputs": []
    },
    {
      "cell_type": "code",
      "metadata": {
        "id": "_SWTfzNhGQiI",
        "colab_type": "code",
        "colab": {
          "base_uri": "https://localhost:8080/",
          "height": 206
        },
        "outputId": "0249908c-da71-4816-e48b-2feb3e50cf4b"
      },
      "source": [
        "provas"
      ],
      "execution_count": 79,
      "outputs": [
        {
          "output_type": "execute_result",
          "data": {
            "text/html": [
              "<div>\n",
              "<style scoped>\n",
              "    .dataframe tbody tr th:only-of-type {\n",
              "        vertical-align: middle;\n",
              "    }\n",
              "\n",
              "    .dataframe tbody tr th {\n",
              "        vertical-align: top;\n",
              "    }\n",
              "\n",
              "    .dataframe thead th {\n",
              "        text-align: right;\n",
              "    }\n",
              "</style>\n",
              "<table border=\"1\" class=\"dataframe\">\n",
              "  <thead>\n",
              "    <tr style=\"text-align: right;\">\n",
              "      <th></th>\n",
              "      <th>Nome</th>\n",
              "      <th>P1</th>\n",
              "      <th>P2</th>\n",
              "      <th>P3</th>\n",
              "      <th>P4</th>\n",
              "      <th>MF</th>\n",
              "      <th>Situação</th>\n",
              "    </tr>\n",
              "  </thead>\n",
              "  <tbody>\n",
              "    <tr>\n",
              "      <th>0</th>\n",
              "      <td>Alice</td>\n",
              "      <td>8.9</td>\n",
              "      <td>8.3</td>\n",
              "      <td>8.3</td>\n",
              "      <td>6.2</td>\n",
              "      <td>7.9</td>\n",
              "      <td>Aprovado</td>\n",
              "    </tr>\n",
              "    <tr>\n",
              "      <th>1</th>\n",
              "      <td>Bruno</td>\n",
              "      <td>5.6</td>\n",
              "      <td>4.1</td>\n",
              "      <td>3.6</td>\n",
              "      <td>6.2</td>\n",
              "      <td>4.9</td>\n",
              "      <td>Reprovado</td>\n",
              "    </tr>\n",
              "    <tr>\n",
              "      <th>2</th>\n",
              "      <td>Carol</td>\n",
              "      <td>5.2</td>\n",
              "      <td>5.5</td>\n",
              "      <td>3.5</td>\n",
              "      <td>5.2</td>\n",
              "      <td>4.8</td>\n",
              "      <td>Reprovado</td>\n",
              "    </tr>\n",
              "    <tr>\n",
              "      <th>3</th>\n",
              "      <td>David</td>\n",
              "      <td>8.5</td>\n",
              "      <td>9.2</td>\n",
              "      <td>2.0</td>\n",
              "      <td>4.2</td>\n",
              "      <td>6.0</td>\n",
              "      <td>Aprovado</td>\n",
              "    </tr>\n",
              "    <tr>\n",
              "      <th>4</th>\n",
              "      <td>Emily</td>\n",
              "      <td>9.1</td>\n",
              "      <td>9.7</td>\n",
              "      <td>9.3</td>\n",
              "      <td>8.3</td>\n",
              "      <td>9.1</td>\n",
              "      <td>Aprovado</td>\n",
              "    </tr>\n",
              "  </tbody>\n",
              "</table>\n",
              "</div>"
            ],
            "text/plain": [
              "    Nome   P1   P2   P3   P4   MF   Situação\n",
              "0  Alice  8.9  8.3  8.3  6.2  7.9   Aprovado\n",
              "1  Bruno  5.6  4.1  3.6  6.2  4.9  Reprovado\n",
              "2  Carol  5.2  5.5  3.5  5.2  4.8  Reprovado\n",
              "3  David  8.5  9.2  2.0  4.2  6.0   Aprovado\n",
              "4  Emily  9.1  9.7  9.3  8.3  9.1   Aprovado"
            ]
          },
          "metadata": {
            "tags": []
          },
          "execution_count": 79
        }
      ]
    },
    {
      "cell_type": "markdown",
      "metadata": {
        "id": "HRoHZH6dG7Xg",
        "colab_type": "text"
      },
      "source": [
        "Desfazendo o que fizemos anteriormente (voltando a variável nome para o index)"
      ]
    },
    {
      "cell_type": "code",
      "metadata": {
        "id": "DLd7msxXHAB4",
        "colab_type": "code",
        "colab": {}
      },
      "source": [
        "provas.index = provas['Nome']"
      ],
      "execution_count": 80,
      "outputs": []
    },
    {
      "cell_type": "code",
      "metadata": {
        "id": "bfvG2hf-HMts",
        "colab_type": "code",
        "colab": {
          "base_uri": "https://localhost:8080/",
          "height": 237
        },
        "outputId": "9bfdc31a-8833-411b-e84a-312384aa62d0"
      },
      "source": [
        "provas"
      ],
      "execution_count": 82,
      "outputs": [
        {
          "output_type": "execute_result",
          "data": {
            "text/html": [
              "<div>\n",
              "<style scoped>\n",
              "    .dataframe tbody tr th:only-of-type {\n",
              "        vertical-align: middle;\n",
              "    }\n",
              "\n",
              "    .dataframe tbody tr th {\n",
              "        vertical-align: top;\n",
              "    }\n",
              "\n",
              "    .dataframe thead th {\n",
              "        text-align: right;\n",
              "    }\n",
              "</style>\n",
              "<table border=\"1\" class=\"dataframe\">\n",
              "  <thead>\n",
              "    <tr style=\"text-align: right;\">\n",
              "      <th></th>\n",
              "      <th>Nome</th>\n",
              "      <th>P1</th>\n",
              "      <th>P2</th>\n",
              "      <th>P3</th>\n",
              "      <th>P4</th>\n",
              "      <th>MF</th>\n",
              "      <th>Situação</th>\n",
              "    </tr>\n",
              "    <tr>\n",
              "      <th>Nome</th>\n",
              "      <th></th>\n",
              "      <th></th>\n",
              "      <th></th>\n",
              "      <th></th>\n",
              "      <th></th>\n",
              "      <th></th>\n",
              "      <th></th>\n",
              "    </tr>\n",
              "  </thead>\n",
              "  <tbody>\n",
              "    <tr>\n",
              "      <th>Alice</th>\n",
              "      <td>Alice</td>\n",
              "      <td>8.9</td>\n",
              "      <td>8.3</td>\n",
              "      <td>8.3</td>\n",
              "      <td>6.2</td>\n",
              "      <td>7.9</td>\n",
              "      <td>Aprovado</td>\n",
              "    </tr>\n",
              "    <tr>\n",
              "      <th>Bruno</th>\n",
              "      <td>Bruno</td>\n",
              "      <td>5.6</td>\n",
              "      <td>4.1</td>\n",
              "      <td>3.6</td>\n",
              "      <td>6.2</td>\n",
              "      <td>4.9</td>\n",
              "      <td>Reprovado</td>\n",
              "    </tr>\n",
              "    <tr>\n",
              "      <th>Carol</th>\n",
              "      <td>Carol</td>\n",
              "      <td>5.2</td>\n",
              "      <td>5.5</td>\n",
              "      <td>3.5</td>\n",
              "      <td>5.2</td>\n",
              "      <td>4.8</td>\n",
              "      <td>Reprovado</td>\n",
              "    </tr>\n",
              "    <tr>\n",
              "      <th>David</th>\n",
              "      <td>David</td>\n",
              "      <td>8.5</td>\n",
              "      <td>9.2</td>\n",
              "      <td>2.0</td>\n",
              "      <td>4.2</td>\n",
              "      <td>6.0</td>\n",
              "      <td>Aprovado</td>\n",
              "    </tr>\n",
              "    <tr>\n",
              "      <th>Emily</th>\n",
              "      <td>Emily</td>\n",
              "      <td>9.1</td>\n",
              "      <td>9.7</td>\n",
              "      <td>9.3</td>\n",
              "      <td>8.3</td>\n",
              "      <td>9.1</td>\n",
              "      <td>Aprovado</td>\n",
              "    </tr>\n",
              "  </tbody>\n",
              "</table>\n",
              "</div>"
            ],
            "text/plain": [
              "        Nome   P1   P2   P3   P4   MF   Situação\n",
              "Nome                                            \n",
              "Alice  Alice  8.9  8.3  8.3  6.2  7.9   Aprovado\n",
              "Bruno  Bruno  5.6  4.1  3.6  6.2  4.9  Reprovado\n",
              "Carol  Carol  5.2  5.5  3.5  5.2  4.8  Reprovado\n",
              "David  David  8.5  9.2  2.0  4.2  6.0   Aprovado\n",
              "Emily  Emily  9.1  9.7  9.3  8.3  9.1   Aprovado"
            ]
          },
          "metadata": {
            "tags": []
          },
          "execution_count": 82
        }
      ]
    },
    {
      "cell_type": "code",
      "metadata": {
        "id": "BThc7k0oHPD1",
        "colab_type": "code",
        "colab": {
          "base_uri": "https://localhost:8080/",
          "height": 130
        },
        "outputId": "4d965b5e-517a-4729-be15-b688c13b1901"
      },
      "source": [
        "provas.drop('Nome', axis = 1, inplace = True)"
      ],
      "execution_count": 83,
      "outputs": [
        {
          "output_type": "stream",
          "text": [
            "/usr/local/lib/python3.6/dist-packages/pandas/core/frame.py:3997: SettingWithCopyWarning: \n",
            "A value is trying to be set on a copy of a slice from a DataFrame\n",
            "\n",
            "See the caveats in the documentation: https://pandas.pydata.org/pandas-docs/stable/user_guide/indexing.html#returning-a-view-versus-a-copy\n",
            "  errors=errors,\n"
          ],
          "name": "stderr"
        }
      ]
    },
    {
      "cell_type": "code",
      "metadata": {
        "id": "NoBmCaayHU3r",
        "colab_type": "code",
        "colab": {
          "base_uri": "https://localhost:8080/",
          "height": 237
        },
        "outputId": "fd716aeb-1436-40a1-e3b0-3dd60edb08b5"
      },
      "source": [
        "provas"
      ],
      "execution_count": 84,
      "outputs": [
        {
          "output_type": "execute_result",
          "data": {
            "text/html": [
              "<div>\n",
              "<style scoped>\n",
              "    .dataframe tbody tr th:only-of-type {\n",
              "        vertical-align: middle;\n",
              "    }\n",
              "\n",
              "    .dataframe tbody tr th {\n",
              "        vertical-align: top;\n",
              "    }\n",
              "\n",
              "    .dataframe thead th {\n",
              "        text-align: right;\n",
              "    }\n",
              "</style>\n",
              "<table border=\"1\" class=\"dataframe\">\n",
              "  <thead>\n",
              "    <tr style=\"text-align: right;\">\n",
              "      <th></th>\n",
              "      <th>P1</th>\n",
              "      <th>P2</th>\n",
              "      <th>P3</th>\n",
              "      <th>P4</th>\n",
              "      <th>MF</th>\n",
              "      <th>Situação</th>\n",
              "    </tr>\n",
              "    <tr>\n",
              "      <th>Nome</th>\n",
              "      <th></th>\n",
              "      <th></th>\n",
              "      <th></th>\n",
              "      <th></th>\n",
              "      <th></th>\n",
              "      <th></th>\n",
              "    </tr>\n",
              "  </thead>\n",
              "  <tbody>\n",
              "    <tr>\n",
              "      <th>Alice</th>\n",
              "      <td>8.9</td>\n",
              "      <td>8.3</td>\n",
              "      <td>8.3</td>\n",
              "      <td>6.2</td>\n",
              "      <td>7.9</td>\n",
              "      <td>Aprovado</td>\n",
              "    </tr>\n",
              "    <tr>\n",
              "      <th>Bruno</th>\n",
              "      <td>5.6</td>\n",
              "      <td>4.1</td>\n",
              "      <td>3.6</td>\n",
              "      <td>6.2</td>\n",
              "      <td>4.9</td>\n",
              "      <td>Reprovado</td>\n",
              "    </tr>\n",
              "    <tr>\n",
              "      <th>Carol</th>\n",
              "      <td>5.2</td>\n",
              "      <td>5.5</td>\n",
              "      <td>3.5</td>\n",
              "      <td>5.2</td>\n",
              "      <td>4.8</td>\n",
              "      <td>Reprovado</td>\n",
              "    </tr>\n",
              "    <tr>\n",
              "      <th>David</th>\n",
              "      <td>8.5</td>\n",
              "      <td>9.2</td>\n",
              "      <td>2.0</td>\n",
              "      <td>4.2</td>\n",
              "      <td>6.0</td>\n",
              "      <td>Aprovado</td>\n",
              "    </tr>\n",
              "    <tr>\n",
              "      <th>Emily</th>\n",
              "      <td>9.1</td>\n",
              "      <td>9.7</td>\n",
              "      <td>9.3</td>\n",
              "      <td>8.3</td>\n",
              "      <td>9.1</td>\n",
              "      <td>Aprovado</td>\n",
              "    </tr>\n",
              "  </tbody>\n",
              "</table>\n",
              "</div>"
            ],
            "text/plain": [
              "        P1   P2   P3   P4   MF   Situação\n",
              "Nome                                     \n",
              "Alice  8.9  8.3  8.3  6.2  7.9   Aprovado\n",
              "Bruno  5.6  4.1  3.6  6.2  4.9  Reprovado\n",
              "Carol  5.2  5.5  3.5  5.2  4.8  Reprovado\n",
              "David  8.5  9.2  2.0  4.2  6.0   Aprovado\n",
              "Emily  9.1  9.7  9.3  8.3  9.1   Aprovado"
            ]
          },
          "metadata": {
            "tags": []
          },
          "execution_count": 84
        }
      ]
    },
    {
      "cell_type": "code",
      "metadata": {
        "id": "QYMyTNbfLxjy",
        "colab_type": "code",
        "colab": {}
      },
      "source": [
        "provas.index.name = ''"
      ],
      "execution_count": 103,
      "outputs": []
    },
    {
      "cell_type": "code",
      "metadata": {
        "id": "eMelyfNLL2AP",
        "colab_type": "code",
        "colab": {
          "base_uri": "https://localhost:8080/",
          "height": 220
        },
        "outputId": "f528613e-118c-4549-c9a3-9f6f315ae71c"
      },
      "source": [
        "provas"
      ],
      "execution_count": 104,
      "outputs": [
        {
          "output_type": "execute_result",
          "data": {
            "text/html": [
              "<div>\n",
              "<style scoped>\n",
              "    .dataframe tbody tr th:only-of-type {\n",
              "        vertical-align: middle;\n",
              "    }\n",
              "\n",
              "    .dataframe tbody tr th {\n",
              "        vertical-align: top;\n",
              "    }\n",
              "\n",
              "    .dataframe thead th {\n",
              "        text-align: right;\n",
              "    }\n",
              "</style>\n",
              "<table border=\"1\" class=\"dataframe\">\n",
              "  <thead>\n",
              "    <tr style=\"text-align: right;\">\n",
              "      <th></th>\n",
              "      <th>P1</th>\n",
              "      <th>P2</th>\n",
              "      <th>P3</th>\n",
              "      <th>P4</th>\n",
              "      <th>MF</th>\n",
              "      <th>Situação</th>\n",
              "    </tr>\n",
              "    <tr>\n",
              "      <th></th>\n",
              "      <th></th>\n",
              "      <th></th>\n",
              "      <th></th>\n",
              "      <th></th>\n",
              "      <th></th>\n",
              "      <th></th>\n",
              "    </tr>\n",
              "  </thead>\n",
              "  <tbody>\n",
              "    <tr>\n",
              "      <th>Alice</th>\n",
              "      <td>8.9</td>\n",
              "      <td>8.3</td>\n",
              "      <td>8.3</td>\n",
              "      <td>6.2</td>\n",
              "      <td>7.9</td>\n",
              "      <td>Aprovado</td>\n",
              "    </tr>\n",
              "    <tr>\n",
              "      <th>Bruno</th>\n",
              "      <td>5.6</td>\n",
              "      <td>4.1</td>\n",
              "      <td>3.6</td>\n",
              "      <td>6.2</td>\n",
              "      <td>4.9</td>\n",
              "      <td>Reprovado</td>\n",
              "    </tr>\n",
              "    <tr>\n",
              "      <th>Carol</th>\n",
              "      <td>5.2</td>\n",
              "      <td>5.5</td>\n",
              "      <td>3.5</td>\n",
              "      <td>5.2</td>\n",
              "      <td>4.8</td>\n",
              "      <td>Reprovado</td>\n",
              "    </tr>\n",
              "    <tr>\n",
              "      <th>David</th>\n",
              "      <td>8.5</td>\n",
              "      <td>9.2</td>\n",
              "      <td>2.0</td>\n",
              "      <td>4.2</td>\n",
              "      <td>6.0</td>\n",
              "      <td>Aprovado</td>\n",
              "    </tr>\n",
              "    <tr>\n",
              "      <th>Emily</th>\n",
              "      <td>9.1</td>\n",
              "      <td>9.7</td>\n",
              "      <td>9.3</td>\n",
              "      <td>8.3</td>\n",
              "      <td>9.1</td>\n",
              "      <td>Aprovado</td>\n",
              "    </tr>\n",
              "  </tbody>\n",
              "</table>\n",
              "</div>"
            ],
            "text/plain": [
              "        P1   P2   P3   P4   MF   Situação\n",
              "                                         \n",
              "Alice  8.9  8.3  8.3  6.2  7.9   Aprovado\n",
              "Bruno  5.6  4.1  3.6  6.2  4.9  Reprovado\n",
              "Carol  5.2  5.5  3.5  5.2  4.8  Reprovado\n",
              "David  8.5  9.2  2.0  4.2  6.0   Aprovado\n",
              "Emily  9.1  9.7  9.3  8.3  9.1   Aprovado"
            ]
          },
          "metadata": {
            "tags": []
          },
          "execution_count": 104
        }
      ]
    },
    {
      "cell_type": "markdown",
      "metadata": {
        "id": "EW1rvABvHwbT",
        "colab_type": "text"
      },
      "source": [
        "O método describe pode ser utilizado em variáveis categóricas, e tem uma saída diferente nesse caso:"
      ]
    },
    {
      "cell_type": "code",
      "metadata": {
        "id": "cPutz2ryrbaC",
        "colab_type": "code",
        "colab": {
          "base_uri": "https://localhost:8080/",
          "height": 110
        },
        "outputId": "2d9c4298-9499-4714-f205-e2b676c393cc"
      },
      "source": [
        "provas['Situação'].describe()"
      ],
      "execution_count": 91,
      "outputs": [
        {
          "output_type": "execute_result",
          "data": {
            "text/plain": [
              "count            5\n",
              "unique           2\n",
              "top       Aprovado\n",
              "freq             3\n",
              "Name: Situação, dtype: object"
            ]
          },
          "metadata": {
            "tags": []
          },
          "execution_count": 91
        }
      ]
    },
    {
      "cell_type": "markdown",
      "metadata": {
        "id": "6YHr6EsIH6Nf",
        "colab_type": "text"
      },
      "source": [
        "O Pandas também oferece suporte a alguns gráficos, baseados na biblioteca matplotlib. Basta chamar o método utilizando os dados adequados:"
      ]
    },
    {
      "cell_type": "code",
      "metadata": {
        "id": "pQXtJEz0mN-N",
        "colab_type": "code",
        "colab": {
          "base_uri": "https://localhost:8080/",
          "height": 267
        },
        "outputId": "e288d396-b456-49d4-88bb-272a5b626bf0"
      },
      "source": [
        "provas['Situação'].value_counts().plot(kind = 'pie') "
      ],
      "execution_count": 93,
      "outputs": [
        {
          "output_type": "execute_result",
          "data": {
            "text/plain": [
              "<matplotlib.axes._subplots.AxesSubplot at 0x7f1c88920390>"
            ]
          },
          "metadata": {
            "tags": []
          },
          "execution_count": 93
        },
        {
          "output_type": "display_data",
          "data": {
            "image/png": "[encoded data removed]",
            "text/plain": [
              "<Figure size 432x288 with 1 Axes>"
            ]
          },
          "metadata": {
            "tags": []
          }
        }
      ]
    },
    {
      "cell_type": "code",
      "metadata": {
        "id": "dbGnT8HFs8uC",
        "colab_type": "code",
        "colab": {
          "base_uri": "https://localhost:8080/",
          "height": 327
        },
        "outputId": "4d879f1a-a6eb-4736-801f-05bc5f118ca7"
      },
      "source": [
        "provas['Situação'].value_counts().plot(kind = 'bar', color = ['green', 'red']) "
      ],
      "execution_count": 94,
      "outputs": [
        {
          "output_type": "execute_result",
          "data": {
            "text/plain": [
              "<matplotlib.axes._subplots.AxesSubplot at 0x7f1c8895afd0>"
            ]
          },
          "metadata": {
            "tags": []
          },
          "execution_count": 94
        },
        {
          "output_type": "display_data",
          "data": {
            "image/png": "[encoded data removed]",
            "text/plain": [
              "<Figure size 432x288 with 1 Axes>"
            ]
          },
          "metadata": {
            "tags": [],
            "needs_background": "light"
          }
        }
      ]
    },
    {
      "cell_type": "code",
      "metadata": {
        "id": "ugpWbVU8tF6b",
        "colab_type": "code",
        "colab": {
          "base_uri": "https://localhost:8080/",
          "height": 286
        },
        "outputId": "aafc99fd-b422-4e72-977f-b2c96f2f1840"
      },
      "source": [
        "provas[['P1', 'P2', 'P3', 'P4', 'MF']].plot(kind = 'box')"
      ],
      "execution_count": 95,
      "outputs": [
        {
          "output_type": "execute_result",
          "data": {
            "text/plain": [
              "<matplotlib.axes._subplots.AxesSubplot at 0x7f1c888ccd30>"
            ]
          },
          "metadata": {
            "tags": []
          },
          "execution_count": 95
        },
        {
          "output_type": "display_data",
          "data": {
            "image/png": "[encoded data removed]",
            "text/plain": [
              "<Figure size 432x288 with 1 Axes>"
            ]
          },
          "metadata": {
            "tags": [],
            "needs_background": "light"
          }
        }
      ]
    },
    {
      "cell_type": "code",
      "metadata": {
        "id": "9yRsgmvrtQsq",
        "colab_type": "code",
        "colab": {
          "base_uri": "https://localhost:8080/",
          "height": 286
        },
        "outputId": "8d653588-fa1e-44d6-9a56-840182e34a7c"
      },
      "source": [
        "provas[['P1', 'P2', 'P3', 'P4']].transpose().plot(kind = 'line')"
      ],
      "execution_count": 96,
      "outputs": [
        {
          "output_type": "execute_result",
          "data": {
            "text/plain": [
              "<matplotlib.axes._subplots.AxesSubplot at 0x7f1c88802518>"
            ]
          },
          "metadata": {
            "tags": []
          },
          "execution_count": 96
        },
        {
          "output_type": "display_data",
          "data": {
            "image/png": "[encoded data removed]",
            "text/plain": [
              "<Figure size 432x288 with 1 Axes>"
            ]
          },
          "metadata": {
            "tags": [],
            "needs_background": "light"
          }
        }
      ]
    },
    {
      "cell_type": "code",
      "metadata": {
        "id": "fAH1njuAtcP5",
        "colab_type": "code",
        "colab": {
          "base_uri": "https://localhost:8080/",
          "height": 147
        },
        "outputId": "558a0fe6-397e-484a-9bea-b566f2a4fb48"
      },
      "source": [
        "provas[['P1', 'P2','P3','P4','MF' ]].corr().style.background_gradient(cmap='coolwarm')"
      ],
      "execution_count": 97,
      "outputs": [
        {
          "output_type": "execute_result",
          "data": {
            "text/html": [
              "<style  type=\"text/css\" >\n",
              "    #T_9e7dedfc_b881_11ea_8ca4_0242ac1c0002row0_col0 {\n",
              "            background-color:  #b40426;\n",
              "            color:  #f1f1f1;\n",
              "        }    #T_9e7dedfc_b881_11ea_8ca4_0242ac1c0002row0_col1 {\n",
              "            background-color:  #d0473d;\n",
              "            color:  #f1f1f1;\n",
              "        }    #T_9e7dedfc_b881_11ea_8ca4_0242ac1c0002row0_col2 {\n",
              "            background-color:  #86a9fc;\n",
              "            color:  #000000;\n",
              "        }    #T_9e7dedfc_b881_11ea_8ca4_0242ac1c0002row0_col3 {\n",
              "            background-color:  #6485ec;\n",
              "            color:  #000000;\n",
              "        }    #T_9e7dedfc_b881_11ea_8ca4_0242ac1c0002row0_col4 {\n",
              "            background-color:  #ebd3c6;\n",
              "            color:  #000000;\n",
              "        }    #T_9e7dedfc_b881_11ea_8ca4_0242ac1c0002row1_col0 {\n",
              "            background-color:  #d44e41;\n",
              "            color:  #000000;\n",
              "        }    #T_9e7dedfc_b881_11ea_8ca4_0242ac1c0002row1_col1 {\n",
              "            background-color:  #b40426;\n",
              "            color:  #f1f1f1;\n",
              "        }    #T_9e7dedfc_b881_11ea_8ca4_0242ac1c0002row1_col2 {\n",
              "            background-color:  #3b4cc0;\n",
              "            color:  #f1f1f1;\n",
              "        }    #T_9e7dedfc_b881_11ea_8ca4_0242ac1c0002row1_col3 {\n",
              "            background-color:  #3b4cc0;\n",
              "            color:  #f1f1f1;\n",
              "        }    #T_9e7dedfc_b881_11ea_8ca4_0242ac1c0002row1_col4 {\n",
              "            background-color:  #a5c3fe;\n",
              "            color:  #000000;\n",
              "        }    #T_9e7dedfc_b881_11ea_8ca4_0242ac1c0002row2_col0 {\n",
              "            background-color:  #c4d5f3;\n",
              "            color:  #000000;\n",
              "        }    #T_9e7dedfc_b881_11ea_8ca4_0242ac1c0002row2_col1 {\n",
              "            background-color:  #aac7fd;\n",
              "            color:  #000000;\n",
              "        }    #T_9e7dedfc_b881_11ea_8ca4_0242ac1c0002row2_col2 {\n",
              "            background-color:  #b40426;\n",
              "            color:  #f1f1f1;\n",
              "        }    #T_9e7dedfc_b881_11ea_8ca4_0242ac1c0002row2_col3 {\n",
              "            background-color:  #eb7d62;\n",
              "            color:  #000000;\n",
              "        }    #T_9e7dedfc_b881_11ea_8ca4_0242ac1c0002row2_col4 {\n",
              "            background-color:  #f5c0a7;\n",
              "            color:  #000000;\n",
              "        }    #T_9e7dedfc_b881_11ea_8ca4_0242ac1c0002row3_col0 {\n",
              "            background-color:  #3b4cc0;\n",
              "            color:  #f1f1f1;\n",
              "        }    #T_9e7dedfc_b881_11ea_8ca4_0242ac1c0002row3_col1 {\n",
              "            background-color:  #3b4cc0;\n",
              "            color:  #f1f1f1;\n",
              "        }    #T_9e7dedfc_b881_11ea_8ca4_0242ac1c0002row3_col2 {\n",
              "            background-color:  #f6a385;\n",
              "            color:  #000000;\n",
              "        }    #T_9e7dedfc_b881_11ea_8ca4_0242ac1c0002row3_col3 {\n",
              "            background-color:  #b40426;\n",
              "            color:  #f1f1f1;\n",
              "        }    #T_9e7dedfc_b881_11ea_8ca4_0242ac1c0002row3_col4 {\n",
              "            background-color:  #3b4cc0;\n",
              "            color:  #f1f1f1;\n",
              "        }    #T_9e7dedfc_b881_11ea_8ca4_0242ac1c0002row4_col0 {\n",
              "            background-color:  #eb7d62;\n",
              "            color:  #000000;\n",
              "        }    #T_9e7dedfc_b881_11ea_8ca4_0242ac1c0002row4_col1 {\n",
              "            background-color:  #f49a7b;\n",
              "            color:  #000000;\n",
              "        }    #T_9e7dedfc_b881_11ea_8ca4_0242ac1c0002row4_col2 {\n",
              "            background-color:  #ee8468;\n",
              "            color:  #000000;\n",
              "        }    #T_9e7dedfc_b881_11ea_8ca4_0242ac1c0002row4_col3 {\n",
              "            background-color:  #f5c1a9;\n",
              "            color:  #000000;\n",
              "        }    #T_9e7dedfc_b881_11ea_8ca4_0242ac1c0002row4_col4 {\n",
              "            background-color:  #b40426;\n",
              "            color:  #f1f1f1;\n",
              "        }</style><table id=\"T_9e7dedfc_b881_11ea_8ca4_0242ac1c0002\" ><thead>    <tr>        <th class=\"blank level0\" ></th>        <th class=\"col_heading level0 col0\" >P1</th>        <th class=\"col_heading level0 col1\" >P2</th>        <th class=\"col_heading level0 col2\" >P3</th>        <th class=\"col_heading level0 col3\" >P4</th>        <th class=\"col_heading level0 col4\" >MF</th>    </tr></thead><tbody>\n",
              "                <tr>\n",
              "                        <th id=\"T_9e7dedfc_b881_11ea_8ca4_0242ac1c0002level0_row0\" class=\"row_heading level0 row0\" >P1</th>\n",
              "                        <td id=\"T_9e7dedfc_b881_11ea_8ca4_0242ac1c0002row0_col0\" class=\"data row0 col0\" >1.000000</td>\n",
              "                        <td id=\"T_9e7dedfc_b881_11ea_8ca4_0242ac1c0002row0_col1\" class=\"data row0 col1\" >0.937362</td>\n",
              "                        <td id=\"T_9e7dedfc_b881_11ea_8ca4_0242ac1c0002row0_col2\" class=\"data row0 col2\" >0.596510</td>\n",
              "                        <td id=\"T_9e7dedfc_b881_11ea_8ca4_0242ac1c0002row0_col3\" class=\"data row0 col3\" >0.313908</td>\n",
              "                        <td id=\"T_9e7dedfc_b881_11ea_8ca4_0242ac1c0002row0_col4\" class=\"data row0 col4\" >0.872745</td>\n",
              "            </tr>\n",
              "            <tr>\n",
              "                        <th id=\"T_9e7dedfc_b881_11ea_8ca4_0242ac1c0002level0_row1\" class=\"row_heading level0 row1\" >P2</th>\n",
              "                        <td id=\"T_9e7dedfc_b881_11ea_8ca4_0242ac1c0002row1_col0\" class=\"data row1 col0\" >0.937362</td>\n",
              "                        <td id=\"T_9e7dedfc_b881_11ea_8ca4_0242ac1c0002row1_col1\" class=\"data row1 col1\" >1.000000</td>\n",
              "                        <td id=\"T_9e7dedfc_b881_11ea_8ca4_0242ac1c0002row1_col2\" class=\"data row1 col2\" >0.473987</td>\n",
              "                        <td id=\"T_9e7dedfc_b881_11ea_8ca4_0242ac1c0002row1_col3\" class=\"data row1 col3\" >0.208409</td>\n",
              "                        <td id=\"T_9e7dedfc_b881_11ea_8ca4_0242ac1c0002row1_col4\" class=\"data row1 col4\" >0.801711</td>\n",
              "            </tr>\n",
              "            <tr>\n",
              "                        <th id=\"T_9e7dedfc_b881_11ea_8ca4_0242ac1c0002level0_row2\" class=\"row_heading level0 row2\" >P3</th>\n",
              "                        <td id=\"T_9e7dedfc_b881_11ea_8ca4_0242ac1c0002row2_col0\" class=\"data row2 col0\" >0.596510</td>\n",
              "                        <td id=\"T_9e7dedfc_b881_11ea_8ca4_0242ac1c0002row2_col1\" class=\"data row2 col1\" >0.473987</td>\n",
              "                        <td id=\"T_9e7dedfc_b881_11ea_8ca4_0242ac1c0002row2_col2\" class=\"data row2 col2\" >1.000000</td>\n",
              "                        <td id=\"T_9e7dedfc_b881_11ea_8ca4_0242ac1c0002row2_col3\" class=\"data row2 col3\" >0.854139</td>\n",
              "                        <td id=\"T_9e7dedfc_b881_11ea_8ca4_0242ac1c0002row2_col4\" class=\"data row2 col4\" >0.894969</td>\n",
              "            </tr>\n",
              "            <tr>\n",
              "                        <th id=\"T_9e7dedfc_b881_11ea_8ca4_0242ac1c0002level0_row3\" class=\"row_heading level0 row3\" >P4</th>\n",
              "                        <td id=\"T_9e7dedfc_b881_11ea_8ca4_0242ac1c0002row3_col0\" class=\"data row3 col0\" >0.313908</td>\n",
              "                        <td id=\"T_9e7dedfc_b881_11ea_8ca4_0242ac1c0002row3_col1\" class=\"data row3 col1\" >0.208409</td>\n",
              "                        <td id=\"T_9e7dedfc_b881_11ea_8ca4_0242ac1c0002row3_col2\" class=\"data row3 col2\" >0.854139</td>\n",
              "                        <td id=\"T_9e7dedfc_b881_11ea_8ca4_0242ac1c0002row3_col3\" class=\"data row3 col3\" >1.000000</td>\n",
              "                        <td id=\"T_9e7dedfc_b881_11ea_8ca4_0242ac1c0002row3_col4\" class=\"data row3 col4\" >0.709931</td>\n",
              "            </tr>\n",
              "            <tr>\n",
              "                        <th id=\"T_9e7dedfc_b881_11ea_8ca4_0242ac1c0002level0_row4\" class=\"row_heading level0 row4\" >MF</th>\n",
              "                        <td id=\"T_9e7dedfc_b881_11ea_8ca4_0242ac1c0002row4_col0\" class=\"data row4 col0\" >0.872745</td>\n",
              "                        <td id=\"T_9e7dedfc_b881_11ea_8ca4_0242ac1c0002row4_col1\" class=\"data row4 col1\" >0.801711</td>\n",
              "                        <td id=\"T_9e7dedfc_b881_11ea_8ca4_0242ac1c0002row4_col2\" class=\"data row4 col2\" >0.894969</td>\n",
              "                        <td id=\"T_9e7dedfc_b881_11ea_8ca4_0242ac1c0002row4_col3\" class=\"data row4 col3\" >0.709931</td>\n",
              "                        <td id=\"T_9e7dedfc_b881_11ea_8ca4_0242ac1c0002row4_col4\" class=\"data row4 col4\" >1.000000</td>\n",
              "            </tr>\n",
              "    </tbody></table>"
            ],
            "text/plain": [
              "<pandas.io.formats.style.Styler at 0x7f1c88780080>"
            ]
          },
          "metadata": {
            "tags": []
          },
          "execution_count": 97
        }
      ]
    },
    {
      "cell_type": "markdown",
      "metadata": {
        "id": "1-gTbFKo3YrW",
        "colab_type": "text"
      },
      "source": [
        "### **Importando dados**"
      ]
    },
    {
      "cell_type": "markdown",
      "metadata": {
        "id": "BwEFNnE66SI9",
        "colab_type": "text"
      },
      "source": [
        "#### Exemplo 1: Lendo arquivos da amostra do Google Colab"
      ]
    },
    {
      "cell_type": "code",
      "metadata": {
        "id": "D0mA0hy7yph_",
        "colab_type": "code",
        "colab": {}
      },
      "source": [
        "import pandas as pd"
      ],
      "execution_count": 4,
      "outputs": []
    },
    {
      "cell_type": "code",
      "metadata": {
        "id": "g-S0tyJH3cpc",
        "colab_type": "code",
        "colab": {}
      },
      "source": [
        "casas = pd.read_csv('/content/sample_data/california_housing_train.csv')"
      ],
      "execution_count": 29,
      "outputs": []
    },
    {
      "cell_type": "code",
      "metadata": {
        "id": "j5iYJJoW4K2c",
        "colab_type": "code",
        "colab": {
          "base_uri": "https://localhost:8080/",
          "height": 444
        },
        "outputId": "1e984d5f-49f4-45a8-d0bd-2cfe510afa90"
      },
      "source": [
        "casas"
      ],
      "execution_count": 33,
      "outputs": [
        {
          "output_type": "execute_result",
          "data": {
            "text/html": [
              "<div>\n",
              "<style scoped>\n",
              "    .dataframe tbody tr th:only-of-type {\n",
              "        vertical-align: middle;\n",
              "    }\n",
              "\n",
              "    .dataframe tbody tr th {\n",
              "        vertical-align: top;\n",
              "    }\n",
              "\n",
              "    .dataframe thead th {\n",
              "        text-align: right;\n",
              "    }\n",
              "</style>\n",
              "<table border=\"1\" class=\"dataframe\">\n",
              "  <thead>\n",
              "    <tr style=\"text-align: right;\">\n",
              "      <th></th>\n",
              "      <th>longitude</th>\n",
              "      <th>latitude</th>\n",
              "      <th>housing_median_age</th>\n",
              "      <th>total_rooms</th>\n",
              "      <th>total_bedrooms</th>\n",
              "      <th>population</th>\n",
              "      <th>households</th>\n",
              "      <th>median_income</th>\n",
              "      <th>median_house_value</th>\n",
              "    </tr>\n",
              "  </thead>\n",
              "  <tbody>\n",
              "    <tr>\n",
              "      <th>0</th>\n",
              "      <td>-114.31</td>\n",
              "      <td>34.19</td>\n",
              "      <td>15.0</td>\n",
              "      <td>5612.0</td>\n",
              "      <td>1283.0</td>\n",
              "      <td>1015.0</td>\n",
              "      <td>472.0</td>\n",
              "      <td>1.4936</td>\n",
              "      <td>66900.0</td>\n",
              "    </tr>\n",
              "    <tr>\n",
              "      <th>1</th>\n",
              "      <td>-114.47</td>\n",
              "      <td>34.40</td>\n",
              "      <td>19.0</td>\n",
              "      <td>7650.0</td>\n",
              "      <td>1901.0</td>\n",
              "      <td>1129.0</td>\n",
              "      <td>463.0</td>\n",
              "      <td>1.8200</td>\n",
              "      <td>80100.0</td>\n",
              "    </tr>\n",
              "    <tr>\n",
              "      <th>2</th>\n",
              "      <td>-114.56</td>\n",
              "      <td>33.69</td>\n",
              "      <td>17.0</td>\n",
              "      <td>720.0</td>\n",
              "      <td>174.0</td>\n",
              "      <td>333.0</td>\n",
              "      <td>117.0</td>\n",
              "      <td>1.6509</td>\n",
              "      <td>85700.0</td>\n",
              "    </tr>\n",
              "    <tr>\n",
              "      <th>3</th>\n",
              "      <td>-114.57</td>\n",
              "      <td>33.64</td>\n",
              "      <td>14.0</td>\n",
              "      <td>1501.0</td>\n",
              "      <td>337.0</td>\n",
              "      <td>515.0</td>\n",
              "      <td>226.0</td>\n",
              "      <td>3.1917</td>\n",
              "      <td>73400.0</td>\n",
              "    </tr>\n",
              "    <tr>\n",
              "      <th>4</th>\n",
              "      <td>-114.57</td>\n",
              "      <td>33.57</td>\n",
              "      <td>20.0</td>\n",
              "      <td>1454.0</td>\n",
              "      <td>326.0</td>\n",
              "      <td>624.0</td>\n",
              "      <td>262.0</td>\n",
              "      <td>1.9250</td>\n",
              "      <td>65500.0</td>\n",
              "    </tr>\n",
              "    <tr>\n",
              "      <th>...</th>\n",
              "      <td>...</td>\n",
              "      <td>...</td>\n",
              "      <td>...</td>\n",
              "      <td>...</td>\n",
              "      <td>...</td>\n",
              "      <td>...</td>\n",
              "      <td>...</td>\n",
              "      <td>...</td>\n",
              "      <td>...</td>\n",
              "    </tr>\n",
              "    <tr>\n",
              "      <th>16995</th>\n",
              "      <td>-124.26</td>\n",
              "      <td>40.58</td>\n",
              "      <td>52.0</td>\n",
              "      <td>2217.0</td>\n",
              "      <td>394.0</td>\n",
              "      <td>907.0</td>\n",
              "      <td>369.0</td>\n",
              "      <td>2.3571</td>\n",
              "      <td>111400.0</td>\n",
              "    </tr>\n",
              "    <tr>\n",
              "      <th>16996</th>\n",
              "      <td>-124.27</td>\n",
              "      <td>40.69</td>\n",
              "      <td>36.0</td>\n",
              "      <td>2349.0</td>\n",
              "      <td>528.0</td>\n",
              "      <td>1194.0</td>\n",
              "      <td>465.0</td>\n",
              "      <td>2.5179</td>\n",
              "      <td>79000.0</td>\n",
              "    </tr>\n",
              "    <tr>\n",
              "      <th>16997</th>\n",
              "      <td>-124.30</td>\n",
              "      <td>41.84</td>\n",
              "      <td>17.0</td>\n",
              "      <td>2677.0</td>\n",
              "      <td>531.0</td>\n",
              "      <td>1244.0</td>\n",
              "      <td>456.0</td>\n",
              "      <td>3.0313</td>\n",
              "      <td>103600.0</td>\n",
              "    </tr>\n",
              "    <tr>\n",
              "      <th>16998</th>\n",
              "      <td>-124.30</td>\n",
              "      <td>41.80</td>\n",
              "      <td>19.0</td>\n",
              "      <td>2672.0</td>\n",
              "      <td>552.0</td>\n",
              "      <td>1298.0</td>\n",
              "      <td>478.0</td>\n",
              "      <td>1.9797</td>\n",
              "      <td>85800.0</td>\n",
              "    </tr>\n",
              "    <tr>\n",
              "      <th>16999</th>\n",
              "      <td>-124.35</td>\n",
              "      <td>40.54</td>\n",
              "      <td>52.0</td>\n",
              "      <td>1820.0</td>\n",
              "      <td>300.0</td>\n",
              "      <td>806.0</td>\n",
              "      <td>270.0</td>\n",
              "      <td>3.0147</td>\n",
              "      <td>94600.0</td>\n",
              "    </tr>\n",
              "  </tbody>\n",
              "</table>\n",
              "<p>17000 rows × 9 columns</p>\n",
              "</div>"
            ],
            "text/plain": [
              "       longitude  latitude  ...  median_income  median_house_value\n",
              "0        -114.31     34.19  ...         1.4936             66900.0\n",
              "1        -114.47     34.40  ...         1.8200             80100.0\n",
              "2        -114.56     33.69  ...         1.6509             85700.0\n",
              "3        -114.57     33.64  ...         3.1917             73400.0\n",
              "4        -114.57     33.57  ...         1.9250             65500.0\n",
              "...          ...       ...  ...            ...                 ...\n",
              "16995    -124.26     40.58  ...         2.3571            111400.0\n",
              "16996    -124.27     40.69  ...         2.5179             79000.0\n",
              "16997    -124.30     41.84  ...         3.0313            103600.0\n",
              "16998    -124.30     41.80  ...         1.9797             85800.0\n",
              "16999    -124.35     40.54  ...         3.0147             94600.0\n",
              "\n",
              "[17000 rows x 9 columns]"
            ]
          },
          "metadata": {
            "tags": []
          },
          "execution_count": 33
        }
      ]
    },
    {
      "cell_type": "markdown",
      "metadata": {
        "colab_type": "text",
        "id": "rUAqRcgr6ggf"
      },
      "source": [
        "#### Exemplo 2: Lendo arquivos do Google Drive"
      ]
    },
    {
      "cell_type": "markdown",
      "metadata": {
        "id": "vuzv4VhIKQjR",
        "colab_type": "text"
      },
      "source": [
        "Na aba da esquerda, no Google Colab, clique no botão 'Montar Drive'. Após você autorizar a conexão, você poderá acessar facilmente qualquer arquivo do seu Google Drive aqui no Colab."
      ]
    },
    {
      "cell_type": "code",
      "metadata": {
        "id": "kIvJloUh5JSW",
        "colab_type": "code",
        "colab": {}
      },
      "source": [
        "treino = pd.read_csv('/content/drive/My Drive/treinamento.csv')  #só vai funcionar pra mim, pois é o meu drive"
      ],
      "execution_count": 98,
      "outputs": []
    },
    {
      "cell_type": "code",
      "metadata": {
        "id": "cT4adToCykKv",
        "colab_type": "code",
        "colab": {
          "base_uri": "https://localhost:8080/",
          "height": 206
        },
        "outputId": "afe352c7-3863-4d96-a626-9a5fe5af0c6c"
      },
      "source": [
        "treino.head()"
      ],
      "execution_count": 99,
      "outputs": [
        {
          "output_type": "execute_result",
          "data": {
            "text/html": [
              "<div>\n",
              "<style scoped>\n",
              "    .dataframe tbody tr th:only-of-type {\n",
              "        vertical-align: middle;\n",
              "    }\n",
              "\n",
              "    .dataframe tbody tr th {\n",
              "        vertical-align: top;\n",
              "    }\n",
              "\n",
              "    .dataframe thead th {\n",
              "        text-align: right;\n",
              "    }\n",
              "</style>\n",
              "<table border=\"1\" class=\"dataframe\">\n",
              "  <thead>\n",
              "    <tr style=\"text-align: right;\">\n",
              "      <th></th>\n",
              "      <th>name</th>\n",
              "      <th>sex</th>\n",
              "      <th>age</th>\n",
              "      <th>sibsp</th>\n",
              "      <th>parch</th>\n",
              "      <th>ticket</th>\n",
              "      <th>fare</th>\n",
              "      <th>embarked</th>\n",
              "      <th>pclass</th>\n",
              "      <th>survived</th>\n",
              "    </tr>\n",
              "  </thead>\n",
              "  <tbody>\n",
              "    <tr>\n",
              "      <th>0</th>\n",
              "      <td>Allen, Miss. Elisabeth Walton</td>\n",
              "      <td>female</td>\n",
              "      <td>29.0000</td>\n",
              "      <td>0</td>\n",
              "      <td>0</td>\n",
              "      <td>24160</td>\n",
              "      <td>211.3375</td>\n",
              "      <td>S</td>\n",
              "      <td>1</td>\n",
              "      <td>1</td>\n",
              "    </tr>\n",
              "    <tr>\n",
              "      <th>1</th>\n",
              "      <td>Allison, Master. Hudson Trevor</td>\n",
              "      <td>male</td>\n",
              "      <td>0.9167</td>\n",
              "      <td>1</td>\n",
              "      <td>2</td>\n",
              "      <td>113781</td>\n",
              "      <td>151.5500</td>\n",
              "      <td>S</td>\n",
              "      <td>1</td>\n",
              "      <td>1</td>\n",
              "    </tr>\n",
              "    <tr>\n",
              "      <th>2</th>\n",
              "      <td>Allison, Mr. Hudson Joshua Creighton</td>\n",
              "      <td>male</td>\n",
              "      <td>30.0000</td>\n",
              "      <td>1</td>\n",
              "      <td>2</td>\n",
              "      <td>113781</td>\n",
              "      <td>151.5500</td>\n",
              "      <td>S</td>\n",
              "      <td>1</td>\n",
              "      <td>0</td>\n",
              "    </tr>\n",
              "    <tr>\n",
              "      <th>3</th>\n",
              "      <td>Anderson, Mr. Harry</td>\n",
              "      <td>male</td>\n",
              "      <td>48.0000</td>\n",
              "      <td>0</td>\n",
              "      <td>0</td>\n",
              "      <td>19952</td>\n",
              "      <td>26.5500</td>\n",
              "      <td>S</td>\n",
              "      <td>1</td>\n",
              "      <td>1</td>\n",
              "    </tr>\n",
              "    <tr>\n",
              "      <th>4</th>\n",
              "      <td>Andrews, Miss. Kornelia Theodosia</td>\n",
              "      <td>female</td>\n",
              "      <td>63.0000</td>\n",
              "      <td>1</td>\n",
              "      <td>0</td>\n",
              "      <td>13502</td>\n",
              "      <td>77.9583</td>\n",
              "      <td>S</td>\n",
              "      <td>1</td>\n",
              "      <td>1</td>\n",
              "    </tr>\n",
              "  </tbody>\n",
              "</table>\n",
              "</div>"
            ],
            "text/plain": [
              "                                   name     sex  ...  pclass  survived\n",
              "0         Allen, Miss. Elisabeth Walton  female  ...       1         1\n",
              "1        Allison, Master. Hudson Trevor    male  ...       1         1\n",
              "2  Allison, Mr. Hudson Joshua Creighton    male  ...       1         0\n",
              "3                   Anderson, Mr. Harry    male  ...       1         1\n",
              "4     Andrews, Miss. Kornelia Theodosia  female  ...       1         1\n",
              "\n",
              "[5 rows x 10 columns]"
            ]
          },
          "metadata": {
            "tags": []
          },
          "execution_count": 99
        }
      ]
    },
    {
      "cell_type": "markdown",
      "metadata": {
        "colab_type": "text",
        "id": "WwE6951d6jNB"
      },
      "source": [
        "#### Exemplo 3: Lendo arquivos xlsx direto do Github"
      ]
    },
    {
      "cell_type": "markdown",
      "metadata": {
        "id": "XJM-OsVNKnkI",
        "colab_type": "text"
      },
      "source": [
        "Exemplo de leitura de dados do Excel, direto do github. São os dados de Covid-19 pelo mundo, oferecidos pelo Our World In Data. "
      ]
    },
    {
      "cell_type": "code",
      "metadata": {
        "id": "q3Xb5q1m5Ni1",
        "colab_type": "code",
        "colab": {}
      },
      "source": [
        "url = 'https://github.com/owid/covid-19-data/blob/master/public/data/owid-covid-data.xlsx?raw=true'\n",
        "\n",
        "covid = pd.read_excel(url)"
      ],
      "execution_count": 100,
      "outputs": []
    },
    {
      "cell_type": "code",
      "metadata": {
        "id": "Sqv7i4A_5ilw",
        "colab_type": "code",
        "colab": {
          "base_uri": "https://localhost:8080/",
          "height": 226
        },
        "outputId": "30b0f06c-886c-4bc2-cbe4-cdb6a30deb4a"
      },
      "source": [
        "covid.head()"
      ],
      "execution_count": 101,
      "outputs": [
        {
          "output_type": "execute_result",
          "data": {
            "text/html": [
              "<div>\n",
              "<style scoped>\n",
              "    .dataframe tbody tr th:only-of-type {\n",
              "        vertical-align: middle;\n",
              "    }\n",
              "\n",
              "    .dataframe tbody tr th {\n",
              "        vertical-align: top;\n",
              "    }\n",
              "\n",
              "    .dataframe thead th {\n",
              "        text-align: right;\n",
              "    }\n",
              "</style>\n",
              "<table border=\"1\" class=\"dataframe\">\n",
              "  <thead>\n",
              "    <tr style=\"text-align: right;\">\n",
              "      <th></th>\n",
              "      <th>iso_code</th>\n",
              "      <th>continent</th>\n",
              "      <th>location</th>\n",
              "      <th>date</th>\n",
              "      <th>total_cases</th>\n",
              "      <th>new_cases</th>\n",
              "      <th>total_deaths</th>\n",
              "      <th>new_deaths</th>\n",
              "      <th>total_cases_per_million</th>\n",
              "      <th>new_cases_per_million</th>\n",
              "      <th>total_deaths_per_million</th>\n",
              "      <th>new_deaths_per_million</th>\n",
              "      <th>total_tests</th>\n",
              "      <th>new_tests</th>\n",
              "      <th>total_tests_per_thousand</th>\n",
              "      <th>new_tests_per_thousand</th>\n",
              "      <th>new_tests_smoothed</th>\n",
              "      <th>new_tests_smoothed_per_thousand</th>\n",
              "      <th>tests_units</th>\n",
              "      <th>stringency_index</th>\n",
              "      <th>population</th>\n",
              "      <th>population_density</th>\n",
              "      <th>median_age</th>\n",
              "      <th>aged_65_older</th>\n",
              "      <th>aged_70_older</th>\n",
              "      <th>gdp_per_capita</th>\n",
              "      <th>extreme_poverty</th>\n",
              "      <th>cvd_death_rate</th>\n",
              "      <th>diabetes_prevalence</th>\n",
              "      <th>female_smokers</th>\n",
              "      <th>male_smokers</th>\n",
              "      <th>handwashing_facilities</th>\n",
              "      <th>hospital_beds_per_thousand</th>\n",
              "      <th>life_expectancy</th>\n",
              "    </tr>\n",
              "  </thead>\n",
              "  <tbody>\n",
              "    <tr>\n",
              "      <th>0</th>\n",
              "      <td>AFG</td>\n",
              "      <td>Asia</td>\n",
              "      <td>Afghanistan</td>\n",
              "      <td>2019-12-31</td>\n",
              "      <td>0.0</td>\n",
              "      <td>0.0</td>\n",
              "      <td>0.0</td>\n",
              "      <td>0.0</td>\n",
              "      <td>0.0</td>\n",
              "      <td>0.0</td>\n",
              "      <td>0.0</td>\n",
              "      <td>0.0</td>\n",
              "      <td>NaN</td>\n",
              "      <td>NaN</td>\n",
              "      <td>NaN</td>\n",
              "      <td>NaN</td>\n",
              "      <td>NaN</td>\n",
              "      <td>NaN</td>\n",
              "      <td>NaN</td>\n",
              "      <td>NaN</td>\n",
              "      <td>38928341.0</td>\n",
              "      <td>54.422</td>\n",
              "      <td>18.6</td>\n",
              "      <td>2.581</td>\n",
              "      <td>1.337</td>\n",
              "      <td>1803.987</td>\n",
              "      <td>NaN</td>\n",
              "      <td>597.029</td>\n",
              "      <td>9.59</td>\n",
              "      <td>NaN</td>\n",
              "      <td>NaN</td>\n",
              "      <td>37.746</td>\n",
              "      <td>0.5</td>\n",
              "      <td>64.83</td>\n",
              "    </tr>\n",
              "    <tr>\n",
              "      <th>1</th>\n",
              "      <td>AFG</td>\n",
              "      <td>Asia</td>\n",
              "      <td>Afghanistan</td>\n",
              "      <td>2020-01-01</td>\n",
              "      <td>0.0</td>\n",
              "      <td>0.0</td>\n",
              "      <td>0.0</td>\n",
              "      <td>0.0</td>\n",
              "      <td>0.0</td>\n",
              "      <td>0.0</td>\n",
              "      <td>0.0</td>\n",
              "      <td>0.0</td>\n",
              "      <td>NaN</td>\n",
              "      <td>NaN</td>\n",
              "      <td>NaN</td>\n",
              "      <td>NaN</td>\n",
              "      <td>NaN</td>\n",
              "      <td>NaN</td>\n",
              "      <td>NaN</td>\n",
              "      <td>0.0</td>\n",
              "      <td>38928341.0</td>\n",
              "      <td>54.422</td>\n",
              "      <td>18.6</td>\n",
              "      <td>2.581</td>\n",
              "      <td>1.337</td>\n",
              "      <td>1803.987</td>\n",
              "      <td>NaN</td>\n",
              "      <td>597.029</td>\n",
              "      <td>9.59</td>\n",
              "      <td>NaN</td>\n",
              "      <td>NaN</td>\n",
              "      <td>37.746</td>\n",
              "      <td>0.5</td>\n",
              "      <td>64.83</td>\n",
              "    </tr>\n",
              "    <tr>\n",
              "      <th>2</th>\n",
              "      <td>AFG</td>\n",
              "      <td>Asia</td>\n",
              "      <td>Afghanistan</td>\n",
              "      <td>2020-01-02</td>\n",
              "      <td>0.0</td>\n",
              "      <td>0.0</td>\n",
              "      <td>0.0</td>\n",
              "      <td>0.0</td>\n",
              "      <td>0.0</td>\n",
              "      <td>0.0</td>\n",
              "      <td>0.0</td>\n",
              "      <td>0.0</td>\n",
              "      <td>NaN</td>\n",
              "      <td>NaN</td>\n",
              "      <td>NaN</td>\n",
              "      <td>NaN</td>\n",
              "      <td>NaN</td>\n",
              "      <td>NaN</td>\n",
              "      <td>NaN</td>\n",
              "      <td>0.0</td>\n",
              "      <td>38928341.0</td>\n",
              "      <td>54.422</td>\n",
              "      <td>18.6</td>\n",
              "      <td>2.581</td>\n",
              "      <td>1.337</td>\n",
              "      <td>1803.987</td>\n",
              "      <td>NaN</td>\n",
              "      <td>597.029</td>\n",
              "      <td>9.59</td>\n",
              "      <td>NaN</td>\n",
              "      <td>NaN</td>\n",
              "      <td>37.746</td>\n",
              "      <td>0.5</td>\n",
              "      <td>64.83</td>\n",
              "    </tr>\n",
              "    <tr>\n",
              "      <th>3</th>\n",
              "      <td>AFG</td>\n",
              "      <td>Asia</td>\n",
              "      <td>Afghanistan</td>\n",
              "      <td>2020-01-03</td>\n",
              "      <td>0.0</td>\n",
              "      <td>0.0</td>\n",
              "      <td>0.0</td>\n",
              "      <td>0.0</td>\n",
              "      <td>0.0</td>\n",
              "      <td>0.0</td>\n",
              "      <td>0.0</td>\n",
              "      <td>0.0</td>\n",
              "      <td>NaN</td>\n",
              "      <td>NaN</td>\n",
              "      <td>NaN</td>\n",
              "      <td>NaN</td>\n",
              "      <td>NaN</td>\n",
              "      <td>NaN</td>\n",
              "      <td>NaN</td>\n",
              "      <td>0.0</td>\n",
              "      <td>38928341.0</td>\n",
              "      <td>54.422</td>\n",
              "      <td>18.6</td>\n",
              "      <td>2.581</td>\n",
              "      <td>1.337</td>\n",
              "      <td>1803.987</td>\n",
              "      <td>NaN</td>\n",
              "      <td>597.029</td>\n",
              "      <td>9.59</td>\n",
              "      <td>NaN</td>\n",
              "      <td>NaN</td>\n",
              "      <td>37.746</td>\n",
              "      <td>0.5</td>\n",
              "      <td>64.83</td>\n",
              "    </tr>\n",
              "    <tr>\n",
              "      <th>4</th>\n",
              "      <td>AFG</td>\n",
              "      <td>Asia</td>\n",
              "      <td>Afghanistan</td>\n",
              "      <td>2020-01-04</td>\n",
              "      <td>0.0</td>\n",
              "      <td>0.0</td>\n",
              "      <td>0.0</td>\n",
              "      <td>0.0</td>\n",
              "      <td>0.0</td>\n",
              "      <td>0.0</td>\n",
              "      <td>0.0</td>\n",
              "      <td>0.0</td>\n",
              "      <td>NaN</td>\n",
              "      <td>NaN</td>\n",
              "      <td>NaN</td>\n",
              "      <td>NaN</td>\n",
              "      <td>NaN</td>\n",
              "      <td>NaN</td>\n",
              "      <td>NaN</td>\n",
              "      <td>0.0</td>\n",
              "      <td>38928341.0</td>\n",
              "      <td>54.422</td>\n",
              "      <td>18.6</td>\n",
              "      <td>2.581</td>\n",
              "      <td>1.337</td>\n",
              "      <td>1803.987</td>\n",
              "      <td>NaN</td>\n",
              "      <td>597.029</td>\n",
              "      <td>9.59</td>\n",
              "      <td>NaN</td>\n",
              "      <td>NaN</td>\n",
              "      <td>37.746</td>\n",
              "      <td>0.5</td>\n",
              "      <td>64.83</td>\n",
              "    </tr>\n",
              "  </tbody>\n",
              "</table>\n",
              "</div>"
            ],
            "text/plain": [
              "  iso_code continent  ... hospital_beds_per_thousand life_expectancy\n",
              "0      AFG      Asia  ...                        0.5           64.83\n",
              "1      AFG      Asia  ...                        0.5           64.83\n",
              "2      AFG      Asia  ...                        0.5           64.83\n",
              "3      AFG      Asia  ...                        0.5           64.83\n",
              "4      AFG      Asia  ...                        0.5           64.83\n",
              "\n",
              "[5 rows x 34 columns]"
            ]
          },
          "metadata": {
            "tags": []
          },
          "execution_count": 101
        }
      ]
    },
    {
      "cell_type": "code",
      "metadata": {
        "id": "cik05hc65mFj",
        "colab_type": "code",
        "colab": {
          "base_uri": "https://localhost:8080/",
          "height": 320
        },
        "outputId": "9f7f55dd-44b7-4317-eed1-d53b6b363fea"
      },
      "source": [
        "covid.describe()"
      ],
      "execution_count": 105,
      "outputs": [
        {
          "output_type": "execute_result",
          "data": {
            "text/html": [
              "<div>\n",
              "<style scoped>\n",
              "    .dataframe tbody tr th:only-of-type {\n",
              "        vertical-align: middle;\n",
              "    }\n",
              "\n",
              "    .dataframe tbody tr th {\n",
              "        vertical-align: top;\n",
              "    }\n",
              "\n",
              "    .dataframe thead th {\n",
              "        text-align: right;\n",
              "    }\n",
              "</style>\n",
              "<table border=\"1\" class=\"dataframe\">\n",
              "  <thead>\n",
              "    <tr style=\"text-align: right;\">\n",
              "      <th></th>\n",
              "      <th>total_cases</th>\n",
              "      <th>new_cases</th>\n",
              "      <th>total_deaths</th>\n",
              "      <th>new_deaths</th>\n",
              "      <th>total_cases_per_million</th>\n",
              "      <th>new_cases_per_million</th>\n",
              "      <th>total_deaths_per_million</th>\n",
              "      <th>new_deaths_per_million</th>\n",
              "      <th>total_tests</th>\n",
              "      <th>new_tests</th>\n",
              "      <th>total_tests_per_thousand</th>\n",
              "      <th>new_tests_per_thousand</th>\n",
              "      <th>new_tests_smoothed</th>\n",
              "      <th>new_tests_smoothed_per_thousand</th>\n",
              "      <th>stringency_index</th>\n",
              "      <th>population</th>\n",
              "      <th>population_density</th>\n",
              "      <th>median_age</th>\n",
              "      <th>aged_65_older</th>\n",
              "      <th>aged_70_older</th>\n",
              "      <th>gdp_per_capita</th>\n",
              "      <th>extreme_poverty</th>\n",
              "      <th>cvd_death_rate</th>\n",
              "      <th>diabetes_prevalence</th>\n",
              "      <th>female_smokers</th>\n",
              "      <th>male_smokers</th>\n",
              "      <th>handwashing_facilities</th>\n",
              "      <th>hospital_beds_per_thousand</th>\n",
              "      <th>life_expectancy</th>\n",
              "    </tr>\n",
              "  </thead>\n",
              "  <tbody>\n",
              "    <tr>\n",
              "      <th>count</th>\n",
              "      <td>2.632400e+04</td>\n",
              "      <td>26324.000000</td>\n",
              "      <td>26324.000000</td>\n",
              "      <td>26324.000000</td>\n",
              "      <td>26260.000000</td>\n",
              "      <td>26260.000000</td>\n",
              "      <td>26260.000000</td>\n",
              "      <td>26260.000000</td>\n",
              "      <td>7.523000e+03</td>\n",
              "      <td>6848.000000</td>\n",
              "      <td>7523.000000</td>\n",
              "      <td>6848.000000</td>\n",
              "      <td>8138.000000</td>\n",
              "      <td>8138.000000</td>\n",
              "      <td>21299.000000</td>\n",
              "      <td>2.647500e+04</td>\n",
              "      <td>25385.000000</td>\n",
              "      <td>23980.000000</td>\n",
              "      <td>23641.000000</td>\n",
              "      <td>23857.000000</td>\n",
              "      <td>23709.000000</td>\n",
              "      <td>15845.000000</td>\n",
              "      <td>24010.00000</td>\n",
              "      <td>24787.000000</td>\n",
              "      <td>19245.000000</td>\n",
              "      <td>19023.000000</td>\n",
              "      <td>10810.000000</td>\n",
              "      <td>21953.000000</td>\n",
              "      <td>26171.000000</td>\n",
              "    </tr>\n",
              "    <tr>\n",
              "      <th>mean</th>\n",
              "      <td>3.206331e+04</td>\n",
              "      <td>742.360887</td>\n",
              "      <td>1938.110546</td>\n",
              "      <td>37.524540</td>\n",
              "      <td>786.475861</td>\n",
              "      <td>15.216119</td>\n",
              "      <td>32.259046</td>\n",
              "      <td>0.532144</td>\n",
              "      <td>5.054456e+05</td>\n",
              "      <td>14365.432827</td>\n",
              "      <td>19.572095</td>\n",
              "      <td>0.471663</td>\n",
              "      <td>12952.264316</td>\n",
              "      <td>0.444605</td>\n",
              "      <td>58.139225</td>\n",
              "      <td>1.001075e+08</td>\n",
              "      <td>373.530250</td>\n",
              "      <td>31.886455</td>\n",
              "      <td>9.600010</td>\n",
              "      <td>6.098714</td>\n",
              "      <td>22088.254050</td>\n",
              "      <td>10.960234</td>\n",
              "      <td>247.75268</td>\n",
              "      <td>8.020490</td>\n",
              "      <td>11.114493</td>\n",
              "      <td>32.650297</td>\n",
              "      <td>54.066730</td>\n",
              "      <td>3.179424</td>\n",
              "      <td>74.433625</td>\n",
              "    </tr>\n",
              "    <tr>\n",
              "      <th>std</th>\n",
              "      <td>3.212325e+05</td>\n",
              "      <td>6559.985260</td>\n",
              "      <td>19022.679917</td>\n",
              "      <td>336.870958</td>\n",
              "      <td>2053.528632</td>\n",
              "      <td>63.390111</td>\n",
              "      <td>111.467663</td>\n",
              "      <td>3.138024</td>\n",
              "      <td>1.904324e+06</td>\n",
              "      <td>48280.771173</td>\n",
              "      <td>32.351658</td>\n",
              "      <td>0.755190</td>\n",
              "      <td>42638.216821</td>\n",
              "      <td>0.654483</td>\n",
              "      <td>31.778180</td>\n",
              "      <td>6.584119e+08</td>\n",
              "      <td>1715.910842</td>\n",
              "      <td>8.988310</td>\n",
              "      <td>6.416237</td>\n",
              "      <td>4.399612</td>\n",
              "      <td>20933.098395</td>\n",
              "      <td>18.292312</td>\n",
              "      <td>118.39188</td>\n",
              "      <td>4.085027</td>\n",
              "      <td>10.542379</td>\n",
              "      <td>13.309658</td>\n",
              "      <td>31.262364</td>\n",
              "      <td>2.576155</td>\n",
              "      <td>7.253754</td>\n",
              "    </tr>\n",
              "    <tr>\n",
              "      <th>min</th>\n",
              "      <td>0.000000e+00</td>\n",
              "      <td>-2461.000000</td>\n",
              "      <td>0.000000</td>\n",
              "      <td>-1918.000000</td>\n",
              "      <td>0.000000</td>\n",
              "      <td>-265.189000</td>\n",
              "      <td>0.000000</td>\n",
              "      <td>-41.023000</td>\n",
              "      <td>1.000000e+00</td>\n",
              "      <td>1.000000</td>\n",
              "      <td>0.000000</td>\n",
              "      <td>0.000000</td>\n",
              "      <td>0.000000</td>\n",
              "      <td>0.000000</td>\n",
              "      <td>0.000000</td>\n",
              "      <td>8.090000e+02</td>\n",
              "      <td>0.137000</td>\n",
              "      <td>15.100000</td>\n",
              "      <td>1.144000</td>\n",
              "      <td>0.526000</td>\n",
              "      <td>661.240000</td>\n",
              "      <td>0.100000</td>\n",
              "      <td>79.37000</td>\n",
              "      <td>0.990000</td>\n",
              "      <td>0.100000</td>\n",
              "      <td>7.700000</td>\n",
              "      <td>1.188000</td>\n",
              "      <td>0.100000</td>\n",
              "      <td>53.280000</td>\n",
              "    </tr>\n",
              "    <tr>\n",
              "      <th>25%</th>\n",
              "      <td>1.400000e+01</td>\n",
              "      <td>0.000000</td>\n",
              "      <td>0.000000</td>\n",
              "      <td>0.000000</td>\n",
              "      <td>3.050000</td>\n",
              "      <td>0.000000</td>\n",
              "      <td>0.000000</td>\n",
              "      <td>0.000000</td>\n",
              "      <td>1.868800e+04</td>\n",
              "      <td>803.750000</td>\n",
              "      <td>0.913500</td>\n",
              "      <td>0.049000</td>\n",
              "      <td>915.000000</td>\n",
              "      <td>0.049000</td>\n",
              "      <td>33.330000</td>\n",
              "      <td>1.967998e+06</td>\n",
              "      <td>39.497000</td>\n",
              "      <td>25.000000</td>\n",
              "      <td>3.808000</td>\n",
              "      <td>2.242000</td>\n",
              "      <td>6222.554000</td>\n",
              "      <td>0.500000</td>\n",
              "      <td>151.68900</td>\n",
              "      <td>5.310000</td>\n",
              "      <td>1.900000</td>\n",
              "      <td>21.400000</td>\n",
              "      <td>23.437000</td>\n",
              "      <td>1.400000</td>\n",
              "      <td>70.780000</td>\n",
              "    </tr>\n",
              "    <tr>\n",
              "      <th>50%</th>\n",
              "      <td>2.380000e+02</td>\n",
              "      <td>4.000000</td>\n",
              "      <td>5.000000</td>\n",
              "      <td>0.000000</td>\n",
              "      <td>82.173000</td>\n",
              "      <td>0.481000</td>\n",
              "      <td>0.809500</td>\n",
              "      <td>0.000000</td>\n",
              "      <td>7.990900e+04</td>\n",
              "      <td>2652.500000</td>\n",
              "      <td>5.209000</td>\n",
              "      <td>0.209000</td>\n",
              "      <td>2921.000000</td>\n",
              "      <td>0.212000</td>\n",
              "      <td>69.440000</td>\n",
              "      <td>9.006400e+06</td>\n",
              "      <td>90.672000</td>\n",
              "      <td>31.900000</td>\n",
              "      <td>7.151000</td>\n",
              "      <td>4.625000</td>\n",
              "      <td>15469.207000</td>\n",
              "      <td>1.600000</td>\n",
              "      <td>235.84800</td>\n",
              "      <td>7.110000</td>\n",
              "      <td>6.900000</td>\n",
              "      <td>31.400000</td>\n",
              "      <td>59.550000</td>\n",
              "      <td>2.540000</td>\n",
              "      <td>75.880000</td>\n",
              "    </tr>\n",
              "    <tr>\n",
              "      <th>75%</th>\n",
              "      <td>2.686000e+03</td>\n",
              "      <td>69.000000</td>\n",
              "      <td>60.250000</td>\n",
              "      <td>1.000000</td>\n",
              "      <td>530.088750</td>\n",
              "      <td>7.992000</td>\n",
              "      <td>11.808000</td>\n",
              "      <td>0.099000</td>\n",
              "      <td>3.044900e+05</td>\n",
              "      <td>8472.500000</td>\n",
              "      <td>24.875500</td>\n",
              "      <td>0.630500</td>\n",
              "      <td>8013.000000</td>\n",
              "      <td>0.612000</td>\n",
              "      <td>83.330000</td>\n",
              "      <td>3.297185e+07</td>\n",
              "      <td>222.873000</td>\n",
              "      <td>40.100000</td>\n",
              "      <td>14.952000</td>\n",
              "      <td>9.732000</td>\n",
              "      <td>34272.360000</td>\n",
              "      <td>13.400000</td>\n",
              "      <td>317.84000</td>\n",
              "      <td>10.080000</td>\n",
              "      <td>19.800000</td>\n",
              "      <td>40.850000</td>\n",
              "      <td>83.841000</td>\n",
              "      <td>4.210000</td>\n",
              "      <td>80.220000</td>\n",
              "    </tr>\n",
              "    <tr>\n",
              "      <th>max</th>\n",
              "      <td>9.770954e+06</td>\n",
              "      <td>188633.000000</td>\n",
              "      <td>493898.000000</td>\n",
              "      <td>10512.000000</td>\n",
              "      <td>32204.814000</td>\n",
              "      <td>4944.376000</td>\n",
              "      <td>1237.551000</td>\n",
              "      <td>200.040000</td>\n",
              "      <td>2.920782e+07</td>\n",
              "      <td>637587.000000</td>\n",
              "      <td>300.578000</td>\n",
              "      <td>13.467000</td>\n",
              "      <td>538019.000000</td>\n",
              "      <td>9.451000</td>\n",
              "      <td>100.000000</td>\n",
              "      <td>7.794799e+09</td>\n",
              "      <td>19347.500000</td>\n",
              "      <td>48.200000</td>\n",
              "      <td>27.049000</td>\n",
              "      <td>18.493000</td>\n",
              "      <td>116935.600000</td>\n",
              "      <td>77.600000</td>\n",
              "      <td>724.41700</td>\n",
              "      <td>23.360000</td>\n",
              "      <td>44.000000</td>\n",
              "      <td>78.100000</td>\n",
              "      <td>98.999000</td>\n",
              "      <td>13.800000</td>\n",
              "      <td>86.750000</td>\n",
              "    </tr>\n",
              "  </tbody>\n",
              "</table>\n",
              "</div>"
            ],
            "text/plain": [
              "        total_cases      new_cases  ...  hospital_beds_per_thousand  life_expectancy\n",
              "count  2.632400e+04   26324.000000  ...                21953.000000     26171.000000\n",
              "mean   3.206331e+04     742.360887  ...                    3.179424        74.433625\n",
              "std    3.212325e+05    6559.985260  ...                    2.576155         7.253754\n",
              "min    0.000000e+00   -2461.000000  ...                    0.100000        53.280000\n",
              "25%    1.400000e+01       0.000000  ...                    1.400000        70.780000\n",
              "50%    2.380000e+02       4.000000  ...                    2.540000        75.880000\n",
              "75%    2.686000e+03      69.000000  ...                    4.210000        80.220000\n",
              "max    9.770954e+06  188633.000000  ...                   13.800000        86.750000\n",
              "\n",
              "[8 rows x 29 columns]"
            ]
          },
          "metadata": {
            "tags": []
          },
          "execution_count": 105
        }
      ]
    },
    {
      "cell_type": "markdown",
      "metadata": {
        "colab_type": "text",
        "id": "1mGqQmLJ66t0"
      },
      "source": [
        "## **PROJETO**: Lendo arquivos de uma webpage (dependendo da webpage, pode não funcionar)"
      ]
    },
    {
      "cell_type": "code",
      "metadata": {
        "id": "0XwDJKXA7F_c",
        "colab_type": "code",
        "colab": {}
      },
      "source": [
        "url = 'https://pt.wikipedia.org/wiki/Salvador'\n",
        "wiki = pd.read_html(url, decimal= ',', thousands= '.')"
      ],
      "execution_count": 106,
      "outputs": []
    },
    {
      "cell_type": "code",
      "metadata": {
        "id": "LVCJTIok7W23",
        "colab_type": "code",
        "colab": {
          "base_uri": "https://localhost:8080/",
          "height": 779
        },
        "outputId": "4f1d41c9-db49-45d7-eec2-b339ce5cba41"
      },
      "source": [
        "wiki[4]"
      ],
      "execution_count": 107,
      "outputs": [
        {
          "output_type": "execute_result",
          "data": {
            "text/html": [
              "<div>\n",
              "<style scoped>\n",
              "    .dataframe tbody tr th:only-of-type {\n",
              "        vertical-align: middle;\n",
              "    }\n",
              "\n",
              "    .dataframe tbody tr th {\n",
              "        vertical-align: top;\n",
              "    }\n",
              "\n",
              "    .dataframe thead tr th {\n",
              "        text-align: left;\n",
              "    }\n",
              "</style>\n",
              "<table border=\"1\" class=\"dataframe\">\n",
              "  <thead>\n",
              "    <tr>\n",
              "      <th></th>\n",
              "      <th colspan=\"14\" halign=\"left\">Dados climatológicos para Salvador (Ondina)</th>\n",
              "    </tr>\n",
              "    <tr>\n",
              "      <th></th>\n",
              "      <th>Mês</th>\n",
              "      <th>Jan</th>\n",
              "      <th>Fev</th>\n",
              "      <th>Mar</th>\n",
              "      <th>Abr</th>\n",
              "      <th>Mai</th>\n",
              "      <th>Jun</th>\n",
              "      <th>Jul</th>\n",
              "      <th>Ago</th>\n",
              "      <th>Set</th>\n",
              "      <th>Out</th>\n",
              "      <th>Nov</th>\n",
              "      <th>Dez</th>\n",
              "      <th>Ano</th>\n",
              "    </tr>\n",
              "  </thead>\n",
              "  <tbody>\n",
              "    <tr>\n",
              "      <th>0</th>\n",
              "      <td>Temperatura máxima recorde (°C)</td>\n",
              "      <td>34.3</td>\n",
              "      <td>34.7</td>\n",
              "      <td>35.6</td>\n",
              "      <td>34.5</td>\n",
              "      <td>31.6</td>\n",
              "      <td>30.6</td>\n",
              "      <td>30.7</td>\n",
              "      <td>31.3</td>\n",
              "      <td>30.7</td>\n",
              "      <td>32.4</td>\n",
              "      <td>33.1</td>\n",
              "      <td>34.3</td>\n",
              "      <td>35.6</td>\n",
              "    </tr>\n",
              "    <tr>\n",
              "      <th>1</th>\n",
              "      <td>Temperatura máxima média (°C)</td>\n",
              "      <td>30.9</td>\n",
              "      <td>31</td>\n",
              "      <td>30.7</td>\n",
              "      <td>29.5</td>\n",
              "      <td>28.3</td>\n",
              "      <td>27.1</td>\n",
              "      <td>26.5</td>\n",
              "      <td>26.7</td>\n",
              "      <td>27.7</td>\n",
              "      <td>29</td>\n",
              "      <td>29.8</td>\n",
              "      <td>30.5</td>\n",
              "      <td>29</td>\n",
              "    </tr>\n",
              "    <tr>\n",
              "      <th>2</th>\n",
              "      <td>Temperatura média compensada (°C)</td>\n",
              "      <td>27</td>\n",
              "      <td>27.1</td>\n",
              "      <td>27.1</td>\n",
              "      <td>26.4</td>\n",
              "      <td>25.5</td>\n",
              "      <td>24.4</td>\n",
              "      <td>23.8</td>\n",
              "      <td>23.7</td>\n",
              "      <td>24.4</td>\n",
              "      <td>25.5</td>\n",
              "      <td>26.1</td>\n",
              "      <td>26.6</td>\n",
              "      <td>25.6</td>\n",
              "    </tr>\n",
              "    <tr>\n",
              "      <th>3</th>\n",
              "      <td>Temperatura mínima média (°C)</td>\n",
              "      <td>24</td>\n",
              "      <td>24.1</td>\n",
              "      <td>24.2</td>\n",
              "      <td>23.7</td>\n",
              "      <td>23</td>\n",
              "      <td>22.1</td>\n",
              "      <td>21.3</td>\n",
              "      <td>21.1</td>\n",
              "      <td>21.6</td>\n",
              "      <td>22.5</td>\n",
              "      <td>23.1</td>\n",
              "      <td>23.6</td>\n",
              "      <td>22.9</td>\n",
              "    </tr>\n",
              "    <tr>\n",
              "      <th>4</th>\n",
              "      <td>Temperatura mínima recorde (°C)</td>\n",
              "      <td>19.8</td>\n",
              "      <td>19.5</td>\n",
              "      <td>20.8</td>\n",
              "      <td>19.4</td>\n",
              "      <td>18</td>\n",
              "      <td>18.2</td>\n",
              "      <td>17.5</td>\n",
              "      <td>17.7</td>\n",
              "      <td>17.6</td>\n",
              "      <td>18.3</td>\n",
              "      <td>18.9</td>\n",
              "      <td>19.8</td>\n",
              "      <td>17.5</td>\n",
              "    </tr>\n",
              "    <tr>\n",
              "      <th>5</th>\n",
              "      <td>Precipitação (mm)</td>\n",
              "      <td>82.5</td>\n",
              "      <td>107.2</td>\n",
              "      <td>156.8</td>\n",
              "      <td>295.7</td>\n",
              "      <td>279.8</td>\n",
              "      <td>245.6</td>\n",
              "      <td>208.6</td>\n",
              "      <td>133.5</td>\n",
              "      <td>101.6</td>\n",
              "      <td>95.2</td>\n",
              "      <td>106.5</td>\n",
              "      <td>58.1</td>\n",
              "      <td>1 871,1</td>\n",
              "    </tr>\n",
              "    <tr>\n",
              "      <th>6</th>\n",
              "      <td>Dias com precipitação (≥ 1 mm)</td>\n",
              "      <td>8</td>\n",
              "      <td>10</td>\n",
              "      <td>12</td>\n",
              "      <td>17</td>\n",
              "      <td>17</td>\n",
              "      <td>19</td>\n",
              "      <td>18</td>\n",
              "      <td>16</td>\n",
              "      <td>11</td>\n",
              "      <td>8</td>\n",
              "      <td>8</td>\n",
              "      <td>6</td>\n",
              "      <td>150</td>\n",
              "    </tr>\n",
              "    <tr>\n",
              "      <th>7</th>\n",
              "      <td>Umidade relativa compensada (%)</td>\n",
              "      <td>78.5</td>\n",
              "      <td>79.4</td>\n",
              "      <td>80.7</td>\n",
              "      <td>82.7</td>\n",
              "      <td>83.8</td>\n",
              "      <td>83.9</td>\n",
              "      <td>82.7</td>\n",
              "      <td>81.2</td>\n",
              "      <td>80.2</td>\n",
              "      <td>79.9</td>\n",
              "      <td>80.5</td>\n",
              "      <td>79.7</td>\n",
              "      <td>81.1</td>\n",
              "    </tr>\n",
              "    <tr>\n",
              "      <th>8</th>\n",
              "      <td>Horas de sol</td>\n",
              "      <td>246.9</td>\n",
              "      <td>215</td>\n",
              "      <td>227.2</td>\n",
              "      <td>194.1</td>\n",
              "      <td>165.8</td>\n",
              "      <td>147.8</td>\n",
              "      <td>169.1</td>\n",
              "      <td>189.1</td>\n",
              "      <td>211.4</td>\n",
              "      <td>235.5</td>\n",
              "      <td>210.9</td>\n",
              "      <td>230.2</td>\n",
              "      <td>2 443</td>\n",
              "    </tr>\n",
              "    <tr>\n",
              "      <th>9</th>\n",
              "      <td>Fonte: Instituto Nacional de Meteorologia (INM...</td>\n",
              "      <td>Fonte: Instituto Nacional de Meteorologia (INM...</td>\n",
              "      <td>Fonte: Instituto Nacional de Meteorologia (INM...</td>\n",
              "      <td>Fonte: Instituto Nacional de Meteorologia (INM...</td>\n",
              "      <td>Fonte: Instituto Nacional de Meteorologia (INM...</td>\n",
              "      <td>Fonte: Instituto Nacional de Meteorologia (INM...</td>\n",
              "      <td>Fonte: Instituto Nacional de Meteorologia (INM...</td>\n",
              "      <td>Fonte: Instituto Nacional de Meteorologia (INM...</td>\n",
              "      <td>Fonte: Instituto Nacional de Meteorologia (INM...</td>\n",
              "      <td>Fonte: Instituto Nacional de Meteorologia (INM...</td>\n",
              "      <td>Fonte: Instituto Nacional de Meteorologia (INM...</td>\n",
              "      <td>Fonte: Instituto Nacional de Meteorologia (INM...</td>\n",
              "      <td>Fonte: Instituto Nacional de Meteorologia (INM...</td>\n",
              "      <td>Fonte: Instituto Nacional de Meteorologia (INM...</td>\n",
              "    </tr>\n",
              "  </tbody>\n",
              "</table>\n",
              "</div>"
            ],
            "text/plain": [
              "         Dados climatológicos para Salvador (Ondina)  ...                                                   \n",
              "                                                 Mês  ...                                                Ano\n",
              "0                    Temperatura máxima recorde (°C)  ...                                               35.6\n",
              "1                      Temperatura máxima média (°C)  ...                                                 29\n",
              "2                  Temperatura média compensada (°C)  ...                                               25.6\n",
              "3                      Temperatura mínima média (°C)  ...                                               22.9\n",
              "4                    Temperatura mínima recorde (°C)  ...                                               17.5\n",
              "5                                  Precipitação (mm)  ...                                            1 871,1\n",
              "6                     Dias com precipitação (≥ 1 mm)  ...                                                150\n",
              "7                    Umidade relativa compensada (%)  ...                                               81.1\n",
              "8                                       Horas de sol  ...                                              2 443\n",
              "9  Fonte: Instituto Nacional de Meteorologia (INM...  ...  Fonte: Instituto Nacional de Meteorologia (INM...\n",
              "\n",
              "[10 rows x 14 columns]"
            ]
          },
          "metadata": {
            "tags": []
          },
          "execution_count": 107
        }
      ]
    },
    {
      "cell_type": "code",
      "metadata": {
        "id": "fHGhE3jc_gOq",
        "colab_type": "code",
        "colab": {}
      },
      "source": [
        "salvador = wiki[4]"
      ],
      "execution_count": 108,
      "outputs": []
    },
    {
      "cell_type": "code",
      "metadata": {
        "id": "IRR5GtHU7ss5",
        "colab_type": "code",
        "colab": {}
      },
      "source": [
        "colunas = salvador.columns "
      ],
      "execution_count": 109,
      "outputs": []
    },
    {
      "cell_type": "code",
      "metadata": {
        "id": "oBGeKJDMMozK",
        "colab_type": "code",
        "colab": {
          "base_uri": "https://localhost:8080/",
          "height": 295
        },
        "outputId": "dc06c3a1-30c4-49f2-9178-7aa9861c56bf"
      },
      "source": [
        "colunas"
      ],
      "execution_count": 110,
      "outputs": [
        {
          "output_type": "execute_result",
          "data": {
            "text/plain": [
              "MultiIndex([('Dados climatológicos para Salvador (Ondina)', 'Mês'),\n",
              "            ('Dados climatológicos para Salvador (Ondina)', 'Jan'),\n",
              "            ('Dados climatológicos para Salvador (Ondina)', 'Fev'),\n",
              "            ('Dados climatológicos para Salvador (Ondina)', 'Mar'),\n",
              "            ('Dados climatológicos para Salvador (Ondina)', 'Abr'),\n",
              "            ('Dados climatológicos para Salvador (Ondina)', 'Mai'),\n",
              "            ('Dados climatológicos para Salvador (Ondina)', 'Jun'),\n",
              "            ('Dados climatológicos para Salvador (Ondina)', 'Jul'),\n",
              "            ('Dados climatológicos para Salvador (Ondina)', 'Ago'),\n",
              "            ('Dados climatológicos para Salvador (Ondina)', 'Set'),\n",
              "            ('Dados climatológicos para Salvador (Ondina)', 'Out'),\n",
              "            ('Dados climatológicos para Salvador (Ondina)', 'Nov'),\n",
              "            ('Dados climatológicos para Salvador (Ondina)', 'Dez'),\n",
              "            ('Dados climatológicos para Salvador (Ondina)', 'Ano')],\n",
              "           )"
            ]
          },
          "metadata": {
            "tags": []
          },
          "execution_count": 110
        }
      ]
    },
    {
      "cell_type": "code",
      "metadata": {
        "id": "ULJjWIKZ_mmI",
        "colab_type": "code",
        "colab": {
          "base_uri": "https://localhost:8080/",
          "height": 36
        },
        "outputId": "9090b9ae-4483-485f-a538-a922a57fcaea"
      },
      "source": [
        "cols = []\n",
        "for i in range(len(colunas)):\n",
        "    cols.append(colunas[i][1])\n",
        "cols[0] = 'Medida'\n",
        "print(cols)"
      ],
      "execution_count": 111,
      "outputs": [
        {
          "output_type": "stream",
          "text": [
            "['Medida', 'Jan', 'Fev', 'Mar', 'Abr', 'Mai', 'Jun', 'Jul', 'Ago', 'Set', 'Out', 'Nov', 'Dez', 'Ano']\n"
          ],
          "name": "stdout"
        }
      ]
    },
    {
      "cell_type": "code",
      "metadata": {
        "id": "Sk5JISEl7meu",
        "colab_type": "code",
        "colab": {}
      },
      "source": [
        "salvador.columns = cols"
      ],
      "execution_count": 112,
      "outputs": []
    },
    {
      "cell_type": "code",
      "metadata": {
        "id": "0Py7rf1OMt8H",
        "colab_type": "code",
        "colab": {
          "base_uri": "https://localhost:8080/",
          "height": 748
        },
        "outputId": "27fd96ad-5941-4039-dbb5-b87b0db8bdea"
      },
      "source": [
        "salvador"
      ],
      "execution_count": 113,
      "outputs": [
        {
          "output_type": "execute_result",
          "data": {
            "text/html": [
              "<div>\n",
              "<style scoped>\n",
              "    .dataframe tbody tr th:only-of-type {\n",
              "        vertical-align: middle;\n",
              "    }\n",
              "\n",
              "    .dataframe tbody tr th {\n",
              "        vertical-align: top;\n",
              "    }\n",
              "\n",
              "    .dataframe thead th {\n",
              "        text-align: right;\n",
              "    }\n",
              "</style>\n",
              "<table border=\"1\" class=\"dataframe\">\n",
              "  <thead>\n",
              "    <tr style=\"text-align: right;\">\n",
              "      <th></th>\n",
              "      <th>Medida</th>\n",
              "      <th>Jan</th>\n",
              "      <th>Fev</th>\n",
              "      <th>Mar</th>\n",
              "      <th>Abr</th>\n",
              "      <th>Mai</th>\n",
              "      <th>Jun</th>\n",
              "      <th>Jul</th>\n",
              "      <th>Ago</th>\n",
              "      <th>Set</th>\n",
              "      <th>Out</th>\n",
              "      <th>Nov</th>\n",
              "      <th>Dez</th>\n",
              "      <th>Ano</th>\n",
              "    </tr>\n",
              "  </thead>\n",
              "  <tbody>\n",
              "    <tr>\n",
              "      <th>0</th>\n",
              "      <td>Temperatura máxima recorde (°C)</td>\n",
              "      <td>34.3</td>\n",
              "      <td>34.7</td>\n",
              "      <td>35.6</td>\n",
              "      <td>34.5</td>\n",
              "      <td>31.6</td>\n",
              "      <td>30.6</td>\n",
              "      <td>30.7</td>\n",
              "      <td>31.3</td>\n",
              "      <td>30.7</td>\n",
              "      <td>32.4</td>\n",
              "      <td>33.1</td>\n",
              "      <td>34.3</td>\n",
              "      <td>35.6</td>\n",
              "    </tr>\n",
              "    <tr>\n",
              "      <th>1</th>\n",
              "      <td>Temperatura máxima média (°C)</td>\n",
              "      <td>30.9</td>\n",
              "      <td>31</td>\n",
              "      <td>30.7</td>\n",
              "      <td>29.5</td>\n",
              "      <td>28.3</td>\n",
              "      <td>27.1</td>\n",
              "      <td>26.5</td>\n",
              "      <td>26.7</td>\n",
              "      <td>27.7</td>\n",
              "      <td>29</td>\n",
              "      <td>29.8</td>\n",
              "      <td>30.5</td>\n",
              "      <td>29</td>\n",
              "    </tr>\n",
              "    <tr>\n",
              "      <th>2</th>\n",
              "      <td>Temperatura média compensada (°C)</td>\n",
              "      <td>27</td>\n",
              "      <td>27.1</td>\n",
              "      <td>27.1</td>\n",
              "      <td>26.4</td>\n",
              "      <td>25.5</td>\n",
              "      <td>24.4</td>\n",
              "      <td>23.8</td>\n",
              "      <td>23.7</td>\n",
              "      <td>24.4</td>\n",
              "      <td>25.5</td>\n",
              "      <td>26.1</td>\n",
              "      <td>26.6</td>\n",
              "      <td>25.6</td>\n",
              "    </tr>\n",
              "    <tr>\n",
              "      <th>3</th>\n",
              "      <td>Temperatura mínima média (°C)</td>\n",
              "      <td>24</td>\n",
              "      <td>24.1</td>\n",
              "      <td>24.2</td>\n",
              "      <td>23.7</td>\n",
              "      <td>23</td>\n",
              "      <td>22.1</td>\n",
              "      <td>21.3</td>\n",
              "      <td>21.1</td>\n",
              "      <td>21.6</td>\n",
              "      <td>22.5</td>\n",
              "      <td>23.1</td>\n",
              "      <td>23.6</td>\n",
              "      <td>22.9</td>\n",
              "    </tr>\n",
              "    <tr>\n",
              "      <th>4</th>\n",
              "      <td>Temperatura mínima recorde (°C)</td>\n",
              "      <td>19.8</td>\n",
              "      <td>19.5</td>\n",
              "      <td>20.8</td>\n",
              "      <td>19.4</td>\n",
              "      <td>18</td>\n",
              "      <td>18.2</td>\n",
              "      <td>17.5</td>\n",
              "      <td>17.7</td>\n",
              "      <td>17.6</td>\n",
              "      <td>18.3</td>\n",
              "      <td>18.9</td>\n",
              "      <td>19.8</td>\n",
              "      <td>17.5</td>\n",
              "    </tr>\n",
              "    <tr>\n",
              "      <th>5</th>\n",
              "      <td>Precipitação (mm)</td>\n",
              "      <td>82.5</td>\n",
              "      <td>107.2</td>\n",
              "      <td>156.8</td>\n",
              "      <td>295.7</td>\n",
              "      <td>279.8</td>\n",
              "      <td>245.6</td>\n",
              "      <td>208.6</td>\n",
              "      <td>133.5</td>\n",
              "      <td>101.6</td>\n",
              "      <td>95.2</td>\n",
              "      <td>106.5</td>\n",
              "      <td>58.1</td>\n",
              "      <td>1 871,1</td>\n",
              "    </tr>\n",
              "    <tr>\n",
              "      <th>6</th>\n",
              "      <td>Dias com precipitação (≥ 1 mm)</td>\n",
              "      <td>8</td>\n",
              "      <td>10</td>\n",
              "      <td>12</td>\n",
              "      <td>17</td>\n",
              "      <td>17</td>\n",
              "      <td>19</td>\n",
              "      <td>18</td>\n",
              "      <td>16</td>\n",
              "      <td>11</td>\n",
              "      <td>8</td>\n",
              "      <td>8</td>\n",
              "      <td>6</td>\n",
              "      <td>150</td>\n",
              "    </tr>\n",
              "    <tr>\n",
              "      <th>7</th>\n",
              "      <td>Umidade relativa compensada (%)</td>\n",
              "      <td>78.5</td>\n",
              "      <td>79.4</td>\n",
              "      <td>80.7</td>\n",
              "      <td>82.7</td>\n",
              "      <td>83.8</td>\n",
              "      <td>83.9</td>\n",
              "      <td>82.7</td>\n",
              "      <td>81.2</td>\n",
              "      <td>80.2</td>\n",
              "      <td>79.9</td>\n",
              "      <td>80.5</td>\n",
              "      <td>79.7</td>\n",
              "      <td>81.1</td>\n",
              "    </tr>\n",
              "    <tr>\n",
              "      <th>8</th>\n",
              "      <td>Horas de sol</td>\n",
              "      <td>246.9</td>\n",
              "      <td>215</td>\n",
              "      <td>227.2</td>\n",
              "      <td>194.1</td>\n",
              "      <td>165.8</td>\n",
              "      <td>147.8</td>\n",
              "      <td>169.1</td>\n",
              "      <td>189.1</td>\n",
              "      <td>211.4</td>\n",
              "      <td>235.5</td>\n",
              "      <td>210.9</td>\n",
              "      <td>230.2</td>\n",
              "      <td>2 443</td>\n",
              "    </tr>\n",
              "    <tr>\n",
              "      <th>9</th>\n",
              "      <td>Fonte: Instituto Nacional de Meteorologia (INM...</td>\n",
              "      <td>Fonte: Instituto Nacional de Meteorologia (INM...</td>\n",
              "      <td>Fonte: Instituto Nacional de Meteorologia (INM...</td>\n",
              "      <td>Fonte: Instituto Nacional de Meteorologia (INM...</td>\n",
              "      <td>Fonte: Instituto Nacional de Meteorologia (INM...</td>\n",
              "      <td>Fonte: Instituto Nacional de Meteorologia (INM...</td>\n",
              "      <td>Fonte: Instituto Nacional de Meteorologia (INM...</td>\n",
              "      <td>Fonte: Instituto Nacional de Meteorologia (INM...</td>\n",
              "      <td>Fonte: Instituto Nacional de Meteorologia (INM...</td>\n",
              "      <td>Fonte: Instituto Nacional de Meteorologia (INM...</td>\n",
              "      <td>Fonte: Instituto Nacional de Meteorologia (INM...</td>\n",
              "      <td>Fonte: Instituto Nacional de Meteorologia (INM...</td>\n",
              "      <td>Fonte: Instituto Nacional de Meteorologia (INM...</td>\n",
              "      <td>Fonte: Instituto Nacional de Meteorologia (INM...</td>\n",
              "    </tr>\n",
              "  </tbody>\n",
              "</table>\n",
              "</div>"
            ],
            "text/plain": [
              "                                              Medida  ...                                                Ano\n",
              "0                    Temperatura máxima recorde (°C)  ...                                               35.6\n",
              "1                      Temperatura máxima média (°C)  ...                                                 29\n",
              "2                  Temperatura média compensada (°C)  ...                                               25.6\n",
              "3                      Temperatura mínima média (°C)  ...                                               22.9\n",
              "4                    Temperatura mínima recorde (°C)  ...                                               17.5\n",
              "5                                  Precipitação (mm)  ...                                            1 871,1\n",
              "6                     Dias com precipitação (≥ 1 mm)  ...                                                150\n",
              "7                    Umidade relativa compensada (%)  ...                                               81.1\n",
              "8                                       Horas de sol  ...                                              2 443\n",
              "9  Fonte: Instituto Nacional de Meteorologia (INM...  ...  Fonte: Instituto Nacional de Meteorologia (INM...\n",
              "\n",
              "[10 rows x 14 columns]"
            ]
          },
          "metadata": {
            "tags": []
          },
          "execution_count": 113
        }
      ]
    },
    {
      "cell_type": "code",
      "metadata": {
        "id": "gN2mW4eO7lCO",
        "colab_type": "code",
        "colab": {}
      },
      "source": [
        "salvador = salvador.drop(9, axis = 0)"
      ],
      "execution_count": 114,
      "outputs": []
    },
    {
      "cell_type": "code",
      "metadata": {
        "id": "6IIlyvhiAjyN",
        "colab_type": "code",
        "colab": {
          "base_uri": "https://localhost:8080/",
          "height": 331
        },
        "outputId": "07446313-8a38-4fd6-a877-d3dae3fe21af"
      },
      "source": [
        "salvador"
      ],
      "execution_count": 115,
      "outputs": [
        {
          "output_type": "execute_result",
          "data": {
            "text/html": [
              "<div>\n",
              "<style scoped>\n",
              "    .dataframe tbody tr th:only-of-type {\n",
              "        vertical-align: middle;\n",
              "    }\n",
              "\n",
              "    .dataframe tbody tr th {\n",
              "        vertical-align: top;\n",
              "    }\n",
              "\n",
              "    .dataframe thead th {\n",
              "        text-align: right;\n",
              "    }\n",
              "</style>\n",
              "<table border=\"1\" class=\"dataframe\">\n",
              "  <thead>\n",
              "    <tr style=\"text-align: right;\">\n",
              "      <th></th>\n",
              "      <th>Medida</th>\n",
              "      <th>Jan</th>\n",
              "      <th>Fev</th>\n",
              "      <th>Mar</th>\n",
              "      <th>Abr</th>\n",
              "      <th>Mai</th>\n",
              "      <th>Jun</th>\n",
              "      <th>Jul</th>\n",
              "      <th>Ago</th>\n",
              "      <th>Set</th>\n",
              "      <th>Out</th>\n",
              "      <th>Nov</th>\n",
              "      <th>Dez</th>\n",
              "      <th>Ano</th>\n",
              "    </tr>\n",
              "  </thead>\n",
              "  <tbody>\n",
              "    <tr>\n",
              "      <th>0</th>\n",
              "      <td>Temperatura máxima recorde (°C)</td>\n",
              "      <td>34.3</td>\n",
              "      <td>34.7</td>\n",
              "      <td>35.6</td>\n",
              "      <td>34.5</td>\n",
              "      <td>31.6</td>\n",
              "      <td>30.6</td>\n",
              "      <td>30.7</td>\n",
              "      <td>31.3</td>\n",
              "      <td>30.7</td>\n",
              "      <td>32.4</td>\n",
              "      <td>33.1</td>\n",
              "      <td>34.3</td>\n",
              "      <td>35.6</td>\n",
              "    </tr>\n",
              "    <tr>\n",
              "      <th>1</th>\n",
              "      <td>Temperatura máxima média (°C)</td>\n",
              "      <td>30.9</td>\n",
              "      <td>31</td>\n",
              "      <td>30.7</td>\n",
              "      <td>29.5</td>\n",
              "      <td>28.3</td>\n",
              "      <td>27.1</td>\n",
              "      <td>26.5</td>\n",
              "      <td>26.7</td>\n",
              "      <td>27.7</td>\n",
              "      <td>29</td>\n",
              "      <td>29.8</td>\n",
              "      <td>30.5</td>\n",
              "      <td>29</td>\n",
              "    </tr>\n",
              "    <tr>\n",
              "      <th>2</th>\n",
              "      <td>Temperatura média compensada (°C)</td>\n",
              "      <td>27</td>\n",
              "      <td>27.1</td>\n",
              "      <td>27.1</td>\n",
              "      <td>26.4</td>\n",
              "      <td>25.5</td>\n",
              "      <td>24.4</td>\n",
              "      <td>23.8</td>\n",
              "      <td>23.7</td>\n",
              "      <td>24.4</td>\n",
              "      <td>25.5</td>\n",
              "      <td>26.1</td>\n",
              "      <td>26.6</td>\n",
              "      <td>25.6</td>\n",
              "    </tr>\n",
              "    <tr>\n",
              "      <th>3</th>\n",
              "      <td>Temperatura mínima média (°C)</td>\n",
              "      <td>24</td>\n",
              "      <td>24.1</td>\n",
              "      <td>24.2</td>\n",
              "      <td>23.7</td>\n",
              "      <td>23</td>\n",
              "      <td>22.1</td>\n",
              "      <td>21.3</td>\n",
              "      <td>21.1</td>\n",
              "      <td>21.6</td>\n",
              "      <td>22.5</td>\n",
              "      <td>23.1</td>\n",
              "      <td>23.6</td>\n",
              "      <td>22.9</td>\n",
              "    </tr>\n",
              "    <tr>\n",
              "      <th>4</th>\n",
              "      <td>Temperatura mínima recorde (°C)</td>\n",
              "      <td>19.8</td>\n",
              "      <td>19.5</td>\n",
              "      <td>20.8</td>\n",
              "      <td>19.4</td>\n",
              "      <td>18</td>\n",
              "      <td>18.2</td>\n",
              "      <td>17.5</td>\n",
              "      <td>17.7</td>\n",
              "      <td>17.6</td>\n",
              "      <td>18.3</td>\n",
              "      <td>18.9</td>\n",
              "      <td>19.8</td>\n",
              "      <td>17.5</td>\n",
              "    </tr>\n",
              "    <tr>\n",
              "      <th>5</th>\n",
              "      <td>Precipitação (mm)</td>\n",
              "      <td>82.5</td>\n",
              "      <td>107.2</td>\n",
              "      <td>156.8</td>\n",
              "      <td>295.7</td>\n",
              "      <td>279.8</td>\n",
              "      <td>245.6</td>\n",
              "      <td>208.6</td>\n",
              "      <td>133.5</td>\n",
              "      <td>101.6</td>\n",
              "      <td>95.2</td>\n",
              "      <td>106.5</td>\n",
              "      <td>58.1</td>\n",
              "      <td>1 871,1</td>\n",
              "    </tr>\n",
              "    <tr>\n",
              "      <th>6</th>\n",
              "      <td>Dias com precipitação (≥ 1 mm)</td>\n",
              "      <td>8</td>\n",
              "      <td>10</td>\n",
              "      <td>12</td>\n",
              "      <td>17</td>\n",
              "      <td>17</td>\n",
              "      <td>19</td>\n",
              "      <td>18</td>\n",
              "      <td>16</td>\n",
              "      <td>11</td>\n",
              "      <td>8</td>\n",
              "      <td>8</td>\n",
              "      <td>6</td>\n",
              "      <td>150</td>\n",
              "    </tr>\n",
              "    <tr>\n",
              "      <th>7</th>\n",
              "      <td>Umidade relativa compensada (%)</td>\n",
              "      <td>78.5</td>\n",
              "      <td>79.4</td>\n",
              "      <td>80.7</td>\n",
              "      <td>82.7</td>\n",
              "      <td>83.8</td>\n",
              "      <td>83.9</td>\n",
              "      <td>82.7</td>\n",
              "      <td>81.2</td>\n",
              "      <td>80.2</td>\n",
              "      <td>79.9</td>\n",
              "      <td>80.5</td>\n",
              "      <td>79.7</td>\n",
              "      <td>81.1</td>\n",
              "    </tr>\n",
              "    <tr>\n",
              "      <th>8</th>\n",
              "      <td>Horas de sol</td>\n",
              "      <td>246.9</td>\n",
              "      <td>215</td>\n",
              "      <td>227.2</td>\n",
              "      <td>194.1</td>\n",
              "      <td>165.8</td>\n",
              "      <td>147.8</td>\n",
              "      <td>169.1</td>\n",
              "      <td>189.1</td>\n",
              "      <td>211.4</td>\n",
              "      <td>235.5</td>\n",
              "      <td>210.9</td>\n",
              "      <td>230.2</td>\n",
              "      <td>2 443</td>\n",
              "    </tr>\n",
              "  </tbody>\n",
              "</table>\n",
              "</div>"
            ],
            "text/plain": [
              "                              Medida    Jan    Fev  ...    Nov    Dez      Ano\n",
              "0    Temperatura máxima recorde (°C)   34.3   34.7  ...   33.1   34.3     35.6\n",
              "1      Temperatura máxima média (°C)   30.9     31  ...   29.8   30.5       29\n",
              "2  Temperatura média compensada (°C)     27   27.1  ...   26.1   26.6     25.6\n",
              "3      Temperatura mínima média (°C)     24   24.1  ...   23.1   23.6     22.9\n",
              "4    Temperatura mínima recorde (°C)   19.8   19.5  ...   18.9   19.8     17.5\n",
              "5                  Precipitação (mm)   82.5  107.2  ...  106.5   58.1  1 871,1\n",
              "6     Dias com precipitação (≥ 1 mm)      8     10  ...      8      6      150\n",
              "7    Umidade relativa compensada (%)   78.5   79.4  ...   80.5   79.7     81.1\n",
              "8                       Horas de sol  246.9    215  ...  210.9  230.2    2 443\n",
              "\n",
              "[9 rows x 14 columns]"
            ]
          },
          "metadata": {
            "tags": []
          },
          "execution_count": 115
        }
      ]
    },
    {
      "cell_type": "code",
      "metadata": {
        "id": "4LzbkhXM7S2k",
        "colab_type": "code",
        "colab": {}
      },
      "source": [
        "salvador.index = salvador['Medida']"
      ],
      "execution_count": 118,
      "outputs": []
    },
    {
      "cell_type": "code",
      "metadata": {
        "id": "G2a_Iml7AMkT",
        "colab_type": "code",
        "colab": {
          "base_uri": "https://localhost:8080/",
          "height": 484
        },
        "outputId": "e2ed69ce-df72-4184-9769-390a5c665530"
      },
      "source": [
        "salvador"
      ],
      "execution_count": 119,
      "outputs": [
        {
          "output_type": "execute_result",
          "data": {
            "text/html": [
              "<div>\n",
              "<style scoped>\n",
              "    .dataframe tbody tr th:only-of-type {\n",
              "        vertical-align: middle;\n",
              "    }\n",
              "\n",
              "    .dataframe tbody tr th {\n",
              "        vertical-align: top;\n",
              "    }\n",
              "\n",
              "    .dataframe thead th {\n",
              "        text-align: right;\n",
              "    }\n",
              "</style>\n",
              "<table border=\"1\" class=\"dataframe\">\n",
              "  <thead>\n",
              "    <tr style=\"text-align: right;\">\n",
              "      <th></th>\n",
              "      <th>Medida</th>\n",
              "      <th>Jan</th>\n",
              "      <th>Fev</th>\n",
              "      <th>Mar</th>\n",
              "      <th>Abr</th>\n",
              "      <th>Mai</th>\n",
              "      <th>Jun</th>\n",
              "      <th>Jul</th>\n",
              "      <th>Ago</th>\n",
              "      <th>Set</th>\n",
              "      <th>Out</th>\n",
              "      <th>Nov</th>\n",
              "      <th>Dez</th>\n",
              "      <th>Ano</th>\n",
              "    </tr>\n",
              "    <tr>\n",
              "      <th>Medida</th>\n",
              "      <th></th>\n",
              "      <th></th>\n",
              "      <th></th>\n",
              "      <th></th>\n",
              "      <th></th>\n",
              "      <th></th>\n",
              "      <th></th>\n",
              "      <th></th>\n",
              "      <th></th>\n",
              "      <th></th>\n",
              "      <th></th>\n",
              "      <th></th>\n",
              "      <th></th>\n",
              "      <th></th>\n",
              "    </tr>\n",
              "  </thead>\n",
              "  <tbody>\n",
              "    <tr>\n",
              "      <th>Temperatura máxima recorde (°C)</th>\n",
              "      <td>Temperatura máxima recorde (°C)</td>\n",
              "      <td>34.3</td>\n",
              "      <td>34.7</td>\n",
              "      <td>35.6</td>\n",
              "      <td>34.5</td>\n",
              "      <td>31.6</td>\n",
              "      <td>30.6</td>\n",
              "      <td>30.7</td>\n",
              "      <td>31.3</td>\n",
              "      <td>30.7</td>\n",
              "      <td>32.4</td>\n",
              "      <td>33.1</td>\n",
              "      <td>34.3</td>\n",
              "      <td>35.6</td>\n",
              "    </tr>\n",
              "    <tr>\n",
              "      <th>Temperatura máxima média (°C)</th>\n",
              "      <td>Temperatura máxima média (°C)</td>\n",
              "      <td>30.9</td>\n",
              "      <td>31</td>\n",
              "      <td>30.7</td>\n",
              "      <td>29.5</td>\n",
              "      <td>28.3</td>\n",
              "      <td>27.1</td>\n",
              "      <td>26.5</td>\n",
              "      <td>26.7</td>\n",
              "      <td>27.7</td>\n",
              "      <td>29</td>\n",
              "      <td>29.8</td>\n",
              "      <td>30.5</td>\n",
              "      <td>29</td>\n",
              "    </tr>\n",
              "    <tr>\n",
              "      <th>Temperatura média compensada (°C)</th>\n",
              "      <td>Temperatura média compensada (°C)</td>\n",
              "      <td>27</td>\n",
              "      <td>27.1</td>\n",
              "      <td>27.1</td>\n",
              "      <td>26.4</td>\n",
              "      <td>25.5</td>\n",
              "      <td>24.4</td>\n",
              "      <td>23.8</td>\n",
              "      <td>23.7</td>\n",
              "      <td>24.4</td>\n",
              "      <td>25.5</td>\n",
              "      <td>26.1</td>\n",
              "      <td>26.6</td>\n",
              "      <td>25.6</td>\n",
              "    </tr>\n",
              "    <tr>\n",
              "      <th>Temperatura mínima média (°C)</th>\n",
              "      <td>Temperatura mínima média (°C)</td>\n",
              "      <td>24</td>\n",
              "      <td>24.1</td>\n",
              "      <td>24.2</td>\n",
              "      <td>23.7</td>\n",
              "      <td>23</td>\n",
              "      <td>22.1</td>\n",
              "      <td>21.3</td>\n",
              "      <td>21.1</td>\n",
              "      <td>21.6</td>\n",
              "      <td>22.5</td>\n",
              "      <td>23.1</td>\n",
              "      <td>23.6</td>\n",
              "      <td>22.9</td>\n",
              "    </tr>\n",
              "    <tr>\n",
              "      <th>Temperatura mínima recorde (°C)</th>\n",
              "      <td>Temperatura mínima recorde (°C)</td>\n",
              "      <td>19.8</td>\n",
              "      <td>19.5</td>\n",
              "      <td>20.8</td>\n",
              "      <td>19.4</td>\n",
              "      <td>18</td>\n",
              "      <td>18.2</td>\n",
              "      <td>17.5</td>\n",
              "      <td>17.7</td>\n",
              "      <td>17.6</td>\n",
              "      <td>18.3</td>\n",
              "      <td>18.9</td>\n",
              "      <td>19.8</td>\n",
              "      <td>17.5</td>\n",
              "    </tr>\n",
              "    <tr>\n",
              "      <th>Precipitação (mm)</th>\n",
              "      <td>Precipitação (mm)</td>\n",
              "      <td>82.5</td>\n",
              "      <td>107.2</td>\n",
              "      <td>156.8</td>\n",
              "      <td>295.7</td>\n",
              "      <td>279.8</td>\n",
              "      <td>245.6</td>\n",
              "      <td>208.6</td>\n",
              "      <td>133.5</td>\n",
              "      <td>101.6</td>\n",
              "      <td>95.2</td>\n",
              "      <td>106.5</td>\n",
              "      <td>58.1</td>\n",
              "      <td>1 871,1</td>\n",
              "    </tr>\n",
              "    <tr>\n",
              "      <th>Dias com precipitação (≥ 1 mm)</th>\n",
              "      <td>Dias com precipitação (≥ 1 mm)</td>\n",
              "      <td>8</td>\n",
              "      <td>10</td>\n",
              "      <td>12</td>\n",
              "      <td>17</td>\n",
              "      <td>17</td>\n",
              "      <td>19</td>\n",
              "      <td>18</td>\n",
              "      <td>16</td>\n",
              "      <td>11</td>\n",
              "      <td>8</td>\n",
              "      <td>8</td>\n",
              "      <td>6</td>\n",
              "      <td>150</td>\n",
              "    </tr>\n",
              "    <tr>\n",
              "      <th>Umidade relativa compensada (%)</th>\n",
              "      <td>Umidade relativa compensada (%)</td>\n",
              "      <td>78.5</td>\n",
              "      <td>79.4</td>\n",
              "      <td>80.7</td>\n",
              "      <td>82.7</td>\n",
              "      <td>83.8</td>\n",
              "      <td>83.9</td>\n",
              "      <td>82.7</td>\n",
              "      <td>81.2</td>\n",
              "      <td>80.2</td>\n",
              "      <td>79.9</td>\n",
              "      <td>80.5</td>\n",
              "      <td>79.7</td>\n",
              "      <td>81.1</td>\n",
              "    </tr>\n",
              "    <tr>\n",
              "      <th>Horas de sol</th>\n",
              "      <td>Horas de sol</td>\n",
              "      <td>246.9</td>\n",
              "      <td>215</td>\n",
              "      <td>227.2</td>\n",
              "      <td>194.1</td>\n",
              "      <td>165.8</td>\n",
              "      <td>147.8</td>\n",
              "      <td>169.1</td>\n",
              "      <td>189.1</td>\n",
              "      <td>211.4</td>\n",
              "      <td>235.5</td>\n",
              "      <td>210.9</td>\n",
              "      <td>230.2</td>\n",
              "      <td>2 443</td>\n",
              "    </tr>\n",
              "  </tbody>\n",
              "</table>\n",
              "</div>"
            ],
            "text/plain": [
              "                                                              Medida  ...      Ano\n",
              "Medida                                                                ...         \n",
              "Temperatura máxima recorde (°C)      Temperatura máxima recorde (°C)  ...     35.6\n",
              "Temperatura máxima média (°C)          Temperatura máxima média (°C)  ...       29\n",
              "Temperatura média compensada (°C)  Temperatura média compensada (°C)  ...     25.6\n",
              "Temperatura mínima média (°C)          Temperatura mínima média (°C)  ...     22.9\n",
              "Temperatura mínima recorde (°C)      Temperatura mínima recorde (°C)  ...     17.5\n",
              "Precipitação (mm)                                  Precipitação (mm)  ...  1 871,1\n",
              "Dias com precipitação (≥ 1 mm)        Dias com precipitação (≥ 1 mm)  ...      150\n",
              "Umidade relativa compensada (%)      Umidade relativa compensada (%)  ...     81.1\n",
              "Horas de sol                                            Horas de sol  ...    2 443\n",
              "\n",
              "[9 rows x 14 columns]"
            ]
          },
          "metadata": {
            "tags": []
          },
          "execution_count": 119
        }
      ]
    },
    {
      "cell_type": "code",
      "metadata": {
        "id": "4aVPuFcZBn7E",
        "colab_type": "code",
        "colab": {}
      },
      "source": [
        "salvador.drop('Medida', axis = 1, inplace = True)"
      ],
      "execution_count": 120,
      "outputs": []
    },
    {
      "cell_type": "code",
      "metadata": {
        "id": "Oxb0gKNQB_XE",
        "colab_type": "code",
        "colab": {
          "base_uri": "https://localhost:8080/",
          "height": 363
        },
        "outputId": "2c715c75-c514-4936-8605-d439b6dc2980"
      },
      "source": [
        "salvador"
      ],
      "execution_count": 121,
      "outputs": [
        {
          "output_type": "execute_result",
          "data": {
            "text/html": [
              "<div>\n",
              "<style scoped>\n",
              "    .dataframe tbody tr th:only-of-type {\n",
              "        vertical-align: middle;\n",
              "    }\n",
              "\n",
              "    .dataframe tbody tr th {\n",
              "        vertical-align: top;\n",
              "    }\n",
              "\n",
              "    .dataframe thead th {\n",
              "        text-align: right;\n",
              "    }\n",
              "</style>\n",
              "<table border=\"1\" class=\"dataframe\">\n",
              "  <thead>\n",
              "    <tr style=\"text-align: right;\">\n",
              "      <th></th>\n",
              "      <th>Jan</th>\n",
              "      <th>Fev</th>\n",
              "      <th>Mar</th>\n",
              "      <th>Abr</th>\n",
              "      <th>Mai</th>\n",
              "      <th>Jun</th>\n",
              "      <th>Jul</th>\n",
              "      <th>Ago</th>\n",
              "      <th>Set</th>\n",
              "      <th>Out</th>\n",
              "      <th>Nov</th>\n",
              "      <th>Dez</th>\n",
              "      <th>Ano</th>\n",
              "    </tr>\n",
              "    <tr>\n",
              "      <th>Medida</th>\n",
              "      <th></th>\n",
              "      <th></th>\n",
              "      <th></th>\n",
              "      <th></th>\n",
              "      <th></th>\n",
              "      <th></th>\n",
              "      <th></th>\n",
              "      <th></th>\n",
              "      <th></th>\n",
              "      <th></th>\n",
              "      <th></th>\n",
              "      <th></th>\n",
              "      <th></th>\n",
              "    </tr>\n",
              "  </thead>\n",
              "  <tbody>\n",
              "    <tr>\n",
              "      <th>Temperatura máxima recorde (°C)</th>\n",
              "      <td>34.3</td>\n",
              "      <td>34.7</td>\n",
              "      <td>35.6</td>\n",
              "      <td>34.5</td>\n",
              "      <td>31.6</td>\n",
              "      <td>30.6</td>\n",
              "      <td>30.7</td>\n",
              "      <td>31.3</td>\n",
              "      <td>30.7</td>\n",
              "      <td>32.4</td>\n",
              "      <td>33.1</td>\n",
              "      <td>34.3</td>\n",
              "      <td>35.6</td>\n",
              "    </tr>\n",
              "    <tr>\n",
              "      <th>Temperatura máxima média (°C)</th>\n",
              "      <td>30.9</td>\n",
              "      <td>31</td>\n",
              "      <td>30.7</td>\n",
              "      <td>29.5</td>\n",
              "      <td>28.3</td>\n",
              "      <td>27.1</td>\n",
              "      <td>26.5</td>\n",
              "      <td>26.7</td>\n",
              "      <td>27.7</td>\n",
              "      <td>29</td>\n",
              "      <td>29.8</td>\n",
              "      <td>30.5</td>\n",
              "      <td>29</td>\n",
              "    </tr>\n",
              "    <tr>\n",
              "      <th>Temperatura média compensada (°C)</th>\n",
              "      <td>27</td>\n",
              "      <td>27.1</td>\n",
              "      <td>27.1</td>\n",
              "      <td>26.4</td>\n",
              "      <td>25.5</td>\n",
              "      <td>24.4</td>\n",
              "      <td>23.8</td>\n",
              "      <td>23.7</td>\n",
              "      <td>24.4</td>\n",
              "      <td>25.5</td>\n",
              "      <td>26.1</td>\n",
              "      <td>26.6</td>\n",
              "      <td>25.6</td>\n",
              "    </tr>\n",
              "    <tr>\n",
              "      <th>Temperatura mínima média (°C)</th>\n",
              "      <td>24</td>\n",
              "      <td>24.1</td>\n",
              "      <td>24.2</td>\n",
              "      <td>23.7</td>\n",
              "      <td>23</td>\n",
              "      <td>22.1</td>\n",
              "      <td>21.3</td>\n",
              "      <td>21.1</td>\n",
              "      <td>21.6</td>\n",
              "      <td>22.5</td>\n",
              "      <td>23.1</td>\n",
              "      <td>23.6</td>\n",
              "      <td>22.9</td>\n",
              "    </tr>\n",
              "    <tr>\n",
              "      <th>Temperatura mínima recorde (°C)</th>\n",
              "      <td>19.8</td>\n",
              "      <td>19.5</td>\n",
              "      <td>20.8</td>\n",
              "      <td>19.4</td>\n",
              "      <td>18</td>\n",
              "      <td>18.2</td>\n",
              "      <td>17.5</td>\n",
              "      <td>17.7</td>\n",
              "      <td>17.6</td>\n",
              "      <td>18.3</td>\n",
              "      <td>18.9</td>\n",
              "      <td>19.8</td>\n",
              "      <td>17.5</td>\n",
              "    </tr>\n",
              "    <tr>\n",
              "      <th>Precipitação (mm)</th>\n",
              "      <td>82.5</td>\n",
              "      <td>107.2</td>\n",
              "      <td>156.8</td>\n",
              "      <td>295.7</td>\n",
              "      <td>279.8</td>\n",
              "      <td>245.6</td>\n",
              "      <td>208.6</td>\n",
              "      <td>133.5</td>\n",
              "      <td>101.6</td>\n",
              "      <td>95.2</td>\n",
              "      <td>106.5</td>\n",
              "      <td>58.1</td>\n",
              "      <td>1 871,1</td>\n",
              "    </tr>\n",
              "    <tr>\n",
              "      <th>Dias com precipitação (≥ 1 mm)</th>\n",
              "      <td>8</td>\n",
              "      <td>10</td>\n",
              "      <td>12</td>\n",
              "      <td>17</td>\n",
              "      <td>17</td>\n",
              "      <td>19</td>\n",
              "      <td>18</td>\n",
              "      <td>16</td>\n",
              "      <td>11</td>\n",
              "      <td>8</td>\n",
              "      <td>8</td>\n",
              "      <td>6</td>\n",
              "      <td>150</td>\n",
              "    </tr>\n",
              "    <tr>\n",
              "      <th>Umidade relativa compensada (%)</th>\n",
              "      <td>78.5</td>\n",
              "      <td>79.4</td>\n",
              "      <td>80.7</td>\n",
              "      <td>82.7</td>\n",
              "      <td>83.8</td>\n",
              "      <td>83.9</td>\n",
              "      <td>82.7</td>\n",
              "      <td>81.2</td>\n",
              "      <td>80.2</td>\n",
              "      <td>79.9</td>\n",
              "      <td>80.5</td>\n",
              "      <td>79.7</td>\n",
              "      <td>81.1</td>\n",
              "    </tr>\n",
              "    <tr>\n",
              "      <th>Horas de sol</th>\n",
              "      <td>246.9</td>\n",
              "      <td>215</td>\n",
              "      <td>227.2</td>\n",
              "      <td>194.1</td>\n",
              "      <td>165.8</td>\n",
              "      <td>147.8</td>\n",
              "      <td>169.1</td>\n",
              "      <td>189.1</td>\n",
              "      <td>211.4</td>\n",
              "      <td>235.5</td>\n",
              "      <td>210.9</td>\n",
              "      <td>230.2</td>\n",
              "      <td>2 443</td>\n",
              "    </tr>\n",
              "  </tbody>\n",
              "</table>\n",
              "</div>"
            ],
            "text/plain": [
              "                                     Jan    Fev    Mar  ...    Nov    Dez      Ano\n",
              "Medida                                                  ...                       \n",
              "Temperatura máxima recorde (°C)     34.3   34.7   35.6  ...   33.1   34.3     35.6\n",
              "Temperatura máxima média (°C)       30.9     31   30.7  ...   29.8   30.5       29\n",
              "Temperatura média compensada (°C)     27   27.1   27.1  ...   26.1   26.6     25.6\n",
              "Temperatura mínima média (°C)         24   24.1   24.2  ...   23.1   23.6     22.9\n",
              "Temperatura mínima recorde (°C)     19.8   19.5   20.8  ...   18.9   19.8     17.5\n",
              "Precipitação (mm)                   82.5  107.2  156.8  ...  106.5   58.1  1 871,1\n",
              "Dias com precipitação (≥ 1 mm)         8     10     12  ...      8      6      150\n",
              "Umidade relativa compensada (%)     78.5   79.4   80.7  ...   80.5   79.7     81.1\n",
              "Horas de sol                       246.9    215  227.2  ...  210.9  230.2    2 443\n",
              "\n",
              "[9 rows x 13 columns]"
            ]
          },
          "metadata": {
            "tags": []
          },
          "execution_count": 121
        }
      ]
    },
    {
      "cell_type": "code",
      "metadata": {
        "id": "_62cIz_e6OyR",
        "colab_type": "code",
        "colab": {
          "base_uri": "https://localhost:8080/",
          "height": 387
        },
        "outputId": "64339ff7-42f4-4745-af05-01bcaca74f6e"
      },
      "source": [
        "salvador.info() #Dtype igual 'object' representa as variáveis do tipo string. Nesse caso, todas estão como string"
      ],
      "execution_count": 122,
      "outputs": [
        {
          "output_type": "stream",
          "text": [
            "<class 'pandas.core.frame.DataFrame'>\n",
            "Index: 9 entries, Temperatura máxima recorde (°C) to Horas de sol\n",
            "Data columns (total 13 columns):\n",
            " #   Column  Non-Null Count  Dtype \n",
            "---  ------  --------------  ----- \n",
            " 0   Jan     9 non-null      object\n",
            " 1   Fev     9 non-null      object\n",
            " 2   Mar     9 non-null      object\n",
            " 3   Abr     9 non-null      object\n",
            " 4   Mai     9 non-null      object\n",
            " 5   Jun     9 non-null      object\n",
            " 6   Jul     9 non-null      object\n",
            " 7   Ago     9 non-null      object\n",
            " 8   Set     9 non-null      object\n",
            " 9   Out     9 non-null      object\n",
            " 10  Nov     9 non-null      object\n",
            " 11  Dez     9 non-null      object\n",
            " 12  Ano     9 non-null      object\n",
            "dtypes: object(13)\n",
            "memory usage: 1008.0+ bytes\n"
          ],
          "name": "stdout"
        }
      ]
    },
    {
      "cell_type": "code",
      "metadata": {
        "id": "Z96ViYBIdO5B",
        "colab_type": "code",
        "colab": {
          "base_uri": "https://localhost:8080/",
          "height": 387
        },
        "outputId": "c59ee804-9b05-498b-e675-8232c027963e"
      },
      "source": [
        "salvador.info()"
      ],
      "execution_count": 123,
      "outputs": [
        {
          "output_type": "stream",
          "text": [
            "<class 'pandas.core.frame.DataFrame'>\n",
            "Index: 9 entries, Temperatura máxima recorde (°C) to Horas de sol\n",
            "Data columns (total 13 columns):\n",
            " #   Column  Non-Null Count  Dtype \n",
            "---  ------  --------------  ----- \n",
            " 0   Jan     9 non-null      object\n",
            " 1   Fev     9 non-null      object\n",
            " 2   Mar     9 non-null      object\n",
            " 3   Abr     9 non-null      object\n",
            " 4   Mai     9 non-null      object\n",
            " 5   Jun     9 non-null      object\n",
            " 6   Jul     9 non-null      object\n",
            " 7   Ago     9 non-null      object\n",
            " 8   Set     9 non-null      object\n",
            " 9   Out     9 non-null      object\n",
            " 10  Nov     9 non-null      object\n",
            " 11  Dez     9 non-null      object\n",
            " 12  Ano     9 non-null      object\n",
            "dtypes: object(13)\n",
            "memory usage: 1008.0+ bytes\n"
          ],
          "name": "stdout"
        }
      ]
    },
    {
      "cell_type": "code",
      "metadata": {
        "id": "Og6Hc56iJTPh",
        "colab_type": "code",
        "colab": {}
      },
      "source": [
        "from google.colab.data_table import DataTable"
      ],
      "execution_count": 128,
      "outputs": []
    },
    {
      "cell_type": "code",
      "metadata": {
        "id": "adLUktgpJaAs",
        "colab_type": "code",
        "colab": {
          "base_uri": "https://localhost:8080/",
          "height": 364
        },
        "outputId": "431c5020-621b-4f1d-ce6f-d290b3495c5b"
      },
      "source": [
        "DataTable(provas)"
      ],
      "execution_count": 129,
      "outputs": [
        {
          "output_type": "execute_result",
          "data": {
            "application/vnd.google.colaboratory.module+javascript": "\n      import \"https://ssl.gstatic.com/colaboratory/data_table/a6224c040fa35dcf/data_table.js\";\n\n      window.createDataTable({\n        data: [[\"Alice\",\n{\n            'v': 8.9,\n            'f': \"8.9\",\n        },\n{\n            'v': 8.3,\n            'f': \"8.3\",\n        },\n{\n            'v': 8.3,\n            'f': \"8.3\",\n        },\n{\n            'v': 6.2,\n            'f': \"6.2\",\n        },\n{\n            'v': 7.9,\n            'f': \"7.9\",\n        },\n\"Aprovado\"],\n [\"Bruno\",\n{\n            'v': 5.6,\n            'f': \"5.6\",\n        },\n{\n            'v': 4.1,\n            'f': \"4.1\",\n        },\n{\n            'v': 3.6,\n            'f': \"3.6\",\n        },\n{\n            'v': 6.2,\n            'f': \"6.2\",\n        },\n{\n            'v': 4.9,\n            'f': \"4.9\",\n        },\n\"Reprovado\"],\n [\"Carol\",\n{\n            'v': 5.2,\n            'f': \"5.2\",\n        },\n{\n            'v': 5.5,\n            'f': \"5.5\",\n        },\n{\n            'v': 3.5,\n            'f': \"3.5\",\n        },\n{\n            'v': 5.2,\n            'f': \"5.2\",\n        },\n{\n            'v': 4.8,\n            'f': \"4.8\",\n        },\n\"Reprovado\"],\n [\"David\",\n{\n            'v': 8.5,\n            'f': \"8.5\",\n        },\n{\n            'v': 9.2,\n            'f': \"9.2\",\n        },\n{\n            'v': 2.0,\n            'f': \"2.0\",\n        },\n{\n            'v': 4.2,\n            'f': \"4.2\",\n        },\n{\n            'v': 6.0,\n            'f': \"6.0\",\n        },\n\"Aprovado\"],\n [\"Emily\",\n{\n            'v': 9.1,\n            'f': \"9.1\",\n        },\n{\n            'v': 9.7,\n            'f': \"9.7\",\n        },\n{\n            'v': 9.3,\n            'f': \"9.3\",\n        },\n{\n            'v': 8.3,\n            'f': \"8.3\",\n        },\n{\n            'v': 9.1,\n            'f': \"9.1\",\n        },\n\"Aprovado\"]],\n        columns: [[\"string\", \"\"], [\"number\", \"P1\"], [\"number\", \"P2\"], [\"number\", \"P3\"], [\"number\", \"P4\"], [\"number\", \"MF\"], [\"string\", \"Situa\\u00e7\\u00e3o\"]],\n        columnOptions: [{\"width\": \"1px\", \"className\": \"index_column\"}],\n        rowsPerPage: 25,\n        helpUrl: \"https://colab.research.google.com/notebooks/data_table.ipynb\",\n        suppressOutputScrolling: true,\n        minimumWidth: undefined,\n      });\n    ",
            "text/plain": [
              "<google.colab.data_table.DataTable object>"
            ],
            "text/html": [
              "<div>\n",
              "<style scoped>\n",
              "    .dataframe tbody tr th:only-of-type {\n",
              "        vertical-align: middle;\n",
              "    }\n",
              "\n",
              "    .dataframe tbody tr th {\n",
              "        vertical-align: top;\n",
              "    }\n",
              "\n",
              "    .dataframe thead th {\n",
              "        text-align: right;\n",
              "    }\n",
              "</style>\n",
              "<table border=\"1\" class=\"dataframe\">\n",
              "  <thead>\n",
              "    <tr style=\"text-align: right;\">\n",
              "      <th></th>\n",
              "      <th>P1</th>\n",
              "      <th>P2</th>\n",
              "      <th>P3</th>\n",
              "      <th>P4</th>\n",
              "      <th>MF</th>\n",
              "      <th>Situação</th>\n",
              "    </tr>\n",
              "    <tr>\n",
              "      <th></th>\n",
              "      <th></th>\n",
              "      <th></th>\n",
              "      <th></th>\n",
              "      <th></th>\n",
              "      <th></th>\n",
              "      <th></th>\n",
              "    </tr>\n",
              "  </thead>\n",
              "  <tbody>\n",
              "    <tr>\n",
              "      <th>Alice</th>\n",
              "      <td>8.9</td>\n",
              "      <td>8.3</td>\n",
              "      <td>8.3</td>\n",
              "      <td>6.2</td>\n",
              "      <td>7.9</td>\n",
              "      <td>Aprovado</td>\n",
              "    </tr>\n",
              "    <tr>\n",
              "      <th>Bruno</th>\n",
              "      <td>5.6</td>\n",
              "      <td>4.1</td>\n",
              "      <td>3.6</td>\n",
              "      <td>6.2</td>\n",
              "      <td>4.9</td>\n",
              "      <td>Reprovado</td>\n",
              "    </tr>\n",
              "    <tr>\n",
              "      <th>Carol</th>\n",
              "      <td>5.2</td>\n",
              "      <td>5.5</td>\n",
              "      <td>3.5</td>\n",
              "      <td>5.2</td>\n",
              "      <td>4.8</td>\n",
              "      <td>Reprovado</td>\n",
              "    </tr>\n",
              "    <tr>\n",
              "      <th>David</th>\n",
              "      <td>8.5</td>\n",
              "      <td>9.2</td>\n",
              "      <td>2.0</td>\n",
              "      <td>4.2</td>\n",
              "      <td>6.0</td>\n",
              "      <td>Aprovado</td>\n",
              "    </tr>\n",
              "    <tr>\n",
              "      <th>Emily</th>\n",
              "      <td>9.1</td>\n",
              "      <td>9.7</td>\n",
              "      <td>9.3</td>\n",
              "      <td>8.3</td>\n",
              "      <td>9.1</td>\n",
              "      <td>Aprovado</td>\n",
              "    </tr>\n",
              "  </tbody>\n",
              "</table>\n",
              "</div>"
            ]
          },
          "metadata": {
            "tags": []
          },
          "execution_count": 129
        }
      ]
    },
    {
      "cell_type": "markdown",
      "metadata": {
        "colab_type": "text",
        "id": "ReBMB8vb6k_W"
      },
      "source": [
        "## **EXERCÍCIO**: Análise dos dados de Redes Sociais\n",
        "\n",
        "No meu gitub, repositório Dados-Redes-Sociais ([link](https://github.com/ricardorocha86/Dados-Redes-Sociais)) possui um conjunto de dados em CSV. Ele é referente a diversas pessoas que foram expostas a um anúncio em redes sociais. \n",
        "As variáeis são: \n",
        "- User ID (identificação do usuário)\n",
        "- Gender (Gênero do usuário)\n",
        "- Age (Idade do usuário)\n",
        "- EstimatedSalary (Salário Estimado do usuário por ano)\n",
        "- Purchased (Indicação se o usuário fez a compra (1: Sim, 0: Não)\n"
      ]
    },
    {
      "cell_type": "markdown",
      "metadata": {
        "id": "-vkCVJvjSROA",
        "colab_type": "text"
      },
      "source": [
        "**Utilizando o conjunto de dados, faça as seguintes tarefas:**\n",
        "1. Remova as variáveis sem importância\n",
        "2. Verifique a distribuição dos gêneros nos dados (faça um gráfico)\n",
        "3. Crie uma variável que represente o salário mensal do usuário\n",
        "4. Crie uma nova variável com o valor 'Sim' se a pessoa comprou ou 'Não se não comprou. \n",
        "5. Verifique a distribuição entre quem comprou e quem não comprou.\n",
        "6. Faça um boxplot das variáveis pertinentes\n",
        "7. Crie uma nova variável chamada 'Classe' com os valores 'A', 'B', 'C' e 'D', utilizando os quartis dos salários estimados e verifique a contagem em cada categoria. \n",
        "8. Crie uma variável que discretize a variável Idade e verifique a contagem em cada categoria.\n",
        "9. Faça gráficos adequados para a idade categorizada e a variável classe\n"
      ]
    },
    {
      "cell_type": "markdown",
      "metadata": {
        "id": "ihkdYJz4UFiT",
        "colab_type": "text"
      },
      "source": [
        "## Links Úteis\n",
        "- [Documentação da biblioteca Pandas](https://pandas.pydata.org/docs/)"
      ]
    }
  ]
}