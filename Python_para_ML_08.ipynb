{
  "nbformat": 4,
  "nbformat_minor": 0,
  "metadata": {
    "colab": {
      "name": "Python para ML - 08.ipynb",
      "provenance": [],
      "collapsed_sections": [],
      "authorship_tag": "ABX9TyMKWg1GWlXG+3t6huT76BEr",
      "include_colab_link": true
    },
    "kernelspec": {
      "name": "python3",
      "display_name": "Python 3"
    }
  },
  "cells": [
    {
      "cell_type": "markdown",
      "metadata": {
        "id": "view-in-github",
        "colab_type": "text"
      },
      "source": [
        "<a href=\"https://colab.research.google.com/github/ricardorocha86/Python-para-Machine-Learning/blob/master/Python_para_ML_08.ipynb\" target=\"_parent\"><img src=\"https://colab.research.google.com/assets/colab-badge.svg\" alt=\"Open In Colab\"/></a>"
      ]
    },
    {
      "cell_type": "markdown",
      "metadata": {
        "id": "QvWwixKvVqYe",
        "colab_type": "text"
      },
      "source": [
        "![texto alternativo](https://raw.githubusercontent.com/ricardorocha86/Python-para-Machine-Learning/master/Imagens/capa%20-%20python%20para%20ml%2008.jpg)\n"
      ]
    },
    {
      "cell_type": "markdown",
      "metadata": {
        "colab_type": "text",
        "id": "-b5mjxUoSzou"
      },
      "source": [
        "# **Python para Machine Learning** - Parte 8"
      ]
    },
    {
      "cell_type": "markdown",
      "metadata": {
        "id": "e5ci8BYxxrLn",
        "colab_type": "text"
      },
      "source": [
        "Nesse notebook vamos ver:\n",
        "- O Passo-a-passo com o Scikit-Learn\n",
        "- Usando o Modelo KNN\n",
        "- Modelos de Regressão\n",
        "- Exercício\n",
        "- Links Úteis"
      ]
    },
    {
      "cell_type": "markdown",
      "metadata": {
        "id": "wuN1mXjMTLuZ",
        "colab_type": "text"
      },
      "source": [
        "# **O Passo-a-passo com o Scikit-Learn**"
      ]
    },
    {
      "cell_type": "markdown",
      "metadata": {
        "id": "a-X6mOIx5tRe",
        "colab_type": "text"
      },
      "source": [
        "## Carregando o Conjunto de Dados"
      ]
    },
    {
      "cell_type": "code",
      "metadata": {
        "id": "aCgrsXXFAhMm",
        "colab_type": "code",
        "colab": {}
      },
      "source": [
        "import pandas as pd\n",
        "url = 'https://raw.githubusercontent.com/ricardorocha86/Dados-Redes-Sociais/master/Social_Network_Ads.csv'\n",
        "ads = pd.read_csv(url)"
      ],
      "execution_count": 4,
      "outputs": []
    },
    {
      "cell_type": "markdown",
      "metadata": {
        "id": "21R8spDjJraE",
        "colab_type": "text"
      },
      "source": [
        "## Fazendo a Divisão em Treinamento e Teste, Separados por Variáveis Resposta e Explicativas"
      ]
    },
    {
      "cell_type": "code",
      "metadata": {
        "id": "Jtu4nnceuBhr",
        "colab_type": "code",
        "colab": {}
      },
      "source": [
        "from sklearn.model_selection import train_test_split\n",
        "\n",
        "Xtreino, Xteste, Ytreino, Yteste = train_test_split(ads.loc[:, ['Age', 'EstimatedSalary']], \n",
        "                                                    ads['Purchased'], \n",
        "                                                    test_size = 0.25)"
      ],
      "execution_count": 5,
      "outputs": []
    },
    {
      "cell_type": "markdown",
      "metadata": {
        "id": "p1OnCxkmJlZ0",
        "colab_type": "text"
      },
      "source": [
        "## Fazendo a Padronização das Variáveis Contínuas"
      ]
    },
    {
      "cell_type": "code",
      "metadata": {
        "id": "vEkuhGJRzKms",
        "colab_type": "code",
        "colab": {}
      },
      "source": [
        "from sklearn.preprocessing import StandardScaler\n",
        "\n",
        "sc = StandardScaler()\n",
        "Xtreino = sc.fit_transform(Xtreino)\n",
        "Xteste = sc.transform(Xteste)"
      ],
      "execution_count": 6,
      "outputs": []
    },
    {
      "cell_type": "markdown",
      "metadata": {
        "id": "YuUy-7DouBmG",
        "colab_type": "text"
      },
      "source": [
        "## Ajustando o Modelo de Regressão Logística "
      ]
    },
    {
      "cell_type": "code",
      "metadata": {
        "id": "QBL1b7JluB19",
        "colab_type": "code",
        "colab": {
          "base_uri": "https://localhost:8080/",
          "height": 108
        },
        "outputId": "e5e20951-6219-4eac-896f-f794bb747f18"
      },
      "source": [
        "from sklearn.linear_model import LogisticRegression\n",
        "\n",
        "import matplotlib.pyplot as plt  \n",
        "\n",
        "# Ajustando o modelo de Regressão Logística\n",
        "reglog = LogisticRegression()\n",
        "reglog.fit(Xtreino, Ytreino)"
      ],
      "execution_count": 7,
      "outputs": [
        {
          "output_type": "execute_result",
          "data": {
            "text/plain": [
              "LogisticRegression(C=1.0, class_weight=None, dual=False, fit_intercept=True,\n",
              "                   intercept_scaling=1, l1_ratio=None, max_iter=100,\n",
              "                   multi_class='auto', n_jobs=None, penalty='l2',\n",
              "                   random_state=None, solver='lbfgs', tol=0.0001, verbose=0,\n",
              "                   warm_start=False)"
            ]
          },
          "metadata": {
            "tags": []
          },
          "execution_count": 7
        }
      ]
    },
    {
      "cell_type": "markdown",
      "metadata": {
        "id": "EA76wq1DJd0P",
        "colab_type": "text"
      },
      "source": [
        "## Calculando a Acurácia"
      ]
    },
    {
      "cell_type": "code",
      "metadata": {
        "id": "QYQfoHW_ycBP",
        "colab_type": "code",
        "colab": {
          "base_uri": "https://localhost:8080/",
          "height": 53
        },
        "outputId": "4a0c30a4-fd3b-41c4-f35f-32ac32eec69d"
      },
      "source": [
        "from sklearn.metrics import accuracy_score\n",
        "\n",
        "preditos_treino = reglog.predict(Xtreino)\n",
        "preditos_teste = reglog.predict(Xteste)\n",
        "\n",
        "acc_treino = accuracy_score(preditos_treino, Ytreino)\n",
        "acc_teste = accuracy_score(preditos_teste, Yteste)\n",
        "\n",
        "print('A Acurácia de TREINO foi: {:.2f}%'.format(100*acc_treino))\n",
        "print('A Acurácia de TESTE foi:  {:.2f}%'.format(100*acc_teste))"
      ],
      "execution_count": 8,
      "outputs": [
        {
          "output_type": "stream",
          "text": [
            "A Acurácia de TREINO foi: 85.00%\n",
            "A Acurácia de TESTE foi:  81.00%\n"
          ],
          "name": "stdout"
        }
      ]
    },
    {
      "cell_type": "markdown",
      "metadata": {
        "id": "6smtI4ODKtcz",
        "colab_type": "text"
      },
      "source": [
        "## Prevendo Novas Amostras"
      ]
    },
    {
      "cell_type": "code",
      "metadata": {
        "id": "m7hM_tJAKxtH",
        "colab_type": "code",
        "colab": {
          "base_uri": "https://localhost:8080/",
          "height": 35
        },
        "outputId": "95034261-6afe-4919-e5f6-759e30c54a0e"
      },
      "source": [
        "eu = {'Age': [45], 'EstimatedSalary': [100000]}\n",
        "\n",
        "eu = pd.DataFrame(eu)\n",
        "\n",
        "eu = sc.transform(eu)\n",
        "\n",
        "reglog.predict(eu)"
      ],
      "execution_count": 10,
      "outputs": [
        {
          "output_type": "execute_result",
          "data": {
            "text/plain": [
              "array([1])"
            ]
          },
          "metadata": {
            "tags": []
          },
          "execution_count": 10
        }
      ]
    },
    {
      "cell_type": "markdown",
      "metadata": {
        "id": "KrKx3kFdIpsT",
        "colab_type": "text"
      },
      "source": [
        "## Gráfico de Região de Classificação"
      ]
    },
    {
      "cell_type": "code",
      "metadata": {
        "id": "1VcAFlrRyXrY",
        "colab_type": "code",
        "colab": {
          "base_uri": "https://localhost:8080/",
          "height": 551
        },
        "outputId": "34f7d529-e51f-42ea-e460-8d8bcc81b940"
      },
      "source": [
        "from mlxtend.plotting import plot_decision_regions\n",
        "\n",
        "import matplotlib.pyplot as plt\n",
        "\n",
        "plt.figure(figsize = (15, 7))\n",
        "\n",
        "plt.subplot(1, 2, 1) \n",
        "plot_decision_regions(Xtreino, Ytreino.values, clf = reglog, legend = 1)\n",
        "plt.xlabel('Idade')\n",
        "plt.ylabel('Salário Estimado')\n",
        "plt.title('Regressão Logística no Treino') \n",
        "\n",
        "plt.subplot(1, 2, 2) \n",
        "plot_decision_regions(Xteste, Yteste.values, clf = reglog, legend = 1)\n",
        "plt.xlabel('Idade')\n",
        "plt.ylabel('Salário Estimado')\n",
        "plt.title('Regressão Logística no Teste')\n",
        "\n",
        "plt.show()"
      ],
      "execution_count": 11,
      "outputs": [
        {
          "output_type": "stream",
          "text": [
            "/usr/local/lib/python3.6/dist-packages/mlxtend/plotting/decision_regions.py:244: MatplotlibDeprecationWarning: Passing unsupported keyword arguments to axis() will raise a TypeError in 3.3.\n",
            "  ax.axis(xmin=xx.min(), xmax=xx.max(), y_min=yy.min(), y_max=yy.max())\n",
            "/usr/local/lib/python3.6/dist-packages/mlxtend/plotting/decision_regions.py:244: MatplotlibDeprecationWarning: Passing unsupported keyword arguments to axis() will raise a TypeError in 3.3.\n",
            "  ax.axis(xmin=xx.min(), xmax=xx.max(), y_min=yy.min(), y_max=yy.max())\n"
          ],
          "name": "stderr"
        },
        {
          "output_type": "display_data",
          "data": {
            "image/png": "[encoded data removed]",
            "text/plain": [
              "<Figure size 1080x504 with 2 Axes>"
            ]
          },
          "metadata": {
            "tags": [],
            "needs_background": "light"
          }
        }
      ]
    },
    {
      "cell_type": "markdown",
      "metadata": {
        "id": "elUEhp4iTbNC",
        "colab_type": "text"
      },
      "source": [
        "# **Usando o Modelo KNN**"
      ]
    },
    {
      "cell_type": "markdown",
      "metadata": {
        "id": "9yzgWU1Sk0E5",
        "colab_type": "text"
      },
      "source": [
        "## Testando outros modelos: K-Vizinhos Mais Próximos"
      ]
    },
    {
      "cell_type": "code",
      "metadata": {
        "colab_type": "code",
        "id": "XWVm-D27oy5l",
        "colab": {
          "base_uri": "https://localhost:8080/",
          "height": 72
        },
        "outputId": "8a4dc9a3-9fbf-4c12-c052-2572f1e3962e"
      },
      "source": [
        "from sklearn.neighbors import KNeighborsClassifier\n",
        "\n",
        "knn = KNeighborsClassifier(n_neighbors = 1)\n",
        "knn.fit(Xtreino, Ytreino)"
      ],
      "execution_count": 15,
      "outputs": [
        {
          "output_type": "execute_result",
          "data": {
            "text/plain": [
              "KNeighborsClassifier(algorithm='auto', leaf_size=30, metric='minkowski',\n",
              "                     metric_params=None, n_jobs=None, n_neighbors=1, p=2,\n",
              "                     weights='uniform')"
            ]
          },
          "metadata": {
            "tags": []
          },
          "execution_count": 15
        }
      ]
    },
    {
      "cell_type": "code",
      "metadata": {
        "colab_type": "code",
        "id": "nCanz0P5oy6I",
        "colab": {
          "base_uri": "https://localhost:8080/",
          "height": 53
        },
        "outputId": "bf3a3e46-d635-4b03-c697-ad8e8496de09"
      },
      "source": [
        "from sklearn.metrics import accuracy_score\n",
        "\n",
        "preditos_treino = knn.predict(Xtreino)\n",
        "preditos_teste = knn.predict(Xteste)\n",
        "\n",
        "acc_treino = accuracy_score(preditos_treino, Ytreino)\n",
        "acc_teste = accuracy_score(preditos_teste, Yteste)\n",
        "\n",
        "print('A Acurácia de TREINO foi: {:.2f}%'.format(100*acc_treino))\n",
        "print('A Acurácia de TESTE foi:  {:.2f}%'.format(100*acc_teste))"
      ],
      "execution_count": 16,
      "outputs": [
        {
          "output_type": "stream",
          "text": [
            "A Acurácia de TREINO foi: 99.33%\n",
            "A Acurácia de TESTE foi:  81.00%\n"
          ],
          "name": "stdout"
        }
      ]
    },
    {
      "cell_type": "code",
      "metadata": {
        "colab_type": "code",
        "id": "7tGzbq2Joy6h",
        "colab": {
          "base_uri": "https://localhost:8080/",
          "height": 551
        },
        "outputId": "a94a50f6-ba75-4aa2-a820-6c909dadc49e"
      },
      "source": [
        "from mlxtend.plotting import plot_decision_regions\n",
        "import matplotlib.pyplot as plt\n",
        "\n",
        "#Plot para o 1-NN\n",
        "knn1 = KNeighborsClassifier(n_neighbors = 1)\n",
        "knn1.fit(Xtreino, Ytreino)\n",
        "\n",
        "plt.figure(figsize = (15, 7))\n",
        "\n",
        "plt.subplot(1, 2, 1) \n",
        "plot_decision_regions(Xtreino, Ytreino.values, clf = knn1, legend = 1)\n",
        "plt.xlabel('Idade')\n",
        "plt.ylabel('Salário Estimado')\n",
        "plt.title('1-NN no Treino') \n",
        "\n",
        "plt.subplot(1, 2, 2) \n",
        "plot_decision_regions(Xteste, Yteste.values, clf = knn1, legend = 1)\n",
        "plt.xlabel('Idade')\n",
        "plt.ylabel('Salário Estimado')\n",
        "plt.title('1-NN no Teste')\n",
        "\n",
        "plt.show()\n"
      ],
      "execution_count": 18,
      "outputs": [
        {
          "output_type": "stream",
          "text": [
            "/usr/local/lib/python3.6/dist-packages/mlxtend/plotting/decision_regions.py:244: MatplotlibDeprecationWarning: Passing unsupported keyword arguments to axis() will raise a TypeError in 3.3.\n",
            "  ax.axis(xmin=xx.min(), xmax=xx.max(), y_min=yy.min(), y_max=yy.max())\n",
            "/usr/local/lib/python3.6/dist-packages/mlxtend/plotting/decision_regions.py:244: MatplotlibDeprecationWarning: Passing unsupported keyword arguments to axis() will raise a TypeError in 3.3.\n",
            "  ax.axis(xmin=xx.min(), xmax=xx.max(), y_min=yy.min(), y_max=yy.max())\n"
          ],
          "name": "stderr"
        },
        {
          "output_type": "display_data",
          "data": {
            "image/png": "[encoded data removed]",
            "text/plain": [
              "<Figure size 1080x504 with 2 Axes>"
            ]
          },
          "metadata": {
            "tags": [],
            "needs_background": "light"
          }
        }
      ]
    },
    {
      "cell_type": "code",
      "metadata": {
        "id": "JlQPQijJuzJP",
        "colab_type": "code",
        "colab": {
          "base_uri": "https://localhost:8080/",
          "height": 551
        },
        "outputId": "8f11ac05-8163-42bd-82b8-d6491813211d"
      },
      "source": [
        "#Plot para o 51-NN\n",
        "knn51 = KNeighborsClassifier(n_neighbors = 51)\n",
        "knn51.fit(Xtreino, Ytreino)\n",
        "\n",
        "plt.figure(figsize = (15, 7))\n",
        "\n",
        "plt.subplot(1, 2, 1) \n",
        "plot_decision_regions(Xtreino, Ytreino.values, clf = knn51, legend = 1)\n",
        "plt.xlabel('Idade')\n",
        "plt.ylabel('Salário Estimado')\n",
        "plt.title('51-NN no Treino') \n",
        "\n",
        "plt.subplot(1, 2, 2) \n",
        "plot_decision_regions(Xteste, Yteste.values, clf = knn51, legend = 1)\n",
        "plt.xlabel('Idade')\n",
        "plt.ylabel('Salário Estimado')\n",
        "plt.title('51-NN no Teste')\n",
        "\n",
        "plt.show()"
      ],
      "execution_count": 19,
      "outputs": [
        {
          "output_type": "stream",
          "text": [
            "/usr/local/lib/python3.6/dist-packages/mlxtend/plotting/decision_regions.py:244: MatplotlibDeprecationWarning: Passing unsupported keyword arguments to axis() will raise a TypeError in 3.3.\n",
            "  ax.axis(xmin=xx.min(), xmax=xx.max(), y_min=yy.min(), y_max=yy.max())\n",
            "/usr/local/lib/python3.6/dist-packages/mlxtend/plotting/decision_regions.py:244: MatplotlibDeprecationWarning: Passing unsupported keyword arguments to axis() will raise a TypeError in 3.3.\n",
            "  ax.axis(xmin=xx.min(), xmax=xx.max(), y_min=yy.min(), y_max=yy.max())\n"
          ],
          "name": "stderr"
        },
        {
          "output_type": "display_data",
          "data": {
            "image/png": "[encoded data removed]",
            "text/plain": [
              "<Figure size 1080x504 with 2 Axes>"
            ]
          },
          "metadata": {
            "tags": [],
            "needs_background": "light"
          }
        }
      ]
    },
    {
      "cell_type": "code",
      "metadata": {
        "id": "hZ6HdCVPu0Gd",
        "colab_type": "code",
        "colab": {
          "base_uri": "https://localhost:8080/",
          "height": 551
        },
        "outputId": "5263e315-0412-4ca9-b254-5d92fffc6df6"
      },
      "source": [
        "#Plot para o 101-NN\n",
        "knn101 = KNeighborsClassifier(n_neighbors = 101)\n",
        "knn101.fit(Xtreino, Ytreino)\n",
        "\n",
        "plt.figure(figsize = (15, 7))\n",
        "\n",
        "plt.subplot(1, 2, 1) \n",
        "plot_decision_regions(Xtreino, Ytreino.values, clf = knn101, legend = 1)\n",
        "plt.xlabel('Idade')\n",
        "plt.ylabel('Salário Estimado')\n",
        "plt.title('101-NN no Treino') \n",
        "\n",
        "plt.subplot(1, 2, 2) \n",
        "plot_decision_regions(Xteste, Yteste.values, clf = knn101, legend = 1)\n",
        "plt.xlabel('Idade')\n",
        "plt.ylabel('Salário Estimado')\n",
        "plt.title('101-NN no Teste')\n",
        "\n",
        "plt.show()"
      ],
      "execution_count": 20,
      "outputs": [
        {
          "output_type": "stream",
          "text": [
            "/usr/local/lib/python3.6/dist-packages/mlxtend/plotting/decision_regions.py:244: MatplotlibDeprecationWarning: Passing unsupported keyword arguments to axis() will raise a TypeError in 3.3.\n",
            "  ax.axis(xmin=xx.min(), xmax=xx.max(), y_min=yy.min(), y_max=yy.max())\n",
            "/usr/local/lib/python3.6/dist-packages/mlxtend/plotting/decision_regions.py:244: MatplotlibDeprecationWarning: Passing unsupported keyword arguments to axis() will raise a TypeError in 3.3.\n",
            "  ax.axis(xmin=xx.min(), xmax=xx.max(), y_min=yy.min(), y_max=yy.max())\n"
          ],
          "name": "stderr"
        },
        {
          "output_type": "display_data",
          "data": {
            "image/png": "[encoded data removed]",
            "text/plain": [
              "<Figure size 1080x504 with 2 Axes>"
            ]
          },
          "metadata": {
            "tags": [],
            "needs_background": "light"
          }
        }
      ]
    },
    {
      "cell_type": "markdown",
      "metadata": {
        "id": "AyhhFAban-Ch",
        "colab_type": "text"
      },
      "source": [
        "# **Modelos de Regressão**"
      ]
    },
    {
      "cell_type": "markdown",
      "metadata": {
        "id": "5d-TcAeSsMfk",
        "colab_type": "text"
      },
      "source": [
        "## Importando o conjunto de dados **mtcars**, tradicional do R, através da biblioteca **statmodels**"
      ]
    },
    {
      "cell_type": "code",
      "metadata": {
        "id": "tsvOln7qn-bq",
        "colab_type": "code",
        "colab": {
          "base_uri": "https://localhost:8080/",
          "height": 1000
        },
        "outputId": "c3b5d262-78fd-4914-e320-643ce80ee932"
      },
      "source": [
        "import statsmodels.api as sm \n",
        "\n",
        "mtcars = sm.datasets.get_rdataset('mtcars', 'datasets').data\n",
        "mtcars"
      ],
      "execution_count": 21,
      "outputs": [
        {
          "output_type": "stream",
          "text": [
            "/usr/local/lib/python3.6/dist-packages/statsmodels/tools/_testing.py:19: FutureWarning: pandas.util.testing is deprecated. Use the functions in the public API at pandas.testing instead.\n",
            "  import pandas.util.testing as tm\n"
          ],
          "name": "stderr"
        },
        {
          "output_type": "execute_result",
          "data": {
            "text/html": [
              "<div>\n",
              "<style scoped>\n",
              "    .dataframe tbody tr th:only-of-type {\n",
              "        vertical-align: middle;\n",
              "    }\n",
              "\n",
              "    .dataframe tbody tr th {\n",
              "        vertical-align: top;\n",
              "    }\n",
              "\n",
              "    .dataframe thead th {\n",
              "        text-align: right;\n",
              "    }\n",
              "</style>\n",
              "<table border=\"1\" class=\"dataframe\">\n",
              "  <thead>\n",
              "    <tr style=\"text-align: right;\">\n",
              "      <th></th>\n",
              "      <th>mpg</th>\n",
              "      <th>cyl</th>\n",
              "      <th>disp</th>\n",
              "      <th>hp</th>\n",
              "      <th>drat</th>\n",
              "      <th>wt</th>\n",
              "      <th>qsec</th>\n",
              "      <th>vs</th>\n",
              "      <th>am</th>\n",
              "      <th>gear</th>\n",
              "      <th>carb</th>\n",
              "    </tr>\n",
              "  </thead>\n",
              "  <tbody>\n",
              "    <tr>\n",
              "      <th>Mazda RX4</th>\n",
              "      <td>21.0</td>\n",
              "      <td>6</td>\n",
              "      <td>160.0</td>\n",
              "      <td>110</td>\n",
              "      <td>3.90</td>\n",
              "      <td>2.620</td>\n",
              "      <td>16.46</td>\n",
              "      <td>0</td>\n",
              "      <td>1</td>\n",
              "      <td>4</td>\n",
              "      <td>4</td>\n",
              "    </tr>\n",
              "    <tr>\n",
              "      <th>Mazda RX4 Wag</th>\n",
              "      <td>21.0</td>\n",
              "      <td>6</td>\n",
              "      <td>160.0</td>\n",
              "      <td>110</td>\n",
              "      <td>3.90</td>\n",
              "      <td>2.875</td>\n",
              "      <td>17.02</td>\n",
              "      <td>0</td>\n",
              "      <td>1</td>\n",
              "      <td>4</td>\n",
              "      <td>4</td>\n",
              "    </tr>\n",
              "    <tr>\n",
              "      <th>Datsun 710</th>\n",
              "      <td>22.8</td>\n",
              "      <td>4</td>\n",
              "      <td>108.0</td>\n",
              "      <td>93</td>\n",
              "      <td>3.85</td>\n",
              "      <td>2.320</td>\n",
              "      <td>18.61</td>\n",
              "      <td>1</td>\n",
              "      <td>1</td>\n",
              "      <td>4</td>\n",
              "      <td>1</td>\n",
              "    </tr>\n",
              "    <tr>\n",
              "      <th>Hornet 4 Drive</th>\n",
              "      <td>21.4</td>\n",
              "      <td>6</td>\n",
              "      <td>258.0</td>\n",
              "      <td>110</td>\n",
              "      <td>3.08</td>\n",
              "      <td>3.215</td>\n",
              "      <td>19.44</td>\n",
              "      <td>1</td>\n",
              "      <td>0</td>\n",
              "      <td>3</td>\n",
              "      <td>1</td>\n",
              "    </tr>\n",
              "    <tr>\n",
              "      <th>Hornet Sportabout</th>\n",
              "      <td>18.7</td>\n",
              "      <td>8</td>\n",
              "      <td>360.0</td>\n",
              "      <td>175</td>\n",
              "      <td>3.15</td>\n",
              "      <td>3.440</td>\n",
              "      <td>17.02</td>\n",
              "      <td>0</td>\n",
              "      <td>0</td>\n",
              "      <td>3</td>\n",
              "      <td>2</td>\n",
              "    </tr>\n",
              "    <tr>\n",
              "      <th>Valiant</th>\n",
              "      <td>18.1</td>\n",
              "      <td>6</td>\n",
              "      <td>225.0</td>\n",
              "      <td>105</td>\n",
              "      <td>2.76</td>\n",
              "      <td>3.460</td>\n",
              "      <td>20.22</td>\n",
              "      <td>1</td>\n",
              "      <td>0</td>\n",
              "      <td>3</td>\n",
              "      <td>1</td>\n",
              "    </tr>\n",
              "    <tr>\n",
              "      <th>Duster 360</th>\n",
              "      <td>14.3</td>\n",
              "      <td>8</td>\n",
              "      <td>360.0</td>\n",
              "      <td>245</td>\n",
              "      <td>3.21</td>\n",
              "      <td>3.570</td>\n",
              "      <td>15.84</td>\n",
              "      <td>0</td>\n",
              "      <td>0</td>\n",
              "      <td>3</td>\n",
              "      <td>4</td>\n",
              "    </tr>\n",
              "    <tr>\n",
              "      <th>Merc 240D</th>\n",
              "      <td>24.4</td>\n",
              "      <td>4</td>\n",
              "      <td>146.7</td>\n",
              "      <td>62</td>\n",
              "      <td>3.69</td>\n",
              "      <td>3.190</td>\n",
              "      <td>20.00</td>\n",
              "      <td>1</td>\n",
              "      <td>0</td>\n",
              "      <td>4</td>\n",
              "      <td>2</td>\n",
              "    </tr>\n",
              "    <tr>\n",
              "      <th>Merc 230</th>\n",
              "      <td>22.8</td>\n",
              "      <td>4</td>\n",
              "      <td>140.8</td>\n",
              "      <td>95</td>\n",
              "      <td>3.92</td>\n",
              "      <td>3.150</td>\n",
              "      <td>22.90</td>\n",
              "      <td>1</td>\n",
              "      <td>0</td>\n",
              "      <td>4</td>\n",
              "      <td>2</td>\n",
              "    </tr>\n",
              "    <tr>\n",
              "      <th>Merc 280</th>\n",
              "      <td>19.2</td>\n",
              "      <td>6</td>\n",
              "      <td>167.6</td>\n",
              "      <td>123</td>\n",
              "      <td>3.92</td>\n",
              "      <td>3.440</td>\n",
              "      <td>18.30</td>\n",
              "      <td>1</td>\n",
              "      <td>0</td>\n",
              "      <td>4</td>\n",
              "      <td>4</td>\n",
              "    </tr>\n",
              "    <tr>\n",
              "      <th>Merc 280C</th>\n",
              "      <td>17.8</td>\n",
              "      <td>6</td>\n",
              "      <td>167.6</td>\n",
              "      <td>123</td>\n",
              "      <td>3.92</td>\n",
              "      <td>3.440</td>\n",
              "      <td>18.90</td>\n",
              "      <td>1</td>\n",
              "      <td>0</td>\n",
              "      <td>4</td>\n",
              "      <td>4</td>\n",
              "    </tr>\n",
              "    <tr>\n",
              "      <th>Merc 450SE</th>\n",
              "      <td>16.4</td>\n",
              "      <td>8</td>\n",
              "      <td>275.8</td>\n",
              "      <td>180</td>\n",
              "      <td>3.07</td>\n",
              "      <td>4.070</td>\n",
              "      <td>17.40</td>\n",
              "      <td>0</td>\n",
              "      <td>0</td>\n",
              "      <td>3</td>\n",
              "      <td>3</td>\n",
              "    </tr>\n",
              "    <tr>\n",
              "      <th>Merc 450SL</th>\n",
              "      <td>17.3</td>\n",
              "      <td>8</td>\n",
              "      <td>275.8</td>\n",
              "      <td>180</td>\n",
              "      <td>3.07</td>\n",
              "      <td>3.730</td>\n",
              "      <td>17.60</td>\n",
              "      <td>0</td>\n",
              "      <td>0</td>\n",
              "      <td>3</td>\n",
              "      <td>3</td>\n",
              "    </tr>\n",
              "    <tr>\n",
              "      <th>Merc 450SLC</th>\n",
              "      <td>15.2</td>\n",
              "      <td>8</td>\n",
              "      <td>275.8</td>\n",
              "      <td>180</td>\n",
              "      <td>3.07</td>\n",
              "      <td>3.780</td>\n",
              "      <td>18.00</td>\n",
              "      <td>0</td>\n",
              "      <td>0</td>\n",
              "      <td>3</td>\n",
              "      <td>3</td>\n",
              "    </tr>\n",
              "    <tr>\n",
              "      <th>Cadillac Fleetwood</th>\n",
              "      <td>10.4</td>\n",
              "      <td>8</td>\n",
              "      <td>472.0</td>\n",
              "      <td>205</td>\n",
              "      <td>2.93</td>\n",
              "      <td>5.250</td>\n",
              "      <td>17.98</td>\n",
              "      <td>0</td>\n",
              "      <td>0</td>\n",
              "      <td>3</td>\n",
              "      <td>4</td>\n",
              "    </tr>\n",
              "    <tr>\n",
              "      <th>Lincoln Continental</th>\n",
              "      <td>10.4</td>\n",
              "      <td>8</td>\n",
              "      <td>460.0</td>\n",
              "      <td>215</td>\n",
              "      <td>3.00</td>\n",
              "      <td>5.424</td>\n",
              "      <td>17.82</td>\n",
              "      <td>0</td>\n",
              "      <td>0</td>\n",
              "      <td>3</td>\n",
              "      <td>4</td>\n",
              "    </tr>\n",
              "    <tr>\n",
              "      <th>Chrysler Imperial</th>\n",
              "      <td>14.7</td>\n",
              "      <td>8</td>\n",
              "      <td>440.0</td>\n",
              "      <td>230</td>\n",
              "      <td>3.23</td>\n",
              "      <td>5.345</td>\n",
              "      <td>17.42</td>\n",
              "      <td>0</td>\n",
              "      <td>0</td>\n",
              "      <td>3</td>\n",
              "      <td>4</td>\n",
              "    </tr>\n",
              "    <tr>\n",
              "      <th>Fiat 128</th>\n",
              "      <td>32.4</td>\n",
              "      <td>4</td>\n",
              "      <td>78.7</td>\n",
              "      <td>66</td>\n",
              "      <td>4.08</td>\n",
              "      <td>2.200</td>\n",
              "      <td>19.47</td>\n",
              "      <td>1</td>\n",
              "      <td>1</td>\n",
              "      <td>4</td>\n",
              "      <td>1</td>\n",
              "    </tr>\n",
              "    <tr>\n",
              "      <th>Honda Civic</th>\n",
              "      <td>30.4</td>\n",
              "      <td>4</td>\n",
              "      <td>75.7</td>\n",
              "      <td>52</td>\n",
              "      <td>4.93</td>\n",
              "      <td>1.615</td>\n",
              "      <td>18.52</td>\n",
              "      <td>1</td>\n",
              "      <td>1</td>\n",
              "      <td>4</td>\n",
              "      <td>2</td>\n",
              "    </tr>\n",
              "    <tr>\n",
              "      <th>Toyota Corolla</th>\n",
              "      <td>33.9</td>\n",
              "      <td>4</td>\n",
              "      <td>71.1</td>\n",
              "      <td>65</td>\n",
              "      <td>4.22</td>\n",
              "      <td>1.835</td>\n",
              "      <td>19.90</td>\n",
              "      <td>1</td>\n",
              "      <td>1</td>\n",
              "      <td>4</td>\n",
              "      <td>1</td>\n",
              "    </tr>\n",
              "    <tr>\n",
              "      <th>Toyota Corona</th>\n",
              "      <td>21.5</td>\n",
              "      <td>4</td>\n",
              "      <td>120.1</td>\n",
              "      <td>97</td>\n",
              "      <td>3.70</td>\n",
              "      <td>2.465</td>\n",
              "      <td>20.01</td>\n",
              "      <td>1</td>\n",
              "      <td>0</td>\n",
              "      <td>3</td>\n",
              "      <td>1</td>\n",
              "    </tr>\n",
              "    <tr>\n",
              "      <th>Dodge Challenger</th>\n",
              "      <td>15.5</td>\n",
              "      <td>8</td>\n",
              "      <td>318.0</td>\n",
              "      <td>150</td>\n",
              "      <td>2.76</td>\n",
              "      <td>3.520</td>\n",
              "      <td>16.87</td>\n",
              "      <td>0</td>\n",
              "      <td>0</td>\n",
              "      <td>3</td>\n",
              "      <td>2</td>\n",
              "    </tr>\n",
              "    <tr>\n",
              "      <th>AMC Javelin</th>\n",
              "      <td>15.2</td>\n",
              "      <td>8</td>\n",
              "      <td>304.0</td>\n",
              "      <td>150</td>\n",
              "      <td>3.15</td>\n",
              "      <td>3.435</td>\n",
              "      <td>17.30</td>\n",
              "      <td>0</td>\n",
              "      <td>0</td>\n",
              "      <td>3</td>\n",
              "      <td>2</td>\n",
              "    </tr>\n",
              "    <tr>\n",
              "      <th>Camaro Z28</th>\n",
              "      <td>13.3</td>\n",
              "      <td>8</td>\n",
              "      <td>350.0</td>\n",
              "      <td>245</td>\n",
              "      <td>3.73</td>\n",
              "      <td>3.840</td>\n",
              "      <td>15.41</td>\n",
              "      <td>0</td>\n",
              "      <td>0</td>\n",
              "      <td>3</td>\n",
              "      <td>4</td>\n",
              "    </tr>\n",
              "    <tr>\n",
              "      <th>Pontiac Firebird</th>\n",
              "      <td>19.2</td>\n",
              "      <td>8</td>\n",
              "      <td>400.0</td>\n",
              "      <td>175</td>\n",
              "      <td>3.08</td>\n",
              "      <td>3.845</td>\n",
              "      <td>17.05</td>\n",
              "      <td>0</td>\n",
              "      <td>0</td>\n",
              "      <td>3</td>\n",
              "      <td>2</td>\n",
              "    </tr>\n",
              "    <tr>\n",
              "      <th>Fiat X1-9</th>\n",
              "      <td>27.3</td>\n",
              "      <td>4</td>\n",
              "      <td>79.0</td>\n",
              "      <td>66</td>\n",
              "      <td>4.08</td>\n",
              "      <td>1.935</td>\n",
              "      <td>18.90</td>\n",
              "      <td>1</td>\n",
              "      <td>1</td>\n",
              "      <td>4</td>\n",
              "      <td>1</td>\n",
              "    </tr>\n",
              "    <tr>\n",
              "      <th>Porsche 914-2</th>\n",
              "      <td>26.0</td>\n",
              "      <td>4</td>\n",
              "      <td>120.3</td>\n",
              "      <td>91</td>\n",
              "      <td>4.43</td>\n",
              "      <td>2.140</td>\n",
              "      <td>16.70</td>\n",
              "      <td>0</td>\n",
              "      <td>1</td>\n",
              "      <td>5</td>\n",
              "      <td>2</td>\n",
              "    </tr>\n",
              "    <tr>\n",
              "      <th>Lotus Europa</th>\n",
              "      <td>30.4</td>\n",
              "      <td>4</td>\n",
              "      <td>95.1</td>\n",
              "      <td>113</td>\n",
              "      <td>3.77</td>\n",
              "      <td>1.513</td>\n",
              "      <td>16.90</td>\n",
              "      <td>1</td>\n",
              "      <td>1</td>\n",
              "      <td>5</td>\n",
              "      <td>2</td>\n",
              "    </tr>\n",
              "    <tr>\n",
              "      <th>Ford Pantera L</th>\n",
              "      <td>15.8</td>\n",
              "      <td>8</td>\n",
              "      <td>351.0</td>\n",
              "      <td>264</td>\n",
              "      <td>4.22</td>\n",
              "      <td>3.170</td>\n",
              "      <td>14.50</td>\n",
              "      <td>0</td>\n",
              "      <td>1</td>\n",
              "      <td>5</td>\n",
              "      <td>4</td>\n",
              "    </tr>\n",
              "    <tr>\n",
              "      <th>Ferrari Dino</th>\n",
              "      <td>19.7</td>\n",
              "      <td>6</td>\n",
              "      <td>145.0</td>\n",
              "      <td>175</td>\n",
              "      <td>3.62</td>\n",
              "      <td>2.770</td>\n",
              "      <td>15.50</td>\n",
              "      <td>0</td>\n",
              "      <td>1</td>\n",
              "      <td>5</td>\n",
              "      <td>6</td>\n",
              "    </tr>\n",
              "    <tr>\n",
              "      <th>Maserati Bora</th>\n",
              "      <td>15.0</td>\n",
              "      <td>8</td>\n",
              "      <td>301.0</td>\n",
              "      <td>335</td>\n",
              "      <td>3.54</td>\n",
              "      <td>3.570</td>\n",
              "      <td>14.60</td>\n",
              "      <td>0</td>\n",
              "      <td>1</td>\n",
              "      <td>5</td>\n",
              "      <td>8</td>\n",
              "    </tr>\n",
              "    <tr>\n",
              "      <th>Volvo 142E</th>\n",
              "      <td>21.4</td>\n",
              "      <td>4</td>\n",
              "      <td>121.0</td>\n",
              "      <td>109</td>\n",
              "      <td>4.11</td>\n",
              "      <td>2.780</td>\n",
              "      <td>18.60</td>\n",
              "      <td>1</td>\n",
              "      <td>1</td>\n",
              "      <td>4</td>\n",
              "      <td>2</td>\n",
              "    </tr>\n",
              "  </tbody>\n",
              "</table>\n",
              "</div>"
            ],
            "text/plain": [
              "                      mpg  cyl   disp   hp  drat  ...   qsec  vs  am  gear  carb\n",
              "Mazda RX4            21.0    6  160.0  110  3.90  ...  16.46   0   1     4     4\n",
              "Mazda RX4 Wag        21.0    6  160.0  110  3.90  ...  17.02   0   1     4     4\n",
              "Datsun 710           22.8    4  108.0   93  3.85  ...  18.61   1   1     4     1\n",
              "Hornet 4 Drive       21.4    6  258.0  110  3.08  ...  19.44   1   0     3     1\n",
              "Hornet Sportabout    18.7    8  360.0  175  3.15  ...  17.02   0   0     3     2\n",
              "Valiant              18.1    6  225.0  105  2.76  ...  20.22   1   0     3     1\n",
              "Duster 360           14.3    8  360.0  245  3.21  ...  15.84   0   0     3     4\n",
              "Merc 240D            24.4    4  146.7   62  3.69  ...  20.00   1   0     4     2\n",
              "Merc 230             22.8    4  140.8   95  3.92  ...  22.90   1   0     4     2\n",
              "Merc 280             19.2    6  167.6  123  3.92  ...  18.30   1   0     4     4\n",
              "Merc 280C            17.8    6  167.6  123  3.92  ...  18.90   1   0     4     4\n",
              "Merc 450SE           16.4    8  275.8  180  3.07  ...  17.40   0   0     3     3\n",
              "Merc 450SL           17.3    8  275.8  180  3.07  ...  17.60   0   0     3     3\n",
              "Merc 450SLC          15.2    8  275.8  180  3.07  ...  18.00   0   0     3     3\n",
              "Cadillac Fleetwood   10.4    8  472.0  205  2.93  ...  17.98   0   0     3     4\n",
              "Lincoln Continental  10.4    8  460.0  215  3.00  ...  17.82   0   0     3     4\n",
              "Chrysler Imperial    14.7    8  440.0  230  3.23  ...  17.42   0   0     3     4\n",
              "Fiat 128             32.4    4   78.7   66  4.08  ...  19.47   1   1     4     1\n",
              "Honda Civic          30.4    4   75.7   52  4.93  ...  18.52   1   1     4     2\n",
              "Toyota Corolla       33.9    4   71.1   65  4.22  ...  19.90   1   1     4     1\n",
              "Toyota Corona        21.5    4  120.1   97  3.70  ...  20.01   1   0     3     1\n",
              "Dodge Challenger     15.5    8  318.0  150  2.76  ...  16.87   0   0     3     2\n",
              "AMC Javelin          15.2    8  304.0  150  3.15  ...  17.30   0   0     3     2\n",
              "Camaro Z28           13.3    8  350.0  245  3.73  ...  15.41   0   0     3     4\n",
              "Pontiac Firebird     19.2    8  400.0  175  3.08  ...  17.05   0   0     3     2\n",
              "Fiat X1-9            27.3    4   79.0   66  4.08  ...  18.90   1   1     4     1\n",
              "Porsche 914-2        26.0    4  120.3   91  4.43  ...  16.70   0   1     5     2\n",
              "Lotus Europa         30.4    4   95.1  113  3.77  ...  16.90   1   1     5     2\n",
              "Ford Pantera L       15.8    8  351.0  264  4.22  ...  14.50   0   1     5     4\n",
              "Ferrari Dino         19.7    6  145.0  175  3.62  ...  15.50   0   1     5     6\n",
              "Maserati Bora        15.0    8  301.0  335  3.54  ...  14.60   0   1     5     8\n",
              "Volvo 142E           21.4    4  121.0  109  4.11  ...  18.60   1   1     4     2\n",
              "\n",
              "[32 rows x 11 columns]"
            ]
          },
          "metadata": {
            "tags": []
          },
          "execution_count": 21
        }
      ]
    },
    {
      "cell_type": "markdown",
      "metadata": {
        "id": "uTiVlH1asZZs",
        "colab_type": "text"
      },
      "source": [
        "## Vamos utilizar a variável **hp**, horse power, para tentar prever a variável **mpg**, miles per galon."
      ]
    },
    {
      "cell_type": "code",
      "metadata": {
        "id": "lcZ5Js7ORJSO",
        "colab_type": "code",
        "colab": {
          "base_uri": "https://localhost:8080/",
          "height": 269
        },
        "outputId": "d6b89279-c859-4b9c-aadf-d0052ecb6972"
      },
      "source": [
        "import matplotlib.pyplot as plt\n",
        "\n",
        "plt.scatter(mtcars['hp'], mtcars['mpg'], marker = 's', alpha = 0.6, color = 'darkblue')\n",
        "plt.show()"
      ],
      "execution_count": 22,
      "outputs": [
        {
          "output_type": "display_data",
          "data": {
            "image/png": "[encoded data removed]",
            "text/plain": [
              "<Figure size 432x288 with 1 Axes>"
            ]
          },
          "metadata": {
            "tags": [],
            "needs_background": "light"
          }
        }
      ]
    },
    {
      "cell_type": "markdown",
      "metadata": {
        "id": "OSVEWazAso6X",
        "colab_type": "text"
      },
      "source": [
        "## Fazendo as devidas divisões para validação"
      ]
    },
    {
      "cell_type": "code",
      "metadata": {
        "id": "8BVH9pAbByl6",
        "colab_type": "code",
        "colab": {}
      },
      "source": [
        "from sklearn.model_selection import train_test_split\n",
        "\n",
        "Xtreino, Xteste, Ytreino, Yteste = train_test_split(mtcars['hp'], mtcars['mpg'], test_size = 0.25)"
      ],
      "execution_count": 23,
      "outputs": []
    },
    {
      "cell_type": "code",
      "metadata": {
        "id": "FIrgGaV7R9es",
        "colab_type": "code",
        "colab": {}
      },
      "source": [
        "Xtreino = Xtreino.values.reshape(-1, 1)\n",
        "Xteste = Xteste.values.reshape(-1, 1)"
      ],
      "execution_count": 24,
      "outputs": []
    },
    {
      "cell_type": "markdown",
      "metadata": {
        "id": "GJ2Jb9ExsuDb",
        "colab_type": "text"
      },
      "source": [
        "## Utilizando o modelo de Regressão Linear"
      ]
    },
    {
      "cell_type": "code",
      "metadata": {
        "id": "0iIc9AO9RB3n",
        "colab_type": "code",
        "colab": {
          "base_uri": "https://localhost:8080/",
          "height": 35
        },
        "outputId": "9ab3d2fa-b642-4554-8e0d-c1bfa2cd088c"
      },
      "source": [
        "from sklearn.linear_model import LinearRegression\n",
        "reglin = LinearRegression()\n",
        "reglin.fit(Xtreino, Ytreino)"
      ],
      "execution_count": 25,
      "outputs": [
        {
          "output_type": "execute_result",
          "data": {
            "text/plain": [
              "LinearRegression(copy_X=True, fit_intercept=True, n_jobs=None, normalize=False)"
            ]
          },
          "metadata": {
            "tags": []
          },
          "execution_count": 25
        }
      ]
    },
    {
      "cell_type": "markdown",
      "metadata": {
        "id": "pP6SX0nvSiSy",
        "colab_type": "text"
      },
      "source": [
        "## Verificando o Erro Quadrático Médio nos dados de treinamento e teste"
      ]
    },
    {
      "cell_type": "code",
      "metadata": {
        "id": "ynVcrgycSfYK",
        "colab_type": "code",
        "colab": {
          "base_uri": "https://localhost:8080/",
          "height": 53
        },
        "outputId": "8e89b0a2-0c5f-4cad-a12b-16e288d758df"
      },
      "source": [
        "from sklearn.metrics import mean_squared_error\n",
        "\n",
        "preditos_treino = reglin.predict(Xtreino)\n",
        "preditos_teste = reglin.predict(Xteste)\n",
        "\n",
        "eqm_treino = mean_squared_error(preditos_treino, Ytreino)\n",
        "eqm_teste = mean_squared_error(preditos_teste, Yteste)\n",
        "\n",
        "print('O Erro Quadrático Médio de TREINO foi: {:.2f}'.format(eqm_treino))\n",
        "print('O Erro Quadrático Médio de TESTE foi:  {:.2f}'.format(eqm_teste))"
      ],
      "execution_count": 26,
      "outputs": [
        {
          "output_type": "stream",
          "text": [
            "O Erro Quadrático Médio de TREINO foi: 15.79\n",
            "O Erro Quadrático Médio de TESTE foi:  10.15\n"
          ],
          "name": "stdout"
        }
      ]
    },
    {
      "cell_type": "markdown",
      "metadata": {
        "id": "JXcSOaMys-WL",
        "colab_type": "text"
      },
      "source": [
        "## Plotando a reta de solução junto aos dados de treinamento e teste"
      ]
    },
    {
      "cell_type": "code",
      "metadata": {
        "id": "nZ8GE2aiSQPp",
        "colab_type": "code",
        "colab": {}
      },
      "source": [
        "import numpy as np\n",
        "\n",
        "x = np.arange(30, 350, 0.01)"
      ],
      "execution_count": 27,
      "outputs": []
    },
    {
      "cell_type": "code",
      "metadata": {
        "id": "wGwooZo0Z1zw",
        "colab_type": "code",
        "colab": {
          "base_uri": "https://localhost:8080/",
          "height": 429
        },
        "outputId": "f913702a-b3ab-4206-9ade-c4094bf70063"
      },
      "source": [
        "y = reglin.predict(x.reshape(-1, 1))\n",
        "plt.figure(figsize = (15, 7))\n",
        "\n",
        "plt.subplot(1, 2, 1) \n",
        "plt.plot(x, y, color = 'green', linewidth = 2, label = 'Regressão Linear')\n",
        "plt.scatter(Xtreino, Ytreino, marker = 's', alpha = 0.6, color = 'darkblue')\n",
        "plt.legend()\n",
        "\n",
        "plt.subplot(1, 2, 2) \n",
        "plt.plot(x, y, color = 'green', linewidth = 2, label = 'Regressão Linear')\n",
        "plt.scatter(Xteste, Yteste, marker = 's', alpha = 0.6, color = 'red')\n",
        "plt.legend()\n",
        "\n",
        "plt.show()"
      ],
      "execution_count": 28,
      "outputs": [
        {
          "output_type": "display_data",
          "data": {
            "image/png": "[encoded data removed]",
            "text/plain": [
              "<Figure size 1080x504 with 2 Axes>"
            ]
          },
          "metadata": {
            "tags": [],
            "needs_background": "light"
          }
        }
      ]
    },
    {
      "cell_type": "markdown",
      "metadata": {
        "id": "iZU4qwA0tJFD",
        "colab_type": "text"
      },
      "source": [
        "## Testando um segundo modelo: **K Vizinhos Mais Próximos**"
      ]
    },
    {
      "cell_type": "code",
      "metadata": {
        "id": "AA0JkepGaBCI",
        "colab_type": "code",
        "colab": {
          "base_uri": "https://localhost:8080/",
          "height": 72
        },
        "outputId": "b3e8b70e-29f5-41bf-e0d9-ae724298156c"
      },
      "source": [
        "from sklearn.neighbors import KNeighborsRegressor\n",
        "\n",
        "knnreg = KNeighborsRegressor(n_neighbors = 9)\n",
        "knnreg.fit(Xtreino, Ytreino)"
      ],
      "execution_count": 29,
      "outputs": [
        {
          "output_type": "execute_result",
          "data": {
            "text/plain": [
              "KNeighborsRegressor(algorithm='auto', leaf_size=30, metric='minkowski',\n",
              "                    metric_params=None, n_jobs=None, n_neighbors=9, p=2,\n",
              "                    weights='uniform')"
            ]
          },
          "metadata": {
            "tags": []
          },
          "execution_count": 29
        }
      ]
    },
    {
      "cell_type": "markdown",
      "metadata": {
        "id": "UyPh6i_oQZNu",
        "colab_type": "text"
      },
      "source": [
        "## Calculando o EQM"
      ]
    },
    {
      "cell_type": "code",
      "metadata": {
        "id": "707gkyXQbg7j",
        "colab_type": "code",
        "colab": {
          "base_uri": "https://localhost:8080/",
          "height": 53
        },
        "outputId": "63c111c1-6dad-40a1-e2d1-d332207cceb1"
      },
      "source": [
        "from sklearn.metrics import mean_squared_error\n",
        "\n",
        "preditos_treino = knnreg.predict(Xtreino)\n",
        "preditos_teste = knnreg.predict(Xteste)\n",
        "\n",
        "eqm_treino = mean_squared_error(preditos_treino, Ytreino)\n",
        "eqm_teste = mean_squared_error(preditos_teste, Yteste)\n",
        "\n",
        "print('O Erro Quadrático Médio de TREINO foi: {:.2f}'.format(eqm_treino))\n",
        "print('O Erro Quadrático Médio de TESTE foi:  {:.2f}'.format(eqm_teste))"
      ],
      "execution_count": 30,
      "outputs": [
        {
          "output_type": "stream",
          "text": [
            "O Erro Quadrático Médio de TREINO foi: 12.61\n",
            "O Erro Quadrático Médio de TESTE foi:  5.73\n"
          ],
          "name": "stdout"
        }
      ]
    },
    {
      "cell_type": "markdown",
      "metadata": {
        "id": "5Gpn8x-uQdNQ",
        "colab_type": "text"
      },
      "source": [
        "## Plotando as Soluções"
      ]
    },
    {
      "cell_type": "code",
      "metadata": {
        "colab_type": "code",
        "id": "7gPAgwgEbkLo",
        "colab": {
          "base_uri": "https://localhost:8080/",
          "height": 431
        },
        "outputId": "5443bdad-8d4f-49e5-a6f6-58915fe4725d"
      },
      "source": [
        "y = knnreg.predict(x.reshape(-1, 1))\n",
        "plt.figure(figsize = (15, 7))\n",
        "\n",
        "plt.subplot(1, 2, 1) \n",
        "plt.plot(x, y, color = 'green', linewidth = 2, label = 'KNN')\n",
        "plt.scatter(Xtreino, Ytreino, marker = 's', alpha = 0.6, color = 'darkblue')\n",
        "plt.legend()\n",
        "\n",
        "plt.subplot(1, 2, 2) \n",
        "plt.plot(x, y, color = 'green', linewidth = 2, label = 'KNN')\n",
        "plt.scatter(Xteste, Yteste, marker = 's', alpha = 0.6, color = 'red')\n",
        "plt.legend()\n",
        "\n",
        "plt.show()"
      ],
      "execution_count": 31,
      "outputs": [
        {
          "output_type": "display_data",
          "data": {
            "image/png": "[encoded data removed]",
            "text/plain": [
              "<Figure size 1080x504 with 2 Axes>"
            ]
          },
          "metadata": {
            "tags": [],
            "needs_background": "light"
          }
        }
      ]
    },
    {
      "cell_type": "markdown",
      "metadata": {
        "id": "Q-hKYVH-dRnY",
        "colab_type": "text"
      },
      "source": [
        "## **Exercício 12**\n",
        "\n",
        "Dada uma divisão de teste e treinamento, encontre qual é o valor de 'K' que obtém a melhor predição nos dois casos explorados acima (classificação e regressão)\n"
      ]
    },
    {
      "cell_type": "markdown",
      "metadata": {
        "id": "Rpr5XqPidt91",
        "colab_type": "text"
      },
      "source": [
        "## **Exercício 13**\n",
        "\n",
        "Varie a divisão de treinamento e teste e encontre qual é o valor de 'K' que obtém a melhor predição nos dois casos explorados acima (classificação e regressão), nesse novo cenário. \n"
      ]
    },
    {
      "cell_type": "markdown",
      "metadata": {
        "id": "P6lqft7XQsYt",
        "colab_type": "text"
      },
      "source": [
        "## **Links Úteis**\n",
        "\n",
        "-[Documentação a respeito do plot de região](http://rasbt.github.io/mlxtend/user_guide/plotting/plot_decision_regions/#example-9-customizing-the-plotting-style)"
      ]
    }
  ]
}