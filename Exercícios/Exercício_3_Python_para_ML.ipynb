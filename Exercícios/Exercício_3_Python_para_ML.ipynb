{
  "nbformat": 4,
  "nbformat_minor": 0,
  "metadata": {
    "colab": {
      "name": "Exercício 3 - Python para ML.ipynb",
      "provenance": [],
      "authorship_tag": "ABX9TyMmr3ST8UD+pHJoN38vMud2",
      "include_colab_link": true
    },
    "kernelspec": {
      "name": "python3",
      "display_name": "Python 3"
    }
  },
  "cells": [
    {
      "cell_type": "markdown",
      "metadata": {
        "id": "view-in-github",
        "colab_type": "text"
      },
      "source": [
        "<a href=\"https://colab.research.google.com/github/ricardorocha86/Python-para-Machine-Learning/blob/master/Exerc%C3%ADcios/Exerc%C3%ADcio_3_Python_para_ML.ipynb\" target=\"_parent\"><img src=\"https://colab.research.google.com/assets/colab-badge.svg\" alt=\"Open In Colab\"/></a>"
      ]
    },
    {
      "cell_type": "markdown",
      "metadata": {
        "id": "XW7xW90KucKA",
        "colab_type": "text"
      },
      "source": [
        "# **Exercício 3**  \n",
        "\n",
        "Faça um programa que simule uma **slot machine**.\n",
        "\n",
        "**Parte A:** Uma slot machine é uma máquina muito comum em cassinos. A pessoa puxa uma alavanca e aparecem na tela 3 símbolos aleatoriamente, de uma lista com diversos deles. Se os símbolos forem iguais, então a pessoa ganha. A pessoa entrar com um tanto escolhido de fichas, e joga até que acabe. Quando o programa terminar, uma mensagem resumindo os totais que ela ganhou deve ser exibida.\n",
        "\n",
        "**Parte B:** Estime as probabilidades de acontecer cada tipo de prêmio na slot machine."
      ]
    },
    {
      "cell_type": "code",
      "metadata": {
        "id": "2YQB-0JkV92c",
        "colab_type": "code",
        "colab": {
          "base_uri": "https://localhost:8080/",
          "height": 34
        },
        "outputId": "06f7adba-4924-458f-d6c8-b3627366ed68"
      },
      "source": [
        "!pip install emoji "
      ],
      "execution_count": null,
      "outputs": [
        {
          "output_type": "stream",
          "text": [
            "Requirement already satisfied: emoji in /usr/local/lib/python3.6/dist-packages (0.5.4)\n"
          ],
          "name": "stdout"
        }
      ]
    },
    {
      "cell_type": "code",
      "metadata": {
        "id": "X_CU1LS7WHcF",
        "colab_type": "code",
        "colab": {}
      },
      "source": [
        "from random import randint\n",
        "from time import sleep\n",
        "from emoji import emojize "
      ],
      "execution_count": null,
      "outputs": []
    },
    {
      "cell_type": "code",
      "metadata": {
        "id": "wsNQsBXjWHhe",
        "colab_type": "code",
        "colab": {}
      },
      "source": [
        "def SimbolosPremios():\n",
        "    simbolos = [':gem:', ':cherries:', ':banana:', ':poop:']\n",
        "    premios = [15, 10, 5, 3]\n",
        "    return simbolos, premios"
      ],
      "execution_count": null,
      "outputs": []
    },
    {
      "cell_type": "code",
      "metadata": {
        "id": "y-HqXYCkWHlH",
        "colab_type": "code",
        "colab": {}
      },
      "source": [
        "def Linhas(frase, simbolo = '*', cor = ''):\n",
        "    print(cor, end = '')\n",
        "    linha = (len(frase) + 2) * simbolo\n",
        "    print('\\n' + '\\033[1m' + linha)\n",
        "    print(' ' + frase)\n",
        "    print(linha + '\\033[0m')  "
      ],
      "execution_count": null,
      "outputs": []
    },
    {
      "cell_type": "code",
      "metadata": {
        "id": "uAgh9edfWHfr",
        "colab_type": "code",
        "colab": {}
      },
      "source": [
        "def Suspense(e1, e2, e3):\n",
        "    lista = ['\\nAlavanca acionada!     ', e1, '.', '.', '. ', e2, '.', '.', '. ', e3+'!\\n'] \n",
        "    for i in lista:\n",
        "        print(i, end = '')\n",
        "        sleep(0.5)  "
      ],
      "execution_count": null,
      "outputs": []
    },
    {
      "cell_type": "code",
      "metadata": {
        "id": "DGJOIepHWRVX",
        "colab_type": "code",
        "colab": {}
      },
      "source": [
        "def Explicacao():\n",
        "    simbs, premios = SimbolosPremios()\n",
        "    sleep(1.5)\n",
        "    print('-' * 70)\n",
        "    print('\\033[1m' + '\\nRegras:\\n' + '\\033[0m')\n",
        "    for i in range(len(simbs)): \n",
        "        print(emojize('Acerte ' + 3*simbs[i] + '  >>>>>  e ganhe {} fichas!'.format(premios[i]) , use_aliases = True))\n",
        "    print('\\033[1m' + '\\nBoa Sorte! Haha\\n' + '\\033[0m') "
      ],
      "execution_count": null,
      "outputs": []
    },
    {
      "cell_type": "code",
      "metadata": {
        "id": "MRbUOyaGWPd7",
        "colab_type": "code",
        "colab": {}
      },
      "source": [
        "def Jogo():\n",
        "    simbs, premios = SimbolosPremios() \n",
        "    s = len(simbs)\n",
        "\n",
        "    s1 = randint(1, s) - 1\n",
        "    s2 = randint(1, s) - 1\n",
        "    s3 = randint(1, s) - 1\n",
        "\n",
        "    Suspense(emojize(simbs[s1], use_aliases = True), \n",
        "             emojize(simbs[s2], use_aliases = True), \n",
        "             emojize(simbs[s3], use_aliases = True))  \n",
        "\n",
        "    if simbs[s1] == simbs[s2] == simbs[s3]:\n",
        "        premio = premios[simbs.index(simbs[s1])]\n",
        "        Linhas('***** GANHOU! *****', '$', '\\033[92m')\n",
        "        print('\\n' + '\\033[1m' + 'Seu prêmio é de {} fichas!'.format(premio) + '\\033[0m')\n",
        "    else:\n",
        "        print('\\nNão foi dessa vez! :(')\n",
        "        premio = 0\n",
        "   \n",
        "    return premio"
      ],
      "execution_count": null,
      "outputs": []
    },
    {
      "cell_type": "code",
      "metadata": {
        "id": "O4wjr2GeWTUT",
        "colab_type": "code",
        "colab": {}
      },
      "source": [
        "def SlotMachine():\n",
        "    nome = input('- Entre com o seu nome: ') \n",
        "\n",
        "    while True:\n",
        "        fichas0 = input('- Quantas fichas você gostaria de comprar? ')\n",
        "        if fichas0.isdigit():\n",
        "            break\n",
        "        else:\n",
        "            print('\\n**Entrada inválida** - Tente novamente.\\n')\n",
        "\n",
        "    fichas = int(fichas0)\n",
        "\n",
        "    f1 = 'Seja muito bem-vindo, {}!'.format(nome)\n",
        "    Linhas(f1.upper(), '*', '\\033[94m')\n",
        " \n",
        "    Explicacao()\n",
        "\n",
        "    while fichas > 0:\n",
        "        print('-' * 70)\n",
        "        x = input('Aperte ENTER para puxar a alavanca ou digite SAIR para ir embora. ')\n",
        "\n",
        "        if x.lower() == 'sair':\n",
        "            print('-' * 70)\n",
        "            Linhas('Fim de jogo! Você saiu com um total de {} fichas!'.format(fichas), '*', '\\033[94m') \n",
        "            break  \n",
        "        else:\n",
        "            jogo = Jogo()\n",
        "            fichas += jogo -1\n",
        "            print('\\nSeu saldo atual é de fichas é {}'.format(fichas))\n",
        "    else:\n",
        "        print('-' * 80)\n",
        "        Linhas('Fim de jogo! Suas fichas acabaram! Até a próxima! Haha', '*', '\\033[94m')"
      ],
      "execution_count": null,
      "outputs": []
    },
    {
      "cell_type": "code",
      "metadata": {
        "id": "mqiHj92zWXEP",
        "colab_type": "code",
        "colab": {
          "base_uri": "https://localhost:8080/",
          "height": 1000
        },
        "outputId": "85ad59f5-51bd-4745-da1d-fadd28634921"
      },
      "source": [
        "SlotMachine()"
      ],
      "execution_count": null,
      "outputs": [
        {
          "output_type": "stream",
          "text": [
            "- Entre com o seu nome: Ricardo\n",
            "- Quantas fichas você gostaria de comprar? doze\n",
            "\n",
            "**Entrada inválida** - Tente novamente.\n",
            "\n",
            "- Quantas fichas você gostaria de comprar? 12\n",
            "\u001b[94m\n",
            "\u001b[1m********************************\n",
            " SEJA MUITO BEM-VINDO, RICARDO!\n",
            "********************************\u001b[0m\n",
            "----------------------------------------------------------------------\n",
            "\u001b[1m\n",
            "Regras:\n",
            "\u001b[0m\n",
            "Acerte 💎💎💎  >>>>>  e ganhe 15 fichas!\n",
            "Acerte 🍒🍒🍒  >>>>>  e ganhe 10 fichas!\n",
            "Acerte 🍌🍌🍌  >>>>>  e ganhe 5 fichas!\n",
            "Acerte 💩💩💩  >>>>>  e ganhe 3 fichas!\n",
            "\u001b[1m\n",
            "Boa Sorte! Haha\n",
            "\u001b[0m\n",
            "----------------------------------------------------------------------\n",
            "Aperte ENTER para puxar a alavanca ou digite SAIR para ir embora. \n",
            "\n",
            "Alavanca acionada!     💩... 🍌... 🍒!\n",
            "\n",
            "Não foi dessa vez! :(\n",
            "\n",
            "Seu saldo atual é de fichas é 11\n",
            "----------------------------------------------------------------------\n",
            "Aperte ENTER para puxar a alavanca ou digite SAIR para ir embora. \n",
            "\n",
            "Alavanca acionada!     💩... 🍌... 💎!\n",
            "\n",
            "Não foi dessa vez! :(\n",
            "\n",
            "Seu saldo atual é de fichas é 10\n",
            "----------------------------------------------------------------------\n",
            "Aperte ENTER para puxar a alavanca ou digite SAIR para ir embora. \n",
            "\n",
            "Alavanca acionada!     🍒... 💎... 💎!\n",
            "\n",
            "Não foi dessa vez! :(\n",
            "\n",
            "Seu saldo atual é de fichas é 9\n",
            "----------------------------------------------------------------------\n",
            "Aperte ENTER para puxar a alavanca ou digite SAIR para ir embora. \n",
            "\n",
            "Alavanca acionada!     💎... 🍒... 💎!\n",
            "\n",
            "Não foi dessa vez! :(\n",
            "\n",
            "Seu saldo atual é de fichas é 8\n",
            "----------------------------------------------------------------------\n",
            "Aperte ENTER para puxar a alavanca ou digite SAIR para ir embora. sair\n",
            "----------------------------------------------------------------------\n",
            "\u001b[94m\n",
            "\u001b[1m**************************************************\n",
            " Fim de jogo! Você saiu com um total de 8 fichas!\n",
            "**************************************************\u001b[0m\n"
          ],
          "name": "stdout"
        }
      ]
    }
  ]
}