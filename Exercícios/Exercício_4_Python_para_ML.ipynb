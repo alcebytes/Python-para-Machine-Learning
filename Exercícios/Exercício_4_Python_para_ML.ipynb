{
  "nbformat": 4,
  "nbformat_minor": 0,
  "metadata": {
    "colab": {
      "name": "Exercício 4 - Python para ML.ipynb",
      "provenance": [],
      "authorship_tag": "ABX9TyPnwwwmY3+hZx8FR1c03TJE",
      "include_colab_link": true
    },
    "kernelspec": {
      "name": "python3",
      "display_name": "Python 3"
    }
  },
  "cells": [
    {
      "cell_type": "markdown",
      "metadata": {
        "id": "view-in-github",
        "colab_type": "text"
      },
      "source": [
        "<a href=\"https://colab.research.google.com/github/ricardorocha86/Python-para-Machine-Learning/blob/master/Exerc%C3%ADcios/Exerc%C3%ADcio_4_Python_para_ML.ipynb\" target=\"_parent\"><img src=\"https://colab.research.google.com/assets/colab-badge.svg\" alt=\"Open In Colab\"/></a>"
      ]
    },
    {
      "cell_type": "markdown",
      "metadata": {
        "id": "iTybxsEjYEko",
        "colab_type": "text"
      },
      "source": [
        "# **Exercício 4**\n",
        "\n",
        "Fazer um programa para simular um **álbum de figurinhas**.\n",
        "\n",
        "### EXEMPLO: **Álbum Premier League 2019-2020**\n",
        "1. Total de cromos: **636**\n",
        "2. Preço do livro ilustrado capa brochura: **R\\$ 8,90**\n",
        "3. Envelope com 5 cromos: **R\\$ 2,50**\n",
        "\n",
        "### SUPOSIÇÕES\n",
        "1. Todas as figurinhas tem igual probabilidade de serem sorteradas\n",
        "2. Um pacotinho é comprado por vez  \n",
        "\n",
        "### ALGORITMO\n",
        "1. Comprar um pacotinho de figurinhas (5 figurinhas cada, que podem ser repetidas);\n",
        "2. Colar no álbum e verificar se o álbum está completo;\n",
        "3. Caso esteja incompleto, comprar mais um pacotinho, caso contrário, terminar.\n",
        "\n",
        "### PERGUNTAS\n",
        "1. Qual o valor médio investido para completar o álbum nessas condições?\n",
        "2. Quantos pacotes são necessários comprar, em média, para completar o álbum?\n",
        "3. Qual é a distribuição empírica do valor investido para completar o álbum?\n",
        "4. Quantas vezes saiu a figurinha mais repetida, em média?\n",
        "5. Em média, quantas figurinhas não se repetem ao completar o álbum?\n",
        "6. Qual a probabilidade de se gastar mais que R\\$3000,00 para completar o álbum?\n",
        "7. Qual a probabilidade de se gastar menos que R\\$1500,00 para completar o álbum?\n",
        "8. Qual a probabilidade de se gastar mais do que a média para completar o álbum?\n",
        "9. Qual é o intervalo de confiança de 95% para o gasto ao se completar o álbum?\n",
        "10. Qual o valor médio gasto caso se esteja completando o álbum com mais um amigo?\n",
        "11. Quanto se economiza ao utilizar o cenário da questão 10?\n",
        "12. Qual o valor médio gasto caso se esteja completando o álbum com mais dois amigos?\n",
        "13. Quanto se economiza ao utilizar o cenário da questão 12?"
      ]
    },
    {
      "cell_type": "code",
      "metadata": {
        "id": "h2l9BcKaV_eX",
        "colab_type": "code",
        "colab": {}
      },
      "source": [
        "n_album = 636\n",
        "preco_pacote = 2.50\n",
        "preco_album = 8.90\n",
        "simulacoes = 1000"
      ],
      "execution_count": null,
      "outputs": []
    },
    {
      "cell_type": "code",
      "metadata": {
        "id": "xB0munEeV_n_",
        "colab_type": "code",
        "colab": {}
      },
      "source": [
        "import numpy as np"
      ],
      "execution_count": null,
      "outputs": []
    },
    {
      "cell_type": "code",
      "metadata": {
        "id": "Jvyn7lBTYEtO",
        "colab_type": "code",
        "colab": {
          "base_uri": "https://localhost:8080/",
          "height": 34
        },
        "outputId": "70b1043b-d825-4644-df79-895321a6e29e"
      },
      "source": [
        "# comprando figurinhas até completar o álbum\n",
        "def SimulaAlbum():\n",
        "    album = np.zeros(n_album) \n",
        "    pacotes = 0\n",
        "    while not np.all(album > 0):\n",
        "        pacotinho = np.random.choice(range(n_album), 5)\n",
        "        pacotes += 1\n",
        "\n",
        "        for i in pacotinho:\n",
        "            album[i] += 1\n",
        " \n",
        "\n",
        "    valor_gasto = preco_album + preco_pacote * pacotes \n",
        "\n",
        "    mais_repetida = max(album)\n",
        "\n",
        "    nao_repetidas = sum(album == 1)\n",
        "\n",
        "    # print(album)\n",
        "    return valor_gasto, mais_repetida, nao_repetidas\n",
        "\n",
        "SimulaAlbum()"
      ],
      "execution_count": null,
      "outputs": [
        {
          "output_type": "execute_result",
          "data": {
            "text/plain": [
              "(2311.4, 16.0, 3)"
            ]
          },
          "metadata": {
            "tags": []
          },
          "execution_count": 69
        }
      ]
    },
    {
      "cell_type": "code",
      "metadata": {
        "id": "q1khZHjQoJhg",
        "colab_type": "code",
        "colab": {
          "base_uri": "https://localhost:8080/",
          "height": 188
        },
        "outputId": "3202444b-43aa-425f-d863-d7f1152fcc13"
      },
      "source": [
        "valores = []\n",
        "maisrep = []\n",
        "nao_rep = []\n",
        "\n",
        "for i in range(simulacoes):\n",
        "\n",
        "    s1, s2, s3 = SimulaAlbum()\n",
        "\n",
        "    valores.append(s1)\n",
        "    maisrep.append(s2)\n",
        "    nao_rep.append(s3)\n",
        "\n",
        "    if (i+1) % 100 == 0:\n",
        "        print('Simulação:', i+1, '/', simulacoes)"
      ],
      "execution_count": null,
      "outputs": [
        {
          "output_type": "stream",
          "text": [
            "Simulação: 100 / 1000\n",
            "Simulação: 200 / 1000\n",
            "Simulação: 300 / 1000\n",
            "Simulação: 400 / 1000\n",
            "Simulação: 500 / 1000\n",
            "Simulação: 600 / 1000\n",
            "Simulação: 700 / 1000\n",
            "Simulação: 800 / 1000\n",
            "Simulação: 900 / 1000\n",
            "Simulação: 1000 / 1000\n"
          ],
          "name": "stdout"
        }
      ]
    },
    {
      "cell_type": "markdown",
      "metadata": {
        "id": "PM_3RPS5q_Z9",
        "colab_type": "text"
      },
      "source": [
        "Respostas das perguntas 1 e 2, respecitvamente:"
      ]
    },
    {
      "cell_type": "code",
      "metadata": {
        "id": "aWgOBRkHqoKk",
        "colab_type": "code",
        "colab": {
          "base_uri": "https://localhost:8080/",
          "height": 51
        },
        "outputId": "7c91b7f3-d5de-4531-a35f-57a2769098a7"
      },
      "source": [
        "print('O valor médio aproximado gasto foi:', round(np.mean(valores), 2))\n",
        "print('O numero de pacotes médio aproximado foi:', round((np.mean(valores) - preco_album)/preco_pacote, 2))"
      ],
      "execution_count": null,
      "outputs": [
        {
          "output_type": "stream",
          "text": [
            "O valor médio aproximado gasto foi: 2254.85\n",
            "O numero de pacotes médio aproximado foi: 898.38\n"
          ],
          "name": "stdout"
        }
      ]
    },
    {
      "cell_type": "markdown",
      "metadata": {
        "id": "eFFhtwKkrF__",
        "colab_type": "text"
      },
      "source": [
        "Resposta da pergunta 3:\n",
        "\n",
        "Podemos visualizar a distribuição empírica do valor gasto através do **histograma** dos valores simulados."
      ]
    },
    {
      "cell_type": "code",
      "metadata": {
        "id": "-jMyRhC-rNim",
        "colab_type": "code",
        "colab": {
          "base_uri": "https://localhost:8080/",
          "height": 283
        },
        "outputId": "c56efed8-2671-4ff1-e615-1e5972252b20"
      },
      "source": [
        "import matplotlib.pyplot as plt\n",
        "\n",
        "plt.hist(valores, bins = 20, density = True, edgecolor = 'black')\n",
        "plt.title('Distribuição Empírica do Valor Gasto para Completar o Álbum')\n",
        "plt.show()"
      ],
      "execution_count": null,
      "outputs": [
        {
          "output_type": "display_data",
          "data": {
            "image/png": "[encoded data removed]",
            "text/plain": [
              "<Figure size 432x288 with 1 Axes>"
            ]
          },
          "metadata": {
            "tags": [],
            "needs_background": "light"
          }
        }
      ]
    },
    {
      "cell_type": "markdown",
      "metadata": {
        "id": "N2X3yLPMuFhp",
        "colab_type": "text"
      },
      "source": [
        "4. Quantas vezes saiu a figurinha mais repetida, em média?"
      ]
    },
    {
      "cell_type": "code",
      "metadata": {
        "id": "Wn9DlkB1uhkE",
        "colab_type": "code",
        "colab": {
          "base_uri": "https://localhost:8080/",
          "height": 34
        },
        "outputId": "a8288edb-93e7-4555-91c2-31cd6b8addc9"
      },
      "source": [
        "np.mean(maisrep)"
      ],
      "execution_count": null,
      "outputs": [
        {
          "output_type": "execute_result",
          "data": {
            "text/plain": [
              "16.634"
            ]
          },
          "metadata": {
            "tags": []
          },
          "execution_count": 93
        }
      ]
    },
    {
      "cell_type": "markdown",
      "metadata": {
        "id": "-0nYkG_auKsW",
        "colab_type": "text"
      },
      "source": [
        "5. Em média, quantas figurinhas não se repetem ao completar o álbum?\n"
      ]
    },
    {
      "cell_type": "code",
      "metadata": {
        "id": "Ivwzf17vuiB6",
        "colab_type": "code",
        "colab": {
          "base_uri": "https://localhost:8080/",
          "height": 34
        },
        "outputId": "d9d03993-7d76-4ff5-8cbb-7fa0e81f5bef"
      },
      "source": [
        "np.mean(nao_rep)"
      ],
      "execution_count": null,
      "outputs": [
        {
          "output_type": "execute_result",
          "data": {
            "text/plain": [
              "6.825"
            ]
          },
          "metadata": {
            "tags": []
          },
          "execution_count": 92
        }
      ]
    },
    {
      "cell_type": "markdown",
      "metadata": {
        "id": "8OF1qw53uKvZ",
        "colab_type": "text"
      },
      "source": [
        "6. Qual a probabilidade de se gastar mais que R\\$3000,00 para completar o álbum?\n"
      ]
    },
    {
      "cell_type": "code",
      "metadata": {
        "id": "hKA0-Ioguild",
        "colab_type": "code",
        "colab": {
          "base_uri": "https://localhost:8080/",
          "height": 34
        },
        "outputId": "30f5a7c3-a547-4742-9fb2-2425f67c5199"
      },
      "source": [
        "(np.array(valores) > 3000).mean()"
      ],
      "execution_count": null,
      "outputs": [
        {
          "output_type": "execute_result",
          "data": {
            "text/plain": [
              "0.055"
            ]
          },
          "metadata": {
            "tags": []
          },
          "execution_count": 97
        }
      ]
    },
    {
      "cell_type": "markdown",
      "metadata": {
        "id": "9W7fAmdwuKyP",
        "colab_type": "text"
      },
      "source": [
        "7. Qual a probabilidade de se gastar menos que R\\$1500,00 para completar o álbum?\n"
      ]
    },
    {
      "cell_type": "code",
      "metadata": {
        "id": "iG81qzvWujAI",
        "colab_type": "code",
        "colab": {
          "base_uri": "https://localhost:8080/",
          "height": 34
        },
        "outputId": "9eec4eb3-2162-45ba-dec1-1e5e977a6602"
      },
      "source": [
        "(np.array(valores) < 1500).mean()"
      ],
      "execution_count": null,
      "outputs": [
        {
          "output_type": "execute_result",
          "data": {
            "text/plain": [
              "0.002"
            ]
          },
          "metadata": {
            "tags": []
          },
          "execution_count": 98
        }
      ]
    },
    {
      "cell_type": "markdown",
      "metadata": {
        "id": "ZrZuJaiuuK01",
        "colab_type": "text"
      },
      "source": [
        "8. Qual a probabilidade de se gastar mais do que a média para completar o álbum?\n"
      ]
    },
    {
      "cell_type": "code",
      "metadata": {
        "id": "D8jWoXaNujdH",
        "colab_type": "code",
        "colab": {
          "base_uri": "https://localhost:8080/",
          "height": 34
        },
        "outputId": "dd53d0b4-7733-4be4-b5b7-37daecee2418"
      },
      "source": [
        "(np.array(valores) > np.mean(valores)).mean()"
      ],
      "execution_count": null,
      "outputs": [
        {
          "output_type": "execute_result",
          "data": {
            "text/plain": [
              "0.429"
            ]
          },
          "metadata": {
            "tags": []
          },
          "execution_count": 99
        }
      ]
    },
    {
      "cell_type": "markdown",
      "metadata": {
        "id": "DN2MYPMSuK3S",
        "colab_type": "text"
      },
      "source": [
        "9. Qual é o intervalo de confiança de 95% para o gasto ao se completar o álbum?\n"
      ]
    },
    {
      "cell_type": "code",
      "metadata": {
        "id": "qGEkU6emuj6H",
        "colab_type": "code",
        "colab": {
          "base_uri": "https://localhost:8080/",
          "height": 34
        },
        "outputId": "9aba72b7-e8c5-488b-a114-71f4f3f4ce3e"
      },
      "source": [
        "np.quantile(valores, [0.025, 0.975])"
      ],
      "execution_count": null,
      "outputs": [
        {
          "output_type": "execute_result",
          "data": {
            "text/plain": [
              "array([1678.8375, 3181.7125])"
            ]
          },
          "metadata": {
            "tags": []
          },
          "execution_count": 100
        }
      ]
    },
    {
      "cell_type": "markdown",
      "metadata": {
        "id": "daDpM8RCuWou",
        "colab_type": "text"
      },
      "source": [
        "10. Qual o valor médio gasto caso se esteja completando o álbum com mais um amigo?\n"
      ]
    },
    {
      "cell_type": "code",
      "metadata": {
        "id": "fG5utz8hukUh",
        "colab_type": "code",
        "colab": {}
      },
      "source": [
        "def SimulaAlbum2(n_amigos):\n",
        "    album = np.zeros(n_album) \n",
        "    pacotes = 0\n",
        "    while not np.all(album > n_amigos):\n",
        "        pacotinho = np.random.choice(range(n_album), 5)\n",
        "        pacotes += 1\n",
        "\n",
        "        for i in pacotinho:\n",
        "            album[i] += 1\n",
        " \n",
        "\n",
        "    valor_gasto = preco_album + preco_pacote * pacotes \n",
        " \n",
        "    return valor_gasto"
      ],
      "execution_count": null,
      "outputs": []
    },
    {
      "cell_type": "code",
      "metadata": {
        "id": "SwqhlAak0A81",
        "colab_type": "code",
        "colab": {
          "base_uri": "https://localhost:8080/",
          "height": 188
        },
        "outputId": "22e8af2a-2c03-417f-f479-97222f366aa8"
      },
      "source": [
        "valores2 = []\n",
        "\n",
        "for i in range(simulacoes):\n",
        "\n",
        "    valores2.append(SimulaAlbum2(n_amigos = 1))\n",
        "\n",
        "    if (i+1) % 100 == 0:\n",
        "        print('Simulação:', i+1, '/', simulacoes)"
      ],
      "execution_count": null,
      "outputs": [
        {
          "output_type": "stream",
          "text": [
            "Simulação: 100 / 1000\n",
            "Simulação: 200 / 1000\n",
            "Simulação: 300 / 1000\n",
            "Simulação: 400 / 1000\n",
            "Simulação: 500 / 1000\n",
            "Simulação: 600 / 1000\n",
            "Simulação: 700 / 1000\n",
            "Simulação: 800 / 1000\n",
            "Simulação: 900 / 1000\n",
            "Simulação: 1000 / 1000\n"
          ],
          "name": "stdout"
        }
      ]
    },
    {
      "cell_type": "code",
      "metadata": {
        "id": "lymCejs51xcg",
        "colab_type": "code",
        "colab": {
          "base_uri": "https://localhost:8080/",
          "height": 34
        },
        "outputId": "d44842bf-adb9-42d2-c5e0-72ae6a407b8f"
      },
      "source": [
        "valor2 = np.mean(valores2)/2\n",
        "print(valor2)"
      ],
      "execution_count": null,
      "outputs": [
        {
          "output_type": "stream",
          "text": [
            "1487.7200000000005\n"
          ],
          "name": "stdout"
        }
      ]
    },
    {
      "cell_type": "markdown",
      "metadata": {
        "id": "z2kS_pVtuW0r",
        "colab_type": "text"
      },
      "source": [
        "11. Quanto se economiza ao utilizar o cenário da questão 10?\n"
      ]
    },
    {
      "cell_type": "code",
      "metadata": {
        "id": "VuW3lqUSukwK",
        "colab_type": "code",
        "colab": {
          "base_uri": "https://localhost:8080/",
          "height": 34
        },
        "outputId": "df6ce2f3-422f-49ec-9af8-90756bf62be5"
      },
      "source": [
        "1 - valor2/np.mean(valores)"
      ],
      "execution_count": null,
      "outputs": [
        {
          "output_type": "execute_result",
          "data": {
            "text/plain": [
              "0.3402118549168568"
            ]
          },
          "metadata": {
            "tags": []
          },
          "execution_count": 109
        }
      ]
    },
    {
      "cell_type": "markdown",
      "metadata": {
        "id": "n5OXlAoJuW88",
        "colab_type": "text"
      },
      "source": [
        "12. Qual o valor médio gasto caso se esteja completando o álbum com mais dois amigos?\n"
      ]
    },
    {
      "cell_type": "code",
      "metadata": {
        "id": "HUWcTxLlulJU",
        "colab_type": "code",
        "colab": {
          "base_uri": "https://localhost:8080/",
          "height": 188
        },
        "outputId": "b6ee97cb-7894-4cc0-c365-b799d18bc12d"
      },
      "source": [
        "valores3 = []\n",
        "\n",
        "for i in range(simulacoes):\n",
        "\n",
        "    valores3.append(SimulaAlbum2(n_amigos = 2))\n",
        "\n",
        "    if (i+1) % 100 == 0:\n",
        "        print('Simulação:', i+1, '/', simulacoes)"
      ],
      "execution_count": null,
      "outputs": [
        {
          "output_type": "stream",
          "text": [
            "Simulação: 100 / 1000\n",
            "Simulação: 200 / 1000\n",
            "Simulação: 300 / 1000\n",
            "Simulação: 400 / 1000\n",
            "Simulação: 500 / 1000\n",
            "Simulação: 600 / 1000\n",
            "Simulação: 700 / 1000\n",
            "Simulação: 800 / 1000\n",
            "Simulação: 900 / 1000\n",
            "Simulação: 1000 / 1000\n"
          ],
          "name": "stdout"
        }
      ]
    },
    {
      "cell_type": "code",
      "metadata": {
        "id": "FORO2yEK2JNi",
        "colab_type": "code",
        "colab": {
          "base_uri": "https://localhost:8080/",
          "height": 34
        },
        "outputId": "8b1036f0-943d-41d5-991d-a4cf8448514b"
      },
      "source": [
        "valor3 = np.mean(valores3)/3\n",
        "valor3"
      ],
      "execution_count": null,
      "outputs": [
        {
          "output_type": "execute_result",
          "data": {
            "text/plain": [
              "1208.8175000000003"
            ]
          },
          "metadata": {
            "tags": []
          },
          "execution_count": 112
        }
      ]
    },
    {
      "cell_type": "markdown",
      "metadata": {
        "id": "PsswhmybuXNa",
        "colab_type": "text"
      },
      "source": [
        "13. Quanto se economiza ao utilizar o cenário da questão 12?"
      ]
    },
    {
      "cell_type": "code",
      "metadata": {
        "id": "b4WX6qL-uln1",
        "colab_type": "code",
        "colab": {
          "base_uri": "https://localhost:8080/",
          "height": 34
        },
        "outputId": "2ddfcac0-cf30-4995-ebbd-fb3aebd330ed"
      },
      "source": [
        "1 - valor3/np.mean(valores)"
      ],
      "execution_count": null,
      "outputs": [
        {
          "output_type": "execute_result",
          "data": {
            "text/plain": [
              "0.4639021750940753"
            ]
          },
          "metadata": {
            "tags": []
          },
          "execution_count": 113
        }
      ]
    },
    {
      "cell_type": "markdown",
      "metadata": {
        "id": "DBDmjJTC4HbQ",
        "colab_type": "text"
      },
      "source": [
        "Bônus: E se fossem um grupo de 10 pessoas, como ficaria?"
      ]
    },
    {
      "cell_type": "code",
      "metadata": {
        "id": "bFcLNxaP4Oar",
        "colab_type": "code",
        "colab": {
          "base_uri": "https://localhost:8080/",
          "height": 188
        },
        "outputId": "0f902406-c1ec-4aea-88a5-a9e71bb56d59"
      },
      "source": [
        "valores10 = []\n",
        "\n",
        "for i in range(simulacoes):\n",
        "\n",
        "    valores10.append(SimulaAlbum2(n_amigos = 9))\n",
        "\n",
        "    if (i+1) % 100 == 0:\n",
        "        print('Simulação:', i+1, '/', simulacoes)"
      ],
      "execution_count": null,
      "outputs": [
        {
          "output_type": "stream",
          "text": [
            "Simulação: 100 / 1000\n",
            "Simulação: 200 / 1000\n",
            "Simulação: 300 / 1000\n",
            "Simulação: 400 / 1000\n",
            "Simulação: 500 / 1000\n",
            "Simulação: 600 / 1000\n",
            "Simulação: 700 / 1000\n",
            "Simulação: 800 / 1000\n",
            "Simulação: 900 / 1000\n",
            "Simulação: 1000 / 1000\n"
          ],
          "name": "stdout"
        }
      ]
    },
    {
      "cell_type": "code",
      "metadata": {
        "id": "_SJQjUGD4HGY",
        "colab_type": "code",
        "colab": {
          "base_uri": "https://localhost:8080/",
          "height": 34
        },
        "outputId": "a39fb76a-5864-45eb-d3c0-ee93b908bcd2"
      },
      "source": [
        "valor10 = np.mean(valores10)/10\n",
        "valor10"
      ],
      "execution_count": null,
      "outputs": [
        {
          "output_type": "execute_result",
          "data": {
            "text/plain": [
              "728.6354999999998"
            ]
          },
          "metadata": {
            "tags": []
          },
          "execution_count": 119
        }
      ]
    },
    {
      "cell_type": "code",
      "metadata": {
        "id": "FABMQsQp4bNZ",
        "colab_type": "code",
        "colab": {
          "base_uri": "https://localhost:8080/",
          "height": 34
        },
        "outputId": "9724c296-655e-4118-ff78-322aedba7909"
      },
      "source": [
        "1 - valor10/np.mean(valores)"
      ],
      "execution_count": null,
      "outputs": [
        {
          "output_type": "execute_result",
          "data": {
            "text/plain": [
              "0.6768578328000374"
            ]
          },
          "metadata": {
            "tags": []
          },
          "execution_count": 120
        }
      ]
    }
  ]
}