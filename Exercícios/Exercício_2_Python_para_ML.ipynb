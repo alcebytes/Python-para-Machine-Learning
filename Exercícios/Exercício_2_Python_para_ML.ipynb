{
  "nbformat": 4,
  "nbformat_minor": 0,
  "metadata": {
    "colab": {
      "name": "Exercício 2 - Python para ML.ipynb",
      "provenance": [],
      "authorship_tag": "ABX9TyORmLtqYZ8eAhlK2avxcK/N",
      "include_colab_link": true
    },
    "kernelspec": {
      "name": "python3",
      "display_name": "Python 3"
    }
  },
  "cells": [
    {
      "cell_type": "markdown",
      "metadata": {
        "id": "view-in-github",
        "colab_type": "text"
      },
      "source": [
        "<a href=\"https://colab.research.google.com/github/ricardorocha86/Python-para-Machine-Learning/blob/master/Exerc%C3%ADcios/Exerc%C3%ADcio_2_Python_para_ML.ipynb\" target=\"_parent\"><img src=\"https://colab.research.google.com/assets/colab-badge.svg\" alt=\"Open In Colab\"/></a>"
      ]
    },
    {
      "cell_type": "markdown",
      "metadata": {
        "id": "ZRfHvmZ548aq",
        "colab_type": "text"
      },
      "source": [
        "\n",
        "# **Exercício 2** \n",
        "Crie uma função que simule o jogo do *jokempô*, isto é, dada a entrada de dois jogadores, retorne a indicação de qual deles venceu. "
      ]
    },
    {
      "cell_type": "code",
      "metadata": {
        "id": "0AnSsiTIhxMr",
        "colab_type": "code",
        "colab": {}
      },
      "source": [
        "def Jokenpo(j1, j2):\n",
        "    jogador1 = j1.lower()\n",
        "    jogador2 = j2.lower()\n",
        "\n",
        "    simbolos = ['pedra', 'papel', 'tesoura']\n",
        "\n",
        "    if jogador1 not in simbolos or jogador2 not in simbolos:\n",
        "        print('Entradas Inadequadas!')\n",
        "    else:\n",
        "        if jogador1 == 'pedra':\n",
        "            if jogador2 == 'tesoura':\n",
        "                print('Jogador 1 Ganhou!')\n",
        "            elif jogador2 == 'papel':\n",
        "                print('Jogador 2 Ganhou!')\n",
        "            else:\n",
        "                print('Empate')\n",
        "\n",
        "        if jogador1 == 'papel':\n",
        "            if jogador2 == 'pedra':\n",
        "                print('Jogador 1 Ganhou!')\n",
        "            elif jogador2 == 'tesoura':\n",
        "                print('Jogador 2 Ganhou!')\n",
        "            else:\n",
        "                print('Empate')\n",
        "\n",
        "        if jogador1 == 'tesoura':\n",
        "            if jogador2 == 'papel':\n",
        "                print('Jogador 1 Ganhou!')\n",
        "            elif jogador2 == 'pedra':\n",
        "                print('Jogador 2 Ganhou!')\n",
        "            else:\n",
        "                print('Empate')        "
      ],
      "execution_count": null,
      "outputs": []
    },
    {
      "cell_type": "code",
      "metadata": {
        "id": "ddaIT7X5jueH",
        "colab_type": "code",
        "colab": {
          "base_uri": "https://localhost:8080/",
          "height": 35
        },
        "outputId": "339be7d3-a254-4b4b-d646-4b5668dfae70"
      },
      "source": [
        "Jokenpo('TESOURA', 'papeL')"
      ],
      "execution_count": null,
      "outputs": [
        {
          "output_type": "stream",
          "text": [
            "Jogador 1 Ganhou!\n"
          ],
          "name": "stdout"
        }
      ]
    },
    {
      "cell_type": "code",
      "metadata": {
        "id": "1LjjsAGMjxhe",
        "colab_type": "code",
        "colab": {}
      },
      "source": [
        ""
      ],
      "execution_count": null,
      "outputs": []
    }
  ]
}