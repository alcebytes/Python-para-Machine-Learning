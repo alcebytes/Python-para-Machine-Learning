{
  "nbformat": 4,
  "nbformat_minor": 0,
  "metadata": {
    "colab": {
      "name": "Exercício 1 - Python para ML.ipynb",
      "provenance": [],
      "authorship_tag": "ABX9TyONY2u/B2ggiA3qUCge0nNe",
      "include_colab_link": true
    },
    "kernelspec": {
      "name": "python3",
      "display_name": "Python 3"
    }
  },
  "cells": [
    {
      "cell_type": "markdown",
      "metadata": {
        "id": "view-in-github",
        "colab_type": "text"
      },
      "source": [
        "<a href=\"https://colab.research.google.com/github/ricardorocha86/Python-para-Machine-Learning/blob/master/Exerc%C3%ADcios/Exerc%C3%ADcio_1_Python_para_ML.ipynb\" target=\"_parent\"><img src=\"https://colab.research.google.com/assets/colab-badge.svg\" alt=\"Open In Colab\"/></a>"
      ]
    },
    {
      "cell_type": "markdown",
      "metadata": {
        "id": "r1X1E_zEge7K",
        "colab_type": "text"
      },
      "source": [
        "# **Exercício 1** \n",
        "Considere um balde cuja base possui raio  $r_1$ e altura igual ao diâmetro da base. Considere também uma esfera de raio $r_2$ cheia de água. Faça um programa que verifique se o volume da esfera cabe no balde, dados os valores de $r_1$ e $r_2$. \n"
      ]
    },
    {
      "cell_type": "code",
      "metadata": {
        "id": "mwVI08PmZ1bC",
        "colab_type": "code",
        "colab": {}
      },
      "source": [
        "from math import pi\n",
        "\n",
        "def Verificadora(r_1, r_2):\n",
        "    if r_1 <= 0:\n",
        "        print('O valor do raio do balde é inadequado!')\n",
        "    elif r_2 <= 0:\n",
        "        print('O valor do raio da esfera é inadequado!')\n",
        "    else:\n",
        "        vol_balde = 2*pi*r_1**3 \n",
        "        vol_esfera = (4/3)*pi*r_2**2\n",
        "\n",
        "        if vol_balde < vol_esfera:\n",
        "            print('O volume da esfera NÂO cabe no balde')\n",
        "        else:\n",
        "            print('O volume da esfera CABE no balde')"
      ],
      "execution_count": null,
      "outputs": []
    },
    {
      "cell_type": "code",
      "metadata": {
        "id": "8_uKuFo9cjKz",
        "colab_type": "code",
        "colab": {
          "base_uri": "https://localhost:8080/",
          "height": 35
        },
        "outputId": "4938e663-ab05-43c3-c3b4-01068d773692"
      },
      "source": [
        "Verificadora(1,1)"
      ],
      "execution_count": null,
      "outputs": [
        {
          "output_type": "stream",
          "text": [
            "O volume da esfera CABE no balde\n"
          ],
          "name": "stdout"
        }
      ]
    },
    {
      "cell_type": "code",
      "metadata": {
        "id": "gtaT3ENPcnHy",
        "colab_type": "code",
        "colab": {}
      },
      "source": [
        ""
      ],
      "execution_count": null,
      "outputs": []
    }
  ]
}