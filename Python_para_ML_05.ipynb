{
  "nbformat": 4,
  "nbformat_minor": 0,
  "metadata": {
    "colab": {
      "name": "Python para ML - 05.ipynb",
      "provenance": [],
      "authorship_tag": "ABX9TyO+JmYW3LHuA5mxUBNoGPLS",
      "include_colab_link": true
    },
    "kernelspec": {
      "name": "python3",
      "display_name": "Python 3"
    }
  },
  "cells": [
    {
      "cell_type": "markdown",
      "metadata": {
        "id": "view-in-github",
        "colab_type": "text"
      },
      "source": [
        "<a href=\"https://colab.research.google.com/github/ricardorocha86/Python-para-Machine-Learning/blob/master/Python_para_ML_05.ipynb\" target=\"_parent\"><img src=\"https://colab.research.google.com/assets/colab-badge.svg\" alt=\"Open In Colab\"/></a>"
      ]
    },
    {
      "cell_type": "markdown",
      "metadata": {
        "id": "QvWwixKvVqYe",
        "colab_type": "text"
      },
      "source": [
        "![texto alternativo](https://raw.githubusercontent.com/ricardorocha86/Python-para-Machine-Learning/master/Imagens/capa%20-%20python%20para%20ml%2005.jpg)\n"
      ]
    },
    {
      "cell_type": "markdown",
      "metadata": {
        "id": "BNsCsDcRxq5K",
        "colab_type": "text"
      },
      "source": [
        "# **Python para Machine Learning** - Parte 5"
      ]
    },
    {
      "cell_type": "markdown",
      "metadata": {
        "id": "e5ci8BYxxrLn",
        "colab_type": "text"
      },
      "source": [
        "Nesse notebook vamos ver:\n",
        "- Pandas: loc e iloc\n",
        "- Pandas: Groupby\n",
        "- Exercício "
      ]
    },
    {
      "cell_type": "markdown",
      "metadata": {
        "id": "5GjMyuwrxrQh",
        "colab_type": "text"
      },
      "source": [
        "## **LOC e ILOC**"
      ]
    },
    {
      "cell_type": "code",
      "metadata": {
        "id": "ft2wEEuymnsB",
        "colab_type": "code",
        "colab": {}
      },
      "source": [
        "import pandas as pd"
      ],
      "execution_count": 2,
      "outputs": []
    },
    {
      "cell_type": "code",
      "metadata": {
        "id": "gRIADk2bmYhd",
        "colab_type": "code",
        "colab": {
          "base_uri": "https://localhost:8080/",
          "height": 206
        },
        "outputId": "c6eb4ef0-f209-47f8-84cb-b6cbe2df8a99"
      },
      "source": [
        "url = 'https://raw.githubusercontent.com/ricardorocha86/Dados-Redes-Sociais/master/Social_Network_Ads.csv'\n",
        "ads = pd.read_csv(url)\n",
        "ads.head()"
      ],
      "execution_count": 3,
      "outputs": [
        {
          "output_type": "execute_result",
          "data": {
            "text/html": [
              "<div>\n",
              "<style scoped>\n",
              "    .dataframe tbody tr th:only-of-type {\n",
              "        vertical-align: middle;\n",
              "    }\n",
              "\n",
              "    .dataframe tbody tr th {\n",
              "        vertical-align: top;\n",
              "    }\n",
              "\n",
              "    .dataframe thead th {\n",
              "        text-align: right;\n",
              "    }\n",
              "</style>\n",
              "<table border=\"1\" class=\"dataframe\">\n",
              "  <thead>\n",
              "    <tr style=\"text-align: right;\">\n",
              "      <th></th>\n",
              "      <th>User ID</th>\n",
              "      <th>Gender</th>\n",
              "      <th>Age</th>\n",
              "      <th>EstimatedSalary</th>\n",
              "      <th>Purchased</th>\n",
              "    </tr>\n",
              "  </thead>\n",
              "  <tbody>\n",
              "    <tr>\n",
              "      <th>0</th>\n",
              "      <td>15624510</td>\n",
              "      <td>Male</td>\n",
              "      <td>19.0</td>\n",
              "      <td>19000.0</td>\n",
              "      <td>0</td>\n",
              "    </tr>\n",
              "    <tr>\n",
              "      <th>1</th>\n",
              "      <td>15810944</td>\n",
              "      <td>Male</td>\n",
              "      <td>35.0</td>\n",
              "      <td>20000.0</td>\n",
              "      <td>0</td>\n",
              "    </tr>\n",
              "    <tr>\n",
              "      <th>2</th>\n",
              "      <td>15668575</td>\n",
              "      <td>Female</td>\n",
              "      <td>26.0</td>\n",
              "      <td>43000.0</td>\n",
              "      <td>0</td>\n",
              "    </tr>\n",
              "    <tr>\n",
              "      <th>3</th>\n",
              "      <td>15603246</td>\n",
              "      <td>Female</td>\n",
              "      <td>27.0</td>\n",
              "      <td>57000.0</td>\n",
              "      <td>0</td>\n",
              "    </tr>\n",
              "    <tr>\n",
              "      <th>4</th>\n",
              "      <td>15804002</td>\n",
              "      <td>Male</td>\n",
              "      <td>19.0</td>\n",
              "      <td>76000.0</td>\n",
              "      <td>0</td>\n",
              "    </tr>\n",
              "  </tbody>\n",
              "</table>\n",
              "</div>"
            ],
            "text/plain": [
              "    User ID  Gender   Age  EstimatedSalary  Purchased\n",
              "0  15624510    Male  19.0          19000.0          0\n",
              "1  15810944    Male  35.0          20000.0          0\n",
              "2  15668575  Female  26.0          43000.0          0\n",
              "3  15603246  Female  27.0          57000.0          0\n",
              "4  15804002    Male  19.0          76000.0          0"
            ]
          },
          "metadata": {
            "tags": []
          },
          "execution_count": 3
        }
      ]
    },
    {
      "cell_type": "markdown",
      "metadata": {
        "id": "2uVUGaSGNNTC",
        "colab_type": "text"
      },
      "source": [
        "Comandos **loc** e **iloc**\n",
        "\n",
        "O comando loc permite filtrar conjuntos de dados usando listas booleanas (comparadores) e acessar colunas pelo nome. \n",
        "\n",
        "Sua sintaxe é a seguinte DataFrame.loc[ linhas , colunas ]\n",
        "\n",
        "e é similar ao uso de DataFrame[ colunas ][ linhas ] \n",
        "\n",
        "Veja o exemplo abaixo duas maneiras de chegar na mesma informação, respondendo a pergunta: Qual a média de idade do público feminino ?"
      ]
    },
    {
      "cell_type": "code",
      "metadata": {
        "id": "rOmRaDL8M1pe",
        "colab_type": "code",
        "colab": {
          "base_uri": "https://localhost:8080/",
          "height": 36
        },
        "outputId": "9198dd6d-9463-43d2-ac8c-9f1f44189bc6"
      },
      "source": [
        "ads.loc[ads['Gender'] == 'Female', 'Age' ].mean()"
      ],
      "execution_count": 4,
      "outputs": [
        {
          "output_type": "execute_result",
          "data": {
            "text/plain": [
              "38.411764705882355"
            ]
          },
          "metadata": {
            "tags": []
          },
          "execution_count": 4
        }
      ]
    },
    {
      "cell_type": "code",
      "metadata": {
        "id": "zfL4RW3jNCIM",
        "colab_type": "code",
        "colab": {
          "base_uri": "https://localhost:8080/",
          "height": 36
        },
        "outputId": "0f2e17cb-11f9-4b3c-9528-0d8ee2498d81"
      },
      "source": [
        " ads[ads['Gender'] == 'Female']['Age'].mean()"
      ],
      "execution_count": 5,
      "outputs": [
        {
          "output_type": "execute_result",
          "data": {
            "text/plain": [
              "38.411764705882355"
            ]
          },
          "metadata": {
            "tags": []
          },
          "execution_count": 5
        }
      ]
    },
    {
      "cell_type": "markdown",
      "metadata": {
        "id": "-jU3CpunO6GN",
        "colab_type": "text"
      },
      "source": [
        "O comando **iloc** utilizamos quando queremos buscar em um conjunto de dados pelo índice número (iloc = index location)"
      ]
    },
    {
      "cell_type": "code",
      "metadata": {
        "id": "6ctTWfBuO5dS",
        "colab_type": "code",
        "colab": {
          "base_uri": "https://localhost:8080/",
          "height": 363
        },
        "outputId": "994d576f-be21-440b-9364-9c3d2d8d84c3"
      },
      "source": [
        "ads.iloc[100:110, 1:5]"
      ],
      "execution_count": 6,
      "outputs": [
        {
          "output_type": "execute_result",
          "data": {
            "text/html": [
              "<div>\n",
              "<style scoped>\n",
              "    .dataframe tbody tr th:only-of-type {\n",
              "        vertical-align: middle;\n",
              "    }\n",
              "\n",
              "    .dataframe tbody tr th {\n",
              "        vertical-align: top;\n",
              "    }\n",
              "\n",
              "    .dataframe thead th {\n",
              "        text-align: right;\n",
              "    }\n",
              "</style>\n",
              "<table border=\"1\" class=\"dataframe\">\n",
              "  <thead>\n",
              "    <tr style=\"text-align: right;\">\n",
              "      <th></th>\n",
              "      <th>Gender</th>\n",
              "      <th>Age</th>\n",
              "      <th>EstimatedSalary</th>\n",
              "      <th>Purchased</th>\n",
              "    </tr>\n",
              "  </thead>\n",
              "  <tbody>\n",
              "    <tr>\n",
              "      <th>100</th>\n",
              "      <td>Male</td>\n",
              "      <td>27.0</td>\n",
              "      <td>88000.0</td>\n",
              "      <td>0</td>\n",
              "    </tr>\n",
              "    <tr>\n",
              "      <th>101</th>\n",
              "      <td>Male</td>\n",
              "      <td>28.0</td>\n",
              "      <td>59000.0</td>\n",
              "      <td>0</td>\n",
              "    </tr>\n",
              "    <tr>\n",
              "      <th>102</th>\n",
              "      <td>Female</td>\n",
              "      <td>32.0</td>\n",
              "      <td>86000.0</td>\n",
              "      <td>0</td>\n",
              "    </tr>\n",
              "    <tr>\n",
              "      <th>103</th>\n",
              "      <td>Female</td>\n",
              "      <td>33.0</td>\n",
              "      <td>149000.0</td>\n",
              "      <td>1</td>\n",
              "    </tr>\n",
              "    <tr>\n",
              "      <th>104</th>\n",
              "      <td>Female</td>\n",
              "      <td>19.0</td>\n",
              "      <td>21000.0</td>\n",
              "      <td>0</td>\n",
              "    </tr>\n",
              "    <tr>\n",
              "      <th>105</th>\n",
              "      <td>Male</td>\n",
              "      <td>21.0</td>\n",
              "      <td>72000.0</td>\n",
              "      <td>0</td>\n",
              "    </tr>\n",
              "    <tr>\n",
              "      <th>106</th>\n",
              "      <td>Female</td>\n",
              "      <td>26.0</td>\n",
              "      <td>35000.0</td>\n",
              "      <td>0</td>\n",
              "    </tr>\n",
              "    <tr>\n",
              "      <th>107</th>\n",
              "      <td>Male</td>\n",
              "      <td>27.0</td>\n",
              "      <td>89000.0</td>\n",
              "      <td>0</td>\n",
              "    </tr>\n",
              "    <tr>\n",
              "      <th>108</th>\n",
              "      <td>Male</td>\n",
              "      <td>26.0</td>\n",
              "      <td>86000.0</td>\n",
              "      <td>0</td>\n",
              "    </tr>\n",
              "    <tr>\n",
              "      <th>109</th>\n",
              "      <td>Female</td>\n",
              "      <td>38.0</td>\n",
              "      <td>80000.0</td>\n",
              "      <td>0</td>\n",
              "    </tr>\n",
              "  </tbody>\n",
              "</table>\n",
              "</div>"
            ],
            "text/plain": [
              "     Gender   Age  EstimatedSalary  Purchased\n",
              "100    Male  27.0          88000.0          0\n",
              "101    Male  28.0          59000.0          0\n",
              "102  Female  32.0          86000.0          0\n",
              "103  Female  33.0         149000.0          1\n",
              "104  Female  19.0          21000.0          0\n",
              "105    Male  21.0          72000.0          0\n",
              "106  Female  26.0          35000.0          0\n",
              "107    Male  27.0          89000.0          0\n",
              "108    Male  26.0          86000.0          0\n",
              "109  Female  38.0          80000.0          0"
            ]
          },
          "metadata": {
            "tags": []
          },
          "execution_count": 6
        }
      ]
    },
    {
      "cell_type": "markdown",
      "metadata": {
        "id": "0dLb0kcVd_SH",
        "colab_type": "text"
      },
      "source": [
        "Qual a diferença da média de idade e salário estimado entre os possíveis gêneros?\n"
      ]
    },
    {
      "cell_type": "code",
      "metadata": {
        "id": "LeelYAvsWgN0",
        "colab_type": "code",
        "colab": {
          "base_uri": "https://localhost:8080/",
          "height": 73
        },
        "outputId": "788e7fd3-9687-4fa6-d2b0-8fdc3e3f591a"
      },
      "source": [
        "ads[ads['Gender'] == 'Female'][['Age', 'EstimatedSalary']].mean()"
      ],
      "execution_count": 7,
      "outputs": [
        {
          "output_type": "execute_result",
          "data": {
            "text/plain": [
              "Age                   38.411765\n",
              "EstimatedSalary    71759.803922\n",
              "dtype: float64"
            ]
          },
          "metadata": {
            "tags": []
          },
          "execution_count": 7
        }
      ]
    },
    {
      "cell_type": "code",
      "metadata": {
        "id": "zmu7YNhyaX-E",
        "colab_type": "code",
        "colab": {
          "base_uri": "https://localhost:8080/",
          "height": 73
        },
        "outputId": "2f0adead-a5d1-413d-e3ba-37bdda83aa08"
      },
      "source": [
        "ads[ads['Gender'] == 'Male'][['Age', 'EstimatedSalary']].mean()"
      ],
      "execution_count": 8,
      "outputs": [
        {
          "output_type": "execute_result",
          "data": {
            "text/plain": [
              "Age                   36.867347\n",
              "EstimatedSalary    67642.857143\n",
              "dtype: float64"
            ]
          },
          "metadata": {
            "tags": []
          },
          "execution_count": 8
        }
      ]
    },
    {
      "cell_type": "markdown",
      "metadata": {
        "id": "Z5IBe8dlWi0w",
        "colab_type": "text"
      },
      "source": [
        "Qual a diferença da média de idade e salário estimado entre quem comprou e quem não comprou?"
      ]
    },
    {
      "cell_type": "code",
      "metadata": {
        "id": "GlNRmlpgWrR3",
        "colab_type": "code",
        "colab": {
          "base_uri": "https://localhost:8080/",
          "height": 73
        },
        "outputId": "00b90013-5e83-4916-fd84-9ac7ab2d944e"
      },
      "source": [
        "ads[ads['Purchased'] == 0][['Age', 'EstimatedSalary']].mean()"
      ],
      "execution_count": 9,
      "outputs": [
        {
          "output_type": "execute_result",
          "data": {
            "text/plain": [
              "Age                   32.793774\n",
              "EstimatedSalary    60544.747082\n",
              "dtype: float64"
            ]
          },
          "metadata": {
            "tags": []
          },
          "execution_count": 9
        }
      ]
    },
    {
      "cell_type": "code",
      "metadata": {
        "id": "JZObSjiKcVqf",
        "colab_type": "code",
        "colab": {
          "base_uri": "https://localhost:8080/",
          "height": 73
        },
        "outputId": "b584e55b-a34e-4a00-9072-809c559bab79"
      },
      "source": [
        "ads[ads['Purchased'] == 1][['Age', 'EstimatedSalary']].mean()"
      ],
      "execution_count": 10,
      "outputs": [
        {
          "output_type": "execute_result",
          "data": {
            "text/plain": [
              "Age                   46.391608\n",
              "EstimatedSalary    86272.727273\n",
              "dtype: float64"
            ]
          },
          "metadata": {
            "tags": []
          },
          "execution_count": 10
        }
      ]
    },
    {
      "cell_type": "markdown",
      "metadata": {
        "id": "foP0eIqrYFhl",
        "colab_type": "text"
      },
      "source": [
        "O que se pode dizer sobre a compra entre os gêneros?"
      ]
    },
    {
      "cell_type": "code",
      "metadata": {
        "id": "e-gcQMgSgEsp",
        "colab_type": "code",
        "colab": {
          "base_uri": "https://localhost:8080/",
          "height": 73
        },
        "outputId": "067f08d8-b69b-476e-df3a-65066db26ddb"
      },
      "source": [
        "ads[ads['Purchased'] == 0]['Gender'].value_counts()"
      ],
      "execution_count": 11,
      "outputs": [
        {
          "output_type": "execute_result",
          "data": {
            "text/plain": [
              "Male      130\n",
              "Female    127\n",
              "Name: Gender, dtype: int64"
            ]
          },
          "metadata": {
            "tags": []
          },
          "execution_count": 11
        }
      ]
    },
    {
      "cell_type": "code",
      "metadata": {
        "id": "bnbk3vMnYNg1",
        "colab_type": "code",
        "colab": {
          "base_uri": "https://localhost:8080/",
          "height": 248
        },
        "outputId": "2fc51c34-9493-400d-b6dd-4a23289ef85b"
      },
      "source": [
        "ads[ads['Purchased'] == 0]['Gender'].value_counts().plot(kind = 'pie');"
      ],
      "execution_count": 13,
      "outputs": [
        {
          "output_type": "display_data",
          "data": {
            "image/png": "[encoded data removed]",
            "text/plain": [
              "<Figure size 432x288 with 1 Axes>"
            ]
          },
          "metadata": {
            "tags": []
          }
        }
      ]
    },
    {
      "cell_type": "code",
      "metadata": {
        "id": "2cnsB4Axayun",
        "colab_type": "code",
        "colab": {
          "base_uri": "https://localhost:8080/",
          "height": 73
        },
        "outputId": "9d37f52c-0978-4e3d-d5e6-2d6e5081903c"
      },
      "source": [
        "ads[ads['Purchased'] == 1]['Gender'].value_counts()"
      ],
      "execution_count": 14,
      "outputs": [
        {
          "output_type": "execute_result",
          "data": {
            "text/plain": [
              "Female    77\n",
              "Male      66\n",
              "Name: Gender, dtype: int64"
            ]
          },
          "metadata": {
            "tags": []
          },
          "execution_count": 14
        }
      ]
    },
    {
      "cell_type": "code",
      "metadata": {
        "id": "DPdbmBAAf9iN",
        "colab_type": "code",
        "colab": {
          "base_uri": "https://localhost:8080/",
          "height": 248
        },
        "outputId": "2e625233-96f7-4258-e09e-68bf926e6185"
      },
      "source": [
        "ads[ads['Purchased'] == 1]['Gender'].value_counts().plot(kind = 'pie');"
      ],
      "execution_count": 16,
      "outputs": [
        {
          "output_type": "display_data",
          "data": {
            "image/png": "[encoded data removed]",
            "text/plain": [
              "<Figure size 432x288 with 1 Axes>"
            ]
          },
          "metadata": {
            "tags": []
          }
        }
      ]
    },
    {
      "cell_type": "markdown",
      "metadata": {
        "id": "kZ1oSvUHgOnv",
        "colab_type": "text"
      },
      "source": [
        "## **GroupBy**"
      ]
    },
    {
      "cell_type": "markdown",
      "metadata": {
        "id": "KJD1EwmpaFNE",
        "colab_type": "text"
      },
      "source": [
        "O groupby é útil quando queremos agregar uma informação e ter o seu resumo por grupos. Ela simplifica o trabalho que fizemos nesse notebook até agora. Veja os exemplos."
      ]
    },
    {
      "cell_type": "code",
      "metadata": {
        "id": "rG6ehf8shsKT",
        "colab_type": "code",
        "colab": {
          "base_uri": "https://localhost:8080/",
          "height": 92
        },
        "outputId": "7afe5d58-8056-438f-f649-cfb8a6eebbf3"
      },
      "source": [
        "ads['Age'].groupby(ads['Gender']).mean()"
      ],
      "execution_count": 17,
      "outputs": [
        {
          "output_type": "execute_result",
          "data": {
            "text/plain": [
              "Gender\n",
              "Female    38.411765\n",
              "Male      36.867347\n",
              "Name: Age, dtype: float64"
            ]
          },
          "metadata": {
            "tags": []
          },
          "execution_count": 17
        }
      ]
    },
    {
      "cell_type": "code",
      "metadata": {
        "id": "KYshe-cAh5Lz",
        "colab_type": "code",
        "colab": {
          "base_uri": "https://localhost:8080/",
          "height": 143
        },
        "outputId": "245afe25-5842-458b-f9d4-5a043a536c9b"
      },
      "source": [
        "ads[['Age', 'EstimatedSalary']].groupby(ads['Gender']).mean()"
      ],
      "execution_count": 18,
      "outputs": [
        {
          "output_type": "execute_result",
          "data": {
            "text/html": [
              "<div>\n",
              "<style scoped>\n",
              "    .dataframe tbody tr th:only-of-type {\n",
              "        vertical-align: middle;\n",
              "    }\n",
              "\n",
              "    .dataframe tbody tr th {\n",
              "        vertical-align: top;\n",
              "    }\n",
              "\n",
              "    .dataframe thead th {\n",
              "        text-align: right;\n",
              "    }\n",
              "</style>\n",
              "<table border=\"1\" class=\"dataframe\">\n",
              "  <thead>\n",
              "    <tr style=\"text-align: right;\">\n",
              "      <th></th>\n",
              "      <th>Age</th>\n",
              "      <th>EstimatedSalary</th>\n",
              "    </tr>\n",
              "    <tr>\n",
              "      <th>Gender</th>\n",
              "      <th></th>\n",
              "      <th></th>\n",
              "    </tr>\n",
              "  </thead>\n",
              "  <tbody>\n",
              "    <tr>\n",
              "      <th>Female</th>\n",
              "      <td>38.411765</td>\n",
              "      <td>71759.803922</td>\n",
              "    </tr>\n",
              "    <tr>\n",
              "      <th>Male</th>\n",
              "      <td>36.867347</td>\n",
              "      <td>67642.857143</td>\n",
              "    </tr>\n",
              "  </tbody>\n",
              "</table>\n",
              "</div>"
            ],
            "text/plain": [
              "              Age  EstimatedSalary\n",
              "Gender                            \n",
              "Female  38.411765     71759.803922\n",
              "Male    36.867347     67642.857143"
            ]
          },
          "metadata": {
            "tags": []
          },
          "execution_count": 18
        }
      ]
    },
    {
      "cell_type": "code",
      "metadata": {
        "id": "beDSr5gtidQl",
        "colab_type": "code",
        "colab": {
          "base_uri": "https://localhost:8080/",
          "height": 143
        },
        "outputId": "16da1568-2ec8-425e-ea10-ea1eff7c12cb"
      },
      "source": [
        "ads[['Age', 'EstimatedSalary']].groupby(ads['Gender']).max()"
      ],
      "execution_count": 19,
      "outputs": [
        {
          "output_type": "execute_result",
          "data": {
            "text/html": [
              "<div>\n",
              "<style scoped>\n",
              "    .dataframe tbody tr th:only-of-type {\n",
              "        vertical-align: middle;\n",
              "    }\n",
              "\n",
              "    .dataframe tbody tr th {\n",
              "        vertical-align: top;\n",
              "    }\n",
              "\n",
              "    .dataframe thead th {\n",
              "        text-align: right;\n",
              "    }\n",
              "</style>\n",
              "<table border=\"1\" class=\"dataframe\">\n",
              "  <thead>\n",
              "    <tr style=\"text-align: right;\">\n",
              "      <th></th>\n",
              "      <th>Age</th>\n",
              "      <th>EstimatedSalary</th>\n",
              "    </tr>\n",
              "    <tr>\n",
              "      <th>Gender</th>\n",
              "      <th></th>\n",
              "      <th></th>\n",
              "    </tr>\n",
              "  </thead>\n",
              "  <tbody>\n",
              "    <tr>\n",
              "      <th>Female</th>\n",
              "      <td>60.0</td>\n",
              "      <td>150000.0</td>\n",
              "    </tr>\n",
              "    <tr>\n",
              "      <th>Male</th>\n",
              "      <td>60.0</td>\n",
              "      <td>150000.0</td>\n",
              "    </tr>\n",
              "  </tbody>\n",
              "</table>\n",
              "</div>"
            ],
            "text/plain": [
              "         Age  EstimatedSalary\n",
              "Gender                       \n",
              "Female  60.0         150000.0\n",
              "Male    60.0         150000.0"
            ]
          },
          "metadata": {
            "tags": []
          },
          "execution_count": 19
        }
      ]
    },
    {
      "cell_type": "code",
      "metadata": {
        "id": "iYbqb3sjiiYc",
        "colab_type": "code",
        "colab": {
          "base_uri": "https://localhost:8080/",
          "height": 143
        },
        "outputId": "c69090d5-1d02-4656-9f12-0c96666edb70"
      },
      "source": [
        "ads[['Age', 'EstimatedSalary']].groupby(ads['Gender']).min()"
      ],
      "execution_count": 20,
      "outputs": [
        {
          "output_type": "execute_result",
          "data": {
            "text/html": [
              "<div>\n",
              "<style scoped>\n",
              "    .dataframe tbody tr th:only-of-type {\n",
              "        vertical-align: middle;\n",
              "    }\n",
              "\n",
              "    .dataframe tbody tr th {\n",
              "        vertical-align: top;\n",
              "    }\n",
              "\n",
              "    .dataframe thead th {\n",
              "        text-align: right;\n",
              "    }\n",
              "</style>\n",
              "<table border=\"1\" class=\"dataframe\">\n",
              "  <thead>\n",
              "    <tr style=\"text-align: right;\">\n",
              "      <th></th>\n",
              "      <th>Age</th>\n",
              "      <th>EstimatedSalary</th>\n",
              "    </tr>\n",
              "    <tr>\n",
              "      <th>Gender</th>\n",
              "      <th></th>\n",
              "      <th></th>\n",
              "    </tr>\n",
              "  </thead>\n",
              "  <tbody>\n",
              "    <tr>\n",
              "      <th>Female</th>\n",
              "      <td>18.0</td>\n",
              "      <td>15000.0</td>\n",
              "    </tr>\n",
              "    <tr>\n",
              "      <th>Male</th>\n",
              "      <td>18.0</td>\n",
              "      <td>15000.0</td>\n",
              "    </tr>\n",
              "  </tbody>\n",
              "</table>\n",
              "</div>"
            ],
            "text/plain": [
              "         Age  EstimatedSalary\n",
              "Gender                       \n",
              "Female  18.0          15000.0\n",
              "Male    18.0          15000.0"
            ]
          },
          "metadata": {
            "tags": []
          },
          "execution_count": 20
        }
      ]
    },
    {
      "cell_type": "code",
      "metadata": {
        "id": "igPPoxnyijTc",
        "colab_type": "code",
        "colab": {
          "base_uri": "https://localhost:8080/",
          "height": 143
        },
        "outputId": "9a0f0d50-2d0f-4126-fc36-8be1b89b19ae"
      },
      "source": [
        "ads[['Age', 'EstimatedSalary', 'Purchased']].groupby(ads['Gender']).mean()"
      ],
      "execution_count": 21,
      "outputs": [
        {
          "output_type": "execute_result",
          "data": {
            "text/html": [
              "<div>\n",
              "<style scoped>\n",
              "    .dataframe tbody tr th:only-of-type {\n",
              "        vertical-align: middle;\n",
              "    }\n",
              "\n",
              "    .dataframe tbody tr th {\n",
              "        vertical-align: top;\n",
              "    }\n",
              "\n",
              "    .dataframe thead th {\n",
              "        text-align: right;\n",
              "    }\n",
              "</style>\n",
              "<table border=\"1\" class=\"dataframe\">\n",
              "  <thead>\n",
              "    <tr style=\"text-align: right;\">\n",
              "      <th></th>\n",
              "      <th>Age</th>\n",
              "      <th>EstimatedSalary</th>\n",
              "      <th>Purchased</th>\n",
              "    </tr>\n",
              "    <tr>\n",
              "      <th>Gender</th>\n",
              "      <th></th>\n",
              "      <th></th>\n",
              "      <th></th>\n",
              "    </tr>\n",
              "  </thead>\n",
              "  <tbody>\n",
              "    <tr>\n",
              "      <th>Female</th>\n",
              "      <td>38.411765</td>\n",
              "      <td>71759.803922</td>\n",
              "      <td>0.377451</td>\n",
              "    </tr>\n",
              "    <tr>\n",
              "      <th>Male</th>\n",
              "      <td>36.867347</td>\n",
              "      <td>67642.857143</td>\n",
              "      <td>0.336735</td>\n",
              "    </tr>\n",
              "  </tbody>\n",
              "</table>\n",
              "</div>"
            ],
            "text/plain": [
              "              Age  EstimatedSalary  Purchased\n",
              "Gender                                       \n",
              "Female  38.411765     71759.803922   0.377451\n",
              "Male    36.867347     67642.857143   0.336735"
            ]
          },
          "metadata": {
            "tags": []
          },
          "execution_count": 21
        }
      ]
    },
    {
      "cell_type": "code",
      "metadata": {
        "id": "WUIIRWQyinwF",
        "colab_type": "code",
        "colab": {
          "base_uri": "https://localhost:8080/",
          "height": 143
        },
        "outputId": "9761ee21-1d05-4265-ebdb-1d543c0046fc"
      },
      "source": [
        "ads.groupby(ads['Gender']).mean()"
      ],
      "execution_count": 22,
      "outputs": [
        {
          "output_type": "execute_result",
          "data": {
            "text/html": [
              "<div>\n",
              "<style scoped>\n",
              "    .dataframe tbody tr th:only-of-type {\n",
              "        vertical-align: middle;\n",
              "    }\n",
              "\n",
              "    .dataframe tbody tr th {\n",
              "        vertical-align: top;\n",
              "    }\n",
              "\n",
              "    .dataframe thead th {\n",
              "        text-align: right;\n",
              "    }\n",
              "</style>\n",
              "<table border=\"1\" class=\"dataframe\">\n",
              "  <thead>\n",
              "    <tr style=\"text-align: right;\">\n",
              "      <th></th>\n",
              "      <th>User ID</th>\n",
              "      <th>Age</th>\n",
              "      <th>EstimatedSalary</th>\n",
              "      <th>Purchased</th>\n",
              "    </tr>\n",
              "    <tr>\n",
              "      <th>Gender</th>\n",
              "      <th></th>\n",
              "      <th></th>\n",
              "      <th></th>\n",
              "      <th></th>\n",
              "    </tr>\n",
              "  </thead>\n",
              "  <tbody>\n",
              "    <tr>\n",
              "      <th>Female</th>\n",
              "      <td>1.569331e+07</td>\n",
              "      <td>38.411765</td>\n",
              "      <td>71759.803922</td>\n",
              "      <td>0.377451</td>\n",
              "    </tr>\n",
              "    <tr>\n",
              "      <th>Male</th>\n",
              "      <td>1.568970e+07</td>\n",
              "      <td>36.867347</td>\n",
              "      <td>67642.857143</td>\n",
              "      <td>0.336735</td>\n",
              "    </tr>\n",
              "  </tbody>\n",
              "</table>\n",
              "</div>"
            ],
            "text/plain": [
              "             User ID        Age  EstimatedSalary  Purchased\n",
              "Gender                                                     \n",
              "Female  1.569331e+07  38.411765     71759.803922   0.377451\n",
              "Male    1.568970e+07  36.867347     67642.857143   0.336735"
            ]
          },
          "metadata": {
            "tags": []
          },
          "execution_count": 22
        }
      ]
    },
    {
      "cell_type": "code",
      "metadata": {
        "id": "m_NIhUCFivik",
        "colab_type": "code",
        "colab": {
          "base_uri": "https://localhost:8080/",
          "height": 175
        },
        "outputId": "e744f30a-9cd0-47e7-9699-6f11e9992235"
      },
      "source": [
        "ads[['Age']].groupby(ads['Gender']).describe()"
      ],
      "execution_count": 23,
      "outputs": [
        {
          "output_type": "execute_result",
          "data": {
            "text/html": [
              "<div>\n",
              "<style scoped>\n",
              "    .dataframe tbody tr th:only-of-type {\n",
              "        vertical-align: middle;\n",
              "    }\n",
              "\n",
              "    .dataframe tbody tr th {\n",
              "        vertical-align: top;\n",
              "    }\n",
              "\n",
              "    .dataframe thead tr th {\n",
              "        text-align: left;\n",
              "    }\n",
              "\n",
              "    .dataframe thead tr:last-of-type th {\n",
              "        text-align: right;\n",
              "    }\n",
              "</style>\n",
              "<table border=\"1\" class=\"dataframe\">\n",
              "  <thead>\n",
              "    <tr>\n",
              "      <th></th>\n",
              "      <th colspan=\"8\" halign=\"left\">Age</th>\n",
              "    </tr>\n",
              "    <tr>\n",
              "      <th></th>\n",
              "      <th>count</th>\n",
              "      <th>mean</th>\n",
              "      <th>std</th>\n",
              "      <th>min</th>\n",
              "      <th>25%</th>\n",
              "      <th>50%</th>\n",
              "      <th>75%</th>\n",
              "      <th>max</th>\n",
              "    </tr>\n",
              "    <tr>\n",
              "      <th>Gender</th>\n",
              "      <th></th>\n",
              "      <th></th>\n",
              "      <th></th>\n",
              "      <th></th>\n",
              "      <th></th>\n",
              "      <th></th>\n",
              "      <th></th>\n",
              "      <th></th>\n",
              "    </tr>\n",
              "  </thead>\n",
              "  <tbody>\n",
              "    <tr>\n",
              "      <th>Female</th>\n",
              "      <td>204.0</td>\n",
              "      <td>38.411765</td>\n",
              "      <td>10.859019</td>\n",
              "      <td>18.0</td>\n",
              "      <td>30.0</td>\n",
              "      <td>37.5</td>\n",
              "      <td>47.0</td>\n",
              "      <td>60.0</td>\n",
              "    </tr>\n",
              "    <tr>\n",
              "      <th>Male</th>\n",
              "      <td>196.0</td>\n",
              "      <td>36.867347</td>\n",
              "      <td>10.043636</td>\n",
              "      <td>18.0</td>\n",
              "      <td>29.0</td>\n",
              "      <td>36.5</td>\n",
              "      <td>42.0</td>\n",
              "      <td>60.0</td>\n",
              "    </tr>\n",
              "  </tbody>\n",
              "</table>\n",
              "</div>"
            ],
            "text/plain": [
              "          Age                                                    \n",
              "        count       mean        std   min   25%   50%   75%   max\n",
              "Gender                                                           \n",
              "Female  204.0  38.411765  10.859019  18.0  30.0  37.5  47.0  60.0\n",
              "Male    196.0  36.867347  10.043636  18.0  29.0  36.5  42.0  60.0"
            ]
          },
          "metadata": {
            "tags": []
          },
          "execution_count": 23
        }
      ]
    },
    {
      "cell_type": "code",
      "metadata": {
        "id": "20QvWtB5i3RM",
        "colab_type": "code",
        "colab": {
          "base_uri": "https://localhost:8080/",
          "height": 143
        },
        "outputId": "e4f9f559-80ae-4083-f97a-999a22795574"
      },
      "source": [
        "ads['EstimatedSalary'].groupby(ads['Gender']).describe()"
      ],
      "execution_count": 24,
      "outputs": [
        {
          "output_type": "execute_result",
          "data": {
            "text/html": [
              "<div>\n",
              "<style scoped>\n",
              "    .dataframe tbody tr th:only-of-type {\n",
              "        vertical-align: middle;\n",
              "    }\n",
              "\n",
              "    .dataframe tbody tr th {\n",
              "        vertical-align: top;\n",
              "    }\n",
              "\n",
              "    .dataframe thead th {\n",
              "        text-align: right;\n",
              "    }\n",
              "</style>\n",
              "<table border=\"1\" class=\"dataframe\">\n",
              "  <thead>\n",
              "    <tr style=\"text-align: right;\">\n",
              "      <th></th>\n",
              "      <th>count</th>\n",
              "      <th>mean</th>\n",
              "      <th>std</th>\n",
              "      <th>min</th>\n",
              "      <th>25%</th>\n",
              "      <th>50%</th>\n",
              "      <th>75%</th>\n",
              "      <th>max</th>\n",
              "    </tr>\n",
              "    <tr>\n",
              "      <th>Gender</th>\n",
              "      <th></th>\n",
              "      <th></th>\n",
              "      <th></th>\n",
              "      <th></th>\n",
              "      <th></th>\n",
              "      <th></th>\n",
              "      <th></th>\n",
              "      <th></th>\n",
              "    </tr>\n",
              "  </thead>\n",
              "  <tbody>\n",
              "    <tr>\n",
              "      <th>Female</th>\n",
              "      <td>204.0</td>\n",
              "      <td>71759.803922</td>\n",
              "      <td>35595.236189</td>\n",
              "      <td>15000.0</td>\n",
              "      <td>44000.0</td>\n",
              "      <td>70500.0</td>\n",
              "      <td>90750.0</td>\n",
              "      <td>150000.0</td>\n",
              "    </tr>\n",
              "    <tr>\n",
              "      <th>Male</th>\n",
              "      <td>196.0</td>\n",
              "      <td>67642.857143</td>\n",
              "      <td>32421.819181</td>\n",
              "      <td>15000.0</td>\n",
              "      <td>43000.0</td>\n",
              "      <td>68000.0</td>\n",
              "      <td>86000.0</td>\n",
              "      <td>150000.0</td>\n",
              "    </tr>\n",
              "  </tbody>\n",
              "</table>\n",
              "</div>"
            ],
            "text/plain": [
              "        count          mean           std  ...      50%      75%       max\n",
              "Gender                                     ...                            \n",
              "Female  204.0  71759.803922  35595.236189  ...  70500.0  90750.0  150000.0\n",
              "Male    196.0  67642.857143  32421.819181  ...  68000.0  86000.0  150000.0\n",
              "\n",
              "[2 rows x 8 columns]"
            ]
          },
          "metadata": {
            "tags": []
          },
          "execution_count": 24
        }
      ]
    },
    {
      "cell_type": "code",
      "metadata": {
        "id": "QW5gqFZnjE7E",
        "colab_type": "code",
        "colab": {
          "base_uri": "https://localhost:8080/",
          "height": 143
        },
        "outputId": "9c413c92-0b0f-46aa-c787-ed37c16f169d"
      },
      "source": [
        "ads['Age'].groupby(ads['Gender']).describe()"
      ],
      "execution_count": 25,
      "outputs": [
        {
          "output_type": "execute_result",
          "data": {
            "text/html": [
              "<div>\n",
              "<style scoped>\n",
              "    .dataframe tbody tr th:only-of-type {\n",
              "        vertical-align: middle;\n",
              "    }\n",
              "\n",
              "    .dataframe tbody tr th {\n",
              "        vertical-align: top;\n",
              "    }\n",
              "\n",
              "    .dataframe thead th {\n",
              "        text-align: right;\n",
              "    }\n",
              "</style>\n",
              "<table border=\"1\" class=\"dataframe\">\n",
              "  <thead>\n",
              "    <tr style=\"text-align: right;\">\n",
              "      <th></th>\n",
              "      <th>count</th>\n",
              "      <th>mean</th>\n",
              "      <th>std</th>\n",
              "      <th>min</th>\n",
              "      <th>25%</th>\n",
              "      <th>50%</th>\n",
              "      <th>75%</th>\n",
              "      <th>max</th>\n",
              "    </tr>\n",
              "    <tr>\n",
              "      <th>Gender</th>\n",
              "      <th></th>\n",
              "      <th></th>\n",
              "      <th></th>\n",
              "      <th></th>\n",
              "      <th></th>\n",
              "      <th></th>\n",
              "      <th></th>\n",
              "      <th></th>\n",
              "    </tr>\n",
              "  </thead>\n",
              "  <tbody>\n",
              "    <tr>\n",
              "      <th>Female</th>\n",
              "      <td>204.0</td>\n",
              "      <td>38.411765</td>\n",
              "      <td>10.859019</td>\n",
              "      <td>18.0</td>\n",
              "      <td>30.0</td>\n",
              "      <td>37.5</td>\n",
              "      <td>47.0</td>\n",
              "      <td>60.0</td>\n",
              "    </tr>\n",
              "    <tr>\n",
              "      <th>Male</th>\n",
              "      <td>196.0</td>\n",
              "      <td>36.867347</td>\n",
              "      <td>10.043636</td>\n",
              "      <td>18.0</td>\n",
              "      <td>29.0</td>\n",
              "      <td>36.5</td>\n",
              "      <td>42.0</td>\n",
              "      <td>60.0</td>\n",
              "    </tr>\n",
              "  </tbody>\n",
              "</table>\n",
              "</div>"
            ],
            "text/plain": [
              "        count       mean        std   min   25%   50%   75%   max\n",
              "Gender                                                           \n",
              "Female  204.0  38.411765  10.859019  18.0  30.0  37.5  47.0  60.0\n",
              "Male    196.0  36.867347  10.043636  18.0  29.0  36.5  42.0  60.0"
            ]
          },
          "metadata": {
            "tags": []
          },
          "execution_count": 25
        }
      ]
    },
    {
      "cell_type": "code",
      "metadata": {
        "id": "KZeZ0bS4jZY2",
        "colab_type": "code",
        "colab": {
          "base_uri": "https://localhost:8080/",
          "height": 143
        },
        "outputId": "b69a7b3d-dc47-4ff9-fba4-67c804af5851"
      },
      "source": [
        "ads['Gender'].groupby(ads['Purchased']).describe()"
      ],
      "execution_count": 26,
      "outputs": [
        {
          "output_type": "execute_result",
          "data": {
            "text/html": [
              "<div>\n",
              "<style scoped>\n",
              "    .dataframe tbody tr th:only-of-type {\n",
              "        vertical-align: middle;\n",
              "    }\n",
              "\n",
              "    .dataframe tbody tr th {\n",
              "        vertical-align: top;\n",
              "    }\n",
              "\n",
              "    .dataframe thead th {\n",
              "        text-align: right;\n",
              "    }\n",
              "</style>\n",
              "<table border=\"1\" class=\"dataframe\">\n",
              "  <thead>\n",
              "    <tr style=\"text-align: right;\">\n",
              "      <th></th>\n",
              "      <th>count</th>\n",
              "      <th>unique</th>\n",
              "      <th>top</th>\n",
              "      <th>freq</th>\n",
              "    </tr>\n",
              "    <tr>\n",
              "      <th>Purchased</th>\n",
              "      <th></th>\n",
              "      <th></th>\n",
              "      <th></th>\n",
              "      <th></th>\n",
              "    </tr>\n",
              "  </thead>\n",
              "  <tbody>\n",
              "    <tr>\n",
              "      <th>0</th>\n",
              "      <td>257</td>\n",
              "      <td>2</td>\n",
              "      <td>Male</td>\n",
              "      <td>130</td>\n",
              "    </tr>\n",
              "    <tr>\n",
              "      <th>1</th>\n",
              "      <td>143</td>\n",
              "      <td>2</td>\n",
              "      <td>Female</td>\n",
              "      <td>77</td>\n",
              "    </tr>\n",
              "  </tbody>\n",
              "</table>\n",
              "</div>"
            ],
            "text/plain": [
              "          count unique     top freq\n",
              "Purchased                          \n",
              "0           257      2    Male  130\n",
              "1           143      2  Female   77"
            ]
          },
          "metadata": {
            "tags": []
          },
          "execution_count": 26
        }
      ]
    },
    {
      "cell_type": "code",
      "metadata": {
        "id": "BHuq-XiejfID",
        "colab_type": "code",
        "colab": {
          "base_uri": "https://localhost:8080/",
          "height": 143
        },
        "outputId": "c138e3c1-9701-4351-a9dd-c180a2d2b6ce"
      },
      "source": [
        "ads['Age'].groupby(ads['Purchased']).describe()"
      ],
      "execution_count": 27,
      "outputs": [
        {
          "output_type": "execute_result",
          "data": {
            "text/html": [
              "<div>\n",
              "<style scoped>\n",
              "    .dataframe tbody tr th:only-of-type {\n",
              "        vertical-align: middle;\n",
              "    }\n",
              "\n",
              "    .dataframe tbody tr th {\n",
              "        vertical-align: top;\n",
              "    }\n",
              "\n",
              "    .dataframe thead th {\n",
              "        text-align: right;\n",
              "    }\n",
              "</style>\n",
              "<table border=\"1\" class=\"dataframe\">\n",
              "  <thead>\n",
              "    <tr style=\"text-align: right;\">\n",
              "      <th></th>\n",
              "      <th>count</th>\n",
              "      <th>mean</th>\n",
              "      <th>std</th>\n",
              "      <th>min</th>\n",
              "      <th>25%</th>\n",
              "      <th>50%</th>\n",
              "      <th>75%</th>\n",
              "      <th>max</th>\n",
              "    </tr>\n",
              "    <tr>\n",
              "      <th>Purchased</th>\n",
              "      <th></th>\n",
              "      <th></th>\n",
              "      <th></th>\n",
              "      <th></th>\n",
              "      <th></th>\n",
              "      <th></th>\n",
              "      <th></th>\n",
              "      <th></th>\n",
              "    </tr>\n",
              "  </thead>\n",
              "  <tbody>\n",
              "    <tr>\n",
              "      <th>0</th>\n",
              "      <td>257.0</td>\n",
              "      <td>32.793774</td>\n",
              "      <td>7.985844</td>\n",
              "      <td>18.0</td>\n",
              "      <td>26.0</td>\n",
              "      <td>34.0</td>\n",
              "      <td>38.0</td>\n",
              "      <td>59.0</td>\n",
              "    </tr>\n",
              "    <tr>\n",
              "      <th>1</th>\n",
              "      <td>143.0</td>\n",
              "      <td>46.391608</td>\n",
              "      <td>8.612172</td>\n",
              "      <td>27.0</td>\n",
              "      <td>39.5</td>\n",
              "      <td>47.0</td>\n",
              "      <td>53.0</td>\n",
              "      <td>60.0</td>\n",
              "    </tr>\n",
              "  </tbody>\n",
              "</table>\n",
              "</div>"
            ],
            "text/plain": [
              "           count       mean       std   min   25%   50%   75%   max\n",
              "Purchased                                                          \n",
              "0          257.0  32.793774  7.985844  18.0  26.0  34.0  38.0  59.0\n",
              "1          143.0  46.391608  8.612172  27.0  39.5  47.0  53.0  60.0"
            ]
          },
          "metadata": {
            "tags": []
          },
          "execution_count": 27
        }
      ]
    },
    {
      "cell_type": "code",
      "metadata": {
        "id": "W4fiWzZej0dx",
        "colab_type": "code",
        "colab": {
          "base_uri": "https://localhost:8080/",
          "height": 143
        },
        "outputId": "06a536cb-42dd-4891-b47d-0968c4483036"
      },
      "source": [
        "ads['EstimatedSalary'].groupby(ads['Purchased']).describe()"
      ],
      "execution_count": 28,
      "outputs": [
        {
          "output_type": "execute_result",
          "data": {
            "text/html": [
              "<div>\n",
              "<style scoped>\n",
              "    .dataframe tbody tr th:only-of-type {\n",
              "        vertical-align: middle;\n",
              "    }\n",
              "\n",
              "    .dataframe tbody tr th {\n",
              "        vertical-align: top;\n",
              "    }\n",
              "\n",
              "    .dataframe thead th {\n",
              "        text-align: right;\n",
              "    }\n",
              "</style>\n",
              "<table border=\"1\" class=\"dataframe\">\n",
              "  <thead>\n",
              "    <tr style=\"text-align: right;\">\n",
              "      <th></th>\n",
              "      <th>count</th>\n",
              "      <th>mean</th>\n",
              "      <th>std</th>\n",
              "      <th>min</th>\n",
              "      <th>25%</th>\n",
              "      <th>50%</th>\n",
              "      <th>75%</th>\n",
              "      <th>max</th>\n",
              "    </tr>\n",
              "    <tr>\n",
              "      <th>Purchased</th>\n",
              "      <th></th>\n",
              "      <th></th>\n",
              "      <th></th>\n",
              "      <th></th>\n",
              "      <th></th>\n",
              "      <th></th>\n",
              "      <th></th>\n",
              "      <th></th>\n",
              "    </tr>\n",
              "  </thead>\n",
              "  <tbody>\n",
              "    <tr>\n",
              "      <th>0</th>\n",
              "      <td>257.0</td>\n",
              "      <td>60544.747082</td>\n",
              "      <td>24351.570102</td>\n",
              "      <td>15000.0</td>\n",
              "      <td>44000.0</td>\n",
              "      <td>61000.0</td>\n",
              "      <td>77000.0</td>\n",
              "      <td>141000.0</td>\n",
              "    </tr>\n",
              "    <tr>\n",
              "      <th>1</th>\n",
              "      <td>143.0</td>\n",
              "      <td>86272.727273</td>\n",
              "      <td>42064.200064</td>\n",
              "      <td>20000.0</td>\n",
              "      <td>41000.0</td>\n",
              "      <td>90000.0</td>\n",
              "      <td>122500.0</td>\n",
              "      <td>150000.0</td>\n",
              "    </tr>\n",
              "  </tbody>\n",
              "</table>\n",
              "</div>"
            ],
            "text/plain": [
              "           count          mean           std  ...      50%       75%       max\n",
              "Purchased                                     ...                             \n",
              "0          257.0  60544.747082  24351.570102  ...  61000.0   77000.0  141000.0\n",
              "1          143.0  86272.727273  42064.200064  ...  90000.0  122500.0  150000.0\n",
              "\n",
              "[2 rows x 8 columns]"
            ]
          },
          "metadata": {
            "tags": []
          },
          "execution_count": 28
        }
      ]
    },
    {
      "cell_type": "code",
      "metadata": {
        "id": "sU-x_ZyAj2Yt",
        "colab_type": "code",
        "colab": {
          "base_uri": "https://localhost:8080/",
          "height": 206
        },
        "outputId": "70c201c9-8e82-4495-efb8-e702afe8a8b9"
      },
      "source": [
        "ads['Age'].groupby([ads['Purchased'], ads['Gender']]).describe().round(2)"
      ],
      "execution_count": 29,
      "outputs": [
        {
          "output_type": "execute_result",
          "data": {
            "text/html": [
              "<div>\n",
              "<style scoped>\n",
              "    .dataframe tbody tr th:only-of-type {\n",
              "        vertical-align: middle;\n",
              "    }\n",
              "\n",
              "    .dataframe tbody tr th {\n",
              "        vertical-align: top;\n",
              "    }\n",
              "\n",
              "    .dataframe thead th {\n",
              "        text-align: right;\n",
              "    }\n",
              "</style>\n",
              "<table border=\"1\" class=\"dataframe\">\n",
              "  <thead>\n",
              "    <tr style=\"text-align: right;\">\n",
              "      <th></th>\n",
              "      <th></th>\n",
              "      <th>count</th>\n",
              "      <th>mean</th>\n",
              "      <th>std</th>\n",
              "      <th>min</th>\n",
              "      <th>25%</th>\n",
              "      <th>50%</th>\n",
              "      <th>75%</th>\n",
              "      <th>max</th>\n",
              "    </tr>\n",
              "    <tr>\n",
              "      <th>Purchased</th>\n",
              "      <th>Gender</th>\n",
              "      <th></th>\n",
              "      <th></th>\n",
              "      <th></th>\n",
              "      <th></th>\n",
              "      <th></th>\n",
              "      <th></th>\n",
              "      <th></th>\n",
              "      <th></th>\n",
              "    </tr>\n",
              "  </thead>\n",
              "  <tbody>\n",
              "    <tr>\n",
              "      <th rowspan=\"2\" valign=\"top\">0</th>\n",
              "      <th>Female</th>\n",
              "      <td>127.0</td>\n",
              "      <td>33.11</td>\n",
              "      <td>8.47</td>\n",
              "      <td>18.0</td>\n",
              "      <td>27.0</td>\n",
              "      <td>33.0</td>\n",
              "      <td>39.0</td>\n",
              "      <td>59.0</td>\n",
              "    </tr>\n",
              "    <tr>\n",
              "      <th>Male</th>\n",
              "      <td>130.0</td>\n",
              "      <td>32.48</td>\n",
              "      <td>7.50</td>\n",
              "      <td>18.0</td>\n",
              "      <td>26.0</td>\n",
              "      <td>34.5</td>\n",
              "      <td>38.0</td>\n",
              "      <td>49.0</td>\n",
              "    </tr>\n",
              "    <tr>\n",
              "      <th rowspan=\"2\" valign=\"top\">1</th>\n",
              "      <th>Female</th>\n",
              "      <td>77.0</td>\n",
              "      <td>47.16</td>\n",
              "      <td>8.46</td>\n",
              "      <td>27.0</td>\n",
              "      <td>42.0</td>\n",
              "      <td>48.0</td>\n",
              "      <td>53.0</td>\n",
              "      <td>60.0</td>\n",
              "    </tr>\n",
              "    <tr>\n",
              "      <th>Male</th>\n",
              "      <td>66.0</td>\n",
              "      <td>45.50</td>\n",
              "      <td>8.76</td>\n",
              "      <td>28.0</td>\n",
              "      <td>39.0</td>\n",
              "      <td>46.0</td>\n",
              "      <td>50.5</td>\n",
              "      <td>60.0</td>\n",
              "    </tr>\n",
              "  </tbody>\n",
              "</table>\n",
              "</div>"
            ],
            "text/plain": [
              "                  count   mean   std   min   25%   50%   75%   max\n",
              "Purchased Gender                                                  \n",
              "0         Female  127.0  33.11  8.47  18.0  27.0  33.0  39.0  59.0\n",
              "          Male    130.0  32.48  7.50  18.0  26.0  34.5  38.0  49.0\n",
              "1         Female   77.0  47.16  8.46  27.0  42.0  48.0  53.0  60.0\n",
              "          Male     66.0  45.50  8.76  28.0  39.0  46.0  50.5  60.0"
            ]
          },
          "metadata": {
            "tags": []
          },
          "execution_count": 29
        }
      ]
    },
    {
      "cell_type": "code",
      "metadata": {
        "id": "m0ITif0SkUFL",
        "colab_type": "code",
        "colab": {
          "base_uri": "https://localhost:8080/",
          "height": 206
        },
        "outputId": "c5404f09-c8b1-4e34-9b93-28e72b9e1371"
      },
      "source": [
        "ads['EstimatedSalary'].groupby([ads['Purchased'], ads['Gender']]).describe().round(2)"
      ],
      "execution_count": 30,
      "outputs": [
        {
          "output_type": "execute_result",
          "data": {
            "text/html": [
              "<div>\n",
              "<style scoped>\n",
              "    .dataframe tbody tr th:only-of-type {\n",
              "        vertical-align: middle;\n",
              "    }\n",
              "\n",
              "    .dataframe tbody tr th {\n",
              "        vertical-align: top;\n",
              "    }\n",
              "\n",
              "    .dataframe thead th {\n",
              "        text-align: right;\n",
              "    }\n",
              "</style>\n",
              "<table border=\"1\" class=\"dataframe\">\n",
              "  <thead>\n",
              "    <tr style=\"text-align: right;\">\n",
              "      <th></th>\n",
              "      <th></th>\n",
              "      <th>count</th>\n",
              "      <th>mean</th>\n",
              "      <th>std</th>\n",
              "      <th>min</th>\n",
              "      <th>25%</th>\n",
              "      <th>50%</th>\n",
              "      <th>75%</th>\n",
              "      <th>max</th>\n",
              "    </tr>\n",
              "    <tr>\n",
              "      <th>Purchased</th>\n",
              "      <th>Gender</th>\n",
              "      <th></th>\n",
              "      <th></th>\n",
              "      <th></th>\n",
              "      <th></th>\n",
              "      <th></th>\n",
              "      <th></th>\n",
              "      <th></th>\n",
              "      <th></th>\n",
              "    </tr>\n",
              "  </thead>\n",
              "  <tbody>\n",
              "    <tr>\n",
              "      <th rowspan=\"2\" valign=\"top\">0</th>\n",
              "      <th>Female</th>\n",
              "      <td>127.0</td>\n",
              "      <td>61480.31</td>\n",
              "      <td>25248.24</td>\n",
              "      <td>15000.0</td>\n",
              "      <td>44000.0</td>\n",
              "      <td>62000.0</td>\n",
              "      <td>79000.0</td>\n",
              "      <td>134000.0</td>\n",
              "    </tr>\n",
              "    <tr>\n",
              "      <th>Male</th>\n",
              "      <td>130.0</td>\n",
              "      <td>59630.77</td>\n",
              "      <td>23504.29</td>\n",
              "      <td>15000.0</td>\n",
              "      <td>43500.0</td>\n",
              "      <td>60500.0</td>\n",
              "      <td>76750.0</td>\n",
              "      <td>141000.0</td>\n",
              "    </tr>\n",
              "    <tr>\n",
              "      <th rowspan=\"2\" valign=\"top\">1</th>\n",
              "      <th>Female</th>\n",
              "      <td>77.0</td>\n",
              "      <td>88714.29</td>\n",
              "      <td>43123.10</td>\n",
              "      <td>20000.0</td>\n",
              "      <td>41000.0</td>\n",
              "      <td>96000.0</td>\n",
              "      <td>130000.0</td>\n",
              "      <td>150000.0</td>\n",
              "    </tr>\n",
              "    <tr>\n",
              "      <th>Male</th>\n",
              "      <td>66.0</td>\n",
              "      <td>83424.24</td>\n",
              "      <td>40937.12</td>\n",
              "      <td>20000.0</td>\n",
              "      <td>41250.0</td>\n",
              "      <td>87500.0</td>\n",
              "      <td>117750.0</td>\n",
              "      <td>150000.0</td>\n",
              "    </tr>\n",
              "  </tbody>\n",
              "</table>\n",
              "</div>"
            ],
            "text/plain": [
              "                  count      mean       std  ...      50%       75%       max\n",
              "Purchased Gender                             ...                             \n",
              "0         Female  127.0  61480.31  25248.24  ...  62000.0   79000.0  134000.0\n",
              "          Male    130.0  59630.77  23504.29  ...  60500.0   76750.0  141000.0\n",
              "1         Female   77.0  88714.29  43123.10  ...  96000.0  130000.0  150000.0\n",
              "          Male     66.0  83424.24  40937.12  ...  87500.0  117750.0  150000.0\n",
              "\n",
              "[4 rows x 8 columns]"
            ]
          },
          "metadata": {
            "tags": []
          },
          "execution_count": 30
        }
      ]
    },
    {
      "cell_type": "code",
      "metadata": {
        "id": "Tkezm-orkx4U",
        "colab_type": "code",
        "colab": {
          "base_uri": "https://localhost:8080/",
          "height": 237
        },
        "outputId": "3673b851-366a-4c3b-de1a-b5b5b146fd2e"
      },
      "source": [
        "ads[['Age', 'EstimatedSalary']].groupby([ads['Purchased'], ads['Gender']]).describe().round(2)"
      ],
      "execution_count": 31,
      "outputs": [
        {
          "output_type": "execute_result",
          "data": {
            "text/html": [
              "<div>\n",
              "<style scoped>\n",
              "    .dataframe tbody tr th:only-of-type {\n",
              "        vertical-align: middle;\n",
              "    }\n",
              "\n",
              "    .dataframe tbody tr th {\n",
              "        vertical-align: top;\n",
              "    }\n",
              "\n",
              "    .dataframe thead tr th {\n",
              "        text-align: left;\n",
              "    }\n",
              "\n",
              "    .dataframe thead tr:last-of-type th {\n",
              "        text-align: right;\n",
              "    }\n",
              "</style>\n",
              "<table border=\"1\" class=\"dataframe\">\n",
              "  <thead>\n",
              "    <tr>\n",
              "      <th></th>\n",
              "      <th></th>\n",
              "      <th colspan=\"8\" halign=\"left\">Age</th>\n",
              "      <th colspan=\"8\" halign=\"left\">EstimatedSalary</th>\n",
              "    </tr>\n",
              "    <tr>\n",
              "      <th></th>\n",
              "      <th></th>\n",
              "      <th>count</th>\n",
              "      <th>mean</th>\n",
              "      <th>std</th>\n",
              "      <th>min</th>\n",
              "      <th>25%</th>\n",
              "      <th>50%</th>\n",
              "      <th>75%</th>\n",
              "      <th>max</th>\n",
              "      <th>count</th>\n",
              "      <th>mean</th>\n",
              "      <th>std</th>\n",
              "      <th>min</th>\n",
              "      <th>25%</th>\n",
              "      <th>50%</th>\n",
              "      <th>75%</th>\n",
              "      <th>max</th>\n",
              "    </tr>\n",
              "    <tr>\n",
              "      <th>Purchased</th>\n",
              "      <th>Gender</th>\n",
              "      <th></th>\n",
              "      <th></th>\n",
              "      <th></th>\n",
              "      <th></th>\n",
              "      <th></th>\n",
              "      <th></th>\n",
              "      <th></th>\n",
              "      <th></th>\n",
              "      <th></th>\n",
              "      <th></th>\n",
              "      <th></th>\n",
              "      <th></th>\n",
              "      <th></th>\n",
              "      <th></th>\n",
              "      <th></th>\n",
              "      <th></th>\n",
              "    </tr>\n",
              "  </thead>\n",
              "  <tbody>\n",
              "    <tr>\n",
              "      <th rowspan=\"2\" valign=\"top\">0</th>\n",
              "      <th>Female</th>\n",
              "      <td>127.0</td>\n",
              "      <td>33.11</td>\n",
              "      <td>8.47</td>\n",
              "      <td>18.0</td>\n",
              "      <td>27.0</td>\n",
              "      <td>33.0</td>\n",
              "      <td>39.0</td>\n",
              "      <td>59.0</td>\n",
              "      <td>127.0</td>\n",
              "      <td>61480.31</td>\n",
              "      <td>25248.24</td>\n",
              "      <td>15000.0</td>\n",
              "      <td>44000.0</td>\n",
              "      <td>62000.0</td>\n",
              "      <td>79000.0</td>\n",
              "      <td>134000.0</td>\n",
              "    </tr>\n",
              "    <tr>\n",
              "      <th>Male</th>\n",
              "      <td>130.0</td>\n",
              "      <td>32.48</td>\n",
              "      <td>7.50</td>\n",
              "      <td>18.0</td>\n",
              "      <td>26.0</td>\n",
              "      <td>34.5</td>\n",
              "      <td>38.0</td>\n",
              "      <td>49.0</td>\n",
              "      <td>130.0</td>\n",
              "      <td>59630.77</td>\n",
              "      <td>23504.29</td>\n",
              "      <td>15000.0</td>\n",
              "      <td>43500.0</td>\n",
              "      <td>60500.0</td>\n",
              "      <td>76750.0</td>\n",
              "      <td>141000.0</td>\n",
              "    </tr>\n",
              "    <tr>\n",
              "      <th rowspan=\"2\" valign=\"top\">1</th>\n",
              "      <th>Female</th>\n",
              "      <td>77.0</td>\n",
              "      <td>47.16</td>\n",
              "      <td>8.46</td>\n",
              "      <td>27.0</td>\n",
              "      <td>42.0</td>\n",
              "      <td>48.0</td>\n",
              "      <td>53.0</td>\n",
              "      <td>60.0</td>\n",
              "      <td>77.0</td>\n",
              "      <td>88714.29</td>\n",
              "      <td>43123.10</td>\n",
              "      <td>20000.0</td>\n",
              "      <td>41000.0</td>\n",
              "      <td>96000.0</td>\n",
              "      <td>130000.0</td>\n",
              "      <td>150000.0</td>\n",
              "    </tr>\n",
              "    <tr>\n",
              "      <th>Male</th>\n",
              "      <td>66.0</td>\n",
              "      <td>45.50</td>\n",
              "      <td>8.76</td>\n",
              "      <td>28.0</td>\n",
              "      <td>39.0</td>\n",
              "      <td>46.0</td>\n",
              "      <td>50.5</td>\n",
              "      <td>60.0</td>\n",
              "      <td>66.0</td>\n",
              "      <td>83424.24</td>\n",
              "      <td>40937.12</td>\n",
              "      <td>20000.0</td>\n",
              "      <td>41250.0</td>\n",
              "      <td>87500.0</td>\n",
              "      <td>117750.0</td>\n",
              "      <td>150000.0</td>\n",
              "    </tr>\n",
              "  </tbody>\n",
              "</table>\n",
              "</div>"
            ],
            "text/plain": [
              "                    Age               ... EstimatedSalary                    \n",
              "                  count   mean   std  ...             50%       75%       max\n",
              "Purchased Gender                      ...                                    \n",
              "0         Female  127.0  33.11  8.47  ...         62000.0   79000.0  134000.0\n",
              "          Male    130.0  32.48  7.50  ...         60500.0   76750.0  141000.0\n",
              "1         Female   77.0  47.16  8.46  ...         96000.0  130000.0  150000.0\n",
              "          Male     66.0  45.50  8.76  ...         87500.0  117750.0  150000.0\n",
              "\n",
              "[4 rows x 16 columns]"
            ]
          },
          "metadata": {
            "tags": []
          },
          "execution_count": 31
        }
      ]
    },
    {
      "cell_type": "code",
      "metadata": {
        "id": "On8cS9sll-C_",
        "colab_type": "code",
        "colab": {
          "base_uri": "https://localhost:8080/",
          "height": 92
        },
        "outputId": "7aee6ccc-9c5a-4b93-bdb6-589495565218"
      },
      "source": [
        "ads['Age'].groupby(ads['Purchased']).mean()"
      ],
      "execution_count": 33,
      "outputs": [
        {
          "output_type": "execute_result",
          "data": {
            "text/plain": [
              "Purchased\n",
              "0    32.793774\n",
              "1    46.391608\n",
              "Name: Age, dtype: float64"
            ]
          },
          "metadata": {
            "tags": []
          },
          "execution_count": 33
        }
      ]
    },
    {
      "cell_type": "markdown",
      "metadata": {
        "id": "crbKs_m-llRR",
        "colab_type": "text"
      },
      "source": [
        "## Se quiséssemos fazer uma estimação de quem vai comprar pelo anuncio, baseado nessa análise de dados, o que seria razoável, sem fazer modelagem alguma?"
      ]
    },
    {
      "cell_type": "code",
      "metadata": {
        "id": "jgx8ITsOl0PB",
        "colab_type": "code",
        "colab": {
          "base_uri": "https://localhost:8080/",
          "height": 301
        },
        "outputId": "d24b80bf-4d5d-4288-cce1-76ffb020f634"
      },
      "source": [
        "ads.boxplot(column=['Age'], by='Purchased');"
      ],
      "execution_count": 34,
      "outputs": [
        {
          "output_type": "display_data",
          "data": {
            "image/png": "[encoded data removed]",
            "text/plain": [
              "<Figure size 432x288 with 1 Axes>"
            ]
          },
          "metadata": {
            "tags": [],
            "needs_background": "light"
          }
        }
      ]
    },
    {
      "cell_type": "code",
      "metadata": {
        "id": "UeZIUh8Gmamk",
        "colab_type": "code",
        "colab": {
          "base_uri": "https://localhost:8080/",
          "height": 301
        },
        "outputId": "fa93c7d1-9847-4278-b886-970da7efac0e"
      },
      "source": [
        "ads.boxplot(column=['EstimatedSalary'], by='Purchased');"
      ],
      "execution_count": 35,
      "outputs": [
        {
          "output_type": "display_data",
          "data": {
            "image/png": "[encoded data removed]",
            "text/plain": [
              "<Figure size 432x288 with 1 Axes>"
            ]
          },
          "metadata": {
            "tags": [],
            "needs_background": "light"
          }
        }
      ]
    },
    {
      "cell_type": "markdown",
      "metadata": {
        "id": "F7J9W4nenCON",
        "colab_type": "text"
      },
      "source": [
        "### Vamos fazer três testes e verificar qual deles tem maior acertividade!"
      ]
    },
    {
      "cell_type": "markdown",
      "metadata": {
        "id": "HBY5AI8JnSSD",
        "colab_type": "text"
      },
      "source": [
        "Teste 1: Se a idade for acima da média, então a pessoa é compradora, caso contrário, não é. "
      ]
    },
    {
      "cell_type": "code",
      "metadata": {
        "id": "hb7btCLboQ9F",
        "colab_type": "code",
        "colab": {
          "base_uri": "https://localhost:8080/",
          "height": 206
        },
        "outputId": "07ab9b98-e8ec-42f2-8d9a-47e17ba18b76"
      },
      "source": [
        "def aux1(x):\n",
        "    if x > ads['Age'].mean():\n",
        "        return 1\n",
        "    else:\n",
        "        return 0\n",
        "\n",
        "ads['Teste1'] = ads['Age'].apply(aux1)\n",
        "ads.head()"
      ],
      "execution_count": 36,
      "outputs": [
        {
          "output_type": "execute_result",
          "data": {
            "text/html": [
              "<div>\n",
              "<style scoped>\n",
              "    .dataframe tbody tr th:only-of-type {\n",
              "        vertical-align: middle;\n",
              "    }\n",
              "\n",
              "    .dataframe tbody tr th {\n",
              "        vertical-align: top;\n",
              "    }\n",
              "\n",
              "    .dataframe thead th {\n",
              "        text-align: right;\n",
              "    }\n",
              "</style>\n",
              "<table border=\"1\" class=\"dataframe\">\n",
              "  <thead>\n",
              "    <tr style=\"text-align: right;\">\n",
              "      <th></th>\n",
              "      <th>User ID</th>\n",
              "      <th>Gender</th>\n",
              "      <th>Age</th>\n",
              "      <th>EstimatedSalary</th>\n",
              "      <th>Purchased</th>\n",
              "      <th>Teste1</th>\n",
              "    </tr>\n",
              "  </thead>\n",
              "  <tbody>\n",
              "    <tr>\n",
              "      <th>0</th>\n",
              "      <td>15624510</td>\n",
              "      <td>Male</td>\n",
              "      <td>19.0</td>\n",
              "      <td>19000.0</td>\n",
              "      <td>0</td>\n",
              "      <td>0</td>\n",
              "    </tr>\n",
              "    <tr>\n",
              "      <th>1</th>\n",
              "      <td>15810944</td>\n",
              "      <td>Male</td>\n",
              "      <td>35.0</td>\n",
              "      <td>20000.0</td>\n",
              "      <td>0</td>\n",
              "      <td>0</td>\n",
              "    </tr>\n",
              "    <tr>\n",
              "      <th>2</th>\n",
              "      <td>15668575</td>\n",
              "      <td>Female</td>\n",
              "      <td>26.0</td>\n",
              "      <td>43000.0</td>\n",
              "      <td>0</td>\n",
              "      <td>0</td>\n",
              "    </tr>\n",
              "    <tr>\n",
              "      <th>3</th>\n",
              "      <td>15603246</td>\n",
              "      <td>Female</td>\n",
              "      <td>27.0</td>\n",
              "      <td>57000.0</td>\n",
              "      <td>0</td>\n",
              "      <td>0</td>\n",
              "    </tr>\n",
              "    <tr>\n",
              "      <th>4</th>\n",
              "      <td>15804002</td>\n",
              "      <td>Male</td>\n",
              "      <td>19.0</td>\n",
              "      <td>76000.0</td>\n",
              "      <td>0</td>\n",
              "      <td>0</td>\n",
              "    </tr>\n",
              "  </tbody>\n",
              "</table>\n",
              "</div>"
            ],
            "text/plain": [
              "    User ID  Gender   Age  EstimatedSalary  Purchased  Teste1\n",
              "0  15624510    Male  19.0          19000.0          0       0\n",
              "1  15810944    Male  35.0          20000.0          0       0\n",
              "2  15668575  Female  26.0          43000.0          0       0\n",
              "3  15603246  Female  27.0          57000.0          0       0\n",
              "4  15804002    Male  19.0          76000.0          0       0"
            ]
          },
          "metadata": {
            "tags": []
          },
          "execution_count": 36
        }
      ]
    },
    {
      "cell_type": "code",
      "metadata": {
        "id": "IiNXhNvcopNA",
        "colab_type": "code",
        "colab": {
          "base_uri": "https://localhost:8080/",
          "height": 92
        },
        "outputId": "c1a01bcb-d773-4e4a-8134-8349cfdac043"
      },
      "source": [
        "ads['Purchased'].groupby(ads['Teste1']).mean()"
      ],
      "execution_count": 37,
      "outputs": [
        {
          "output_type": "execute_result",
          "data": {
            "text/plain": [
              "Teste1\n",
              "0    0.138095\n",
              "1    0.600000\n",
              "Name: Purchased, dtype: float64"
            ]
          },
          "metadata": {
            "tags": []
          },
          "execution_count": 37
        }
      ]
    },
    {
      "cell_type": "markdown",
      "metadata": {
        "id": "K1SirNgdncAh",
        "colab_type": "text"
      },
      "source": [
        "Teste 2: Se o salário estimado for acima da média, então a pessoa é compradora, caso contrário, não é. "
      ]
    },
    {
      "cell_type": "code",
      "metadata": {
        "id": "YQDJmtQ9oRaY",
        "colab_type": "code",
        "colab": {
          "base_uri": "https://localhost:8080/",
          "height": 206
        },
        "outputId": "5f5fd608-0860-498f-ef9a-0fb5e2ad094f"
      },
      "source": [
        "ads['Teste2'] = 0\n",
        "ads.loc[ads['EstimatedSalary'] > ads['EstimatedSalary'].mean(), 'Teste2'] = 1\n",
        "ads.head()"
      ],
      "execution_count": 38,
      "outputs": [
        {
          "output_type": "execute_result",
          "data": {
            "text/html": [
              "<div>\n",
              "<style scoped>\n",
              "    .dataframe tbody tr th:only-of-type {\n",
              "        vertical-align: middle;\n",
              "    }\n",
              "\n",
              "    .dataframe tbody tr th {\n",
              "        vertical-align: top;\n",
              "    }\n",
              "\n",
              "    .dataframe thead th {\n",
              "        text-align: right;\n",
              "    }\n",
              "</style>\n",
              "<table border=\"1\" class=\"dataframe\">\n",
              "  <thead>\n",
              "    <tr style=\"text-align: right;\">\n",
              "      <th></th>\n",
              "      <th>User ID</th>\n",
              "      <th>Gender</th>\n",
              "      <th>Age</th>\n",
              "      <th>EstimatedSalary</th>\n",
              "      <th>Purchased</th>\n",
              "      <th>Teste1</th>\n",
              "      <th>Teste2</th>\n",
              "    </tr>\n",
              "  </thead>\n",
              "  <tbody>\n",
              "    <tr>\n",
              "      <th>0</th>\n",
              "      <td>15624510</td>\n",
              "      <td>Male</td>\n",
              "      <td>19.0</td>\n",
              "      <td>19000.0</td>\n",
              "      <td>0</td>\n",
              "      <td>0</td>\n",
              "      <td>0</td>\n",
              "    </tr>\n",
              "    <tr>\n",
              "      <th>1</th>\n",
              "      <td>15810944</td>\n",
              "      <td>Male</td>\n",
              "      <td>35.0</td>\n",
              "      <td>20000.0</td>\n",
              "      <td>0</td>\n",
              "      <td>0</td>\n",
              "      <td>0</td>\n",
              "    </tr>\n",
              "    <tr>\n",
              "      <th>2</th>\n",
              "      <td>15668575</td>\n",
              "      <td>Female</td>\n",
              "      <td>26.0</td>\n",
              "      <td>43000.0</td>\n",
              "      <td>0</td>\n",
              "      <td>0</td>\n",
              "      <td>0</td>\n",
              "    </tr>\n",
              "    <tr>\n",
              "      <th>3</th>\n",
              "      <td>15603246</td>\n",
              "      <td>Female</td>\n",
              "      <td>27.0</td>\n",
              "      <td>57000.0</td>\n",
              "      <td>0</td>\n",
              "      <td>0</td>\n",
              "      <td>0</td>\n",
              "    </tr>\n",
              "    <tr>\n",
              "      <th>4</th>\n",
              "      <td>15804002</td>\n",
              "      <td>Male</td>\n",
              "      <td>19.0</td>\n",
              "      <td>76000.0</td>\n",
              "      <td>0</td>\n",
              "      <td>0</td>\n",
              "      <td>1</td>\n",
              "    </tr>\n",
              "  </tbody>\n",
              "</table>\n",
              "</div>"
            ],
            "text/plain": [
              "    User ID  Gender   Age  EstimatedSalary  Purchased  Teste1  Teste2\n",
              "0  15624510    Male  19.0          19000.0          0       0       0\n",
              "1  15810944    Male  35.0          20000.0          0       0       0\n",
              "2  15668575  Female  26.0          43000.0          0       0       0\n",
              "3  15603246  Female  27.0          57000.0          0       0       0\n",
              "4  15804002    Male  19.0          76000.0          0       0       1"
            ]
          },
          "metadata": {
            "tags": []
          },
          "execution_count": 38
        }
      ]
    },
    {
      "cell_type": "code",
      "metadata": {
        "id": "Te2m37IcpIyF",
        "colab_type": "code",
        "colab": {
          "base_uri": "https://localhost:8080/",
          "height": 92
        },
        "outputId": "298005c4-584a-4d92-822a-9ea51aa38a11"
      },
      "source": [
        "ads['Purchased'].groupby(ads['Teste2']).mean()"
      ],
      "execution_count": 39,
      "outputs": [
        {
          "output_type": "execute_result",
          "data": {
            "text/plain": [
              "Teste2\n",
              "0    0.236181\n",
              "1    0.477612\n",
              "Name: Purchased, dtype: float64"
            ]
          },
          "metadata": {
            "tags": []
          },
          "execution_count": 39
        }
      ]
    },
    {
      "cell_type": "markdown",
      "metadata": {
        "id": "QhWU4l1fPRLj",
        "colab_type": "text"
      },
      "source": [
        "Vamos investigar mais a fundo esse conjunto de dados. Para isso, vamos fazer rapidamente um gráfico para dar uma ideia do que temos em mãos"
      ]
    },
    {
      "cell_type": "code",
      "metadata": {
        "id": "QH7MQr0HPobe",
        "colab_type": "code",
        "colab": {
          "base_uri": "https://localhost:8080/",
          "height": 388
        },
        "outputId": "4a7380f2-982c-44bd-b567-cc806edcd461"
      },
      "source": [
        "import seaborn as sns\n",
        "import matplotlib.pyplot as plt\n",
        "\n",
        "plt.figure(figsize = (9,6))\n",
        "sns.scatterplot(x = ads['Age'], y = ads['EstimatedSalary'], hue = ads['Purchased']);\n",
        "plt.axvline(44.5, color = 'black', linestyle = 'dashed')\n",
        "plt.axhline(92000, color = 'black', linestyle = 'dashed') \n",
        "plt.show()"
      ],
      "execution_count": 43,
      "outputs": [
        {
          "output_type": "display_data",
          "data": {
            "image/png": "[encoded data removed]",
            "text/plain": [
              "<Figure size 648x432 with 1 Axes>"
            ]
          },
          "metadata": {
            "tags": [],
            "needs_background": "light"
          }
        }
      ]
    },
    {
      "cell_type": "markdown",
      "metadata": {
        "id": "lDmOoOihndXn",
        "colab_type": "text"
      },
      "source": [
        "Teste 3: Se a idade for maior que 44.5 ou o salário estimado for acima de 90000, então a pessoa é compradora, caso contrário, não é. "
      ]
    },
    {
      "cell_type": "code",
      "metadata": {
        "id": "9NO04HYWqPr8",
        "colab_type": "code",
        "colab": {}
      },
      "source": [
        "ads['Teste3'] = 1\n",
        "ads.loc[(ads['Age'] < 44.5) & (ads['EstimatedSalary'] < 92000), 'Teste3'] = 0"
      ],
      "execution_count": 44,
      "outputs": []
    },
    {
      "cell_type": "code",
      "metadata": {
        "id": "u7P98LfXDcVt",
        "colab_type": "code",
        "colab": {
          "base_uri": "https://localhost:8080/",
          "height": 92
        },
        "outputId": "8f6b08ca-fbf2-45c2-a2dc-09fae423d546"
      },
      "source": [
        "ads['Purchased'].groupby(ads['Teste3']).mean()"
      ],
      "execution_count": 45,
      "outputs": [
        {
          "output_type": "execute_result",
          "data": {
            "text/plain": [
              "Teste3\n",
              "0    0.041152\n",
              "1    0.847134\n",
              "Name: Purchased, dtype: float64"
            ]
          },
          "metadata": {
            "tags": []
          },
          "execution_count": 45
        }
      ]
    },
    {
      "cell_type": "markdown",
      "metadata": {
        "id": "-cEq-S3Bq2LD",
        "colab_type": "text"
      },
      "source": [
        "## Calculando a ACURÁCIA (TAXA DE ACERTO)"
      ]
    },
    {
      "cell_type": "code",
      "metadata": {
        "id": "e-VxON9vq_ij",
        "colab_type": "code",
        "colab": {
          "base_uri": "https://localhost:8080/",
          "height": 36
        },
        "outputId": "af349d01-372f-4869-9feb-8807dcb0c186"
      },
      "source": [
        "(ads['Purchased'] == ads['Teste1']).mean()"
      ],
      "execution_count": 46,
      "outputs": [
        {
          "output_type": "execute_result",
          "data": {
            "text/plain": [
              "0.7375"
            ]
          },
          "metadata": {
            "tags": []
          },
          "execution_count": 46
        }
      ]
    },
    {
      "cell_type": "code",
      "metadata": {
        "id": "OMlYsBpYrC9x",
        "colab_type": "code",
        "colab": {
          "base_uri": "https://localhost:8080/",
          "height": 36
        },
        "outputId": "0080c737-8ede-460b-a536-4cd644364357"
      },
      "source": [
        "(ads['Purchased'] == ads['Teste2']).mean()"
      ],
      "execution_count": 47,
      "outputs": [
        {
          "output_type": "execute_result",
          "data": {
            "text/plain": [
              "0.62"
            ]
          },
          "metadata": {
            "tags": []
          },
          "execution_count": 47
        }
      ]
    },
    {
      "cell_type": "code",
      "metadata": {
        "id": "_EEDe4q-rJEi",
        "colab_type": "code",
        "colab": {
          "base_uri": "https://localhost:8080/",
          "height": 36
        },
        "outputId": "52c05655-ba33-4e3c-f855-c86030e6c6af"
      },
      "source": [
        "(ads['Purchased'] == ads['Teste3']).mean()"
      ],
      "execution_count": 48,
      "outputs": [
        {
          "output_type": "execute_result",
          "data": {
            "text/plain": [
              "0.915"
            ]
          },
          "metadata": {
            "tags": []
          },
          "execution_count": 48
        }
      ]
    },
    {
      "cell_type": "markdown",
      "metadata": {
        "id": "mvUKy4HyrLGj",
        "colab_type": "text"
      },
      "source": [
        "## **Conclusão:** Um preditor com 91,5% de acerto para a variável Purchased é dizer que uma pessoa é compradora se sua idade for maior que 45 ou se seu salário estimado for superior a 92000, e não compradora no caso contrário."
      ]
    },
    {
      "cell_type": "markdown",
      "metadata": {
        "id": "vWqIxl5csmVS",
        "colab_type": "text"
      },
      "source": [
        "## **Exercício 7:** Carregue os dados do Titanic com nome de 'train.csv', disponivel nesse link https://github.com/ricardorocha86/Datasets/tree/master/Titanic. \n",
        "\n",
        "Utilizando o método isnull(), verifique se há dados faltantes no conjunto de dados. Se tiver, faça a substituição deles por valores pertinentes de acordo com as seguintes instruções: \n",
        "- Se tiver mais de 50% de dados faltantes, retire a variável do conjunto de dados\n",
        "- Se tiver menos de 50% e a variável for categórica, atribua aos valores faltantes a moda da variável. \n",
        "- Se tiver menos de 50% e a variável for contínua, atribua aos valores faltantes a média da variável. "
      ]
    }
  ]
}